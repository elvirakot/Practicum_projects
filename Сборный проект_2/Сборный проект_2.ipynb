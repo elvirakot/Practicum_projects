{
 "cells": [
  {
   "cell_type": "markdown",
   "metadata": {},
   "source": [
    "# Сборный проект №2\n",
    "\n",
    "**Контекст:** Cтартап, который продаёт продукты питания. Необхожимо разобраться, как ведут себя пользователи мобильного приложения.\n",
    "\n",
    "**Задачи:** Изучим воронку продаж. Узнаем, как пользователи доходят до покупки. Сколько пользователей доходит до покупки, а сколько — «застревает» на предыдущих шагах? На каких именно?\n",
    "После этого исследуем результаты A/A/B-эксперимента. Дизайнеры захотели поменять шрифты во всём приложении, а менеджеры испугались, что пользователям будет непривычно. Договорились принять решение по результатам A/A/B-теста. Пользователей разбили на 3 группы: 2 контрольные со старыми шрифтами и одну экспериментальную — с новыми. Выясним, какой шрифт лучше.\n",
    "\n",
    "**Описание данных:**\n",
    "- EventName — название события;\n",
    "- DeviceIDHash — уникальный идентификатор пользователя;\n",
    "- EventTimestamp — время события;\n",
    "- ExpId — номер эксперимента: 246 и 247 — контрольные группы, а 248 — экспериментальная."
   ]
  },
  {
   "cell_type": "markdown",
   "metadata": {},
   "source": [
    "**Содержание:**\n",
    "1. [Загрузка данных и изучение общей информации](#chapter1)\n",
    "2. [Предобработка данных](#chapter2)\n",
    "3. [Изучим и проверим данные](#chapter3)\n",
    "4. [Изучим воронку событий](#chapter4)\n",
    "5. [Изучим результаты эксперимента](#chapter5)\n",
    "6. [Общий вывод](#chapter6)"
   ]
  },
  {
   "cell_type": "code",
   "execution_count": 1,
   "metadata": {},
   "outputs": [],
   "source": [
    "import pandas as pd\n",
    "import datetime as dt \n",
    "import numpy as np \n",
    "import math as mth\n",
    "import matplotlib.pyplot as plt\n",
    "from scipy import stats as st "
   ]
  },
  {
   "cell_type": "markdown",
   "metadata": {},
   "source": [
    "<a id=\"chapter1\"></a>\n",
    "\n",
    "###  Загрузка данных и изучение общей информации"
   ]
  },
  {
   "cell_type": "code",
   "execution_count": 2,
   "metadata": {},
   "outputs": [
    {
     "name": "stdout",
     "output_type": "stream",
     "text": [
      "---------Первые 5 строк-----------\n"
     ]
    },
    {
     "data": {
      "text/html": [
       "<div>\n",
       "<style scoped>\n",
       "    .dataframe tbody tr th:only-of-type {\n",
       "        vertical-align: middle;\n",
       "    }\n",
       "\n",
       "    .dataframe tbody tr th {\n",
       "        vertical-align: top;\n",
       "    }\n",
       "\n",
       "    .dataframe thead th {\n",
       "        text-align: right;\n",
       "    }\n",
       "</style>\n",
       "<table border=\"1\" class=\"dataframe\">\n",
       "  <thead>\n",
       "    <tr style=\"text-align: right;\">\n",
       "      <th></th>\n",
       "      <th>EventName</th>\n",
       "      <th>DeviceIDHash</th>\n",
       "      <th>EventTimestamp</th>\n",
       "      <th>ExpId</th>\n",
       "    </tr>\n",
       "  </thead>\n",
       "  <tbody>\n",
       "    <tr>\n",
       "      <th>0</th>\n",
       "      <td>MainScreenAppear</td>\n",
       "      <td>4575588528974610257</td>\n",
       "      <td>1564029816</td>\n",
       "      <td>246</td>\n",
       "    </tr>\n",
       "    <tr>\n",
       "      <th>1</th>\n",
       "      <td>MainScreenAppear</td>\n",
       "      <td>7416695313311560658</td>\n",
       "      <td>1564053102</td>\n",
       "      <td>246</td>\n",
       "    </tr>\n",
       "    <tr>\n",
       "      <th>2</th>\n",
       "      <td>PaymentScreenSuccessful</td>\n",
       "      <td>3518123091307005509</td>\n",
       "      <td>1564054127</td>\n",
       "      <td>248</td>\n",
       "    </tr>\n",
       "    <tr>\n",
       "      <th>3</th>\n",
       "      <td>CartScreenAppear</td>\n",
       "      <td>3518123091307005509</td>\n",
       "      <td>1564054127</td>\n",
       "      <td>248</td>\n",
       "    </tr>\n",
       "    <tr>\n",
       "      <th>4</th>\n",
       "      <td>PaymentScreenSuccessful</td>\n",
       "      <td>6217807653094995999</td>\n",
       "      <td>1564055322</td>\n",
       "      <td>248</td>\n",
       "    </tr>\n",
       "  </tbody>\n",
       "</table>\n",
       "</div>"
      ],
      "text/plain": [
       "                 EventName         DeviceIDHash  EventTimestamp  ExpId\n",
       "0         MainScreenAppear  4575588528974610257      1564029816    246\n",
       "1         MainScreenAppear  7416695313311560658      1564053102    246\n",
       "2  PaymentScreenSuccessful  3518123091307005509      1564054127    248\n",
       "3         CartScreenAppear  3518123091307005509      1564054127    248\n",
       "4  PaymentScreenSuccessful  6217807653094995999      1564055322    248"
      ]
     },
     "metadata": {},
     "output_type": "display_data"
    },
    {
     "name": "stdout",
     "output_type": "stream",
     "text": [
      "---------Основная информация о датафрейме---------------\n",
      "\n",
      "<class 'pandas.core.frame.DataFrame'>\n",
      "RangeIndex: 244126 entries, 0 to 244125\n",
      "Data columns (total 4 columns):\n",
      " #   Column          Non-Null Count   Dtype \n",
      "---  ------          --------------   ----- \n",
      " 0   EventName       244126 non-null  object\n",
      " 1   DeviceIDHash    244126 non-null  int64 \n",
      " 2   EventTimestamp  244126 non-null  int64 \n",
      " 3   ExpId           244126 non-null  int64 \n",
      "dtypes: int64(3), object(1)\n",
      "memory usage: 7.5+ MB\n"
     ]
    },
    {
     "data": {
      "text/plain": [
       "None"
      ]
     },
     "metadata": {},
     "output_type": "display_data"
    },
    {
     "name": "stdout",
     "output_type": "stream",
     "text": [
      "---------Пропуски-----------\n",
      "\n"
     ]
    },
    {
     "data": {
      "text/plain": [
       "EventName         0\n",
       "DeviceIDHash      0\n",
       "EventTimestamp    0\n",
       "ExpId             0\n",
       "dtype: int64"
      ]
     },
     "metadata": {},
     "output_type": "display_data"
    },
    {
     "name": "stdout",
     "output_type": "stream",
     "text": [
      "\n",
      "---------Явные дубликаты-----------\n",
      "\n",
      "Явных дубликатов: 413\n"
     ]
    }
   ],
   "source": [
    "logs = pd.read_csv('/datasets/logs_exp.csv', sep='\\t')\n",
    "def first_look (data):\n",
    "    print('---------Первые 5 строк-----------')\n",
    "    display(data.head())\n",
    "    print('---------Основная информация о датафрейме---------------\\n')\n",
    "    display(data.info())\n",
    "    print('---------Пропуски-----------\\n')\n",
    "    display(data.isna().sum())\n",
    "    print('\\n---------Явные дубликаты-----------\\n')\n",
    "    if data.duplicated().sum() > 0:\n",
    "        print('Явных дубликатов:', data.duplicated().sum())\n",
    "    else:\n",
    "        print('Явных дубликатов НЕТ')\n",
    "first_look (logs)"
   ]
  },
  {
   "cell_type": "markdown",
   "metadata": {},
   "source": [
    "**Общий вывод по разделу**\n",
    "- В данных нет пропусков;\n",
    "- Необходимо изменить названия столбцов;\n",
    "- Столбц EventTimestamp необходио привести к формату дат;\n",
    "- Необходимо удалить явные дубликаты."
   ]
  },
  {
   "cell_type": "markdown",
   "metadata": {},
   "source": [
    "<a id=\"chapter2\"></a>\n",
    "\n",
    "### Предобработка данных\n",
    "**2.1 Изменим названия колонок**"
   ]
  },
  {
   "cell_type": "code",
   "execution_count": 3,
   "metadata": {},
   "outputs": [
    {
     "name": "stdout",
     "output_type": "stream",
     "text": [
      "<class 'pandas.core.frame.DataFrame'>\n",
      "RangeIndex: 244126 entries, 0 to 244125\n",
      "Data columns (total 4 columns):\n",
      " #   Column           Non-Null Count   Dtype \n",
      "---  ------           --------------   ----- \n",
      " 0   event_name       244126 non-null  object\n",
      " 1   user_id          244126 non-null  int64 \n",
      " 2   event_timestamp  244126 non-null  int64 \n",
      " 3   exp_id           244126 non-null  int64 \n",
      "dtypes: int64(3), object(1)\n",
      "memory usage: 7.5+ MB\n"
     ]
    }
   ],
   "source": [
    "logs = logs.rename(columns={'EventName': 'event_name', 'DeviceIDHash': 'user_id', 'EventTimestamp': 'event_timestamp',\\\n",
    "                            'ExpId': 'exp_id'})\n",
    "logs.info()"
   ]
  },
  {
   "cell_type": "markdown",
   "metadata": {},
   "source": [
    "**2.2 Удалим явные дубликаты**"
   ]
  },
  {
   "cell_type": "code",
   "execution_count": 4,
   "metadata": {
    "scrolled": true
   },
   "outputs": [
    {
     "data": {
      "text/plain": [
       "0"
      ]
     },
     "metadata": {},
     "output_type": "display_data"
    },
    {
     "data": {
      "text/html": [
       "<div>\n",
       "<style scoped>\n",
       "    .dataframe tbody tr th:only-of-type {\n",
       "        vertical-align: middle;\n",
       "    }\n",
       "\n",
       "    .dataframe tbody tr th {\n",
       "        vertical-align: top;\n",
       "    }\n",
       "\n",
       "    .dataframe thead th {\n",
       "        text-align: right;\n",
       "    }\n",
       "</style>\n",
       "<table border=\"1\" class=\"dataframe\">\n",
       "  <thead>\n",
       "    <tr style=\"text-align: right;\">\n",
       "      <th></th>\n",
       "      <th>event_name</th>\n",
       "      <th>user_id</th>\n",
       "      <th>event_timestamp</th>\n",
       "      <th>exp_id</th>\n",
       "    </tr>\n",
       "  </thead>\n",
       "  <tbody>\n",
       "    <tr>\n",
       "      <th>0</th>\n",
       "      <td>MainScreenAppear</td>\n",
       "      <td>4575588528974610257</td>\n",
       "      <td>1564029816</td>\n",
       "      <td>246</td>\n",
       "    </tr>\n",
       "    <tr>\n",
       "      <th>1</th>\n",
       "      <td>MainScreenAppear</td>\n",
       "      <td>7416695313311560658</td>\n",
       "      <td>1564053102</td>\n",
       "      <td>246</td>\n",
       "    </tr>\n",
       "    <tr>\n",
       "      <th>2</th>\n",
       "      <td>PaymentScreenSuccessful</td>\n",
       "      <td>3518123091307005509</td>\n",
       "      <td>1564054127</td>\n",
       "      <td>248</td>\n",
       "    </tr>\n",
       "    <tr>\n",
       "      <th>3</th>\n",
       "      <td>CartScreenAppear</td>\n",
       "      <td>3518123091307005509</td>\n",
       "      <td>1564054127</td>\n",
       "      <td>248</td>\n",
       "    </tr>\n",
       "    <tr>\n",
       "      <th>4</th>\n",
       "      <td>PaymentScreenSuccessful</td>\n",
       "      <td>6217807653094995999</td>\n",
       "      <td>1564055322</td>\n",
       "      <td>248</td>\n",
       "    </tr>\n",
       "  </tbody>\n",
       "</table>\n",
       "</div>"
      ],
      "text/plain": [
       "                event_name              user_id  event_timestamp  exp_id\n",
       "0         MainScreenAppear  4575588528974610257       1564029816     246\n",
       "1         MainScreenAppear  7416695313311560658       1564053102     246\n",
       "2  PaymentScreenSuccessful  3518123091307005509       1564054127     248\n",
       "3         CartScreenAppear  3518123091307005509       1564054127     248\n",
       "4  PaymentScreenSuccessful  6217807653094995999       1564055322     248"
      ]
     },
     "execution_count": 4,
     "metadata": {},
     "output_type": "execute_result"
    }
   ],
   "source": [
    "logs = logs.drop_duplicates().reset_index(drop=True)\n",
    "\n",
    "display(logs.duplicated().sum())\n",
    "logs.head()"
   ]
  },
  {
   "cell_type": "markdown",
   "metadata": {},
   "source": [
    "**2.3 Изменим типа данных стобца event_timestamp и добавим еще одну колонку с датами**"
   ]
  },
  {
   "cell_type": "code",
   "execution_count": 5,
   "metadata": {},
   "outputs": [
    {
     "data": {
      "text/html": [
       "<div>\n",
       "<style scoped>\n",
       "    .dataframe tbody tr th:only-of-type {\n",
       "        vertical-align: middle;\n",
       "    }\n",
       "\n",
       "    .dataframe tbody tr th {\n",
       "        vertical-align: top;\n",
       "    }\n",
       "\n",
       "    .dataframe thead th {\n",
       "        text-align: right;\n",
       "    }\n",
       "</style>\n",
       "<table border=\"1\" class=\"dataframe\">\n",
       "  <thead>\n",
       "    <tr style=\"text-align: right;\">\n",
       "      <th></th>\n",
       "      <th>event_name</th>\n",
       "      <th>user_id</th>\n",
       "      <th>event_timestamp</th>\n",
       "      <th>exp_id</th>\n",
       "      <th>date</th>\n",
       "    </tr>\n",
       "  </thead>\n",
       "  <tbody>\n",
       "    <tr>\n",
       "      <th>0</th>\n",
       "      <td>MainScreenAppear</td>\n",
       "      <td>4575588528974610257</td>\n",
       "      <td>2019-07-25 04:43:36</td>\n",
       "      <td>246</td>\n",
       "      <td>2019-07-25</td>\n",
       "    </tr>\n",
       "    <tr>\n",
       "      <th>1</th>\n",
       "      <td>MainScreenAppear</td>\n",
       "      <td>7416695313311560658</td>\n",
       "      <td>2019-07-25 11:11:42</td>\n",
       "      <td>246</td>\n",
       "      <td>2019-07-25</td>\n",
       "    </tr>\n",
       "    <tr>\n",
       "      <th>2</th>\n",
       "      <td>PaymentScreenSuccessful</td>\n",
       "      <td>3518123091307005509</td>\n",
       "      <td>2019-07-25 11:28:47</td>\n",
       "      <td>248</td>\n",
       "      <td>2019-07-25</td>\n",
       "    </tr>\n",
       "    <tr>\n",
       "      <th>3</th>\n",
       "      <td>CartScreenAppear</td>\n",
       "      <td>3518123091307005509</td>\n",
       "      <td>2019-07-25 11:28:47</td>\n",
       "      <td>248</td>\n",
       "      <td>2019-07-25</td>\n",
       "    </tr>\n",
       "    <tr>\n",
       "      <th>4</th>\n",
       "      <td>PaymentScreenSuccessful</td>\n",
       "      <td>6217807653094995999</td>\n",
       "      <td>2019-07-25 11:48:42</td>\n",
       "      <td>248</td>\n",
       "      <td>2019-07-25</td>\n",
       "    </tr>\n",
       "  </tbody>\n",
       "</table>\n",
       "</div>"
      ],
      "text/plain": [
       "                event_name              user_id     event_timestamp  exp_id  \\\n",
       "0         MainScreenAppear  4575588528974610257 2019-07-25 04:43:36     246   \n",
       "1         MainScreenAppear  7416695313311560658 2019-07-25 11:11:42     246   \n",
       "2  PaymentScreenSuccessful  3518123091307005509 2019-07-25 11:28:47     248   \n",
       "3         CartScreenAppear  3518123091307005509 2019-07-25 11:28:47     248   \n",
       "4  PaymentScreenSuccessful  6217807653094995999 2019-07-25 11:48:42     248   \n",
       "\n",
       "        date  \n",
       "0 2019-07-25  \n",
       "1 2019-07-25  \n",
       "2 2019-07-25  \n",
       "3 2019-07-25  \n",
       "4 2019-07-25  "
      ]
     },
     "execution_count": 5,
     "metadata": {},
     "output_type": "execute_result"
    }
   ],
   "source": [
    "logs['event_timestamp'] = pd.to_datetime(logs['event_timestamp'], unit='s')\n",
    "logs['date'] = pd.to_datetime(logs['event_timestamp'].dt.date)\n",
    "logs.head()"
   ]
  },
  {
   "cell_type": "code",
   "execution_count": 6,
   "metadata": {},
   "outputs": [
    {
     "name": "stdout",
     "output_type": "stream",
     "text": [
      "<class 'pandas.core.frame.DataFrame'>\n",
      "RangeIndex: 243713 entries, 0 to 243712\n",
      "Data columns (total 5 columns):\n",
      " #   Column           Non-Null Count   Dtype         \n",
      "---  ------           --------------   -----         \n",
      " 0   event_name       243713 non-null  object        \n",
      " 1   user_id          243713 non-null  int64         \n",
      " 2   event_timestamp  243713 non-null  datetime64[ns]\n",
      " 3   exp_id           243713 non-null  int64         \n",
      " 4   date             243713 non-null  datetime64[ns]\n",
      "dtypes: datetime64[ns](2), int64(2), object(1)\n",
      "memory usage: 9.3+ MB\n"
     ]
    }
   ],
   "source": [
    "logs.info()"
   ]
  },
  {
   "cell_type": "markdown",
   "metadata": {},
   "source": [
    "**Общий вывод по разделу:**\n",
    "\n",
    "- Изменили названия столбцов;\n",
    "- Удалили явные дубликаты;\n",
    "- Изменили тип данных стобца event_timestamp; \n",
    "- Добавили еще одну колонку с датами date."
   ]
  },
  {
   "cell_type": "markdown",
   "metadata": {},
   "source": [
    "<a id=\"chapter3\"></a>\n",
    "\n",
    "###  Изучим и проверим данные"
   ]
  },
  {
   "cell_type": "markdown",
   "metadata": {},
   "source": [
    "**3.1 Узнаем сколько всего событий в логе**"
   ]
  },
  {
   "cell_type": "code",
   "execution_count": 7,
   "metadata": {},
   "outputs": [
    {
     "name": "stdout",
     "output_type": "stream",
     "text": [
      "Всего событий в логе: 243713\n"
     ]
    }
   ],
   "source": [
    "len_event_name = len(logs['event_name'])\n",
    "print(f'Всего событий в логе: {len_event_name}')"
   ]
  },
  {
   "cell_type": "markdown",
   "metadata": {},
   "source": [
    "**3.2 Узнаем сколько всего пользователей в логе**"
   ]
  },
  {
   "cell_type": "code",
   "execution_count": 8,
   "metadata": {},
   "outputs": [
    {
     "name": "stdout",
     "output_type": "stream",
     "text": [
      "Всего пользователей в логе: 7551\n"
     ]
    }
   ],
   "source": [
    "nunique_user_id = logs['user_id'].nunique()\n",
    "print(f'Всего пользователей в логе: {nunique_user_id}')"
   ]
  },
  {
   "cell_type": "markdown",
   "metadata": {},
   "source": [
    "**3.3 Узнаем сколько в среднем событий приходится на пользователя**"
   ]
  },
  {
   "cell_type": "code",
   "execution_count": 9,
   "metadata": {},
   "outputs": [
    {
     "name": "stdout",
     "output_type": "stream",
     "text": [
      "Среднее количество событий на пользователя: 20.0\n"
     ]
    }
   ],
   "source": [
    "median_event_name = logs.groupby('user_id')['event_name'].agg('count').median()\n",
    "print(f'Среднее количество событий на пользователя: {median_event_name}')"
   ]
  },
  {
   "cell_type": "markdown",
   "metadata": {},
   "source": [
    "**3.4 Найдем период за который располагаем данными**"
   ]
  },
  {
   "cell_type": "code",
   "execution_count": 10,
   "metadata": {},
   "outputs": [
    {
     "name": "stdout",
     "output_type": "stream",
     "text": [
      "Максимальная дата: 2019-08-07 00:00:00\n"
     ]
    }
   ],
   "source": [
    "max_date = logs['date'].max()\n",
    "print(f'Максимальная дата: {max_date}')"
   ]
  },
  {
   "cell_type": "code",
   "execution_count": 11,
   "metadata": {},
   "outputs": [
    {
     "name": "stdout",
     "output_type": "stream",
     "text": [
      "Минимальная дата: 2019-07-25 00:00:00\n"
     ]
    }
   ],
   "source": [
    "min_date = logs['date'].min()\n",
    "print(f'Минимальная дата: {min_date}')"
   ]
  },
  {
   "cell_type": "markdown",
   "metadata": {},
   "source": [
    "**3.4.1 Построим столбчатую диаграмму, которая отобразит количество событий в зависимости от времени в разрезе групп**"
   ]
  },
  {
   "cell_type": "code",
   "execution_count": 12,
   "metadata": {},
   "outputs": [
    {
     "data": {
      "image/png": "[encoded data removed]",
      "text/plain": [
       "<Figure size 864x432 with 1 Axes>"
      ]
     },
     "metadata": {
      "needs_background": "light"
     },
     "output_type": "display_data"
    }
   ],
   "source": [
    "# Подсчет количества событий по датам и группам\n",
    "grouped_data = logs.groupby(['date', 'exp_id']).size().reset_index(name='event_count')\n",
    "\n",
    "# Поворот столбца даты для удобства\n",
    "grouped_data['date'] = pd.to_datetime(grouped_data['date']).dt.date\n",
    "\n",
    "# Уникальные значения для групп\n",
    "unique_exp_ids = grouped_data['exp_id'].unique()\n",
    "\n",
    "# Подготовка данных для группового барплота\n",
    "pivot_data = grouped_data.pivot(index='date', columns='exp_id', values='event_count').fillna(0)\n",
    "\n",
    "# Построение группового барплота\n",
    "pivot_data.plot(kind='bar', figsize=(12, 6), alpha=0.7)\n",
    "\n",
    "# Настройка графика\n",
    "plt.title('Количество событий в зависимости от времени и групп')\n",
    "plt.xlabel('Дата')\n",
    "plt.ylabel('Количество событий')\n",
    "plt.xticks(rotation=45)\n",
    "plt.legend(title='Группы')\n",
    "plt.tight_layout()  # Для оптимального отображения\n",
    "plt.show()"
   ]
  },
  {
   "cell_type": "markdown",
   "metadata": {},
   "source": [
    "**Вывод** По данному графику мы видим, что \"полные\" данные начинаютсяя с 2019-08-01, до этой даты отбросим данные."
   ]
  },
  {
   "cell_type": "code",
   "execution_count": 13,
   "metadata": {},
   "outputs": [],
   "source": [
    "dt_logs = logs.query('date >= \"2019-08-01\"')"
   ]
  },
  {
   "cell_type": "markdown",
   "metadata": {},
   "source": [
    "**3.5 Посмотрим много ли событий и пользователей мы потеряли, отбросив старые данные**"
   ]
  },
  {
   "cell_type": "code",
   "execution_count": 14,
   "metadata": {},
   "outputs": [
    {
     "name": "stdout",
     "output_type": "stream",
     "text": [
      "Доля отброшенных событий и пользователей: 1.2%\n"
     ]
    }
   ],
   "source": [
    "fraction = round((100 * (len(logs) - len(dt_logs))/len_event_name), 1)\n",
    "print(f'Доля отброшенных событий и пользователей: {fraction}%')"
   ]
  },
  {
   "cell_type": "markdown",
   "metadata": {},
   "source": [
    "**Вывод:** Доля отброшенных даных составила всего 1.2%, ничего критичного."
   ]
  },
  {
   "cell_type": "markdown",
   "metadata": {},
   "source": [
    "**3.6 Проверим, что у нас есть пользователи из всех трёх экспериментальных групп**"
   ]
  },
  {
   "cell_type": "code",
   "execution_count": 15,
   "metadata": {},
   "outputs": [
    {
     "data": {
      "text/html": [
       "<div>\n",
       "<style scoped>\n",
       "    .dataframe tbody tr th:only-of-type {\n",
       "        vertical-align: middle;\n",
       "    }\n",
       "\n",
       "    .dataframe tbody tr th {\n",
       "        vertical-align: top;\n",
       "    }\n",
       "\n",
       "    .dataframe thead th {\n",
       "        text-align: right;\n",
       "    }\n",
       "</style>\n",
       "<table border=\"1\" class=\"dataframe\">\n",
       "  <thead>\n",
       "    <tr style=\"text-align: right;\">\n",
       "      <th></th>\n",
       "      <th>user_id</th>\n",
       "    </tr>\n",
       "    <tr>\n",
       "      <th>exp_id</th>\n",
       "      <th></th>\n",
       "    </tr>\n",
       "  </thead>\n",
       "  <tbody>\n",
       "    <tr>\n",
       "      <th>246</th>\n",
       "      <td>79302</td>\n",
       "    </tr>\n",
       "    <tr>\n",
       "      <th>247</th>\n",
       "      <td>77022</td>\n",
       "    </tr>\n",
       "    <tr>\n",
       "      <th>248</th>\n",
       "      <td>84563</td>\n",
       "    </tr>\n",
       "  </tbody>\n",
       "</table>\n",
       "</div>"
      ],
      "text/plain": [
       "        user_id\n",
       "exp_id         \n",
       "246       79302\n",
       "247       77022\n",
       "248       84563"
      ]
     },
     "execution_count": 15,
     "metadata": {},
     "output_type": "execute_result"
    }
   ],
   "source": [
    "dt_logs.pivot_table(index = 'exp_id', values = 'user_id', aggfunc = 'count')"
   ]
  },
  {
   "cell_type": "markdown",
   "metadata": {},
   "source": [
    "**Вывод:** Все пользователи на месте."
   ]
  },
  {
   "cell_type": "markdown",
   "metadata": {},
   "source": [
    "**Общий вывод по разделу:**\n",
    "- Всего событий в логе: 243713;\n",
    "- Всего пользователей в логе: 7551;\n",
    "- Среднее количество событий на пользователя: 20.0;\n",
    "- Период за который располагаем данными: с 2019-07-25 по 2019-08-07;\n",
    "- Отбросили \"неполные\" данные до 2019-08-01;\n",
    "- Доля отброшенных данных: 1.2%."
   ]
  },
  {
   "cell_type": "markdown",
   "metadata": {},
   "source": [
    "<a id=\"chapter4\"></a> \n",
    "\n",
    "###  Изучим воронку событий\n",
    "\n",
    "**4.1 Посмотрим, какие события есть в логах, как часто они встречаются**"
   ]
  },
  {
   "cell_type": "code",
   "execution_count": 16,
   "metadata": {},
   "outputs": [
    {
     "data": {
      "text/html": [
       "<div>\n",
       "<style scoped>\n",
       "    .dataframe tbody tr th:only-of-type {\n",
       "        vertical-align: middle;\n",
       "    }\n",
       "\n",
       "    .dataframe tbody tr th {\n",
       "        vertical-align: top;\n",
       "    }\n",
       "\n",
       "    .dataframe thead th {\n",
       "        text-align: right;\n",
       "    }\n",
       "</style>\n",
       "<table border=\"1\" class=\"dataframe\">\n",
       "  <thead>\n",
       "    <tr style=\"text-align: right;\">\n",
       "      <th></th>\n",
       "      <th>count</th>\n",
       "      <th>event_percent</th>\n",
       "    </tr>\n",
       "    <tr>\n",
       "      <th>event_name</th>\n",
       "      <th></th>\n",
       "      <th></th>\n",
       "    </tr>\n",
       "  </thead>\n",
       "  <tbody>\n",
       "    <tr>\n",
       "      <th>MainScreenAppear</th>\n",
       "      <td>117328</td>\n",
       "      <td>48.71%</td>\n",
       "    </tr>\n",
       "    <tr>\n",
       "      <th>OffersScreenAppear</th>\n",
       "      <td>46333</td>\n",
       "      <td>19.23%</td>\n",
       "    </tr>\n",
       "    <tr>\n",
       "      <th>CartScreenAppear</th>\n",
       "      <td>42303</td>\n",
       "      <td>17.56%</td>\n",
       "    </tr>\n",
       "    <tr>\n",
       "      <th>PaymentScreenSuccessful</th>\n",
       "      <td>33918</td>\n",
       "      <td>14.08%</td>\n",
       "    </tr>\n",
       "    <tr>\n",
       "      <th>Tutorial</th>\n",
       "      <td>1005</td>\n",
       "      <td>0.42%</td>\n",
       "    </tr>\n",
       "  </tbody>\n",
       "</table>\n",
       "</div>"
      ],
      "text/plain": [
       "                          count event_percent\n",
       "event_name                                   \n",
       "MainScreenAppear         117328        48.71%\n",
       "OffersScreenAppear        46333        19.23%\n",
       "CartScreenAppear          42303        17.56%\n",
       "PaymentScreenSuccessful   33918        14.08%\n",
       "Tutorial                   1005         0.42%"
      ]
     },
     "execution_count": 16,
     "metadata": {},
     "output_type": "execute_result"
    }
   ],
   "source": [
    "dt_logs_event = (\n",
    "    dt_logs.pivot_table(index = 'event_name', values = 'user_id', aggfunc = 'count')\n",
    "    .sort_values(by = 'user_id', ascending=False)\n",
    "    .rename(columns={'user_id': 'count'})\n",
    ")\n",
    "\n",
    "dt_logs_event['event_percent'] = (\n",
    "    (dt_logs_event['count'] / dt_logs_event['count'].sum() * 100)\n",
    "    .map(lambda x: f'{x:.2f}%')\n",
    ")\n",
    "\n",
    "dt_logs_event"
   ]
  },
  {
   "cell_type": "markdown",
   "metadata": {},
   "source": [
    "**Вывод:** Чаще всего встречается событие MainScreenAppear - 48.71%, а меньше всего Tutorial - 0.42%."
   ]
  },
  {
   "cell_type": "markdown",
   "metadata": {},
   "source": [
    "**4.2 Посчитаем, сколько пользователей совершали каждое из этих событий**"
   ]
  },
  {
   "cell_type": "code",
   "execution_count": 17,
   "metadata": {},
   "outputs": [
    {
     "data": {
      "text/html": [
       "<div>\n",
       "<style scoped>\n",
       "    .dataframe tbody tr th:only-of-type {\n",
       "        vertical-align: middle;\n",
       "    }\n",
       "\n",
       "    .dataframe tbody tr th {\n",
       "        vertical-align: top;\n",
       "    }\n",
       "\n",
       "    .dataframe thead th {\n",
       "        text-align: right;\n",
       "    }\n",
       "</style>\n",
       "<table border=\"1\" class=\"dataframe\">\n",
       "  <thead>\n",
       "    <tr style=\"text-align: right;\">\n",
       "      <th></th>\n",
       "      <th>count</th>\n",
       "      <th>event_percent</th>\n",
       "    </tr>\n",
       "    <tr>\n",
       "      <th>event_name</th>\n",
       "      <th></th>\n",
       "      <th></th>\n",
       "    </tr>\n",
       "  </thead>\n",
       "  <tbody>\n",
       "    <tr>\n",
       "      <th>MainScreenAppear</th>\n",
       "      <td>7419</td>\n",
       "      <td>98.47%</td>\n",
       "    </tr>\n",
       "    <tr>\n",
       "      <th>OffersScreenAppear</th>\n",
       "      <td>4593</td>\n",
       "      <td>60.96%</td>\n",
       "    </tr>\n",
       "    <tr>\n",
       "      <th>CartScreenAppear</th>\n",
       "      <td>3734</td>\n",
       "      <td>49.56%</td>\n",
       "    </tr>\n",
       "    <tr>\n",
       "      <th>PaymentScreenSuccessful</th>\n",
       "      <td>3539</td>\n",
       "      <td>46.97%</td>\n",
       "    </tr>\n",
       "    <tr>\n",
       "      <th>Tutorial</th>\n",
       "      <td>840</td>\n",
       "      <td>11.15%</td>\n",
       "    </tr>\n",
       "  </tbody>\n",
       "</table>\n",
       "</div>"
      ],
      "text/plain": [
       "                         count event_percent\n",
       "event_name                                  \n",
       "MainScreenAppear          7419        98.47%\n",
       "OffersScreenAppear        4593        60.96%\n",
       "CartScreenAppear          3734        49.56%\n",
       "PaymentScreenSuccessful   3539        46.97%\n",
       "Tutorial                   840        11.15%"
      ]
     },
     "execution_count": 17,
     "metadata": {},
     "output_type": "execute_result"
    }
   ],
   "source": [
    "dt_logs_event_user = (\n",
    "    dt_logs.pivot_table(index = 'event_name', values = 'user_id', aggfunc = 'nunique')\n",
    "    .sort_values(by = 'user_id', ascending=False)\n",
    "    .rename(columns={'user_id': 'count'})\n",
    ")\n",
    "\n",
    "dt_logs_event_user['event_percent'] = (\n",
    "    (dt_logs_event_user['count'] / dt_logs['user_id'].nunique()*100)\n",
    "    .map(lambda x: f'{x:.2f}%')\n",
    ")\n",
    "\n",
    "dt_logs_event_user"
   ]
  },
  {
   "cell_type": "markdown",
   "metadata": {},
   "source": [
    "**Вывод:** Больше всего пользователей - 98.47% совершали событие MainScreenAppear, а меньше всего Tutorial - 11.15%.\t"
   ]
  },
  {
   "cell_type": "markdown",
   "metadata": {},
   "source": [
    "**4.3 Предположим, в каком порядке происходят события**"
   ]
  },
  {
   "cell_type": "markdown",
   "metadata": {},
   "source": [
    "Выстраиваем события в последовательную цепочку. Предположим, что пользователь:\n",
    "\n",
    "1. Открывает главную страницу приложения (MainScreenAppear);\n",
    "2. В каталоге выбирает товары (OffersScreenAppear);\n",
    "3. Кладёт товар в корзину (CartScreenAppear);\n",
    "4. Оплачивает (PaymentScreenSuccessful).\n",
    "\n",
    "руководство в эту цепочку не входит(Tutorial)"
   ]
  },
  {
   "cell_type": "markdown",
   "metadata": {},
   "source": [
    "**4.4 По воронке событий посчитаем, какая доля пользователей проходит на следующий шаг воронки и посмотрим на каком шаге теряем больше всего пользователей** "
   ]
  },
  {
   "cell_type": "code",
   "execution_count": 18,
   "metadata": {
    "scrolled": true
   },
   "outputs": [
    {
     "data": {
      "text/html": [
       "<div>\n",
       "<style scoped>\n",
       "    .dataframe tbody tr th:only-of-type {\n",
       "        vertical-align: middle;\n",
       "    }\n",
       "\n",
       "    .dataframe tbody tr th {\n",
       "        vertical-align: top;\n",
       "    }\n",
       "\n",
       "    .dataframe thead th {\n",
       "        text-align: right;\n",
       "    }\n",
       "</style>\n",
       "<table border=\"1\" class=\"dataframe\">\n",
       "  <thead>\n",
       "    <tr style=\"text-align: right;\">\n",
       "      <th></th>\n",
       "      <th>event_name</th>\n",
       "      <th>user_id</th>\n",
       "      <th>conversion</th>\n",
       "    </tr>\n",
       "  </thead>\n",
       "  <tbody>\n",
       "    <tr>\n",
       "      <th>0</th>\n",
       "      <td>MainScreenAppear</td>\n",
       "      <td>7419</td>\n",
       "      <td>100.00%</td>\n",
       "    </tr>\n",
       "    <tr>\n",
       "      <th>1</th>\n",
       "      <td>OffersScreenAppear</td>\n",
       "      <td>4593</td>\n",
       "      <td>61.91%</td>\n",
       "    </tr>\n",
       "    <tr>\n",
       "      <th>2</th>\n",
       "      <td>CartScreenAppear</td>\n",
       "      <td>3734</td>\n",
       "      <td>81.30%</td>\n",
       "    </tr>\n",
       "    <tr>\n",
       "      <th>3</th>\n",
       "      <td>PaymentScreenSuccessful</td>\n",
       "      <td>3539</td>\n",
       "      <td>94.78%</td>\n",
       "    </tr>\n",
       "  </tbody>\n",
       "</table>\n",
       "</div>"
      ],
      "text/plain": [
       "                event_name  user_id conversion\n",
       "0         MainScreenAppear     7419    100.00%\n",
       "1       OffersScreenAppear     4593     61.91%\n",
       "2         CartScreenAppear     3734     81.30%\n",
       "3  PaymentScreenSuccessful     3539     94.78%"
      ]
     },
     "execution_count": 18,
     "metadata": {},
     "output_type": "execute_result"
    }
   ],
   "source": [
    "user_event = (dt_logs\n",
    "                .query('event_name != \"Tutorial\"')\n",
    "                .pivot_table(index = 'event_name', values = 'user_id', aggfunc = 'nunique')\n",
    "                .sort_values(by = 'user_id', ascending = False)\n",
    ")\n",
    "\n",
    "#добавим столбец со смещенными значениями количества пользователей методом shift\n",
    "#недостающее значение заполним первым значением столбца параметром fill_value\n",
    "user_event['shift'] = user_event['user_id'].shift(1, fill_value = user_event['user_id'].loc[user_event.index[0]])\n",
    "\n",
    "user_event['conversion'] = ((user_event['user_id']/user_event['shift']*100)\n",
    "                           .map(lambda x: f'{x:.2f}%')\n",
    ")\n",
    "\n",
    "user_event = user_event[['user_id', 'conversion']]\n",
    "user_event = user_event.reset_index()\n",
    "user_event"
   ]
  },
  {
   "cell_type": "code",
   "execution_count": 19,
   "metadata": {},
   "outputs": [
    {
     "data": {
      "image/png": "[encoded data removed]",
      "text/plain": [
       "<Figure size 720x360 with 1 Axes>"
      ]
     },
     "metadata": {
      "needs_background": "light"
     },
     "output_type": "display_data"
    }
   ],
   "source": [
    "user_event['conversion'] = user_event['conversion'].replace({'%': '', '': None}, regex=True).astype(float)\n",
    "\n",
    "plt.figure(figsize=(10, 5))\n",
    "plt.plot(user_event['event_name'], user_event['conversion'], marker='o', linestyle='-')\n",
    "\n",
    "# Настройки графика\n",
    "plt.title('Конверсия по событиям')\n",
    "plt.xlabel('Событие')\n",
    "plt.ylabel('Процент конверсии (%)')\n",
    "plt.grid(True)\n",
    "plt.ylim(0,100)\n",
    "\n",
    "# Настраиваем метки оси Y для отображения % от 100 до 0\n",
    "percent_values = list(range(150, -1, -20))  # Проценты от 150 до 0 с шагом 20\n",
    "plt.yticks(percent_values)  # Устанавливаем значения меток\n",
    "\n",
    "# Показываем график\n",
    "plt.grid()\n",
    "plt.tight_layout()\n",
    "plt.show()"
   ]
  },
  {
   "cell_type": "markdown",
   "metadata": {},
   "source": [
    "**Вывод:** Онлайн-магазины и приложения стараются сделать процесс покупки как можно более простым и удобным для пользователя. Есть шанс, что в приложении можно добавить товар в корзину без просмотра каталога: например, возле карточки товара есть кнопка «Добавить в корзину». Возможно поэтому на событии OffersScreenAppear заметен резкий провал конверсии."
   ]
  },
  {
   "cell_type": "markdown",
   "metadata": {},
   "source": [
    "**4.5 Посчитаем какая доля пользователей доходит от первого события до оплаты**"
   ]
  },
  {
   "cell_type": "code",
   "execution_count": 20,
   "metadata": {},
   "outputs": [
    {
     "name": "stdout",
     "output_type": "stream",
     "text": [
      "Доля пользователей прошедших от первого события до оплаты 47.70%\n"
     ]
    }
   ],
   "source": [
    "print(f\"Доля пользователей прошедших от первого события до оплаты {user_event['user_id'].loc[user_event.index[-1]]/user_event['user_id'].loc[user_event.index[0]]:.2%}\")"
   ]
  },
  {
   "cell_type": "markdown",
   "metadata": {},
   "source": [
    "**Общий вывод по разделу:**\n",
    "- Посмотрили, какие события есть в логах, и как часто они встречаются: MainScreenAppear - 48.71%, а меньше всего Tutorial - 0.42%;\n",
    "- Нашли, что больше всего пользователей - 98.47% совершали событие MainScreenAppear, а меньше всего Tutorial - 11.15%;\n",
    "- Предположили в каком порядке происходят события: MainScreenAppear - OffersScreenAppear - CartScreenAppear - PaymentScreenSuccessful, а Tutoria в эту цепочку не входит, так как это руководство;\n",
    "- По воронке событий посчитали какая доля пользователей проходит на следующий шаг воронки (от числа пользователей на предыдущем): 100% - 61.91% - 81.30% - 94.78%;\n",
    "- Выяснили на каком шаге теряется больше всего пользователей. На событии OffersScreenAppear заметен резкий провал конверсии, предположили, что это из-за возможности добавления товара в корзину без просмотра каталога: например, возле карточки товара есть кнопка «Добавить в корзину»;\n",
    "- Посчитали долю пользователей прошедших от первого события до оплаты, она составила 47.70%."
   ]
  },
  {
   "cell_type": "markdown",
   "metadata": {},
   "source": [
    "<a id=\"chapter5\"></a>\n",
    "\n",
    "### Изучим результаты эксперимента\n",
    "**5.1 Посмотрим сколько пользователей в каждой экспериментальной группе**"
   ]
  },
  {
   "cell_type": "code",
   "execution_count": 21,
   "metadata": {},
   "outputs": [
    {
     "data": {
      "text/html": [
       "<div>\n",
       "<style scoped>\n",
       "    .dataframe tbody tr th:only-of-type {\n",
       "        vertical-align: middle;\n",
       "    }\n",
       "\n",
       "    .dataframe tbody tr th {\n",
       "        vertical-align: top;\n",
       "    }\n",
       "\n",
       "    .dataframe thead th {\n",
       "        text-align: right;\n",
       "    }\n",
       "</style>\n",
       "<table border=\"1\" class=\"dataframe\">\n",
       "  <thead>\n",
       "    <tr style=\"text-align: right;\">\n",
       "      <th></th>\n",
       "      <th>count</th>\n",
       "    </tr>\n",
       "    <tr>\n",
       "      <th>exp_id</th>\n",
       "      <th></th>\n",
       "    </tr>\n",
       "  </thead>\n",
       "  <tbody>\n",
       "    <tr>\n",
       "      <th>246</th>\n",
       "      <td>2484</td>\n",
       "    </tr>\n",
       "    <tr>\n",
       "      <th>247</th>\n",
       "      <td>2513</td>\n",
       "    </tr>\n",
       "    <tr>\n",
       "      <th>248</th>\n",
       "      <td>2537</td>\n",
       "    </tr>\n",
       "  </tbody>\n",
       "</table>\n",
       "</div>"
      ],
      "text/plain": [
       "        count\n",
       "exp_id       \n",
       "246      2484\n",
       "247      2513\n",
       "248      2537"
      ]
     },
     "execution_count": 21,
     "metadata": {},
     "output_type": "execute_result"
    }
   ],
   "source": [
    "dt_logs.groupby('exp_id').agg(count=('user_id', 'nunique'))"
   ]
  },
  {
   "cell_type": "markdown",
   "metadata": {},
   "source": [
    "**Проверим наличие пользователей, которые присутствуют одновременно в группах 246, 247, 248**"
   ]
  },
  {
   "cell_type": "code",
   "execution_count": 22,
   "metadata": {},
   "outputs": [
    {
     "name": "stdout",
     "output_type": "stream",
     "text": [
      "Количество пользователей, присутствующих в группах 246, 247 и 248: 0\n"
     ]
    }
   ],
   "source": [
    "# Получаем уникальные userid для группы 246\n",
    "userid_246 = logs['user_id'].loc[logs['exp_id'] == '246'].unique()\n",
    "\n",
    "# Получаем уникальные userid для группы 247\n",
    "userid_247 = logs['user_id'].loc[logs['exp_id'] == '247'].unique()\n",
    "\n",
    "# Получаем уникальные userid для группы 248\n",
    "userid_248 = logs['user_id'].loc[logs['exp_id'] == '248'].unique()\n",
    "\n",
    "# Преобразуем в множества для удобной работы\n",
    "set_246 = set(userid_246)\n",
    "set_247 = set(userid_247)\n",
    "set_248 = set(userid_248)\n",
    "\n",
    "# Находим пересечение\n",
    "intersection_users = set_246.intersection(set_247, set_248)\n",
    "\n",
    "# Подсчитываем количество пользователей в пересечении\n",
    "count_common_users = len(intersection_users)\n",
    "\n",
    "print(f'Количество пользователей, присутствующих в группах 246, 247 и 248: {count_common_users}')"
   ]
  },
  {
   "cell_type": "markdown",
   "metadata": {},
   "source": [
    "**Вывод:** Разница в экспериментальных группах минимальная и пересекающихся пользователей в группах нет."
   ]
  },
  {
   "cell_type": "markdown",
   "metadata": {},
   "source": [
    "**5.2 Проверим, находят ли статистические критерии разницу между выборками 246 и 247**"
   ]
  },
  {
   "cell_type": "markdown",
   "metadata": {},
   "source": [
    "**Сформулируем следующие гипотезы:**\n",
    "\n",
    "**Нулевая гипотеза (H0)**\n",
    "\n",
    "Для Shapiro-Wilk теста:\n",
    "- Группа 246 имеет нормальное распределение.\n",
    "- Группа 247 имеет нормальное распределение.\n",
    "\n",
    "Для сравнения групп:\n",
    "Нет статистически значимых различий в значениях метрики между группами 246 и 247 (различия в среднем значении равны нулю).\n",
    "\n",
    "**Альтернативная гипотеза (H1)**\n",
    "\n",
    "Для Shapiro-Wilk теста:\n",
    "- Группа 246 не имеет нормального распределения.\n",
    "- Группа 247 не имеет нормального распределения.\n",
    "\n",
    "Для сравнения групп:\n",
    "Имеются статистически значимые различия в значениях метрики между группами 246 и 247 (различия в среднем значении не равны нулю)."
   ]
  },
  {
   "cell_type": "code",
   "execution_count": 23,
   "metadata": {},
   "outputs": [
    {
     "name": "stdout",
     "output_type": "stream",
     "text": [
      "Shapiro-Wilk тест для группы 246: статистика=0.9602335691452026, p-значение=0.8096088767051697\n",
      "Shapiro-Wilk тест для группы 247: статистика=0.9610435366630554, p-значение=0.8152309656143188\n",
      "P-значение сравнения между группами 246 и 247: 0.9809573661651472\n"
     ]
    }
   ],
   "source": [
    "# Фильтрация данных для контрольных групп\n",
    "control_group_246 = dt_logs[dt_logs['exp_id'] == 246]\n",
    "control_group_247 = dt_logs[dt_logs['exp_id'] == 247]\n",
    "\n",
    "# Подсчёт количества событий для каждой группы\n",
    "event_counts_246 = control_group_246.groupby('event_name')['user_id'].nunique()\n",
    "event_counts_247 = control_group_247.groupby('event_name')['user_id'].nunique()\n",
    "\n",
    "# Объединяем данные в один DataFrame для анализа\n",
    "combined_data = pd.DataFrame({\n",
    "    'group_246': event_counts_246,\n",
    "    'group_247': event_counts_247\n",
    "}).dropna()\n",
    "\n",
    "# Проверка нормальности распределения с помощью теста Шапиро-Уилка\n",
    "stat_246, p_246 = st.shapiro(combined_data['group_246'])\n",
    "stat_247, p_247 = st.shapiro(combined_data['group_247'])\n",
    "\n",
    "# Выводим результаты теста на нормальность\n",
    "print(f'Shapiro-Wilk тест для группы 246: статистика={stat_246}, p-значение={p_246}')\n",
    "print(f'Shapiro-Wilk тест для группы 247: статистика={stat_247}, p-значение={p_247}')\n",
    "\n",
    "# Выбор теста\n",
    "if p_246 > 0.05 and p_247 > 0.05:\n",
    "    # Если обе выборки нормально распределены, используем t-тест\n",
    "    t_stat, p_value = st.ttest_ind(combined_data['group_246'], combined_data['group_247'])\n",
    "else:\n",
    "    # Иначе используем тест Манна-Уитни\n",
    "    u_stat, p_value = st.mannwhitneyu(combined_data['group_246'], combined_data['group_247'])\n",
    "\n",
    "# Выводим результаты теста\n",
    "print(f'P-значение сравнения между группами 246 и 247: {p_value}')"
   ]
  },
  {
   "cell_type": "markdown",
   "metadata": {},
   "source": [
    "**Результаты Shapiro-Wilk теста**\n",
    "\n",
    "1. Группа 246:\n",
    "- Статистика: 0.9602\n",
    "- p-значение: 0.8096\n",
    "2. Группа 247:\n",
    "- Статистика: 0.9610\n",
    "- p-значение: 0.8152\n",
    "\n",
    "Поскольку p-значения для обеих групп (0.8096 и 0.8152) выше 0.05, мы не отвергаем нулевую гипотезу о том, что данные в обеих группах имеют нормальное распределение. \n",
    "\n",
    "**Результаты сравнения групп**\n",
    "\n",
    "- P-значение сравнения (0.9810):\n",
    "Это высокое p-значение указывает на то, что нет статистически значимых различий между группами 246 и 247.\n",
    "\n",
    "**Вывод:**\n",
    "- Данные в обеих группах нормально распределены; \n",
    "- Различий между контрольными группами 246 и 247 не обнаружено, что может свидетельствовать о том, что обе группы ведут себя схожим образом в контексте рассматриваемой метрики;\n",
    "- Такое состояние может быть разумным для подтверждения гипотезы о том, что обе группы являются действительно контрольными и не имеют отличий."
   ]
  },
  {
   "cell_type": "markdown",
   "metadata": {},
   "source": [
    "**5.3 Выберем самое популярное событие. Посчитаем число пользователей, совершивших это событие в каждой из контрольных групп. Посчитаем долю пользователей, совершивших это событие. Проверим, будет ли отличие между группами статистически достоверным** \n",
    "\n",
    "Как было сказано выше, в разделе 4.2: Больше всего пользователей - 98.47% совершали событие MainScreenAppear."
   ]
  },
  {
   "cell_type": "code",
   "execution_count": 24,
   "metadata": {},
   "outputs": [],
   "source": [
    "group_246 = dt_logs.query('exp_id == 246')\n",
    "group_247 = dt_logs.query('exp_id == 247')\n",
    "group_248 = dt_logs.query('exp_id == 248')"
   ]
  },
  {
   "cell_type": "markdown",
   "metadata": {},
   "source": [
    "Посчитаем число пользователей, совершивших это событие в каждой из контрольных групп. Посчитаем долю пользователей, совершивших это событие."
   ]
  },
  {
   "cell_type": "code",
   "execution_count": 25,
   "metadata": {},
   "outputs": [
    {
     "data": {
      "text/html": [
       "<div>\n",
       "<style scoped>\n",
       "    .dataframe tbody tr th:only-of-type {\n",
       "        vertical-align: middle;\n",
       "    }\n",
       "\n",
       "    .dataframe tbody tr th {\n",
       "        vertical-align: top;\n",
       "    }\n",
       "\n",
       "    .dataframe thead th {\n",
       "        text-align: right;\n",
       "    }\n",
       "</style>\n",
       "<table border=\"1\" class=\"dataframe\">\n",
       "  <thead>\n",
       "    <tr style=\"text-align: right;\">\n",
       "      <th></th>\n",
       "      <th>count</th>\n",
       "      <th>event_percent</th>\n",
       "    </tr>\n",
       "    <tr>\n",
       "      <th>event_name</th>\n",
       "      <th></th>\n",
       "      <th></th>\n",
       "    </tr>\n",
       "  </thead>\n",
       "  <tbody>\n",
       "    <tr>\n",
       "      <th>MainScreenAppear</th>\n",
       "      <td>2450</td>\n",
       "      <td>98.63%</td>\n",
       "    </tr>\n",
       "    <tr>\n",
       "      <th>OffersScreenAppear</th>\n",
       "      <td>1542</td>\n",
       "      <td>62.08%</td>\n",
       "    </tr>\n",
       "    <tr>\n",
       "      <th>CartScreenAppear</th>\n",
       "      <td>1266</td>\n",
       "      <td>50.97%</td>\n",
       "    </tr>\n",
       "    <tr>\n",
       "      <th>PaymentScreenSuccessful</th>\n",
       "      <td>1200</td>\n",
       "      <td>48.31%</td>\n",
       "    </tr>\n",
       "    <tr>\n",
       "      <th>Tutorial</th>\n",
       "      <td>278</td>\n",
       "      <td>11.19%</td>\n",
       "    </tr>\n",
       "  </tbody>\n",
       "</table>\n",
       "</div>"
      ],
      "text/plain": [
       "                         count event_percent\n",
       "event_name                                  \n",
       "MainScreenAppear          2450        98.63%\n",
       "OffersScreenAppear        1542        62.08%\n",
       "CartScreenAppear          1266        50.97%\n",
       "PaymentScreenSuccessful   1200        48.31%\n",
       "Tutorial                   278        11.19%"
      ]
     },
     "execution_count": 25,
     "metadata": {},
     "output_type": "execute_result"
    }
   ],
   "source": [
    "dt_logs_event_group_246 = (\n",
    "    group_246.pivot_table(index = 'event_name', values = 'user_id', aggfunc = 'nunique')\n",
    "    .sort_values(by = 'user_id', ascending=False)\n",
    "    .rename(columns={'user_id': 'count'})\n",
    ")\n",
    "\n",
    "dt_logs_event_group_246['event_percent'] = (\n",
    "    (dt_logs_event_group_246['count'] / group_246['user_id'].nunique()*100)\n",
    "    .map(lambda x: f'{x:.2f}%')\n",
    ")\n",
    "\n",
    "dt_logs_event_group_246"
   ]
  },
  {
   "cell_type": "code",
   "execution_count": 26,
   "metadata": {},
   "outputs": [
    {
     "data": {
      "text/html": [
       "<div>\n",
       "<style scoped>\n",
       "    .dataframe tbody tr th:only-of-type {\n",
       "        vertical-align: middle;\n",
       "    }\n",
       "\n",
       "    .dataframe tbody tr th {\n",
       "        vertical-align: top;\n",
       "    }\n",
       "\n",
       "    .dataframe thead th {\n",
       "        text-align: right;\n",
       "    }\n",
       "</style>\n",
       "<table border=\"1\" class=\"dataframe\">\n",
       "  <thead>\n",
       "    <tr style=\"text-align: right;\">\n",
       "      <th></th>\n",
       "      <th>count</th>\n",
       "      <th>event_percent</th>\n",
       "    </tr>\n",
       "    <tr>\n",
       "      <th>event_name</th>\n",
       "      <th></th>\n",
       "      <th></th>\n",
       "    </tr>\n",
       "  </thead>\n",
       "  <tbody>\n",
       "    <tr>\n",
       "      <th>MainScreenAppear</th>\n",
       "      <td>2476</td>\n",
       "      <td>98.53%</td>\n",
       "    </tr>\n",
       "    <tr>\n",
       "      <th>OffersScreenAppear</th>\n",
       "      <td>1520</td>\n",
       "      <td>60.49%</td>\n",
       "    </tr>\n",
       "    <tr>\n",
       "      <th>CartScreenAppear</th>\n",
       "      <td>1238</td>\n",
       "      <td>49.26%</td>\n",
       "    </tr>\n",
       "    <tr>\n",
       "      <th>PaymentScreenSuccessful</th>\n",
       "      <td>1158</td>\n",
       "      <td>46.08%</td>\n",
       "    </tr>\n",
       "    <tr>\n",
       "      <th>Tutorial</th>\n",
       "      <td>283</td>\n",
       "      <td>11.26%</td>\n",
       "    </tr>\n",
       "  </tbody>\n",
       "</table>\n",
       "</div>"
      ],
      "text/plain": [
       "                         count event_percent\n",
       "event_name                                  \n",
       "MainScreenAppear          2476        98.53%\n",
       "OffersScreenAppear        1520        60.49%\n",
       "CartScreenAppear          1238        49.26%\n",
       "PaymentScreenSuccessful   1158        46.08%\n",
       "Tutorial                   283        11.26%"
      ]
     },
     "execution_count": 26,
     "metadata": {},
     "output_type": "execute_result"
    }
   ],
   "source": [
    "dt_logs_event_group_247 = (\n",
    "    group_247.pivot_table(index = 'event_name', values = 'user_id', aggfunc = 'nunique')\n",
    "    .sort_values(by = 'user_id', ascending=False)\n",
    "    .rename(columns={'user_id': 'count'})\n",
    ")\n",
    "\n",
    "dt_logs_event_group_247['event_percent'] = (\n",
    "    (dt_logs_event_group_247['count'] / group_247['user_id'].nunique()*100)\n",
    "    .map(lambda x: f'{x:.2f}%')\n",
    ")\n",
    "\n",
    "dt_logs_event_group_247"
   ]
  },
  {
   "cell_type": "markdown",
   "metadata": {},
   "source": [
    "**Гипотезы:**\n",
    "\n",
    "**Нулевая гипотеза (H0):** Между долями статистической значимой разницы нет, поведение групп не отличается;\n",
    "\n",
    "**Альтернативная гипотеза (H1):** Между долями статистическая значимая разница есть, поведение групп отличается."
   ]
  },
  {
   "cell_type": "code",
   "execution_count": 27,
   "metadata": {},
   "outputs": [],
   "source": [
    "def test(g1, g2, event_name, alpha):\n",
    "    \n",
    "    # Критический уровень статистической значимости\n",
    "    alpha = alpha\n",
    "    \n",
    "    # Количество уникальных пользователей, совершивших событие в каждой группе \n",
    "    un_users_event = np.array([\n",
    "        g1[g1['event_name'] == event_name]['user_id'].nunique(), \n",
    "        g2[g2['event_name'] == event_name]['user_id'].nunique()\n",
    "    ])\n",
    "        \n",
    "    # Количество уникальных пользователей в группах\n",
    "    un_users_group = np.array([\n",
    "        g1['user_id'].nunique(), \n",
    "        g2['user_id'].nunique()\n",
    "    ])\n",
    "    \n",
    "    # Пропорция успехов в первой группе\n",
    "    p1 = un_users_event[0] / un_users_group[0]\n",
    "    # Пропорция успехов во второй группе\n",
    "    p2 = un_users_event[1] / un_users_group[1]\n",
    "    \n",
    "    # Пропорция успехов в комбинированном датасете\n",
    "    p_combined = (un_users_event[0] + un_users_event[1]) / (un_users_group[0] + un_users_group[1])\n",
    "    \n",
    "    # Разница пропорций в датасетах\n",
    "    difference = p1 - p2\n",
    "    \n",
    "    # Правильный расчет standard error\n",
    "    standard_error = mth.sqrt(p_combined * (1 - p_combined) * (1 / un_users_group[0] + 1 / un_users_group[1]))\n",
    "    \n",
    "    # Расчет z-значения\n",
    "    z_value = difference / standard_error\n",
    "    \n",
    "    # Задаем стандартное нормальное распределение (среднее 0, ст. отклонение 1)\n",
    "    distr = st.norm(0, 1)  \n",
    "    \n",
    "    p_value = (1 - distr.cdf(abs(z_value))) * 2\n",
    "    \n",
    "    print(event_name)\n",
    "          \n",
    "    print('p-значение: ', p_value)\n",
    "\n",
    "    if p_value < alpha:\n",
    "        print('Отвергаем нулевую гипотезу: между долями есть значимая разница')\n",
    "    else:\n",
    "        print('Не получилось отвергнуть нулевую гипотезу, нет оснований считать доли разными')\n",
    "    print()"
   ]
  },
  {
   "cell_type": "code",
   "execution_count": 28,
   "metadata": {},
   "outputs": [
    {
     "name": "stdout",
     "output_type": "stream",
     "text": [
      "Tutorial\n",
      "p-значение:  0.9376996189257114\n",
      "Не получилось отвергнуть нулевую гипотезу, нет оснований считать доли разными\n",
      "\n",
      "MainScreenAppear\n",
      "p-значение:  0.7570597232046099\n",
      "Не получилось отвергнуть нулевую гипотезу, нет оснований считать доли разными\n",
      "\n",
      "OffersScreenAppear\n",
      "p-значение:  0.2480954578522181\n",
      "Не получилось отвергнуть нулевую гипотезу, нет оснований считать доли разными\n",
      "\n",
      "CartScreenAppear\n",
      "p-значение:  0.22883372237997213\n",
      "Не получилось отвергнуть нулевую гипотезу, нет оснований считать доли разными\n",
      "\n",
      "PaymentScreenSuccessful\n",
      "p-значение:  0.11456679313141849\n",
      "Не получилось отвергнуть нулевую гипотезу, нет оснований считать доли разными\n",
      "\n"
     ]
    }
   ],
   "source": [
    "#создадим список с уникальными событиями:\n",
    "event_name_array = dt_logs['event_name'].unique()\n",
    "#создадим цикл, который будет подставлять в функцию уникальные значения собитый:\n",
    "for event_name in event_name_array:\n",
    "    test(group_246, group_247, event_name, alpha=0.05)"
   ]
  },
  {
   "cell_type": "markdown",
   "metadata": {},
   "source": [
    "**Вывод:** Статистические критерии разницу между выборками 246 и 247 не находят, т.к. ни для оного из событий разница не оказалось значимой обе эти группы можно считать контрольными. Разбиение на группы работает корректно"
   ]
  },
  {
   "cell_type": "markdown",
   "metadata": {},
   "source": [
    "**5.4 Сравним результаты с каждой из контрольных групп в отдельности по каждому событию. Сравним результаты с объединённой контрольной группой**"
   ]
  },
  {
   "cell_type": "code",
   "execution_count": 29,
   "metadata": {},
   "outputs": [
    {
     "name": "stdout",
     "output_type": "stream",
     "text": [
      "Tutorial\n",
      "p-значение:  0.8264294010087645\n",
      "Не получилось отвергнуть нулевую гипотезу, нет оснований считать доли разными\n",
      "\n",
      "MainScreenAppear\n",
      "p-значение:  0.2949721933554552\n",
      "Не получилось отвергнуть нулевую гипотезу, нет оснований считать доли разными\n",
      "\n",
      "OffersScreenAppear\n",
      "p-значение:  0.20836205402738917\n",
      "Не получилось отвергнуть нулевую гипотезу, нет оснований считать доли разными\n",
      "\n",
      "CartScreenAppear\n",
      "p-значение:  0.07842923237520116\n",
      "Не получилось отвергнуть нулевую гипотезу, нет оснований считать доли разными\n",
      "\n",
      "PaymentScreenSuccessful\n",
      "p-значение:  0.2122553275697796\n",
      "Не получилось отвергнуть нулевую гипотезу, нет оснований считать доли разными\n",
      "\n"
     ]
    }
   ],
   "source": [
    "for event_name in event_name_array:\n",
    "    test(group_246, group_248, event_name, alpha=0.05)"
   ]
  },
  {
   "cell_type": "markdown",
   "metadata": {},
   "source": [
    "**Вывод:** При заданном уровне значимости различия между группами 246 и 248 не обнаружились."
   ]
  },
  {
   "cell_type": "code",
   "execution_count": 30,
   "metadata": {},
   "outputs": [
    {
     "name": "stdout",
     "output_type": "stream",
     "text": [
      "Tutorial\n",
      "p-значение:  0.765323922474501\n",
      "Не получилось отвергнуть нулевую гипотезу, нет оснований считать доли разными\n",
      "\n",
      "MainScreenAppear\n",
      "p-значение:  0.4587053616621515\n",
      "Не получилось отвергнуть нулевую гипотезу, нет оснований считать доли разными\n",
      "\n",
      "OffersScreenAppear\n",
      "p-значение:  0.9197817830592261\n",
      "Не получилось отвергнуть нулевую гипотезу, нет оснований считать доли разными\n",
      "\n",
      "CartScreenAppear\n",
      "p-значение:  0.5786197879539783\n",
      "Не получилось отвергнуть нулевую гипотезу, нет оснований считать доли разными\n",
      "\n",
      "PaymentScreenSuccessful\n",
      "p-значение:  0.7373415053803964\n",
      "Не получилось отвергнуть нулевую гипотезу, нет оснований считать доли разными\n",
      "\n"
     ]
    }
   ],
   "source": [
    "for event_name in event_name_array:\n",
    "    test(group_247, group_248, event_name, alpha=0.05)"
   ]
  },
  {
   "cell_type": "markdown",
   "metadata": {},
   "source": [
    "**Вывод:** При заданном уровне значимости различия между группами 247 и 248 не обнаружились."
   ]
  },
  {
   "cell_type": "code",
   "execution_count": 31,
   "metadata": {},
   "outputs": [
    {
     "name": "stdout",
     "output_type": "stream",
     "text": [
      "Tutorial\n",
      "p-значение:  0.764862472531507\n",
      "Не получилось отвергнуть нулевую гипотезу, нет оснований считать доли разными\n",
      "\n",
      "MainScreenAppear\n",
      "p-значение:  0.29424526837179577\n",
      "Не получилось отвергнуть нулевую гипотезу, нет оснований считать доли разными\n",
      "\n",
      "OffersScreenAppear\n",
      "p-значение:  0.43425549655188256\n",
      "Не получилось отвергнуть нулевую гипотезу, нет оснований считать доли разными\n",
      "\n",
      "CartScreenAppear\n",
      "p-значение:  0.18175875284404386\n",
      "Не получилось отвергнуть нулевую гипотезу, нет оснований считать доли разными\n",
      "\n",
      "PaymentScreenSuccessful\n",
      "p-значение:  0.6004294282308704\n",
      "Не получилось отвергнуть нулевую гипотезу, нет оснований считать доли разными\n",
      "\n"
     ]
    }
   ],
   "source": [
    "group_246_247 = pd.concat([group_246, group_247])\n",
    "\n",
    "for event_name in event_name_array:\n",
    "    test(group_246_247, group_248, event_name, alpha=0.05)"
   ]
  },
  {
   "cell_type": "markdown",
   "metadata": {},
   "source": [
    "**Вывод:** Значимой разницы в поведении пользователей объедененной контрольной группы и эксперементальной группы нет.\n",
    "Можно сделать вывод о том, что изменение шрифтов в приложении не повлияло на пользователей."
   ]
  },
  {
   "cell_type": "markdown",
   "metadata": {},
   "source": [
    "**5.5 Какой уровень значимости мы выбрали при проверке статистических гипотез выше? Посчитаем, сколько проверок статистических гипотез мы сделали. При уровне значимости 0.1 в 10% случаев можно ошибочно отклонить нулевую гипотезу при условии, что она верна. Какой уровень значимости стоит применить?** "
   ]
  },
  {
   "cell_type": "markdown",
   "metadata": {},
   "source": [
    "Если мы провели 20 экспериментов с уровнем значимости 0.05, то для того чтобы контролировать общий уровень ошибок, можно использовать метод поправки Бонферрони. Таким образом, если мы хотим поддерживать общий уровень значимости 0.05 при 20 экспериментах, мы можем использовать уровень значимости: 0.05/20 = 0.0025."
   ]
  },
  {
   "cell_type": "markdown",
   "metadata": {},
   "source": [
    "**Перепроверим наши выводы выше с уровнем значимости 0.0025**\n",
    "\n",
    "**Гипотезы:**\n",
    "\n",
    "Нулевая гипотеза (H0): Между долями статистической значимой разницы нет, поведение групп не отличается;\n",
    "\n",
    "Альтернативная гипотеза (H1): Между долями статистическая значимая разница есть, поведение групп отличается.\n",
    "\n",
    "Разница между выборками 246 и 247:"
   ]
  },
  {
   "cell_type": "code",
   "execution_count": 32,
   "metadata": {},
   "outputs": [
    {
     "name": "stdout",
     "output_type": "stream",
     "text": [
      "Tutorial\n",
      "p-значение:  0.9376996189257114\n",
      "Не получилось отвергнуть нулевую гипотезу, нет оснований считать доли разными\n",
      "\n",
      "MainScreenAppear\n",
      "p-значение:  0.7570597232046099\n",
      "Не получилось отвергнуть нулевую гипотезу, нет оснований считать доли разными\n",
      "\n",
      "OffersScreenAppear\n",
      "p-значение:  0.2480954578522181\n",
      "Не получилось отвергнуть нулевую гипотезу, нет оснований считать доли разными\n",
      "\n",
      "CartScreenAppear\n",
      "p-значение:  0.22883372237997213\n",
      "Не получилось отвергнуть нулевую гипотезу, нет оснований считать доли разными\n",
      "\n",
      "PaymentScreenSuccessful\n",
      "p-значение:  0.11456679313141849\n",
      "Не получилось отвергнуть нулевую гипотезу, нет оснований считать доли разными\n",
      "\n"
     ]
    }
   ],
   "source": [
    "for event_name in event_name_array:\n",
    "    test(group_246, group_247, event_name, alpha=0.0025)"
   ]
  },
  {
   "cell_type": "markdown",
   "metadata": {},
   "source": [
    "**Вывод:** Как и с уровнем значимости 0.05, ни для оного из событий разница не оказалось значимой обе эти группы можно считать контрольными. Разбиение на группы работает корректно.\n",
    "\n",
    "Различия между группами 246 и 248:"
   ]
  },
  {
   "cell_type": "code",
   "execution_count": 33,
   "metadata": {},
   "outputs": [
    {
     "name": "stdout",
     "output_type": "stream",
     "text": [
      "Tutorial\n",
      "p-значение:  0.8264294010087645\n",
      "Не получилось отвергнуть нулевую гипотезу, нет оснований считать доли разными\n",
      "\n",
      "MainScreenAppear\n",
      "p-значение:  0.2949721933554552\n",
      "Не получилось отвергнуть нулевую гипотезу, нет оснований считать доли разными\n",
      "\n",
      "OffersScreenAppear\n",
      "p-значение:  0.20836205402738917\n",
      "Не получилось отвергнуть нулевую гипотезу, нет оснований считать доли разными\n",
      "\n",
      "CartScreenAppear\n",
      "p-значение:  0.07842923237520116\n",
      "Не получилось отвергнуть нулевую гипотезу, нет оснований считать доли разными\n",
      "\n",
      "PaymentScreenSuccessful\n",
      "p-значение:  0.2122553275697796\n",
      "Не получилось отвергнуть нулевую гипотезу, нет оснований считать доли разными\n",
      "\n"
     ]
    }
   ],
   "source": [
    "for event_name in event_name_array:\n",
    "    test(group_246, group_248, event_name, alpha=0.0025)"
   ]
  },
  {
   "cell_type": "markdown",
   "metadata": {},
   "source": [
    "**Вывод:** Как и с уровнем значимости 0.05, различия между группами 246 и 248 не обнаружились.\n",
    "\n",
    "Различия между группами 247 и 248:"
   ]
  },
  {
   "cell_type": "code",
   "execution_count": 34,
   "metadata": {},
   "outputs": [
    {
     "name": "stdout",
     "output_type": "stream",
     "text": [
      "Tutorial\n",
      "p-значение:  0.765323922474501\n",
      "Не получилось отвергнуть нулевую гипотезу, нет оснований считать доли разными\n",
      "\n",
      "MainScreenAppear\n",
      "p-значение:  0.4587053616621515\n",
      "Не получилось отвергнуть нулевую гипотезу, нет оснований считать доли разными\n",
      "\n",
      "OffersScreenAppear\n",
      "p-значение:  0.9197817830592261\n",
      "Не получилось отвергнуть нулевую гипотезу, нет оснований считать доли разными\n",
      "\n",
      "CartScreenAppear\n",
      "p-значение:  0.5786197879539783\n",
      "Не получилось отвергнуть нулевую гипотезу, нет оснований считать доли разными\n",
      "\n",
      "PaymentScreenSuccessful\n",
      "p-значение:  0.7373415053803964\n",
      "Не получилось отвергнуть нулевую гипотезу, нет оснований считать доли разными\n",
      "\n"
     ]
    }
   ],
   "source": [
    "for event_name in event_name_array:\n",
    "    test(group_247, group_248, event_name, alpha=0.0025)"
   ]
  },
  {
   "cell_type": "markdown",
   "metadata": {},
   "source": [
    "**Вывод:** Как и с уровнем значимости 0.05, различия между группами 247 и 248 не обнаружились.\n",
    "\n",
    "Различия между объединенными группами 246, 247 и 248:"
   ]
  },
  {
   "cell_type": "code",
   "execution_count": 35,
   "metadata": {},
   "outputs": [
    {
     "name": "stdout",
     "output_type": "stream",
     "text": [
      "Tutorial\n",
      "p-значение:  0.764862472531507\n",
      "Не получилось отвергнуть нулевую гипотезу, нет оснований считать доли разными\n",
      "\n",
      "MainScreenAppear\n",
      "p-значение:  0.29424526837179577\n",
      "Не получилось отвергнуть нулевую гипотезу, нет оснований считать доли разными\n",
      "\n",
      "OffersScreenAppear\n",
      "p-значение:  0.43425549655188256\n",
      "Не получилось отвергнуть нулевую гипотезу, нет оснований считать доли разными\n",
      "\n",
      "CartScreenAppear\n",
      "p-значение:  0.18175875284404386\n",
      "Не получилось отвергнуть нулевую гипотезу, нет оснований считать доли разными\n",
      "\n",
      "PaymentScreenSuccessful\n",
      "p-значение:  0.6004294282308704\n",
      "Не получилось отвергнуть нулевую гипотезу, нет оснований считать доли разными\n",
      "\n"
     ]
    }
   ],
   "source": [
    "for event_name in event_name_array:\n",
    "    test(group_246_247, group_248, event_name, alpha=0.0025)"
   ]
  },
  {
   "cell_type": "markdown",
   "metadata": {},
   "source": [
    "**Вывод:** Как и с уровнем значимости 0.05, различия между объединенными группами 246, 247 и 248 не обнаружились."
   ]
  },
  {
   "cell_type": "markdown",
   "metadata": {},
   "source": [
    "**Общий вывод по разделу:**\n",
    "- Посчитали пользователей в каждой экспериментальной группе: 246-2484, 247-2513, 248-2537;\n",
    "- Проверили, находят ли статистические критерии разницу между выборками 246 и 247, ее нет;\n",
    "- Статистические критерии разницу между выборками 246 и 247 не нашли, т.к. ни для оного из событий разница не оказалось значимой обе эти группы посчитали контрольными. Разбиение на группы работает корректно;\n",
    "- При уровне значимости 0.05 различий между группами 246, 247 и 248 нет;\n",
    "- А также использовали метод поправки Бонферрони и получили уровнь значимости 0.0025, перепроверили наши результаты, которые нам не дали отвергнуть нулевую гипотезу."
   ]
  },
  {
   "cell_type": "markdown",
   "metadata": {},
   "source": [
    "<a id=\"chapter6\"></a>\n",
    "\n",
    "###  Общий вывод\n",
    "\n",
    "**В данном проекте были выполнены следующие работы**\n",
    "\n",
    "*Изучена общая информация о данных*\n",
    "\n",
    "*Предобработка данных:*\n",
    "\n",
    "- Изменили названия столбцов;\n",
    "- Удалили явные дубликаты;\n",
    "- Изменили тип данных стобца event_timestamp;\n",
    "- Добавили еще одну колонку с датами date.\n",
    "\n",
    "*Изучили и проверили данные:*\n",
    "- Всего событий в логе: 243713;\n",
    "- Всего пользователей в логе: 7551;\n",
    "- Среднее количество событий на пользователя: 20.0;\n",
    "- Период за который располагаем данными: с 2019-07-25 по 2019-08-07;\n",
    "- Отбросили \"неполные\" данные до 2019-08-01;\n",
    "- Доля отброшенных данных: 1.2%.\n",
    "\n",
    "*Изучили воронку событий:*\n",
    "- Посмотрили, какие события есть в логах, и как часто они встречаются: MainScreenAppear - 48.71%, а меньше всего Tutorial - 0.42%;\n",
    "- Нашли, что больше всего пользователей - 98.47% совершали событие MainScreenAppear, а меньше всего Tutorial - 11.15%;\n",
    "- Предположили в каком порядке происходят события: MainScreenAppear - OffersScreenAppear - CartScreenAppear - PaymentScreenSuccessful, а Tutoria в эту цепочку не входит, так как это руководство;\n",
    "- По воронке событий посчитали какая доля пользователей проходит на следующий шаг воронки (от числа пользователей на предыдущем): 100% - 61.91% - 81.30% - 94.78%;\n",
    "- Выяснили на каком шаге теряется больше всего пользователей. На событии OffersScreenAppear заметен резкий провал конверсии, предположили, что это из-за возможности добавления товара в корзину без просмотра каталога: например, возле карточки товара есть кнопка «Добавить в корзину»;\n",
    "- Посчитали долю пользователей прошедших от первого события до оплаты, она составила 47.70%.\n",
    "\n",
    "*Изучили результаты эксперимента:*\n",
    "- Посчитали пользователей в каждой экспериментальной группе: 246-2484, 247-2513, 248-2537;\n",
    "- Проверили, находят ли статистические критерии разницу между выборками 246 и 247, ее нет;\n",
    "- Статистические критерии разницу между выборками 246 и 247 не нашли, т.к. ни для оного из событий разница не оказалось значимой обе эти группы посчитали контрольными. Разбиение на группы работает корректно;\n",
    "- При уровне значимости 0.05 различий между группами 246, 247 и 248 нет;\n",
    "- А также использовали метод поправки Бонферрони и получили уровнь значимости 0.0025, перепроверили наши результаты, которые нам не дали отвергнуть нулевую гипотезу.\n",
    "\n",
    "Результаты A/A/B-эксперимента, проведённых по каждому из событий, не обнаружили статистически значимой разницы между группами. Т.е. изменение шрифтов в приложении на поведение пользователей не повлияло."
   ]
  }
 ],
 "metadata": {
  "ExecuteTimeLog": [
   {
    "duration": 1520,
    "start_time": "2024-10-02T11:18:58.990Z"
   },
   {
    "duration": 962,
    "start_time": "2024-10-02T11:41:35.620Z"
   },
   {
    "duration": 64,
    "start_time": "2024-10-02T11:42:00.983Z"
   },
   {
    "duration": 348,
    "start_time": "2024-10-02T11:42:10.133Z"
   },
   {
    "duration": 76,
    "start_time": "2024-10-02T11:42:18.658Z"
   },
   {
    "duration": 61,
    "start_time": "2024-10-02T11:43:46.581Z"
   },
   {
    "duration": 360,
    "start_time": "2024-10-02T11:43:49.694Z"
   },
   {
    "duration": 651,
    "start_time": "2024-10-02T11:44:24.890Z"
   },
   {
    "duration": 201,
    "start_time": "2024-10-02T11:44:29.065Z"
   },
   {
    "duration": 277,
    "start_time": "2024-10-02T11:45:33.695Z"
   },
   {
    "duration": 275,
    "start_time": "2024-10-02T11:46:20.174Z"
   },
   {
    "duration": 33,
    "start_time": "2024-10-02T11:46:35.460Z"
   },
   {
    "duration": 345,
    "start_time": "2024-10-02T11:47:41.167Z"
   },
   {
    "duration": 74,
    "start_time": "2024-10-02T11:52:41.492Z"
   },
   {
    "duration": 33,
    "start_time": "2024-10-02T12:04:08.219Z"
   },
   {
    "duration": 26,
    "start_time": "2024-10-02T12:05:26.548Z"
   },
   {
    "duration": 124,
    "start_time": "2024-10-02T12:23:44.821Z"
   },
   {
    "duration": 1323,
    "start_time": "2024-10-02T12:24:01.689Z"
   },
   {
    "duration": 417,
    "start_time": "2024-10-02T12:24:03.019Z"
   },
   {
    "duration": 27,
    "start_time": "2024-10-02T12:24:03.438Z"
   },
   {
    "duration": 175,
    "start_time": "2024-10-02T12:24:03.468Z"
   },
   {
    "duration": 132,
    "start_time": "2024-10-02T12:26:06.055Z"
   },
   {
    "duration": 148,
    "start_time": "2024-10-02T12:26:58.499Z"
   },
   {
    "duration": 9,
    "start_time": "2024-10-02T12:32:20.997Z"
   },
   {
    "duration": 30,
    "start_time": "2024-10-02T12:32:31.004Z"
   },
   {
    "duration": 28,
    "start_time": "2024-10-02T12:38:54.223Z"
   },
   {
    "duration": 90,
    "start_time": "2024-10-02T12:41:57.542Z"
   },
   {
    "duration": 27,
    "start_time": "2024-10-02T12:42:13.270Z"
   },
   {
    "duration": 117,
    "start_time": "2024-10-02T12:45:02.044Z"
   },
   {
    "duration": 1277,
    "start_time": "2024-10-02T12:48:46.319Z"
   },
   {
    "duration": 419,
    "start_time": "2024-10-02T12:48:47.598Z"
   },
   {
    "duration": 28,
    "start_time": "2024-10-02T12:48:48.020Z"
   },
   {
    "duration": 159,
    "start_time": "2024-10-02T12:48:48.050Z"
   },
   {
    "duration": 1438,
    "start_time": "2024-10-02T12:48:48.211Z"
   },
   {
    "duration": 92,
    "start_time": "2024-10-02T12:49:30.356Z"
   },
   {
    "duration": 11,
    "start_time": "2024-10-02T13:03:48.316Z"
   },
   {
    "duration": 12,
    "start_time": "2024-10-02T13:04:21.051Z"
   },
   {
    "duration": 7,
    "start_time": "2024-10-02T13:04:31.433Z"
   },
   {
    "duration": 12,
    "start_time": "2024-10-02T13:04:49.776Z"
   },
   {
    "duration": 7,
    "start_time": "2024-10-02T13:08:05.679Z"
   },
   {
    "duration": 7,
    "start_time": "2024-10-02T13:08:33.811Z"
   },
   {
    "duration": 10,
    "start_time": "2024-10-02T13:13:53.997Z"
   },
   {
    "duration": 5,
    "start_time": "2024-10-02T13:14:04.874Z"
   },
   {
    "duration": 4,
    "start_time": "2024-10-02T13:15:02.532Z"
   },
   {
    "duration": 6,
    "start_time": "2024-10-02T13:15:27.849Z"
   },
   {
    "duration": 9,
    "start_time": "2024-10-02T13:15:41.322Z"
   },
   {
    "duration": 64,
    "start_time": "2024-10-02T13:17:08.117Z"
   },
   {
    "duration": 84,
    "start_time": "2024-10-02T13:17:30.882Z"
   },
   {
    "duration": 3,
    "start_time": "2024-10-02T13:18:30.359Z"
   },
   {
    "duration": 7,
    "start_time": "2024-10-02T13:18:58.630Z"
   },
   {
    "duration": 9,
    "start_time": "2024-10-02T13:19:10.828Z"
   },
   {
    "duration": 9,
    "start_time": "2024-10-02T13:21:23.251Z"
   },
   {
    "duration": 22,
    "start_time": "2024-10-02T13:21:29.950Z"
   },
   {
    "duration": 20,
    "start_time": "2024-10-02T13:21:53.238Z"
   },
   {
    "duration": 19,
    "start_time": "2024-10-02T13:22:05.047Z"
   },
   {
    "duration": 21,
    "start_time": "2024-10-02T13:22:20.892Z"
   },
   {
    "duration": 22,
    "start_time": "2024-10-02T13:44:58.315Z"
   },
   {
    "duration": 22,
    "start_time": "2024-10-02T13:56:36.394Z"
   },
   {
    "duration": 25,
    "start_time": "2024-10-02T13:57:04.804Z"
   },
   {
    "duration": 30,
    "start_time": "2024-10-02T13:57:26.823Z"
   },
   {
    "duration": 481,
    "start_time": "2024-10-02T14:15:03.793Z"
   },
   {
    "duration": 47,
    "start_time": "2024-10-03T09:07:15.811Z"
   },
   {
    "duration": 1323,
    "start_time": "2024-10-03T09:07:20.478Z"
   },
   {
    "duration": 862,
    "start_time": "2024-10-03T09:07:21.803Z"
   },
   {
    "duration": 26,
    "start_time": "2024-10-03T09:07:22.667Z"
   },
   {
    "duration": 146,
    "start_time": "2024-10-03T09:07:22.694Z"
   },
   {
    "duration": 82,
    "start_time": "2024-10-03T09:07:22.841Z"
   },
   {
    "duration": 4,
    "start_time": "2024-10-03T09:07:22.924Z"
   },
   {
    "duration": 49,
    "start_time": "2024-10-03T09:07:22.943Z"
   },
   {
    "duration": 21,
    "start_time": "2024-10-03T09:07:22.994Z"
   },
   {
    "duration": 18,
    "start_time": "2024-10-03T09:07:23.017Z"
   },
   {
    "duration": 23,
    "start_time": "2024-10-03T09:07:23.037Z"
   },
   {
    "duration": 483,
    "start_time": "2024-10-03T09:07:23.062Z"
   },
   {
    "duration": 406,
    "start_time": "2024-10-03T09:07:23.547Z"
   },
   {
    "duration": 0,
    "start_time": "2024-10-03T09:07:23.955Z"
   },
   {
    "duration": 38,
    "start_time": "2024-10-03T09:08:20.669Z"
   },
   {
    "duration": 1171,
    "start_time": "2024-10-03T09:09:15.358Z"
   },
   {
    "duration": 374,
    "start_time": "2024-10-03T09:09:16.531Z"
   },
   {
    "duration": 26,
    "start_time": "2024-10-03T09:09:16.906Z"
   },
   {
    "duration": 182,
    "start_time": "2024-10-03T09:09:16.934Z"
   },
   {
    "duration": 80,
    "start_time": "2024-10-03T09:09:17.119Z"
   },
   {
    "duration": 43,
    "start_time": "2024-10-03T09:09:17.201Z"
   },
   {
    "duration": 3,
    "start_time": "2024-10-03T09:09:17.245Z"
   },
   {
    "duration": 10,
    "start_time": "2024-10-03T09:09:17.250Z"
   },
   {
    "duration": 26,
    "start_time": "2024-10-03T09:09:17.262Z"
   },
   {
    "duration": 18,
    "start_time": "2024-10-03T09:09:17.290Z"
   },
   {
    "duration": 36,
    "start_time": "2024-10-03T09:09:17.309Z"
   },
   {
    "duration": 540,
    "start_time": "2024-10-03T09:09:17.347Z"
   },
   {
    "duration": 355,
    "start_time": "2024-10-03T09:09:17.888Z"
   },
   {
    "duration": 0,
    "start_time": "2024-10-03T09:09:18.245Z"
   },
   {
    "duration": 1157,
    "start_time": "2024-10-03T09:11:43.202Z"
   },
   {
    "duration": 375,
    "start_time": "2024-10-03T09:11:44.361Z"
   },
   {
    "duration": 29,
    "start_time": "2024-10-03T09:11:44.742Z"
   },
   {
    "duration": 154,
    "start_time": "2024-10-03T09:11:44.772Z"
   },
   {
    "duration": 127,
    "start_time": "2024-10-03T09:11:44.929Z"
   },
   {
    "duration": 37,
    "start_time": "2024-10-03T09:11:45.059Z"
   },
   {
    "duration": 27,
    "start_time": "2024-10-03T09:11:45.098Z"
   },
   {
    "duration": 24,
    "start_time": "2024-10-03T09:11:45.126Z"
   },
   {
    "duration": 45,
    "start_time": "2024-10-03T09:11:45.152Z"
   },
   {
    "duration": 29,
    "start_time": "2024-10-03T09:11:45.198Z"
   },
   {
    "duration": 22,
    "start_time": "2024-10-03T09:11:45.229Z"
   },
   {
    "duration": 455,
    "start_time": "2024-10-03T09:11:45.252Z"
   },
   {
    "duration": 17,
    "start_time": "2024-10-03T09:11:45.708Z"
   },
   {
    "duration": 29,
    "start_time": "2024-10-03T09:11:45.728Z"
   },
   {
    "duration": 4,
    "start_time": "2024-10-03T09:23:52.523Z"
   },
   {
    "duration": 4,
    "start_time": "2024-10-03T09:25:16.508Z"
   },
   {
    "duration": 101,
    "start_time": "2024-10-03T09:29:52.902Z"
   },
   {
    "duration": 3,
    "start_time": "2024-10-03T09:31:00.176Z"
   },
   {
    "duration": 3,
    "start_time": "2024-10-03T09:31:05.307Z"
   },
   {
    "duration": 68,
    "start_time": "2024-10-03T09:32:09.011Z"
   },
   {
    "duration": 4,
    "start_time": "2024-10-03T09:32:17.670Z"
   },
   {
    "duration": 24,
    "start_time": "2024-10-03T09:53:18.801Z"
   },
   {
    "duration": 43,
    "start_time": "2024-10-03T10:02:55.436Z"
   },
   {
    "duration": 48,
    "start_time": "2024-10-03T10:03:28.401Z"
   },
   {
    "duration": 36,
    "start_time": "2024-10-03T10:03:53.699Z"
   },
   {
    "duration": 11,
    "start_time": "2024-10-03T10:14:15.938Z"
   },
   {
    "duration": 49,
    "start_time": "2024-10-03T10:55:12.924Z"
   },
   {
    "duration": 37,
    "start_time": "2024-10-03T10:55:28.815Z"
   },
   {
    "duration": 40,
    "start_time": "2024-10-03T10:55:36.434Z"
   },
   {
    "duration": 40,
    "start_time": "2024-10-03T10:57:53.088Z"
   },
   {
    "duration": 1570,
    "start_time": "2024-10-03T10:58:08.069Z"
   },
   {
    "duration": 40,
    "start_time": "2024-10-03T10:58:28.267Z"
   },
   {
    "duration": 64,
    "start_time": "2024-10-03T11:00:32.536Z"
   },
   {
    "duration": 38,
    "start_time": "2024-10-03T11:00:40.975Z"
   },
   {
    "duration": 67,
    "start_time": "2024-10-03T11:00:57.413Z"
   },
   {
    "duration": 41,
    "start_time": "2024-10-03T11:01:03.050Z"
   },
   {
    "duration": 43,
    "start_time": "2024-10-03T11:01:21.851Z"
   },
   {
    "duration": 41,
    "start_time": "2024-10-03T11:01:32.484Z"
   },
   {
    "duration": 40,
    "start_time": "2024-10-03T11:01:50.245Z"
   },
   {
    "duration": 40,
    "start_time": "2024-10-03T11:02:16.803Z"
   },
   {
    "duration": 66,
    "start_time": "2024-10-03T11:13:10.756Z"
   },
   {
    "duration": 70,
    "start_time": "2024-10-03T11:13:16.394Z"
   },
   {
    "duration": 70,
    "start_time": "2024-10-03T11:14:27.692Z"
   },
   {
    "duration": 74,
    "start_time": "2024-10-03T11:14:59.754Z"
   },
   {
    "duration": 70,
    "start_time": "2024-10-03T11:32:00.536Z"
   },
   {
    "duration": 64,
    "start_time": "2024-10-03T12:09:19.369Z"
   },
   {
    "duration": 26,
    "start_time": "2024-10-03T12:11:18.624Z"
   },
   {
    "duration": 60,
    "start_time": "2024-10-03T12:11:41.568Z"
   },
   {
    "duration": 64,
    "start_time": "2024-10-03T12:13:42.852Z"
   },
   {
    "duration": 89,
    "start_time": "2024-10-03T12:13:48.555Z"
   },
   {
    "duration": 78,
    "start_time": "2024-10-03T12:14:47.499Z"
   },
   {
    "duration": 73,
    "start_time": "2024-10-03T12:14:56.236Z"
   },
   {
    "duration": 77,
    "start_time": "2024-10-03T12:15:33.498Z"
   },
   {
    "duration": 9,
    "start_time": "2024-10-03T12:17:14.292Z"
   },
   {
    "duration": 58,
    "start_time": "2024-10-03T12:17:22.831Z"
   },
   {
    "duration": 53,
    "start_time": "2024-10-03T12:17:28.835Z"
   },
   {
    "duration": 70,
    "start_time": "2024-10-03T12:18:11.415Z"
   },
   {
    "duration": 133,
    "start_time": "2024-10-03T12:18:23.764Z"
   },
   {
    "duration": 123,
    "start_time": "2024-10-03T12:18:32.251Z"
   },
   {
    "duration": 10,
    "start_time": "2024-10-03T12:19:50.045Z"
   },
   {
    "duration": 4,
    "start_time": "2024-10-03T12:20:21.448Z"
   },
   {
    "duration": 8,
    "start_time": "2024-10-03T12:20:26.433Z"
   },
   {
    "duration": 1034,
    "start_time": "2024-10-03T12:21:22.383Z"
   },
   {
    "duration": 1057,
    "start_time": "2024-10-03T12:24:17.431Z"
   },
   {
    "duration": 9,
    "start_time": "2024-10-03T12:24:27.026Z"
   },
   {
    "duration": 126,
    "start_time": "2024-10-03T12:25:46.074Z"
   },
   {
    "duration": 147,
    "start_time": "2024-10-03T12:25:54.729Z"
   },
   {
    "duration": 10,
    "start_time": "2024-10-03T12:26:30.592Z"
   },
   {
    "duration": 14,
    "start_time": "2024-10-03T12:26:41.035Z"
   },
   {
    "duration": 12,
    "start_time": "2024-10-03T12:26:46.175Z"
   },
   {
    "duration": 120,
    "start_time": "2024-10-03T12:27:37.153Z"
   },
   {
    "duration": 10,
    "start_time": "2024-10-03T12:27:42.130Z"
   },
   {
    "duration": 4,
    "start_time": "2024-10-03T12:28:22.802Z"
   },
   {
    "duration": 11,
    "start_time": "2024-10-03T12:28:29.194Z"
   },
   {
    "duration": 11,
    "start_time": "2024-10-03T12:29:01.086Z"
   },
   {
    "duration": 11,
    "start_time": "2024-10-03T12:29:19.136Z"
   },
   {
    "duration": 1009,
    "start_time": "2024-10-03T12:29:21.360Z"
   },
   {
    "duration": 8,
    "start_time": "2024-10-03T12:29:45.505Z"
   },
   {
    "duration": 8,
    "start_time": "2024-10-03T12:29:53.276Z"
   },
   {
    "duration": 9,
    "start_time": "2024-10-03T12:30:15.086Z"
   },
   {
    "duration": 11,
    "start_time": "2024-10-03T12:30:49.494Z"
   },
   {
    "duration": 125,
    "start_time": "2024-10-03T12:30:53.415Z"
   },
   {
    "duration": 9,
    "start_time": "2024-10-03T12:31:17.278Z"
   },
   {
    "duration": 13,
    "start_time": "2024-10-03T12:31:42.052Z"
   },
   {
    "duration": 10,
    "start_time": "2024-10-03T12:32:11.935Z"
   },
   {
    "duration": 1189,
    "start_time": "2024-10-03T12:33:38.356Z"
   },
   {
    "duration": 361,
    "start_time": "2024-10-03T12:33:39.547Z"
   },
   {
    "duration": 35,
    "start_time": "2024-10-03T12:33:39.910Z"
   },
   {
    "duration": 152,
    "start_time": "2024-10-03T12:33:39.948Z"
   },
   {
    "duration": 125,
    "start_time": "2024-10-03T12:33:40.102Z"
   },
   {
    "duration": 30,
    "start_time": "2024-10-03T12:33:40.230Z"
   },
   {
    "duration": 91,
    "start_time": "2024-10-03T12:33:40.262Z"
   },
   {
    "duration": 24,
    "start_time": "2024-10-03T12:33:40.354Z"
   },
   {
    "duration": 21,
    "start_time": "2024-10-03T12:33:40.380Z"
   },
   {
    "duration": 5,
    "start_time": "2024-10-03T12:33:40.403Z"
   },
   {
    "duration": 27,
    "start_time": "2024-10-03T12:33:40.409Z"
   },
   {
    "duration": 475,
    "start_time": "2024-10-03T12:33:40.438Z"
   },
   {
    "duration": 17,
    "start_time": "2024-10-03T12:33:40.915Z"
   },
   {
    "duration": 10,
    "start_time": "2024-10-03T12:33:40.935Z"
   },
   {
    "duration": 52,
    "start_time": "2024-10-03T12:33:40.946Z"
   },
   {
    "duration": 36,
    "start_time": "2024-10-03T12:33:41.000Z"
   },
   {
    "duration": 135,
    "start_time": "2024-10-03T12:33:41.037Z"
   },
   {
    "duration": 119,
    "start_time": "2024-10-03T12:33:41.174Z"
   },
   {
    "duration": 60,
    "start_time": "2024-10-03T12:33:41.294Z"
   },
   {
    "duration": 9,
    "start_time": "2024-10-03T12:33:41.355Z"
   },
   {
    "duration": 29,
    "start_time": "2024-10-03T12:33:41.366Z"
   },
   {
    "duration": 118,
    "start_time": "2024-10-03T12:34:35.474Z"
   },
   {
    "duration": 101,
    "start_time": "2024-10-03T12:40:46.962Z"
   },
   {
    "duration": 51,
    "start_time": "2024-10-03T12:41:32.860Z"
   },
   {
    "duration": 9,
    "start_time": "2024-10-03T12:42:08.659Z"
   },
   {
    "duration": 998,
    "start_time": "2024-10-03T12:42:42.311Z"
   },
   {
    "duration": 8,
    "start_time": "2024-10-03T12:42:55.542Z"
   },
   {
    "duration": 10,
    "start_time": "2024-10-03T12:44:38.623Z"
   },
   {
    "duration": 91,
    "start_time": "2024-10-03T12:45:04.474Z"
   },
   {
    "duration": 82,
    "start_time": "2024-10-03T12:46:46.675Z"
   },
   {
    "duration": 86,
    "start_time": "2024-10-03T12:53:01.372Z"
   },
   {
    "duration": 70,
    "start_time": "2024-10-03T13:04:39.231Z"
   },
   {
    "duration": 73,
    "start_time": "2024-10-03T13:05:21.662Z"
   },
   {
    "duration": 71,
    "start_time": "2024-10-03T13:05:26.882Z"
   },
   {
    "duration": 77,
    "start_time": "2024-10-03T13:06:23.782Z"
   },
   {
    "duration": 89,
    "start_time": "2024-10-03T13:11:33.764Z"
   },
   {
    "duration": 1098,
    "start_time": "2024-10-03T13:16:36.569Z"
   },
   {
    "duration": 54,
    "start_time": "2024-10-03T13:17:01.737Z"
   },
   {
    "duration": 55,
    "start_time": "2024-10-03T13:19:29.556Z"
   },
   {
    "duration": 67,
    "start_time": "2024-10-03T13:21:30.289Z"
   },
   {
    "duration": 61,
    "start_time": "2024-10-03T13:21:48.652Z"
   },
   {
    "duration": 61,
    "start_time": "2024-10-03T13:21:59.677Z"
   },
   {
    "duration": 63,
    "start_time": "2024-10-03T13:22:09.857Z"
   },
   {
    "duration": 59,
    "start_time": "2024-10-03T13:24:51.052Z"
   },
   {
    "duration": 57,
    "start_time": "2024-10-03T13:25:07.945Z"
   },
   {
    "duration": 73,
    "start_time": "2024-10-03T13:26:23.717Z"
   },
   {
    "duration": 81,
    "start_time": "2024-10-03T13:27:18.271Z"
   },
   {
    "duration": 82,
    "start_time": "2024-10-03T13:28:04.752Z"
   },
   {
    "duration": 1207,
    "start_time": "2024-10-03T16:13:40.427Z"
   },
   {
    "duration": 59,
    "start_time": "2024-10-03T16:13:52.821Z"
   },
   {
    "duration": 54,
    "start_time": "2024-10-03T16:15:41.533Z"
   },
   {
    "duration": 59,
    "start_time": "2024-10-03T16:16:25.296Z"
   },
   {
    "duration": 66,
    "start_time": "2024-10-03T16:16:31.730Z"
   },
   {
    "duration": 97,
    "start_time": "2024-10-03T16:18:00.794Z"
   },
   {
    "duration": 84,
    "start_time": "2024-10-03T16:18:59.486Z"
   },
   {
    "duration": 90,
    "start_time": "2024-10-03T16:19:37.204Z"
   },
   {
    "duration": 86,
    "start_time": "2024-10-03T16:21:00.032Z"
   },
   {
    "duration": 82,
    "start_time": "2024-10-03T16:21:17.627Z"
   },
   {
    "duration": 90,
    "start_time": "2024-10-03T16:21:26.969Z"
   },
   {
    "duration": 350,
    "start_time": "2024-10-03T16:21:46.418Z"
   },
   {
    "duration": 84,
    "start_time": "2024-10-03T16:22:04.301Z"
   },
   {
    "duration": 80,
    "start_time": "2024-10-03T16:22:14.339Z"
   },
   {
    "duration": 78,
    "start_time": "2024-10-03T16:22:50.475Z"
   },
   {
    "duration": 1166,
    "start_time": "2024-10-03T16:23:12.065Z"
   },
   {
    "duration": 364,
    "start_time": "2024-10-03T16:23:13.232Z"
   },
   {
    "duration": 25,
    "start_time": "2024-10-03T16:23:13.597Z"
   },
   {
    "duration": 139,
    "start_time": "2024-10-03T16:23:13.624Z"
   },
   {
    "duration": 128,
    "start_time": "2024-10-03T16:23:13.765Z"
   },
   {
    "duration": 23,
    "start_time": "2024-10-03T16:23:13.894Z"
   },
   {
    "duration": 3,
    "start_time": "2024-10-03T16:23:13.919Z"
   },
   {
    "duration": 23,
    "start_time": "2024-10-03T16:23:13.924Z"
   },
   {
    "duration": 24,
    "start_time": "2024-10-03T16:23:13.949Z"
   },
   {
    "duration": 82,
    "start_time": "2024-10-03T16:23:13.974Z"
   },
   {
    "duration": 36,
    "start_time": "2024-10-03T16:23:14.058Z"
   },
   {
    "duration": 439,
    "start_time": "2024-10-03T16:23:14.095Z"
   },
   {
    "duration": 21,
    "start_time": "2024-10-03T16:23:14.536Z"
   },
   {
    "duration": 4,
    "start_time": "2024-10-03T16:23:14.559Z"
   },
   {
    "duration": 21,
    "start_time": "2024-10-03T16:23:14.564Z"
   },
   {
    "duration": 57,
    "start_time": "2024-10-03T16:23:14.587Z"
   },
   {
    "duration": 80,
    "start_time": "2024-10-03T16:23:14.645Z"
   },
   {
    "duration": 229,
    "start_time": "2024-10-03T16:23:14.727Z"
   },
   {
    "duration": 0,
    "start_time": "2024-10-03T16:23:14.957Z"
   },
   {
    "duration": 87,
    "start_time": "2024-10-03T16:23:23.955Z"
   },
   {
    "duration": 90,
    "start_time": "2024-10-03T16:23:55.270Z"
   },
   {
    "duration": 87,
    "start_time": "2024-10-03T16:24:20.421Z"
   },
   {
    "duration": 84,
    "start_time": "2024-10-03T16:24:27.207Z"
   },
   {
    "duration": 84,
    "start_time": "2024-10-03T16:24:31.582Z"
   },
   {
    "duration": 103,
    "start_time": "2024-10-03T16:24:35.949Z"
   },
   {
    "duration": 88,
    "start_time": "2024-10-03T16:25:54.088Z"
   },
   {
    "duration": 1053,
    "start_time": "2024-10-03T16:47:23.861Z"
   },
   {
    "duration": 12,
    "start_time": "2024-10-03T16:47:58.687Z"
   },
   {
    "duration": 94,
    "start_time": "2024-10-03T16:55:09.340Z"
   },
   {
    "duration": 10,
    "start_time": "2024-10-03T16:55:15.260Z"
   },
   {
    "duration": 1131,
    "start_time": "2024-10-03T16:55:17.620Z"
   },
   {
    "duration": 10,
    "start_time": "2024-10-03T16:55:32.751Z"
   },
   {
    "duration": 92,
    "start_time": "2024-10-03T16:55:42.456Z"
   },
   {
    "duration": 10,
    "start_time": "2024-10-03T16:55:44.462Z"
   },
   {
    "duration": 109,
    "start_time": "2024-10-03T16:57:01.776Z"
   },
   {
    "duration": 11,
    "start_time": "2024-10-03T16:57:05.451Z"
   },
   {
    "duration": 94,
    "start_time": "2024-10-03T17:12:04.457Z"
   },
   {
    "duration": 10,
    "start_time": "2024-10-03T17:12:07.283Z"
   },
   {
    "duration": 82,
    "start_time": "2024-10-03T17:12:41.138Z"
   },
   {
    "duration": 10,
    "start_time": "2024-10-03T17:12:43.741Z"
   },
   {
    "duration": 117,
    "start_time": "2024-10-03T17:12:47.547Z"
   },
   {
    "duration": 131,
    "start_time": "2024-10-03T17:14:04.020Z"
   },
   {
    "duration": 123,
    "start_time": "2024-10-03T17:14:24.628Z"
   },
   {
    "duration": 98,
    "start_time": "2024-10-03T17:15:05.604Z"
   },
   {
    "duration": 94,
    "start_time": "2024-10-03T17:15:14.632Z"
   },
   {
    "duration": 94,
    "start_time": "2024-10-03T17:15:19.091Z"
   },
   {
    "duration": 111,
    "start_time": "2024-10-03T17:15:24.185Z"
   },
   {
    "duration": 216,
    "start_time": "2024-10-03T17:22:38.637Z"
   },
   {
    "duration": 88,
    "start_time": "2024-10-03T17:23:42.862Z"
   },
   {
    "duration": 140,
    "start_time": "2024-10-03T17:24:04.761Z"
   },
   {
    "duration": 124,
    "start_time": "2024-10-03T17:26:51.736Z"
   },
   {
    "duration": 107,
    "start_time": "2024-10-03T17:28:14.076Z"
   },
   {
    "duration": 112,
    "start_time": "2024-10-03T17:28:52.425Z"
   },
   {
    "duration": 334,
    "start_time": "2024-10-03T17:29:05.092Z"
   },
   {
    "duration": 211,
    "start_time": "2024-10-03T17:29:12.759Z"
   },
   {
    "duration": 237,
    "start_time": "2024-10-03T17:30:24.662Z"
   },
   {
    "duration": 227,
    "start_time": "2024-10-03T17:31:51.746Z"
   },
   {
    "duration": 259,
    "start_time": "2024-10-03T17:34:56.634Z"
   },
   {
    "duration": 241,
    "start_time": "2024-10-03T17:35:05.536Z"
   },
   {
    "duration": 213,
    "start_time": "2024-10-03T17:40:27.569Z"
   },
   {
    "duration": 225,
    "start_time": "2024-10-03T17:40:39.872Z"
   },
   {
    "duration": 350,
    "start_time": "2024-10-03T17:40:56.440Z"
   },
   {
    "duration": 264,
    "start_time": "2024-10-03T17:41:06.590Z"
   },
   {
    "duration": 271,
    "start_time": "2024-10-03T17:53:00.117Z"
   },
   {
    "duration": 202,
    "start_time": "2024-10-03T17:53:04.385Z"
   },
   {
    "duration": 226,
    "start_time": "2024-10-03T17:53:12.064Z"
   },
   {
    "duration": 288,
    "start_time": "2024-10-03T17:53:16.590Z"
   },
   {
    "duration": 11,
    "start_time": "2024-10-03T18:05:45.557Z"
   },
   {
    "duration": 4,
    "start_time": "2024-10-03T18:05:52.521Z"
   },
   {
    "duration": 59,
    "start_time": "2024-10-03T18:20:35.783Z"
   },
   {
    "duration": 1355,
    "start_time": "2024-10-04T08:58:01.449Z"
   },
   {
    "duration": 1073,
    "start_time": "2024-10-04T08:58:02.806Z"
   },
   {
    "duration": 27,
    "start_time": "2024-10-04T08:58:03.881Z"
   },
   {
    "duration": 148,
    "start_time": "2024-10-04T08:58:03.910Z"
   },
   {
    "duration": 128,
    "start_time": "2024-10-04T08:58:04.059Z"
   },
   {
    "duration": 22,
    "start_time": "2024-10-04T08:58:04.188Z"
   },
   {
    "duration": 16,
    "start_time": "2024-10-04T08:58:04.211Z"
   },
   {
    "duration": 10,
    "start_time": "2024-10-04T08:58:04.229Z"
   },
   {
    "duration": 20,
    "start_time": "2024-10-04T08:58:04.241Z"
   },
   {
    "duration": 4,
    "start_time": "2024-10-04T08:58:04.263Z"
   },
   {
    "duration": 5,
    "start_time": "2024-10-04T08:58:04.269Z"
   },
   {
    "duration": 550,
    "start_time": "2024-10-04T08:58:04.275Z"
   },
   {
    "duration": 16,
    "start_time": "2024-10-04T08:58:04.827Z"
   },
   {
    "duration": 30,
    "start_time": "2024-10-04T08:58:04.845Z"
   },
   {
    "duration": 22,
    "start_time": "2024-10-04T08:58:04.877Z"
   },
   {
    "duration": 38,
    "start_time": "2024-10-04T08:58:04.901Z"
   },
   {
    "duration": 85,
    "start_time": "2024-10-04T08:58:04.941Z"
   },
   {
    "duration": 102,
    "start_time": "2024-10-04T08:58:05.028Z"
   },
   {
    "duration": 244,
    "start_time": "2024-10-04T08:58:05.132Z"
   },
   {
    "duration": 3,
    "start_time": "2024-10-04T08:58:05.378Z"
   },
   {
    "duration": 144,
    "start_time": "2024-10-04T08:58:05.383Z"
   },
   {
    "duration": 7,
    "start_time": "2024-10-04T08:58:05.529Z"
   },
   {
    "duration": 461,
    "start_time": "2024-10-04T08:58:23.426Z"
   },
   {
    "duration": 465,
    "start_time": "2024-10-04T08:58:31.119Z"
   },
   {
    "duration": 450,
    "start_time": "2024-10-04T08:58:38.377Z"
   },
   {
    "duration": 31,
    "start_time": "2024-10-04T10:40:41.435Z"
   },
   {
    "duration": 64,
    "start_time": "2024-10-04T10:45:30.264Z"
   },
   {
    "duration": 5,
    "start_time": "2024-10-04T11:17:26.935Z"
   },
   {
    "duration": 4,
    "start_time": "2024-10-04T11:17:40.626Z"
   },
   {
    "duration": 3,
    "start_time": "2024-10-04T11:17:41.501Z"
   },
   {
    "duration": 7,
    "start_time": "2024-10-04T11:49:28.758Z"
   },
   {
    "duration": 110,
    "start_time": "2024-10-04T11:49:59.005Z"
   },
   {
    "duration": 26,
    "start_time": "2024-10-04T11:50:20.041Z"
   },
   {
    "duration": 74,
    "start_time": "2024-10-04T12:05:12.394Z"
   },
   {
    "duration": 45,
    "start_time": "2024-10-05T10:06:06.529Z"
   },
   {
    "duration": 5,
    "start_time": "2024-10-05T10:06:16.978Z"
   },
   {
    "duration": 1360,
    "start_time": "2024-10-05T10:06:21.744Z"
   },
   {
    "duration": 971,
    "start_time": "2024-10-05T10:06:23.106Z"
   },
   {
    "duration": 27,
    "start_time": "2024-10-05T10:06:24.079Z"
   },
   {
    "duration": 157,
    "start_time": "2024-10-05T10:06:24.108Z"
   },
   {
    "duration": 138,
    "start_time": "2024-10-05T10:06:24.268Z"
   },
   {
    "duration": 22,
    "start_time": "2024-10-05T10:06:24.408Z"
   },
   {
    "duration": 4,
    "start_time": "2024-10-05T10:06:24.431Z"
   },
   {
    "duration": 22,
    "start_time": "2024-10-05T10:06:24.437Z"
   },
   {
    "duration": 20,
    "start_time": "2024-10-05T10:06:24.461Z"
   },
   {
    "duration": 4,
    "start_time": "2024-10-05T10:06:24.483Z"
   },
   {
    "duration": 13,
    "start_time": "2024-10-05T10:06:24.489Z"
   },
   {
    "duration": 558,
    "start_time": "2024-10-05T10:06:24.504Z"
   },
   {
    "duration": 17,
    "start_time": "2024-10-05T10:06:25.064Z"
   },
   {
    "duration": 3,
    "start_time": "2024-10-05T10:06:25.085Z"
   },
   {
    "duration": 24,
    "start_time": "2024-10-05T10:06:25.091Z"
   },
   {
    "duration": 59,
    "start_time": "2024-10-05T10:06:25.117Z"
   },
   {
    "duration": 89,
    "start_time": "2024-10-05T10:06:25.178Z"
   },
   {
    "duration": 103,
    "start_time": "2024-10-05T10:06:25.269Z"
   },
   {
    "duration": 232,
    "start_time": "2024-10-05T10:06:25.374Z"
   },
   {
    "duration": 4,
    "start_time": "2024-10-05T10:06:25.608Z"
   },
   {
    "duration": 72,
    "start_time": "2024-10-05T10:06:25.613Z"
   },
   {
    "duration": 7,
    "start_time": "2024-10-05T10:06:25.687Z"
   },
   {
    "duration": 45,
    "start_time": "2024-10-05T10:06:25.695Z"
   },
   {
    "duration": 116,
    "start_time": "2024-10-05T10:06:25.741Z"
   },
   {
    "duration": 0,
    "start_time": "2024-10-05T10:06:25.858Z"
   },
   {
    "duration": 0,
    "start_time": "2024-10-05T10:06:25.860Z"
   },
   {
    "duration": 0,
    "start_time": "2024-10-05T10:06:25.861Z"
   },
   {
    "duration": 0,
    "start_time": "2024-10-05T10:06:25.863Z"
   },
   {
    "duration": 30,
    "start_time": "2024-10-05T10:06:55.928Z"
   },
   {
    "duration": 19,
    "start_time": "2024-10-05T10:07:20.359Z"
   },
   {
    "duration": 29,
    "start_time": "2024-10-05T10:07:21.816Z"
   },
   {
    "duration": 25,
    "start_time": "2024-10-05T10:07:23.345Z"
   },
   {
    "duration": 7,
    "start_time": "2024-10-05T10:07:27.525Z"
   },
   {
    "duration": 41,
    "start_time": "2024-10-05T10:07:29.162Z"
   },
   {
    "duration": 3,
    "start_time": "2024-10-05T10:08:27.064Z"
   },
   {
    "duration": 36,
    "start_time": "2024-10-05T10:08:36.453Z"
   },
   {
    "duration": 5,
    "start_time": "2024-10-05T10:08:37.470Z"
   },
   {
    "duration": 38,
    "start_time": "2024-10-05T10:08:38.308Z"
   },
   {
    "duration": 4,
    "start_time": "2024-10-05T10:09:10.321Z"
   },
   {
    "duration": 6,
    "start_time": "2024-10-05T10:09:17.787Z"
   },
   {
    "duration": 92,
    "start_time": "2024-10-05T10:09:18.516Z"
   },
   {
    "duration": 34,
    "start_time": "2024-10-05T10:17:41.541Z"
   },
   {
    "duration": 30,
    "start_time": "2024-10-05T10:18:30.085Z"
   },
   {
    "duration": 30,
    "start_time": "2024-10-05T10:19:15.528Z"
   },
   {
    "duration": 47,
    "start_time": "2024-10-05T10:24:33.156Z"
   },
   {
    "duration": 30,
    "start_time": "2024-10-05T10:24:50.468Z"
   },
   {
    "duration": 32,
    "start_time": "2024-10-05T10:25:14.301Z"
   },
   {
    "duration": 50,
    "start_time": "2024-10-05T10:25:50.470Z"
   },
   {
    "duration": 70,
    "start_time": "2024-10-05T10:26:00.327Z"
   },
   {
    "duration": 49,
    "start_time": "2024-10-05T10:26:06.575Z"
   },
   {
    "duration": 28,
    "start_time": "2024-10-05T10:26:16.643Z"
   },
   {
    "duration": 30,
    "start_time": "2024-10-05T10:26:23.588Z"
   },
   {
    "duration": 1186,
    "start_time": "2024-10-05T10:36:30.475Z"
   },
   {
    "duration": 929,
    "start_time": "2024-10-05T10:36:31.662Z"
   },
   {
    "duration": 26,
    "start_time": "2024-10-05T10:36:32.593Z"
   },
   {
    "duration": 156,
    "start_time": "2024-10-05T10:36:32.620Z"
   },
   {
    "duration": 121,
    "start_time": "2024-10-05T10:36:32.778Z"
   },
   {
    "duration": 21,
    "start_time": "2024-10-05T10:36:32.901Z"
   },
   {
    "duration": 4,
    "start_time": "2024-10-05T10:36:32.924Z"
   },
   {
    "duration": 29,
    "start_time": "2024-10-05T10:36:32.929Z"
   },
   {
    "duration": 19,
    "start_time": "2024-10-05T10:36:32.960Z"
   },
   {
    "duration": 17,
    "start_time": "2024-10-05T10:36:32.980Z"
   },
   {
    "duration": 21,
    "start_time": "2024-10-05T10:36:32.999Z"
   },
   {
    "duration": 471,
    "start_time": "2024-10-05T10:36:33.022Z"
   },
   {
    "duration": 17,
    "start_time": "2024-10-05T10:36:33.495Z"
   },
   {
    "duration": 3,
    "start_time": "2024-10-05T10:36:33.515Z"
   },
   {
    "duration": 35,
    "start_time": "2024-10-05T10:36:33.519Z"
   },
   {
    "duration": 33,
    "start_time": "2024-10-05T10:36:33.555Z"
   },
   {
    "duration": 93,
    "start_time": "2024-10-05T10:36:33.590Z"
   },
   {
    "duration": 93,
    "start_time": "2024-10-05T10:36:33.685Z"
   },
   {
    "duration": 248,
    "start_time": "2024-10-05T10:36:33.780Z"
   },
   {
    "duration": 23,
    "start_time": "2024-10-05T10:36:34.030Z"
   },
   {
    "duration": 82,
    "start_time": "2024-10-05T10:36:34.055Z"
   },
   {
    "duration": 6,
    "start_time": "2024-10-05T10:36:34.139Z"
   },
   {
    "duration": 133,
    "start_time": "2024-10-05T10:36:34.147Z"
   },
   {
    "duration": 0,
    "start_time": "2024-10-05T10:36:34.282Z"
   },
   {
    "duration": 0,
    "start_time": "2024-10-05T10:36:34.283Z"
   },
   {
    "duration": 0,
    "start_time": "2024-10-05T10:36:34.284Z"
   },
   {
    "duration": 0,
    "start_time": "2024-10-05T10:36:34.285Z"
   },
   {
    "duration": 0,
    "start_time": "2024-10-05T10:36:34.286Z"
   },
   {
    "duration": 47,
    "start_time": "2024-10-05T10:36:55.702Z"
   },
   {
    "duration": 47,
    "start_time": "2024-10-05T10:37:03.172Z"
   },
   {
    "duration": 1102,
    "start_time": "2024-10-05T10:37:07.865Z"
   },
   {
    "duration": 352,
    "start_time": "2024-10-05T10:37:08.969Z"
   },
   {
    "duration": 31,
    "start_time": "2024-10-05T10:37:09.322Z"
   },
   {
    "duration": 133,
    "start_time": "2024-10-05T10:37:09.355Z"
   },
   {
    "duration": 128,
    "start_time": "2024-10-05T10:37:09.489Z"
   },
   {
    "duration": 20,
    "start_time": "2024-10-05T10:37:09.619Z"
   },
   {
    "duration": 14,
    "start_time": "2024-10-05T10:37:09.640Z"
   },
   {
    "duration": 13,
    "start_time": "2024-10-05T10:37:09.655Z"
   },
   {
    "duration": 22,
    "start_time": "2024-10-05T10:37:09.669Z"
   },
   {
    "duration": 3,
    "start_time": "2024-10-05T10:37:09.694Z"
   },
   {
    "duration": 4,
    "start_time": "2024-10-05T10:37:09.699Z"
   },
   {
    "duration": 441,
    "start_time": "2024-10-05T10:37:09.704Z"
   },
   {
    "duration": 19,
    "start_time": "2024-10-05T10:37:10.146Z"
   },
   {
    "duration": 3,
    "start_time": "2024-10-05T10:37:10.167Z"
   },
   {
    "duration": 20,
    "start_time": "2024-10-05T10:37:10.172Z"
   },
   {
    "duration": 33,
    "start_time": "2024-10-05T10:37:10.193Z"
   },
   {
    "duration": 86,
    "start_time": "2024-10-05T10:37:10.253Z"
   },
   {
    "duration": 107,
    "start_time": "2024-10-05T10:37:10.340Z"
   },
   {
    "duration": 258,
    "start_time": "2024-10-05T10:37:10.453Z"
   },
   {
    "duration": 3,
    "start_time": "2024-10-05T10:37:10.712Z"
   },
   {
    "duration": 59,
    "start_time": "2024-10-05T10:37:10.717Z"
   },
   {
    "duration": 6,
    "start_time": "2024-10-05T10:37:10.777Z"
   },
   {
    "duration": 41,
    "start_time": "2024-10-05T10:37:10.785Z"
   },
   {
    "duration": 29,
    "start_time": "2024-10-05T10:37:10.828Z"
   },
   {
    "duration": 31,
    "start_time": "2024-10-05T10:37:10.859Z"
   },
   {
    "duration": 26,
    "start_time": "2024-10-05T10:37:10.892Z"
   },
   {
    "duration": 5,
    "start_time": "2024-10-05T10:37:10.920Z"
   },
   {
    "duration": 48,
    "start_time": "2024-10-05T10:37:47.352Z"
   },
   {
    "duration": 1156,
    "start_time": "2024-10-05T10:37:54.444Z"
   },
   {
    "duration": 926,
    "start_time": "2024-10-05T10:37:55.602Z"
   },
   {
    "duration": 33,
    "start_time": "2024-10-05T10:37:56.530Z"
   },
   {
    "duration": 131,
    "start_time": "2024-10-05T10:37:56.564Z"
   },
   {
    "duration": 121,
    "start_time": "2024-10-05T10:37:56.697Z"
   },
   {
    "duration": 20,
    "start_time": "2024-10-05T10:37:56.820Z"
   },
   {
    "duration": 14,
    "start_time": "2024-10-05T10:37:56.841Z"
   },
   {
    "duration": 9,
    "start_time": "2024-10-05T10:37:56.856Z"
   },
   {
    "duration": 17,
    "start_time": "2024-10-05T10:37:56.866Z"
   },
   {
    "duration": 3,
    "start_time": "2024-10-05T10:37:56.885Z"
   },
   {
    "duration": 11,
    "start_time": "2024-10-05T10:37:56.889Z"
   },
   {
    "duration": 467,
    "start_time": "2024-10-05T10:37:56.902Z"
   },
   {
    "duration": 16,
    "start_time": "2024-10-05T10:37:57.371Z"
   },
   {
    "duration": 3,
    "start_time": "2024-10-05T10:37:57.390Z"
   },
   {
    "duration": 20,
    "start_time": "2024-10-05T10:37:57.394Z"
   },
   {
    "duration": 52,
    "start_time": "2024-10-05T10:37:57.415Z"
   },
   {
    "duration": 85,
    "start_time": "2024-10-05T10:37:57.468Z"
   },
   {
    "duration": 88,
    "start_time": "2024-10-05T10:37:57.555Z"
   },
   {
    "duration": 254,
    "start_time": "2024-10-05T10:37:57.645Z"
   },
   {
    "duration": 4,
    "start_time": "2024-10-05T10:37:57.900Z"
   },
   {
    "duration": 130,
    "start_time": "2024-10-05T10:37:57.905Z"
   },
   {
    "duration": 16,
    "start_time": "2024-10-05T10:37:58.036Z"
   },
   {
    "duration": 54,
    "start_time": "2024-10-05T10:37:58.054Z"
   },
   {
    "duration": 14,
    "start_time": "2024-10-05T10:37:58.110Z"
   },
   {
    "duration": 35,
    "start_time": "2024-10-05T10:37:58.126Z"
   },
   {
    "duration": 29,
    "start_time": "2024-10-05T10:37:58.162Z"
   },
   {
    "duration": 6,
    "start_time": "2024-10-05T10:37:58.192Z"
   },
   {
    "duration": 122,
    "start_time": "2024-10-05T10:37:58.200Z"
   },
   {
    "duration": 4,
    "start_time": "2024-10-05T10:38:50.795Z"
   },
   {
    "duration": 21,
    "start_time": "2024-10-05T10:42:18.544Z"
   },
   {
    "duration": 79,
    "start_time": "2024-10-05T10:42:58.856Z"
   },
   {
    "duration": 83,
    "start_time": "2024-10-05T10:43:11.216Z"
   },
   {
    "duration": 11,
    "start_time": "2024-10-05T10:47:21.647Z"
   },
   {
    "duration": 120,
    "start_time": "2024-10-05T10:47:35.949Z"
   },
   {
    "duration": 120,
    "start_time": "2024-10-05T11:07:57.761Z"
   },
   {
    "duration": 22,
    "start_time": "2024-10-05T11:08:08.438Z"
   },
   {
    "duration": 6,
    "start_time": "2024-10-05T11:08:11.664Z"
   },
   {
    "duration": 93,
    "start_time": "2024-10-05T11:08:12.895Z"
   },
   {
    "duration": 83,
    "start_time": "2024-10-05T11:08:27.683Z"
   },
   {
    "duration": 92,
    "start_time": "2024-10-05T11:08:33.230Z"
   },
   {
    "duration": 121,
    "start_time": "2024-10-05T11:08:39.707Z"
   },
   {
    "duration": 78,
    "start_time": "2024-10-05T11:09:40.207Z"
   },
   {
    "duration": 63,
    "start_time": "2024-10-05T11:10:32.868Z"
   },
   {
    "duration": 85,
    "start_time": "2024-10-05T11:14:26.031Z"
   },
   {
    "duration": 95,
    "start_time": "2024-10-05T11:15:47.209Z"
   },
   {
    "duration": 117,
    "start_time": "2024-10-05T11:17:10.737Z"
   },
   {
    "duration": 1111,
    "start_time": "2024-10-05T11:42:07.523Z"
   },
   {
    "duration": 355,
    "start_time": "2024-10-05T11:42:08.636Z"
   },
   {
    "duration": 25,
    "start_time": "2024-10-05T11:42:08.992Z"
   },
   {
    "duration": 146,
    "start_time": "2024-10-05T11:42:09.018Z"
   },
   {
    "duration": 126,
    "start_time": "2024-10-05T11:42:09.166Z"
   },
   {
    "duration": 22,
    "start_time": "2024-10-05T11:42:09.294Z"
   },
   {
    "duration": 3,
    "start_time": "2024-10-05T11:42:09.318Z"
   },
   {
    "duration": 19,
    "start_time": "2024-10-05T11:42:09.323Z"
   },
   {
    "duration": 23,
    "start_time": "2024-10-05T11:42:09.353Z"
   },
   {
    "duration": 15,
    "start_time": "2024-10-05T11:42:09.377Z"
   },
   {
    "duration": 7,
    "start_time": "2024-10-05T11:42:09.395Z"
   },
   {
    "duration": 448,
    "start_time": "2024-10-05T11:42:09.403Z"
   },
   {
    "duration": 17,
    "start_time": "2024-10-05T11:42:09.852Z"
   },
   {
    "duration": 3,
    "start_time": "2024-10-05T11:42:09.872Z"
   },
   {
    "duration": 24,
    "start_time": "2024-10-05T11:42:09.876Z"
   },
   {
    "duration": 53,
    "start_time": "2024-10-05T11:42:09.901Z"
   },
   {
    "duration": 76,
    "start_time": "2024-10-05T11:42:09.955Z"
   },
   {
    "duration": 99,
    "start_time": "2024-10-05T11:42:10.032Z"
   },
   {
    "duration": 271,
    "start_time": "2024-10-05T11:42:10.133Z"
   },
   {
    "duration": 4,
    "start_time": "2024-10-05T11:42:10.406Z"
   },
   {
    "duration": 72,
    "start_time": "2024-10-05T11:42:10.411Z"
   },
   {
    "duration": 6,
    "start_time": "2024-10-05T11:42:10.484Z"
   },
   {
    "duration": 54,
    "start_time": "2024-10-05T11:42:10.492Z"
   },
   {
    "duration": 26,
    "start_time": "2024-10-05T11:42:10.553Z"
   },
   {
    "duration": 44,
    "start_time": "2024-10-05T11:42:10.580Z"
   },
   {
    "duration": 43,
    "start_time": "2024-10-05T11:42:10.625Z"
   },
   {
    "duration": 6,
    "start_time": "2024-10-05T11:42:10.670Z"
   },
   {
    "duration": 144,
    "start_time": "2024-10-05T11:42:10.677Z"
   },
   {
    "duration": 86,
    "start_time": "2024-10-05T11:42:10.822Z"
   },
   {
    "duration": 94,
    "start_time": "2024-10-05T11:42:10.910Z"
   },
   {
    "duration": 137,
    "start_time": "2024-10-05T11:42:11.006Z"
   },
   {
    "duration": 84,
    "start_time": "2024-10-05T11:42:11.153Z"
   },
   {
    "duration": 86,
    "start_time": "2024-10-05T11:42:11.253Z"
   },
   {
    "duration": 101,
    "start_time": "2024-10-05T11:42:11.352Z"
   },
   {
    "duration": 129,
    "start_time": "2024-10-05T11:42:11.455Z"
   },
   {
    "duration": 1045,
    "start_time": "2024-10-05T15:13:44.217Z"
   },
   {
    "duration": 968,
    "start_time": "2024-10-05T15:13:45.265Z"
   },
   {
    "duration": 23,
    "start_time": "2024-10-05T15:13:46.235Z"
   },
   {
    "duration": 150,
    "start_time": "2024-10-05T15:13:46.259Z"
   },
   {
    "duration": 116,
    "start_time": "2024-10-05T15:13:46.411Z"
   },
   {
    "duration": 17,
    "start_time": "2024-10-05T15:13:46.529Z"
   },
   {
    "duration": 16,
    "start_time": "2024-10-05T15:13:46.548Z"
   },
   {
    "duration": 9,
    "start_time": "2024-10-05T15:13:46.565Z"
   },
   {
    "duration": 24,
    "start_time": "2024-10-05T15:13:46.575Z"
   },
   {
    "duration": 4,
    "start_time": "2024-10-05T15:13:46.601Z"
   },
   {
    "duration": 11,
    "start_time": "2024-10-05T15:13:46.606Z"
   },
   {
    "duration": 434,
    "start_time": "2024-10-05T15:13:46.618Z"
   },
   {
    "duration": 15,
    "start_time": "2024-10-05T15:13:47.054Z"
   },
   {
    "duration": 3,
    "start_time": "2024-10-05T15:13:47.072Z"
   },
   {
    "duration": 19,
    "start_time": "2024-10-05T15:13:47.076Z"
   },
   {
    "duration": 38,
    "start_time": "2024-10-05T15:13:47.117Z"
   },
   {
    "duration": 86,
    "start_time": "2024-10-05T15:13:47.156Z"
   },
   {
    "duration": 92,
    "start_time": "2024-10-05T15:13:47.244Z"
   },
   {
    "duration": 223,
    "start_time": "2024-10-05T15:13:47.338Z"
   },
   {
    "duration": 3,
    "start_time": "2024-10-05T15:13:47.563Z"
   },
   {
    "duration": 98,
    "start_time": "2024-10-05T15:13:47.568Z"
   },
   {
    "duration": 7,
    "start_time": "2024-10-05T15:13:47.668Z"
   },
   {
    "duration": 68,
    "start_time": "2024-10-05T15:13:47.676Z"
   },
   {
    "duration": 24,
    "start_time": "2024-10-05T15:13:47.746Z"
   },
   {
    "duration": 46,
    "start_time": "2024-10-05T15:13:47.772Z"
   },
   {
    "duration": 30,
    "start_time": "2024-10-05T15:13:47.819Z"
   },
   {
    "duration": 5,
    "start_time": "2024-10-05T15:13:47.850Z"
   },
   {
    "duration": 103,
    "start_time": "2024-10-05T15:13:47.857Z"
   },
   {
    "duration": 86,
    "start_time": "2024-10-05T15:13:47.962Z"
   },
   {
    "duration": 109,
    "start_time": "2024-10-05T15:13:48.049Z"
   },
   {
    "duration": 122,
    "start_time": "2024-10-05T15:13:48.159Z"
   },
   {
    "duration": 83,
    "start_time": "2024-10-05T15:13:48.282Z"
   },
   {
    "duration": 93,
    "start_time": "2024-10-05T15:13:48.366Z"
   },
   {
    "duration": 91,
    "start_time": "2024-10-05T15:13:48.460Z"
   },
   {
    "duration": 129,
    "start_time": "2024-10-05T15:13:48.553Z"
   },
   {
    "duration": 6,
    "start_time": "2024-10-05T15:41:11.326Z"
   },
   {
    "duration": 86,
    "start_time": "2024-10-05T15:41:11.585Z"
   },
   {
    "duration": 1060,
    "start_time": "2024-10-05T15:45:52.139Z"
   },
   {
    "duration": 349,
    "start_time": "2024-10-05T15:45:53.201Z"
   },
   {
    "duration": 21,
    "start_time": "2024-10-05T15:45:53.551Z"
   },
   {
    "duration": 140,
    "start_time": "2024-10-05T15:45:53.573Z"
   },
   {
    "duration": 107,
    "start_time": "2024-10-05T15:45:53.716Z"
   },
   {
    "duration": 19,
    "start_time": "2024-10-05T15:45:53.825Z"
   },
   {
    "duration": 4,
    "start_time": "2024-10-05T15:45:53.846Z"
   },
   {
    "duration": 12,
    "start_time": "2024-10-05T15:45:53.851Z"
   },
   {
    "duration": 18,
    "start_time": "2024-10-05T15:45:53.864Z"
   },
   {
    "duration": 23,
    "start_time": "2024-10-05T15:45:53.884Z"
   },
   {
    "duration": 3,
    "start_time": "2024-10-05T15:45:53.909Z"
   },
   {
    "duration": 423,
    "start_time": "2024-10-05T15:45:53.914Z"
   },
   {
    "duration": 19,
    "start_time": "2024-10-05T15:45:54.339Z"
   },
   {
    "duration": 4,
    "start_time": "2024-10-05T15:45:54.362Z"
   },
   {
    "duration": 24,
    "start_time": "2024-10-05T15:45:54.368Z"
   },
   {
    "duration": 33,
    "start_time": "2024-10-05T15:45:54.407Z"
   },
   {
    "duration": 90,
    "start_time": "2024-10-05T15:45:54.441Z"
   },
   {
    "duration": 93,
    "start_time": "2024-10-05T15:45:54.532Z"
   },
   {
    "duration": 231,
    "start_time": "2024-10-05T15:45:54.626Z"
   },
   {
    "duration": 4,
    "start_time": "2024-10-05T15:45:54.858Z"
   },
   {
    "duration": 86,
    "start_time": "2024-10-05T15:45:54.863Z"
   },
   {
    "duration": 6,
    "start_time": "2024-10-05T15:45:54.951Z"
   },
   {
    "duration": 128,
    "start_time": "2024-10-05T15:45:54.958Z"
   },
   {
    "duration": 23,
    "start_time": "2024-10-05T15:45:55.088Z"
   },
   {
    "duration": 34,
    "start_time": "2024-10-05T15:45:55.113Z"
   },
   {
    "duration": 28,
    "start_time": "2024-10-05T15:45:55.149Z"
   },
   {
    "duration": 5,
    "start_time": "2024-10-05T15:45:55.179Z"
   },
   {
    "duration": 107,
    "start_time": "2024-10-05T15:45:55.186Z"
   },
   {
    "duration": 81,
    "start_time": "2024-10-05T15:45:55.294Z"
   },
   {
    "duration": 85,
    "start_time": "2024-10-05T15:45:55.377Z"
   },
   {
    "duration": 118,
    "start_time": "2024-10-05T15:45:55.464Z"
   },
   {
    "duration": 75,
    "start_time": "2024-10-05T15:45:55.584Z"
   },
   {
    "duration": 81,
    "start_time": "2024-10-05T15:45:55.660Z"
   },
   {
    "duration": 79,
    "start_time": "2024-10-05T15:45:55.743Z"
   },
   {
    "duration": 112,
    "start_time": "2024-10-05T15:45:55.823Z"
   },
   {
    "duration": 1393,
    "start_time": "2024-10-06T11:25:36.899Z"
   },
   {
    "duration": 1096,
    "start_time": "2024-10-06T11:25:38.294Z"
   },
   {
    "duration": 35,
    "start_time": "2024-10-06T11:25:39.392Z"
   },
   {
    "duration": 135,
    "start_time": "2024-10-06T11:25:39.430Z"
   },
   {
    "duration": 144,
    "start_time": "2024-10-06T11:25:39.568Z"
   },
   {
    "duration": 28,
    "start_time": "2024-10-06T11:25:39.713Z"
   },
   {
    "duration": 3,
    "start_time": "2024-10-06T11:25:39.743Z"
   },
   {
    "duration": 22,
    "start_time": "2024-10-06T11:25:39.748Z"
   },
   {
    "duration": 22,
    "start_time": "2024-10-06T11:25:39.773Z"
   },
   {
    "duration": 4,
    "start_time": "2024-10-06T11:25:39.796Z"
   },
   {
    "duration": 13,
    "start_time": "2024-10-06T11:25:39.820Z"
   },
   {
    "duration": 496,
    "start_time": "2024-10-06T11:25:39.835Z"
   },
   {
    "duration": 435,
    "start_time": "2024-10-06T11:25:40.333Z"
   },
   {
    "duration": 22,
    "start_time": "2024-10-06T11:25:40.771Z"
   },
   {
    "duration": 4,
    "start_time": "2024-10-06T11:25:40.794Z"
   },
   {
    "duration": 35,
    "start_time": "2024-10-06T11:25:40.799Z"
   },
   {
    "duration": 53,
    "start_time": "2024-10-06T11:25:40.835Z"
   },
   {
    "duration": 80,
    "start_time": "2024-10-06T11:25:40.889Z"
   },
   {
    "duration": 98,
    "start_time": "2024-10-06T11:25:40.970Z"
   },
   {
    "duration": 281,
    "start_time": "2024-10-06T11:25:41.069Z"
   },
   {
    "duration": 4,
    "start_time": "2024-10-06T11:25:41.352Z"
   },
   {
    "duration": 65,
    "start_time": "2024-10-06T11:25:41.357Z"
   },
   {
    "duration": 7,
    "start_time": "2024-10-06T11:25:41.423Z"
   },
   {
    "duration": 44,
    "start_time": "2024-10-06T11:25:41.431Z"
   },
   {
    "duration": 23,
    "start_time": "2024-10-06T11:25:41.477Z"
   },
   {
    "duration": 35,
    "start_time": "2024-10-06T11:25:41.521Z"
   },
   {
    "duration": 30,
    "start_time": "2024-10-06T11:25:41.557Z"
   },
   {
    "duration": 6,
    "start_time": "2024-10-06T11:25:41.589Z"
   },
   {
    "duration": 126,
    "start_time": "2024-10-06T11:25:41.596Z"
   },
   {
    "duration": 84,
    "start_time": "2024-10-06T11:25:41.723Z"
   },
   {
    "duration": 93,
    "start_time": "2024-10-06T11:25:41.808Z"
   },
   {
    "duration": 152,
    "start_time": "2024-10-06T11:25:41.903Z"
   },
   {
    "duration": 118,
    "start_time": "2024-10-06T11:25:42.057Z"
   },
   {
    "duration": 124,
    "start_time": "2024-10-06T11:25:42.177Z"
   },
   {
    "duration": 131,
    "start_time": "2024-10-06T11:25:42.303Z"
   },
   {
    "duration": 143,
    "start_time": "2024-10-06T11:25:42.436Z"
   },
   {
    "duration": 6,
    "start_time": "2024-10-06T11:39:54.814Z"
   },
   {
    "duration": 1077,
    "start_time": "2024-10-06T11:40:17.313Z"
   },
   {
    "duration": 354,
    "start_time": "2024-10-06T11:40:18.391Z"
   },
   {
    "duration": 27,
    "start_time": "2024-10-06T11:40:18.747Z"
   },
   {
    "duration": 142,
    "start_time": "2024-10-06T11:40:18.775Z"
   },
   {
    "duration": 119,
    "start_time": "2024-10-06T11:40:18.920Z"
   },
   {
    "duration": 21,
    "start_time": "2024-10-06T11:40:19.041Z"
   },
   {
    "duration": 6,
    "start_time": "2024-10-06T11:40:19.064Z"
   },
   {
    "duration": 16,
    "start_time": "2024-10-06T11:40:19.072Z"
   },
   {
    "duration": 32,
    "start_time": "2024-10-06T11:40:19.090Z"
   },
   {
    "duration": 4,
    "start_time": "2024-10-06T11:40:19.123Z"
   },
   {
    "duration": 8,
    "start_time": "2024-10-06T11:40:19.129Z"
   },
   {
    "duration": 437,
    "start_time": "2024-10-06T11:40:19.139Z"
   },
   {
    "duration": 16,
    "start_time": "2024-10-06T11:40:19.578Z"
   },
   {
    "duration": 4,
    "start_time": "2024-10-06T11:40:19.597Z"
   },
   {
    "duration": 34,
    "start_time": "2024-10-06T11:40:19.602Z"
   },
   {
    "duration": 32,
    "start_time": "2024-10-06T11:40:19.638Z"
   },
   {
    "duration": 91,
    "start_time": "2024-10-06T11:40:19.672Z"
   },
   {
    "duration": 93,
    "start_time": "2024-10-06T11:40:19.765Z"
   },
   {
    "duration": 262,
    "start_time": "2024-10-06T11:40:19.859Z"
   },
   {
    "duration": 4,
    "start_time": "2024-10-06T11:40:20.123Z"
   },
   {
    "duration": 107,
    "start_time": "2024-10-06T11:40:20.128Z"
   },
   {
    "duration": 6,
    "start_time": "2024-10-06T11:40:20.237Z"
   },
   {
    "duration": 45,
    "start_time": "2024-10-06T11:40:20.244Z"
   },
   {
    "duration": 35,
    "start_time": "2024-10-06T11:40:20.290Z"
   },
   {
    "duration": 81,
    "start_time": "2024-10-06T11:40:20.327Z"
   },
   {
    "duration": 30,
    "start_time": "2024-10-06T11:40:20.410Z"
   },
   {
    "duration": 6,
    "start_time": "2024-10-06T11:40:20.442Z"
   },
   {
    "duration": 120,
    "start_time": "2024-10-06T11:40:20.449Z"
   },
   {
    "duration": 88,
    "start_time": "2024-10-06T11:40:20.571Z"
   },
   {
    "duration": 86,
    "start_time": "2024-10-06T11:40:20.660Z"
   },
   {
    "duration": 135,
    "start_time": "2024-10-06T11:40:20.747Z"
   },
   {
    "duration": 92,
    "start_time": "2024-10-06T11:40:20.883Z"
   },
   {
    "duration": 95,
    "start_time": "2024-10-06T11:40:20.977Z"
   },
   {
    "duration": 98,
    "start_time": "2024-10-06T11:40:21.073Z"
   },
   {
    "duration": 129,
    "start_time": "2024-10-06T11:40:21.173Z"
   },
   {
    "duration": 50,
    "start_time": "2024-10-06T11:40:53.124Z"
   },
   {
    "duration": 1072,
    "start_time": "2024-10-06T13:00:34.810Z"
   },
   {
    "duration": 360,
    "start_time": "2024-10-06T13:00:35.884Z"
   },
   {
    "duration": 34,
    "start_time": "2024-10-06T13:00:36.245Z"
   },
   {
    "duration": 136,
    "start_time": "2024-10-06T13:00:36.281Z"
   },
   {
    "duration": 126,
    "start_time": "2024-10-06T13:00:36.419Z"
   },
   {
    "duration": 30,
    "start_time": "2024-10-06T13:00:36.546Z"
   },
   {
    "duration": 4,
    "start_time": "2024-10-06T13:00:36.577Z"
   },
   {
    "duration": 20,
    "start_time": "2024-10-06T13:00:36.583Z"
   },
   {
    "duration": 20,
    "start_time": "2024-10-06T13:00:36.605Z"
   },
   {
    "duration": 4,
    "start_time": "2024-10-06T13:00:36.626Z"
   },
   {
    "duration": 5,
    "start_time": "2024-10-06T13:00:36.631Z"
   },
   {
    "duration": 496,
    "start_time": "2024-10-06T13:00:36.637Z"
   },
   {
    "duration": 17,
    "start_time": "2024-10-06T13:00:37.135Z"
   },
   {
    "duration": 40,
    "start_time": "2024-10-06T13:00:37.155Z"
   },
   {
    "duration": 85,
    "start_time": "2024-10-06T13:00:37.196Z"
   },
   {
    "duration": 35,
    "start_time": "2024-10-06T13:00:37.283Z"
   },
   {
    "duration": 97,
    "start_time": "2024-10-06T13:00:37.320Z"
   },
   {
    "duration": 99,
    "start_time": "2024-10-06T13:00:37.418Z"
   },
   {
    "duration": 281,
    "start_time": "2024-10-06T13:00:37.519Z"
   },
   {
    "duration": 4,
    "start_time": "2024-10-06T13:00:37.802Z"
   },
   {
    "duration": 70,
    "start_time": "2024-10-06T13:00:37.808Z"
   },
   {
    "duration": 7,
    "start_time": "2024-10-06T13:00:37.880Z"
   },
   {
    "duration": 44,
    "start_time": "2024-10-06T13:00:37.888Z"
   },
   {
    "duration": 45,
    "start_time": "2024-10-06T13:00:37.934Z"
   },
   {
    "duration": 35,
    "start_time": "2024-10-06T13:00:37.980Z"
   },
   {
    "duration": 30,
    "start_time": "2024-10-06T13:00:38.016Z"
   },
   {
    "duration": 6,
    "start_time": "2024-10-06T13:00:38.047Z"
   },
   {
    "duration": 122,
    "start_time": "2024-10-06T13:00:38.075Z"
   },
   {
    "duration": 108,
    "start_time": "2024-10-06T13:00:38.200Z"
   },
   {
    "duration": 99,
    "start_time": "2024-10-06T13:00:38.310Z"
   },
   {
    "duration": 135,
    "start_time": "2024-10-06T13:00:38.410Z"
   },
   {
    "duration": 97,
    "start_time": "2024-10-06T13:00:38.546Z"
   },
   {
    "duration": 102,
    "start_time": "2024-10-06T13:00:38.644Z"
   },
   {
    "duration": 85,
    "start_time": "2024-10-06T13:00:38.748Z"
   },
   {
    "duration": 161,
    "start_time": "2024-10-06T13:00:38.835Z"
   },
   {
    "duration": 1089,
    "start_time": "2024-10-06T13:12:08.248Z"
   },
   {
    "duration": 345,
    "start_time": "2024-10-06T13:12:09.339Z"
   },
   {
    "duration": 26,
    "start_time": "2024-10-06T13:12:09.685Z"
   },
   {
    "duration": 151,
    "start_time": "2024-10-06T13:12:09.712Z"
   },
   {
    "duration": 123,
    "start_time": "2024-10-06T13:12:09.865Z"
   },
   {
    "duration": 23,
    "start_time": "2024-10-06T13:12:09.989Z"
   },
   {
    "duration": 11,
    "start_time": "2024-10-06T13:12:10.013Z"
   },
   {
    "duration": 14,
    "start_time": "2024-10-06T13:12:10.026Z"
   },
   {
    "duration": 30,
    "start_time": "2024-10-06T13:12:10.041Z"
   },
   {
    "duration": 4,
    "start_time": "2024-10-06T13:12:10.076Z"
   },
   {
    "duration": 16,
    "start_time": "2024-10-06T13:12:10.081Z"
   },
   {
    "duration": 465,
    "start_time": "2024-10-06T13:12:10.099Z"
   },
   {
    "duration": 23,
    "start_time": "2024-10-06T13:12:10.565Z"
   },
   {
    "duration": 4,
    "start_time": "2024-10-06T13:12:10.592Z"
   },
   {
    "duration": 19,
    "start_time": "2024-10-06T13:12:10.598Z"
   },
   {
    "duration": 65,
    "start_time": "2024-10-06T13:12:10.619Z"
   },
   {
    "duration": 92,
    "start_time": "2024-10-06T13:12:10.685Z"
   },
   {
    "duration": 98,
    "start_time": "2024-10-06T13:12:10.778Z"
   },
   {
    "duration": 249,
    "start_time": "2024-10-06T13:12:10.877Z"
   },
   {
    "duration": 4,
    "start_time": "2024-10-06T13:12:11.127Z"
   },
   {
    "duration": 106,
    "start_time": "2024-10-06T13:12:11.132Z"
   },
   {
    "duration": 6,
    "start_time": "2024-10-06T13:12:11.240Z"
   },
   {
    "duration": 76,
    "start_time": "2024-10-06T13:12:11.248Z"
   },
   {
    "duration": 23,
    "start_time": "2024-10-06T13:12:11.326Z"
   },
   {
    "duration": 38,
    "start_time": "2024-10-06T13:12:11.350Z"
   },
   {
    "duration": 28,
    "start_time": "2024-10-06T13:12:11.389Z"
   },
   {
    "duration": 6,
    "start_time": "2024-10-06T13:12:11.418Z"
   },
   {
    "duration": 128,
    "start_time": "2024-10-06T13:12:11.426Z"
   },
   {
    "duration": 90,
    "start_time": "2024-10-06T13:12:11.555Z"
   },
   {
    "duration": 95,
    "start_time": "2024-10-06T13:12:11.647Z"
   },
   {
    "duration": 141,
    "start_time": "2024-10-06T13:12:11.744Z"
   },
   {
    "duration": 92,
    "start_time": "2024-10-06T13:12:11.887Z"
   },
   {
    "duration": 95,
    "start_time": "2024-10-06T13:12:11.981Z"
   },
   {
    "duration": 83,
    "start_time": "2024-10-06T13:12:12.077Z"
   },
   {
    "duration": 126,
    "start_time": "2024-10-06T13:12:12.177Z"
   }
  ],
  "kernelspec": {
   "display_name": "Python 3 (ipykernel)",
   "language": "python",
   "name": "python3"
  },
  "language_info": {
   "codemirror_mode": {
    "name": "ipython",
    "version": 3
   },
   "file_extension": ".py",
   "mimetype": "text/x-python",
   "name": "python",
   "nbconvert_exporter": "python",
   "pygments_lexer": "ipython3",
   "version": "3.12.4"
  },
  "toc": {
   "base_numbering": 1,
   "nav_menu": {},
   "number_sections": true,
   "sideBar": true,
   "skip_h1_title": true,
   "title_cell": "Table of Contents",
   "title_sidebar": "Contents",
   "toc_cell": false,
   "toc_position": {},
   "toc_section_display": true,
   "toc_window_display": false
  }
 },
 "nbformat": 4,
 "nbformat_minor": 4
}
