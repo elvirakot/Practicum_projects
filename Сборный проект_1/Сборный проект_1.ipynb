{
 "cells": [
  {
   "cell_type": "markdown",
   "metadata": {},
   "source": [
    "# Сборный проект №1\n",
    "\n",
    "**Контекст:** Интернет-магазин «Стримчик», который продаёт по всему миру компьютерные игры. Из открытых источников доступны исторические данные о продажах игр, оценки пользователей и экспертов, жанры и платформы (например, Xbox или PlayStation). \n",
    "\n",
    "**Задачи:** Необходимо выявить определяющие успешность игры закономерности. Это позволит сделать ставку на потенциально популярный продукт и спланировать рекламные кампании.\n",
    "\n",
    "**Описание данных**\n",
    "- Name — название игры\n",
    "- Platform — платформа\n",
    "- Year_of_Release — год выпуска\n",
    "- Genre — жанр игры\n",
    "- NA_sales — продажи в Северной Америке (миллионы проданных копий)\n",
    "- EU_sales — продажи в Европе (миллионы проданных копий)\n",
    "- JP_sales — продажи в Японии (миллионы проданных копий)\n",
    "- Other_sales — продажи в других странах (миллионы проданных копий)\n",
    "- Critic_Score — оценка критиков (максимум 100)\n",
    "- User_Score — оценка пользователей (максимум 10)\n",
    "- Rating — рейтинг от организации ESRB (англ. Entertainment Software Rating Board). Эта ассоциация определяет рейтинг компьютерных игр и присваивает им подходящую возрастную категорию."
   ]
  },
  {
   "cell_type": "markdown",
   "metadata": {},
   "source": [
    "**Содержание:**\n",
    "1. [Загрузка данных и изучение общей информации](#chapter1)\n",
    "2. [Предобработка данных](#chapter2)\n",
    "3. [Исследовательский анализ данных](#chapter3)\n",
    "4. [Составим портрет пользователя каждого региона](#chapter4)\n",
    "5. [Проверка гипотез](#chapter5)\n",
    "6. [Общий вывод](#chapter6)"
   ]
  },
  {
   "cell_type": "code",
   "execution_count": 1,
   "metadata": {},
   "outputs": [],
   "source": [
    "import pandas as pd\n",
    "import matplotlib.pyplot as plt\n",
    "import numpy as np\n",
    "from scipy import stats as st"
   ]
  },
  {
   "cell_type": "markdown",
   "metadata": {},
   "source": [
    "<a id=\"chapter1\"></a>\n",
    "\n",
    "###  Загрузка данных и изучение общей информации"
   ]
  },
  {
   "cell_type": "code",
   "execution_count": 2,
   "metadata": {},
   "outputs": [],
   "source": [
    "data = pd.read_csv('/datasets/games.csv')"
   ]
  },
  {
   "cell_type": "markdown",
   "metadata": {},
   "source": [
    "**1.1 Посмотрим основную информацию о датафрейме**"
   ]
  },
  {
   "cell_type": "code",
   "execution_count": 3,
   "metadata": {},
   "outputs": [
    {
     "name": "stdout",
     "output_type": "stream",
     "text": [
      "<class 'pandas.core.frame.DataFrame'>\n",
      "RangeIndex: 16715 entries, 0 to 16714\n",
      "Data columns (total 11 columns):\n",
      " #   Column           Non-Null Count  Dtype  \n",
      "---  ------           --------------  -----  \n",
      " 0   Name             16713 non-null  object \n",
      " 1   Platform         16715 non-null  object \n",
      " 2   Year_of_Release  16446 non-null  float64\n",
      " 3   Genre            16713 non-null  object \n",
      " 4   NA_sales         16715 non-null  float64\n",
      " 5   EU_sales         16715 non-null  float64\n",
      " 6   JP_sales         16715 non-null  float64\n",
      " 7   Other_sales      16715 non-null  float64\n",
      " 8   Critic_Score     8137 non-null   float64\n",
      " 9   User_Score       10014 non-null  object \n",
      " 10  Rating           9949 non-null   object \n",
      "dtypes: float64(6), object(5)\n",
      "memory usage: 1.4+ MB\n"
     ]
    }
   ],
   "source": [
    "data.info()"
   ]
  },
  {
   "cell_type": "markdown",
   "metadata": {},
   "source": [
    "**1.2 Посмотрим первые 5 строк**"
   ]
  },
  {
   "cell_type": "code",
   "execution_count": 4,
   "metadata": {},
   "outputs": [
    {
     "data": {
      "text/html": [
       "<div>\n",
       "<style scoped>\n",
       "    .dataframe tbody tr th:only-of-type {\n",
       "        vertical-align: middle;\n",
       "    }\n",
       "\n",
       "    .dataframe tbody tr th {\n",
       "        vertical-align: top;\n",
       "    }\n",
       "\n",
       "    .dataframe thead th {\n",
       "        text-align: right;\n",
       "    }\n",
       "</style>\n",
       "<table border=\"1\" class=\"dataframe\">\n",
       "  <thead>\n",
       "    <tr style=\"text-align: right;\">\n",
       "      <th></th>\n",
       "      <th>Name</th>\n",
       "      <th>Platform</th>\n",
       "      <th>Year_of_Release</th>\n",
       "      <th>Genre</th>\n",
       "      <th>NA_sales</th>\n",
       "      <th>EU_sales</th>\n",
       "      <th>JP_sales</th>\n",
       "      <th>Other_sales</th>\n",
       "      <th>Critic_Score</th>\n",
       "      <th>User_Score</th>\n",
       "      <th>Rating</th>\n",
       "    </tr>\n",
       "  </thead>\n",
       "  <tbody>\n",
       "    <tr>\n",
       "      <th>0</th>\n",
       "      <td>Wii Sports</td>\n",
       "      <td>Wii</td>\n",
       "      <td>2006.0</td>\n",
       "      <td>Sports</td>\n",
       "      <td>41.36</td>\n",
       "      <td>28.96</td>\n",
       "      <td>3.77</td>\n",
       "      <td>8.45</td>\n",
       "      <td>76.0</td>\n",
       "      <td>8</td>\n",
       "      <td>E</td>\n",
       "    </tr>\n",
       "    <tr>\n",
       "      <th>1</th>\n",
       "      <td>Super Mario Bros.</td>\n",
       "      <td>NES</td>\n",
       "      <td>1985.0</td>\n",
       "      <td>Platform</td>\n",
       "      <td>29.08</td>\n",
       "      <td>3.58</td>\n",
       "      <td>6.81</td>\n",
       "      <td>0.77</td>\n",
       "      <td>NaN</td>\n",
       "      <td>NaN</td>\n",
       "      <td>NaN</td>\n",
       "    </tr>\n",
       "    <tr>\n",
       "      <th>2</th>\n",
       "      <td>Mario Kart Wii</td>\n",
       "      <td>Wii</td>\n",
       "      <td>2008.0</td>\n",
       "      <td>Racing</td>\n",
       "      <td>15.68</td>\n",
       "      <td>12.76</td>\n",
       "      <td>3.79</td>\n",
       "      <td>3.29</td>\n",
       "      <td>82.0</td>\n",
       "      <td>8.3</td>\n",
       "      <td>E</td>\n",
       "    </tr>\n",
       "    <tr>\n",
       "      <th>3</th>\n",
       "      <td>Wii Sports Resort</td>\n",
       "      <td>Wii</td>\n",
       "      <td>2009.0</td>\n",
       "      <td>Sports</td>\n",
       "      <td>15.61</td>\n",
       "      <td>10.93</td>\n",
       "      <td>3.28</td>\n",
       "      <td>2.95</td>\n",
       "      <td>80.0</td>\n",
       "      <td>8</td>\n",
       "      <td>E</td>\n",
       "    </tr>\n",
       "    <tr>\n",
       "      <th>4</th>\n",
       "      <td>Pokemon Red/Pokemon Blue</td>\n",
       "      <td>GB</td>\n",
       "      <td>1996.0</td>\n",
       "      <td>Role-Playing</td>\n",
       "      <td>11.27</td>\n",
       "      <td>8.89</td>\n",
       "      <td>10.22</td>\n",
       "      <td>1.00</td>\n",
       "      <td>NaN</td>\n",
       "      <td>NaN</td>\n",
       "      <td>NaN</td>\n",
       "    </tr>\n",
       "  </tbody>\n",
       "</table>\n",
       "</div>"
      ],
      "text/plain": [
       "                       Name Platform  Year_of_Release         Genre  NA_sales  \\\n",
       "0                Wii Sports      Wii           2006.0        Sports     41.36   \n",
       "1         Super Mario Bros.      NES           1985.0      Platform     29.08   \n",
       "2            Mario Kart Wii      Wii           2008.0        Racing     15.68   \n",
       "3         Wii Sports Resort      Wii           2009.0        Sports     15.61   \n",
       "4  Pokemon Red/Pokemon Blue       GB           1996.0  Role-Playing     11.27   \n",
       "\n",
       "   EU_sales  JP_sales  Other_sales  Critic_Score User_Score Rating  \n",
       "0     28.96      3.77         8.45          76.0          8      E  \n",
       "1      3.58      6.81         0.77           NaN        NaN    NaN  \n",
       "2     12.76      3.79         3.29          82.0        8.3      E  \n",
       "3     10.93      3.28         2.95          80.0          8      E  \n",
       "4      8.89     10.22         1.00           NaN        NaN    NaN  "
      ]
     },
     "execution_count": 4,
     "metadata": {},
     "output_type": "execute_result"
    }
   ],
   "source": [
    "data.head()"
   ]
  },
  {
   "cell_type": "markdown",
   "metadata": {},
   "source": [
    "**1.3 Проверим явные дубликаты**"
   ]
  },
  {
   "cell_type": "code",
   "execution_count": 5,
   "metadata": {},
   "outputs": [
    {
     "data": {
      "text/plain": [
       "0"
      ]
     },
     "execution_count": 5,
     "metadata": {},
     "output_type": "execute_result"
    }
   ],
   "source": [
    "data.duplicated().sum()"
   ]
  },
  {
   "cell_type": "markdown",
   "metadata": {},
   "source": [
    "**1.4 Проверка неявных дубликатов**"
   ]
  },
  {
   "cell_type": "code",
   "execution_count": 6,
   "metadata": {},
   "outputs": [
    {
     "data": {
      "text/html": [
       "<div>\n",
       "<style scoped>\n",
       "    .dataframe tbody tr th:only-of-type {\n",
       "        vertical-align: middle;\n",
       "    }\n",
       "\n",
       "    .dataframe tbody tr th {\n",
       "        vertical-align: top;\n",
       "    }\n",
       "\n",
       "    .dataframe thead th {\n",
       "        text-align: right;\n",
       "    }\n",
       "</style>\n",
       "<table border=\"1\" class=\"dataframe\">\n",
       "  <thead>\n",
       "    <tr style=\"text-align: right;\">\n",
       "      <th></th>\n",
       "      <th>Name</th>\n",
       "      <th>Platform</th>\n",
       "      <th>Year_of_Release</th>\n",
       "      <th>Genre</th>\n",
       "      <th>NA_sales</th>\n",
       "      <th>EU_sales</th>\n",
       "      <th>JP_sales</th>\n",
       "      <th>Other_sales</th>\n",
       "      <th>Critic_Score</th>\n",
       "      <th>User_Score</th>\n",
       "      <th>Rating</th>\n",
       "    </tr>\n",
       "  </thead>\n",
       "  <tbody>\n",
       "    <tr>\n",
       "      <th>604</th>\n",
       "      <td>Madden NFL 13</td>\n",
       "      <td>PS3</td>\n",
       "      <td>2012.0</td>\n",
       "      <td>Sports</td>\n",
       "      <td>2.11</td>\n",
       "      <td>0.22</td>\n",
       "      <td>0.00</td>\n",
       "      <td>0.23</td>\n",
       "      <td>83.0</td>\n",
       "      <td>5.5</td>\n",
       "      <td>E</td>\n",
       "    </tr>\n",
       "    <tr>\n",
       "      <th>16230</th>\n",
       "      <td>Madden NFL 13</td>\n",
       "      <td>PS3</td>\n",
       "      <td>2012.0</td>\n",
       "      <td>Sports</td>\n",
       "      <td>0.00</td>\n",
       "      <td>0.01</td>\n",
       "      <td>0.00</td>\n",
       "      <td>0.00</td>\n",
       "      <td>83.0</td>\n",
       "      <td>5.5</td>\n",
       "      <td>E</td>\n",
       "    </tr>\n",
       "    <tr>\n",
       "      <th>659</th>\n",
       "      <td>NaN</td>\n",
       "      <td>GEN</td>\n",
       "      <td>1993.0</td>\n",
       "      <td>NaN</td>\n",
       "      <td>1.78</td>\n",
       "      <td>0.53</td>\n",
       "      <td>0.00</td>\n",
       "      <td>0.08</td>\n",
       "      <td>NaN</td>\n",
       "      <td>NaN</td>\n",
       "      <td>NaN</td>\n",
       "    </tr>\n",
       "    <tr>\n",
       "      <th>14244</th>\n",
       "      <td>NaN</td>\n",
       "      <td>GEN</td>\n",
       "      <td>1993.0</td>\n",
       "      <td>NaN</td>\n",
       "      <td>0.00</td>\n",
       "      <td>0.00</td>\n",
       "      <td>0.03</td>\n",
       "      <td>0.00</td>\n",
       "      <td>NaN</td>\n",
       "      <td>NaN</td>\n",
       "      <td>NaN</td>\n",
       "    </tr>\n",
       "  </tbody>\n",
       "</table>\n",
       "</div>"
      ],
      "text/plain": [
       "                Name Platform  Year_of_Release   Genre  NA_sales  EU_sales  \\\n",
       "604    Madden NFL 13      PS3           2012.0  Sports      2.11      0.22   \n",
       "16230  Madden NFL 13      PS3           2012.0  Sports      0.00      0.01   \n",
       "659              NaN      GEN           1993.0     NaN      1.78      0.53   \n",
       "14244            NaN      GEN           1993.0     NaN      0.00      0.00   \n",
       "\n",
       "       JP_sales  Other_sales  Critic_Score User_Score Rating  \n",
       "604        0.00         0.23          83.0        5.5      E  \n",
       "16230      0.00         0.00          83.0        5.5      E  \n",
       "659        0.00         0.08           NaN        NaN    NaN  \n",
       "14244      0.03         0.00           NaN        NaN    NaN  "
      ]
     },
     "execution_count": 6,
     "metadata": {},
     "output_type": "execute_result"
    }
   ],
   "source": [
    "data[data.duplicated(subset=['Name', 'Platform', 'Year_of_Release'], keep=False)].sort_values('Name')"
   ]
  },
  {
   "cell_type": "markdown",
   "metadata": {},
   "source": [
    "**Вывод**\n",
    "\n",
    "- в данных имеются пропуски\n",
    "- необходимо привести названия столбцов к нижнему регистру\n",
    "- столбец Year_of_Release изменить тип данных на int, т.к. фактически год целое число\n",
    "- столбец Critic_Score изменить тип данных на int, т.к. это целые числа\n",
    "- столбец User_Score изменить тип данных на float, для исключения ошибок при арифметических операциях\n",
    "- явных дубликатов нет\n",
    "- есть неявные дубликаты"
   ]
  },
  {
   "cell_type": "markdown",
   "metadata": {},
   "source": [
    "<a id=\"chapter2\"></a>\n",
    "\n",
    "###  Предобработка данных"
   ]
  },
  {
   "cell_type": "markdown",
   "metadata": {},
   "source": [
    "**2.1 Приведем название колонок к нижнему регистру**"
   ]
  },
  {
   "cell_type": "code",
   "execution_count": 7,
   "metadata": {},
   "outputs": [
    {
     "name": "stdout",
     "output_type": "stream",
     "text": [
      "<class 'pandas.core.frame.DataFrame'>\n",
      "RangeIndex: 16715 entries, 0 to 16714\n",
      "Data columns (total 11 columns):\n",
      " #   Column           Non-Null Count  Dtype  \n",
      "---  ------           --------------  -----  \n",
      " 0   name             16713 non-null  object \n",
      " 1   platform         16715 non-null  object \n",
      " 2   year_of_release  16446 non-null  float64\n",
      " 3   genre            16713 non-null  object \n",
      " 4   na_sales         16715 non-null  float64\n",
      " 5   eu_sales         16715 non-null  float64\n",
      " 6   jp_sales         16715 non-null  float64\n",
      " 7   other_sales      16715 non-null  float64\n",
      " 8   critic_score     8137 non-null   float64\n",
      " 9   user_score       10014 non-null  object \n",
      " 10  rating           9949 non-null   object \n",
      "dtypes: float64(6), object(5)\n",
      "memory usage: 1.4+ MB\n"
     ]
    }
   ],
   "source": [
    "data.columns = data.columns.str.lower()\n",
    "data.info()"
   ]
  },
  {
   "cell_type": "markdown",
   "metadata": {},
   "source": [
    "**2.2 Обработка пропущенных значений**"
   ]
  },
  {
   "cell_type": "markdown",
   "metadata": {},
   "source": [
    "2.2.1 Столбец name"
   ]
  },
  {
   "cell_type": "code",
   "execution_count": 8,
   "metadata": {},
   "outputs": [
    {
     "data": {
      "text/html": [
       "<div>\n",
       "<style scoped>\n",
       "    .dataframe tbody tr th:only-of-type {\n",
       "        vertical-align: middle;\n",
       "    }\n",
       "\n",
       "    .dataframe tbody tr th {\n",
       "        vertical-align: top;\n",
       "    }\n",
       "\n",
       "    .dataframe thead th {\n",
       "        text-align: right;\n",
       "    }\n",
       "</style>\n",
       "<table border=\"1\" class=\"dataframe\">\n",
       "  <thead>\n",
       "    <tr style=\"text-align: right;\">\n",
       "      <th></th>\n",
       "      <th>name</th>\n",
       "      <th>platform</th>\n",
       "      <th>year_of_release</th>\n",
       "      <th>genre</th>\n",
       "      <th>na_sales</th>\n",
       "      <th>eu_sales</th>\n",
       "      <th>jp_sales</th>\n",
       "      <th>other_sales</th>\n",
       "      <th>critic_score</th>\n",
       "      <th>user_score</th>\n",
       "      <th>rating</th>\n",
       "    </tr>\n",
       "  </thead>\n",
       "  <tbody>\n",
       "    <tr>\n",
       "      <th>659</th>\n",
       "      <td>NaN</td>\n",
       "      <td>GEN</td>\n",
       "      <td>1993.0</td>\n",
       "      <td>NaN</td>\n",
       "      <td>1.78</td>\n",
       "      <td>0.53</td>\n",
       "      <td>0.00</td>\n",
       "      <td>0.08</td>\n",
       "      <td>NaN</td>\n",
       "      <td>NaN</td>\n",
       "      <td>NaN</td>\n",
       "    </tr>\n",
       "    <tr>\n",
       "      <th>14244</th>\n",
       "      <td>NaN</td>\n",
       "      <td>GEN</td>\n",
       "      <td>1993.0</td>\n",
       "      <td>NaN</td>\n",
       "      <td>0.00</td>\n",
       "      <td>0.00</td>\n",
       "      <td>0.03</td>\n",
       "      <td>0.00</td>\n",
       "      <td>NaN</td>\n",
       "      <td>NaN</td>\n",
       "      <td>NaN</td>\n",
       "    </tr>\n",
       "  </tbody>\n",
       "</table>\n",
       "</div>"
      ],
      "text/plain": [
       "      name platform  year_of_release genre  na_sales  eu_sales  jp_sales  \\\n",
       "659    NaN      GEN           1993.0   NaN      1.78      0.53      0.00   \n",
       "14244  NaN      GEN           1993.0   NaN      0.00      0.00      0.03   \n",
       "\n",
       "       other_sales  critic_score user_score rating  \n",
       "659           0.08           NaN        NaN    NaN  \n",
       "14244         0.00           NaN        NaN    NaN  "
      ]
     },
     "execution_count": 8,
     "metadata": {},
     "output_type": "execute_result"
    }
   ],
   "source": [
    "data[data['name'].isna()]"
   ]
  },
  {
   "cell_type": "markdown",
   "metadata": {},
   "source": [
    "Данные строки можно удалить, т.к пропуски имеются и в других столбцах"
   ]
  },
  {
   "cell_type": "code",
   "execution_count": 9,
   "metadata": {},
   "outputs": [],
   "source": [
    "data = data.dropna(subset=['name']).reset_index(drop=True)"
   ]
  },
  {
   "cell_type": "markdown",
   "metadata": {},
   "source": [
    "2.2.2 Столбец year_of_release"
   ]
  },
  {
   "cell_type": "markdown",
   "metadata": {},
   "source": [
    "Удалим пропуски в столбце year_of_release, они составляют менее 10%"
   ]
  },
  {
   "cell_type": "code",
   "execution_count": 10,
   "metadata": {},
   "outputs": [],
   "source": [
    "data = data.dropna(subset=['year_of_release']).reset_index(drop=True)"
   ]
  },
  {
   "cell_type": "markdown",
   "metadata": {},
   "source": [
    "Остальные пропуски я не вижу смысла заполнять медианными значениями, т.к. есть большая вероятность ошибиться, поэтому заполним их некоторыми значениями "
   ]
  },
  {
   "cell_type": "markdown",
   "metadata": {},
   "source": [
    "2.2.3 Столбец critic_score"
   ]
  },
  {
   "cell_type": "markdown",
   "metadata": {},
   "source": [
    "Вывожу уникальные значения столбца critic_score, для того чтобы посмотреть каким значением лучше заполнить пропуски"
   ]
  },
  {
   "cell_type": "code",
   "execution_count": 11,
   "metadata": {
    "scrolled": true
   },
   "outputs": [
    {
     "data": {
      "text/plain": [
       "array([76., nan, 82., 80., 89., 58., 87., 91., 61., 97., 95., 77., 88.,\n",
       "       83., 94., 93., 85., 86., 98., 96., 90., 84., 73., 74., 78., 92.,\n",
       "       71., 72., 68., 62., 49., 67., 81., 66., 56., 79., 70., 59., 64.,\n",
       "       75., 60., 63., 69., 50., 25., 42., 44., 55., 48., 57., 29., 47.,\n",
       "       65., 54., 20., 53., 37., 38., 33., 52., 30., 32., 43., 45., 51.,\n",
       "       40., 46., 39., 34., 41., 36., 31., 27., 35., 26., 19., 28., 23.,\n",
       "       24., 21., 17., 13.])"
      ]
     },
     "execution_count": 11,
     "metadata": {},
     "output_type": "execute_result"
    }
   ],
   "source": [
    "data['critic_score'].unique()"
   ]
  },
  {
   "cell_type": "markdown",
   "metadata": {},
   "source": [
    "Заполним пропуски значением 0"
   ]
  },
  {
   "cell_type": "code",
   "execution_count": 12,
   "metadata": {},
   "outputs": [],
   "source": [
    "data['critic_score'] = data['critic_score'].fillna(0)"
   ]
  },
  {
   "cell_type": "markdown",
   "metadata": {},
   "source": [
    "2.2.4 Столбец user_score"
   ]
  },
  {
   "cell_type": "markdown",
   "metadata": {},
   "source": [
    "Вывожу уникальные значения столбца user_score, для того чтобы посмотреть каким значением лучше заполнить пропуски"
   ]
  },
  {
   "cell_type": "code",
   "execution_count": 13,
   "metadata": {
    "scrolled": true
   },
   "outputs": [
    {
     "data": {
      "text/plain": [
       "array(['8', nan, '8.3', '8.5', '6.6', '8.4', '8.6', '7.7', '6.3', '7.4',\n",
       "       '8.2', '9', '7.9', '8.1', '8.7', '7.1', '3.4', '5.3', '4.8', '3.2',\n",
       "       '8.9', '6.4', '7.8', '7.5', '2.6', '7.2', '9.2', '7', '7.3', '4.3',\n",
       "       '7.6', '5.7', '5', '9.1', '6.5', 'tbd', '8.8', '6.9', '9.4', '6.8',\n",
       "       '6.1', '6.7', '5.4', '4', '4.9', '4.5', '9.3', '6.2', '4.2', '6',\n",
       "       '3.7', '4.1', '5.8', '5.6', '5.5', '4.4', '4.6', '5.9', '3.9',\n",
       "       '3.1', '2.9', '5.2', '3.3', '4.7', '5.1', '3.5', '2.5', '1.9', '3',\n",
       "       '2.7', '2.2', '2', '9.5', '2.1', '3.6', '2.8', '1.8', '3.8', '0',\n",
       "       '1.6', '9.6', '2.4', '1.7', '1.1', '0.3', '1.5', '0.7', '1.2',\n",
       "       '2.3', '0.5', '1.3', '0.2', '0.6', '1.4', '0.9', '1', '9.7'],\n",
       "      dtype=object)"
      ]
     },
     "execution_count": 13,
     "metadata": {},
     "output_type": "execute_result"
    }
   ],
   "source": [
    "data['user_score'].unique()"
   ]
  },
  {
   "cell_type": "markdown",
   "metadata": {},
   "source": [
    "Заполним пропуски значением -1"
   ]
  },
  {
   "cell_type": "code",
   "execution_count": 14,
   "metadata": {},
   "outputs": [],
   "source": [
    "data['user_score'] = data['user_score'].fillna('-1')"
   ]
  },
  {
   "cell_type": "markdown",
   "metadata": {},
   "source": [
    "Есть значение 'tbd', это значение обозначает то, что пользователи не играли в эту игру или ее еще не оценили, предлагаю также заменить на значение -1"
   ]
  },
  {
   "cell_type": "code",
   "execution_count": 15,
   "metadata": {},
   "outputs": [
    {
     "data": {
      "text/html": [
       "<div>\n",
       "<style scoped>\n",
       "    .dataframe tbody tr th:only-of-type {\n",
       "        vertical-align: middle;\n",
       "    }\n",
       "\n",
       "    .dataframe tbody tr th {\n",
       "        vertical-align: top;\n",
       "    }\n",
       "\n",
       "    .dataframe thead th {\n",
       "        text-align: right;\n",
       "    }\n",
       "</style>\n",
       "<table border=\"1\" class=\"dataframe\">\n",
       "  <thead>\n",
       "    <tr style=\"text-align: right;\">\n",
       "      <th></th>\n",
       "      <th>name</th>\n",
       "      <th>platform</th>\n",
       "      <th>year_of_release</th>\n",
       "      <th>genre</th>\n",
       "      <th>na_sales</th>\n",
       "      <th>eu_sales</th>\n",
       "      <th>jp_sales</th>\n",
       "      <th>other_sales</th>\n",
       "      <th>critic_score</th>\n",
       "      <th>user_score</th>\n",
       "      <th>rating</th>\n",
       "    </tr>\n",
       "  </thead>\n",
       "  <tbody>\n",
       "    <tr>\n",
       "      <th>119</th>\n",
       "      <td>Zumba Fitness</td>\n",
       "      <td>Wii</td>\n",
       "      <td>2010.0</td>\n",
       "      <td>Sports</td>\n",
       "      <td>3.45</td>\n",
       "      <td>2.59</td>\n",
       "      <td>0.0</td>\n",
       "      <td>0.66</td>\n",
       "      <td>0.0</td>\n",
       "      <td>tbd</td>\n",
       "      <td>E</td>\n",
       "    </tr>\n",
       "    <tr>\n",
       "      <th>300</th>\n",
       "      <td>Namco Museum: 50th Anniversary</td>\n",
       "      <td>PS2</td>\n",
       "      <td>2005.0</td>\n",
       "      <td>Misc</td>\n",
       "      <td>2.08</td>\n",
       "      <td>1.35</td>\n",
       "      <td>0.0</td>\n",
       "      <td>0.54</td>\n",
       "      <td>61.0</td>\n",
       "      <td>tbd</td>\n",
       "      <td>E10+</td>\n",
       "    </tr>\n",
       "    <tr>\n",
       "      <th>516</th>\n",
       "      <td>Zumba Fitness 2</td>\n",
       "      <td>Wii</td>\n",
       "      <td>2011.0</td>\n",
       "      <td>Sports</td>\n",
       "      <td>1.51</td>\n",
       "      <td>1.03</td>\n",
       "      <td>0.0</td>\n",
       "      <td>0.27</td>\n",
       "      <td>0.0</td>\n",
       "      <td>tbd</td>\n",
       "      <td>T</td>\n",
       "    </tr>\n",
       "    <tr>\n",
       "      <th>639</th>\n",
       "      <td>uDraw Studio</td>\n",
       "      <td>Wii</td>\n",
       "      <td>2010.0</td>\n",
       "      <td>Misc</td>\n",
       "      <td>1.65</td>\n",
       "      <td>0.57</td>\n",
       "      <td>0.0</td>\n",
       "      <td>0.20</td>\n",
       "      <td>71.0</td>\n",
       "      <td>tbd</td>\n",
       "      <td>E</td>\n",
       "    </tr>\n",
       "    <tr>\n",
       "      <th>709</th>\n",
       "      <td>Just Dance Kids</td>\n",
       "      <td>Wii</td>\n",
       "      <td>2010.0</td>\n",
       "      <td>Misc</td>\n",
       "      <td>1.52</td>\n",
       "      <td>0.54</td>\n",
       "      <td>0.0</td>\n",
       "      <td>0.18</td>\n",
       "      <td>0.0</td>\n",
       "      <td>tbd</td>\n",
       "      <td>E</td>\n",
       "    </tr>\n",
       "    <tr>\n",
       "      <th>...</th>\n",
       "      <td>...</td>\n",
       "      <td>...</td>\n",
       "      <td>...</td>\n",
       "      <td>...</td>\n",
       "      <td>...</td>\n",
       "      <td>...</td>\n",
       "      <td>...</td>\n",
       "      <td>...</td>\n",
       "      <td>...</td>\n",
       "      <td>...</td>\n",
       "      <td>...</td>\n",
       "    </tr>\n",
       "    <tr>\n",
       "      <th>16424</th>\n",
       "      <td>Planet Monsters</td>\n",
       "      <td>GBA</td>\n",
       "      <td>2001.0</td>\n",
       "      <td>Action</td>\n",
       "      <td>0.01</td>\n",
       "      <td>0.00</td>\n",
       "      <td>0.0</td>\n",
       "      <td>0.00</td>\n",
       "      <td>67.0</td>\n",
       "      <td>tbd</td>\n",
       "      <td>E</td>\n",
       "    </tr>\n",
       "    <tr>\n",
       "      <th>16426</th>\n",
       "      <td>Bust-A-Move 3000</td>\n",
       "      <td>GC</td>\n",
       "      <td>2003.0</td>\n",
       "      <td>Puzzle</td>\n",
       "      <td>0.01</td>\n",
       "      <td>0.00</td>\n",
       "      <td>0.0</td>\n",
       "      <td>0.00</td>\n",
       "      <td>53.0</td>\n",
       "      <td>tbd</td>\n",
       "      <td>E</td>\n",
       "    </tr>\n",
       "    <tr>\n",
       "      <th>16427</th>\n",
       "      <td>Mega Brain Boost</td>\n",
       "      <td>DS</td>\n",
       "      <td>2008.0</td>\n",
       "      <td>Puzzle</td>\n",
       "      <td>0.01</td>\n",
       "      <td>0.00</td>\n",
       "      <td>0.0</td>\n",
       "      <td>0.00</td>\n",
       "      <td>48.0</td>\n",
       "      <td>tbd</td>\n",
       "      <td>E</td>\n",
       "    </tr>\n",
       "    <tr>\n",
       "      <th>16433</th>\n",
       "      <td>Plushees</td>\n",
       "      <td>DS</td>\n",
       "      <td>2008.0</td>\n",
       "      <td>Simulation</td>\n",
       "      <td>0.01</td>\n",
       "      <td>0.00</td>\n",
       "      <td>0.0</td>\n",
       "      <td>0.00</td>\n",
       "      <td>0.0</td>\n",
       "      <td>tbd</td>\n",
       "      <td>E</td>\n",
       "    </tr>\n",
       "    <tr>\n",
       "      <th>16435</th>\n",
       "      <td>Men in Black II: Alien Escape</td>\n",
       "      <td>GC</td>\n",
       "      <td>2003.0</td>\n",
       "      <td>Shooter</td>\n",
       "      <td>0.01</td>\n",
       "      <td>0.00</td>\n",
       "      <td>0.0</td>\n",
       "      <td>0.00</td>\n",
       "      <td>0.0</td>\n",
       "      <td>tbd</td>\n",
       "      <td>T</td>\n",
       "    </tr>\n",
       "  </tbody>\n",
       "</table>\n",
       "<p>2376 rows × 11 columns</p>\n",
       "</div>"
      ],
      "text/plain": [
       "                                 name platform  year_of_release       genre  \\\n",
       "119                     Zumba Fitness      Wii           2010.0      Sports   \n",
       "300    Namco Museum: 50th Anniversary      PS2           2005.0        Misc   \n",
       "516                   Zumba Fitness 2      Wii           2011.0      Sports   \n",
       "639                      uDraw Studio      Wii           2010.0        Misc   \n",
       "709                   Just Dance Kids      Wii           2010.0        Misc   \n",
       "...                               ...      ...              ...         ...   \n",
       "16424                 Planet Monsters      GBA           2001.0      Action   \n",
       "16426                Bust-A-Move 3000       GC           2003.0      Puzzle   \n",
       "16427                Mega Brain Boost       DS           2008.0      Puzzle   \n",
       "16433                        Plushees       DS           2008.0  Simulation   \n",
       "16435   Men in Black II: Alien Escape       GC           2003.0     Shooter   \n",
       "\n",
       "       na_sales  eu_sales  jp_sales  other_sales  critic_score user_score  \\\n",
       "119        3.45      2.59       0.0         0.66           0.0        tbd   \n",
       "300        2.08      1.35       0.0         0.54          61.0        tbd   \n",
       "516        1.51      1.03       0.0         0.27           0.0        tbd   \n",
       "639        1.65      0.57       0.0         0.20          71.0        tbd   \n",
       "709        1.52      0.54       0.0         0.18           0.0        tbd   \n",
       "...         ...       ...       ...          ...           ...        ...   \n",
       "16424      0.01      0.00       0.0         0.00          67.0        tbd   \n",
       "16426      0.01      0.00       0.0         0.00          53.0        tbd   \n",
       "16427      0.01      0.00       0.0         0.00          48.0        tbd   \n",
       "16433      0.01      0.00       0.0         0.00           0.0        tbd   \n",
       "16435      0.01      0.00       0.0         0.00           0.0        tbd   \n",
       "\n",
       "      rating  \n",
       "119        E  \n",
       "300     E10+  \n",
       "516        T  \n",
       "639        E  \n",
       "709        E  \n",
       "...      ...  \n",
       "16424      E  \n",
       "16426      E  \n",
       "16427      E  \n",
       "16433      E  \n",
       "16435      T  \n",
       "\n",
       "[2376 rows x 11 columns]"
      ]
     },
     "execution_count": 15,
     "metadata": {},
     "output_type": "execute_result"
    }
   ],
   "source": [
    "data.query('user_score == \"tbd\"')"
   ]
  },
  {
   "cell_type": "code",
   "execution_count": 16,
   "metadata": {},
   "outputs": [],
   "source": [
    "data['user_score'] = data['user_score'].replace('tbd', '-1')"
   ]
  },
  {
   "cell_type": "markdown",
   "metadata": {},
   "source": [
    "2.2.5 Столбец rating"
   ]
  },
  {
   "cell_type": "markdown",
   "metadata": {},
   "source": [
    "Вывожу уникальные значения столбца rating, для того чтобы посмотреть каким значением лучше заполнить пропуски"
   ]
  },
  {
   "cell_type": "code",
   "execution_count": 17,
   "metadata": {},
   "outputs": [
    {
     "data": {
      "text/plain": [
       "array(['E', nan, 'M', 'T', 'E10+', 'K-A', 'AO', 'EC', 'RP'], dtype=object)"
      ]
     },
     "execution_count": 17,
     "metadata": {},
     "output_type": "execute_result"
    }
   ],
   "source": [
    "data['rating'].unique()"
   ]
  },
  {
   "cell_type": "markdown",
   "metadata": {},
   "source": [
    "Заполним значением unknown"
   ]
  },
  {
   "cell_type": "code",
   "execution_count": 18,
   "metadata": {},
   "outputs": [],
   "source": [
    "data['rating'] = data['rating'].fillna('unknown')"
   ]
  },
  {
   "cell_type": "markdown",
   "metadata": {},
   "source": [
    "**2.3 Изменим типы данных в колонках year_of_release и user_score**"
   ]
  },
  {
   "cell_type": "code",
   "execution_count": 19,
   "metadata": {},
   "outputs": [],
   "source": [
    "data['year_of_release'] = data['year_of_release'].astype('int') \n",
    "data['user_score'] = data['user_score'].astype('float') \n",
    "data['critic_score'] = data['critic_score'].astype('int') "
   ]
  },
  {
   "cell_type": "code",
   "execution_count": 20,
   "metadata": {},
   "outputs": [
    {
     "name": "stdout",
     "output_type": "stream",
     "text": [
      "<class 'pandas.core.frame.DataFrame'>\n",
      "RangeIndex: 16444 entries, 0 to 16443\n",
      "Data columns (total 11 columns):\n",
      " #   Column           Non-Null Count  Dtype  \n",
      "---  ------           --------------  -----  \n",
      " 0   name             16444 non-null  object \n",
      " 1   platform         16444 non-null  object \n",
      " 2   year_of_release  16444 non-null  int64  \n",
      " 3   genre            16444 non-null  object \n",
      " 4   na_sales         16444 non-null  float64\n",
      " 5   eu_sales         16444 non-null  float64\n",
      " 6   jp_sales         16444 non-null  float64\n",
      " 7   other_sales      16444 non-null  float64\n",
      " 8   critic_score     16444 non-null  int64  \n",
      " 9   user_score       16444 non-null  float64\n",
      " 10  rating           16444 non-null  object \n",
      "dtypes: float64(5), int64(2), object(4)\n",
      "memory usage: 1.4+ MB\n"
     ]
    }
   ],
   "source": [
    "data.info()"
   ]
  },
  {
   "cell_type": "markdown",
   "metadata": {},
   "source": [
    "**2.4 Удалим неявные дубликаты**"
   ]
  },
  {
   "cell_type": "code",
   "execution_count": 21,
   "metadata": {},
   "outputs": [],
   "source": [
    "data = data.drop_duplicates(['name', 'platform', 'year_of_release']).reset_index(drop=True)"
   ]
  },
  {
   "cell_type": "markdown",
   "metadata": {},
   "source": [
    "Проверяем удаление неявных дубликатов"
   ]
  },
  {
   "cell_type": "code",
   "execution_count": 22,
   "metadata": {},
   "outputs": [
    {
     "data": {
      "text/html": [
       "<div>\n",
       "<style scoped>\n",
       "    .dataframe tbody tr th:only-of-type {\n",
       "        vertical-align: middle;\n",
       "    }\n",
       "\n",
       "    .dataframe tbody tr th {\n",
       "        vertical-align: top;\n",
       "    }\n",
       "\n",
       "    .dataframe thead th {\n",
       "        text-align: right;\n",
       "    }\n",
       "</style>\n",
       "<table border=\"1\" class=\"dataframe\">\n",
       "  <thead>\n",
       "    <tr style=\"text-align: right;\">\n",
       "      <th></th>\n",
       "      <th>name</th>\n",
       "      <th>platform</th>\n",
       "      <th>year_of_release</th>\n",
       "      <th>genre</th>\n",
       "      <th>na_sales</th>\n",
       "      <th>eu_sales</th>\n",
       "      <th>jp_sales</th>\n",
       "      <th>other_sales</th>\n",
       "      <th>critic_score</th>\n",
       "      <th>user_score</th>\n",
       "      <th>rating</th>\n",
       "    </tr>\n",
       "  </thead>\n",
       "  <tbody>\n",
       "  </tbody>\n",
       "</table>\n",
       "</div>"
      ],
      "text/plain": [
       "Empty DataFrame\n",
       "Columns: [name, platform, year_of_release, genre, na_sales, eu_sales, jp_sales, other_sales, critic_score, user_score, rating]\n",
       "Index: []"
      ]
     },
     "execution_count": 22,
     "metadata": {},
     "output_type": "execute_result"
    }
   ],
   "source": [
    "data[data.duplicated(subset=['name', 'platform', 'year_of_release'], keep=False)].sort_values('name')"
   ]
  },
  {
   "cell_type": "markdown",
   "metadata": {},
   "source": [
    "**2.5 Посчитаем суммарные продажи во всех регионах и запишем их в отдельный столбец**"
   ]
  },
  {
   "cell_type": "code",
   "execution_count": 23,
   "metadata": {},
   "outputs": [],
   "source": [
    "data['sum_sales'] = data['na_sales'] + data['eu_sales'] + data['jp_sales'] + data['other_sales']"
   ]
  },
  {
   "cell_type": "code",
   "execution_count": 24,
   "metadata": {},
   "outputs": [
    {
     "data": {
      "text/html": [
       "<div>\n",
       "<style scoped>\n",
       "    .dataframe tbody tr th:only-of-type {\n",
       "        vertical-align: middle;\n",
       "    }\n",
       "\n",
       "    .dataframe tbody tr th {\n",
       "        vertical-align: top;\n",
       "    }\n",
       "\n",
       "    .dataframe thead th {\n",
       "        text-align: right;\n",
       "    }\n",
       "</style>\n",
       "<table border=\"1\" class=\"dataframe\">\n",
       "  <thead>\n",
       "    <tr style=\"text-align: right;\">\n",
       "      <th></th>\n",
       "      <th>name</th>\n",
       "      <th>platform</th>\n",
       "      <th>year_of_release</th>\n",
       "      <th>genre</th>\n",
       "      <th>na_sales</th>\n",
       "      <th>eu_sales</th>\n",
       "      <th>jp_sales</th>\n",
       "      <th>other_sales</th>\n",
       "      <th>critic_score</th>\n",
       "      <th>user_score</th>\n",
       "      <th>rating</th>\n",
       "      <th>sum_sales</th>\n",
       "    </tr>\n",
       "  </thead>\n",
       "  <tbody>\n",
       "    <tr>\n",
       "      <th>0</th>\n",
       "      <td>Wii Sports</td>\n",
       "      <td>Wii</td>\n",
       "      <td>2006</td>\n",
       "      <td>Sports</td>\n",
       "      <td>41.36</td>\n",
       "      <td>28.96</td>\n",
       "      <td>3.77</td>\n",
       "      <td>8.45</td>\n",
       "      <td>76</td>\n",
       "      <td>8.0</td>\n",
       "      <td>E</td>\n",
       "      <td>82.54</td>\n",
       "    </tr>\n",
       "    <tr>\n",
       "      <th>1</th>\n",
       "      <td>Super Mario Bros.</td>\n",
       "      <td>NES</td>\n",
       "      <td>1985</td>\n",
       "      <td>Platform</td>\n",
       "      <td>29.08</td>\n",
       "      <td>3.58</td>\n",
       "      <td>6.81</td>\n",
       "      <td>0.77</td>\n",
       "      <td>0</td>\n",
       "      <td>-1.0</td>\n",
       "      <td>unknown</td>\n",
       "      <td>40.24</td>\n",
       "    </tr>\n",
       "    <tr>\n",
       "      <th>2</th>\n",
       "      <td>Mario Kart Wii</td>\n",
       "      <td>Wii</td>\n",
       "      <td>2008</td>\n",
       "      <td>Racing</td>\n",
       "      <td>15.68</td>\n",
       "      <td>12.76</td>\n",
       "      <td>3.79</td>\n",
       "      <td>3.29</td>\n",
       "      <td>82</td>\n",
       "      <td>8.3</td>\n",
       "      <td>E</td>\n",
       "      <td>35.52</td>\n",
       "    </tr>\n",
       "    <tr>\n",
       "      <th>3</th>\n",
       "      <td>Wii Sports Resort</td>\n",
       "      <td>Wii</td>\n",
       "      <td>2009</td>\n",
       "      <td>Sports</td>\n",
       "      <td>15.61</td>\n",
       "      <td>10.93</td>\n",
       "      <td>3.28</td>\n",
       "      <td>2.95</td>\n",
       "      <td>80</td>\n",
       "      <td>8.0</td>\n",
       "      <td>E</td>\n",
       "      <td>32.77</td>\n",
       "    </tr>\n",
       "    <tr>\n",
       "      <th>4</th>\n",
       "      <td>Pokemon Red/Pokemon Blue</td>\n",
       "      <td>GB</td>\n",
       "      <td>1996</td>\n",
       "      <td>Role-Playing</td>\n",
       "      <td>11.27</td>\n",
       "      <td>8.89</td>\n",
       "      <td>10.22</td>\n",
       "      <td>1.00</td>\n",
       "      <td>0</td>\n",
       "      <td>-1.0</td>\n",
       "      <td>unknown</td>\n",
       "      <td>31.38</td>\n",
       "    </tr>\n",
       "  </tbody>\n",
       "</table>\n",
       "</div>"
      ],
      "text/plain": [
       "                       name platform  year_of_release         genre  na_sales  \\\n",
       "0                Wii Sports      Wii             2006        Sports     41.36   \n",
       "1         Super Mario Bros.      NES             1985      Platform     29.08   \n",
       "2            Mario Kart Wii      Wii             2008        Racing     15.68   \n",
       "3         Wii Sports Resort      Wii             2009        Sports     15.61   \n",
       "4  Pokemon Red/Pokemon Blue       GB             1996  Role-Playing     11.27   \n",
       "\n",
       "   eu_sales  jp_sales  other_sales  critic_score  user_score   rating  \\\n",
       "0     28.96      3.77         8.45            76         8.0        E   \n",
       "1      3.58      6.81         0.77             0        -1.0  unknown   \n",
       "2     12.76      3.79         3.29            82         8.3        E   \n",
       "3     10.93      3.28         2.95            80         8.0        E   \n",
       "4      8.89     10.22         1.00             0        -1.0  unknown   \n",
       "\n",
       "   sum_sales  \n",
       "0      82.54  \n",
       "1      40.24  \n",
       "2      35.52  \n",
       "3      32.77  \n",
       "4      31.38  "
      ]
     },
     "execution_count": 24,
     "metadata": {},
     "output_type": "execute_result"
    }
   ],
   "source": [
    "data.head()"
   ]
  },
  {
   "cell_type": "markdown",
   "metadata": {},
   "source": [
    "**Вывод**\n",
    "\n",
    "В данном разделе привели название колонок к нижнему регистру, также были заполнены либо удалены пропущенные значения, изменили некоторые типы данных. Удалили неявные дубликатв и добавили новый столбец с суммарными продажами во всех регионах"
   ]
  },
  {
   "cell_type": "markdown",
   "metadata": {},
   "source": [
    "<a id=\"chapter3\"></a>\n",
    "\n",
    "###  Исследовательский анализ данных"
   ]
  },
  {
   "cell_type": "markdown",
   "metadata": {},
   "source": [
    "**3.1 Посмотрим сколько игр выпускалось в разные годы**"
   ]
  },
  {
   "cell_type": "code",
   "execution_count": 26,
   "metadata": {},
   "outputs": [
    {
     "data": {
      "image/png": "[encoded data removed]",
      "text/plain": [
       "<Figure size 864x432 with 1 Axes>"
      ]
     },
     "metadata": {
      "needs_background": "light"
     },
     "output_type": "display_data"
    },
    {
     "data": {
      "text/plain": [
       "count    16443.000000\n",
       "mean      2006.485921\n",
       "std          5.875546\n",
       "min       1980.000000\n",
       "25%       2003.000000\n",
       "50%       2007.000000\n",
       "75%       2010.000000\n",
       "max       2016.000000\n",
       "Name: year_of_release, dtype: float64"
      ]
     },
     "execution_count": 26,
     "metadata": {},
     "output_type": "execute_result"
    }
   ],
   "source": [
    "(data\n",
    "    .pivot_table(index='year_of_release', values='sum_sales', aggfunc='sum') #суммарные продажи у каждой платформы\n",
    "    .plot(kind='bar', grid=True, figsize=(12, 6)) #выводим столбчатую диаграмму \n",
    ")\n",
    "plt.title('Количество выпускаемых игр')\n",
    "plt.xlabel('Год')\n",
    "plt.ylabel('Суммарные продажи')\n",
    "plt.show()\n",
    "data['year_of_release'].describe()"
   ]
  },
  {
   "cell_type": "markdown",
   "metadata": {},
   "source": [
    "**Вывод:** По графику видно, что рост числа выпуска игр приходится на период с 1996 года по 2007 год. В 2007 году было выпущено максимальное количество игр, после чего начался спад. Думаю до 1996 года данные можно отбросить, т.к. до этого года было выпущенно мало компьютерных игр. Из общего количества данных это 2% "
   ]
  },
  {
   "cell_type": "code",
   "execution_count": 27,
   "metadata": {},
   "outputs": [],
   "source": [
    "data = data.query('year_of_release > 1996')"
   ]
  },
  {
   "cell_type": "markdown",
   "metadata": {},
   "source": [
    "**3.2 Проанализируем продажи по платформам**"
   ]
  },
  {
   "cell_type": "markdown",
   "metadata": {},
   "source": [
    "3.2.1 Найдем платформы с наибольшими суммарными продажами"
   ]
  },
  {
   "cell_type": "code",
   "execution_count": 28,
   "metadata": {},
   "outputs": [
    {
     "data": {
      "image/png": "[encoded data removed]",
      "text/plain": [
       "<Figure size 864x432 with 1 Axes>"
      ]
     },
     "metadata": {
      "needs_background": "light"
     },
     "output_type": "display_data"
    }
   ],
   "source": [
    "(data\n",
    "    .pivot_table(index='platform', values='sum_sales', aggfunc='sum') #суммарные продажи у каждой платформы\n",
    "    .sort_values(by='sum_sales', ascending=False) #сортируем по убыванию\n",
    "    .plot(kind='bar', grid=True, figsize=(12, 6)) #выводим столбчатую диаграмму \n",
    ")\n",
    "plt.title('Платформы с наибольшими суммарными продажами')\n",
    "plt.xlabel('Платформа')\n",
    "plt.ylabel('Суммарные продажи')\n",
    "plt.show()"
   ]
  },
  {
   "cell_type": "markdown",
   "metadata": {},
   "source": [
    "На графике видно, что лидируют по продажам первые шесть платформ: PS2, X360, PS3, Wii, DS, PS"
   ]
  },
  {
   "cell_type": "markdown",
   "metadata": {},
   "source": [
    "3.2.2 Построим распределение по годам для данных платформ"
   ]
  },
  {
   "cell_type": "code",
   "execution_count": 29,
   "metadata": {},
   "outputs": [
    {
     "data": {
      "text/plain": [
       "['PS2', 'X360', 'PS3', 'Wii', 'DS', 'PS']"
      ]
     },
     "execution_count": 29,
     "metadata": {},
     "output_type": "execute_result"
    }
   ],
   "source": [
    "top_sales = (data\n",
    "             .pivot_table(index='platform', values='sum_sales', aggfunc='sum')\n",
    "             .sort_values(by='sum_sales', ascending=False)\n",
    "             .reset_index() #создаем датафрейм\n",
    "             .head(6)['platform'] #выводим топ первых 6 платформ\n",
    "             .tolist() #создаем список для цикла построения графика\n",
    "            )\n",
    "top_sales"
   ]
  },
  {
   "cell_type": "code",
   "execution_count": 30,
   "metadata": {},
   "outputs": [
    {
     "data": {
      "image/png": "[encoded data removed]",
      "text/plain": [
       "<Figure size 864x432 with 1 Axes>"
      ]
     },
     "metadata": {
      "needs_background": "light"
     },
     "output_type": "display_data"
    }
   ],
   "source": [
    "for name in top_sales:\n",
    "    (data\n",
    "        .query('platform == @name') #фильтруем\n",
    "        .pivot_table(index = 'year_of_release', values = 'sum_sales', aggfunc = 'sum') #суммарные продажи по годам\n",
    "        .sort_values('year_of_release', ascending = False)['sum_sales'] #сортируем\n",
    "        .plot(figsize = (12, 6), label=name) #выводим график\n",
    "    )\n",
    "    plt.title('Распределение по годам для первых шести популярных платформ')\n",
    "    plt.xlabel('Год')\n",
    "    plt.ylabel('Суммарные продажи')\n",
    "    plt.legend()\n",
    "    plt.xticks(np.arange(1995, 2016, step=5))\n",
    "plt.show()"
   ]
  },
  {
   "cell_type": "markdown",
   "metadata": {},
   "source": [
    "На графике видно, что жизненый цикл популярных платформ в среднем составляет 10 лет"
   ]
  },
  {
   "cell_type": "markdown",
   "metadata": {},
   "source": [
    "Создадим таблицу со сроком жизни каждой платформы"
   ]
  },
  {
   "cell_type": "code",
   "execution_count": 31,
   "metadata": {
    "scrolled": true
   },
   "outputs": [
    {
     "data": {
      "text/html": [
       "<div>\n",
       "<style scoped>\n",
       "    .dataframe tbody tr th:only-of-type {\n",
       "        vertical-align: middle;\n",
       "    }\n",
       "\n",
       "    .dataframe tbody tr th {\n",
       "        vertical-align: top;\n",
       "    }\n",
       "\n",
       "    .dataframe thead th {\n",
       "        text-align: right;\n",
       "    }\n",
       "</style>\n",
       "<table border=\"1\" class=\"dataframe\">\n",
       "  <thead>\n",
       "    <tr style=\"text-align: right;\">\n",
       "      <th></th>\n",
       "      <th>min_year</th>\n",
       "      <th>max_year</th>\n",
       "      <th>year</th>\n",
       "    </tr>\n",
       "    <tr>\n",
       "      <th>platform</th>\n",
       "      <th></th>\n",
       "      <th></th>\n",
       "      <th></th>\n",
       "    </tr>\n",
       "  </thead>\n",
       "  <tbody>\n",
       "    <tr>\n",
       "      <th>PC</th>\n",
       "      <td>1997</td>\n",
       "      <td>2016</td>\n",
       "      <td>20</td>\n",
       "    </tr>\n",
       "    <tr>\n",
       "      <th>X360</th>\n",
       "      <td>2005</td>\n",
       "      <td>2016</td>\n",
       "      <td>12</td>\n",
       "    </tr>\n",
       "    <tr>\n",
       "      <th>PS2</th>\n",
       "      <td>2000</td>\n",
       "      <td>2011</td>\n",
       "      <td>12</td>\n",
       "    </tr>\n",
       "    <tr>\n",
       "      <th>PSP</th>\n",
       "      <td>2004</td>\n",
       "      <td>2015</td>\n",
       "      <td>12</td>\n",
       "    </tr>\n",
       "    <tr>\n",
       "      <th>Wii</th>\n",
       "      <td>2006</td>\n",
       "      <td>2016</td>\n",
       "      <td>11</td>\n",
       "    </tr>\n",
       "    <tr>\n",
       "      <th>PS3</th>\n",
       "      <td>2006</td>\n",
       "      <td>2016</td>\n",
       "      <td>11</td>\n",
       "    </tr>\n",
       "    <tr>\n",
       "      <th>DC</th>\n",
       "      <td>1998</td>\n",
       "      <td>2008</td>\n",
       "      <td>11</td>\n",
       "    </tr>\n",
       "    <tr>\n",
       "      <th>DS</th>\n",
       "      <td>2004</td>\n",
       "      <td>2013</td>\n",
       "      <td>10</td>\n",
       "    </tr>\n",
       "    <tr>\n",
       "      <th>XB</th>\n",
       "      <td>2000</td>\n",
       "      <td>2008</td>\n",
       "      <td>9</td>\n",
       "    </tr>\n",
       "    <tr>\n",
       "      <th>GBA</th>\n",
       "      <td>2000</td>\n",
       "      <td>2007</td>\n",
       "      <td>8</td>\n",
       "    </tr>\n",
       "    <tr>\n",
       "      <th>PS</th>\n",
       "      <td>1997</td>\n",
       "      <td>2003</td>\n",
       "      <td>7</td>\n",
       "    </tr>\n",
       "    <tr>\n",
       "      <th>GC</th>\n",
       "      <td>2001</td>\n",
       "      <td>2007</td>\n",
       "      <td>7</td>\n",
       "    </tr>\n",
       "    <tr>\n",
       "      <th>PSV</th>\n",
       "      <td>2011</td>\n",
       "      <td>2016</td>\n",
       "      <td>6</td>\n",
       "    </tr>\n",
       "    <tr>\n",
       "      <th>3DS</th>\n",
       "      <td>2011</td>\n",
       "      <td>2016</td>\n",
       "      <td>6</td>\n",
       "    </tr>\n",
       "    <tr>\n",
       "      <th>N64</th>\n",
       "      <td>1997</td>\n",
       "      <td>2002</td>\n",
       "      <td>6</td>\n",
       "    </tr>\n",
       "    <tr>\n",
       "      <th>GB</th>\n",
       "      <td>1997</td>\n",
       "      <td>2001</td>\n",
       "      <td>5</td>\n",
       "    </tr>\n",
       "    <tr>\n",
       "      <th>WiiU</th>\n",
       "      <td>2012</td>\n",
       "      <td>2016</td>\n",
       "      <td>5</td>\n",
       "    </tr>\n",
       "    <tr>\n",
       "      <th>PS4</th>\n",
       "      <td>2013</td>\n",
       "      <td>2016</td>\n",
       "      <td>4</td>\n",
       "    </tr>\n",
       "    <tr>\n",
       "      <th>XOne</th>\n",
       "      <td>2013</td>\n",
       "      <td>2016</td>\n",
       "      <td>4</td>\n",
       "    </tr>\n",
       "    <tr>\n",
       "      <th>WS</th>\n",
       "      <td>1999</td>\n",
       "      <td>2001</td>\n",
       "      <td>3</td>\n",
       "    </tr>\n",
       "    <tr>\n",
       "      <th>SNES</th>\n",
       "      <td>1997</td>\n",
       "      <td>1999</td>\n",
       "      <td>3</td>\n",
       "    </tr>\n",
       "    <tr>\n",
       "      <th>SAT</th>\n",
       "      <td>1997</td>\n",
       "      <td>1999</td>\n",
       "      <td>3</td>\n",
       "    </tr>\n",
       "  </tbody>\n",
       "</table>\n",
       "</div>"
      ],
      "text/plain": [
       "          min_year  max_year  year\n",
       "platform                          \n",
       "PC            1997      2016    20\n",
       "X360          2005      2016    12\n",
       "PS2           2000      2011    12\n",
       "PSP           2004      2015    12\n",
       "Wii           2006      2016    11\n",
       "PS3           2006      2016    11\n",
       "DC            1998      2008    11\n",
       "DS            2004      2013    10\n",
       "XB            2000      2008     9\n",
       "GBA           2000      2007     8\n",
       "PS            1997      2003     7\n",
       "GC            2001      2007     7\n",
       "PSV           2011      2016     6\n",
       "3DS           2011      2016     6\n",
       "N64           1997      2002     6\n",
       "GB            1997      2001     5\n",
       "WiiU          2012      2016     5\n",
       "PS4           2013      2016     4\n",
       "XOne          2013      2016     4\n",
       "WS            1999      2001     3\n",
       "SNES          1997      1999     3\n",
       "SAT           1997      1999     3"
      ]
     },
     "execution_count": 31,
     "metadata": {},
     "output_type": "execute_result"
    }
   ],
   "source": [
    "time_year = data.pivot_table(index='platform', values='year_of_release', aggfunc=['min', 'max']) #создаем сводную таблицу с мин и макс. значениями по годам\n",
    "\n",
    "time_year['year'] = time_year['max'] - time_year['min'] + 1 #создаем новый столбец с \"годом жизни\" платформы. +1 для входа всех границ диапазона (1992-1992, будем считать за 1 год)\n",
    "\n",
    "time_year.columns = ['min_year', 'max_year', 'year'] #переименовываем столбцы\n",
    "\n",
    "time_year.sort_values('year', ascending = False) #выводим сортированый список "
   ]
  },
  {
   "cell_type": "code",
   "execution_count": 32,
   "metadata": {},
   "outputs": [
    {
     "data": {
      "text/plain": [
       "7.0"
      ]
     },
     "execution_count": 32,
     "metadata": {},
     "output_type": "execute_result"
    }
   ],
   "source": [
    "time_year['year'].median() # срок исчезновения старых и появления новых платформ"
   ]
  },
  {
   "cell_type": "code",
   "execution_count": 33,
   "metadata": {},
   "outputs": [
    {
     "data": {
      "text/plain": [
       "7.0"
      ]
     },
     "execution_count": 33,
     "metadata": {},
     "output_type": "execute_result"
    }
   ],
   "source": [
    "# код ревьюера\n",
    "data.groupby('platform')['year_of_release'].nunique().median()"
   ]
  },
  {
   "cell_type": "markdown",
   "metadata": {},
   "source": [
    "**Вывод:**\n",
    "Платформы с наибольшими суммарными продажами: 'PS2', 'X360', 'PS3', 'Wii', 'DS', 'PS' имеющие срок жизни 10 лет, но у платформ 'X360', 'PS3', 'Wii' срок жизни еще не закончен. На основании всех данных платформ нашли средний срок жизни платформ, он составил 7 лет"
   ]
  },
  {
   "cell_type": "markdown",
   "metadata": {},
   "source": [
    "**3.3 Определим данные за соответствующий актуальный период**\n",
    "\n",
    "Средний срок жизни популярных платформ составляет 10 лет, предлагаю взять данные за последние 3 года, так как в этом промежутке можно посмотреть пик продаж и середину жизненого цикла платформ "
   ]
  },
  {
   "cell_type": "code",
   "execution_count": 34,
   "metadata": {},
   "outputs": [],
   "source": [
    "data = data.query('year_of_release >= 2014').reset_index(drop=True) #отфильтруем данные "
   ]
  },
  {
   "cell_type": "markdown",
   "metadata": {},
   "source": [
    "**3.4 Выберем несколько потенциально прибыльных платформ**"
   ]
  },
  {
   "cell_type": "code",
   "execution_count": 35,
   "metadata": {},
   "outputs": [
    {
     "data": {
      "text/plain": [
       "['PS4', 'XOne', '3DS', 'PS3', 'X360', 'WiiU']"
      ]
     },
     "execution_count": 35,
     "metadata": {},
     "output_type": "execute_result"
    }
   ],
   "source": [
    "top_sales = (data\n",
    "             .pivot_table(index='platform', values='sum_sales', aggfunc='sum')\n",
    "             .sort_values(by='sum_sales', ascending=False)\n",
    "             .reset_index() #создаем датафрейм\n",
    "             .head(6)['platform'] #выводим топ первых 6 платформ\n",
    "             .tolist() #создаем список для цикла построения графика\n",
    "            )\n",
    "top_sales"
   ]
  },
  {
   "cell_type": "code",
   "execution_count": 36,
   "metadata": {},
   "outputs": [
    {
     "data": {
      "image/png": "[encoded data removed]",
      "text/plain": [
       "<Figure size 864x432 with 1 Axes>"
      ]
     },
     "metadata": {
      "needs_background": "light"
     },
     "output_type": "display_data"
    }
   ],
   "source": [
    "for name in top_sales:\n",
    "    (data\n",
    "        .query('platform == @name') #фильтруем\n",
    "        .pivot_table(index = 'year_of_release', values = 'sum_sales', aggfunc = 'sum') #суммарные продажи по годам\n",
    "        .sort_values('year_of_release', ascending = False)['sum_sales'] #сортируем\n",
    "        .plot(figsize = (12, 6), label=name) #выводим график\n",
    "    )\n",
    "    plt.title('Распределение по годам для первых шести популярных платформ')\n",
    "    plt.xlabel('Год')\n",
    "    plt.ylabel('Суммарные продажи')\n",
    "    plt.legend()\n",
    "    plt.xticks(np.arange(2015, 2017, step=1))\n",
    "plt.show()"
   ]
  },
  {
   "cell_type": "markdown",
   "metadata": {},
   "source": [
    "**Вывод**\n",
    "По графикам видно, что продажи падают почти по всем платформам. Но можно выделить лидеров это PS4 и XOne"
   ]
  },
  {
   "cell_type": "markdown",
   "metadata": {},
   "source": [
    "**3.5 Построим график «ящик с усами» по глобальным продажам игр в разбивке по платформам**"
   ]
  },
  {
   "cell_type": "code",
   "execution_count": 37,
   "metadata": {},
   "outputs": [
    {
     "data": {
      "image/png": "[encoded data removed]",
      "text/plain": [
       "<Figure size 1080x720 with 1 Axes>"
      ]
     },
     "metadata": {
      "needs_background": "light"
     },
     "output_type": "display_data"
    }
   ],
   "source": [
    "(data\n",
    "    .pivot_table(index = 'name', columns = 'platform', values = 'sum_sales', aggfunc = 'sum')\n",
    "    .plot(kind = 'box', figsize=(15, 10))\n",
    ")\n",
    "plt.title('Продажи по платформам')\n",
    "plt.xlabel('Платформа')\n",
    "plt.ylabel('Суммарные продажи')\n",
    "plt.ylim(0, 2)\n",
    "plt.show()"
   ]
  },
  {
   "cell_type": "code",
   "execution_count": 38,
   "metadata": {},
   "outputs": [
    {
     "data": {
      "text/plain": [
       "count    1689.000000\n",
       "mean        0.431883\n",
       "std         1.056109\n",
       "min         0.010000\n",
       "25%         0.030000\n",
       "50%         0.100000\n",
       "75%         0.350000\n",
       "max        14.630000\n",
       "Name: sum_sales, dtype: float64"
      ]
     },
     "execution_count": 38,
     "metadata": {},
     "output_type": "execute_result"
    }
   ],
   "source": [
    "data['sum_sales'].describe()"
   ]
  },
  {
   "cell_type": "markdown",
   "metadata": {},
   "source": [
    "**Вывод**\n",
    "По всей выборке медианное значение составляет 0,12, но у большинства платформ оно не совпадает. У платформ 3DC, PC, PSP, PSV достаточно много выбросов. Скорее всего это были какие-то популярные игры, которые вошли в топ. \n",
    "По графикам также видно лидеров это PS4, XOne"
   ]
  },
  {
   "cell_type": "markdown",
   "metadata": {},
   "source": [
    "**3.6 Посмотрим, как влияют на продажи внутри одной популярной платформы отзывы пользователей и критиков**\n",
    "\n",
    "Возьмем платформу PS4\n",
    "\n",
    "3.6.1 Построим диаграмму рассеяния продаж от оценки критиков"
   ]
  },
  {
   "cell_type": "code",
   "execution_count": 39,
   "metadata": {},
   "outputs": [
    {
     "data": {
      "image/png": "[encoded data removed]",
      "text/plain": [
       "<Figure size 432x288 with 1 Axes>"
      ]
     },
     "metadata": {
      "needs_background": "light"
     },
     "output_type": "display_data"
    },
    {
     "name": "stdout",
     "output_type": "stream",
     "text": [
      "Коэффициент корреляции между оценками критиков и продажами платформы PS4: 0.40266141068104083\n"
     ]
    }
   ],
   "source": [
    "(data\n",
    "    .query('(platform == \"PS4\") & (critic_score > 0)')\n",
    "    .plot(x='critic_score', y ='sum_sales', kind ='scatter', alpha = 0.7))\n",
    "\n",
    "plt.title('Зависимость продаж от оценки критиков на PS4')\n",
    "plt.xlabel('Оценки критиков')\n",
    "plt.ylabel('Суммарные продажи')\n",
    "plt.show()\n",
    "print('Коэффициент корреляции между оценками критиков и продажами платформы PS4:', data.query('(platform == \"PS4\") & (critic_score > 0)')['critic_score'].corr(data.query('(platform == \"PS4\") & (critic_score > 0)')['sum_sales']))"
   ]
  },
  {
   "cell_type": "markdown",
   "metadata": {},
   "source": [
    "3.6.2 Построим диаграмму рассеяния продаж от оценки пользователей"
   ]
  },
  {
   "cell_type": "code",
   "execution_count": 40,
   "metadata": {},
   "outputs": [
    {
     "data": {
      "image/png": "[encoded data removed]",
      "text/plain": [
       "<Figure size 432x288 with 1 Axes>"
      ]
     },
     "metadata": {
      "needs_background": "light"
     },
     "output_type": "display_data"
    },
    {
     "name": "stdout",
     "output_type": "stream",
     "text": [
      "Коэффициент корреляции между оценками пользователями и продажами платформы PS4: -0.040131589472697356\n"
     ]
    }
   ],
   "source": [
    "(data\n",
    "    .query('(platform == \"PS4\") & (user_score > -1)')\n",
    "    .plot(x='user_score', y ='sum_sales', kind ='scatter', alpha = 0.7))\n",
    "\n",
    "plt.title('Зависимость продаж от оценки пользователей на PS4')\n",
    "plt.xlabel('Оценки пользователей')\n",
    "plt.ylabel('Суммарные продажи')\n",
    "plt.show()\n",
    "print('Коэффициент корреляции между оценками пользователями и продажами платформы PS4:', data.query('(platform == \"PS4\") & (user_score > -1)')['user_score'].corr(data.query('(platform == \"PS4\") & (user_score > -1)')['sum_sales']))"
   ]
  },
  {
   "cell_type": "markdown",
   "metadata": {},
   "source": [
    "**Вывод**\n",
    "По графикам можно сделать вывод, что есть малая зависимость, чем выше оценки, тем выше продажи, хотя по коэффициентам корреляции этого не скажешь"
   ]
  },
  {
   "cell_type": "markdown",
   "metadata": {},
   "source": [
    "**3.7 Посмотрим, как влияют на продажи платформ XOne и 3DS отзывы пользователей и критиков**"
   ]
  },
  {
   "cell_type": "markdown",
   "metadata": {},
   "source": [
    "3.7.1 Построим диаграмму рассеяния продаж от оценки критиков платформы XOne"
   ]
  },
  {
   "cell_type": "code",
   "execution_count": 41,
   "metadata": {},
   "outputs": [
    {
     "data": {
      "image/png": "[encoded data removed]",
      "text/plain": [
       "<Figure size 432x288 with 1 Axes>"
      ]
     },
     "metadata": {
      "needs_background": "light"
     },
     "output_type": "display_data"
    },
    {
     "name": "stdout",
     "output_type": "stream",
     "text": [
      "Коэффициент корреляции между оценками критиков и продажами платформы XOne: 0.42867694370333226\n"
     ]
    }
   ],
   "source": [
    "(data\n",
    "    .query('(platform == \"XOne\") & (critic_score > 0)')\n",
    "    .plot(x='critic_score', y ='sum_sales', kind ='scatter', alpha = 0.7))\n",
    "\n",
    "plt.title('Зависимость продаж от оценки критиков на XOne')\n",
    "plt.xlabel('Оценки критиков')\n",
    "plt.ylabel('Суммарные продажи')\n",
    "plt.show()\n",
    "print('Коэффициент корреляции между оценками критиков и продажами платформы XOne:', data.query('(platform == \"XOne\") & (critic_score > 0)')['critic_score'].corr(data.query('(platform == \"XOne\") & (critic_score > 0)')['sum_sales']))"
   ]
  },
  {
   "cell_type": "markdown",
   "metadata": {},
   "source": [
    "3.7.2 Построим диаграмму рассеяния продаж от оценки пользователей платформы XOne"
   ]
  },
  {
   "cell_type": "code",
   "execution_count": 42,
   "metadata": {},
   "outputs": [
    {
     "data": {
      "image/png": "[encoded data removed]",
      "text/plain": [
       "<Figure size 432x288 with 1 Axes>"
      ]
     },
     "metadata": {
      "needs_background": "light"
     },
     "output_type": "display_data"
    },
    {
     "name": "stdout",
     "output_type": "stream",
     "text": [
      "Коэффициент корреляции между оценками пользователями и продажами платформы XOne: -0.0703839280647581\n"
     ]
    }
   ],
   "source": [
    "(data\n",
    "    .query('(platform == \"XOne\") & (user_score > -1)')\n",
    "    .plot(x='user_score', y ='sum_sales', kind ='scatter', alpha = 0.7))\n",
    "\n",
    "plt.title('Зависимость продаж от оценки пользователей на XOne')\n",
    "plt.xlabel('Оценки пользователей')\n",
    "plt.ylabel('Суммарные продажи')\n",
    "plt.show()\n",
    "print('Коэффициент корреляции между оценками пользователями и продажами платформы XOne:', data.query('(platform == \"XOne\") & (user_score > -1)')['user_score'].corr(data.query('(platform == \"XOne\") & (user_score > -1)')['sum_sales']))"
   ]
  },
  {
   "cell_type": "markdown",
   "metadata": {},
   "source": [
    "3.7.3 Построим диаграмму рассеяния продаж от оценки критиков платформы 3DS\n",
    "\n",
    "Это менее популярная платформа, рассмотрим ее поподробнее"
   ]
  },
  {
   "cell_type": "code",
   "execution_count": 43,
   "metadata": {},
   "outputs": [
    {
     "data": {
      "image/png": "[encoded data removed]",
      "text/plain": [
       "<Figure size 432x288 with 1 Axes>"
      ]
     },
     "metadata": {
      "needs_background": "light"
     },
     "output_type": "display_data"
    },
    {
     "name": "stdout",
     "output_type": "stream",
     "text": [
      "Коэффициент корреляции между оценками критиков и продажами платформы 3DS: 0.314117492869051\n"
     ]
    }
   ],
   "source": [
    "(data\n",
    "    .query('(platform == \"3DS\") & (critic_score > 0)')\n",
    "    .plot(x='critic_score', y ='sum_sales', kind ='scatter', alpha = 0.7))\n",
    "\n",
    "plt.title('Зависимость продаж от оценки критиков на 3DS')\n",
    "plt.xlabel('Оценки критиков')\n",
    "plt.ylabel('Суммарные продажи')\n",
    "plt.show()\n",
    "print('Коэффициент корреляции между оценками критиков и продажами платформы 3DS:', data.query('(platform == \"3DS\") & (critic_score > 0)')['critic_score'].corr(data.query('(platform == \"3DS\") & (critic_score > 0)')['sum_sales']))"
   ]
  },
  {
   "cell_type": "markdown",
   "metadata": {},
   "source": [
    "3.7.4 Построим диаграмму рассеяния продаж от оценки пользователей платформы 3DS\n",
    "\n",
    "Это менее популярная платформа, рассмотрим ее поподробнее"
   ]
  },
  {
   "cell_type": "code",
   "execution_count": 44,
   "metadata": {},
   "outputs": [
    {
     "data": {
      "image/png": "[encoded data removed]",
      "text/plain": [
       "<Figure size 432x288 with 1 Axes>"
      ]
     },
     "metadata": {
      "needs_background": "light"
     },
     "output_type": "display_data"
    },
    {
     "name": "stdout",
     "output_type": "stream",
     "text": [
      "Коэффициент корреляции между оценками пользователями и продажами платформы 3DS: 0.2151932718527028\n"
     ]
    }
   ],
   "source": [
    "(data\n",
    "    .query('(platform == \"3DS\") & (user_score > -1)')\n",
    "    .plot(x='user_score', y ='sum_sales', kind ='scatter', alpha = 0.7))\n",
    "\n",
    "plt.title('Зависимость продаж от оценки пользователей на 3DS')\n",
    "plt.xlabel('Оценки пользователей')\n",
    "plt.ylabel('Суммарные продажи')\n",
    "plt.show()\n",
    "print('Коэффициент корреляции между оценками пользователями и продажами платформы 3DS:', data.query('(platform == \"3DS\") & (user_score > -1)')['user_score'].corr(data.query('(platform == \"3DS\") & (user_score > -1)')['sum_sales']))"
   ]
  },
  {
   "cell_type": "markdown",
   "metadata": {},
   "source": [
    "**Вывод** \n",
    "В принципе, по всем графикам есть малая засимость оценок от продаж, взяв популярные платформы PS4, XOne и менее популярную 3DS, но влияние оценки критиков на продажи влияет больше "
   ]
  },
  {
   "cell_type": "markdown",
   "metadata": {},
   "source": [
    "**3.8 Посмотрим на общее распределение игр по жанрам**\n",
    "\n",
    "3.8.1 Найдем самый прибыльный жанр игр"
   ]
  },
  {
   "cell_type": "code",
   "execution_count": 45,
   "metadata": {},
   "outputs": [
    {
     "data": {
      "image/png": "[encoded data removed]",
      "text/plain": [
       "<Figure size 864x432 with 1 Axes>"
      ]
     },
     "metadata": {
      "needs_background": "light"
     },
     "output_type": "display_data"
    }
   ],
   "source": [
    "(data\n",
    "    .pivot_table(index='genre', values='sum_sales', aggfunc='median') #медианные продажи по жанрам\n",
    "    .sort_values(by='sum_sales', ascending=False) #сортируем по убыванию\n",
    "    .plot(kind='bar', grid=True, figsize=(12, 6)) #выводим столбчатую диаграмму \n",
    ")\n",
    "plt.title('Жанры игр с наибольшими продажами')\n",
    "plt.xlabel('Жанр игр')\n",
    "plt.ylabel('Суммарные продажи')\n",
    "plt.show()"
   ]
  },
  {
   "cell_type": "markdown",
   "metadata": {},
   "source": [
    "**Вывод**\n",
    "Самые прибыльные жанры игр: Shooter, Sports, Platform\n",
    "Самый популярный жанр Shooter, у него больше всего продаж, а меньше всего у Adventure, этот жанр менее популярен"
   ]
  },
  {
   "cell_type": "markdown",
   "metadata": {},
   "source": [
    "<a id=\"chapter4\"></a>\n",
    "\n",
    "###  Составим портрет пользователя каждого региона"
   ]
  },
  {
   "cell_type": "markdown",
   "metadata": {},
   "source": [
    "**4.1 Топ-5 самых популярных платформ в регионе**"
   ]
  },
  {
   "cell_type": "code",
   "execution_count": 46,
   "metadata": {},
   "outputs": [
    {
     "data": {
      "text/html": [
       "<div>\n",
       "<style scoped>\n",
       "    .dataframe tbody tr th:only-of-type {\n",
       "        vertical-align: middle;\n",
       "    }\n",
       "\n",
       "    .dataframe tbody tr th {\n",
       "        vertical-align: top;\n",
       "    }\n",
       "\n",
       "    .dataframe thead th {\n",
       "        text-align: right;\n",
       "    }\n",
       "</style>\n",
       "<table border=\"1\" class=\"dataframe\">\n",
       "  <thead>\n",
       "    <tr style=\"text-align: right;\">\n",
       "      <th></th>\n",
       "      <th>na_platform</th>\n",
       "      <th>na_sales</th>\n",
       "      <th>eu_platform</th>\n",
       "      <th>eu_sales</th>\n",
       "      <th>jp_platform</th>\n",
       "      <th>jp_sales</th>\n",
       "    </tr>\n",
       "  </thead>\n",
       "  <tbody>\n",
       "    <tr>\n",
       "      <th>0</th>\n",
       "      <td>PS4</td>\n",
       "      <td>98.61</td>\n",
       "      <td>PS4</td>\n",
       "      <td>130.04</td>\n",
       "      <td>3DS</td>\n",
       "      <td>44.24</td>\n",
       "    </tr>\n",
       "    <tr>\n",
       "      <th>1</th>\n",
       "      <td>XOne</td>\n",
       "      <td>81.27</td>\n",
       "      <td>XOne</td>\n",
       "      <td>46.25</td>\n",
       "      <td>PS4</td>\n",
       "      <td>15.02</td>\n",
       "    </tr>\n",
       "    <tr>\n",
       "      <th>2</th>\n",
       "      <td>X360</td>\n",
       "      <td>28.30</td>\n",
       "      <td>PS3</td>\n",
       "      <td>25.54</td>\n",
       "      <td>PSV</td>\n",
       "      <td>14.54</td>\n",
       "    </tr>\n",
       "    <tr>\n",
       "      <th>3</th>\n",
       "      <td>3DS</td>\n",
       "      <td>22.64</td>\n",
       "      <td>PC</td>\n",
       "      <td>17.97</td>\n",
       "      <td>PS3</td>\n",
       "      <td>11.22</td>\n",
       "    </tr>\n",
       "    <tr>\n",
       "      <th>4</th>\n",
       "      <td>PS3</td>\n",
       "      <td>22.05</td>\n",
       "      <td>3DS</td>\n",
       "      <td>16.12</td>\n",
       "      <td>WiiU</td>\n",
       "      <td>7.31</td>\n",
       "    </tr>\n",
       "    <tr>\n",
       "      <th>5</th>\n",
       "      <td>Other</td>\n",
       "      <td>31.19</td>\n",
       "      <td>Other</td>\n",
       "      <td>34.76</td>\n",
       "      <td>Other</td>\n",
       "      <td>0.76</td>\n",
       "    </tr>\n",
       "  </tbody>\n",
       "</table>\n",
       "</div>"
      ],
      "text/plain": [
       "  na_platform  na_sales eu_platform  eu_sales jp_platform  jp_sales\n",
       "0         PS4     98.61         PS4    130.04         3DS     44.24\n",
       "1        XOne     81.27        XOne     46.25         PS4     15.02\n",
       "2        X360     28.30         PS3     25.54         PSV     14.54\n",
       "3         3DS     22.64          PC     17.97         PS3     11.22\n",
       "4         PS3     22.05         3DS     16.12        WiiU      7.31\n",
       "5       Other     31.19       Other     34.76       Other      0.76"
      ]
     },
     "execution_count": 46,
     "metadata": {},
     "output_type": "execute_result"
    }
   ],
   "source": [
    "na = (data\n",
    "        .pivot_table(index=['platform'], values=['na_sales'], aggfunc='sum')\n",
    "        .sort_values('na_sales', ascending=False).reset_index()\n",
    "     )\n",
    "na.loc[5:,'platform'] = 'Other'\n",
    "na.loc[5,'na_sales'] =  na.loc[5:,'na_sales'].sum().round(2)\n",
    "na = na.iloc[0:6, :]\n",
    "\n",
    "eu = (data\n",
    "        .pivot_table(index=['platform'], values=['eu_sales'], aggfunc='sum')\n",
    "        .sort_values('eu_sales', ascending=False).reset_index()\n",
    "     )\n",
    "eu.loc[5:,'platform'] = 'Other'\n",
    "eu.loc[5,'eu_sales'] =  eu.loc[5:,'eu_sales'].sum().round(2)\n",
    "eu = eu.iloc[0:6, :]\n",
    "\n",
    "jp = (data\n",
    "        .pivot_table(index=['platform'], values=['jp_sales'], aggfunc='sum')\n",
    "        .sort_values('jp_sales', ascending=False).reset_index()\n",
    "     )\n",
    "jp.loc[5:,'platform'] = 'Other'\n",
    "jp.loc[5,'jp_sales'] =  jp.loc[5:,'jp_sales'].sum().round(2)\n",
    "jp = jp.iloc[0:6, :]\n",
    "\n",
    "\n",
    "ps = pd.merge(na, eu, left_index=True, right_index=True)\n",
    "ps = pd.merge(ps, jp, left_index=True, right_index=True)\n",
    "ps.rename(columns = {'platform_x':'na_platform', 'platform_y':'eu_platform', 'platform':'jp_platform'}, inplace = True )\n",
    "\n",
    "ps"
   ]
  },
  {
   "cell_type": "code",
   "execution_count": 47,
   "metadata": {},
   "outputs": [
    {
     "data": {
      "text/html": [
       "<div>\n",
       "<style scoped>\n",
       "    .dataframe tbody tr th:only-of-type {\n",
       "        vertical-align: middle;\n",
       "    }\n",
       "\n",
       "    .dataframe tbody tr th {\n",
       "        vertical-align: top;\n",
       "    }\n",
       "\n",
       "    .dataframe thead th {\n",
       "        text-align: right;\n",
       "    }\n",
       "</style>\n",
       "<table border=\"1\" class=\"dataframe\">\n",
       "  <thead>\n",
       "    <tr style=\"text-align: right;\">\n",
       "      <th></th>\n",
       "      <th>region</th>\n",
       "      <th>platform</th>\n",
       "      <th>sales</th>\n",
       "    </tr>\n",
       "  </thead>\n",
       "  <tbody>\n",
       "    <tr>\n",
       "      <th>0</th>\n",
       "      <td>NA - Америка</td>\n",
       "      <td>na_platform</td>\n",
       "      <td>na_sales</td>\n",
       "    </tr>\n",
       "    <tr>\n",
       "      <th>1</th>\n",
       "      <td>EU - Европа</td>\n",
       "      <td>eu_platform</td>\n",
       "      <td>eu_sales</td>\n",
       "    </tr>\n",
       "    <tr>\n",
       "      <th>2</th>\n",
       "      <td>JP - Япония</td>\n",
       "      <td>jp_platform</td>\n",
       "      <td>jp_sales</td>\n",
       "    </tr>\n",
       "  </tbody>\n",
       "</table>\n",
       "</div>"
      ],
      "text/plain": [
       "         region     platform     sales\n",
       "0  NA - Америка  na_platform  na_sales\n",
       "1   EU - Европа  eu_platform  eu_sales\n",
       "2   JP - Япония  jp_platform  jp_sales"
      ]
     },
     "execution_count": 47,
     "metadata": {},
     "output_type": "execute_result"
    }
   ],
   "source": [
    "data_regions = {'region': ['NA - Америка', 'EU - Европа', 'JP - Япония'], 'platform': ['na_platform', 'eu_platform', 'jp_platform'], 'sales': ['na_sales', 'eu_sales', 'jp_sales']} \n",
    "regions = pd.DataFrame(data_regions) \n",
    "regions"
   ]
  },
  {
   "cell_type": "code",
   "execution_count": 48,
   "metadata": {},
   "outputs": [
    {
     "data": {
      "image/png": "[encoded data removed]",
      "text/plain": [
       "<Figure size 504x504 with 1 Axes>"
      ]
     },
     "metadata": {},
     "output_type": "display_data"
    },
    {
     "data": {
      "image/png": "[encoded data removed]",
      "text/plain": [
       "<Figure size 504x504 with 1 Axes>"
      ]
     },
     "metadata": {},
     "output_type": "display_data"
    },
    {
     "data": {
      "image/png": "[encoded data removed]",
      "text/plain": [
       "<Figure size 504x504 with 1 Axes>"
      ]
     },
     "metadata": {},
     "output_type": "display_data"
    }
   ],
   "source": [
    "for i in regions.index :\n",
    "    name = regions['region'][i]\n",
    "    (ps.pivot_table(index=regions['platform'][i], values=regions['sales'][i], aggfunc='sum')\n",
    "     .plot(kind='pie', y=regions['sales'][i], autopct='%1.0f%%', figsize=(7, 7), legend=False)\n",
    "     .set(ylabel='Доля продаж от всех в регионе (%)')\n",
    "    )\n",
    "    plt.title(f'Топ-5 самых популярных платформ в регионе {name}')\n",
    "    plt.show()"
   ]
  },
  {
   "cell_type": "markdown",
   "metadata": {},
   "source": [
    "**4.2 Топ-5 самых популярных жанров в регионе**"
   ]
  },
  {
   "cell_type": "code",
   "execution_count": 49,
   "metadata": {},
   "outputs": [
    {
     "data": {
      "text/html": [
       "<div>\n",
       "<style scoped>\n",
       "    .dataframe tbody tr th:only-of-type {\n",
       "        vertical-align: middle;\n",
       "    }\n",
       "\n",
       "    .dataframe tbody tr th {\n",
       "        vertical-align: top;\n",
       "    }\n",
       "\n",
       "    .dataframe thead th {\n",
       "        text-align: right;\n",
       "    }\n",
       "</style>\n",
       "<table border=\"1\" class=\"dataframe\">\n",
       "  <thead>\n",
       "    <tr style=\"text-align: right;\">\n",
       "      <th></th>\n",
       "      <th>na_genre</th>\n",
       "      <th>na_sales</th>\n",
       "      <th>eu_genre</th>\n",
       "      <th>eu_sales</th>\n",
       "      <th>jp_genre</th>\n",
       "      <th>jp_sales</th>\n",
       "    </tr>\n",
       "  </thead>\n",
       "  <tbody>\n",
       "    <tr>\n",
       "      <th>0</th>\n",
       "      <td>Shooter</td>\n",
       "      <td>79.02</td>\n",
       "      <td>Action</td>\n",
       "      <td>74.68</td>\n",
       "      <td>Role-Playing</td>\n",
       "      <td>31.16</td>\n",
       "    </tr>\n",
       "    <tr>\n",
       "      <th>1</th>\n",
       "      <td>Action</td>\n",
       "      <td>72.53</td>\n",
       "      <td>Shooter</td>\n",
       "      <td>65.52</td>\n",
       "      <td>Action</td>\n",
       "      <td>29.58</td>\n",
       "    </tr>\n",
       "    <tr>\n",
       "      <th>2</th>\n",
       "      <td>Sports</td>\n",
       "      <td>46.13</td>\n",
       "      <td>Sports</td>\n",
       "      <td>45.73</td>\n",
       "      <td>Fighting</td>\n",
       "      <td>6.37</td>\n",
       "    </tr>\n",
       "    <tr>\n",
       "      <th>3</th>\n",
       "      <td>Role-Playing</td>\n",
       "      <td>33.47</td>\n",
       "      <td>Role-Playing</td>\n",
       "      <td>28.17</td>\n",
       "      <td>Misc</td>\n",
       "      <td>5.61</td>\n",
       "    </tr>\n",
       "    <tr>\n",
       "      <th>4</th>\n",
       "      <td>Misc</td>\n",
       "      <td>15.05</td>\n",
       "      <td>Racing</td>\n",
       "      <td>14.13</td>\n",
       "      <td>Shooter</td>\n",
       "      <td>4.87</td>\n",
       "    </tr>\n",
       "    <tr>\n",
       "      <th>5</th>\n",
       "      <td>Other</td>\n",
       "      <td>37.86</td>\n",
       "      <td>Other</td>\n",
       "      <td>42.45</td>\n",
       "      <td>Other</td>\n",
       "      <td>15.50</td>\n",
       "    </tr>\n",
       "  </tbody>\n",
       "</table>\n",
       "</div>"
      ],
      "text/plain": [
       "       na_genre  na_sales      eu_genre  eu_sales      jp_genre  jp_sales\n",
       "0       Shooter     79.02        Action     74.68  Role-Playing     31.16\n",
       "1        Action     72.53       Shooter     65.52        Action     29.58\n",
       "2        Sports     46.13        Sports     45.73      Fighting      6.37\n",
       "3  Role-Playing     33.47  Role-Playing     28.17          Misc      5.61\n",
       "4          Misc     15.05        Racing     14.13       Shooter      4.87\n",
       "5         Other     37.86         Other     42.45         Other     15.50"
      ]
     },
     "execution_count": 49,
     "metadata": {},
     "output_type": "execute_result"
    }
   ],
   "source": [
    "na = (data\n",
    "        .pivot_table(index=['genre'], values=['na_sales'], aggfunc='sum')\n",
    "        .sort_values('na_sales', ascending=False).reset_index()\n",
    "     )\n",
    "na.loc[5:,'genre'] = 'Other'\n",
    "na.loc[5,'na_sales'] =  na.loc[5:,'na_sales'].sum().round(2)\n",
    "na = na.iloc[0:6, :]\n",
    "\n",
    "eu = (data\n",
    "        .pivot_table(index=['genre'], values=['eu_sales'], aggfunc='sum')\n",
    "        .sort_values('eu_sales', ascending=False).reset_index()\n",
    "     )\n",
    "eu.loc[5:,'genre'] = 'Other'\n",
    "eu.loc[5,'eu_sales'] =  eu.loc[5:,'eu_sales'].sum().round(2)\n",
    "eu = eu.iloc[0:6, :]\n",
    "\n",
    "jp = (data\n",
    "        .pivot_table(index=['genre'], values=['jp_sales'], aggfunc='sum')\n",
    "        .sort_values('jp_sales', ascending=False).reset_index()\n",
    "     )\n",
    "jp.loc[5:,'genre'] = 'Other'\n",
    "jp.loc[5,'jp_sales'] =  jp.loc[5:,'jp_sales'].sum().round(2)\n",
    "jp = jp.iloc[0:6, :]\n",
    "\n",
    "gs = pd.merge(na, eu, left_index=True, right_index=True)\n",
    "gs = pd.merge(gs, jp, left_index=True, right_index=True)\n",
    "gs.rename(columns = {'genre_x':'na_genre', 'genre_y':'eu_genre', 'genre':'jp_genre'}, inplace = True )\n",
    "\n",
    "gs"
   ]
  },
  {
   "cell_type": "code",
   "execution_count": 50,
   "metadata": {},
   "outputs": [],
   "source": [
    "data_region = {'region': ['NA - Америка', 'EU - Европа', 'JP - Япония'], 'genre': ['na_genre', 'eu_genre', 'jp_genre'], 'sales': ['na_sales', 'eu_sales', 'jp_sales']} \n",
    "regions = pd.DataFrame(data_region)"
   ]
  },
  {
   "cell_type": "code",
   "execution_count": 51,
   "metadata": {},
   "outputs": [
    {
     "data": {
      "image/png": "[encoded data removed]",
      "text/plain": [
       "<Figure size 864x432 with 1 Axes>"
      ]
     },
     "metadata": {
      "needs_background": "light"
     },
     "output_type": "display_data"
    },
    {
     "data": {
      "image/png": "[encoded data removed]",
      "text/plain": [
       "<Figure size 864x432 with 1 Axes>"
      ]
     },
     "metadata": {
      "needs_background": "light"
     },
     "output_type": "display_data"
    },
    {
     "data": {
      "image/png": "[encoded data removed]",
      "text/plain": [
       "<Figure size 864x432 with 1 Axes>"
      ]
     },
     "metadata": {
      "needs_background": "light"
     },
     "output_type": "display_data"
    }
   ],
   "source": [
    "for i in regions.index :\n",
    "    name = regions['region'][i]\n",
    "    (gs.pivot_table(index=regions['genre'][i], values=regions['sales'][i], aggfunc='sum')\n",
    "     #.sort_values(by='sales', ascending=False)\n",
    "     .plot(kind='bar', grid=True, figsize=(12, 6))\n",
    "    )\n",
    "    \n",
    "    \n",
    "    plt.title(f'Топ-5 самых популярных жанров в регионе {name}')\n",
    "    plt.xlabel('Жанр игр')\n",
    "    plt.ylabel('Суммарные продажи')\n",
    "    plt.show()"
   ]
  },
  {
   "cell_type": "markdown",
   "metadata": {},
   "source": [
    "**4.3 Доля продаж в зависимости от рейтинга ESRB в регионе**"
   ]
  },
  {
   "cell_type": "code",
   "execution_count": 52,
   "metadata": {},
   "outputs": [
    {
     "data": {
      "text/html": [
       "<div>\n",
       "<style scoped>\n",
       "    .dataframe tbody tr th:only-of-type {\n",
       "        vertical-align: middle;\n",
       "    }\n",
       "\n",
       "    .dataframe tbody tr th {\n",
       "        vertical-align: top;\n",
       "    }\n",
       "\n",
       "    .dataframe thead th {\n",
       "        text-align: right;\n",
       "    }\n",
       "</style>\n",
       "<table border=\"1\" class=\"dataframe\">\n",
       "  <thead>\n",
       "    <tr style=\"text-align: right;\">\n",
       "      <th></th>\n",
       "      <th>na_rating</th>\n",
       "      <th>na_sales</th>\n",
       "      <th>eu_rating</th>\n",
       "      <th>eu_sales</th>\n",
       "      <th>jp_rating</th>\n",
       "      <th>jp_sales</th>\n",
       "    </tr>\n",
       "  </thead>\n",
       "  <tbody>\n",
       "    <tr>\n",
       "      <th>0</th>\n",
       "      <td>M</td>\n",
       "      <td>96.42</td>\n",
       "      <td>M</td>\n",
       "      <td>93.44</td>\n",
       "      <td>unknown</td>\n",
       "      <td>56.90</td>\n",
       "    </tr>\n",
       "    <tr>\n",
       "      <th>1</th>\n",
       "      <td>unknown</td>\n",
       "      <td>64.72</td>\n",
       "      <td>unknown</td>\n",
       "      <td>58.95</td>\n",
       "      <td>T</td>\n",
       "      <td>14.78</td>\n",
       "    </tr>\n",
       "    <tr>\n",
       "      <th>2</th>\n",
       "      <td>E</td>\n",
       "      <td>50.74</td>\n",
       "      <td>E</td>\n",
       "      <td>58.06</td>\n",
       "      <td>E</td>\n",
       "      <td>8.94</td>\n",
       "    </tr>\n",
       "    <tr>\n",
       "      <th>3</th>\n",
       "      <td>T</td>\n",
       "      <td>38.95</td>\n",
       "      <td>T</td>\n",
       "      <td>34.07</td>\n",
       "      <td>M</td>\n",
       "      <td>8.01</td>\n",
       "    </tr>\n",
       "    <tr>\n",
       "      <th>4</th>\n",
       "      <td>E10+</td>\n",
       "      <td>33.23</td>\n",
       "      <td>E10+</td>\n",
       "      <td>26.16</td>\n",
       "      <td>E10+</td>\n",
       "      <td>4.46</td>\n",
       "    </tr>\n",
       "  </tbody>\n",
       "</table>\n",
       "</div>"
      ],
      "text/plain": [
       "  na_rating  na_sales eu_rating  eu_sales jp_rating  jp_sales\n",
       "0         M     96.42         M     93.44   unknown     56.90\n",
       "1   unknown     64.72   unknown     58.95         T     14.78\n",
       "2         E     50.74         E     58.06         E      8.94\n",
       "3         T     38.95         T     34.07         M      8.01\n",
       "4      E10+     33.23      E10+     26.16      E10+      4.46"
      ]
     },
     "execution_count": 52,
     "metadata": {},
     "output_type": "execute_result"
    }
   ],
   "source": [
    "na = (data\n",
    "        .pivot_table(index=['rating'], values=['na_sales'], aggfunc='sum')\n",
    "        .sort_values('na_sales', ascending=False).reset_index()\n",
    "     )\n",
    "\n",
    "eu = (data\n",
    "        .pivot_table(index=['rating'], values=['eu_sales'], aggfunc='sum')\n",
    "        .sort_values('eu_sales', ascending=False).reset_index()\n",
    "     )\n",
    "\n",
    "jp = (data\n",
    "        .pivot_table(index=['rating'], values=['jp_sales'], aggfunc='sum')\n",
    "        .sort_values('jp_sales', ascending=False).reset_index()\n",
    "     )\n",
    "\n",
    "gs = pd.merge(na, eu, left_index=True, right_index=True)\n",
    "gs = pd.merge(gs, jp, left_index=True, right_index=True)\n",
    "gs.rename(columns = {'rating_x':'na_rating', 'rating_y':'eu_rating', 'rating':'jp_rating'}, inplace = True )\n",
    "\n",
    "gs"
   ]
  },
  {
   "cell_type": "code",
   "execution_count": 53,
   "metadata": {},
   "outputs": [],
   "source": [
    "data_region = {'region': ['NA - Америка', 'EU - Европа', 'JP - Япония'], 'rating': ['na_rating', 'eu_rating', 'jp_rating'], 'sales': ['na_sales', 'eu_sales', 'jp_sales']} \n",
    "regions = pd.DataFrame(data_region)"
   ]
  },
  {
   "cell_type": "code",
   "execution_count": 54,
   "metadata": {},
   "outputs": [
    {
     "data": {
      "image/png": "[encoded data removed]",
      "text/plain": [
       "<Figure size 864x432 with 1 Axes>"
      ]
     },
     "metadata": {
      "needs_background": "light"
     },
     "output_type": "display_data"
    },
    {
     "data": {
      "image/png": "[encoded data removed]",
      "text/plain": [
       "<Figure size 864x432 with 1 Axes>"
      ]
     },
     "metadata": {
      "needs_background": "light"
     },
     "output_type": "display_data"
    },
    {
     "data": {
      "image/png": "[encoded data removed]",
      "text/plain": [
       "<Figure size 864x432 with 1 Axes>"
      ]
     },
     "metadata": {
      "needs_background": "light"
     },
     "output_type": "display_data"
    }
   ],
   "source": [
    "for i in regions.index :\n",
    "    name = regions['region'][i]\n",
    "    (gs.pivot_table(index=regions['rating'][i], values=regions['sales'][i], aggfunc='sum')\n",
    "     #.sort_values(by='sales', ascending=False)\n",
    "     .plot(kind='bar', grid=True, figsize=(12, 6))\n",
    "    )\n",
    "    \n",
    "    \n",
    "    plt.title(f'Доля продаж в зависимости от рейтинга ESRB в регионе {name}')\n",
    "    plt.xlabel('Рейтинг')\n",
    "    plt.ylabel('Суммарные продажи')\n",
    "    plt.show()"
   ]
  },
  {
   "cell_type": "markdown",
   "metadata": {},
   "source": [
    "**Вывод:**\n",
    "\n",
    "* Пользователи региона NA в 35% выбираю платформу PS4, предпочитают жанр игр \"Shooter\" с рейтингом \"М\"\n",
    "* Пользователи региона EU в 48% выбираю платформу PS4, предпочитают жанр игр \"Shooter\" с рейтингом \"М\"\n",
    "* Пользователи региона JP в 48% выбираю платформу 3DS, предпочитают жанр игр \"Role-Playing\" без рейтинга"
   ]
  },
  {
   "cell_type": "markdown",
   "metadata": {},
   "source": [
    "<a id=\"chapter5\"></a>\n",
    "\n",
    "###  Проверка гипотез"
   ]
  },
  {
   "cell_type": "markdown",
   "metadata": {},
   "source": [
    "**5.1 Средние пользовательские рейтинги платформ Xbox One и PC одинаковые**\n",
    "\n",
    "Нулевая гипотеза: средние пользовательские рейтинги платформ Xbox One и PC равны\n",
    "\n",
    "Альтернативная гипотеза: средние пользовательские рейтинги платформ Xbox One и PC не равны"
   ]
  },
  {
   "cell_type": "code",
   "execution_count": 55,
   "metadata": {},
   "outputs": [
    {
     "name": "stdout",
     "output_type": "stream",
     "text": [
      "p-значение: 0.11601398086668832\n",
      "Не отвергаем нулевую гипотезу\n"
     ]
    }
   ],
   "source": [
    "xone = data.query('platform == \"XOne\" and user_score > -1')\n",
    "pc = data.query(\"platform == 'PC' and user_score > -1\")\n",
    "\n",
    "alpha = 0.05\n",
    "\n",
    "results = st.ttest_ind(\n",
    "    xone['user_score'], \n",
    "    pc['user_score'],\n",
    "    equal_var=False, #дисперсии генеральных совокупносстей не равны\n",
    "    alternative='two-sided') #проверка двухсторонней гипотезы\n",
    "\n",
    "print('p-значение:', results.pvalue)\n",
    "\n",
    "if results.pvalue < alpha:\n",
    "    print('Отвергаем нулевую гипотезу')\n",
    "else:\n",
    "    print('Не отвергаем нулевую гипотезу')"
   ]
  },
  {
   "cell_type": "markdown",
   "metadata": {},
   "source": [
    "Мы не можем сказать (а тем более утвреждать), что средние пользовательские рейтинги платформ Xbox One и PC равны (можно убедиться, что они разные). Мы лишь говорим ,что не можем отвергнуть нулевую гипотезу и что с большой долей вероятности средние пользовательские рейтинги платформ XOne и PC не имеют статистически значимых отличий. "
   ]
  },
  {
   "cell_type": "markdown",
   "metadata": {},
   "source": [
    "**5.2 Средние пользовательские рейтинги жанров Action и Sports разные**\n",
    "\n",
    "Нулевая гипотеза: средние пользовательские рейтинги жанров Action и Sports равны\n",
    "\n",
    "Альтернативная гипотеза: средние пользовательские рейтинги жанров Action и Sports не равны"
   ]
  },
  {
   "cell_type": "code",
   "execution_count": 56,
   "metadata": {},
   "outputs": [
    {
     "name": "stdout",
     "output_type": "stream",
     "text": [
      "p-значение: 1.1825550382644557e-14\n",
      "Отвергаем нулевую гипотезу\n"
     ]
    }
   ],
   "source": [
    "action = data.query('genre == \"Action\" and user_score > -1')\n",
    "sports = data.query('genre == \"Sports\" and user_score > -1')\n",
    "\n",
    "alpha = 0.05\n",
    "\n",
    "results = st.ttest_ind(\n",
    "    action['user_score'], \n",
    "    sports['user_score'],\n",
    "    equal_var=False, #дисперсии генеральных совокупносстей не равны\n",
    "    alternative='two-sided') #проверка двухсторонней гипотезы\n",
    "\n",
    "print('p-значение:', results.pvalue)\n",
    "\n",
    "if results.pvalue < alpha:\n",
    "    print('Отвергаем нулевую гипотезу')\n",
    "else:\n",
    "    print('Не отвергаем нулевую гипотезу')"
   ]
  },
  {
   "cell_type": "markdown",
   "metadata": {},
   "source": [
    "Нулевая гипотеза отвергнута и есть основания предположить, что рейтинги жанров Action и Sports не равны, а значит разные, при установленном уровне значимости в 5 %"
   ]
  },
  {
   "cell_type": "markdown",
   "metadata": {},
   "source": [
    "**Как вы сформулировали нулевую и альтернативную гипотезы**\n",
    "\n",
    "Нулевая гипотеза чаще всего формулируется в виде \"параметр ГС равен некоторому числу\"\n",
    "\n",
    "Альтернативная гипотеза формулируется обычно \"не равен, больше числа, меньше числа\". Если исспользуем формулировку не равен то это двусторонняя гипотеза.\n",
    "\n",
    "**Какой критерий применили для проверки гипотез и почему**\n",
    "\n",
    "У нас две независимые выборки, равенство средних генеральных совокупностей, поэтому используем ttest_ind()"
   ]
  },
  {
   "cell_type": "markdown",
   "metadata": {},
   "source": [
    "<a id=\"chapter6\"></a>\n",
    "\n",
    "###  Общий вывод"
   ]
  },
  {
   "cell_type": "markdown",
   "metadata": {},
   "source": [
    "**В данном проекте были выполнены следующие работы**\n",
    "\n",
    "*Изучена общая информация о данных*\n",
    "\n",
    "*Предобработка данных:*\n",
    "\n",
    "- привели название колонок к нижнему регистру\n",
    "- были заполнены либо удалены пропущенные значения\n",
    "- изменили некоторые типы данных\n",
    "- удалили неявные дубликаты\n",
    "- добавили новый столбец с суммарными продажами во всех регионах\n",
    "\n",
    "*Исследовательский анализ данных:*\n",
    "\n",
    "- определили период роста числа выпуска игр с 1996 года по 2007 год, а в 2007 году было выпущено максимальное количество игр, после чего начался спад\n",
    "- найдены платформы с наибольшими суммарными продажами: 'PS2', 'X360', 'PS3', 'Wii', 'DS', 'PS' имеющие срок жизни 10 лет. На основании всех данных платформ нашли средний срок жизни платформ, он составил 7 лет\n",
    "-  отфильтровали датафрейм, взяв данные за последние 3 года, так как в этом промежутке можно посмотреть пик продаж и середину жизненого цикла платформ\n",
    "- выделили лидеров платформ: PS4 и XOne\n",
    "- построили \"Ящик с усами\" и по нему определили медианное значение по всей выборке, оно составило 0,12, но у большинства платформ оно не совпадает. У платформ 3DC, PC, PSP, PSV достаточно много выбросов. По графикам также видно лидеров это PS4, XOne\n",
    "- нашли малую зависимость между продажами и отзывами пользователей/критиков \n",
    "- определили самые прибыльные жанры игр: Shooter, Sports, Platform. Самый популярный жанр Shooter, у него больше всего продаж, а меньше всего у Adventure, этот жанр менее популярен\n",
    "\n",
    "*Составили портреты пользователей из регионов:*\n",
    "\n",
    "- Пользователи региона NA в 35% выбираю платформу PS4, предпочитают жанр игр \"Shooter\" с рейтингом \"М\"\n",
    "- Пользователи региона EU в 48% выбираю платформу PS4, предпочитают жанр игр \"Shooter\" с рейтингом \"М\"\n",
    "- Пользователи региона JP в 48% выбираю платформу 3DS, предпочитают жанр игр \"Role-Playing\" без рейтинга\n",
    "\n",
    "*Проверили гипотезы*\n",
    "- средние пользовательские рейтинги платформ Xbox One и PC одинаковые (Не удалось отвергнуть нулевую гипотезу)\n",
    "- средние пользовательские рейтинги жанров Action и Sports разные (Отвергли нулевую гипотезу)\n",
    "\n",
    "*Рекомендации*\n",
    "\n",
    "Проведение рекламных кампаний на лидирующие продукты: платформа PS4, жанры Shooter и Sports с рейтингом \"M\" (для взрослых)\n"
   ]
  }
 ],
 "metadata": {
  "ExecuteTimeLog": [
   {
    "duration": 354,
    "start_time": "2024-05-13T10:32:28.703Z"
   },
   {
    "duration": 115,
    "start_time": "2024-05-13T10:35:22.348Z"
   },
   {
    "duration": 14,
    "start_time": "2024-05-13T10:44:42.070Z"
   },
   {
    "duration": 26,
    "start_time": "2024-05-13T10:52:08.470Z"
   },
   {
    "duration": 22,
    "start_time": "2024-05-13T13:20:40.624Z"
   },
   {
    "duration": 2,
    "start_time": "2024-05-13T13:22:10.743Z"
   },
   {
    "duration": 2,
    "start_time": "2024-05-13T13:22:10.874Z"
   },
   {
    "duration": 69,
    "start_time": "2024-05-13T13:44:06.011Z"
   },
   {
    "duration": 4,
    "start_time": "2024-05-13T13:44:23.986Z"
   },
   {
    "duration": 4,
    "start_time": "2024-05-13T13:55:32.847Z"
   },
   {
    "duration": 3,
    "start_time": "2024-05-13T13:55:42.039Z"
   },
   {
    "duration": 45,
    "start_time": "2024-05-13T14:02:28.502Z"
   },
   {
    "duration": 17,
    "start_time": "2024-05-13T14:04:54.290Z"
   },
   {
    "duration": 12,
    "start_time": "2024-05-13T14:05:19.429Z"
   },
   {
    "duration": 15,
    "start_time": "2024-05-13T14:05:35.631Z"
   },
   {
    "duration": 11,
    "start_time": "2024-05-13T14:09:40.767Z"
   },
   {
    "duration": 7,
    "start_time": "2024-05-13T14:09:58.114Z"
   },
   {
    "duration": 11,
    "start_time": "2024-05-13T14:10:08.676Z"
   },
   {
    "duration": 2,
    "start_time": "2024-05-13T14:15:25.302Z"
   },
   {
    "duration": 3,
    "start_time": "2024-05-13T14:16:06.283Z"
   },
   {
    "duration": 40,
    "start_time": "2024-05-13T14:19:16.256Z"
   },
   {
    "duration": 7,
    "start_time": "2024-05-13T14:19:40.660Z"
   },
   {
    "duration": 15,
    "start_time": "2024-05-13T14:20:13.592Z"
   },
   {
    "duration": 12,
    "start_time": "2024-05-13T14:24:26.624Z"
   },
   {
    "duration": 10,
    "start_time": "2024-05-13T14:29:21.782Z"
   },
   {
    "duration": 14,
    "start_time": "2024-05-13T14:29:38.523Z"
   },
   {
    "duration": 20,
    "start_time": "2024-05-13T14:50:08.599Z"
   },
   {
    "duration": 9,
    "start_time": "2024-05-13T14:52:20.304Z"
   },
   {
    "duration": 21,
    "start_time": "2024-05-13T14:56:01.951Z"
   },
   {
    "duration": 6,
    "start_time": "2024-05-13T15:02:24.589Z"
   },
   {
    "duration": 6,
    "start_time": "2024-05-13T15:03:21.075Z"
   },
   {
    "duration": 6,
    "start_time": "2024-05-13T15:13:02.283Z"
   },
   {
    "duration": 16,
    "start_time": "2024-05-13T15:32:16.239Z"
   },
   {
    "duration": 6,
    "start_time": "2024-05-13T15:34:05.190Z"
   },
   {
    "duration": 374,
    "start_time": "2024-05-13T15:37:30.663Z"
   },
   {
    "duration": 62,
    "start_time": "2024-05-13T15:37:31.039Z"
   },
   {
    "duration": 14,
    "start_time": "2024-05-13T15:37:31.102Z"
   },
   {
    "duration": 96,
    "start_time": "2024-05-13T15:37:31.118Z"
   },
   {
    "duration": 76,
    "start_time": "2024-05-13T15:37:31.217Z"
   },
   {
    "duration": 38,
    "start_time": "2024-05-13T15:37:31.295Z"
   },
   {
    "duration": 29,
    "start_time": "2024-05-13T15:37:31.335Z"
   },
   {
    "duration": 33,
    "start_time": "2024-05-13T15:37:31.365Z"
   },
   {
    "duration": 7,
    "start_time": "2024-05-13T15:37:31.400Z"
   },
   {
    "duration": 35,
    "start_time": "2024-05-13T15:37:31.409Z"
   },
   {
    "duration": 9,
    "start_time": "2024-05-13T15:37:31.446Z"
   },
   {
    "duration": 9,
    "start_time": "2024-05-13T15:39:41.349Z"
   },
   {
    "duration": 9,
    "start_time": "2024-05-13T15:39:44.848Z"
   },
   {
    "duration": 376,
    "start_time": "2024-05-13T15:39:54.058Z"
   },
   {
    "duration": 52,
    "start_time": "2024-05-13T15:39:54.436Z"
   },
   {
    "duration": 13,
    "start_time": "2024-05-13T15:39:54.489Z"
   },
   {
    "duration": 34,
    "start_time": "2024-05-13T15:39:54.503Z"
   },
   {
    "duration": 16,
    "start_time": "2024-05-13T15:39:54.540Z"
   },
   {
    "duration": 42,
    "start_time": "2024-05-13T15:39:54.557Z"
   },
   {
    "duration": 13,
    "start_time": "2024-05-13T15:39:54.601Z"
   },
   {
    "duration": 17,
    "start_time": "2024-05-13T15:39:54.615Z"
   },
   {
    "duration": 10,
    "start_time": "2024-05-13T15:39:54.633Z"
   },
   {
    "duration": 50,
    "start_time": "2024-05-13T15:39:54.644Z"
   },
   {
    "duration": 30,
    "start_time": "2024-05-13T15:39:54.696Z"
   },
   {
    "duration": 16,
    "start_time": "2024-05-13T15:39:54.727Z"
   },
   {
    "duration": 20,
    "start_time": "2024-05-13T16:39:25.320Z"
   },
   {
    "duration": 45,
    "start_time": "2024-05-13T16:42:58.872Z"
   },
   {
    "duration": 4,
    "start_time": "2024-05-13T16:43:12.480Z"
   },
   {
    "duration": 5,
    "start_time": "2024-05-13T16:44:36.794Z"
   },
   {
    "duration": 5,
    "start_time": "2024-05-13T16:47:20.953Z"
   },
   {
    "duration": 5,
    "start_time": "2024-05-13T16:47:43.957Z"
   },
   {
    "duration": 11,
    "start_time": "2024-05-13T16:49:34.257Z"
   },
   {
    "duration": 9,
    "start_time": "2024-05-13T16:49:57.976Z"
   },
   {
    "duration": 8,
    "start_time": "2024-05-13T16:50:14.944Z"
   },
   {
    "duration": 12,
    "start_time": "2024-05-13T16:50:20.640Z"
   },
   {
    "duration": 4,
    "start_time": "2024-05-13T16:52:55.042Z"
   },
   {
    "duration": 45,
    "start_time": "2024-05-13T16:53:00.846Z"
   },
   {
    "duration": 65,
    "start_time": "2024-05-13T16:53:13.915Z"
   },
   {
    "duration": 3,
    "start_time": "2024-05-13T16:53:42.825Z"
   },
   {
    "duration": 5,
    "start_time": "2024-05-13T16:54:20.561Z"
   },
   {
    "duration": 4,
    "start_time": "2024-05-13T16:55:18.743Z"
   },
   {
    "duration": 12,
    "start_time": "2024-05-13T16:55:43.932Z"
   },
   {
    "duration": 431,
    "start_time": "2024-05-13T16:56:05.243Z"
   },
   {
    "duration": 56,
    "start_time": "2024-05-13T16:56:05.676Z"
   },
   {
    "duration": 14,
    "start_time": "2024-05-13T16:56:05.734Z"
   },
   {
    "duration": 18,
    "start_time": "2024-05-13T16:56:05.750Z"
   },
   {
    "duration": 22,
    "start_time": "2024-05-13T16:56:05.770Z"
   },
   {
    "duration": 14,
    "start_time": "2024-05-13T16:56:05.793Z"
   },
   {
    "duration": 13,
    "start_time": "2024-05-13T16:56:05.809Z"
   },
   {
    "duration": 29,
    "start_time": "2024-05-13T16:56:05.824Z"
   },
   {
    "duration": 14,
    "start_time": "2024-05-13T16:56:05.855Z"
   },
   {
    "duration": 24,
    "start_time": "2024-05-13T16:56:05.870Z"
   },
   {
    "duration": 6,
    "start_time": "2024-05-13T16:56:05.896Z"
   },
   {
    "duration": 7,
    "start_time": "2024-05-13T16:56:05.903Z"
   },
   {
    "duration": 11,
    "start_time": "2024-05-13T16:56:05.911Z"
   },
   {
    "duration": 14,
    "start_time": "2024-05-13T16:56:05.924Z"
   },
   {
    "duration": 5,
    "start_time": "2024-05-13T16:56:05.945Z"
   },
   {
    "duration": 8,
    "start_time": "2024-05-13T16:56:05.951Z"
   },
   {
    "duration": 7,
    "start_time": "2024-05-13T16:56:05.960Z"
   },
   {
    "duration": 14,
    "start_time": "2024-05-13T16:56:05.968Z"
   },
   {
    "duration": 4,
    "start_time": "2024-05-13T16:56:05.983Z"
   },
   {
    "duration": 67,
    "start_time": "2024-05-13T16:56:35.418Z"
   },
   {
    "duration": 4,
    "start_time": "2024-05-13T16:57:04.671Z"
   },
   {
    "duration": 395,
    "start_time": "2024-05-13T16:57:26.639Z"
   },
   {
    "duration": 60,
    "start_time": "2024-05-13T16:57:27.036Z"
   },
   {
    "duration": 12,
    "start_time": "2024-05-13T16:57:27.098Z"
   },
   {
    "duration": 65,
    "start_time": "2024-05-13T16:57:27.112Z"
   },
   {
    "duration": 31,
    "start_time": "2024-05-13T16:57:27.180Z"
   },
   {
    "duration": 32,
    "start_time": "2024-05-13T16:57:27.212Z"
   },
   {
    "duration": 46,
    "start_time": "2024-05-13T16:57:27.246Z"
   },
   {
    "duration": 22,
    "start_time": "2024-05-13T16:57:27.293Z"
   },
   {
    "duration": 71,
    "start_time": "2024-05-13T16:57:27.316Z"
   },
   {
    "duration": 34,
    "start_time": "2024-05-13T16:57:27.389Z"
   },
   {
    "duration": 10,
    "start_time": "2024-05-13T16:57:27.424Z"
   },
   {
    "duration": 64,
    "start_time": "2024-05-13T16:57:27.436Z"
   },
   {
    "duration": 44,
    "start_time": "2024-05-13T16:57:27.502Z"
   },
   {
    "duration": 51,
    "start_time": "2024-05-13T16:57:27.549Z"
   },
   {
    "duration": 57,
    "start_time": "2024-05-13T16:57:27.602Z"
   },
   {
    "duration": 30,
    "start_time": "2024-05-13T16:57:27.661Z"
   },
   {
    "duration": 34,
    "start_time": "2024-05-13T16:57:27.692Z"
   },
   {
    "duration": 41,
    "start_time": "2024-05-13T16:57:27.727Z"
   },
   {
    "duration": 28,
    "start_time": "2024-05-13T16:57:27.770Z"
   },
   {
    "duration": 85,
    "start_time": "2024-05-13T16:57:27.799Z"
   },
   {
    "duration": 21,
    "start_time": "2024-05-13T16:58:37.563Z"
   },
   {
    "duration": 3,
    "start_time": "2024-05-13T17:08:32.674Z"
   },
   {
    "duration": 386,
    "start_time": "2024-05-13T17:09:46.446Z"
   },
   {
    "duration": 53,
    "start_time": "2024-05-13T17:09:46.834Z"
   },
   {
    "duration": 14,
    "start_time": "2024-05-13T17:09:46.888Z"
   },
   {
    "duration": 19,
    "start_time": "2024-05-13T17:09:46.904Z"
   },
   {
    "duration": 16,
    "start_time": "2024-05-13T17:09:46.924Z"
   },
   {
    "duration": 14,
    "start_time": "2024-05-13T17:09:46.942Z"
   },
   {
    "duration": 12,
    "start_time": "2024-05-13T17:09:46.957Z"
   },
   {
    "duration": 11,
    "start_time": "2024-05-13T17:09:46.971Z"
   },
   {
    "duration": 6,
    "start_time": "2024-05-13T17:09:46.984Z"
   },
   {
    "duration": 21,
    "start_time": "2024-05-13T17:09:46.991Z"
   },
   {
    "duration": 33,
    "start_time": "2024-05-13T17:09:47.013Z"
   },
   {
    "duration": 3,
    "start_time": "2024-05-13T17:09:47.047Z"
   },
   {
    "duration": 15,
    "start_time": "2024-05-13T17:09:47.052Z"
   },
   {
    "duration": 13,
    "start_time": "2024-05-13T17:09:47.070Z"
   },
   {
    "duration": 13,
    "start_time": "2024-05-13T17:09:47.085Z"
   },
   {
    "duration": 22,
    "start_time": "2024-05-13T17:09:47.100Z"
   },
   {
    "duration": 4,
    "start_time": "2024-05-13T17:09:47.123Z"
   },
   {
    "duration": 17,
    "start_time": "2024-05-13T17:09:47.128Z"
   },
   {
    "duration": 4,
    "start_time": "2024-05-13T17:09:47.147Z"
   },
   {
    "duration": 25,
    "start_time": "2024-05-13T17:09:47.152Z"
   },
   {
    "duration": 8,
    "start_time": "2024-05-13T17:09:47.179Z"
   },
   {
    "duration": 12,
    "start_time": "2024-05-13T17:14:35.631Z"
   },
   {
    "duration": 8,
    "start_time": "2024-05-13T17:21:48.445Z"
   },
   {
    "duration": 346,
    "start_time": "2024-05-13T17:22:41.888Z"
   },
   {
    "duration": 53,
    "start_time": "2024-05-13T17:22:42.235Z"
   },
   {
    "duration": 14,
    "start_time": "2024-05-13T17:22:42.290Z"
   },
   {
    "duration": 22,
    "start_time": "2024-05-13T17:22:42.305Z"
   },
   {
    "duration": 23,
    "start_time": "2024-05-13T17:22:42.330Z"
   },
   {
    "duration": 14,
    "start_time": "2024-05-13T17:22:42.354Z"
   },
   {
    "duration": 13,
    "start_time": "2024-05-13T17:22:42.370Z"
   },
   {
    "duration": 9,
    "start_time": "2024-05-13T17:22:42.385Z"
   },
   {
    "duration": 16,
    "start_time": "2024-05-13T17:22:42.396Z"
   },
   {
    "duration": 35,
    "start_time": "2024-05-13T17:22:42.414Z"
   },
   {
    "duration": 14,
    "start_time": "2024-05-13T17:22:42.450Z"
   },
   {
    "duration": 16,
    "start_time": "2024-05-13T17:22:42.465Z"
   },
   {
    "duration": 17,
    "start_time": "2024-05-13T17:22:42.482Z"
   },
   {
    "duration": 4,
    "start_time": "2024-05-13T17:22:42.502Z"
   },
   {
    "duration": 26,
    "start_time": "2024-05-13T17:22:42.508Z"
   },
   {
    "duration": 10,
    "start_time": "2024-05-13T17:22:42.536Z"
   },
   {
    "duration": 13,
    "start_time": "2024-05-13T17:22:42.548Z"
   },
   {
    "duration": 5,
    "start_time": "2024-05-13T17:22:42.562Z"
   },
   {
    "duration": 8,
    "start_time": "2024-05-13T17:22:42.568Z"
   },
   {
    "duration": 33,
    "start_time": "2024-05-13T17:22:42.577Z"
   },
   {
    "duration": 8,
    "start_time": "2024-05-13T17:24:32.604Z"
   },
   {
    "duration": 5,
    "start_time": "2024-05-13T17:29:38.556Z"
   },
   {
    "duration": 13,
    "start_time": "2024-05-13T17:29:50.659Z"
   },
   {
    "duration": 5,
    "start_time": "2024-05-13T17:51:47.122Z"
   },
   {
    "duration": 19,
    "start_time": "2024-05-13T17:51:54.662Z"
   },
   {
    "duration": 5,
    "start_time": "2024-05-13T17:59:31.692Z"
   },
   {
    "duration": 13,
    "start_time": "2024-05-13T17:59:32.742Z"
   },
   {
    "duration": 2,
    "start_time": "2024-05-13T18:04:31.504Z"
   },
   {
    "duration": 4,
    "start_time": "2024-05-13T18:07:11.471Z"
   },
   {
    "duration": 439,
    "start_time": "2024-05-13T18:08:32.678Z"
   },
   {
    "duration": 2,
    "start_time": "2024-05-13T18:08:54.713Z"
   },
   {
    "duration": 195,
    "start_time": "2024-05-13T18:08:58.074Z"
   },
   {
    "duration": 180,
    "start_time": "2024-05-13T18:09:30.059Z"
   },
   {
    "duration": 151,
    "start_time": "2024-05-13T18:11:42.260Z"
   },
   {
    "duration": 232,
    "start_time": "2024-05-13T18:12:30.248Z"
   },
   {
    "duration": 8,
    "start_time": "2024-05-13T18:13:23.746Z"
   },
   {
    "duration": 9,
    "start_time": "2024-05-13T18:14:18.796Z"
   },
   {
    "duration": 8,
    "start_time": "2024-05-13T18:15:06.978Z"
   },
   {
    "duration": 9,
    "start_time": "2024-05-13T18:15:13.721Z"
   },
   {
    "duration": 12,
    "start_time": "2024-05-13T18:15:45.569Z"
   },
   {
    "duration": 23,
    "start_time": "2024-05-13T18:15:52.070Z"
   },
   {
    "duration": 11,
    "start_time": "2024-05-13T18:16:04.213Z"
   },
   {
    "duration": 24,
    "start_time": "2024-05-13T18:19:59.837Z"
   },
   {
    "duration": 8,
    "start_time": "2024-05-13T18:20:13.450Z"
   },
   {
    "duration": 6,
    "start_time": "2024-05-13T18:23:18.948Z"
   },
   {
    "duration": 6,
    "start_time": "2024-05-13T18:23:36.105Z"
   },
   {
    "duration": 169,
    "start_time": "2024-05-13T18:23:52.780Z"
   },
   {
    "duration": 5,
    "start_time": "2024-05-13T18:24:06.625Z"
   },
   {
    "duration": 9,
    "start_time": "2024-05-13T18:24:16.136Z"
   },
   {
    "duration": 5,
    "start_time": "2024-05-13T18:24:37.342Z"
   },
   {
    "duration": 178,
    "start_time": "2024-05-13T18:24:42.269Z"
   },
   {
    "duration": 7,
    "start_time": "2024-05-13T18:49:00.281Z"
   },
   {
    "duration": 24,
    "start_time": "2024-05-13T18:49:20.187Z"
   },
   {
    "duration": 288,
    "start_time": "2024-05-13T18:58:29.030Z"
   },
   {
    "duration": 318,
    "start_time": "2024-05-13T18:58:55.228Z"
   },
   {
    "duration": 308,
    "start_time": "2024-05-13T18:59:07.090Z"
   },
   {
    "duration": 155,
    "start_time": "2024-05-13T19:05:51.179Z"
   },
   {
    "duration": 412,
    "start_time": "2024-05-13T19:13:07.484Z"
   },
   {
    "duration": 290,
    "start_time": "2024-05-13T19:13:46.657Z"
   },
   {
    "duration": 13,
    "start_time": "2024-05-13T19:18:56.617Z"
   },
   {
    "duration": 16,
    "start_time": "2024-05-13T19:20:37.189Z"
   },
   {
    "duration": 16,
    "start_time": "2024-05-13T19:23:10.651Z"
   },
   {
    "duration": 11,
    "start_time": "2024-05-13T19:24:36.849Z"
   },
   {
    "duration": 11,
    "start_time": "2024-05-13T19:24:52.749Z"
   },
   {
    "duration": 8,
    "start_time": "2024-05-13T19:24:55.515Z"
   },
   {
    "duration": 19,
    "start_time": "2024-05-13T19:25:18.600Z"
   },
   {
    "duration": 9,
    "start_time": "2024-05-13T19:25:31.649Z"
   },
   {
    "duration": 12,
    "start_time": "2024-05-13T19:26:38.930Z"
   },
   {
    "duration": 10,
    "start_time": "2024-05-13T19:26:53.382Z"
   },
   {
    "duration": 10,
    "start_time": "2024-05-13T19:27:43.297Z"
   },
   {
    "duration": 22,
    "start_time": "2024-05-13T19:28:32.558Z"
   },
   {
    "duration": 29,
    "start_time": "2024-05-13T19:28:56.050Z"
   },
   {
    "duration": 9,
    "start_time": "2024-05-13T19:29:27.534Z"
   },
   {
    "duration": 50,
    "start_time": "2024-05-14T09:37:44.871Z"
   },
   {
    "duration": 831,
    "start_time": "2024-05-14T09:37:48.564Z"
   },
   {
    "duration": 191,
    "start_time": "2024-05-14T09:37:49.398Z"
   },
   {
    "duration": 16,
    "start_time": "2024-05-14T09:37:49.590Z"
   },
   {
    "duration": 17,
    "start_time": "2024-05-14T09:37:49.607Z"
   },
   {
    "duration": 20,
    "start_time": "2024-05-14T09:37:49.626Z"
   },
   {
    "duration": 25,
    "start_time": "2024-05-14T09:37:49.647Z"
   },
   {
    "duration": 14,
    "start_time": "2024-05-14T09:37:49.673Z"
   },
   {
    "duration": 9,
    "start_time": "2024-05-14T09:37:49.689Z"
   },
   {
    "duration": 9,
    "start_time": "2024-05-14T09:37:49.699Z"
   },
   {
    "duration": 11,
    "start_time": "2024-05-14T09:37:49.710Z"
   },
   {
    "duration": 4,
    "start_time": "2024-05-14T09:37:49.722Z"
   },
   {
    "duration": 33,
    "start_time": "2024-05-14T09:37:49.728Z"
   },
   {
    "duration": 16,
    "start_time": "2024-05-14T09:37:49.763Z"
   },
   {
    "duration": 4,
    "start_time": "2024-05-14T09:37:49.781Z"
   },
   {
    "duration": 30,
    "start_time": "2024-05-14T09:37:49.787Z"
   },
   {
    "duration": 3,
    "start_time": "2024-05-14T09:37:49.819Z"
   },
   {
    "duration": 7,
    "start_time": "2024-05-14T09:37:49.824Z"
   },
   {
    "duration": 26,
    "start_time": "2024-05-14T09:37:49.832Z"
   },
   {
    "duration": 9,
    "start_time": "2024-05-14T09:37:49.860Z"
   },
   {
    "duration": 15,
    "start_time": "2024-05-14T09:37:49.870Z"
   },
   {
    "duration": 4,
    "start_time": "2024-05-14T09:37:49.887Z"
   },
   {
    "duration": 20,
    "start_time": "2024-05-14T09:37:49.893Z"
   },
   {
    "duration": 253,
    "start_time": "2024-05-14T09:37:49.915Z"
   },
   {
    "duration": 348,
    "start_time": "2024-05-14T09:37:50.170Z"
   },
   {
    "duration": 179,
    "start_time": "2024-05-14T09:37:50.519Z"
   },
   {
    "duration": 15,
    "start_time": "2024-05-14T09:37:50.700Z"
   },
   {
    "duration": 71,
    "start_time": "2024-05-14T09:40:42.717Z"
   },
   {
    "duration": 11,
    "start_time": "2024-05-14T09:48:15.920Z"
   },
   {
    "duration": 17,
    "start_time": "2024-05-14T09:48:25.962Z"
   },
   {
    "duration": 379,
    "start_time": "2024-05-14T09:50:20.413Z"
   },
   {
    "duration": 16,
    "start_time": "2024-05-14T09:51:49.345Z"
   },
   {
    "duration": 1172,
    "start_time": "2024-05-14T09:52:12.056Z"
   },
   {
    "duration": 13,
    "start_time": "2024-05-14T09:52:55.135Z"
   },
   {
    "duration": 295,
    "start_time": "2024-05-14T09:52:57.763Z"
   },
   {
    "duration": 292,
    "start_time": "2024-05-14T09:54:16.673Z"
   },
   {
    "duration": 1125,
    "start_time": "2024-05-14T09:56:30.716Z"
   },
   {
    "duration": 12,
    "start_time": "2024-05-14T10:00:20.567Z"
   },
   {
    "duration": 1162,
    "start_time": "2024-05-14T10:00:28.107Z"
   },
   {
    "duration": 1103,
    "start_time": "2024-05-14T10:01:03.447Z"
   },
   {
    "duration": 16,
    "start_time": "2024-05-14T10:01:10.010Z"
   },
   {
    "duration": 18,
    "start_time": "2024-05-14T10:01:27.192Z"
   },
   {
    "duration": 1248,
    "start_time": "2024-05-14T10:02:54.796Z"
   },
   {
    "duration": 1137,
    "start_time": "2024-05-14T10:03:16.106Z"
   },
   {
    "duration": 67,
    "start_time": "2024-05-14T10:03:32.827Z"
   },
   {
    "duration": 658,
    "start_time": "2024-05-14T10:03:44.095Z"
   },
   {
    "duration": 56,
    "start_time": "2024-05-14T10:03:44.756Z"
   },
   {
    "duration": 15,
    "start_time": "2024-05-14T10:03:44.814Z"
   },
   {
    "duration": 34,
    "start_time": "2024-05-14T10:03:44.831Z"
   },
   {
    "duration": 19,
    "start_time": "2024-05-14T10:03:44.867Z"
   },
   {
    "duration": 19,
    "start_time": "2024-05-14T10:03:44.888Z"
   },
   {
    "duration": 19,
    "start_time": "2024-05-14T10:03:44.908Z"
   },
   {
    "duration": 19,
    "start_time": "2024-05-14T10:03:44.929Z"
   },
   {
    "duration": 25,
    "start_time": "2024-05-14T10:03:44.950Z"
   },
   {
    "duration": 19,
    "start_time": "2024-05-14T10:03:44.976Z"
   },
   {
    "duration": 11,
    "start_time": "2024-05-14T10:03:44.996Z"
   },
   {
    "duration": 65,
    "start_time": "2024-05-14T10:03:45.009Z"
   },
   {
    "duration": 61,
    "start_time": "2024-05-14T10:03:45.075Z"
   },
   {
    "duration": 45,
    "start_time": "2024-05-14T10:03:45.139Z"
   },
   {
    "duration": 102,
    "start_time": "2024-05-14T10:03:45.186Z"
   },
   {
    "duration": 35,
    "start_time": "2024-05-14T10:03:45.290Z"
   },
   {
    "duration": 95,
    "start_time": "2024-05-14T10:03:45.327Z"
   },
   {
    "duration": 74,
    "start_time": "2024-05-14T10:03:45.424Z"
   },
   {
    "duration": 29,
    "start_time": "2024-05-14T10:03:45.500Z"
   },
   {
    "duration": 143,
    "start_time": "2024-05-14T10:03:45.531Z"
   },
   {
    "duration": 47,
    "start_time": "2024-05-14T10:03:45.675Z"
   },
   {
    "duration": 32,
    "start_time": "2024-05-14T10:03:45.723Z"
   },
   {
    "duration": 228,
    "start_time": "2024-05-14T10:03:45.757Z"
   },
   {
    "duration": 350,
    "start_time": "2024-05-14T10:03:45.987Z"
   },
   {
    "duration": 22,
    "start_time": "2024-05-14T10:03:46.339Z"
   },
   {
    "duration": 67,
    "start_time": "2024-05-14T10:03:46.363Z"
   },
   {
    "duration": 0,
    "start_time": "2024-05-14T10:03:46.432Z"
   },
   {
    "duration": 0,
    "start_time": "2024-05-14T10:03:46.432Z"
   },
   {
    "duration": 409,
    "start_time": "2024-05-14T10:03:57.438Z"
   },
   {
    "duration": 326,
    "start_time": "2024-05-14T10:04:55.228Z"
   },
   {
    "duration": 314,
    "start_time": "2024-05-14T10:06:37.902Z"
   },
   {
    "duration": 391,
    "start_time": "2024-05-14T10:08:19.193Z"
   },
   {
    "duration": 365,
    "start_time": "2024-05-14T10:10:21.899Z"
   },
   {
    "duration": 14,
    "start_time": "2024-05-14T10:23:07.859Z"
   },
   {
    "duration": 17,
    "start_time": "2024-05-14T10:23:36.133Z"
   },
   {
    "duration": 16,
    "start_time": "2024-05-14T10:23:47.912Z"
   },
   {
    "duration": 12,
    "start_time": "2024-05-14T10:29:37.255Z"
   },
   {
    "duration": 12,
    "start_time": "2024-05-14T10:29:41.926Z"
   },
   {
    "duration": 16,
    "start_time": "2024-05-14T10:29:52.841Z"
   },
   {
    "duration": 1155,
    "start_time": "2024-05-14T10:29:58.315Z"
   },
   {
    "duration": 18,
    "start_time": "2024-05-14T10:30:25.693Z"
   },
   {
    "duration": 17,
    "start_time": "2024-05-14T10:30:35.915Z"
   },
   {
    "duration": 13,
    "start_time": "2024-05-14T10:30:57.222Z"
   },
   {
    "duration": 337,
    "start_time": "2024-05-14T10:30:58.952Z"
   },
   {
    "duration": 13,
    "start_time": "2024-05-14T10:32:36.648Z"
   },
   {
    "duration": 13,
    "start_time": "2024-05-14T10:32:46.528Z"
   },
   {
    "duration": 407,
    "start_time": "2024-05-14T10:32:48.483Z"
   },
   {
    "duration": 27,
    "start_time": "2024-05-14T10:54:02.193Z"
   },
   {
    "duration": 26,
    "start_time": "2024-05-14T10:55:11.604Z"
   },
   {
    "duration": 23,
    "start_time": "2024-05-14T10:56:13.914Z"
   },
   {
    "duration": 13,
    "start_time": "2024-05-14T10:56:40.984Z"
   },
   {
    "duration": 27,
    "start_time": "2024-05-14T10:58:43.338Z"
   },
   {
    "duration": 23,
    "start_time": "2024-05-14T10:59:19.120Z"
   },
   {
    "duration": 34,
    "start_time": "2024-05-14T11:02:51.954Z"
   },
   {
    "duration": 29,
    "start_time": "2024-05-14T11:03:15.293Z"
   },
   {
    "duration": 27,
    "start_time": "2024-05-14T11:03:40.869Z"
   },
   {
    "duration": 29,
    "start_time": "2024-05-14T11:12:41.442Z"
   },
   {
    "duration": 37,
    "start_time": "2024-05-14T11:16:22.589Z"
   },
   {
    "duration": 19,
    "start_time": "2024-05-14T11:18:12.519Z"
   },
   {
    "duration": 26,
    "start_time": "2024-05-14T11:18:16.362Z"
   },
   {
    "duration": 33,
    "start_time": "2024-05-14T11:23:29.260Z"
   },
   {
    "duration": 17,
    "start_time": "2024-05-14T11:34:52.611Z"
   },
   {
    "duration": 299,
    "start_time": "2024-05-14T11:37:06.108Z"
   },
   {
    "duration": 25,
    "start_time": "2024-05-14T11:38:23.547Z"
   },
   {
    "duration": 6,
    "start_time": "2024-05-14T11:38:48.355Z"
   },
   {
    "duration": 677,
    "start_time": "2024-05-14T11:38:58.887Z"
   },
   {
    "duration": 56,
    "start_time": "2024-05-14T11:38:59.568Z"
   },
   {
    "duration": 16,
    "start_time": "2024-05-14T11:38:59.625Z"
   },
   {
    "duration": 21,
    "start_time": "2024-05-14T11:38:59.643Z"
   },
   {
    "duration": 19,
    "start_time": "2024-05-14T11:38:59.666Z"
   },
   {
    "duration": 20,
    "start_time": "2024-05-14T11:38:59.686Z"
   },
   {
    "duration": 14,
    "start_time": "2024-05-14T11:38:59.708Z"
   },
   {
    "duration": 13,
    "start_time": "2024-05-14T11:38:59.724Z"
   },
   {
    "duration": 26,
    "start_time": "2024-05-14T11:38:59.738Z"
   },
   {
    "duration": 7,
    "start_time": "2024-05-14T11:38:59.766Z"
   },
   {
    "duration": 5,
    "start_time": "2024-05-14T11:38:59.775Z"
   },
   {
    "duration": 7,
    "start_time": "2024-05-14T11:38:59.781Z"
   },
   {
    "duration": 25,
    "start_time": "2024-05-14T11:38:59.790Z"
   },
   {
    "duration": 8,
    "start_time": "2024-05-14T11:38:59.818Z"
   },
   {
    "duration": 43,
    "start_time": "2024-05-14T11:38:59.827Z"
   },
   {
    "duration": 4,
    "start_time": "2024-05-14T11:38:59.872Z"
   },
   {
    "duration": 15,
    "start_time": "2024-05-14T11:38:59.878Z"
   },
   {
    "duration": 13,
    "start_time": "2024-05-14T11:38:59.895Z"
   },
   {
    "duration": 15,
    "start_time": "2024-05-14T11:38:59.910Z"
   },
   {
    "duration": 15,
    "start_time": "2024-05-14T11:38:59.926Z"
   },
   {
    "duration": 16,
    "start_time": "2024-05-14T11:38:59.943Z"
   },
   {
    "duration": 15,
    "start_time": "2024-05-14T11:38:59.960Z"
   },
   {
    "duration": 238,
    "start_time": "2024-05-14T11:38:59.977Z"
   },
   {
    "duration": 9,
    "start_time": "2024-05-14T11:39:00.217Z"
   },
   {
    "duration": 327,
    "start_time": "2024-05-14T11:39:00.227Z"
   },
   {
    "duration": 13,
    "start_time": "2024-05-14T11:39:00.556Z"
   },
   {
    "duration": 624,
    "start_time": "2024-05-14T11:39:00.571Z"
   },
   {
    "duration": 95,
    "start_time": "2024-05-14T11:39:01.197Z"
   },
   {
    "duration": 0,
    "start_time": "2024-05-14T11:39:01.294Z"
   },
   {
    "duration": 0,
    "start_time": "2024-05-14T11:39:01.295Z"
   },
   {
    "duration": 21,
    "start_time": "2024-05-14T11:40:37.772Z"
   },
   {
    "duration": 6,
    "start_time": "2024-05-14T11:40:42.591Z"
   },
   {
    "duration": 310,
    "start_time": "2024-05-14T11:40:45.322Z"
   },
   {
    "duration": 11,
    "start_time": "2024-05-14T11:40:53.977Z"
   },
   {
    "duration": 678,
    "start_time": "2024-05-14T11:41:41.217Z"
   },
   {
    "duration": 57,
    "start_time": "2024-05-14T11:41:41.897Z"
   },
   {
    "duration": 20,
    "start_time": "2024-05-14T11:41:41.956Z"
   },
   {
    "duration": 19,
    "start_time": "2024-05-14T11:41:41.978Z"
   },
   {
    "duration": 18,
    "start_time": "2024-05-14T11:41:42.000Z"
   },
   {
    "duration": 46,
    "start_time": "2024-05-14T11:41:42.020Z"
   },
   {
    "duration": 24,
    "start_time": "2024-05-14T11:41:42.068Z"
   },
   {
    "duration": 19,
    "start_time": "2024-05-14T11:41:42.094Z"
   },
   {
    "duration": 9,
    "start_time": "2024-05-14T11:41:42.115Z"
   },
   {
    "duration": 9,
    "start_time": "2024-05-14T11:41:42.125Z"
   },
   {
    "duration": 5,
    "start_time": "2024-05-14T11:41:42.136Z"
   },
   {
    "duration": 23,
    "start_time": "2024-05-14T11:41:42.143Z"
   },
   {
    "duration": 20,
    "start_time": "2024-05-14T11:41:42.167Z"
   },
   {
    "duration": 5,
    "start_time": "2024-05-14T11:41:42.190Z"
   },
   {
    "duration": 32,
    "start_time": "2024-05-14T11:41:42.196Z"
   },
   {
    "duration": 22,
    "start_time": "2024-05-14T11:41:42.229Z"
   },
   {
    "duration": 18,
    "start_time": "2024-05-14T11:41:42.252Z"
   },
   {
    "duration": 27,
    "start_time": "2024-05-14T11:41:42.271Z"
   },
   {
    "duration": 13,
    "start_time": "2024-05-14T11:41:42.299Z"
   },
   {
    "duration": 37,
    "start_time": "2024-05-14T11:41:42.314Z"
   },
   {
    "duration": 5,
    "start_time": "2024-05-14T11:41:42.353Z"
   },
   {
    "duration": 25,
    "start_time": "2024-05-14T11:41:42.359Z"
   },
   {
    "duration": 225,
    "start_time": "2024-05-14T11:41:42.386Z"
   },
   {
    "duration": 3,
    "start_time": "2024-05-14T11:41:42.613Z"
   },
   {
    "duration": 356,
    "start_time": "2024-05-14T11:41:42.617Z"
   },
   {
    "duration": 13,
    "start_time": "2024-05-14T11:41:42.975Z"
   },
   {
    "duration": 417,
    "start_time": "2024-05-14T11:41:42.990Z"
   },
   {
    "duration": 88,
    "start_time": "2024-05-14T11:41:43.409Z"
   },
   {
    "duration": 0,
    "start_time": "2024-05-14T11:41:43.499Z"
   },
   {
    "duration": 0,
    "start_time": "2024-05-14T11:41:43.500Z"
   },
   {
    "duration": 26,
    "start_time": "2024-05-14T11:42:21.709Z"
   },
   {
    "duration": 714,
    "start_time": "2024-05-14T11:42:41.550Z"
   },
   {
    "duration": 57,
    "start_time": "2024-05-14T11:42:42.266Z"
   },
   {
    "duration": 16,
    "start_time": "2024-05-14T11:42:42.324Z"
   },
   {
    "duration": 18,
    "start_time": "2024-05-14T11:42:42.342Z"
   },
   {
    "duration": 17,
    "start_time": "2024-05-14T11:42:42.362Z"
   },
   {
    "duration": 15,
    "start_time": "2024-05-14T11:42:42.380Z"
   },
   {
    "duration": 15,
    "start_time": "2024-05-14T11:42:42.397Z"
   },
   {
    "duration": 13,
    "start_time": "2024-05-14T11:42:42.414Z"
   },
   {
    "duration": 33,
    "start_time": "2024-05-14T11:42:42.429Z"
   },
   {
    "duration": 5,
    "start_time": "2024-05-14T11:42:42.464Z"
   },
   {
    "duration": 5,
    "start_time": "2024-05-14T11:42:42.471Z"
   },
   {
    "duration": 7,
    "start_time": "2024-05-14T11:42:42.478Z"
   },
   {
    "duration": 17,
    "start_time": "2024-05-14T11:42:42.486Z"
   },
   {
    "duration": 4,
    "start_time": "2024-05-14T11:42:42.507Z"
   },
   {
    "duration": 54,
    "start_time": "2024-05-14T11:42:42.513Z"
   },
   {
    "duration": 4,
    "start_time": "2024-05-14T11:42:42.568Z"
   },
   {
    "duration": 35,
    "start_time": "2024-05-14T11:42:42.573Z"
   },
   {
    "duration": 31,
    "start_time": "2024-05-14T11:42:42.610Z"
   },
   {
    "duration": 13,
    "start_time": "2024-05-14T11:42:42.643Z"
   },
   {
    "duration": 14,
    "start_time": "2024-05-14T11:42:42.657Z"
   },
   {
    "duration": 16,
    "start_time": "2024-05-14T11:42:42.673Z"
   },
   {
    "duration": 16,
    "start_time": "2024-05-14T11:42:42.690Z"
   },
   {
    "duration": 228,
    "start_time": "2024-05-14T11:42:42.708Z"
   },
   {
    "duration": 20,
    "start_time": "2024-05-14T11:42:42.938Z"
   },
   {
    "duration": 300,
    "start_time": "2024-05-14T11:42:42.960Z"
   },
   {
    "duration": 15,
    "start_time": "2024-05-14T11:42:43.262Z"
   },
   {
    "duration": 444,
    "start_time": "2024-05-14T11:42:43.279Z"
   },
   {
    "duration": 27,
    "start_time": "2024-05-14T11:42:43.725Z"
   },
   {
    "duration": 12,
    "start_time": "2024-05-14T11:42:43.754Z"
   },
   {
    "duration": 25,
    "start_time": "2024-05-14T11:42:43.768Z"
   },
   {
    "duration": 331,
    "start_time": "2024-05-14T11:44:18.619Z"
   },
   {
    "duration": 5,
    "start_time": "2024-05-14T11:46:35.581Z"
   },
   {
    "duration": 78,
    "start_time": "2024-05-14T11:46:54.761Z"
   },
   {
    "duration": 19,
    "start_time": "2024-05-14T11:47:02.030Z"
   },
   {
    "duration": 716,
    "start_time": "2024-05-14T11:52:51.134Z"
   },
   {
    "duration": 57,
    "start_time": "2024-05-14T11:52:51.852Z"
   },
   {
    "duration": 17,
    "start_time": "2024-05-14T11:52:51.911Z"
   },
   {
    "duration": 32,
    "start_time": "2024-05-14T11:52:51.930Z"
   },
   {
    "duration": 66,
    "start_time": "2024-05-14T11:52:51.966Z"
   },
   {
    "duration": 23,
    "start_time": "2024-05-14T11:52:52.034Z"
   },
   {
    "duration": 39,
    "start_time": "2024-05-14T11:52:52.059Z"
   },
   {
    "duration": 22,
    "start_time": "2024-05-14T11:52:52.100Z"
   },
   {
    "duration": 8,
    "start_time": "2024-05-14T11:52:52.124Z"
   },
   {
    "duration": 11,
    "start_time": "2024-05-14T11:52:52.133Z"
   },
   {
    "duration": 14,
    "start_time": "2024-05-14T11:52:52.146Z"
   },
   {
    "duration": 43,
    "start_time": "2024-05-14T11:52:52.162Z"
   },
   {
    "duration": 30,
    "start_time": "2024-05-14T11:52:52.207Z"
   },
   {
    "duration": 5,
    "start_time": "2024-05-14T11:52:52.240Z"
   },
   {
    "duration": 41,
    "start_time": "2024-05-14T11:52:52.246Z"
   },
   {
    "duration": 5,
    "start_time": "2024-05-14T11:52:52.288Z"
   },
   {
    "duration": 37,
    "start_time": "2024-05-14T11:52:52.294Z"
   },
   {
    "duration": 19,
    "start_time": "2024-05-14T11:52:52.333Z"
   },
   {
    "duration": 22,
    "start_time": "2024-05-14T11:52:52.354Z"
   },
   {
    "duration": 42,
    "start_time": "2024-05-14T11:52:52.378Z"
   },
   {
    "duration": 17,
    "start_time": "2024-05-14T11:52:52.423Z"
   },
   {
    "duration": 45,
    "start_time": "2024-05-14T11:52:52.441Z"
   },
   {
    "duration": 240,
    "start_time": "2024-05-14T11:52:52.488Z"
   },
   {
    "duration": 3,
    "start_time": "2024-05-14T11:52:52.730Z"
   },
   {
    "duration": 364,
    "start_time": "2024-05-14T11:52:52.735Z"
   },
   {
    "duration": 13,
    "start_time": "2024-05-14T11:52:53.100Z"
   },
   {
    "duration": 403,
    "start_time": "2024-05-14T11:52:53.115Z"
   },
   {
    "duration": 39,
    "start_time": "2024-05-14T11:52:53.520Z"
   },
   {
    "duration": 33,
    "start_time": "2024-05-14T11:52:53.561Z"
   },
   {
    "duration": 682,
    "start_time": "2024-05-14T11:54:39.574Z"
   },
   {
    "duration": 58,
    "start_time": "2024-05-14T11:54:40.258Z"
   },
   {
    "duration": 17,
    "start_time": "2024-05-14T11:54:40.317Z"
   },
   {
    "duration": 18,
    "start_time": "2024-05-14T11:54:40.336Z"
   },
   {
    "duration": 18,
    "start_time": "2024-05-14T11:54:40.357Z"
   },
   {
    "duration": 16,
    "start_time": "2024-05-14T11:54:40.376Z"
   },
   {
    "duration": 15,
    "start_time": "2024-05-14T11:54:40.394Z"
   },
   {
    "duration": 25,
    "start_time": "2024-05-14T11:54:40.411Z"
   },
   {
    "duration": 29,
    "start_time": "2024-05-14T11:54:40.438Z"
   },
   {
    "duration": 5,
    "start_time": "2024-05-14T11:54:40.469Z"
   },
   {
    "duration": 33,
    "start_time": "2024-05-14T11:54:40.475Z"
   },
   {
    "duration": 10,
    "start_time": "2024-05-14T11:54:40.510Z"
   },
   {
    "duration": 36,
    "start_time": "2024-05-14T11:54:40.522Z"
   },
   {
    "duration": 6,
    "start_time": "2024-05-14T11:54:40.562Z"
   },
   {
    "duration": 26,
    "start_time": "2024-05-14T11:54:40.569Z"
   },
   {
    "duration": 4,
    "start_time": "2024-05-14T11:54:40.596Z"
   },
   {
    "duration": 20,
    "start_time": "2024-05-14T11:54:40.602Z"
   },
   {
    "duration": 6,
    "start_time": "2024-05-14T11:54:40.623Z"
   },
   {
    "duration": 23,
    "start_time": "2024-05-14T11:54:40.630Z"
   },
   {
    "duration": 22,
    "start_time": "2024-05-14T11:54:40.659Z"
   },
   {
    "duration": 4,
    "start_time": "2024-05-14T11:54:40.683Z"
   },
   {
    "duration": 28,
    "start_time": "2024-05-14T11:54:40.689Z"
   },
   {
    "duration": 244,
    "start_time": "2024-05-14T11:54:40.718Z"
   },
   {
    "duration": 8,
    "start_time": "2024-05-14T11:54:40.963Z"
   },
   {
    "duration": 304,
    "start_time": "2024-05-14T11:54:40.973Z"
   },
   {
    "duration": 14,
    "start_time": "2024-05-14T11:54:41.278Z"
   },
   {
    "duration": 410,
    "start_time": "2024-05-14T11:54:41.294Z"
   },
   {
    "duration": 24,
    "start_time": "2024-05-14T11:54:41.706Z"
   },
   {
    "duration": 36,
    "start_time": "2024-05-14T11:54:41.732Z"
   },
   {
    "duration": 330,
    "start_time": "2024-05-14T12:02:02.060Z"
   },
   {
    "duration": 316,
    "start_time": "2024-05-14T12:07:28.357Z"
   },
   {
    "duration": 333,
    "start_time": "2024-05-14T12:11:42.892Z"
   },
   {
    "duration": 348,
    "start_time": "2024-05-14T12:11:52.779Z"
   },
   {
    "duration": 854,
    "start_time": "2024-05-14T15:53:28.387Z"
   },
   {
    "duration": 210,
    "start_time": "2024-05-14T15:53:29.244Z"
   },
   {
    "duration": 15,
    "start_time": "2024-05-14T15:53:29.455Z"
   },
   {
    "duration": 28,
    "start_time": "2024-05-14T15:53:29.472Z"
   },
   {
    "duration": 25,
    "start_time": "2024-05-14T15:53:29.502Z"
   },
   {
    "duration": 18,
    "start_time": "2024-05-14T15:53:29.529Z"
   },
   {
    "duration": 38,
    "start_time": "2024-05-14T15:53:29.551Z"
   },
   {
    "duration": 20,
    "start_time": "2024-05-14T15:53:29.591Z"
   },
   {
    "duration": 18,
    "start_time": "2024-05-14T15:53:29.612Z"
   },
   {
    "duration": 5,
    "start_time": "2024-05-14T15:53:29.632Z"
   },
   {
    "duration": 4,
    "start_time": "2024-05-14T15:53:29.639Z"
   },
   {
    "duration": 11,
    "start_time": "2024-05-14T15:53:29.645Z"
   },
   {
    "duration": 23,
    "start_time": "2024-05-14T15:53:29.657Z"
   },
   {
    "duration": 5,
    "start_time": "2024-05-14T15:53:29.683Z"
   },
   {
    "duration": 65,
    "start_time": "2024-05-14T15:53:29.689Z"
   },
   {
    "duration": 4,
    "start_time": "2024-05-14T15:53:29.755Z"
   },
   {
    "duration": 24,
    "start_time": "2024-05-14T15:53:29.760Z"
   },
   {
    "duration": 12,
    "start_time": "2024-05-14T15:53:29.787Z"
   },
   {
    "duration": 9,
    "start_time": "2024-05-14T15:53:29.801Z"
   },
   {
    "duration": 25,
    "start_time": "2024-05-14T15:53:29.812Z"
   },
   {
    "duration": 4,
    "start_time": "2024-05-14T15:53:29.838Z"
   },
   {
    "duration": 21,
    "start_time": "2024-05-14T15:53:29.843Z"
   },
   {
    "duration": 267,
    "start_time": "2024-05-14T15:53:29.866Z"
   },
   {
    "duration": 7,
    "start_time": "2024-05-14T15:53:30.135Z"
   },
   {
    "duration": 388,
    "start_time": "2024-05-14T15:53:30.144Z"
   },
   {
    "duration": 13,
    "start_time": "2024-05-14T15:53:30.533Z"
   },
   {
    "duration": 507,
    "start_time": "2024-05-14T15:53:30.547Z"
   },
   {
    "duration": 37,
    "start_time": "2024-05-14T15:53:31.055Z"
   },
   {
    "duration": 38,
    "start_time": "2024-05-14T15:53:31.094Z"
   },
   {
    "duration": 687,
    "start_time": "2024-05-14T15:54:40.931Z"
   },
   {
    "duration": 63,
    "start_time": "2024-05-14T15:54:41.620Z"
   },
   {
    "duration": 21,
    "start_time": "2024-05-14T15:54:41.686Z"
   },
   {
    "duration": 35,
    "start_time": "2024-05-14T15:54:41.708Z"
   },
   {
    "duration": 71,
    "start_time": "2024-05-14T15:54:41.745Z"
   },
   {
    "duration": 27,
    "start_time": "2024-05-14T15:54:41.818Z"
   },
   {
    "duration": 43,
    "start_time": "2024-05-14T15:54:41.846Z"
   },
   {
    "duration": 14,
    "start_time": "2024-05-14T15:54:41.892Z"
   },
   {
    "duration": 11,
    "start_time": "2024-05-14T15:54:41.908Z"
   },
   {
    "duration": 6,
    "start_time": "2024-05-14T15:54:41.920Z"
   },
   {
    "duration": 16,
    "start_time": "2024-05-14T15:54:41.928Z"
   },
   {
    "duration": 20,
    "start_time": "2024-05-14T15:54:41.947Z"
   },
   {
    "duration": 33,
    "start_time": "2024-05-14T15:54:41.968Z"
   },
   {
    "duration": 12,
    "start_time": "2024-05-14T15:54:42.004Z"
   },
   {
    "duration": 34,
    "start_time": "2024-05-14T15:54:42.018Z"
   },
   {
    "duration": 4,
    "start_time": "2024-05-14T15:54:42.054Z"
   },
   {
    "duration": 21,
    "start_time": "2024-05-14T15:54:42.059Z"
   },
   {
    "duration": 13,
    "start_time": "2024-05-14T15:54:42.081Z"
   },
   {
    "duration": 16,
    "start_time": "2024-05-14T15:54:42.097Z"
   },
   {
    "duration": 22,
    "start_time": "2024-05-14T15:54:42.115Z"
   },
   {
    "duration": 7,
    "start_time": "2024-05-14T15:54:42.139Z"
   },
   {
    "duration": 25,
    "start_time": "2024-05-14T15:54:42.148Z"
   },
   {
    "duration": 234,
    "start_time": "2024-05-14T15:54:42.176Z"
   },
   {
    "duration": 2,
    "start_time": "2024-05-14T15:54:42.412Z"
   },
   {
    "duration": 368,
    "start_time": "2024-05-14T15:54:42.416Z"
   },
   {
    "duration": 14,
    "start_time": "2024-05-14T15:54:42.786Z"
   },
   {
    "duration": 425,
    "start_time": "2024-05-14T15:54:42.801Z"
   },
   {
    "duration": 25,
    "start_time": "2024-05-14T15:54:43.227Z"
   },
   {
    "duration": 27,
    "start_time": "2024-05-14T15:54:43.254Z"
   },
   {
    "duration": 753,
    "start_time": "2024-05-14T15:55:00.234Z"
   },
   {
    "duration": 463,
    "start_time": "2024-05-14T15:55:09.354Z"
   },
   {
    "duration": 401,
    "start_time": "2024-05-14T15:55:18.967Z"
   },
   {
    "duration": 346,
    "start_time": "2024-05-14T15:55:30.221Z"
   },
   {
    "duration": 373,
    "start_time": "2024-05-14T15:55:43.347Z"
   },
   {
    "duration": 432,
    "start_time": "2024-05-14T15:56:35.029Z"
   },
   {
    "duration": 376,
    "start_time": "2024-05-14T15:56:49.795Z"
   },
   {
    "duration": 352,
    "start_time": "2024-05-14T15:57:16.382Z"
   },
   {
    "duration": 282,
    "start_time": "2024-05-14T15:59:58.052Z"
   },
   {
    "duration": 3,
    "start_time": "2024-05-14T16:00:42.281Z"
   },
   {
    "duration": 213,
    "start_time": "2024-05-14T16:01:18.145Z"
   },
   {
    "duration": 189,
    "start_time": "2024-05-14T16:07:41.258Z"
   },
   {
    "duration": 202,
    "start_time": "2024-05-14T16:07:56.611Z"
   },
   {
    "duration": 195,
    "start_time": "2024-05-14T16:09:04.642Z"
   },
   {
    "duration": 270,
    "start_time": "2024-05-14T16:09:22.366Z"
   },
   {
    "duration": 349,
    "start_time": "2024-05-14T16:09:50.106Z"
   },
   {
    "duration": 480,
    "start_time": "2024-05-14T16:10:34.123Z"
   },
   {
    "duration": 379,
    "start_time": "2024-05-14T16:10:43.748Z"
   },
   {
    "duration": 26150,
    "start_time": "2024-05-14T16:10:51.990Z"
   },
   {
    "duration": 493,
    "start_time": "2024-05-14T16:11:24.984Z"
   },
   {
    "duration": 398,
    "start_time": "2024-05-14T16:11:34.192Z"
   },
   {
    "duration": 435,
    "start_time": "2024-05-14T16:12:46.894Z"
   },
   {
    "duration": 354,
    "start_time": "2024-05-14T16:13:01.649Z"
   },
   {
    "duration": 435,
    "start_time": "2024-05-14T16:13:06.867Z"
   },
   {
    "duration": 488,
    "start_time": "2024-05-14T16:13:23.800Z"
   },
   {
    "duration": 201,
    "start_time": "2024-05-14T16:16:37.664Z"
   },
   {
    "duration": 180,
    "start_time": "2024-05-14T16:16:55.854Z"
   },
   {
    "duration": 201,
    "start_time": "2024-05-14T16:17:14.761Z"
   },
   {
    "duration": 768,
    "start_time": "2024-05-14T16:18:03.734Z"
   },
   {
    "duration": 344,
    "start_time": "2024-05-14T16:18:21.875Z"
   },
   {
    "duration": 293,
    "start_time": "2024-05-14T16:18:33.697Z"
   },
   {
    "duration": 1102,
    "start_time": "2024-05-14T16:19:31.392Z"
   },
   {
    "duration": 292,
    "start_time": "2024-05-14T16:19:39.402Z"
   },
   {
    "duration": 333,
    "start_time": "2024-05-14T16:21:08.270Z"
   },
   {
    "duration": 375,
    "start_time": "2024-05-14T16:22:18.609Z"
   },
   {
    "duration": 363,
    "start_time": "2024-05-14T16:22:29.092Z"
   },
   {
    "duration": 397,
    "start_time": "2024-05-14T16:22:33.596Z"
   },
   {
    "duration": 624,
    "start_time": "2024-05-14T16:43:57.120Z"
   },
   {
    "duration": 58,
    "start_time": "2024-05-14T16:43:57.746Z"
   },
   {
    "duration": 16,
    "start_time": "2024-05-14T16:43:57.806Z"
   },
   {
    "duration": 18,
    "start_time": "2024-05-14T16:43:57.824Z"
   },
   {
    "duration": 39,
    "start_time": "2024-05-14T16:43:57.845Z"
   },
   {
    "duration": 16,
    "start_time": "2024-05-14T16:43:57.885Z"
   },
   {
    "duration": 30,
    "start_time": "2024-05-14T16:43:57.902Z"
   },
   {
    "duration": 25,
    "start_time": "2024-05-14T16:43:57.934Z"
   },
   {
    "duration": 10,
    "start_time": "2024-05-14T16:43:57.961Z"
   },
   {
    "duration": 7,
    "start_time": "2024-05-14T16:43:57.972Z"
   },
   {
    "duration": 44,
    "start_time": "2024-05-14T16:43:57.981Z"
   },
   {
    "duration": 15,
    "start_time": "2024-05-14T16:43:58.027Z"
   },
   {
    "duration": 48,
    "start_time": "2024-05-14T16:43:58.044Z"
   },
   {
    "duration": 18,
    "start_time": "2024-05-14T16:43:58.096Z"
   },
   {
    "duration": 53,
    "start_time": "2024-05-14T16:43:58.116Z"
   },
   {
    "duration": 28,
    "start_time": "2024-05-14T16:43:58.171Z"
   },
   {
    "duration": 15,
    "start_time": "2024-05-14T16:43:58.200Z"
   },
   {
    "duration": 20,
    "start_time": "2024-05-14T16:43:58.217Z"
   },
   {
    "duration": 23,
    "start_time": "2024-05-14T16:43:58.239Z"
   },
   {
    "duration": 34,
    "start_time": "2024-05-14T16:43:58.264Z"
   },
   {
    "duration": 9,
    "start_time": "2024-05-14T16:43:58.300Z"
   },
   {
    "duration": 23,
    "start_time": "2024-05-14T16:43:58.310Z"
   },
   {
    "duration": 229,
    "start_time": "2024-05-14T16:43:58.334Z"
   },
   {
    "duration": 12,
    "start_time": "2024-05-14T16:43:58.565Z"
   },
   {
    "duration": 304,
    "start_time": "2024-05-14T16:43:58.578Z"
   },
   {
    "duration": 13,
    "start_time": "2024-05-14T16:43:58.884Z"
   },
   {
    "duration": 383,
    "start_time": "2024-05-14T16:43:58.898Z"
   },
   {
    "duration": 25,
    "start_time": "2024-05-14T16:43:59.283Z"
   },
   {
    "duration": 28,
    "start_time": "2024-05-14T16:43:59.309Z"
   },
   {
    "duration": 5,
    "start_time": "2024-05-14T16:50:25.169Z"
   },
   {
    "duration": 4,
    "start_time": "2024-05-14T16:52:56.413Z"
   },
   {
    "duration": 8,
    "start_time": "2024-05-14T17:18:06.660Z"
   },
   {
    "duration": 226,
    "start_time": "2024-05-14T17:19:32.663Z"
   },
   {
    "duration": 1446,
    "start_time": "2024-05-14T17:21:12.689Z"
   },
   {
    "duration": 18,
    "start_time": "2024-05-14T17:21:42.178Z"
   },
   {
    "duration": 13,
    "start_time": "2024-05-14T17:21:42.770Z"
   },
   {
    "duration": 15,
    "start_time": "2024-05-14T17:22:39.999Z"
   },
   {
    "duration": 8,
    "start_time": "2024-05-14T17:25:27.014Z"
   },
   {
    "duration": 7,
    "start_time": "2024-05-14T17:25:53.554Z"
   },
   {
    "duration": 705,
    "start_time": "2024-05-14T17:25:57.837Z"
   },
   {
    "duration": 61,
    "start_time": "2024-05-14T17:25:58.544Z"
   },
   {
    "duration": 18,
    "start_time": "2024-05-14T17:25:58.606Z"
   },
   {
    "duration": 29,
    "start_time": "2024-05-14T17:25:58.626Z"
   },
   {
    "duration": 45,
    "start_time": "2024-05-14T17:25:58.657Z"
   },
   {
    "duration": 43,
    "start_time": "2024-05-14T17:25:58.704Z"
   },
   {
    "duration": 33,
    "start_time": "2024-05-14T17:25:58.749Z"
   },
   {
    "duration": 39,
    "start_time": "2024-05-14T17:25:58.784Z"
   },
   {
    "duration": 15,
    "start_time": "2024-05-14T17:25:58.825Z"
   },
   {
    "duration": 29,
    "start_time": "2024-05-14T17:25:58.841Z"
   },
   {
    "duration": 15,
    "start_time": "2024-05-14T17:25:58.872Z"
   },
   {
    "duration": 19,
    "start_time": "2024-05-14T17:25:58.889Z"
   },
   {
    "duration": 27,
    "start_time": "2024-05-14T17:25:58.909Z"
   },
   {
    "duration": 5,
    "start_time": "2024-05-14T17:25:58.940Z"
   },
   {
    "duration": 43,
    "start_time": "2024-05-14T17:25:58.947Z"
   },
   {
    "duration": 5,
    "start_time": "2024-05-14T17:25:58.992Z"
   },
   {
    "duration": 15,
    "start_time": "2024-05-14T17:25:58.998Z"
   },
   {
    "duration": 19,
    "start_time": "2024-05-14T17:25:59.015Z"
   },
   {
    "duration": 28,
    "start_time": "2024-05-14T17:25:59.036Z"
   },
   {
    "duration": 31,
    "start_time": "2024-05-14T17:25:59.066Z"
   },
   {
    "duration": 6,
    "start_time": "2024-05-14T17:25:59.098Z"
   },
   {
    "duration": 19,
    "start_time": "2024-05-14T17:25:59.106Z"
   },
   {
    "duration": 232,
    "start_time": "2024-05-14T17:25:59.127Z"
   },
   {
    "duration": 18,
    "start_time": "2024-05-14T17:25:59.361Z"
   },
   {
    "duration": 315,
    "start_time": "2024-05-14T17:25:59.380Z"
   },
   {
    "duration": 13,
    "start_time": "2024-05-14T17:25:59.696Z"
   },
   {
    "duration": 372,
    "start_time": "2024-05-14T17:25:59.710Z"
   },
   {
    "duration": 27,
    "start_time": "2024-05-14T17:26:00.084Z"
   },
   {
    "duration": 89,
    "start_time": "2024-05-14T17:26:00.112Z"
   },
   {
    "duration": 112,
    "start_time": "2024-05-14T17:26:00.203Z"
   },
   {
    "duration": 291,
    "start_time": "2024-05-14T17:26:00.317Z"
   },
   {
    "duration": 18,
    "start_time": "2024-05-14T17:26:00.610Z"
   },
   {
    "duration": 230,
    "start_time": "2024-05-14T17:26:00.630Z"
   },
   {
    "duration": 364,
    "start_time": "2024-05-14T17:26:00.862Z"
   },
   {
    "duration": 304,
    "start_time": "2024-05-14T17:26:15.183Z"
   },
   {
    "duration": 312,
    "start_time": "2024-05-14T17:27:18.323Z"
   },
   {
    "duration": 6,
    "start_time": "2024-05-14T17:29:21.571Z"
   },
   {
    "duration": 12,
    "start_time": "2024-05-14T17:29:23.924Z"
   },
   {
    "duration": 310,
    "start_time": "2024-05-14T17:29:26.131Z"
   },
   {
    "duration": 411,
    "start_time": "2024-05-14T17:29:33.763Z"
   },
   {
    "duration": 309,
    "start_time": "2024-05-14T17:29:41.044Z"
   },
   {
    "duration": 14,
    "start_time": "2024-05-14T17:34:31.143Z"
   },
   {
    "duration": 426,
    "start_time": "2024-05-14T17:34:33.458Z"
   },
   {
    "duration": 12,
    "start_time": "2024-05-14T17:35:03.733Z"
   },
   {
    "duration": 313,
    "start_time": "2024-05-14T17:35:04.702Z"
   },
   {
    "duration": 81,
    "start_time": "2024-05-14T17:41:38.629Z"
   },
   {
    "duration": 368,
    "start_time": "2024-05-14T17:42:06.942Z"
   },
   {
    "duration": 385,
    "start_time": "2024-05-14T17:47:56.049Z"
   },
   {
    "duration": 300,
    "start_time": "2024-05-14T17:48:15.079Z"
   },
   {
    "duration": 1035,
    "start_time": "2024-05-14T17:49:45.985Z"
   },
   {
    "duration": 8,
    "start_time": "2024-05-14T17:49:56.474Z"
   },
   {
    "duration": 323,
    "start_time": "2024-05-14T17:52:27.354Z"
   },
   {
    "duration": 313,
    "start_time": "2024-05-14T17:52:33.478Z"
   },
   {
    "duration": 284,
    "start_time": "2024-05-14T17:52:41.469Z"
   },
   {
    "duration": 312,
    "start_time": "2024-05-14T17:52:46.477Z"
   },
   {
    "duration": 13,
    "start_time": "2024-05-14T17:54:21.608Z"
   },
   {
    "duration": 24,
    "start_time": "2024-05-14T17:54:50.518Z"
   },
   {
    "duration": 18,
    "start_time": "2024-05-14T17:57:58.436Z"
   },
   {
    "duration": 233,
    "start_time": "2024-05-14T19:33:33.833Z"
   },
   {
    "duration": 167,
    "start_time": "2024-05-14T19:34:02.688Z"
   },
   {
    "duration": 191,
    "start_time": "2024-05-14T19:43:37.640Z"
   },
   {
    "duration": 85,
    "start_time": "2024-05-14T19:44:40.551Z"
   },
   {
    "duration": 157,
    "start_time": "2024-05-14T19:44:56.661Z"
   },
   {
    "duration": 173,
    "start_time": "2024-05-14T19:45:37.201Z"
   },
   {
    "duration": 204,
    "start_time": "2024-05-14T19:46:24.561Z"
   },
   {
    "duration": 162,
    "start_time": "2024-05-14T19:46:55.830Z"
   },
   {
    "duration": 153,
    "start_time": "2024-05-14T19:48:38.964Z"
   },
   {
    "duration": 165,
    "start_time": "2024-05-14T19:50:08.410Z"
   },
   {
    "duration": 63,
    "start_time": "2024-05-14T19:53:46.791Z"
   },
   {
    "duration": 180,
    "start_time": "2024-05-14T20:00:03.129Z"
   },
   {
    "duration": 167,
    "start_time": "2024-05-14T20:00:48.076Z"
   },
   {
    "duration": 234,
    "start_time": "2024-05-14T20:01:34.226Z"
   },
   {
    "duration": 156,
    "start_time": "2024-05-14T20:02:19.874Z"
   },
   {
    "duration": 18,
    "start_time": "2024-05-14T20:27:54.707Z"
   },
   {
    "duration": 15,
    "start_time": "2024-05-14T20:28:03.150Z"
   },
   {
    "duration": 259,
    "start_time": "2024-05-14T20:28:16.299Z"
   },
   {
    "duration": 236,
    "start_time": "2024-05-14T20:30:17.764Z"
   },
   {
    "duration": 215,
    "start_time": "2024-05-14T20:40:57.293Z"
   },
   {
    "duration": 16,
    "start_time": "2024-05-14T21:19:37.280Z"
   },
   {
    "duration": 20,
    "start_time": "2024-05-14T21:19:54.980Z"
   },
   {
    "duration": 13,
    "start_time": "2024-05-14T21:20:21.270Z"
   },
   {
    "duration": 14,
    "start_time": "2024-05-14T21:22:36.337Z"
   },
   {
    "duration": 14,
    "start_time": "2024-05-14T21:23:39.621Z"
   },
   {
    "duration": 15,
    "start_time": "2024-05-14T21:23:54.099Z"
   },
   {
    "duration": 14,
    "start_time": "2024-05-14T21:25:38.160Z"
   },
   {
    "duration": 14,
    "start_time": "2024-05-14T21:26:49.364Z"
   },
   {
    "duration": 68,
    "start_time": "2024-05-14T21:33:30.569Z"
   },
   {
    "duration": 14,
    "start_time": "2024-05-14T21:37:17.666Z"
   },
   {
    "duration": 14,
    "start_time": "2024-05-14T21:38:52.463Z"
   },
   {
    "duration": 16,
    "start_time": "2024-05-14T21:39:51.850Z"
   },
   {
    "duration": 13,
    "start_time": "2024-05-14T21:40:24.936Z"
   },
   {
    "duration": 14,
    "start_time": "2024-05-14T21:40:56.606Z"
   },
   {
    "duration": 19,
    "start_time": "2024-05-14T21:41:32.092Z"
   },
   {
    "duration": 16,
    "start_time": "2024-05-14T21:41:57.064Z"
   },
   {
    "duration": 21,
    "start_time": "2024-05-14T21:42:01.534Z"
   },
   {
    "duration": 15,
    "start_time": "2024-05-14T21:42:06.073Z"
   },
   {
    "duration": 13,
    "start_time": "2024-05-14T21:42:39.164Z"
   },
   {
    "duration": 14,
    "start_time": "2024-05-14T21:43:57.498Z"
   },
   {
    "duration": 16,
    "start_time": "2024-05-14T21:44:50.705Z"
   },
   {
    "duration": 15,
    "start_time": "2024-05-14T21:45:04.518Z"
   },
   {
    "duration": 12,
    "start_time": "2024-05-14T21:46:31.917Z"
   },
   {
    "duration": 14,
    "start_time": "2024-05-14T21:46:48.507Z"
   },
   {
    "duration": 12,
    "start_time": "2024-05-14T21:46:52.213Z"
   },
   {
    "duration": 8,
    "start_time": "2024-05-14T21:54:49.541Z"
   },
   {
    "duration": 12,
    "start_time": "2024-05-14T21:54:55.216Z"
   },
   {
    "duration": 10,
    "start_time": "2024-05-14T21:55:05.156Z"
   },
   {
    "duration": 4,
    "start_time": "2024-05-14T21:56:14.969Z"
   },
   {
    "duration": 13,
    "start_time": "2024-05-14T22:05:45.247Z"
   },
   {
    "duration": 15,
    "start_time": "2024-05-14T22:06:45.736Z"
   },
   {
    "duration": 10,
    "start_time": "2024-05-14T22:07:10.503Z"
   },
   {
    "duration": 72,
    "start_time": "2024-05-14T22:09:13.718Z"
   },
   {
    "duration": 13,
    "start_time": "2024-05-14T22:10:31.916Z"
   },
   {
    "duration": 12,
    "start_time": "2024-05-14T22:11:18.219Z"
   },
   {
    "duration": 10,
    "start_time": "2024-05-14T22:11:42.643Z"
   },
   {
    "duration": 17,
    "start_time": "2024-05-14T22:25:54.168Z"
   },
   {
    "duration": 487,
    "start_time": "2024-05-14T22:27:03.526Z"
   },
   {
    "duration": 50,
    "start_time": "2024-05-14T22:27:09.595Z"
   },
   {
    "duration": 67,
    "start_time": "2024-05-14T22:30:26.922Z"
   },
   {
    "duration": 87,
    "start_time": "2024-05-14T22:31:28.949Z"
   },
   {
    "duration": 73,
    "start_time": "2024-05-14T22:31:36.649Z"
   },
   {
    "duration": 69,
    "start_time": "2024-05-14T22:36:50.694Z"
   },
   {
    "duration": 68,
    "start_time": "2024-05-14T22:39:20.568Z"
   },
   {
    "duration": 11,
    "start_time": "2024-05-14T22:40:38.929Z"
   },
   {
    "duration": 10,
    "start_time": "2024-05-14T22:41:19.560Z"
   },
   {
    "duration": 11,
    "start_time": "2024-05-14T22:41:26.901Z"
   },
   {
    "duration": 12,
    "start_time": "2024-05-14T22:41:38.289Z"
   },
   {
    "duration": 20,
    "start_time": "2024-05-14T22:42:22.519Z"
   },
   {
    "duration": 11,
    "start_time": "2024-05-14T22:42:32.417Z"
   },
   {
    "duration": 13,
    "start_time": "2024-05-14T22:44:49.323Z"
   },
   {
    "duration": 15,
    "start_time": "2024-05-14T23:01:08.933Z"
   },
   {
    "duration": 12,
    "start_time": "2024-05-14T23:01:23.245Z"
   },
   {
    "duration": 1204,
    "start_time": "2024-05-14T23:23:13.741Z"
   },
   {
    "duration": 59,
    "start_time": "2024-05-14T23:23:14.947Z"
   },
   {
    "duration": 17,
    "start_time": "2024-05-14T23:23:15.007Z"
   },
   {
    "duration": 91,
    "start_time": "2024-05-14T23:23:15.026Z"
   },
   {
    "duration": 53,
    "start_time": "2024-05-14T23:23:15.119Z"
   },
   {
    "duration": 65,
    "start_time": "2024-05-14T23:23:15.174Z"
   },
   {
    "duration": 50,
    "start_time": "2024-05-14T23:23:15.241Z"
   },
   {
    "duration": 54,
    "start_time": "2024-05-14T23:23:15.292Z"
   },
   {
    "duration": 36,
    "start_time": "2024-05-14T23:23:15.347Z"
   },
   {
    "duration": 61,
    "start_time": "2024-05-14T23:23:15.385Z"
   },
   {
    "duration": 42,
    "start_time": "2024-05-14T23:23:15.447Z"
   },
   {
    "duration": 34,
    "start_time": "2024-05-14T23:23:15.491Z"
   },
   {
    "duration": 36,
    "start_time": "2024-05-14T23:23:15.526Z"
   },
   {
    "duration": 30,
    "start_time": "2024-05-14T23:23:15.565Z"
   },
   {
    "duration": 45,
    "start_time": "2024-05-14T23:23:15.597Z"
   },
   {
    "duration": 12,
    "start_time": "2024-05-14T23:23:15.644Z"
   },
   {
    "duration": 24,
    "start_time": "2024-05-14T23:23:15.657Z"
   },
   {
    "duration": 62,
    "start_time": "2024-05-14T23:23:15.683Z"
   },
   {
    "duration": 35,
    "start_time": "2024-05-14T23:23:15.747Z"
   },
   {
    "duration": 36,
    "start_time": "2024-05-14T23:23:15.784Z"
   },
   {
    "duration": 40,
    "start_time": "2024-05-14T23:23:15.821Z"
   },
   {
    "duration": 43,
    "start_time": "2024-05-14T23:23:15.863Z"
   },
   {
    "duration": 258,
    "start_time": "2024-05-14T23:23:15.908Z"
   },
   {
    "duration": 8,
    "start_time": "2024-05-14T23:23:16.167Z"
   },
   {
    "duration": 350,
    "start_time": "2024-05-14T23:23:16.177Z"
   },
   {
    "duration": 13,
    "start_time": "2024-05-14T23:23:16.529Z"
   },
   {
    "duration": 334,
    "start_time": "2024-05-14T23:23:16.543Z"
   },
   {
    "duration": 24,
    "start_time": "2024-05-14T23:23:16.879Z"
   },
   {
    "duration": 40,
    "start_time": "2024-05-14T23:23:16.905Z"
   },
   {
    "duration": 42,
    "start_time": "2024-05-14T23:23:16.946Z"
   },
   {
    "duration": 56,
    "start_time": "2024-05-14T23:23:16.989Z"
   },
   {
    "duration": 324,
    "start_time": "2024-05-14T23:23:17.046Z"
   },
   {
    "duration": 335,
    "start_time": "2024-05-14T23:23:17.372Z"
   },
   {
    "duration": 9,
    "start_time": "2024-05-14T23:23:17.708Z"
   },
   {
    "duration": 250,
    "start_time": "2024-05-14T23:23:17.718Z"
   },
   {
    "duration": 180,
    "start_time": "2024-05-14T23:23:17.973Z"
   },
   {
    "duration": 177,
    "start_time": "2024-05-14T23:23:18.156Z"
   },
   {
    "duration": 167,
    "start_time": "2024-05-14T23:23:18.335Z"
   },
   {
    "duration": 190,
    "start_time": "2024-05-14T23:23:18.503Z"
   },
   {
    "duration": 179,
    "start_time": "2024-05-14T23:23:18.694Z"
   },
   {
    "duration": 252,
    "start_time": "2024-05-14T23:23:18.877Z"
   },
   {
    "duration": 13,
    "start_time": "2024-05-14T23:23:19.131Z"
   },
   {
    "duration": 30,
    "start_time": "2024-05-14T23:23:19.145Z"
   },
   {
    "duration": 15,
    "start_time": "2024-05-14T23:23:19.177Z"
   },
   {
    "duration": 31,
    "start_time": "2024-05-14T23:23:19.193Z"
   },
   {
    "duration": 23,
    "start_time": "2024-05-14T23:23:19.225Z"
   },
   {
    "duration": 39,
    "start_time": "2024-05-14T23:23:19.250Z"
   },
   {
    "duration": 29,
    "start_time": "2024-05-14T23:23:19.291Z"
   },
   {
    "duration": 23,
    "start_time": "2024-05-14T23:23:19.322Z"
   },
   {
    "duration": 15,
    "start_time": "2024-05-14T23:23:19.347Z"
   },
   {
    "duration": 14,
    "start_time": "2024-05-14T23:23:19.364Z"
   },
   {
    "duration": 37,
    "start_time": "2024-05-14T23:23:19.379Z"
   },
   {
    "duration": 1207,
    "start_time": "2024-05-15T07:40:05.056Z"
   },
   {
    "duration": 61,
    "start_time": "2024-05-15T07:40:06.265Z"
   },
   {
    "duration": 19,
    "start_time": "2024-05-15T07:40:06.327Z"
   },
   {
    "duration": 35,
    "start_time": "2024-05-15T07:40:06.348Z"
   },
   {
    "duration": 18,
    "start_time": "2024-05-15T07:40:06.387Z"
   },
   {
    "duration": 16,
    "start_time": "2024-05-15T07:40:06.407Z"
   },
   {
    "duration": 24,
    "start_time": "2024-05-15T07:40:06.425Z"
   },
   {
    "duration": 9,
    "start_time": "2024-05-15T07:40:06.480Z"
   },
   {
    "duration": 10,
    "start_time": "2024-05-15T07:40:06.493Z"
   },
   {
    "duration": 6,
    "start_time": "2024-05-15T07:40:06.507Z"
   },
   {
    "duration": 9,
    "start_time": "2024-05-15T07:40:06.515Z"
   },
   {
    "duration": 11,
    "start_time": "2024-05-15T07:40:06.525Z"
   },
   {
    "duration": 51,
    "start_time": "2024-05-15T07:40:06.537Z"
   },
   {
    "duration": 8,
    "start_time": "2024-05-15T07:40:06.592Z"
   },
   {
    "duration": 35,
    "start_time": "2024-05-15T07:40:06.602Z"
   },
   {
    "duration": 5,
    "start_time": "2024-05-15T07:40:06.639Z"
   },
   {
    "duration": 22,
    "start_time": "2024-05-15T07:40:06.645Z"
   },
   {
    "duration": 8,
    "start_time": "2024-05-15T07:40:06.679Z"
   },
   {
    "duration": 13,
    "start_time": "2024-05-15T07:40:06.689Z"
   },
   {
    "duration": 14,
    "start_time": "2024-05-15T07:40:06.705Z"
   },
   {
    "duration": 19,
    "start_time": "2024-05-15T07:40:06.720Z"
   },
   {
    "duration": 19,
    "start_time": "2024-05-15T07:40:06.741Z"
   },
   {
    "duration": 238,
    "start_time": "2024-05-15T07:40:06.779Z"
   },
   {
    "duration": 8,
    "start_time": "2024-05-15T07:40:07.018Z"
   },
   {
    "duration": 314,
    "start_time": "2024-05-15T07:40:07.027Z"
   },
   {
    "duration": 13,
    "start_time": "2024-05-15T07:40:07.343Z"
   },
   {
    "duration": 343,
    "start_time": "2024-05-15T07:40:07.358Z"
   },
   {
    "duration": 26,
    "start_time": "2024-05-15T07:40:07.703Z"
   },
   {
    "duration": 28,
    "start_time": "2024-05-15T07:40:07.731Z"
   },
   {
    "duration": 40,
    "start_time": "2024-05-15T07:40:07.761Z"
   },
   {
    "duration": 35,
    "start_time": "2024-05-15T07:40:07.803Z"
   },
   {
    "duration": 334,
    "start_time": "2024-05-15T07:40:07.840Z"
   },
   {
    "duration": 341,
    "start_time": "2024-05-15T07:40:08.176Z"
   },
   {
    "duration": 8,
    "start_time": "2024-05-15T07:40:08.519Z"
   },
   {
    "duration": 303,
    "start_time": "2024-05-15T07:40:08.529Z"
   },
   {
    "duration": 180,
    "start_time": "2024-05-15T07:40:08.834Z"
   },
   {
    "duration": 175,
    "start_time": "2024-05-15T07:40:09.016Z"
   },
   {
    "duration": 173,
    "start_time": "2024-05-15T07:40:09.193Z"
   },
   {
    "duration": 192,
    "start_time": "2024-05-15T07:40:09.368Z"
   },
   {
    "duration": 179,
    "start_time": "2024-05-15T07:40:09.562Z"
   },
   {
    "duration": 253,
    "start_time": "2024-05-15T07:40:09.747Z"
   },
   {
    "duration": 18,
    "start_time": "2024-05-15T07:40:10.001Z"
   },
   {
    "duration": 41,
    "start_time": "2024-05-15T07:40:10.021Z"
   },
   {
    "duration": 85,
    "start_time": "2024-05-15T07:40:10.063Z"
   },
   {
    "duration": 58,
    "start_time": "2024-05-15T07:40:10.150Z"
   },
   {
    "duration": 25,
    "start_time": "2024-05-15T07:40:10.210Z"
   },
   {
    "duration": 18,
    "start_time": "2024-05-15T07:40:10.237Z"
   },
   {
    "duration": 22,
    "start_time": "2024-05-15T07:40:10.257Z"
   },
   {
    "duration": 20,
    "start_time": "2024-05-15T07:40:10.281Z"
   },
   {
    "duration": 12,
    "start_time": "2024-05-15T07:40:10.303Z"
   },
   {
    "duration": 26,
    "start_time": "2024-05-15T07:40:10.317Z"
   },
   {
    "duration": 26,
    "start_time": "2024-05-15T07:40:10.346Z"
   },
   {
    "duration": 7,
    "start_time": "2024-05-15T07:45:17.977Z"
   },
   {
    "duration": 1186,
    "start_time": "2024-05-15T07:45:26.872Z"
   },
   {
    "duration": 57,
    "start_time": "2024-05-15T07:45:28.060Z"
   },
   {
    "duration": 17,
    "start_time": "2024-05-15T07:45:28.119Z"
   },
   {
    "duration": 25,
    "start_time": "2024-05-15T07:45:28.138Z"
   },
   {
    "duration": 24,
    "start_time": "2024-05-15T07:45:28.165Z"
   },
   {
    "duration": 14,
    "start_time": "2024-05-15T07:45:28.190Z"
   },
   {
    "duration": 14,
    "start_time": "2024-05-15T07:45:28.206Z"
   },
   {
    "duration": 12,
    "start_time": "2024-05-15T07:45:28.221Z"
   },
   {
    "duration": 9,
    "start_time": "2024-05-15T07:45:28.235Z"
   },
   {
    "duration": 37,
    "start_time": "2024-05-15T07:45:28.247Z"
   },
   {
    "duration": 3,
    "start_time": "2024-05-15T07:45:28.286Z"
   },
   {
    "duration": 7,
    "start_time": "2024-05-15T07:45:28.290Z"
   },
   {
    "duration": 20,
    "start_time": "2024-05-15T07:45:28.299Z"
   },
   {
    "duration": 18,
    "start_time": "2024-05-15T07:45:28.321Z"
   },
   {
    "duration": 42,
    "start_time": "2024-05-15T07:45:28.340Z"
   },
   {
    "duration": 5,
    "start_time": "2024-05-15T07:45:28.383Z"
   },
   {
    "duration": 12,
    "start_time": "2024-05-15T07:45:28.389Z"
   },
   {
    "duration": 8,
    "start_time": "2024-05-15T07:45:28.403Z"
   },
   {
    "duration": 11,
    "start_time": "2024-05-15T07:45:28.414Z"
   },
   {
    "duration": 16,
    "start_time": "2024-05-15T07:45:28.427Z"
   },
   {
    "duration": 36,
    "start_time": "2024-05-15T07:45:28.444Z"
   },
   {
    "duration": 15,
    "start_time": "2024-05-15T07:45:28.482Z"
   },
   {
    "duration": 293,
    "start_time": "2024-05-15T07:45:28.499Z"
   },
   {
    "duration": 10,
    "start_time": "2024-05-15T07:45:28.794Z"
   },
   {
    "duration": 338,
    "start_time": "2024-05-15T07:45:28.806Z"
   },
   {
    "duration": 15,
    "start_time": "2024-05-15T07:45:29.145Z"
   },
   {
    "duration": 349,
    "start_time": "2024-05-15T07:45:29.161Z"
   },
   {
    "duration": 27,
    "start_time": "2024-05-15T07:45:29.513Z"
   },
   {
    "duration": 6,
    "start_time": "2024-05-15T07:45:29.542Z"
   },
   {
    "duration": 19,
    "start_time": "2024-05-15T07:45:29.549Z"
   },
   {
    "duration": 11,
    "start_time": "2024-05-15T07:45:29.570Z"
   },
   {
    "duration": 21,
    "start_time": "2024-05-15T07:45:29.583Z"
   },
   {
    "duration": 326,
    "start_time": "2024-05-15T07:45:29.605Z"
   },
   {
    "duration": 368,
    "start_time": "2024-05-15T07:45:29.933Z"
   },
   {
    "duration": 8,
    "start_time": "2024-05-15T07:45:30.303Z"
   },
   {
    "duration": 334,
    "start_time": "2024-05-15T07:45:30.313Z"
   },
   {
    "duration": 188,
    "start_time": "2024-05-15T07:45:30.649Z"
   },
   {
    "duration": 186,
    "start_time": "2024-05-15T07:45:30.839Z"
   },
   {
    "duration": 193,
    "start_time": "2024-05-15T07:45:31.027Z"
   },
   {
    "duration": 185,
    "start_time": "2024-05-15T07:45:31.222Z"
   },
   {
    "duration": 172,
    "start_time": "2024-05-15T07:45:31.408Z"
   },
   {
    "duration": 242,
    "start_time": "2024-05-15T07:45:31.582Z"
   },
   {
    "duration": 13,
    "start_time": "2024-05-15T07:45:31.826Z"
   },
   {
    "duration": 59,
    "start_time": "2024-05-15T07:45:31.840Z"
   },
   {
    "duration": 81,
    "start_time": "2024-05-15T07:45:31.901Z"
   },
   {
    "duration": 30,
    "start_time": "2024-05-15T07:45:31.985Z"
   },
   {
    "duration": 26,
    "start_time": "2024-05-15T07:45:32.016Z"
   },
   {
    "duration": 29,
    "start_time": "2024-05-15T07:45:32.044Z"
   },
   {
    "duration": 33,
    "start_time": "2024-05-15T07:45:32.075Z"
   },
   {
    "duration": 17,
    "start_time": "2024-05-15T07:45:32.110Z"
   },
   {
    "duration": 26,
    "start_time": "2024-05-15T07:45:32.129Z"
   },
   {
    "duration": 12,
    "start_time": "2024-05-15T07:45:32.158Z"
   },
   {
    "duration": 23,
    "start_time": "2024-05-15T07:45:32.172Z"
   },
   {
    "duration": 1355,
    "start_time": "2024-05-15T07:53:08.633Z"
   },
   {
    "duration": 58,
    "start_time": "2024-05-15T07:53:09.991Z"
   },
   {
    "duration": 18,
    "start_time": "2024-05-15T07:53:10.050Z"
   },
   {
    "duration": 51,
    "start_time": "2024-05-15T07:53:10.071Z"
   },
   {
    "duration": 18,
    "start_time": "2024-05-15T07:53:10.124Z"
   },
   {
    "duration": 22,
    "start_time": "2024-05-15T07:53:10.143Z"
   },
   {
    "duration": 23,
    "start_time": "2024-05-15T07:53:10.167Z"
   },
   {
    "duration": 12,
    "start_time": "2024-05-15T07:53:10.192Z"
   },
   {
    "duration": 33,
    "start_time": "2024-05-15T07:53:10.205Z"
   },
   {
    "duration": 17,
    "start_time": "2024-05-15T07:53:10.241Z"
   },
   {
    "duration": 7,
    "start_time": "2024-05-15T07:53:10.260Z"
   },
   {
    "duration": 5,
    "start_time": "2024-05-15T07:53:10.269Z"
   },
   {
    "duration": 17,
    "start_time": "2024-05-15T07:53:10.276Z"
   },
   {
    "duration": 5,
    "start_time": "2024-05-15T07:53:10.294Z"
   },
   {
    "duration": 27,
    "start_time": "2024-05-15T07:53:10.301Z"
   },
   {
    "duration": 5,
    "start_time": "2024-05-15T07:53:10.329Z"
   },
   {
    "duration": 24,
    "start_time": "2024-05-15T07:53:10.335Z"
   },
   {
    "duration": 19,
    "start_time": "2024-05-15T07:53:10.362Z"
   },
   {
    "duration": 13,
    "start_time": "2024-05-15T07:53:10.383Z"
   },
   {
    "duration": 15,
    "start_time": "2024-05-15T07:53:10.398Z"
   },
   {
    "duration": 4,
    "start_time": "2024-05-15T07:53:10.415Z"
   },
   {
    "duration": 17,
    "start_time": "2024-05-15T07:53:10.421Z"
   },
   {
    "duration": 277,
    "start_time": "2024-05-15T07:53:10.440Z"
   },
   {
    "duration": 8,
    "start_time": "2024-05-15T07:53:10.719Z"
   },
   {
    "duration": 313,
    "start_time": "2024-05-15T07:53:10.729Z"
   },
   {
    "duration": 13,
    "start_time": "2024-05-15T07:53:11.044Z"
   },
   {
    "duration": 347,
    "start_time": "2024-05-15T07:53:11.058Z"
   },
   {
    "duration": 25,
    "start_time": "2024-05-15T07:53:11.409Z"
   },
   {
    "duration": 5,
    "start_time": "2024-05-15T07:53:11.436Z"
   },
   {
    "duration": 10,
    "start_time": "2024-05-15T07:53:11.442Z"
   },
   {
    "duration": 43,
    "start_time": "2024-05-15T07:53:11.453Z"
   },
   {
    "duration": 19,
    "start_time": "2024-05-15T07:53:11.498Z"
   },
   {
    "duration": 320,
    "start_time": "2024-05-15T07:53:11.519Z"
   },
   {
    "duration": 419,
    "start_time": "2024-05-15T07:53:11.841Z"
   },
   {
    "duration": 11,
    "start_time": "2024-05-15T07:53:12.262Z"
   },
   {
    "duration": 313,
    "start_time": "2024-05-15T07:53:12.281Z"
   },
   {
    "duration": 175,
    "start_time": "2024-05-15T07:53:12.601Z"
   },
   {
    "duration": 174,
    "start_time": "2024-05-15T07:53:12.781Z"
   },
   {
    "duration": 172,
    "start_time": "2024-05-15T07:53:12.957Z"
   },
   {
    "duration": 189,
    "start_time": "2024-05-15T07:53:13.131Z"
   },
   {
    "duration": 171,
    "start_time": "2024-05-15T07:53:13.322Z"
   },
   {
    "duration": 251,
    "start_time": "2024-05-15T07:53:13.495Z"
   },
   {
    "duration": 15,
    "start_time": "2024-05-15T07:53:13.748Z"
   },
   {
    "duration": 33,
    "start_time": "2024-05-15T07:53:13.765Z"
   },
   {
    "duration": 12,
    "start_time": "2024-05-15T07:53:13.799Z"
   },
   {
    "duration": 29,
    "start_time": "2024-05-15T07:53:13.812Z"
   },
   {
    "duration": 16,
    "start_time": "2024-05-15T07:53:13.842Z"
   },
   {
    "duration": 10,
    "start_time": "2024-05-15T07:53:13.860Z"
   },
   {
    "duration": 25,
    "start_time": "2024-05-15T07:53:13.872Z"
   },
   {
    "duration": 17,
    "start_time": "2024-05-15T07:53:13.899Z"
   },
   {
    "duration": 14,
    "start_time": "2024-05-15T07:53:13.918Z"
   },
   {
    "duration": 14,
    "start_time": "2024-05-15T07:53:13.934Z"
   },
   {
    "duration": 37,
    "start_time": "2024-05-15T07:53:13.949Z"
   },
   {
    "duration": 55,
    "start_time": "2024-05-15T08:46:47.657Z"
   },
   {
    "duration": 1422,
    "start_time": "2024-05-15T08:46:55.254Z"
   },
   {
    "duration": 196,
    "start_time": "2024-05-15T08:46:56.678Z"
   },
   {
    "duration": 18,
    "start_time": "2024-05-15T08:46:56.876Z"
   },
   {
    "duration": 34,
    "start_time": "2024-05-15T08:46:56.896Z"
   },
   {
    "duration": 46,
    "start_time": "2024-05-15T08:46:56.934Z"
   },
   {
    "duration": 42,
    "start_time": "2024-05-15T08:46:56.982Z"
   },
   {
    "duration": 22,
    "start_time": "2024-05-15T08:46:57.026Z"
   },
   {
    "duration": 32,
    "start_time": "2024-05-15T08:46:57.050Z"
   },
   {
    "duration": 17,
    "start_time": "2024-05-15T08:46:57.084Z"
   },
   {
    "duration": 29,
    "start_time": "2024-05-15T08:46:57.102Z"
   },
   {
    "duration": 9,
    "start_time": "2024-05-15T08:46:57.133Z"
   },
   {
    "duration": 18,
    "start_time": "2024-05-15T08:46:57.143Z"
   },
   {
    "duration": 40,
    "start_time": "2024-05-15T08:46:57.163Z"
   },
   {
    "duration": 27,
    "start_time": "2024-05-15T08:46:57.206Z"
   },
   {
    "duration": 5,
    "start_time": "2024-05-15T08:46:57.234Z"
   },
   {
    "duration": 39,
    "start_time": "2024-05-15T08:46:57.241Z"
   },
   {
    "duration": 4,
    "start_time": "2024-05-15T08:46:57.282Z"
   },
   {
    "duration": 21,
    "start_time": "2024-05-15T08:46:57.287Z"
   },
   {
    "duration": 11,
    "start_time": "2024-05-15T08:46:57.310Z"
   },
   {
    "duration": 10,
    "start_time": "2024-05-15T08:46:57.322Z"
   },
   {
    "duration": 25,
    "start_time": "2024-05-15T08:46:57.334Z"
   },
   {
    "duration": 4,
    "start_time": "2024-05-15T08:46:57.361Z"
   },
   {
    "duration": 26,
    "start_time": "2024-05-15T08:46:57.367Z"
   },
   {
    "duration": 229,
    "start_time": "2024-05-15T08:46:57.395Z"
   },
   {
    "duration": 9,
    "start_time": "2024-05-15T08:46:57.626Z"
   },
   {
    "duration": 306,
    "start_time": "2024-05-15T08:46:57.636Z"
   },
   {
    "duration": 23,
    "start_time": "2024-05-15T08:46:57.944Z"
   },
   {
    "duration": 358,
    "start_time": "2024-05-15T08:46:57.969Z"
   },
   {
    "duration": 27,
    "start_time": "2024-05-15T08:46:58.329Z"
   },
   {
    "duration": 5,
    "start_time": "2024-05-15T08:46:58.358Z"
   },
   {
    "duration": 15,
    "start_time": "2024-05-15T08:46:58.365Z"
   },
   {
    "duration": 28,
    "start_time": "2024-05-15T08:46:58.382Z"
   },
   {
    "duration": 18,
    "start_time": "2024-05-15T08:46:58.412Z"
   },
   {
    "duration": 335,
    "start_time": "2024-05-15T08:46:58.432Z"
   },
   {
    "duration": 338,
    "start_time": "2024-05-15T08:46:58.769Z"
   },
   {
    "duration": 9,
    "start_time": "2024-05-15T08:46:59.109Z"
   },
   {
    "duration": 261,
    "start_time": "2024-05-15T08:46:59.120Z"
   },
   {
    "duration": 188,
    "start_time": "2024-05-15T08:46:59.383Z"
   },
   {
    "duration": 186,
    "start_time": "2024-05-15T08:46:59.573Z"
   },
   {
    "duration": 174,
    "start_time": "2024-05-15T08:46:59.760Z"
   },
   {
    "duration": 189,
    "start_time": "2024-05-15T08:46:59.938Z"
   },
   {
    "duration": 188,
    "start_time": "2024-05-15T08:47:00.129Z"
   },
   {
    "duration": 247,
    "start_time": "2024-05-15T08:47:00.319Z"
   },
   {
    "duration": 33,
    "start_time": "2024-05-15T08:47:00.568Z"
   },
   {
    "duration": 33,
    "start_time": "2024-05-15T08:47:00.603Z"
   },
   {
    "duration": 50,
    "start_time": "2024-05-15T08:47:00.638Z"
   },
   {
    "duration": 49,
    "start_time": "2024-05-15T08:47:00.690Z"
   },
   {
    "duration": 21,
    "start_time": "2024-05-15T08:47:00.741Z"
   },
   {
    "duration": 66,
    "start_time": "2024-05-15T08:47:00.765Z"
   },
   {
    "duration": 65,
    "start_time": "2024-05-15T08:47:00.833Z"
   },
   {
    "duration": 36,
    "start_time": "2024-05-15T08:47:00.899Z"
   },
   {
    "duration": 35,
    "start_time": "2024-05-15T08:47:00.936Z"
   },
   {
    "duration": 79,
    "start_time": "2024-05-15T08:47:00.972Z"
   },
   {
    "duration": 87,
    "start_time": "2024-05-15T08:47:01.052Z"
   },
   {
    "duration": 125,
    "start_time": "2024-05-15T08:56:18.323Z"
   },
   {
    "duration": 1142,
    "start_time": "2024-05-15T09:00:37.370Z"
   },
   {
    "duration": 1141,
    "start_time": "2024-05-15T09:01:49.182Z"
   },
   {
    "duration": 1073,
    "start_time": "2024-05-15T09:01:59.223Z"
   },
   {
    "duration": 1146,
    "start_time": "2024-05-15T09:02:09.703Z"
   },
   {
    "duration": 64,
    "start_time": "2024-05-15T09:02:10.851Z"
   },
   {
    "duration": 18,
    "start_time": "2024-05-15T09:02:10.917Z"
   },
   {
    "duration": 20,
    "start_time": "2024-05-15T09:02:10.937Z"
   },
   {
    "duration": 18,
    "start_time": "2024-05-15T09:02:10.959Z"
   },
   {
    "duration": 6,
    "start_time": "2024-05-15T09:02:10.978Z"
   },
   {
    "duration": 139,
    "start_time": "2024-05-15T09:02:10.985Z"
   },
   {
    "duration": 0,
    "start_time": "2024-05-15T09:02:11.128Z"
   },
   {
    "duration": 0,
    "start_time": "2024-05-15T09:02:11.129Z"
   },
   {
    "duration": 0,
    "start_time": "2024-05-15T09:02:11.131Z"
   },
   {
    "duration": 0,
    "start_time": "2024-05-15T09:02:11.132Z"
   },
   {
    "duration": 0,
    "start_time": "2024-05-15T09:02:11.133Z"
   },
   {
    "duration": 0,
    "start_time": "2024-05-15T09:02:11.134Z"
   },
   {
    "duration": 0,
    "start_time": "2024-05-15T09:02:11.135Z"
   },
   {
    "duration": 0,
    "start_time": "2024-05-15T09:02:11.136Z"
   },
   {
    "duration": 0,
    "start_time": "2024-05-15T09:02:11.138Z"
   },
   {
    "duration": 0,
    "start_time": "2024-05-15T09:02:11.139Z"
   },
   {
    "duration": 0,
    "start_time": "2024-05-15T09:02:11.140Z"
   },
   {
    "duration": 0,
    "start_time": "2024-05-15T09:02:11.141Z"
   },
   {
    "duration": 0,
    "start_time": "2024-05-15T09:02:11.159Z"
   },
   {
    "duration": 0,
    "start_time": "2024-05-15T09:02:11.160Z"
   },
   {
    "duration": 0,
    "start_time": "2024-05-15T09:02:11.161Z"
   },
   {
    "duration": 0,
    "start_time": "2024-05-15T09:02:11.162Z"
   },
   {
    "duration": 0,
    "start_time": "2024-05-15T09:02:11.164Z"
   },
   {
    "duration": 0,
    "start_time": "2024-05-15T09:02:11.165Z"
   },
   {
    "duration": 0,
    "start_time": "2024-05-15T09:02:11.166Z"
   },
   {
    "duration": 0,
    "start_time": "2024-05-15T09:02:11.167Z"
   },
   {
    "duration": 0,
    "start_time": "2024-05-15T09:02:11.168Z"
   },
   {
    "duration": 0,
    "start_time": "2024-05-15T09:02:11.169Z"
   },
   {
    "duration": 0,
    "start_time": "2024-05-15T09:02:11.171Z"
   },
   {
    "duration": 0,
    "start_time": "2024-05-15T09:02:11.172Z"
   },
   {
    "duration": 0,
    "start_time": "2024-05-15T09:02:11.173Z"
   },
   {
    "duration": 0,
    "start_time": "2024-05-15T09:02:11.175Z"
   },
   {
    "duration": 1,
    "start_time": "2024-05-15T09:02:11.176Z"
   },
   {
    "duration": 0,
    "start_time": "2024-05-15T09:02:11.178Z"
   },
   {
    "duration": 0,
    "start_time": "2024-05-15T09:02:11.180Z"
   },
   {
    "duration": 0,
    "start_time": "2024-05-15T09:02:11.181Z"
   },
   {
    "duration": 0,
    "start_time": "2024-05-15T09:02:11.182Z"
   },
   {
    "duration": 0,
    "start_time": "2024-05-15T09:02:11.183Z"
   },
   {
    "duration": 0,
    "start_time": "2024-05-15T09:02:11.184Z"
   },
   {
    "duration": 0,
    "start_time": "2024-05-15T09:02:11.185Z"
   },
   {
    "duration": 0,
    "start_time": "2024-05-15T09:02:11.186Z"
   },
   {
    "duration": 0,
    "start_time": "2024-05-15T09:02:11.188Z"
   },
   {
    "duration": 0,
    "start_time": "2024-05-15T09:02:11.189Z"
   },
   {
    "duration": 0,
    "start_time": "2024-05-15T09:02:11.190Z"
   },
   {
    "duration": 0,
    "start_time": "2024-05-15T09:02:11.191Z"
   },
   {
    "duration": 0,
    "start_time": "2024-05-15T09:02:11.192Z"
   },
   {
    "duration": 0,
    "start_time": "2024-05-15T09:02:11.193Z"
   },
   {
    "duration": 0,
    "start_time": "2024-05-15T09:02:11.194Z"
   },
   {
    "duration": 0,
    "start_time": "2024-05-15T09:02:11.195Z"
   },
   {
    "duration": 0,
    "start_time": "2024-05-15T09:02:11.196Z"
   },
   {
    "duration": 0,
    "start_time": "2024-05-15T09:02:11.197Z"
   },
   {
    "duration": 0,
    "start_time": "2024-05-15T09:02:11.259Z"
   },
   {
    "duration": 0,
    "start_time": "2024-05-15T09:02:11.260Z"
   },
   {
    "duration": 0,
    "start_time": "2024-05-15T09:02:11.262Z"
   },
   {
    "duration": 12,
    "start_time": "2024-05-15T09:15:49.269Z"
   },
   {
    "duration": 11,
    "start_time": "2024-05-15T09:17:30.398Z"
   },
   {
    "duration": 12,
    "start_time": "2024-05-15T09:21:59.498Z"
   },
   {
    "duration": 13,
    "start_time": "2024-05-15T09:22:47.726Z"
   },
   {
    "duration": 12,
    "start_time": "2024-05-15T09:26:26.080Z"
   },
   {
    "duration": 297,
    "start_time": "2024-05-15T09:30:27.694Z"
   },
   {
    "duration": 5,
    "start_time": "2024-05-15T09:32:20.631Z"
   },
   {
    "duration": 11,
    "start_time": "2024-05-15T09:32:22.488Z"
   },
   {
    "duration": 3,
    "start_time": "2024-05-15T09:38:01.027Z"
   },
   {
    "duration": 3,
    "start_time": "2024-05-15T09:38:02.012Z"
   },
   {
    "duration": 1149,
    "start_time": "2024-05-15T09:39:04.495Z"
   },
   {
    "duration": 56,
    "start_time": "2024-05-15T09:39:05.646Z"
   },
   {
    "duration": 17,
    "start_time": "2024-05-15T09:39:05.704Z"
   },
   {
    "duration": 43,
    "start_time": "2024-05-15T09:39:05.724Z"
   },
   {
    "duration": 58,
    "start_time": "2024-05-15T09:39:05.769Z"
   },
   {
    "duration": 20,
    "start_time": "2024-05-15T09:39:05.828Z"
   },
   {
    "duration": 57,
    "start_time": "2024-05-15T09:39:05.849Z"
   },
   {
    "duration": 46,
    "start_time": "2024-05-15T09:39:05.907Z"
   },
   {
    "duration": 47,
    "start_time": "2024-05-15T09:39:05.955Z"
   },
   {
    "duration": 47,
    "start_time": "2024-05-15T09:39:06.006Z"
   },
   {
    "duration": 44,
    "start_time": "2024-05-15T09:39:06.055Z"
   },
   {
    "duration": 39,
    "start_time": "2024-05-15T09:39:06.101Z"
   },
   {
    "duration": 29,
    "start_time": "2024-05-15T09:39:06.142Z"
   },
   {
    "duration": 10,
    "start_time": "2024-05-15T09:39:06.172Z"
   },
   {
    "duration": 30,
    "start_time": "2024-05-15T09:39:06.184Z"
   },
   {
    "duration": 48,
    "start_time": "2024-05-15T09:39:06.215Z"
   },
   {
    "duration": 40,
    "start_time": "2024-05-15T09:39:06.265Z"
   },
   {
    "duration": 14,
    "start_time": "2024-05-15T09:39:06.306Z"
   },
   {
    "duration": 23,
    "start_time": "2024-05-15T09:39:06.322Z"
   },
   {
    "duration": 62,
    "start_time": "2024-05-15T09:39:06.347Z"
   },
   {
    "duration": 38,
    "start_time": "2024-05-15T09:39:06.411Z"
   },
   {
    "duration": 44,
    "start_time": "2024-05-15T09:39:06.450Z"
   },
   {
    "duration": 29,
    "start_time": "2024-05-15T09:39:06.496Z"
   },
   {
    "duration": 46,
    "start_time": "2024-05-15T09:39:06.526Z"
   },
   {
    "duration": 248,
    "start_time": "2024-05-15T09:39:06.574Z"
   },
   {
    "duration": 9,
    "start_time": "2024-05-15T09:39:06.824Z"
   },
   {
    "duration": 353,
    "start_time": "2024-05-15T09:39:06.835Z"
   },
   {
    "duration": 13,
    "start_time": "2024-05-15T09:39:07.192Z"
   },
   {
    "duration": 356,
    "start_time": "2024-05-15T09:39:07.207Z"
   },
   {
    "duration": 27,
    "start_time": "2024-05-15T09:39:07.564Z"
   },
   {
    "duration": 49,
    "start_time": "2024-05-15T09:39:07.592Z"
   },
   {
    "duration": 54,
    "start_time": "2024-05-15T09:39:07.643Z"
   },
   {
    "duration": 28,
    "start_time": "2024-05-15T09:39:07.699Z"
   },
   {
    "duration": 25,
    "start_time": "2024-05-15T09:39:07.729Z"
   },
   {
    "duration": 353,
    "start_time": "2024-05-15T09:39:07.756Z"
   },
   {
    "duration": 341,
    "start_time": "2024-05-15T09:39:08.111Z"
   },
   {
    "duration": 11,
    "start_time": "2024-05-15T09:39:08.454Z"
   },
   {
    "duration": 261,
    "start_time": "2024-05-15T09:39:08.467Z"
   },
   {
    "duration": 176,
    "start_time": "2024-05-15T09:39:08.729Z"
   },
   {
    "duration": 180,
    "start_time": "2024-05-15T09:39:08.907Z"
   },
   {
    "duration": 171,
    "start_time": "2024-05-15T09:39:09.088Z"
   },
   {
    "duration": 194,
    "start_time": "2024-05-15T09:39:09.261Z"
   },
   {
    "duration": 172,
    "start_time": "2024-05-15T09:39:09.459Z"
   },
   {
    "duration": 246,
    "start_time": "2024-05-15T09:39:09.633Z"
   },
   {
    "duration": 13,
    "start_time": "2024-05-15T09:39:09.881Z"
   },
   {
    "duration": 29,
    "start_time": "2024-05-15T09:39:09.895Z"
   },
   {
    "duration": 23,
    "start_time": "2024-05-15T09:39:09.925Z"
   },
   {
    "duration": 39,
    "start_time": "2024-05-15T09:39:09.951Z"
   },
   {
    "duration": 24,
    "start_time": "2024-05-15T09:39:09.992Z"
   },
   {
    "duration": 26,
    "start_time": "2024-05-15T09:39:10.017Z"
   },
   {
    "duration": 43,
    "start_time": "2024-05-15T09:39:10.045Z"
   },
   {
    "duration": 34,
    "start_time": "2024-05-15T09:39:10.090Z"
   },
   {
    "duration": 32,
    "start_time": "2024-05-15T09:39:10.126Z"
   },
   {
    "duration": 39,
    "start_time": "2024-05-15T09:39:10.160Z"
   },
   {
    "duration": 20,
    "start_time": "2024-05-15T09:39:10.201Z"
   },
   {
    "duration": 7,
    "start_time": "2024-05-15T09:39:51.004Z"
   },
   {
    "duration": 57,
    "start_time": "2024-05-15T09:44:18.854Z"
   },
   {
    "duration": 61,
    "start_time": "2024-05-15T09:44:54.796Z"
   },
   {
    "duration": 4,
    "start_time": "2024-05-15T09:45:25.803Z"
   },
   {
    "duration": 89,
    "start_time": "2024-05-15T09:46:10.730Z"
   },
   {
    "duration": 193,
    "start_time": "2024-05-15T09:50:11.951Z"
   },
   {
    "duration": 1153,
    "start_time": "2024-05-15T09:50:24.698Z"
   },
   {
    "duration": 59,
    "start_time": "2024-05-15T09:50:25.853Z"
   },
   {
    "duration": 18,
    "start_time": "2024-05-15T09:50:25.913Z"
   },
   {
    "duration": 61,
    "start_time": "2024-05-15T09:50:25.932Z"
   },
   {
    "duration": 34,
    "start_time": "2024-05-15T09:50:25.996Z"
   },
   {
    "duration": 26,
    "start_time": "2024-05-15T09:50:26.032Z"
   },
   {
    "duration": 23,
    "start_time": "2024-05-15T09:50:26.059Z"
   },
   {
    "duration": 60,
    "start_time": "2024-05-15T09:50:26.083Z"
   },
   {
    "duration": 14,
    "start_time": "2024-05-15T09:50:26.145Z"
   },
   {
    "duration": 11,
    "start_time": "2024-05-15T09:50:26.161Z"
   },
   {
    "duration": 18,
    "start_time": "2024-05-15T09:50:26.174Z"
   },
   {
    "duration": 14,
    "start_time": "2024-05-15T09:50:26.194Z"
   },
   {
    "duration": 10,
    "start_time": "2024-05-15T09:50:26.209Z"
   },
   {
    "duration": 59,
    "start_time": "2024-05-15T09:50:26.223Z"
   },
   {
    "duration": 0,
    "start_time": "2024-05-15T09:50:26.285Z"
   },
   {
    "duration": 0,
    "start_time": "2024-05-15T09:50:26.286Z"
   },
   {
    "duration": 0,
    "start_time": "2024-05-15T09:50:26.288Z"
   },
   {
    "duration": 0,
    "start_time": "2024-05-15T09:50:26.289Z"
   },
   {
    "duration": 0,
    "start_time": "2024-05-15T09:50:26.291Z"
   },
   {
    "duration": 0,
    "start_time": "2024-05-15T09:50:26.292Z"
   },
   {
    "duration": 0,
    "start_time": "2024-05-15T09:50:26.294Z"
   },
   {
    "duration": 0,
    "start_time": "2024-05-15T09:50:26.295Z"
   },
   {
    "duration": 0,
    "start_time": "2024-05-15T09:50:26.297Z"
   },
   {
    "duration": 0,
    "start_time": "2024-05-15T09:50:26.298Z"
   },
   {
    "duration": 0,
    "start_time": "2024-05-15T09:50:26.300Z"
   },
   {
    "duration": 0,
    "start_time": "2024-05-15T09:50:26.301Z"
   },
   {
    "duration": 0,
    "start_time": "2024-05-15T09:50:26.303Z"
   },
   {
    "duration": 0,
    "start_time": "2024-05-15T09:50:26.304Z"
   },
   {
    "duration": 0,
    "start_time": "2024-05-15T09:50:26.306Z"
   },
   {
    "duration": 0,
    "start_time": "2024-05-15T09:50:26.308Z"
   },
   {
    "duration": 0,
    "start_time": "2024-05-15T09:50:26.310Z"
   },
   {
    "duration": 0,
    "start_time": "2024-05-15T09:50:26.311Z"
   },
   {
    "duration": 0,
    "start_time": "2024-05-15T09:50:26.312Z"
   },
   {
    "duration": 0,
    "start_time": "2024-05-15T09:50:26.314Z"
   },
   {
    "duration": 0,
    "start_time": "2024-05-15T09:50:26.315Z"
   },
   {
    "duration": 0,
    "start_time": "2024-05-15T09:50:26.316Z"
   },
   {
    "duration": 0,
    "start_time": "2024-05-15T09:50:26.318Z"
   },
   {
    "duration": 0,
    "start_time": "2024-05-15T09:50:26.319Z"
   },
   {
    "duration": 0,
    "start_time": "2024-05-15T09:50:26.320Z"
   },
   {
    "duration": 0,
    "start_time": "2024-05-15T09:50:26.321Z"
   },
   {
    "duration": 0,
    "start_time": "2024-05-15T09:50:26.358Z"
   },
   {
    "duration": 0,
    "start_time": "2024-05-15T09:50:26.360Z"
   },
   {
    "duration": 0,
    "start_time": "2024-05-15T09:50:26.361Z"
   },
   {
    "duration": 0,
    "start_time": "2024-05-15T09:50:26.362Z"
   },
   {
    "duration": 0,
    "start_time": "2024-05-15T09:50:26.363Z"
   },
   {
    "duration": 0,
    "start_time": "2024-05-15T09:50:26.364Z"
   },
   {
    "duration": 0,
    "start_time": "2024-05-15T09:50:26.365Z"
   },
   {
    "duration": 0,
    "start_time": "2024-05-15T09:50:26.366Z"
   },
   {
    "duration": 0,
    "start_time": "2024-05-15T09:50:26.367Z"
   },
   {
    "duration": 0,
    "start_time": "2024-05-15T09:50:26.368Z"
   },
   {
    "duration": 0,
    "start_time": "2024-05-15T09:50:26.369Z"
   },
   {
    "duration": 0,
    "start_time": "2024-05-15T09:50:26.370Z"
   },
   {
    "duration": 0,
    "start_time": "2024-05-15T09:50:26.371Z"
   },
   {
    "duration": 0,
    "start_time": "2024-05-15T09:50:26.372Z"
   },
   {
    "duration": 0,
    "start_time": "2024-05-15T09:50:26.373Z"
   },
   {
    "duration": 0,
    "start_time": "2024-05-15T09:50:26.374Z"
   },
   {
    "duration": 1290,
    "start_time": "2024-05-15T09:50:58.435Z"
   },
   {
    "duration": 58,
    "start_time": "2024-05-15T09:50:59.727Z"
   },
   {
    "duration": 17,
    "start_time": "2024-05-15T09:50:59.787Z"
   },
   {
    "duration": 18,
    "start_time": "2024-05-15T09:50:59.806Z"
   },
   {
    "duration": 41,
    "start_time": "2024-05-15T09:50:59.827Z"
   },
   {
    "duration": 2,
    "start_time": "2024-05-15T09:50:59.870Z"
   },
   {
    "duration": 8,
    "start_time": "2024-05-15T09:50:59.874Z"
   },
   {
    "duration": 33,
    "start_time": "2024-05-15T09:50:59.883Z"
   },
   {
    "duration": 14,
    "start_time": "2024-05-15T09:50:59.918Z"
   },
   {
    "duration": 33,
    "start_time": "2024-05-15T09:50:59.934Z"
   },
   {
    "duration": 9,
    "start_time": "2024-05-15T09:50:59.969Z"
   },
   {
    "duration": 14,
    "start_time": "2024-05-15T09:50:59.980Z"
   },
   {
    "duration": 83,
    "start_time": "2024-05-15T09:50:59.995Z"
   },
   {
    "duration": 117,
    "start_time": "2024-05-15T09:51:00.082Z"
   },
   {
    "duration": 184,
    "start_time": "2024-05-15T09:51:00.201Z"
   },
   {
    "duration": 140,
    "start_time": "2024-05-15T09:51:00.387Z"
   },
   {
    "duration": 18,
    "start_time": "2024-05-15T09:51:00.528Z"
   },
   {
    "duration": 27,
    "start_time": "2024-05-15T09:51:00.548Z"
   },
   {
    "duration": 43,
    "start_time": "2024-05-15T09:51:00.577Z"
   },
   {
    "duration": 36,
    "start_time": "2024-05-15T09:51:00.622Z"
   },
   {
    "duration": 96,
    "start_time": "2024-05-15T09:51:00.660Z"
   },
   {
    "duration": 55,
    "start_time": "2024-05-15T09:51:00.758Z"
   },
   {
    "duration": 44,
    "start_time": "2024-05-15T09:51:00.815Z"
   },
   {
    "duration": 257,
    "start_time": "2024-05-15T09:51:00.861Z"
   },
   {
    "duration": 436,
    "start_time": "2024-05-15T09:51:01.120Z"
   },
   {
    "duration": 11,
    "start_time": "2024-05-15T09:51:01.558Z"
   },
   {
    "duration": 338,
    "start_time": "2024-05-15T09:51:01.571Z"
   },
   {
    "duration": 14,
    "start_time": "2024-05-15T09:51:01.910Z"
   },
   {
    "duration": 428,
    "start_time": "2024-05-15T09:51:01.925Z"
   },
   {
    "duration": 28,
    "start_time": "2024-05-15T09:51:02.358Z"
   },
   {
    "duration": 37,
    "start_time": "2024-05-15T09:51:02.387Z"
   },
   {
    "duration": 48,
    "start_time": "2024-05-15T09:51:02.426Z"
   },
   {
    "duration": 47,
    "start_time": "2024-05-15T09:51:02.476Z"
   },
   {
    "duration": 47,
    "start_time": "2024-05-15T09:51:02.524Z"
   },
   {
    "duration": 364,
    "start_time": "2024-05-15T09:51:02.573Z"
   },
   {
    "duration": 411,
    "start_time": "2024-05-15T09:51:02.939Z"
   },
   {
    "duration": 15,
    "start_time": "2024-05-15T09:51:03.352Z"
   },
   {
    "duration": 200,
    "start_time": "2024-05-15T09:51:03.368Z"
   },
   {
    "duration": 175,
    "start_time": "2024-05-15T09:51:03.571Z"
   },
   {
    "duration": 174,
    "start_time": "2024-05-15T09:51:03.748Z"
   },
   {
    "duration": 175,
    "start_time": "2024-05-15T09:51:03.926Z"
   },
   {
    "duration": 189,
    "start_time": "2024-05-15T09:51:04.103Z"
   },
   {
    "duration": 167,
    "start_time": "2024-05-15T09:51:04.294Z"
   },
   {
    "duration": 257,
    "start_time": "2024-05-15T09:51:04.462Z"
   },
   {
    "duration": 14,
    "start_time": "2024-05-15T09:51:04.720Z"
   },
   {
    "duration": 34,
    "start_time": "2024-05-15T09:51:04.736Z"
   },
   {
    "duration": 10,
    "start_time": "2024-05-15T09:51:04.772Z"
   },
   {
    "duration": 28,
    "start_time": "2024-05-15T09:51:04.784Z"
   },
   {
    "duration": 13,
    "start_time": "2024-05-15T09:51:04.814Z"
   },
   {
    "duration": 32,
    "start_time": "2024-05-15T09:51:04.828Z"
   },
   {
    "duration": 14,
    "start_time": "2024-05-15T09:51:04.862Z"
   },
   {
    "duration": 12,
    "start_time": "2024-05-15T09:51:04.878Z"
   },
   {
    "duration": 12,
    "start_time": "2024-05-15T09:51:04.892Z"
   },
   {
    "duration": 15,
    "start_time": "2024-05-15T09:51:04.906Z"
   },
   {
    "duration": 17,
    "start_time": "2024-05-15T09:51:04.959Z"
   },
   {
    "duration": 176,
    "start_time": "2024-05-15T09:51:39.712Z"
   },
   {
    "duration": 1145,
    "start_time": "2024-05-15T09:51:47.108Z"
   },
   {
    "duration": 56,
    "start_time": "2024-05-15T09:51:48.256Z"
   },
   {
    "duration": 18,
    "start_time": "2024-05-15T09:51:48.314Z"
   },
   {
    "duration": 25,
    "start_time": "2024-05-15T09:51:48.334Z"
   },
   {
    "duration": 19,
    "start_time": "2024-05-15T09:51:48.363Z"
   },
   {
    "duration": 4,
    "start_time": "2024-05-15T09:51:48.384Z"
   },
   {
    "duration": 6,
    "start_time": "2024-05-15T09:51:48.389Z"
   },
   {
    "duration": 20,
    "start_time": "2024-05-15T09:51:48.397Z"
   },
   {
    "duration": 48,
    "start_time": "2024-05-15T09:51:48.419Z"
   },
   {
    "duration": 14,
    "start_time": "2024-05-15T09:51:48.469Z"
   },
   {
    "duration": 10,
    "start_time": "2024-05-15T09:51:48.485Z"
   },
   {
    "duration": 8,
    "start_time": "2024-05-15T09:51:48.497Z"
   },
   {
    "duration": 5,
    "start_time": "2024-05-15T09:51:48.506Z"
   },
   {
    "duration": 45,
    "start_time": "2024-05-15T09:51:48.515Z"
   },
   {
    "duration": 5,
    "start_time": "2024-05-15T09:51:48.561Z"
   },
   {
    "duration": 31,
    "start_time": "2024-05-15T09:51:48.568Z"
   },
   {
    "duration": 4,
    "start_time": "2024-05-15T09:51:48.601Z"
   },
   {
    "duration": 11,
    "start_time": "2024-05-15T09:51:48.607Z"
   },
   {
    "duration": 6,
    "start_time": "2024-05-15T09:51:48.620Z"
   },
   {
    "duration": 37,
    "start_time": "2024-05-15T09:51:48.627Z"
   },
   {
    "duration": 14,
    "start_time": "2024-05-15T09:51:48.666Z"
   },
   {
    "duration": 5,
    "start_time": "2024-05-15T09:51:48.682Z"
   },
   {
    "duration": 21,
    "start_time": "2024-05-15T09:51:48.689Z"
   },
   {
    "duration": 249,
    "start_time": "2024-05-15T09:51:48.712Z"
   },
   {
    "duration": 439,
    "start_time": "2024-05-15T09:51:48.962Z"
   },
   {
    "duration": 10,
    "start_time": "2024-05-15T09:51:49.403Z"
   },
   {
    "duration": 318,
    "start_time": "2024-05-15T09:51:49.415Z"
   },
   {
    "duration": 25,
    "start_time": "2024-05-15T09:51:49.735Z"
   },
   {
    "duration": 330,
    "start_time": "2024-05-15T09:51:49.762Z"
   },
   {
    "duration": 26,
    "start_time": "2024-05-15T09:51:50.094Z"
   },
   {
    "duration": 12,
    "start_time": "2024-05-15T09:51:50.121Z"
   },
   {
    "duration": 30,
    "start_time": "2024-05-15T09:51:50.134Z"
   },
   {
    "duration": 6,
    "start_time": "2024-05-15T09:51:50.166Z"
   },
   {
    "duration": 13,
    "start_time": "2024-05-15T09:51:50.174Z"
   },
   {
    "duration": 348,
    "start_time": "2024-05-15T09:51:50.188Z"
   },
   {
    "duration": 425,
    "start_time": "2024-05-15T09:51:50.538Z"
   },
   {
    "duration": 11,
    "start_time": "2024-05-15T09:51:50.966Z"
   },
   {
    "duration": 195,
    "start_time": "2024-05-15T09:51:50.979Z"
   },
   {
    "duration": 199,
    "start_time": "2024-05-15T09:51:51.176Z"
   },
   {
    "duration": 193,
    "start_time": "2024-05-15T09:51:51.377Z"
   },
   {
    "duration": 176,
    "start_time": "2024-05-15T09:51:51.574Z"
   },
   {
    "duration": 192,
    "start_time": "2024-05-15T09:51:51.752Z"
   },
   {
    "duration": 203,
    "start_time": "2024-05-15T09:51:51.946Z"
   },
   {
    "duration": 265,
    "start_time": "2024-05-15T09:51:52.150Z"
   },
   {
    "duration": 14,
    "start_time": "2024-05-15T09:51:52.417Z"
   },
   {
    "duration": 36,
    "start_time": "2024-05-15T09:51:52.433Z"
   },
   {
    "duration": 11,
    "start_time": "2024-05-15T09:51:52.470Z"
   },
   {
    "duration": 26,
    "start_time": "2024-05-15T09:51:52.482Z"
   },
   {
    "duration": 14,
    "start_time": "2024-05-15T09:51:52.509Z"
   },
   {
    "duration": 22,
    "start_time": "2024-05-15T09:51:52.524Z"
   },
   {
    "duration": 14,
    "start_time": "2024-05-15T09:51:52.559Z"
   },
   {
    "duration": 29,
    "start_time": "2024-05-15T09:51:52.575Z"
   },
   {
    "duration": 12,
    "start_time": "2024-05-15T09:51:52.605Z"
   },
   {
    "duration": 41,
    "start_time": "2024-05-15T09:51:52.619Z"
   },
   {
    "duration": 14,
    "start_time": "2024-05-15T09:51:52.662Z"
   },
   {
    "duration": 2,
    "start_time": "2024-05-15T09:52:20.560Z"
   },
   {
    "duration": 1226,
    "start_time": "2024-05-15T09:57:34.928Z"
   },
   {
    "duration": 58,
    "start_time": "2024-05-15T09:57:36.156Z"
   },
   {
    "duration": 17,
    "start_time": "2024-05-15T09:57:36.216Z"
   },
   {
    "duration": 19,
    "start_time": "2024-05-15T09:57:36.235Z"
   },
   {
    "duration": 17,
    "start_time": "2024-05-15T09:57:36.258Z"
   },
   {
    "duration": 126,
    "start_time": "2024-05-15T09:57:36.277Z"
   },
   {
    "duration": 0,
    "start_time": "2024-05-15T09:57:36.406Z"
   },
   {
    "duration": 0,
    "start_time": "2024-05-15T09:57:36.407Z"
   },
   {
    "duration": 0,
    "start_time": "2024-05-15T09:57:36.408Z"
   },
   {
    "duration": 0,
    "start_time": "2024-05-15T09:57:36.410Z"
   },
   {
    "duration": 0,
    "start_time": "2024-05-15T09:57:36.411Z"
   },
   {
    "duration": 0,
    "start_time": "2024-05-15T09:57:36.412Z"
   },
   {
    "duration": 0,
    "start_time": "2024-05-15T09:57:36.413Z"
   },
   {
    "duration": 0,
    "start_time": "2024-05-15T09:57:36.414Z"
   },
   {
    "duration": 0,
    "start_time": "2024-05-15T09:57:36.415Z"
   },
   {
    "duration": 0,
    "start_time": "2024-05-15T09:57:36.416Z"
   },
   {
    "duration": 0,
    "start_time": "2024-05-15T09:57:36.417Z"
   },
   {
    "duration": 0,
    "start_time": "2024-05-15T09:57:36.418Z"
   },
   {
    "duration": 0,
    "start_time": "2024-05-15T09:57:36.419Z"
   },
   {
    "duration": 0,
    "start_time": "2024-05-15T09:57:36.420Z"
   },
   {
    "duration": 0,
    "start_time": "2024-05-15T09:57:36.421Z"
   },
   {
    "duration": 1,
    "start_time": "2024-05-15T09:57:36.422Z"
   },
   {
    "duration": 0,
    "start_time": "2024-05-15T09:57:36.424Z"
   },
   {
    "duration": 0,
    "start_time": "2024-05-15T09:57:36.425Z"
   },
   {
    "duration": 0,
    "start_time": "2024-05-15T09:57:36.426Z"
   },
   {
    "duration": 0,
    "start_time": "2024-05-15T09:57:36.427Z"
   },
   {
    "duration": 0,
    "start_time": "2024-05-15T09:57:36.459Z"
   },
   {
    "duration": 0,
    "start_time": "2024-05-15T09:57:36.460Z"
   },
   {
    "duration": 0,
    "start_time": "2024-05-15T09:57:36.461Z"
   },
   {
    "duration": 0,
    "start_time": "2024-05-15T09:57:36.463Z"
   },
   {
    "duration": 0,
    "start_time": "2024-05-15T09:57:36.464Z"
   },
   {
    "duration": 0,
    "start_time": "2024-05-15T09:57:36.465Z"
   },
   {
    "duration": 0,
    "start_time": "2024-05-15T09:57:36.466Z"
   },
   {
    "duration": 0,
    "start_time": "2024-05-15T09:57:36.467Z"
   },
   {
    "duration": 0,
    "start_time": "2024-05-15T09:57:36.468Z"
   },
   {
    "duration": 0,
    "start_time": "2024-05-15T09:57:36.469Z"
   },
   {
    "duration": 0,
    "start_time": "2024-05-15T09:57:36.471Z"
   },
   {
    "duration": 0,
    "start_time": "2024-05-15T09:57:36.472Z"
   },
   {
    "duration": 0,
    "start_time": "2024-05-15T09:57:36.473Z"
   },
   {
    "duration": 0,
    "start_time": "2024-05-15T09:57:36.474Z"
   },
   {
    "duration": 0,
    "start_time": "2024-05-15T09:57:36.475Z"
   },
   {
    "duration": 0,
    "start_time": "2024-05-15T09:57:36.476Z"
   },
   {
    "duration": 0,
    "start_time": "2024-05-15T09:57:36.477Z"
   },
   {
    "duration": 0,
    "start_time": "2024-05-15T09:57:36.478Z"
   },
   {
    "duration": 1,
    "start_time": "2024-05-15T09:57:36.479Z"
   },
   {
    "duration": 0,
    "start_time": "2024-05-15T09:57:36.481Z"
   },
   {
    "duration": 0,
    "start_time": "2024-05-15T09:57:36.482Z"
   },
   {
    "duration": 0,
    "start_time": "2024-05-15T09:57:36.483Z"
   },
   {
    "duration": 0,
    "start_time": "2024-05-15T09:57:36.484Z"
   },
   {
    "duration": 0,
    "start_time": "2024-05-15T09:57:36.485Z"
   },
   {
    "duration": 0,
    "start_time": "2024-05-15T09:57:36.486Z"
   },
   {
    "duration": 0,
    "start_time": "2024-05-15T09:57:36.487Z"
   },
   {
    "duration": 0,
    "start_time": "2024-05-15T09:57:36.487Z"
   },
   {
    "duration": 0,
    "start_time": "2024-05-15T09:57:36.488Z"
   },
   {
    "duration": 0,
    "start_time": "2024-05-15T09:57:36.489Z"
   },
   {
    "duration": 0,
    "start_time": "2024-05-15T09:57:36.490Z"
   },
   {
    "duration": 20,
    "start_time": "2024-05-15T09:58:20.910Z"
   },
   {
    "duration": 59,
    "start_time": "2024-05-15T10:08:13.181Z"
   },
   {
    "duration": 1258,
    "start_time": "2024-05-15T10:09:55.006Z"
   },
   {
    "duration": 11,
    "start_time": "2024-05-15T10:13:22.680Z"
   },
   {
    "duration": 10,
    "start_time": "2024-05-15T10:13:28.965Z"
   },
   {
    "duration": 1227,
    "start_time": "2024-05-15T10:14:19.057Z"
   },
   {
    "duration": 59,
    "start_time": "2024-05-15T10:14:20.286Z"
   },
   {
    "duration": 18,
    "start_time": "2024-05-15T10:14:20.347Z"
   },
   {
    "duration": 32,
    "start_time": "2024-05-15T10:14:20.367Z"
   },
   {
    "duration": 53,
    "start_time": "2024-05-15T10:14:20.402Z"
   },
   {
    "duration": 71,
    "start_time": "2024-05-15T10:14:20.457Z"
   },
   {
    "duration": 18,
    "start_time": "2024-05-15T10:14:20.530Z"
   },
   {
    "duration": 51,
    "start_time": "2024-05-15T10:14:20.553Z"
   },
   {
    "duration": 17,
    "start_time": "2024-05-15T10:14:20.606Z"
   },
   {
    "duration": 24,
    "start_time": "2024-05-15T10:14:20.624Z"
   },
   {
    "duration": 12,
    "start_time": "2024-05-15T10:14:20.650Z"
   },
   {
    "duration": 30,
    "start_time": "2024-05-15T10:14:20.663Z"
   },
   {
    "duration": 26,
    "start_time": "2024-05-15T10:14:20.695Z"
   },
   {
    "duration": 49,
    "start_time": "2024-05-15T10:14:20.724Z"
   },
   {
    "duration": 64,
    "start_time": "2024-05-15T10:14:20.774Z"
   },
   {
    "duration": 13,
    "start_time": "2024-05-15T10:14:20.840Z"
   },
   {
    "duration": 39,
    "start_time": "2024-05-15T10:14:20.854Z"
   },
   {
    "duration": 68,
    "start_time": "2024-05-15T10:14:20.895Z"
   },
   {
    "duration": 33,
    "start_time": "2024-05-15T10:14:20.964Z"
   },
   {
    "duration": 42,
    "start_time": "2024-05-15T10:14:20.998Z"
   },
   {
    "duration": 120,
    "start_time": "2024-05-15T10:14:21.042Z"
   },
   {
    "duration": 0,
    "start_time": "2024-05-15T10:14:21.165Z"
   },
   {
    "duration": 0,
    "start_time": "2024-05-15T10:14:21.166Z"
   },
   {
    "duration": 0,
    "start_time": "2024-05-15T10:14:21.168Z"
   },
   {
    "duration": 0,
    "start_time": "2024-05-15T10:14:21.169Z"
   },
   {
    "duration": 0,
    "start_time": "2024-05-15T10:14:21.170Z"
   },
   {
    "duration": 0,
    "start_time": "2024-05-15T10:14:21.172Z"
   },
   {
    "duration": 0,
    "start_time": "2024-05-15T10:14:21.173Z"
   },
   {
    "duration": 0,
    "start_time": "2024-05-15T10:14:21.175Z"
   },
   {
    "duration": 0,
    "start_time": "2024-05-15T10:14:21.176Z"
   },
   {
    "duration": 0,
    "start_time": "2024-05-15T10:14:21.178Z"
   },
   {
    "duration": 0,
    "start_time": "2024-05-15T10:14:21.179Z"
   },
   {
    "duration": 0,
    "start_time": "2024-05-15T10:14:21.181Z"
   },
   {
    "duration": 0,
    "start_time": "2024-05-15T10:14:21.182Z"
   },
   {
    "duration": 0,
    "start_time": "2024-05-15T10:14:21.183Z"
   },
   {
    "duration": 0,
    "start_time": "2024-05-15T10:14:21.185Z"
   },
   {
    "duration": 0,
    "start_time": "2024-05-15T10:14:21.187Z"
   },
   {
    "duration": 0,
    "start_time": "2024-05-15T10:14:21.188Z"
   },
   {
    "duration": 0,
    "start_time": "2024-05-15T10:14:21.190Z"
   },
   {
    "duration": 0,
    "start_time": "2024-05-15T10:14:21.191Z"
   },
   {
    "duration": 0,
    "start_time": "2024-05-15T10:14:21.192Z"
   },
   {
    "duration": 0,
    "start_time": "2024-05-15T10:14:21.193Z"
   },
   {
    "duration": 0,
    "start_time": "2024-05-15T10:14:21.195Z"
   },
   {
    "duration": 0,
    "start_time": "2024-05-15T10:14:21.196Z"
   },
   {
    "duration": 0,
    "start_time": "2024-05-15T10:14:21.198Z"
   },
   {
    "duration": 0,
    "start_time": "2024-05-15T10:14:21.200Z"
   },
   {
    "duration": 0,
    "start_time": "2024-05-15T10:14:21.201Z"
   },
   {
    "duration": 0,
    "start_time": "2024-05-15T10:14:21.259Z"
   },
   {
    "duration": 0,
    "start_time": "2024-05-15T10:14:21.260Z"
   },
   {
    "duration": 0,
    "start_time": "2024-05-15T10:14:21.261Z"
   },
   {
    "duration": 0,
    "start_time": "2024-05-15T10:14:21.262Z"
   },
   {
    "duration": 0,
    "start_time": "2024-05-15T10:14:21.263Z"
   },
   {
    "duration": 0,
    "start_time": "2024-05-15T10:14:21.264Z"
   },
   {
    "duration": 0,
    "start_time": "2024-05-15T10:14:21.264Z"
   },
   {
    "duration": 0,
    "start_time": "2024-05-15T10:14:21.265Z"
   },
   {
    "duration": 12,
    "start_time": "2024-05-15T10:19:46.995Z"
   },
   {
    "duration": 12,
    "start_time": "2024-05-15T10:20:06.653Z"
   },
   {
    "duration": 4,
    "start_time": "2024-05-15T10:20:27.677Z"
   },
   {
    "duration": 17,
    "start_time": "2024-05-15T10:20:37.481Z"
   },
   {
    "duration": 1226,
    "start_time": "2024-05-15T10:22:22.233Z"
   },
   {
    "duration": 64,
    "start_time": "2024-05-15T10:22:23.461Z"
   },
   {
    "duration": 25,
    "start_time": "2024-05-15T10:22:23.527Z"
   },
   {
    "duration": 20,
    "start_time": "2024-05-15T10:22:23.554Z"
   },
   {
    "duration": 46,
    "start_time": "2024-05-15T10:22:23.577Z"
   },
   {
    "duration": 22,
    "start_time": "2024-05-15T10:22:23.625Z"
   },
   {
    "duration": 24,
    "start_time": "2024-05-15T10:22:23.649Z"
   },
   {
    "duration": 18,
    "start_time": "2024-05-15T10:22:23.674Z"
   },
   {
    "duration": 21,
    "start_time": "2024-05-15T10:22:23.694Z"
   },
   {
    "duration": 10,
    "start_time": "2024-05-15T10:22:23.716Z"
   },
   {
    "duration": 34,
    "start_time": "2024-05-15T10:22:23.728Z"
   },
   {
    "duration": 25,
    "start_time": "2024-05-15T10:22:23.763Z"
   },
   {
    "duration": 14,
    "start_time": "2024-05-15T10:22:23.789Z"
   },
   {
    "duration": 42,
    "start_time": "2024-05-15T10:22:23.806Z"
   },
   {
    "duration": 59,
    "start_time": "2024-05-15T10:22:23.849Z"
   },
   {
    "duration": 33,
    "start_time": "2024-05-15T10:22:23.910Z"
   },
   {
    "duration": 31,
    "start_time": "2024-05-15T10:22:23.945Z"
   },
   {
    "duration": 28,
    "start_time": "2024-05-15T10:22:23.978Z"
   },
   {
    "duration": 30,
    "start_time": "2024-05-15T10:22:24.008Z"
   },
   {
    "duration": 19,
    "start_time": "2024-05-15T10:22:24.039Z"
   },
   {
    "duration": 46,
    "start_time": "2024-05-15T10:22:24.060Z"
   },
   {
    "duration": 66,
    "start_time": "2024-05-15T10:22:24.108Z"
   },
   {
    "duration": 52,
    "start_time": "2024-05-15T10:22:24.176Z"
   },
   {
    "duration": 83,
    "start_time": "2024-05-15T10:22:24.230Z"
   },
   {
    "duration": 17,
    "start_time": "2024-05-15T10:22:24.314Z"
   },
   {
    "duration": 432,
    "start_time": "2024-05-15T10:22:24.332Z"
   },
   {
    "duration": 6,
    "start_time": "2024-05-15T10:22:24.766Z"
   },
   {
    "duration": 358,
    "start_time": "2024-05-15T10:22:24.774Z"
   },
   {
    "duration": 25,
    "start_time": "2024-05-15T10:22:25.134Z"
   },
   {
    "duration": 315,
    "start_time": "2024-05-15T10:22:25.161Z"
   },
   {
    "duration": 27,
    "start_time": "2024-05-15T10:22:25.478Z"
   },
   {
    "duration": 14,
    "start_time": "2024-05-15T10:22:25.507Z"
   },
   {
    "duration": 41,
    "start_time": "2024-05-15T10:22:25.522Z"
   },
   {
    "duration": 35,
    "start_time": "2024-05-15T10:22:25.564Z"
   },
   {
    "duration": 50,
    "start_time": "2024-05-15T10:22:25.600Z"
   },
   {
    "duration": 321,
    "start_time": "2024-05-15T10:22:25.652Z"
   },
   {
    "duration": 364,
    "start_time": "2024-05-15T10:22:25.975Z"
   },
   {
    "duration": 22,
    "start_time": "2024-05-15T10:22:26.340Z"
   },
   {
    "duration": 255,
    "start_time": "2024-05-15T10:22:26.365Z"
   },
   {
    "duration": 172,
    "start_time": "2024-05-15T10:22:26.622Z"
   },
   {
    "duration": 174,
    "start_time": "2024-05-15T10:22:26.798Z"
   },
   {
    "duration": 172,
    "start_time": "2024-05-15T10:22:26.974Z"
   },
   {
    "duration": 200,
    "start_time": "2024-05-15T10:22:27.148Z"
   },
   {
    "duration": 190,
    "start_time": "2024-05-15T10:22:27.350Z"
   },
   {
    "duration": 263,
    "start_time": "2024-05-15T10:22:27.541Z"
   },
   {
    "duration": 15,
    "start_time": "2024-05-15T10:22:27.806Z"
   },
   {
    "duration": 37,
    "start_time": "2024-05-15T10:22:27.823Z"
   },
   {
    "duration": 18,
    "start_time": "2024-05-15T10:22:27.862Z"
   },
   {
    "duration": 18,
    "start_time": "2024-05-15T10:22:27.882Z"
   },
   {
    "duration": 15,
    "start_time": "2024-05-15T10:22:27.902Z"
   },
   {
    "duration": 41,
    "start_time": "2024-05-15T10:22:27.920Z"
   },
   {
    "duration": 15,
    "start_time": "2024-05-15T10:22:27.964Z"
   },
   {
    "duration": 14,
    "start_time": "2024-05-15T10:22:27.980Z"
   },
   {
    "duration": 18,
    "start_time": "2024-05-15T10:22:27.995Z"
   },
   {
    "duration": 18,
    "start_time": "2024-05-15T10:22:28.014Z"
   },
   {
    "duration": 13,
    "start_time": "2024-05-15T10:22:28.059Z"
   },
   {
    "duration": 8,
    "start_time": "2024-05-15T10:23:50.161Z"
   },
   {
    "duration": 1233,
    "start_time": "2024-05-15T10:23:54.526Z"
   },
   {
    "duration": 57,
    "start_time": "2024-05-15T10:23:55.760Z"
   },
   {
    "duration": 17,
    "start_time": "2024-05-15T10:23:55.819Z"
   },
   {
    "duration": 33,
    "start_time": "2024-05-15T10:23:55.838Z"
   },
   {
    "duration": 17,
    "start_time": "2024-05-15T10:23:55.873Z"
   },
   {
    "duration": 24,
    "start_time": "2024-05-15T10:23:55.892Z"
   },
   {
    "duration": 44,
    "start_time": "2024-05-15T10:23:55.918Z"
   },
   {
    "duration": 15,
    "start_time": "2024-05-15T10:23:55.964Z"
   },
   {
    "duration": 15,
    "start_time": "2024-05-15T10:23:55.981Z"
   },
   {
    "duration": 13,
    "start_time": "2024-05-15T10:23:55.999Z"
   },
   {
    "duration": 15,
    "start_time": "2024-05-15T10:23:56.013Z"
   },
   {
    "duration": 29,
    "start_time": "2024-05-15T10:23:56.030Z"
   },
   {
    "duration": 12,
    "start_time": "2024-05-15T10:23:56.061Z"
   },
   {
    "duration": 7,
    "start_time": "2024-05-15T10:23:56.075Z"
   },
   {
    "duration": 31,
    "start_time": "2024-05-15T10:23:56.084Z"
   },
   {
    "duration": 4,
    "start_time": "2024-05-15T10:23:56.117Z"
   },
   {
    "duration": 24,
    "start_time": "2024-05-15T10:23:56.122Z"
   },
   {
    "duration": 5,
    "start_time": "2024-05-15T10:23:56.158Z"
   },
   {
    "duration": 31,
    "start_time": "2024-05-15T10:23:56.164Z"
   },
   {
    "duration": 19,
    "start_time": "2024-05-15T10:23:56.197Z"
   },
   {
    "duration": 32,
    "start_time": "2024-05-15T10:23:56.217Z"
   },
   {
    "duration": 14,
    "start_time": "2024-05-15T10:23:56.251Z"
   },
   {
    "duration": 5,
    "start_time": "2024-05-15T10:23:56.266Z"
   },
   {
    "duration": 45,
    "start_time": "2024-05-15T10:23:56.272Z"
   },
   {
    "duration": 18,
    "start_time": "2024-05-15T10:23:56.318Z"
   },
   {
    "duration": 404,
    "start_time": "2024-05-15T10:23:56.338Z"
   },
   {
    "duration": 16,
    "start_time": "2024-05-15T10:23:56.744Z"
   },
   {
    "duration": 338,
    "start_time": "2024-05-15T10:23:56.764Z"
   },
   {
    "duration": 14,
    "start_time": "2024-05-15T10:23:57.104Z"
   },
   {
    "duration": 339,
    "start_time": "2024-05-15T10:23:57.120Z"
   },
   {
    "duration": 30,
    "start_time": "2024-05-15T10:23:57.461Z"
   },
   {
    "duration": 5,
    "start_time": "2024-05-15T10:23:57.493Z"
   },
   {
    "duration": 29,
    "start_time": "2024-05-15T10:23:57.499Z"
   },
   {
    "duration": 24,
    "start_time": "2024-05-15T10:23:57.530Z"
   },
   {
    "duration": 27,
    "start_time": "2024-05-15T10:23:57.558Z"
   },
   {
    "duration": 314,
    "start_time": "2024-05-15T10:23:57.587Z"
   },
   {
    "duration": 330,
    "start_time": "2024-05-15T10:23:57.903Z"
   },
   {
    "duration": 8,
    "start_time": "2024-05-15T10:23:58.234Z"
   },
   {
    "duration": 251,
    "start_time": "2024-05-15T10:23:58.243Z"
   },
   {
    "duration": 189,
    "start_time": "2024-05-15T10:23:58.495Z"
   },
   {
    "duration": 176,
    "start_time": "2024-05-15T10:23:58.686Z"
   },
   {
    "duration": 178,
    "start_time": "2024-05-15T10:23:58.864Z"
   },
   {
    "duration": 184,
    "start_time": "2024-05-15T10:23:59.043Z"
   },
   {
    "duration": 168,
    "start_time": "2024-05-15T10:23:59.229Z"
   },
   {
    "duration": 256,
    "start_time": "2024-05-15T10:23:59.399Z"
   },
   {
    "duration": 14,
    "start_time": "2024-05-15T10:23:59.658Z"
   },
   {
    "duration": 14,
    "start_time": "2024-05-15T10:23:59.674Z"
   },
   {
    "duration": 11,
    "start_time": "2024-05-15T10:23:59.689Z"
   },
   {
    "duration": 16,
    "start_time": "2024-05-15T10:23:59.702Z"
   },
   {
    "duration": 45,
    "start_time": "2024-05-15T10:23:59.720Z"
   },
   {
    "duration": 10,
    "start_time": "2024-05-15T10:23:59.766Z"
   },
   {
    "duration": 14,
    "start_time": "2024-05-15T10:23:59.778Z"
   },
   {
    "duration": 12,
    "start_time": "2024-05-15T10:23:59.794Z"
   },
   {
    "duration": 9,
    "start_time": "2024-05-15T10:23:59.807Z"
   },
   {
    "duration": 50,
    "start_time": "2024-05-15T10:23:59.818Z"
   },
   {
    "duration": 22,
    "start_time": "2024-05-15T10:23:59.870Z"
   },
   {
    "duration": 6,
    "start_time": "2024-05-15T10:28:22.948Z"
   },
   {
    "duration": 14,
    "start_time": "2024-05-15T10:28:24.953Z"
   },
   {
    "duration": 278,
    "start_time": "2024-05-15T10:28:28.593Z"
   },
   {
    "duration": 6,
    "start_time": "2024-05-15T10:29:06.669Z"
   },
   {
    "duration": 14,
    "start_time": "2024-05-15T10:29:09.132Z"
   },
   {
    "duration": 286,
    "start_time": "2024-05-15T10:29:13.555Z"
   },
   {
    "duration": 395,
    "start_time": "2024-05-15T10:29:28.451Z"
   },
   {
    "duration": 6,
    "start_time": "2024-05-15T10:29:55.531Z"
   },
   {
    "duration": 304,
    "start_time": "2024-05-15T10:29:58.173Z"
   },
   {
    "duration": 7,
    "start_time": "2024-05-15T10:30:10.976Z"
   },
   {
    "duration": 13,
    "start_time": "2024-05-15T10:30:21.662Z"
   },
   {
    "duration": 7,
    "start_time": "2024-05-15T10:30:38.599Z"
   },
   {
    "duration": 336,
    "start_time": "2024-05-15T10:30:40.985Z"
   },
   {
    "duration": 292,
    "start_time": "2024-05-15T10:30:48.900Z"
   },
   {
    "duration": 284,
    "start_time": "2024-05-15T10:30:52.880Z"
   },
   {
    "duration": 321,
    "start_time": "2024-05-15T10:31:04.971Z"
   },
   {
    "duration": 373,
    "start_time": "2024-05-15T10:33:05.191Z"
   },
   {
    "duration": 291,
    "start_time": "2024-05-15T10:33:29.605Z"
   },
   {
    "duration": 318,
    "start_time": "2024-05-15T10:33:33.562Z"
   },
   {
    "duration": 298,
    "start_time": "2024-05-15T10:33:37.897Z"
   },
   {
    "duration": 288,
    "start_time": "2024-05-15T10:34:53.225Z"
   },
   {
    "duration": 298,
    "start_time": "2024-05-15T10:35:04.032Z"
   },
   {
    "duration": 6,
    "start_time": "2024-05-15T10:35:10.448Z"
   },
   {
    "duration": 13,
    "start_time": "2024-05-15T10:35:13.365Z"
   },
   {
    "duration": 412,
    "start_time": "2024-05-15T10:35:15.320Z"
   },
   {
    "duration": 324,
    "start_time": "2024-05-15T10:35:23.288Z"
   },
   {
    "duration": 297,
    "start_time": "2024-05-15T10:35:48.552Z"
   },
   {
    "duration": 287,
    "start_time": "2024-05-15T10:35:55.717Z"
   },
   {
    "duration": 159,
    "start_time": "2024-05-15T10:46:28.835Z"
   },
   {
    "duration": 158,
    "start_time": "2024-05-15T10:47:49.810Z"
   },
   {
    "duration": 191,
    "start_time": "2024-05-15T10:51:21.422Z"
   },
   {
    "duration": 167,
    "start_time": "2024-05-15T10:51:29.696Z"
   },
   {
    "duration": 247,
    "start_time": "2024-05-15T10:53:44.570Z"
   },
   {
    "duration": 164,
    "start_time": "2024-05-15T10:54:39.421Z"
   },
   {
    "duration": 149,
    "start_time": "2024-05-15T10:55:53.599Z"
   },
   {
    "duration": 138,
    "start_time": "2024-05-15T10:56:20.545Z"
   },
   {
    "duration": 172,
    "start_time": "2024-05-15T10:57:28.463Z"
   },
   {
    "duration": 1160,
    "start_time": "2024-05-15T10:57:45.192Z"
   },
   {
    "duration": 57,
    "start_time": "2024-05-15T10:57:46.354Z"
   },
   {
    "duration": 17,
    "start_time": "2024-05-15T10:57:46.413Z"
   },
   {
    "duration": 19,
    "start_time": "2024-05-15T10:57:46.432Z"
   },
   {
    "duration": 31,
    "start_time": "2024-05-15T10:57:46.458Z"
   },
   {
    "duration": 31,
    "start_time": "2024-05-15T10:57:46.491Z"
   },
   {
    "duration": 30,
    "start_time": "2024-05-15T10:57:46.524Z"
   },
   {
    "duration": 18,
    "start_time": "2024-05-15T10:57:46.556Z"
   },
   {
    "duration": 15,
    "start_time": "2024-05-15T10:57:46.576Z"
   },
   {
    "duration": 19,
    "start_time": "2024-05-15T10:57:46.592Z"
   },
   {
    "duration": 5,
    "start_time": "2024-05-15T10:57:46.612Z"
   },
   {
    "duration": 3,
    "start_time": "2024-05-15T10:57:46.619Z"
   },
   {
    "duration": 7,
    "start_time": "2024-05-15T10:57:46.624Z"
   },
   {
    "duration": 25,
    "start_time": "2024-05-15T10:57:46.634Z"
   },
   {
    "duration": 31,
    "start_time": "2024-05-15T10:57:46.661Z"
   },
   {
    "duration": 4,
    "start_time": "2024-05-15T10:57:46.694Z"
   },
   {
    "duration": 12,
    "start_time": "2024-05-15T10:57:46.699Z"
   },
   {
    "duration": 13,
    "start_time": "2024-05-15T10:57:46.712Z"
   },
   {
    "duration": 14,
    "start_time": "2024-05-15T10:57:46.727Z"
   },
   {
    "duration": 24,
    "start_time": "2024-05-15T10:57:46.743Z"
   },
   {
    "duration": 12,
    "start_time": "2024-05-15T10:57:46.769Z"
   },
   {
    "duration": 13,
    "start_time": "2024-05-15T10:57:46.783Z"
   },
   {
    "duration": 9,
    "start_time": "2024-05-15T10:57:46.798Z"
   },
   {
    "duration": 51,
    "start_time": "2024-05-15T10:57:46.808Z"
   },
   {
    "duration": 2,
    "start_time": "2024-05-15T10:57:46.861Z"
   },
   {
    "duration": 413,
    "start_time": "2024-05-15T10:57:46.865Z"
   },
   {
    "duration": 6,
    "start_time": "2024-05-15T10:57:47.279Z"
   },
   {
    "duration": 311,
    "start_time": "2024-05-15T10:57:47.287Z"
   },
   {
    "duration": 14,
    "start_time": "2024-05-15T10:57:47.600Z"
   },
   {
    "duration": 334,
    "start_time": "2024-05-15T10:57:47.616Z"
   },
   {
    "duration": 29,
    "start_time": "2024-05-15T10:57:47.952Z"
   },
   {
    "duration": 4,
    "start_time": "2024-05-15T10:57:47.983Z"
   },
   {
    "duration": 19,
    "start_time": "2024-05-15T10:57:47.988Z"
   },
   {
    "duration": 28,
    "start_time": "2024-05-15T10:57:48.009Z"
   },
   {
    "duration": 46,
    "start_time": "2024-05-15T10:57:48.039Z"
   },
   {
    "duration": 319,
    "start_time": "2024-05-15T10:57:48.087Z"
   },
   {
    "duration": 294,
    "start_time": "2024-05-15T10:57:48.408Z"
   },
   {
    "duration": 8,
    "start_time": "2024-05-15T10:57:48.704Z"
   },
   {
    "duration": 272,
    "start_time": "2024-05-15T10:57:48.713Z"
   },
   {
    "duration": 182,
    "start_time": "2024-05-15T10:57:48.986Z"
   },
   {
    "duration": 187,
    "start_time": "2024-05-15T10:57:49.172Z"
   },
   {
    "duration": 178,
    "start_time": "2024-05-15T10:57:49.361Z"
   },
   {
    "duration": 179,
    "start_time": "2024-05-15T10:57:49.541Z"
   },
   {
    "duration": 170,
    "start_time": "2024-05-15T10:57:49.722Z"
   },
   {
    "duration": 248,
    "start_time": "2024-05-15T10:57:49.894Z"
   },
   {
    "duration": 23,
    "start_time": "2024-05-15T10:57:50.144Z"
   },
   {
    "duration": 24,
    "start_time": "2024-05-15T10:57:50.168Z"
   },
   {
    "duration": 11,
    "start_time": "2024-05-15T10:57:50.193Z"
   },
   {
    "duration": 34,
    "start_time": "2024-05-15T10:57:50.206Z"
   },
   {
    "duration": 20,
    "start_time": "2024-05-15T10:57:50.242Z"
   },
   {
    "duration": 12,
    "start_time": "2024-05-15T10:57:50.264Z"
   },
   {
    "duration": 26,
    "start_time": "2024-05-15T10:57:50.278Z"
   },
   {
    "duration": 18,
    "start_time": "2024-05-15T10:57:50.305Z"
   },
   {
    "duration": 40,
    "start_time": "2024-05-15T10:57:50.325Z"
   },
   {
    "duration": 22,
    "start_time": "2024-05-15T10:57:50.367Z"
   },
   {
    "duration": 20,
    "start_time": "2024-05-15T10:57:50.391Z"
   },
   {
    "duration": 154,
    "start_time": "2024-05-15T10:59:50.086Z"
   },
   {
    "duration": 178,
    "start_time": "2024-05-15T11:01:16.601Z"
   },
   {
    "duration": 172,
    "start_time": "2024-05-15T11:01:56.120Z"
   },
   {
    "duration": 157,
    "start_time": "2024-05-15T11:02:18.485Z"
   },
   {
    "duration": 262,
    "start_time": "2024-05-15T11:02:26.280Z"
   },
   {
    "duration": 168,
    "start_time": "2024-05-15T11:02:38.328Z"
   },
   {
    "duration": 165,
    "start_time": "2024-05-15T11:02:48.981Z"
   },
   {
    "duration": 170,
    "start_time": "2024-05-15T11:03:23.175Z"
   },
   {
    "duration": 1359,
    "start_time": "2024-05-15T14:28:09.714Z"
   },
   {
    "duration": 199,
    "start_time": "2024-05-15T14:28:11.075Z"
   },
   {
    "duration": 18,
    "start_time": "2024-05-15T14:28:11.276Z"
   },
   {
    "duration": 22,
    "start_time": "2024-05-15T14:28:11.297Z"
   },
   {
    "duration": 27,
    "start_time": "2024-05-15T14:28:11.321Z"
   },
   {
    "duration": 46,
    "start_time": "2024-05-15T14:28:11.350Z"
   },
   {
    "duration": 18,
    "start_time": "2024-05-15T14:28:11.397Z"
   },
   {
    "duration": 23,
    "start_time": "2024-05-15T14:28:11.417Z"
   },
   {
    "duration": 38,
    "start_time": "2024-05-15T14:28:11.442Z"
   },
   {
    "duration": 9,
    "start_time": "2024-05-15T14:28:11.483Z"
   },
   {
    "duration": 6,
    "start_time": "2024-05-15T14:28:11.494Z"
   },
   {
    "duration": 4,
    "start_time": "2024-05-15T14:28:11.502Z"
   },
   {
    "duration": 7,
    "start_time": "2024-05-15T14:28:11.508Z"
   },
   {
    "duration": 12,
    "start_time": "2024-05-15T14:28:11.516Z"
   },
   {
    "duration": 54,
    "start_time": "2024-05-15T14:28:11.529Z"
   },
   {
    "duration": 4,
    "start_time": "2024-05-15T14:28:11.584Z"
   },
   {
    "duration": 17,
    "start_time": "2024-05-15T14:28:11.590Z"
   },
   {
    "duration": 13,
    "start_time": "2024-05-15T14:28:11.608Z"
   },
   {
    "duration": 15,
    "start_time": "2024-05-15T14:28:11.623Z"
   },
   {
    "duration": 18,
    "start_time": "2024-05-15T14:28:11.639Z"
   },
   {
    "duration": 27,
    "start_time": "2024-05-15T14:28:11.659Z"
   },
   {
    "duration": 16,
    "start_time": "2024-05-15T14:28:11.687Z"
   },
   {
    "duration": 5,
    "start_time": "2024-05-15T14:28:11.705Z"
   },
   {
    "duration": 31,
    "start_time": "2024-05-15T14:28:11.711Z"
   },
   {
    "duration": 11,
    "start_time": "2024-05-15T14:28:11.743Z"
   },
   {
    "duration": 433,
    "start_time": "2024-05-15T14:28:11.755Z"
   },
   {
    "duration": 8,
    "start_time": "2024-05-15T14:28:12.189Z"
   },
   {
    "duration": 302,
    "start_time": "2024-05-15T14:28:12.201Z"
   },
   {
    "duration": 14,
    "start_time": "2024-05-15T14:28:12.505Z"
   },
   {
    "duration": 366,
    "start_time": "2024-05-15T14:28:12.521Z"
   },
   {
    "duration": 35,
    "start_time": "2024-05-15T14:28:12.890Z"
   },
   {
    "duration": 6,
    "start_time": "2024-05-15T14:28:12.928Z"
   },
   {
    "duration": 11,
    "start_time": "2024-05-15T14:28:12.936Z"
   },
   {
    "duration": 11,
    "start_time": "2024-05-15T14:28:12.949Z"
   },
   {
    "duration": 22,
    "start_time": "2024-05-15T14:28:12.981Z"
   },
   {
    "duration": 339,
    "start_time": "2024-05-15T14:28:13.005Z"
   },
   {
    "duration": 306,
    "start_time": "2024-05-15T14:28:13.345Z"
   },
   {
    "duration": 9,
    "start_time": "2024-05-15T14:28:13.652Z"
   },
   {
    "duration": 270,
    "start_time": "2024-05-15T14:28:13.663Z"
   },
   {
    "duration": 181,
    "start_time": "2024-05-15T14:28:13.935Z"
   },
   {
    "duration": 179,
    "start_time": "2024-05-15T14:28:14.117Z"
   },
   {
    "duration": 172,
    "start_time": "2024-05-15T14:28:14.298Z"
   },
   {
    "duration": 216,
    "start_time": "2024-05-15T14:28:14.472Z"
   },
   {
    "duration": 196,
    "start_time": "2024-05-15T14:28:14.690Z"
   },
   {
    "duration": 235,
    "start_time": "2024-05-15T14:28:14.889Z"
   },
   {
    "duration": 14,
    "start_time": "2024-05-15T14:28:15.125Z"
   },
   {
    "duration": 21,
    "start_time": "2024-05-15T14:28:15.140Z"
   },
   {
    "duration": 28,
    "start_time": "2024-05-15T14:28:15.162Z"
   },
   {
    "duration": 57,
    "start_time": "2024-05-15T14:28:15.192Z"
   },
   {
    "duration": 43,
    "start_time": "2024-05-15T14:28:15.251Z"
   },
   {
    "duration": 16,
    "start_time": "2024-05-15T14:28:15.296Z"
   },
   {
    "duration": 52,
    "start_time": "2024-05-15T14:28:15.314Z"
   },
   {
    "duration": 39,
    "start_time": "2024-05-15T14:28:15.368Z"
   },
   {
    "duration": 36,
    "start_time": "2024-05-15T14:28:15.409Z"
   },
   {
    "duration": 21,
    "start_time": "2024-05-15T14:28:15.447Z"
   },
   {
    "duration": 28,
    "start_time": "2024-05-15T14:28:15.470Z"
   },
   {
    "duration": 11,
    "start_time": "2024-05-15T14:29:03.920Z"
   },
   {
    "duration": 12,
    "start_time": "2024-05-15T14:29:19.035Z"
   },
   {
    "duration": 1255,
    "start_time": "2024-05-15T14:29:37.222Z"
   },
   {
    "duration": 56,
    "start_time": "2024-05-15T14:29:38.479Z"
   },
   {
    "duration": 24,
    "start_time": "2024-05-15T14:29:38.537Z"
   },
   {
    "duration": 20,
    "start_time": "2024-05-15T14:29:38.562Z"
   },
   {
    "duration": 25,
    "start_time": "2024-05-15T14:29:38.585Z"
   },
   {
    "duration": 27,
    "start_time": "2024-05-15T14:29:38.612Z"
   },
   {
    "duration": 19,
    "start_time": "2024-05-15T14:29:38.640Z"
   },
   {
    "duration": 40,
    "start_time": "2024-05-15T14:29:38.661Z"
   },
   {
    "duration": 16,
    "start_time": "2024-05-15T14:29:38.702Z"
   },
   {
    "duration": 13,
    "start_time": "2024-05-15T14:29:38.720Z"
   },
   {
    "duration": 9,
    "start_time": "2024-05-15T14:29:38.735Z"
   },
   {
    "duration": 4,
    "start_time": "2024-05-15T14:29:38.748Z"
   },
   {
    "duration": 26,
    "start_time": "2024-05-15T14:29:38.754Z"
   },
   {
    "duration": 6,
    "start_time": "2024-05-15T14:29:38.785Z"
   },
   {
    "duration": 43,
    "start_time": "2024-05-15T14:29:38.793Z"
   },
   {
    "duration": 4,
    "start_time": "2024-05-15T14:29:38.838Z"
   },
   {
    "duration": 9,
    "start_time": "2024-05-15T14:29:38.844Z"
   },
   {
    "duration": 8,
    "start_time": "2024-05-15T14:29:38.855Z"
   },
   {
    "duration": 15,
    "start_time": "2024-05-15T14:29:38.879Z"
   },
   {
    "duration": 20,
    "start_time": "2024-05-15T14:29:38.895Z"
   },
   {
    "duration": 12,
    "start_time": "2024-05-15T14:29:38.916Z"
   },
   {
    "duration": 14,
    "start_time": "2024-05-15T14:29:38.930Z"
   },
   {
    "duration": 6,
    "start_time": "2024-05-15T14:29:38.945Z"
   },
   {
    "duration": 36,
    "start_time": "2024-05-15T14:29:38.952Z"
   },
   {
    "duration": 7,
    "start_time": "2024-05-15T14:29:38.989Z"
   },
   {
    "duration": 412,
    "start_time": "2024-05-15T14:29:38.998Z"
   },
   {
    "duration": 7,
    "start_time": "2024-05-15T14:29:39.412Z"
   },
   {
    "duration": 306,
    "start_time": "2024-05-15T14:29:39.420Z"
   },
   {
    "duration": 13,
    "start_time": "2024-05-15T14:29:39.728Z"
   },
   {
    "duration": 390,
    "start_time": "2024-05-15T14:29:39.743Z"
   },
   {
    "duration": 25,
    "start_time": "2024-05-15T14:29:40.135Z"
   },
   {
    "duration": 43,
    "start_time": "2024-05-15T14:29:40.162Z"
   },
   {
    "duration": 46,
    "start_time": "2024-05-15T14:29:40.207Z"
   },
   {
    "duration": 23,
    "start_time": "2024-05-15T14:29:40.255Z"
   },
   {
    "duration": 15,
    "start_time": "2024-05-15T14:29:40.280Z"
   },
   {
    "duration": 338,
    "start_time": "2024-05-15T14:29:40.297Z"
   },
   {
    "duration": 311,
    "start_time": "2024-05-15T14:29:40.637Z"
   },
   {
    "duration": 9,
    "start_time": "2024-05-15T14:29:40.950Z"
   },
   {
    "duration": 277,
    "start_time": "2024-05-15T14:29:40.960Z"
   },
   {
    "duration": 196,
    "start_time": "2024-05-15T14:29:41.240Z"
   },
   {
    "duration": 180,
    "start_time": "2024-05-15T14:29:41.440Z"
   },
   {
    "duration": 185,
    "start_time": "2024-05-15T14:29:41.621Z"
   },
   {
    "duration": 181,
    "start_time": "2024-05-15T14:29:41.808Z"
   },
   {
    "duration": 191,
    "start_time": "2024-05-15T14:29:41.991Z"
   },
   {
    "duration": 239,
    "start_time": "2024-05-15T14:29:42.184Z"
   },
   {
    "duration": 11,
    "start_time": "2024-05-15T14:29:42.425Z"
   },
   {
    "duration": 116,
    "start_time": "2024-05-15T14:29:42.437Z"
   },
   {
    "duration": 0,
    "start_time": "2024-05-15T14:29:42.554Z"
   },
   {
    "duration": 0,
    "start_time": "2024-05-15T14:29:42.556Z"
   },
   {
    "duration": 0,
    "start_time": "2024-05-15T14:29:42.557Z"
   },
   {
    "duration": 0,
    "start_time": "2024-05-15T14:29:42.559Z"
   },
   {
    "duration": 0,
    "start_time": "2024-05-15T14:29:42.560Z"
   },
   {
    "duration": 0,
    "start_time": "2024-05-15T14:29:42.561Z"
   },
   {
    "duration": 0,
    "start_time": "2024-05-15T14:29:42.562Z"
   },
   {
    "duration": 0,
    "start_time": "2024-05-15T14:29:42.563Z"
   },
   {
    "duration": 0,
    "start_time": "2024-05-15T14:29:42.581Z"
   },
   {
    "duration": 0,
    "start_time": "2024-05-15T14:29:42.583Z"
   },
   {
    "duration": 0,
    "start_time": "2024-05-15T14:29:42.584Z"
   },
   {
    "duration": 4,
    "start_time": "2024-05-15T14:30:26.190Z"
   },
   {
    "duration": 11,
    "start_time": "2024-05-15T14:30:43.448Z"
   },
   {
    "duration": 10,
    "start_time": "2024-05-15T14:37:18.483Z"
   },
   {
    "duration": 14,
    "start_time": "2024-05-15T14:37:22.806Z"
   },
   {
    "duration": 14,
    "start_time": "2024-05-15T14:37:56.423Z"
   },
   {
    "duration": 15,
    "start_time": "2024-05-15T14:38:15.796Z"
   },
   {
    "duration": 31,
    "start_time": "2024-05-15T14:40:41.761Z"
   },
   {
    "duration": 13,
    "start_time": "2024-05-15T14:44:08.939Z"
   },
   {
    "duration": 11,
    "start_time": "2024-05-15T14:44:11.788Z"
   },
   {
    "duration": 15,
    "start_time": "2024-05-15T15:00:20.734Z"
   },
   {
    "duration": 8,
    "start_time": "2024-05-15T15:00:31.679Z"
   },
   {
    "duration": 8,
    "start_time": "2024-05-15T15:01:46.007Z"
   },
   {
    "duration": 4,
    "start_time": "2024-05-15T15:01:57.579Z"
   },
   {
    "duration": 10,
    "start_time": "2024-05-15T15:02:05.730Z"
   },
   {
    "duration": 3,
    "start_time": "2024-05-15T15:06:56.559Z"
   },
   {
    "duration": 7,
    "start_time": "2024-05-15T15:07:14.115Z"
   },
   {
    "duration": 13,
    "start_time": "2024-05-15T15:07:21.031Z"
   },
   {
    "duration": 12,
    "start_time": "2024-05-15T15:07:57.465Z"
   },
   {
    "duration": 10,
    "start_time": "2024-05-15T15:08:06.341Z"
   },
   {
    "duration": 10,
    "start_time": "2024-05-15T15:22:00.755Z"
   },
   {
    "duration": 10,
    "start_time": "2024-05-15T15:22:14.607Z"
   },
   {
    "duration": 17,
    "start_time": "2024-05-15T15:25:13.945Z"
   },
   {
    "duration": 30,
    "start_time": "2024-05-15T15:26:39.538Z"
   },
   {
    "duration": 28,
    "start_time": "2024-05-15T15:26:52.099Z"
   },
   {
    "duration": 8,
    "start_time": "2024-05-15T15:26:59.597Z"
   },
   {
    "duration": 45,
    "start_time": "2024-05-15T15:33:09.466Z"
   },
   {
    "duration": 43,
    "start_time": "2024-05-15T15:34:12.642Z"
   },
   {
    "duration": 9,
    "start_time": "2024-05-15T15:35:38.384Z"
   },
   {
    "duration": 437,
    "start_time": "2024-05-15T15:35:53.448Z"
   },
   {
    "duration": 10,
    "start_time": "2024-05-15T15:41:25.456Z"
   },
   {
    "duration": 9,
    "start_time": "2024-05-15T15:42:05.100Z"
   },
   {
    "duration": 541,
    "start_time": "2024-05-15T15:42:12.245Z"
   },
   {
    "duration": 13,
    "start_time": "2024-05-15T15:45:14.150Z"
   },
   {
    "duration": 12,
    "start_time": "2024-05-15T15:46:01.401Z"
   },
   {
    "duration": 1167,
    "start_time": "2024-05-15T15:49:10.116Z"
   },
   {
    "duration": 61,
    "start_time": "2024-05-15T15:49:11.285Z"
   },
   {
    "duration": 20,
    "start_time": "2024-05-15T15:49:11.348Z"
   },
   {
    "duration": 32,
    "start_time": "2024-05-15T15:49:11.371Z"
   },
   {
    "duration": 16,
    "start_time": "2024-05-15T15:49:11.406Z"
   },
   {
    "duration": 19,
    "start_time": "2024-05-15T15:49:11.424Z"
   },
   {
    "duration": 15,
    "start_time": "2024-05-15T15:49:11.445Z"
   },
   {
    "duration": 31,
    "start_time": "2024-05-15T15:49:11.462Z"
   },
   {
    "duration": 17,
    "start_time": "2024-05-15T15:49:11.495Z"
   },
   {
    "duration": 13,
    "start_time": "2024-05-15T15:49:11.514Z"
   },
   {
    "duration": 6,
    "start_time": "2024-05-15T15:49:11.529Z"
   },
   {
    "duration": 9,
    "start_time": "2024-05-15T15:49:11.537Z"
   },
   {
    "duration": 33,
    "start_time": "2024-05-15T15:49:11.548Z"
   },
   {
    "duration": 9,
    "start_time": "2024-05-15T15:49:11.585Z"
   },
   {
    "duration": 39,
    "start_time": "2024-05-15T15:49:11.596Z"
   },
   {
    "duration": 4,
    "start_time": "2024-05-15T15:49:11.637Z"
   },
   {
    "duration": 16,
    "start_time": "2024-05-15T15:49:11.643Z"
   },
   {
    "duration": 31,
    "start_time": "2024-05-15T15:49:11.660Z"
   },
   {
    "duration": 10,
    "start_time": "2024-05-15T15:49:11.693Z"
   },
   {
    "duration": 25,
    "start_time": "2024-05-15T15:49:11.704Z"
   },
   {
    "duration": 12,
    "start_time": "2024-05-15T15:49:11.731Z"
   },
   {
    "duration": 39,
    "start_time": "2024-05-15T15:49:11.744Z"
   },
   {
    "duration": 15,
    "start_time": "2024-05-15T15:49:11.785Z"
   },
   {
    "duration": 18,
    "start_time": "2024-05-15T15:49:11.801Z"
   },
   {
    "duration": 15,
    "start_time": "2024-05-15T15:49:11.821Z"
   },
   {
    "duration": 428,
    "start_time": "2024-05-15T15:49:11.838Z"
   },
   {
    "duration": 13,
    "start_time": "2024-05-15T15:49:12.267Z"
   },
   {
    "duration": 300,
    "start_time": "2024-05-15T15:49:12.282Z"
   },
   {
    "duration": 14,
    "start_time": "2024-05-15T15:49:12.584Z"
   },
   {
    "duration": 354,
    "start_time": "2024-05-15T15:49:12.600Z"
   },
   {
    "duration": 27,
    "start_time": "2024-05-15T15:49:12.955Z"
   },
   {
    "duration": 6,
    "start_time": "2024-05-15T15:49:12.984Z"
   },
   {
    "duration": 19,
    "start_time": "2024-05-15T15:49:12.991Z"
   },
   {
    "duration": 17,
    "start_time": "2024-05-15T15:49:13.012Z"
   },
   {
    "duration": 33,
    "start_time": "2024-05-15T15:49:13.031Z"
   },
   {
    "duration": 316,
    "start_time": "2024-05-15T15:49:13.066Z"
   },
   {
    "duration": 305,
    "start_time": "2024-05-15T15:49:13.384Z"
   },
   {
    "duration": 8,
    "start_time": "2024-05-15T15:49:13.691Z"
   },
   {
    "duration": 287,
    "start_time": "2024-05-15T15:49:13.701Z"
   },
   {
    "duration": 171,
    "start_time": "2024-05-15T15:49:13.990Z"
   },
   {
    "duration": 173,
    "start_time": "2024-05-15T15:49:14.165Z"
   },
   {
    "duration": 177,
    "start_time": "2024-05-15T15:49:14.340Z"
   },
   {
    "duration": 227,
    "start_time": "2024-05-15T15:49:14.519Z"
   },
   {
    "duration": 192,
    "start_time": "2024-05-15T15:49:14.748Z"
   },
   {
    "duration": 240,
    "start_time": "2024-05-15T15:49:14.942Z"
   },
   {
    "duration": 42,
    "start_time": "2024-05-15T15:49:15.184Z"
   },
   {
    "duration": 36,
    "start_time": "2024-05-15T15:49:15.228Z"
   },
   {
    "duration": 418,
    "start_time": "2024-05-15T15:49:15.266Z"
   },
   {
    "duration": 31,
    "start_time": "2024-05-15T15:49:15.685Z"
   },
   {
    "duration": 14,
    "start_time": "2024-05-15T15:49:15.718Z"
   },
   {
    "duration": 17,
    "start_time": "2024-05-15T15:49:15.734Z"
   },
   {
    "duration": 31,
    "start_time": "2024-05-15T15:49:15.753Z"
   },
   {
    "duration": 14,
    "start_time": "2024-05-15T15:49:15.786Z"
   },
   {
    "duration": 23,
    "start_time": "2024-05-15T15:49:15.802Z"
   },
   {
    "duration": 14,
    "start_time": "2024-05-15T15:49:15.827Z"
   },
   {
    "duration": 15,
    "start_time": "2024-05-15T15:49:15.843Z"
   },
   {
    "duration": 24,
    "start_time": "2024-05-15T15:49:15.860Z"
   },
   {
    "duration": 22,
    "start_time": "2024-05-15T15:49:15.886Z"
   },
   {
    "duration": 28,
    "start_time": "2024-05-15T15:49:15.910Z"
   },
   {
    "duration": 41,
    "start_time": "2024-05-15T15:49:33.386Z"
   },
   {
    "duration": 40,
    "start_time": "2024-05-15T15:49:53.863Z"
   },
   {
    "duration": 4,
    "start_time": "2024-05-15T15:50:19.842Z"
   },
   {
    "duration": 508,
    "start_time": "2024-05-15T15:50:29.043Z"
   },
   {
    "duration": 66,
    "start_time": "2024-05-15T15:58:34.334Z"
   },
   {
    "duration": 4,
    "start_time": "2024-05-15T15:59:20.712Z"
   },
   {
    "duration": 622,
    "start_time": "2024-05-15T15:59:36.804Z"
   },
   {
    "duration": 126,
    "start_time": "2024-05-15T16:00:47.744Z"
   },
   {
    "duration": 609,
    "start_time": "2024-05-15T16:00:56.158Z"
   },
   {
    "duration": 573,
    "start_time": "2024-05-15T16:02:14.259Z"
   },
   {
    "duration": 20,
    "start_time": "2024-05-15T16:02:55.445Z"
   },
   {
    "duration": 63,
    "start_time": "2024-05-15T16:03:04.406Z"
   },
   {
    "duration": 18,
    "start_time": "2024-05-15T16:03:22.930Z"
   },
   {
    "duration": 18,
    "start_time": "2024-05-15T16:03:40.404Z"
   },
   {
    "duration": 105,
    "start_time": "2024-05-15T16:03:59.828Z"
   },
   {
    "duration": 592,
    "start_time": "2024-05-15T16:05:14.759Z"
   },
   {
    "duration": 653,
    "start_time": "2024-05-15T16:10:58.885Z"
   },
   {
    "duration": 38,
    "start_time": "2024-05-15T16:16:27.212Z"
   },
   {
    "duration": 5,
    "start_time": "2024-05-15T16:17:22.622Z"
   },
   {
    "duration": 1018,
    "start_time": "2024-05-15T16:19:32.426Z"
   },
   {
    "duration": 4,
    "start_time": "2024-05-15T16:20:50.729Z"
   },
   {
    "duration": 586,
    "start_time": "2024-05-15T16:20:52.241Z"
   },
   {
    "duration": 648,
    "start_time": "2024-05-15T16:25:14.473Z"
   },
   {
    "duration": 13,
    "start_time": "2024-05-15T16:37:54.816Z"
   },
   {
    "duration": 12,
    "start_time": "2024-05-15T16:38:03.941Z"
   },
   {
    "duration": 1275,
    "start_time": "2024-05-15T16:51:34.888Z"
   },
   {
    "duration": 65,
    "start_time": "2024-05-15T16:51:36.165Z"
   },
   {
    "duration": 19,
    "start_time": "2024-05-15T16:51:36.232Z"
   },
   {
    "duration": 39,
    "start_time": "2024-05-15T16:51:36.253Z"
   },
   {
    "duration": 18,
    "start_time": "2024-05-15T16:51:36.295Z"
   },
   {
    "duration": 26,
    "start_time": "2024-05-15T16:51:36.315Z"
   },
   {
    "duration": 38,
    "start_time": "2024-05-15T16:51:36.342Z"
   },
   {
    "duration": 26,
    "start_time": "2024-05-15T16:51:36.383Z"
   },
   {
    "duration": 8,
    "start_time": "2024-05-15T16:51:36.411Z"
   },
   {
    "duration": 21,
    "start_time": "2024-05-15T16:51:36.421Z"
   },
   {
    "duration": 6,
    "start_time": "2024-05-15T16:51:36.443Z"
   },
   {
    "duration": 4,
    "start_time": "2024-05-15T16:51:36.450Z"
   },
   {
    "duration": 6,
    "start_time": "2024-05-15T16:51:36.455Z"
   },
   {
    "duration": 9,
    "start_time": "2024-05-15T16:51:36.479Z"
   },
   {
    "duration": 28,
    "start_time": "2024-05-15T16:51:36.490Z"
   },
   {
    "duration": 4,
    "start_time": "2024-05-15T16:51:36.520Z"
   },
   {
    "duration": 7,
    "start_time": "2024-05-15T16:51:36.526Z"
   },
   {
    "duration": 6,
    "start_time": "2024-05-15T16:51:36.535Z"
   },
   {
    "duration": 17,
    "start_time": "2024-05-15T16:51:36.542Z"
   },
   {
    "duration": 39,
    "start_time": "2024-05-15T16:51:36.560Z"
   },
   {
    "duration": 11,
    "start_time": "2024-05-15T16:51:36.601Z"
   },
   {
    "duration": 15,
    "start_time": "2024-05-15T16:51:36.613Z"
   },
   {
    "duration": 5,
    "start_time": "2024-05-15T16:51:36.629Z"
   },
   {
    "duration": 17,
    "start_time": "2024-05-15T16:51:36.635Z"
   },
   {
    "duration": 4,
    "start_time": "2024-05-15T16:51:36.681Z"
   },
   {
    "duration": 445,
    "start_time": "2024-05-15T16:51:36.687Z"
   },
   {
    "duration": 7,
    "start_time": "2024-05-15T16:51:37.134Z"
   },
   {
    "duration": 330,
    "start_time": "2024-05-15T16:51:37.142Z"
   },
   {
    "duration": 23,
    "start_time": "2024-05-15T16:51:37.474Z"
   },
   {
    "duration": 374,
    "start_time": "2024-05-15T16:51:37.499Z"
   },
   {
    "duration": 36,
    "start_time": "2024-05-15T16:51:37.875Z"
   },
   {
    "duration": 5,
    "start_time": "2024-05-15T16:51:37.913Z"
   },
   {
    "duration": 11,
    "start_time": "2024-05-15T16:51:37.919Z"
   },
   {
    "duration": 19,
    "start_time": "2024-05-15T16:51:37.932Z"
   },
   {
    "duration": 27,
    "start_time": "2024-05-15T16:51:37.953Z"
   },
   {
    "duration": 326,
    "start_time": "2024-05-15T16:51:37.982Z"
   },
   {
    "duration": 344,
    "start_time": "2024-05-15T16:51:38.311Z"
   },
   {
    "duration": 10,
    "start_time": "2024-05-15T16:51:38.657Z"
   },
   {
    "duration": 262,
    "start_time": "2024-05-15T16:51:38.692Z"
   },
   {
    "duration": 189,
    "start_time": "2024-05-15T16:51:38.956Z"
   },
   {
    "duration": 203,
    "start_time": "2024-05-15T16:51:39.150Z"
   },
   {
    "duration": 188,
    "start_time": "2024-05-15T16:51:39.355Z"
   },
   {
    "duration": 223,
    "start_time": "2024-05-15T16:51:39.545Z"
   },
   {
    "duration": 189,
    "start_time": "2024-05-15T16:51:39.780Z"
   },
   {
    "duration": 249,
    "start_time": "2024-05-15T16:51:39.971Z"
   },
   {
    "duration": 42,
    "start_time": "2024-05-15T16:51:40.221Z"
   },
   {
    "duration": 25,
    "start_time": "2024-05-15T16:51:40.264Z"
   },
   {
    "duration": 454,
    "start_time": "2024-05-15T16:51:40.291Z"
   },
   {
    "duration": 71,
    "start_time": "2024-05-15T16:51:40.746Z"
   },
   {
    "duration": 4,
    "start_time": "2024-05-15T16:51:40.818Z"
   },
   {
    "duration": 739,
    "start_time": "2024-05-15T16:51:40.824Z"
   },
   {
    "duration": 46,
    "start_time": "2024-05-15T16:51:41.565Z"
   },
   {
    "duration": 5,
    "start_time": "2024-05-15T16:51:41.613Z"
   },
   {
    "duration": 600,
    "start_time": "2024-05-15T16:51:41.619Z"
   },
   {
    "duration": 12,
    "start_time": "2024-05-15T16:51:42.221Z"
   },
   {
    "duration": 20,
    "start_time": "2024-05-15T16:51:42.234Z"
   },
   {
    "duration": 1010,
    "start_time": "2024-05-16T01:05:41.178Z"
   },
   {
    "duration": 107,
    "start_time": "2024-05-16T01:05:42.190Z"
   },
   {
    "duration": 12,
    "start_time": "2024-05-16T01:05:42.298Z"
   },
   {
    "duration": 14,
    "start_time": "2024-05-16T01:05:42.312Z"
   },
   {
    "duration": 11,
    "start_time": "2024-05-16T01:05:42.328Z"
   },
   {
    "duration": 48,
    "start_time": "2024-05-16T01:05:42.340Z"
   },
   {
    "duration": 10,
    "start_time": "2024-05-16T01:05:42.389Z"
   },
   {
    "duration": 15,
    "start_time": "2024-05-16T01:05:42.401Z"
   },
   {
    "duration": 7,
    "start_time": "2024-05-16T01:05:42.418Z"
   },
   {
    "duration": 14,
    "start_time": "2024-05-16T01:05:42.426Z"
   },
   {
    "duration": 7,
    "start_time": "2024-05-16T01:05:42.441Z"
   },
   {
    "duration": 10,
    "start_time": "2024-05-16T01:05:42.449Z"
   },
   {
    "duration": 7,
    "start_time": "2024-05-16T01:05:42.460Z"
   },
   {
    "duration": 15,
    "start_time": "2024-05-16T01:05:42.470Z"
   },
   {
    "duration": 22,
    "start_time": "2024-05-16T01:05:42.486Z"
   },
   {
    "duration": 3,
    "start_time": "2024-05-16T01:05:42.509Z"
   },
   {
    "duration": 12,
    "start_time": "2024-05-16T01:05:42.513Z"
   },
   {
    "duration": 4,
    "start_time": "2024-05-16T01:05:42.526Z"
   },
   {
    "duration": 14,
    "start_time": "2024-05-16T01:05:42.531Z"
   },
   {
    "duration": 17,
    "start_time": "2024-05-16T01:05:42.546Z"
   },
   {
    "duration": 21,
    "start_time": "2024-05-16T01:05:42.565Z"
   },
   {
    "duration": 14,
    "start_time": "2024-05-16T01:05:42.588Z"
   },
   {
    "duration": 4,
    "start_time": "2024-05-16T01:05:42.603Z"
   },
   {
    "duration": 20,
    "start_time": "2024-05-16T01:05:42.609Z"
   },
   {
    "duration": 12,
    "start_time": "2024-05-16T01:05:42.630Z"
   },
   {
    "duration": 309,
    "start_time": "2024-05-16T01:05:42.643Z"
   },
   {
    "duration": 5,
    "start_time": "2024-05-16T01:05:42.953Z"
   },
   {
    "duration": 222,
    "start_time": "2024-05-16T01:05:42.959Z"
   },
   {
    "duration": 19,
    "start_time": "2024-05-16T01:05:43.182Z"
   },
   {
    "duration": 269,
    "start_time": "2024-05-16T01:05:43.203Z"
   },
   {
    "duration": 21,
    "start_time": "2024-05-16T01:05:43.474Z"
   },
   {
    "duration": 4,
    "start_time": "2024-05-16T01:05:43.496Z"
   },
   {
    "duration": 14,
    "start_time": "2024-05-16T01:05:43.502Z"
   },
   {
    "duration": 6,
    "start_time": "2024-05-16T01:05:43.517Z"
   },
   {
    "duration": 11,
    "start_time": "2024-05-16T01:05:43.524Z"
   },
   {
    "duration": 240,
    "start_time": "2024-05-16T01:05:43.536Z"
   },
   {
    "duration": 227,
    "start_time": "2024-05-16T01:05:43.777Z"
   },
   {
    "duration": 7,
    "start_time": "2024-05-16T01:05:44.005Z"
   },
   {
    "duration": 189,
    "start_time": "2024-05-16T01:05:44.013Z"
   },
   {
    "duration": 125,
    "start_time": "2024-05-16T01:05:44.203Z"
   },
   {
    "duration": 128,
    "start_time": "2024-05-16T01:05:44.331Z"
   },
   {
    "duration": 132,
    "start_time": "2024-05-16T01:05:44.460Z"
   },
   {
    "duration": 134,
    "start_time": "2024-05-16T01:05:44.593Z"
   },
   {
    "duration": 137,
    "start_time": "2024-05-16T01:05:44.728Z"
   },
   {
    "duration": 179,
    "start_time": "2024-05-16T01:05:44.866Z"
   },
   {
    "duration": 32,
    "start_time": "2024-05-16T01:05:45.047Z"
   },
   {
    "duration": 22,
    "start_time": "2024-05-16T01:05:45.081Z"
   },
   {
    "duration": 357,
    "start_time": "2024-05-16T01:05:45.105Z"
   },
   {
    "duration": 46,
    "start_time": "2024-05-16T01:05:45.464Z"
   },
   {
    "duration": 4,
    "start_time": "2024-05-16T01:05:45.512Z"
   },
   {
    "duration": 491,
    "start_time": "2024-05-16T01:05:45.518Z"
   },
   {
    "duration": 27,
    "start_time": "2024-05-16T01:05:46.010Z"
   },
   {
    "duration": 4,
    "start_time": "2024-05-16T01:05:46.038Z"
   },
   {
    "duration": 402,
    "start_time": "2024-05-16T01:05:46.043Z"
   },
   {
    "duration": 9,
    "start_time": "2024-05-16T01:05:46.447Z"
   },
   {
    "duration": 26,
    "start_time": "2024-05-16T01:05:46.458Z"
   }
  ],
  "kernelspec": {
   "display_name": "Python 3 (ipykernel)",
   "language": "python",
   "name": "python3"
  },
  "language_info": {
   "codemirror_mode": {
    "name": "ipython",
    "version": 3
   },
   "file_extension": ".py",
   "mimetype": "text/x-python",
   "name": "python",
   "nbconvert_exporter": "python",
   "pygments_lexer": "ipython3",
   "version": "3.12.4"
  },
  "toc": {
   "base_numbering": 1,
   "nav_menu": {},
   "number_sections": true,
   "sideBar": true,
   "skip_h1_title": true,
   "title_cell": "Table of Contents",
   "title_sidebar": "Contents",
   "toc_cell": false,
   "toc_position": {},
   "toc_section_display": true,
   "toc_window_display": false
  }
 },
 "nbformat": 4,
 "nbformat_minor": 4
}
