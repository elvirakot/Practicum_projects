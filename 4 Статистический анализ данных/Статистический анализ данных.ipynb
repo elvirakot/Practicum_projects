{
 "cells": [
  {
   "cell_type": "markdown",
   "id": "c2d6ab91",
   "metadata": {},
   "source": [
    "# Проект: Статистический анализ данных\n",
    "\n",
    "**Контекст:** Популярный сервис аренды самокатов GoFast. Нам передали данные о некоторых пользователях из нескольких городов, а также об их поездках.Чтобы совершать поездки по городу, пользователи сервиса GoFast пользуются мобильным приложением. Сервисом можно пользоваться:\n",
    "- без подписки\n",
    "   - абонентская плата отсутствует;\n",
    "   - стоимость одной минуты поездки — 8 рублей;\n",
    "   - стоимость старта (начала поездки) — 50 рублей;\n",
    "- с подпиской Ultra\n",
    "   - абонентская плата — 199 рублей в месяц;\n",
    "   - стоимость одной минуты поездки — 6 рублей;\n",
    "   - стоимость старта — бесплатно.\n",
    "\n",
    "**Задачи:** Проанализируем данные и проверим некоторые гипотезы, которые могут помочь бизнесу вырасти.\n",
    "\n",
    "**Описание данных:** \n",
    "\n",
    "*Пользователи — users_go.csv:*\n",
    "- user_id - уникальный идентификатор пользователя;\n",
    "- name - имя пользователя;\n",
    "- age - возраст;\n",
    "- city - город;\n",
    "- subscription_type - тип подписки (free, ultra).\n",
    "\n",
    "*Поездки — rides_go.csv:*\n",
    "- user_id - уникальный идентификатор пользователя;\n",
    "- distance - расстояние, которое пользователь проехал в текущей сессии (в метрах);\n",
    "- duration - продолжительность сессии (в минутах) — время с того момента, как пользователь нажал кнопку «Начать поездку» до момента, как он нажал кнопку «Завершить поездку»;\n",
    "- date - дата совершения поездки.\n",
    "\n",
    "*Подписки — subscriptions_go.csv:*\n",
    "- subscription_type - тип подписки;\n",
    "- minute_price - стоимость одной минуты поездки по данной подписке;\n",
    "- start_ride_price - стоимость начала поездки;\n",
    "- subscription_fee - стоимость ежемесячного платежа."
   ]
  },
  {
   "cell_type": "markdown",
   "id": "8fde3918-cffb-4041-9656-3ef56054c89b",
   "metadata": {},
   "source": [
    "**Содержание:**\n",
    "1. [Загрузка данных и изучение общей информации](#chapter1)\n",
    "2. [Предобработка данных](#chapter2)\n",
    "3. [Исследовательский анализ данных](#chapter3)\n",
    "4. [Объединение данных](#chapter4)\n",
    "5. [Подсчёт выручки](#chapter5)\n",
    "6. [Проверка гипотез](#chapter6)\n",
    "7. [Общий вывод](#chapter7)"
   ]
  },
  {
   "cell_type": "code",
   "execution_count": 1,
   "id": "72576667",
   "metadata": {},
   "outputs": [],
   "source": [
    "import pandas as pd\n",
    "import matplotlib.pyplot as plt\n",
    "import numpy as np\n",
    "from scipy import stats as st"
   ]
  },
  {
   "cell_type": "markdown",
   "id": "c42cbe00",
   "metadata": {},
   "source": [
    "<a id=\"chapter1\"></a>\n",
    "###  Загрузка данных и изучение общей информации"
   ]
  },
  {
   "cell_type": "code",
   "execution_count": 2,
   "id": "eff9f206",
   "metadata": {},
   "outputs": [],
   "source": [
    "users = pd.read_csv('/datasets/users_go.csv')\n",
    "rides = pd.read_csv('/datasets/rides_go.csv')\n",
    "subscriptions = pd.read_csv('/datasets/subscriptions_go.csv')"
   ]
  },
  {
   "cell_type": "markdown",
   "id": "53d7ee7d",
   "metadata": {},
   "source": [
    "**1.1 Посмотрим основную информацию о датафреймах**"
   ]
  },
  {
   "cell_type": "code",
   "execution_count": 3,
   "id": "4b4bc5e2",
   "metadata": {},
   "outputs": [
    {
     "data": {
      "text/html": [
       "<div>\n",
       "<style scoped>\n",
       "    .dataframe tbody tr th:only-of-type {\n",
       "        vertical-align: middle;\n",
       "    }\n",
       "\n",
       "    .dataframe tbody tr th {\n",
       "        vertical-align: top;\n",
       "    }\n",
       "\n",
       "    .dataframe thead th {\n",
       "        text-align: right;\n",
       "    }\n",
       "</style>\n",
       "<table border=\"1\" class=\"dataframe\">\n",
       "  <thead>\n",
       "    <tr style=\"text-align: right;\">\n",
       "      <th></th>\n",
       "      <th>user_id</th>\n",
       "      <th>name</th>\n",
       "      <th>age</th>\n",
       "      <th>city</th>\n",
       "      <th>subscription_type</th>\n",
       "    </tr>\n",
       "  </thead>\n",
       "  <tbody>\n",
       "    <tr>\n",
       "      <th>0</th>\n",
       "      <td>1</td>\n",
       "      <td>Кира</td>\n",
       "      <td>22</td>\n",
       "      <td>Тюмень</td>\n",
       "      <td>ultra</td>\n",
       "    </tr>\n",
       "    <tr>\n",
       "      <th>1</th>\n",
       "      <td>2</td>\n",
       "      <td>Станислав</td>\n",
       "      <td>31</td>\n",
       "      <td>Омск</td>\n",
       "      <td>ultra</td>\n",
       "    </tr>\n",
       "    <tr>\n",
       "      <th>2</th>\n",
       "      <td>3</td>\n",
       "      <td>Алексей</td>\n",
       "      <td>20</td>\n",
       "      <td>Москва</td>\n",
       "      <td>ultra</td>\n",
       "    </tr>\n",
       "    <tr>\n",
       "      <th>3</th>\n",
       "      <td>4</td>\n",
       "      <td>Константин</td>\n",
       "      <td>26</td>\n",
       "      <td>Ростов-на-Дону</td>\n",
       "      <td>ultra</td>\n",
       "    </tr>\n",
       "    <tr>\n",
       "      <th>4</th>\n",
       "      <td>5</td>\n",
       "      <td>Адель</td>\n",
       "      <td>28</td>\n",
       "      <td>Омск</td>\n",
       "      <td>ultra</td>\n",
       "    </tr>\n",
       "  </tbody>\n",
       "</table>\n",
       "</div>"
      ],
      "text/plain": [
       "   user_id        name  age            city subscription_type\n",
       "0        1        Кира   22          Тюмень             ultra\n",
       "1        2   Станислав   31            Омск             ultra\n",
       "2        3     Алексей   20          Москва             ultra\n",
       "3        4  Константин   26  Ростов-на-Дону             ultra\n",
       "4        5       Адель   28            Омск             ultra"
      ]
     },
     "execution_count": 3,
     "metadata": {},
     "output_type": "execute_result"
    }
   ],
   "source": [
    "users.head()"
   ]
  },
  {
   "cell_type": "code",
   "execution_count": 4,
   "id": "2332eb2e",
   "metadata": {},
   "outputs": [
    {
     "name": "stdout",
     "output_type": "stream",
     "text": [
      "<class 'pandas.core.frame.DataFrame'>\n",
      "RangeIndex: 1565 entries, 0 to 1564\n",
      "Data columns (total 5 columns):\n",
      " #   Column             Non-Null Count  Dtype \n",
      "---  ------             --------------  ----- \n",
      " 0   user_id            1565 non-null   int64 \n",
      " 1   name               1565 non-null   object\n",
      " 2   age                1565 non-null   int64 \n",
      " 3   city               1565 non-null   object\n",
      " 4   subscription_type  1565 non-null   object\n",
      "dtypes: int64(2), object(3)\n",
      "memory usage: 61.3+ KB\n"
     ]
    }
   ],
   "source": [
    "users.info()"
   ]
  },
  {
   "cell_type": "code",
   "execution_count": 5,
   "id": "213e2960",
   "metadata": {},
   "outputs": [
    {
     "data": {
      "text/html": [
       "<div>\n",
       "<style scoped>\n",
       "    .dataframe tbody tr th:only-of-type {\n",
       "        vertical-align: middle;\n",
       "    }\n",
       "\n",
       "    .dataframe tbody tr th {\n",
       "        vertical-align: top;\n",
       "    }\n",
       "\n",
       "    .dataframe thead th {\n",
       "        text-align: right;\n",
       "    }\n",
       "</style>\n",
       "<table border=\"1\" class=\"dataframe\">\n",
       "  <thead>\n",
       "    <tr style=\"text-align: right;\">\n",
       "      <th></th>\n",
       "      <th>user_id</th>\n",
       "      <th>distance</th>\n",
       "      <th>duration</th>\n",
       "      <th>date</th>\n",
       "    </tr>\n",
       "  </thead>\n",
       "  <tbody>\n",
       "    <tr>\n",
       "      <th>0</th>\n",
       "      <td>1</td>\n",
       "      <td>4409.919140</td>\n",
       "      <td>25.599769</td>\n",
       "      <td>2021-01-01</td>\n",
       "    </tr>\n",
       "    <tr>\n",
       "      <th>1</th>\n",
       "      <td>1</td>\n",
       "      <td>2617.592153</td>\n",
       "      <td>15.816871</td>\n",
       "      <td>2021-01-18</td>\n",
       "    </tr>\n",
       "    <tr>\n",
       "      <th>2</th>\n",
       "      <td>1</td>\n",
       "      <td>754.159807</td>\n",
       "      <td>6.232113</td>\n",
       "      <td>2021-04-20</td>\n",
       "    </tr>\n",
       "    <tr>\n",
       "      <th>3</th>\n",
       "      <td>1</td>\n",
       "      <td>2694.783254</td>\n",
       "      <td>18.511000</td>\n",
       "      <td>2021-08-11</td>\n",
       "    </tr>\n",
       "    <tr>\n",
       "      <th>4</th>\n",
       "      <td>1</td>\n",
       "      <td>4028.687306</td>\n",
       "      <td>26.265803</td>\n",
       "      <td>2021-08-28</td>\n",
       "    </tr>\n",
       "  </tbody>\n",
       "</table>\n",
       "</div>"
      ],
      "text/plain": [
       "   user_id     distance   duration        date\n",
       "0        1  4409.919140  25.599769  2021-01-01\n",
       "1        1  2617.592153  15.816871  2021-01-18\n",
       "2        1   754.159807   6.232113  2021-04-20\n",
       "3        1  2694.783254  18.511000  2021-08-11\n",
       "4        1  4028.687306  26.265803  2021-08-28"
      ]
     },
     "execution_count": 5,
     "metadata": {},
     "output_type": "execute_result"
    }
   ],
   "source": [
    "rides.head()"
   ]
  },
  {
   "cell_type": "code",
   "execution_count": 6,
   "id": "32611747",
   "metadata": {},
   "outputs": [
    {
     "name": "stdout",
     "output_type": "stream",
     "text": [
      "<class 'pandas.core.frame.DataFrame'>\n",
      "RangeIndex: 18068 entries, 0 to 18067\n",
      "Data columns (total 4 columns):\n",
      " #   Column    Non-Null Count  Dtype  \n",
      "---  ------    --------------  -----  \n",
      " 0   user_id   18068 non-null  int64  \n",
      " 1   distance  18068 non-null  float64\n",
      " 2   duration  18068 non-null  float64\n",
      " 3   date      18068 non-null  object \n",
      "dtypes: float64(2), int64(1), object(1)\n",
      "memory usage: 564.8+ KB\n"
     ]
    }
   ],
   "source": [
    "rides.info()"
   ]
  },
  {
   "cell_type": "code",
   "execution_count": 7,
   "id": "f27a7d23",
   "metadata": {},
   "outputs": [
    {
     "data": {
      "text/html": [
       "<div>\n",
       "<style scoped>\n",
       "    .dataframe tbody tr th:only-of-type {\n",
       "        vertical-align: middle;\n",
       "    }\n",
       "\n",
       "    .dataframe tbody tr th {\n",
       "        vertical-align: top;\n",
       "    }\n",
       "\n",
       "    .dataframe thead th {\n",
       "        text-align: right;\n",
       "    }\n",
       "</style>\n",
       "<table border=\"1\" class=\"dataframe\">\n",
       "  <thead>\n",
       "    <tr style=\"text-align: right;\">\n",
       "      <th></th>\n",
       "      <th>subscription_type</th>\n",
       "      <th>minute_price</th>\n",
       "      <th>start_ride_price</th>\n",
       "      <th>subscription_fee</th>\n",
       "    </tr>\n",
       "  </thead>\n",
       "  <tbody>\n",
       "    <tr>\n",
       "      <th>0</th>\n",
       "      <td>free</td>\n",
       "      <td>8</td>\n",
       "      <td>50</td>\n",
       "      <td>0</td>\n",
       "    </tr>\n",
       "    <tr>\n",
       "      <th>1</th>\n",
       "      <td>ultra</td>\n",
       "      <td>6</td>\n",
       "      <td>0</td>\n",
       "      <td>199</td>\n",
       "    </tr>\n",
       "  </tbody>\n",
       "</table>\n",
       "</div>"
      ],
      "text/plain": [
       "  subscription_type  minute_price  start_ride_price  subscription_fee\n",
       "0              free             8                50                 0\n",
       "1             ultra             6                 0               199"
      ]
     },
     "execution_count": 7,
     "metadata": {},
     "output_type": "execute_result"
    }
   ],
   "source": [
    "subscriptions.head()"
   ]
  },
  {
   "cell_type": "code",
   "execution_count": 8,
   "id": "4c763db0",
   "metadata": {},
   "outputs": [
    {
     "name": "stdout",
     "output_type": "stream",
     "text": [
      "<class 'pandas.core.frame.DataFrame'>\n",
      "RangeIndex: 2 entries, 0 to 1\n",
      "Data columns (total 4 columns):\n",
      " #   Column             Non-Null Count  Dtype \n",
      "---  ------             --------------  ----- \n",
      " 0   subscription_type  2 non-null      object\n",
      " 1   minute_price       2 non-null      int64 \n",
      " 2   start_ride_price   2 non-null      int64 \n",
      " 3   subscription_fee   2 non-null      int64 \n",
      "dtypes: int64(3), object(1)\n",
      "memory usage: 192.0+ bytes\n"
     ]
    }
   ],
   "source": [
    "subscriptions.info()"
   ]
  },
  {
   "cell_type": "markdown",
   "id": "fe67e3b8",
   "metadata": {},
   "source": [
    "**1.2 Проверим явные дубликаты**"
   ]
  },
  {
   "cell_type": "code",
   "execution_count": 9,
   "id": "e3a56591",
   "metadata": {},
   "outputs": [
    {
     "data": {
      "text/plain": [
       "31"
      ]
     },
     "execution_count": 9,
     "metadata": {},
     "output_type": "execute_result"
    }
   ],
   "source": [
    "users.duplicated().sum()"
   ]
  },
  {
   "cell_type": "code",
   "execution_count": 10,
   "id": "94856dff",
   "metadata": {},
   "outputs": [
    {
     "data": {
      "text/plain": [
       "0"
      ]
     },
     "execution_count": 10,
     "metadata": {},
     "output_type": "execute_result"
    }
   ],
   "source": [
    "rides.duplicated().sum()"
   ]
  },
  {
   "cell_type": "markdown",
   "id": "267b73e2",
   "metadata": {},
   "source": [
    "**Вывод**\n",
    "\n",
    "В данных нет пропусков, но есть явные дубликаты в датафрейме users, их количество составило 31. Также в датафрейме rides некорректный тип данных столбца date."
   ]
  },
  {
   "cell_type": "markdown",
   "id": "aa3dff8c",
   "metadata": {},
   "source": [
    "<a id=\"chapter2\"></a>\n",
    "\n",
    "### Предобработка данных"
   ]
  },
  {
   "cell_type": "markdown",
   "id": "4123b15e",
   "metadata": {},
   "source": [
    "**2.1  Изменим тип данных датафрейма rides столбца date**"
   ]
  },
  {
   "cell_type": "code",
   "execution_count": 11,
   "id": "13fb44c2",
   "metadata": {},
   "outputs": [
    {
     "data": {
      "text/plain": [
       "0   2021-01-01\n",
       "1   2021-01-18\n",
       "2   2021-04-20\n",
       "3   2021-08-11\n",
       "4   2021-08-28\n",
       "Name: date, dtype: datetime64[ns]"
      ]
     },
     "execution_count": 11,
     "metadata": {},
     "output_type": "execute_result"
    }
   ],
   "source": [
    "rides['date'] = pd.to_datetime(rides['date'], format = '%Y-%m-%d')\n",
    "rides['date'].head()"
   ]
  },
  {
   "cell_type": "markdown",
   "id": "e9e7ec17",
   "metadata": {},
   "source": [
    "**2.2 Создадим новый столбец с номером месяца на основе столбца date в таблице rides**"
   ]
  },
  {
   "cell_type": "code",
   "execution_count": 12,
   "id": "bfcd5f95",
   "metadata": {},
   "outputs": [
    {
     "data": {
      "text/html": [
       "<div>\n",
       "<style scoped>\n",
       "    .dataframe tbody tr th:only-of-type {\n",
       "        vertical-align: middle;\n",
       "    }\n",
       "\n",
       "    .dataframe tbody tr th {\n",
       "        vertical-align: top;\n",
       "    }\n",
       "\n",
       "    .dataframe thead th {\n",
       "        text-align: right;\n",
       "    }\n",
       "</style>\n",
       "<table border=\"1\" class=\"dataframe\">\n",
       "  <thead>\n",
       "    <tr style=\"text-align: right;\">\n",
       "      <th></th>\n",
       "      <th>user_id</th>\n",
       "      <th>distance</th>\n",
       "      <th>duration</th>\n",
       "      <th>date</th>\n",
       "      <th>month</th>\n",
       "    </tr>\n",
       "  </thead>\n",
       "  <tbody>\n",
       "    <tr>\n",
       "      <th>0</th>\n",
       "      <td>1</td>\n",
       "      <td>4409.919140</td>\n",
       "      <td>25.599769</td>\n",
       "      <td>2021-01-01</td>\n",
       "      <td>1</td>\n",
       "    </tr>\n",
       "    <tr>\n",
       "      <th>1</th>\n",
       "      <td>1</td>\n",
       "      <td>2617.592153</td>\n",
       "      <td>15.816871</td>\n",
       "      <td>2021-01-18</td>\n",
       "      <td>1</td>\n",
       "    </tr>\n",
       "    <tr>\n",
       "      <th>2</th>\n",
       "      <td>1</td>\n",
       "      <td>754.159807</td>\n",
       "      <td>6.232113</td>\n",
       "      <td>2021-04-20</td>\n",
       "      <td>4</td>\n",
       "    </tr>\n",
       "    <tr>\n",
       "      <th>3</th>\n",
       "      <td>1</td>\n",
       "      <td>2694.783254</td>\n",
       "      <td>18.511000</td>\n",
       "      <td>2021-08-11</td>\n",
       "      <td>8</td>\n",
       "    </tr>\n",
       "    <tr>\n",
       "      <th>4</th>\n",
       "      <td>1</td>\n",
       "      <td>4028.687306</td>\n",
       "      <td>26.265803</td>\n",
       "      <td>2021-08-28</td>\n",
       "      <td>8</td>\n",
       "    </tr>\n",
       "  </tbody>\n",
       "</table>\n",
       "</div>"
      ],
      "text/plain": [
       "   user_id     distance   duration       date  month\n",
       "0        1  4409.919140  25.599769 2021-01-01      1\n",
       "1        1  2617.592153  15.816871 2021-01-18      1\n",
       "2        1   754.159807   6.232113 2021-04-20      4\n",
       "3        1  2694.783254  18.511000 2021-08-11      8\n",
       "4        1  4028.687306  26.265803 2021-08-28      8"
      ]
     },
     "execution_count": 12,
     "metadata": {},
     "output_type": "execute_result"
    }
   ],
   "source": [
    "rides['month'] = rides['date'].dt.month\n",
    "rides.head()"
   ]
  },
  {
   "cell_type": "markdown",
   "id": "4d17466b",
   "metadata": {},
   "source": [
    "**2.3 Удалим явные дубликаты в датафрейме users**"
   ]
  },
  {
   "cell_type": "code",
   "execution_count": 13,
   "id": "8412d541",
   "metadata": {},
   "outputs": [
    {
     "data": {
      "text/plain": [
       "0"
      ]
     },
     "execution_count": 13,
     "metadata": {},
     "output_type": "execute_result"
    }
   ],
   "source": [
    "users = users.drop_duplicates().reset_index(drop=True)\n",
    "users.duplicated().sum()"
   ]
  },
  {
   "cell_type": "markdown",
   "id": "ce8296d4",
   "metadata": {},
   "source": [
    "**Вывод** \n",
    "\n",
    "В данном разделе удалили явные дубликаты. В датафрейма rides создали новыый столбец с месяцами и в столбце date изменили тип данных."
   ]
  },
  {
   "cell_type": "markdown",
   "id": "212593c7",
   "metadata": {},
   "source": [
    "<a id=\"chapter3\"></a>\n",
    "\n",
    "###  Исследовательский анализ данных"
   ]
  },
  {
   "cell_type": "markdown",
   "id": "827c2829",
   "metadata": {},
   "source": [
    "**3.1 Частота встречаемости городов**"
   ]
  },
  {
   "cell_type": "code",
   "execution_count": 14,
   "id": "cf81cfb1",
   "metadata": {},
   "outputs": [
    {
     "data": {
      "text/plain": [
       "Пятигорск         219\n",
       "Екатеринбург      204\n",
       "Ростов-на-Дону    198\n",
       "Краснодар         193\n",
       "Сочи              189\n",
       "Омск              183\n",
       "Тюмень            180\n",
       "Москва            168\n",
       "Name: city, dtype: int64"
      ]
     },
     "execution_count": 14,
     "metadata": {},
     "output_type": "execute_result"
    }
   ],
   "source": [
    "users_city = users['city'].value_counts()\n",
    "users_city"
   ]
  },
  {
   "cell_type": "code",
   "execution_count": 15,
   "id": "8c485ece",
   "metadata": {},
   "outputs": [
    {
     "data": {
      "image/png": "[encoded data removed]",
      "text/plain": [
       "<Figure size 360x360 with 1 Axes>"
      ]
     },
     "metadata": {},
     "output_type": "display_data"
    }
   ],
   "source": [
    "users['city'].value_counts().plot(\n",
    "    kind = 'pie',\n",
    "    y = users_city,\n",
    "    autopct = '%1.1f%%',\n",
    "    title = 'Частота встречаемости городов',\n",
    "    figsize=(5,5))\n",
    "plt.show()"
   ]
  },
  {
   "cell_type": "markdown",
   "id": "58802eb5",
   "metadata": {},
   "source": [
    "Количество пользователей в зависимости от городов примерно одинаковое. Больше пользователей находится в Пятигорске - 14.3%, а меньше всего пользователей в Москве - 11.0%."
   ]
  },
  {
   "cell_type": "markdown",
   "id": "a075de72",
   "metadata": {},
   "source": [
    "**3.2 Cоотношение пользователей с подпиской и без подписки**"
   ]
  },
  {
   "cell_type": "code",
   "execution_count": 16,
   "id": "afb089e4",
   "metadata": {},
   "outputs": [
    {
     "data": {
      "text/plain": [
       "free     835\n",
       "ultra    699\n",
       "Name: subscription_type, dtype: int64"
      ]
     },
     "execution_count": 16,
     "metadata": {},
     "output_type": "execute_result"
    }
   ],
   "source": [
    "users_subscription_type = users['subscription_type'].value_counts()\n",
    "users_subscription_type"
   ]
  },
  {
   "cell_type": "code",
   "execution_count": 17,
   "id": "dc20215e",
   "metadata": {},
   "outputs": [
    {
     "data": {
      "image/png": "[encoded data removed]",
      "text/plain": [
       "<Figure size 360x360 with 1 Axes>"
      ]
     },
     "metadata": {},
     "output_type": "display_data"
    }
   ],
   "source": [
    "users['subscription_type'].value_counts().plot(\n",
    "    kind = 'pie',\n",
    "    y = users_subscription_type,\n",
    "    autopct = '%1.1f%%',\n",
    "    title = 'Cоотношение пользователей с подпиской и без подписки',\n",
    "    figsize=(5,5))\n",
    "plt.show()"
   ]
  },
  {
   "cell_type": "markdown",
   "id": "e17f72b0",
   "metadata": {},
   "source": [
    "Количество пользователей с подпиской меньше - 45.6%, чем без - 54.4%"
   ]
  },
  {
   "cell_type": "markdown",
   "id": "7fc5b5a9",
   "metadata": {},
   "source": [
    "**3.3 Возраст пользователей**"
   ]
  },
  {
   "cell_type": "code",
   "execution_count": 18,
   "id": "f5959ef1",
   "metadata": {},
   "outputs": [
    {
     "data": {
      "image/png": "[encoded data removed]",
      "text/plain": [
       "<Figure size 432x288 with 1 Axes>"
      ]
     },
     "metadata": {
      "needs_background": "light"
     },
     "output_type": "display_data"
    },
    {
     "data": {
      "text/plain": [
       "count    1534.000000\n",
       "mean       24.903520\n",
       "std         4.572367\n",
       "min        12.000000\n",
       "25%        22.000000\n",
       "50%        25.000000\n",
       "75%        28.000000\n",
       "max        43.000000\n",
       "Name: age, dtype: float64"
      ]
     },
     "execution_count": 18,
     "metadata": {},
     "output_type": "execute_result"
    }
   ],
   "source": [
    "users['age'].hist(bins=15)\n",
    "plt.title('Возраст пользователей')\n",
    "plt.xlabel('Возраст')\n",
    "plt.ylabel('Количество пользователей')\n",
    "plt.show()\n",
    "users['age'].describe()"
   ]
  },
  {
   "cell_type": "markdown",
   "id": "170f89c0",
   "metadata": {},
   "source": [
    "Среднее число пользователей в возрасте от 22 до 28 лет. Максимальный возраст пользователей 43 года, а минимальный 12 лет"
   ]
  },
  {
   "cell_type": "markdown",
   "id": "0413978a",
   "metadata": {},
   "source": [
    "**3.4 Расстояние, которое пользователь преодолел за одну поездку**"
   ]
  },
  {
   "cell_type": "code",
   "execution_count": 19,
   "id": "04b53096",
   "metadata": {},
   "outputs": [
    {
     "data": {
      "image/png": "[encoded data removed]",
      "text/plain": [
       "<Figure size 432x288 with 1 Axes>"
      ]
     },
     "metadata": {
      "needs_background": "light"
     },
     "output_type": "display_data"
    },
    {
     "data": {
      "text/plain": [
       "count    18068.000000\n",
       "mean      3070.659976\n",
       "std       1116.831209\n",
       "min          0.855683\n",
       "25%       2543.226360\n",
       "50%       3133.609994\n",
       "75%       3776.222735\n",
       "max       7211.007745\n",
       "Name: distance, dtype: float64"
      ]
     },
     "execution_count": 19,
     "metadata": {},
     "output_type": "execute_result"
    }
   ],
   "source": [
    "rides['distance'].hist(bins=100)\n",
    "plt.title('Соотношение количества поездок от расстояния')\n",
    "plt.xlabel('Расстояние, м.')\n",
    "plt.ylabel('Количество поездок')\n",
    "plt.show()\n",
    "rides['distance'].describe()"
   ]
  },
  {
   "cell_type": "markdown",
   "id": "440bf738",
   "metadata": {},
   "source": [
    "В основном расстояние поездки составляет от 2.5 км. до 3.8 км. Самая короткая поездка составила 0,85 м., а самая длинная 7,2 км."
   ]
  },
  {
   "cell_type": "markdown",
   "id": "d65dfe56",
   "metadata": {},
   "source": [
    "**3.5 Продолжительность поездок**"
   ]
  },
  {
   "cell_type": "code",
   "execution_count": 20,
   "id": "37a2145e",
   "metadata": {},
   "outputs": [
    {
     "data": {
      "image/png": "[encoded data removed]",
      "text/plain": [
       "<Figure size 432x288 with 1 Axes>"
      ]
     },
     "metadata": {
      "needs_background": "light"
     },
     "output_type": "display_data"
    },
    {
     "data": {
      "text/plain": [
       "count    18068.000000\n",
       "mean        17.805011\n",
       "std          6.091051\n",
       "min          0.500000\n",
       "25%         13.597563\n",
       "50%         17.678395\n",
       "75%         21.724800\n",
       "max         40.823963\n",
       "Name: duration, dtype: float64"
      ]
     },
     "execution_count": 20,
     "metadata": {},
     "output_type": "execute_result"
    }
   ],
   "source": [
    "rides['duration'].hist(bins=100)\n",
    "plt.title('Соотношение количества поездок от продолжительности')\n",
    "plt.xlabel('Продолжительность мин.')\n",
    "plt.ylabel('Количество поездок')\n",
    "plt.show()\n",
    "rides['duration'].describe()"
   ]
  },
  {
   "cell_type": "markdown",
   "id": "53a3140c",
   "metadata": {},
   "source": [
    "Самая короткая поездка составила 0.5 мин., а самая длинная 40 мин. В среднем продолжительность поездки составляет 17 мин."
   ]
  },
  {
   "cell_type": "markdown",
   "id": "4ef51331",
   "metadata": {},
   "source": [
    "<a id=\"chapter4\"></a>\n",
    "\n",
    "###  Объединение данных"
   ]
  },
  {
   "cell_type": "markdown",
   "id": "f11800b6",
   "metadata": {},
   "source": [
    "**4.1 Объединим данные о пользователях, поездках и подписках в один датафрейм**"
   ]
  },
  {
   "cell_type": "code",
   "execution_count": 50,
   "id": "6bf288b5",
   "metadata": {},
   "outputs": [
    {
     "data": {
      "text/html": [
       "<div>\n",
       "<style scoped>\n",
       "    .dataframe tbody tr th:only-of-type {\n",
       "        vertical-align: middle;\n",
       "    }\n",
       "\n",
       "    .dataframe tbody tr th {\n",
       "        vertical-align: top;\n",
       "    }\n",
       "\n",
       "    .dataframe thead th {\n",
       "        text-align: right;\n",
       "    }\n",
       "</style>\n",
       "<table border=\"1\" class=\"dataframe\">\n",
       "  <thead>\n",
       "    <tr style=\"text-align: right;\">\n",
       "      <th></th>\n",
       "      <th>user_id</th>\n",
       "      <th>name</th>\n",
       "      <th>age</th>\n",
       "      <th>city</th>\n",
       "      <th>subscription_type</th>\n",
       "      <th>distance</th>\n",
       "      <th>duration</th>\n",
       "      <th>date</th>\n",
       "      <th>month</th>\n",
       "      <th>minute_price</th>\n",
       "      <th>start_ride_price</th>\n",
       "      <th>subscription_fee</th>\n",
       "    </tr>\n",
       "  </thead>\n",
       "  <tbody>\n",
       "    <tr>\n",
       "      <th>0</th>\n",
       "      <td>1</td>\n",
       "      <td>Кира</td>\n",
       "      <td>22</td>\n",
       "      <td>Тюмень</td>\n",
       "      <td>ultra</td>\n",
       "      <td>4409.919140</td>\n",
       "      <td>25.599769</td>\n",
       "      <td>2021-01-01</td>\n",
       "      <td>1</td>\n",
       "      <td>6</td>\n",
       "      <td>0</td>\n",
       "      <td>199</td>\n",
       "    </tr>\n",
       "    <tr>\n",
       "      <th>1</th>\n",
       "      <td>1</td>\n",
       "      <td>Кира</td>\n",
       "      <td>22</td>\n",
       "      <td>Тюмень</td>\n",
       "      <td>ultra</td>\n",
       "      <td>2617.592153</td>\n",
       "      <td>15.816871</td>\n",
       "      <td>2021-01-18</td>\n",
       "      <td>1</td>\n",
       "      <td>6</td>\n",
       "      <td>0</td>\n",
       "      <td>199</td>\n",
       "    </tr>\n",
       "    <tr>\n",
       "      <th>2</th>\n",
       "      <td>1</td>\n",
       "      <td>Кира</td>\n",
       "      <td>22</td>\n",
       "      <td>Тюмень</td>\n",
       "      <td>ultra</td>\n",
       "      <td>754.159807</td>\n",
       "      <td>6.232113</td>\n",
       "      <td>2021-04-20</td>\n",
       "      <td>4</td>\n",
       "      <td>6</td>\n",
       "      <td>0</td>\n",
       "      <td>199</td>\n",
       "    </tr>\n",
       "    <tr>\n",
       "      <th>3</th>\n",
       "      <td>1</td>\n",
       "      <td>Кира</td>\n",
       "      <td>22</td>\n",
       "      <td>Тюмень</td>\n",
       "      <td>ultra</td>\n",
       "      <td>2694.783254</td>\n",
       "      <td>18.511000</td>\n",
       "      <td>2021-08-11</td>\n",
       "      <td>8</td>\n",
       "      <td>6</td>\n",
       "      <td>0</td>\n",
       "      <td>199</td>\n",
       "    </tr>\n",
       "    <tr>\n",
       "      <th>4</th>\n",
       "      <td>1</td>\n",
       "      <td>Кира</td>\n",
       "      <td>22</td>\n",
       "      <td>Тюмень</td>\n",
       "      <td>ultra</td>\n",
       "      <td>4028.687306</td>\n",
       "      <td>26.265803</td>\n",
       "      <td>2021-08-28</td>\n",
       "      <td>8</td>\n",
       "      <td>6</td>\n",
       "      <td>0</td>\n",
       "      <td>199</td>\n",
       "    </tr>\n",
       "  </tbody>\n",
       "</table>\n",
       "</div>"
      ],
      "text/plain": [
       "   user_id  name  age    city subscription_type     distance   duration  \\\n",
       "0        1  Кира   22  Тюмень             ultra  4409.919140  25.599769   \n",
       "1        1  Кира   22  Тюмень             ultra  2617.592153  15.816871   \n",
       "2        1  Кира   22  Тюмень             ultra   754.159807   6.232113   \n",
       "3        1  Кира   22  Тюмень             ultra  2694.783254  18.511000   \n",
       "4        1  Кира   22  Тюмень             ultra  4028.687306  26.265803   \n",
       "\n",
       "        date  month  minute_price  start_ride_price  subscription_fee  \n",
       "0 2021-01-01      1             6                 0               199  \n",
       "1 2021-01-18      1             6                 0               199  \n",
       "2 2021-04-20      4             6                 0               199  \n",
       "3 2021-08-11      8             6                 0               199  \n",
       "4 2021-08-28      8             6                 0               199  "
      ]
     },
     "execution_count": 50,
     "metadata": {},
     "output_type": "execute_result"
    }
   ],
   "source": [
    "data = users.merge(rides, on='user_id')\n",
    "data = data.merge(subscriptions, on='subscription_type')\n",
    "data.head()"
   ]
  },
  {
   "cell_type": "markdown",
   "id": "857e54b9",
   "metadata": {},
   "source": [
    "**4.2 Создадим датафрейм с данными о пользователях с подпиской**"
   ]
  },
  {
   "cell_type": "code",
   "execution_count": 22,
   "id": "78dfda25",
   "metadata": {},
   "outputs": [
    {
     "data": {
      "text/html": [
       "<div>\n",
       "<style scoped>\n",
       "    .dataframe tbody tr th:only-of-type {\n",
       "        vertical-align: middle;\n",
       "    }\n",
       "\n",
       "    .dataframe tbody tr th {\n",
       "        vertical-align: top;\n",
       "    }\n",
       "\n",
       "    .dataframe thead th {\n",
       "        text-align: right;\n",
       "    }\n",
       "</style>\n",
       "<table border=\"1\" class=\"dataframe\">\n",
       "  <thead>\n",
       "    <tr style=\"text-align: right;\">\n",
       "      <th></th>\n",
       "      <th>user_id</th>\n",
       "      <th>name</th>\n",
       "      <th>age</th>\n",
       "      <th>city</th>\n",
       "      <th>subscription_type</th>\n",
       "      <th>distance</th>\n",
       "      <th>duration</th>\n",
       "      <th>date</th>\n",
       "      <th>month</th>\n",
       "      <th>minute_price</th>\n",
       "      <th>start_ride_price</th>\n",
       "      <th>subscription_fee</th>\n",
       "    </tr>\n",
       "  </thead>\n",
       "  <tbody>\n",
       "    <tr>\n",
       "      <th>0</th>\n",
       "      <td>1</td>\n",
       "      <td>Кира</td>\n",
       "      <td>22</td>\n",
       "      <td>Тюмень</td>\n",
       "      <td>ultra</td>\n",
       "      <td>4409.919140</td>\n",
       "      <td>25.599769</td>\n",
       "      <td>2021-01-01</td>\n",
       "      <td>1</td>\n",
       "      <td>6</td>\n",
       "      <td>0</td>\n",
       "      <td>199</td>\n",
       "    </tr>\n",
       "    <tr>\n",
       "      <th>1</th>\n",
       "      <td>1</td>\n",
       "      <td>Кира</td>\n",
       "      <td>22</td>\n",
       "      <td>Тюмень</td>\n",
       "      <td>ultra</td>\n",
       "      <td>2617.592153</td>\n",
       "      <td>15.816871</td>\n",
       "      <td>2021-01-18</td>\n",
       "      <td>1</td>\n",
       "      <td>6</td>\n",
       "      <td>0</td>\n",
       "      <td>199</td>\n",
       "    </tr>\n",
       "    <tr>\n",
       "      <th>2</th>\n",
       "      <td>1</td>\n",
       "      <td>Кира</td>\n",
       "      <td>22</td>\n",
       "      <td>Тюмень</td>\n",
       "      <td>ultra</td>\n",
       "      <td>754.159807</td>\n",
       "      <td>6.232113</td>\n",
       "      <td>2021-04-20</td>\n",
       "      <td>4</td>\n",
       "      <td>6</td>\n",
       "      <td>0</td>\n",
       "      <td>199</td>\n",
       "    </tr>\n",
       "    <tr>\n",
       "      <th>3</th>\n",
       "      <td>1</td>\n",
       "      <td>Кира</td>\n",
       "      <td>22</td>\n",
       "      <td>Тюмень</td>\n",
       "      <td>ultra</td>\n",
       "      <td>2694.783254</td>\n",
       "      <td>18.511000</td>\n",
       "      <td>2021-08-11</td>\n",
       "      <td>8</td>\n",
       "      <td>6</td>\n",
       "      <td>0</td>\n",
       "      <td>199</td>\n",
       "    </tr>\n",
       "    <tr>\n",
       "      <th>4</th>\n",
       "      <td>1</td>\n",
       "      <td>Кира</td>\n",
       "      <td>22</td>\n",
       "      <td>Тюмень</td>\n",
       "      <td>ultra</td>\n",
       "      <td>4028.687306</td>\n",
       "      <td>26.265803</td>\n",
       "      <td>2021-08-28</td>\n",
       "      <td>8</td>\n",
       "      <td>6</td>\n",
       "      <td>0</td>\n",
       "      <td>199</td>\n",
       "    </tr>\n",
       "  </tbody>\n",
       "</table>\n",
       "</div>"
      ],
      "text/plain": [
       "   user_id  name  age    city subscription_type     distance   duration  \\\n",
       "0        1  Кира   22  Тюмень             ultra  4409.919140  25.599769   \n",
       "1        1  Кира   22  Тюмень             ultra  2617.592153  15.816871   \n",
       "2        1  Кира   22  Тюмень             ultra   754.159807   6.232113   \n",
       "3        1  Кира   22  Тюмень             ultra  2694.783254  18.511000   \n",
       "4        1  Кира   22  Тюмень             ultra  4028.687306  26.265803   \n",
       "\n",
       "        date  month  minute_price  start_ride_price  subscription_fee  \n",
       "0 2021-01-01      1             6                 0               199  \n",
       "1 2021-01-18      1             6                 0               199  \n",
       "2 2021-04-20      4             6                 0               199  \n",
       "3 2021-08-11      8             6                 0               199  \n",
       "4 2021-08-28      8             6                 0               199  "
      ]
     },
     "execution_count": 22,
     "metadata": {},
     "output_type": "execute_result"
    }
   ],
   "source": [
    "data_ultra = data.query('subscription_type == \"ultra\"')\n",
    "data_ultra.head()"
   ]
  },
  {
   "cell_type": "markdown",
   "id": "27be8a9a",
   "metadata": {},
   "source": [
    "**4.3 Создадим датафрейм с данными о пользователях без подписки**"
   ]
  },
  {
   "cell_type": "code",
   "execution_count": 46,
   "id": "99a66370",
   "metadata": {},
   "outputs": [
    {
     "data": {
      "text/html": [
       "<div>\n",
       "<style scoped>\n",
       "    .dataframe tbody tr th:only-of-type {\n",
       "        vertical-align: middle;\n",
       "    }\n",
       "\n",
       "    .dataframe tbody tr th {\n",
       "        vertical-align: top;\n",
       "    }\n",
       "\n",
       "    .dataframe thead th {\n",
       "        text-align: right;\n",
       "    }\n",
       "</style>\n",
       "<table border=\"1\" class=\"dataframe\">\n",
       "  <thead>\n",
       "    <tr style=\"text-align: right;\">\n",
       "      <th></th>\n",
       "      <th>user_id</th>\n",
       "      <th>name</th>\n",
       "      <th>age</th>\n",
       "      <th>city</th>\n",
       "      <th>subscription_type</th>\n",
       "      <th>distance</th>\n",
       "      <th>duration</th>\n",
       "      <th>date</th>\n",
       "      <th>month</th>\n",
       "      <th>minute_price</th>\n",
       "      <th>start_ride_price</th>\n",
       "      <th>subscription_fee</th>\n",
       "    </tr>\n",
       "  </thead>\n",
       "  <tbody>\n",
       "    <tr>\n",
       "      <th>6500</th>\n",
       "      <td>700</td>\n",
       "      <td>Айдар</td>\n",
       "      <td>22</td>\n",
       "      <td>Омск</td>\n",
       "      <td>free</td>\n",
       "      <td>2515.690719</td>\n",
       "      <td>14.944286</td>\n",
       "      <td>2021-01-02</td>\n",
       "      <td>1</td>\n",
       "      <td>8</td>\n",
       "      <td>50</td>\n",
       "      <td>0</td>\n",
       "    </tr>\n",
       "    <tr>\n",
       "      <th>6501</th>\n",
       "      <td>700</td>\n",
       "      <td>Айдар</td>\n",
       "      <td>22</td>\n",
       "      <td>Омск</td>\n",
       "      <td>free</td>\n",
       "      <td>846.932642</td>\n",
       "      <td>16.234663</td>\n",
       "      <td>2021-02-01</td>\n",
       "      <td>2</td>\n",
       "      <td>8</td>\n",
       "      <td>50</td>\n",
       "      <td>0</td>\n",
       "    </tr>\n",
       "    <tr>\n",
       "      <th>6502</th>\n",
       "      <td>700</td>\n",
       "      <td>Айдар</td>\n",
       "      <td>22</td>\n",
       "      <td>Омск</td>\n",
       "      <td>free</td>\n",
       "      <td>4004.434142</td>\n",
       "      <td>20.016628</td>\n",
       "      <td>2021-02-04</td>\n",
       "      <td>2</td>\n",
       "      <td>8</td>\n",
       "      <td>50</td>\n",
       "      <td>0</td>\n",
       "    </tr>\n",
       "    <tr>\n",
       "      <th>6503</th>\n",
       "      <td>700</td>\n",
       "      <td>Айдар</td>\n",
       "      <td>22</td>\n",
       "      <td>Омск</td>\n",
       "      <td>free</td>\n",
       "      <td>1205.911290</td>\n",
       "      <td>9.782872</td>\n",
       "      <td>2021-02-10</td>\n",
       "      <td>2</td>\n",
       "      <td>8</td>\n",
       "      <td>50</td>\n",
       "      <td>0</td>\n",
       "    </tr>\n",
       "    <tr>\n",
       "      <th>6504</th>\n",
       "      <td>700</td>\n",
       "      <td>Айдар</td>\n",
       "      <td>22</td>\n",
       "      <td>Омск</td>\n",
       "      <td>free</td>\n",
       "      <td>3047.379435</td>\n",
       "      <td>17.427673</td>\n",
       "      <td>2021-02-14</td>\n",
       "      <td>2</td>\n",
       "      <td>8</td>\n",
       "      <td>50</td>\n",
       "      <td>0</td>\n",
       "    </tr>\n",
       "  </tbody>\n",
       "</table>\n",
       "</div>"
      ],
      "text/plain": [
       "      user_id   name  age  city subscription_type     distance   duration  \\\n",
       "6500      700  Айдар   22  Омск              free  2515.690719  14.944286   \n",
       "6501      700  Айдар   22  Омск              free   846.932642  16.234663   \n",
       "6502      700  Айдар   22  Омск              free  4004.434142  20.016628   \n",
       "6503      700  Айдар   22  Омск              free  1205.911290   9.782872   \n",
       "6504      700  Айдар   22  Омск              free  3047.379435  17.427673   \n",
       "\n",
       "           date  month  minute_price  start_ride_price  subscription_fee  \n",
       "6500 2021-01-02      1             8                50                 0  \n",
       "6501 2021-02-01      2             8                50                 0  \n",
       "6502 2021-02-04      2             8                50                 0  \n",
       "6503 2021-02-10      2             8                50                 0  \n",
       "6504 2021-02-14      2             8                50                 0  "
      ]
     },
     "execution_count": 46,
     "metadata": {},
     "output_type": "execute_result"
    }
   ],
   "source": [
    "data_free = data.query('subscription_type == \"free\"')\n",
    "data_free.head()"
   ]
  },
  {
   "cell_type": "code",
   "execution_count": 48,
   "id": "28bf7fd4",
   "metadata": {},
   "outputs": [
    {
     "data": {
      "text/plain": [
       "user_id              0\n",
       "name                 0\n",
       "age                  0\n",
       "city                 0\n",
       "subscription_type    0\n",
       "distance             0\n",
       "duration             0\n",
       "date                 0\n",
       "month                0\n",
       "minute_price         0\n",
       "start_ride_price     0\n",
       "subscription_fee     0\n",
       "dtype: int64"
      ]
     },
     "execution_count": 48,
     "metadata": {},
     "output_type": "execute_result"
    }
   ],
   "source": [
    "data.isna().sum()"
   ]
  },
  {
   "cell_type": "markdown",
   "id": "eba1dca7",
   "metadata": {},
   "source": [
    "**4.4 Визуализируем информацию о расстоянии и времени поездок для пользователей категоррий ultra и free**"
   ]
  },
  {
   "cell_type": "markdown",
   "id": "5ad4c483",
   "metadata": {},
   "source": [
    "4.4.1 Категория ultra. Расстояние, которое пользователь преодолел за одну поездку"
   ]
  },
  {
   "cell_type": "code",
   "execution_count": 24,
   "id": "86519369",
   "metadata": {},
   "outputs": [
    {
     "data": {
      "image/png": "[encoded data removed]",
      "text/plain": [
       "<Figure size 432x288 with 1 Axes>"
      ]
     },
     "metadata": {
      "needs_background": "light"
     },
     "output_type": "display_data"
    },
    {
     "data": {
      "text/plain": [
       "count    6500.000000\n",
       "mean     3115.445388\n",
       "std       836.895330\n",
       "min       244.210438\n",
       "25%      2785.444017\n",
       "50%      3148.637229\n",
       "75%      3560.574425\n",
       "max      5699.769662\n",
       "Name: distance, dtype: float64"
      ]
     },
     "execution_count": 24,
     "metadata": {},
     "output_type": "execute_result"
    }
   ],
   "source": [
    "data_ultra['distance'].hist(bins=100)\n",
    "plt.title('Соотношение количества поездок от расстояния')\n",
    "plt.xlabel('Расстояние, м.')\n",
    "plt.ylabel('Количество поездок')\n",
    "plt.show()\n",
    "data_ultra['distance'].describe()"
   ]
  },
  {
   "cell_type": "markdown",
   "id": "0101f015",
   "metadata": {},
   "source": [
    "4.4.2 Категория ultra. Продолжительность поездок"
   ]
  },
  {
   "cell_type": "code",
   "execution_count": 25,
   "id": "6e65a9bf",
   "metadata": {},
   "outputs": [
    {
     "data": {
      "image/png": "[encoded data removed]",
      "text/plain": [
       "<Figure size 432x288 with 1 Axes>"
      ]
     },
     "metadata": {
      "needs_background": "light"
     },
     "output_type": "display_data"
    },
    {
     "data": {
      "text/plain": [
       "count    6500.000000\n",
       "mean       18.541985\n",
       "std         5.572048\n",
       "min         3.760353\n",
       "25%        14.524654\n",
       "50%        18.178153\n",
       "75%        21.884129\n",
       "max        40.823963\n",
       "Name: duration, dtype: float64"
      ]
     },
     "execution_count": 25,
     "metadata": {},
     "output_type": "execute_result"
    }
   ],
   "source": [
    "data_ultra['duration'].hist(bins=100)\n",
    "plt.title('Соотношение количества поездок от продолжительности')\n",
    "plt.xlabel('Продолжительность мин.')\n",
    "plt.ylabel('Количество поездок')\n",
    "plt.show()\n",
    "data_ultra['duration'].describe()"
   ]
  },
  {
   "cell_type": "markdown",
   "id": "c8c4c270",
   "metadata": {},
   "source": [
    "4.4.3 Категория free. Расстояние, которое пользователь преодолел за одну поездку"
   ]
  },
  {
   "cell_type": "code",
   "execution_count": 26,
   "id": "296e82eb",
   "metadata": {},
   "outputs": [
    {
     "data": {
      "image/png": "[encoded data removed]",
      "text/plain": [
       "<Figure size 432x288 with 1 Axes>"
      ]
     },
     "metadata": {
      "needs_background": "light"
     },
     "output_type": "display_data"
    },
    {
     "data": {
      "text/plain": [
       "count    11568.000000\n",
       "mean      3045.495282\n",
       "std       1246.173806\n",
       "min          0.855683\n",
       "25%       2366.562689\n",
       "50%       3114.648465\n",
       "75%       3905.697894\n",
       "max       7211.007745\n",
       "Name: distance, dtype: float64"
      ]
     },
     "execution_count": 26,
     "metadata": {},
     "output_type": "execute_result"
    }
   ],
   "source": [
    "data_free['distance'].hist(bins=100)\n",
    "plt.title('Соотношение количества поездок от расстояния')\n",
    "plt.xlabel('Расстояние, м.')\n",
    "plt.ylabel('Количество поездок')\n",
    "plt.show()\n",
    "data_free['distance'].describe()"
   ]
  },
  {
   "cell_type": "markdown",
   "id": "3e106e5c",
   "metadata": {},
   "source": [
    "4.4.4 Категория free. Продолжительность поездок"
   ]
  },
  {
   "cell_type": "code",
   "execution_count": 27,
   "id": "931285a6",
   "metadata": {},
   "outputs": [
    {
     "data": {
      "image/png": "[encoded data removed]",
      "text/plain": [
       "<Figure size 432x288 with 1 Axes>"
      ]
     },
     "metadata": {
      "needs_background": "light"
     },
     "output_type": "display_data"
    },
    {
     "data": {
      "text/plain": [
       "count    11568.000000\n",
       "mean        17.390909\n",
       "std          6.326803\n",
       "min          0.500000\n",
       "25%         12.958437\n",
       "50%         17.326890\n",
       "75%         21.594071\n",
       "max         34.948498\n",
       "Name: duration, dtype: float64"
      ]
     },
     "execution_count": 27,
     "metadata": {},
     "output_type": "execute_result"
    }
   ],
   "source": [
    "data_free['duration'].hist(bins=100)\n",
    "plt.title('Соотношение количества поездок от продолжительности')\n",
    "plt.xlabel('Продолжительность мин.')\n",
    "plt.ylabel('Количество поездок')\n",
    "plt.show()\n",
    "data_free['duration'].describe()"
   ]
  },
  {
   "cell_type": "markdown",
   "id": "42248f5c",
   "metadata": {},
   "source": [
    "**Вывод**\n",
    "\n",
    "В данном разделе разделили пользователей на две категории: free - без подписки и ultra - с подпиской\n",
    "\n",
    "Пользователи категории free имеют продолжительность поездки от 12.9 до 22 мин. и расстоянием от 2.3 до 3.9 км.\n",
    "\n",
    "Пользователи категории ultra имеют продолжительность поездки от 14.5 до 22 мин. и расстоянием от 2.7 до 3.6 км.\n",
    "\n",
    "По этим данным можно сделать вывод, что пользователи категории ultra имеют меньший разброс по данным (Расстояние: видно из графиков и по стандартному отклонению free - 1246,17 ultra - 836.89 и продолжительность: стандартное отклонение free - 6.33 ultra - 5.57). Поэтому можно сказать о том, что подписка влияет на расстояние поездок и на время пути."
   ]
  },
  {
   "cell_type": "markdown",
   "id": "402d620f",
   "metadata": {},
   "source": [
    "<a id=\"chapter5\"></a> \n",
    "\n",
    "###  Подсчёт выручки"
   ]
  },
  {
   "cell_type": "markdown",
   "id": "02f8789f",
   "metadata": {},
   "source": [
    "**5.1 Найдем суммарное расстояние, количество поeздок и суммарное время для каждого пользователя за каждый месяц**"
   ]
  },
  {
   "cell_type": "code",
   "execution_count": 51,
   "id": "c5adb422",
   "metadata": {},
   "outputs": [
    {
     "data": {
      "text/html": [
       "<div>\n",
       "<style scoped>\n",
       "    .dataframe tbody tr th:only-of-type {\n",
       "        vertical-align: middle;\n",
       "    }\n",
       "\n",
       "    .dataframe tbody tr th {\n",
       "        vertical-align: top;\n",
       "    }\n",
       "\n",
       "    .dataframe thead th {\n",
       "        text-align: right;\n",
       "    }\n",
       "</style>\n",
       "<table border=\"1\" class=\"dataframe\">\n",
       "  <thead>\n",
       "    <tr style=\"text-align: right;\">\n",
       "      <th></th>\n",
       "      <th></th>\n",
       "      <th>count</th>\n",
       "      <th>distance</th>\n",
       "      <th>duration</th>\n",
       "      <th>minute_price</th>\n",
       "      <th>start_ride_price</th>\n",
       "      <th>subscription_fee</th>\n",
       "    </tr>\n",
       "    <tr>\n",
       "      <th>month</th>\n",
       "      <th>user_id</th>\n",
       "      <th></th>\n",
       "      <th></th>\n",
       "      <th></th>\n",
       "      <th></th>\n",
       "      <th></th>\n",
       "      <th></th>\n",
       "    </tr>\n",
       "  </thead>\n",
       "  <tbody>\n",
       "    <tr>\n",
       "      <th rowspan=\"5\" valign=\"top\">1</th>\n",
       "      <th>1</th>\n",
       "      <td>2</td>\n",
       "      <td>7027.511294</td>\n",
       "      <td>42.0</td>\n",
       "      <td>6.0</td>\n",
       "      <td>0.0</td>\n",
       "      <td>199.0</td>\n",
       "    </tr>\n",
       "    <tr>\n",
       "      <th>3</th>\n",
       "      <td>1</td>\n",
       "      <td>3061.777147</td>\n",
       "      <td>13.0</td>\n",
       "      <td>6.0</td>\n",
       "      <td>0.0</td>\n",
       "      <td>199.0</td>\n",
       "    </tr>\n",
       "    <tr>\n",
       "      <th>5</th>\n",
       "      <td>1</td>\n",
       "      <td>3914.646990</td>\n",
       "      <td>13.0</td>\n",
       "      <td>6.0</td>\n",
       "      <td>0.0</td>\n",
       "      <td>199.0</td>\n",
       "    </tr>\n",
       "    <tr>\n",
       "      <th>7</th>\n",
       "      <td>2</td>\n",
       "      <td>6478.080979</td>\n",
       "      <td>28.0</td>\n",
       "      <td>6.0</td>\n",
       "      <td>0.0</td>\n",
       "      <td>199.0</td>\n",
       "    </tr>\n",
       "    <tr>\n",
       "      <th>12</th>\n",
       "      <td>1</td>\n",
       "      <td>3577.151148</td>\n",
       "      <td>33.0</td>\n",
       "      <td>6.0</td>\n",
       "      <td>0.0</td>\n",
       "      <td>199.0</td>\n",
       "    </tr>\n",
       "    <tr>\n",
       "      <th>...</th>\n",
       "      <th>...</th>\n",
       "      <td>...</td>\n",
       "      <td>...</td>\n",
       "      <td>...</td>\n",
       "      <td>...</td>\n",
       "      <td>...</td>\n",
       "      <td>...</td>\n",
       "    </tr>\n",
       "    <tr>\n",
       "      <th rowspan=\"5\" valign=\"top\">12</th>\n",
       "      <th>1525</th>\n",
       "      <td>1</td>\n",
       "      <td>4597.854350</td>\n",
       "      <td>34.0</td>\n",
       "      <td>8.0</td>\n",
       "      <td>50.0</td>\n",
       "      <td>0.0</td>\n",
       "    </tr>\n",
       "    <tr>\n",
       "      <th>1526</th>\n",
       "      <td>1</td>\n",
       "      <td>3644.121544</td>\n",
       "      <td>23.0</td>\n",
       "      <td>8.0</td>\n",
       "      <td>50.0</td>\n",
       "      <td>0.0</td>\n",
       "    </tr>\n",
       "    <tr>\n",
       "      <th>1528</th>\n",
       "      <td>1</td>\n",
       "      <td>3998.569324</td>\n",
       "      <td>11.0</td>\n",
       "      <td>8.0</td>\n",
       "      <td>50.0</td>\n",
       "      <td>0.0</td>\n",
       "    </tr>\n",
       "    <tr>\n",
       "      <th>1532</th>\n",
       "      <td>2</td>\n",
       "      <td>6111.889853</td>\n",
       "      <td>42.0</td>\n",
       "      <td>8.0</td>\n",
       "      <td>50.0</td>\n",
       "      <td>0.0</td>\n",
       "    </tr>\n",
       "    <tr>\n",
       "      <th>1534</th>\n",
       "      <td>1</td>\n",
       "      <td>2371.711192</td>\n",
       "      <td>16.0</td>\n",
       "      <td>8.0</td>\n",
       "      <td>50.0</td>\n",
       "      <td>0.0</td>\n",
       "    </tr>\n",
       "  </tbody>\n",
       "</table>\n",
       "<p>11331 rows × 6 columns</p>\n",
       "</div>"
      ],
      "text/plain": [
       "               count     distance  duration  minute_price  start_ride_price  \\\n",
       "month user_id                                                                 \n",
       "1     1            2  7027.511294      42.0           6.0               0.0   \n",
       "      3            1  3061.777147      13.0           6.0               0.0   \n",
       "      5            1  3914.646990      13.0           6.0               0.0   \n",
       "      7            2  6478.080979      28.0           6.0               0.0   \n",
       "      12           1  3577.151148      33.0           6.0               0.0   \n",
       "...              ...          ...       ...           ...               ...   \n",
       "12    1525         1  4597.854350      34.0           8.0              50.0   \n",
       "      1526         1  3644.121544      23.0           8.0              50.0   \n",
       "      1528         1  3998.569324      11.0           8.0              50.0   \n",
       "      1532         2  6111.889853      42.0           8.0              50.0   \n",
       "      1534         1  2371.711192      16.0           8.0              50.0   \n",
       "\n",
       "               subscription_fee  \n",
       "month user_id                    \n",
       "1     1                   199.0  \n",
       "      3                   199.0  \n",
       "      5                   199.0  \n",
       "      7                   199.0  \n",
       "      12                  199.0  \n",
       "...                         ...  \n",
       "12    1525                  0.0  \n",
       "      1526                  0.0  \n",
       "      1528                  0.0  \n",
       "      1532                  0.0  \n",
       "      1534                  0.0  \n",
       "\n",
       "[11331 rows x 6 columns]"
      ]
     },
     "execution_count": 51,
     "metadata": {},
     "output_type": "execute_result"
    }
   ],
   "source": [
    "data['duration'] = np.ceil(data['duration']) #округлим время поездки\n",
    "\n",
    "data_pivot = data.pivot_table( #создаем сводную таблицу\n",
    "    index=('month', 'user_id'), \n",
    "    values=(\n",
    "        'distance', \n",
    "        'duration', \n",
    "        'minute_price', \n",
    "        'start_ride_price', \n",
    "        'subscription_fee'), \n",
    "    aggfunc=('count', 'sum'))\n",
    "\n",
    "data_pivot.columns = [  #переименнуем столбцы\n",
    "    'count', 'distance', \n",
    "    'count2', 'duration', \n",
    "    'count3', 'minute_price',\n",
    "    'count4', 'start_ride_price', \n",
    "    'count5', 'subscription_fee']\n",
    "\n",
    "data_pivot = data_pivot.drop(['count2', 'count3', 'count4', 'count5'], axis=1) #удалим повторяющиеся столбцы\n",
    "\n",
    "data_pivot['minute_price'] = data_pivot['minute_price'] / data_pivot['count'] #вернем исходные значения\n",
    "data_pivot['start_ride_price'] = data_pivot['start_ride_price'] / data_pivot['count'] #вернем исходные значения\n",
    "data_pivot['subscription_fee'] = data_pivot['subscription_fee'] / data_pivot['count'] #вернем исходные значения\n",
    "\n",
    "data_pivot"
   ]
  },
  {
   "cell_type": "markdown",
   "id": "a88f0b92",
   "metadata": {},
   "source": [
    "**5.2 Добавим в датафрейм столбец с помесячной выручкой**"
   ]
  },
  {
   "cell_type": "code",
   "execution_count": 29,
   "id": "86c1540e",
   "metadata": {},
   "outputs": [
    {
     "data": {
      "text/html": [
       "<div>\n",
       "<style scoped>\n",
       "    .dataframe tbody tr th:only-of-type {\n",
       "        vertical-align: middle;\n",
       "    }\n",
       "\n",
       "    .dataframe tbody tr th {\n",
       "        vertical-align: top;\n",
       "    }\n",
       "\n",
       "    .dataframe thead th {\n",
       "        text-align: right;\n",
       "    }\n",
       "</style>\n",
       "<table border=\"1\" class=\"dataframe\">\n",
       "  <thead>\n",
       "    <tr style=\"text-align: right;\">\n",
       "      <th></th>\n",
       "      <th></th>\n",
       "      <th>count</th>\n",
       "      <th>distance</th>\n",
       "      <th>duration</th>\n",
       "      <th>minute_price</th>\n",
       "      <th>start_ride_price</th>\n",
       "      <th>subscription_fee</th>\n",
       "      <th>month_revenue</th>\n",
       "    </tr>\n",
       "    <tr>\n",
       "      <th>month</th>\n",
       "      <th>user_id</th>\n",
       "      <th></th>\n",
       "      <th></th>\n",
       "      <th></th>\n",
       "      <th></th>\n",
       "      <th></th>\n",
       "      <th></th>\n",
       "      <th></th>\n",
       "    </tr>\n",
       "  </thead>\n",
       "  <tbody>\n",
       "    <tr>\n",
       "      <th rowspan=\"5\" valign=\"top\">1</th>\n",
       "      <th>1</th>\n",
       "      <td>2</td>\n",
       "      <td>7027.511294</td>\n",
       "      <td>42.0</td>\n",
       "      <td>6.0</td>\n",
       "      <td>0.0</td>\n",
       "      <td>199.0</td>\n",
       "      <td>451.0</td>\n",
       "    </tr>\n",
       "    <tr>\n",
       "      <th>3</th>\n",
       "      <td>1</td>\n",
       "      <td>3061.777147</td>\n",
       "      <td>13.0</td>\n",
       "      <td>6.0</td>\n",
       "      <td>0.0</td>\n",
       "      <td>199.0</td>\n",
       "      <td>277.0</td>\n",
       "    </tr>\n",
       "    <tr>\n",
       "      <th>5</th>\n",
       "      <td>1</td>\n",
       "      <td>3914.646990</td>\n",
       "      <td>13.0</td>\n",
       "      <td>6.0</td>\n",
       "      <td>0.0</td>\n",
       "      <td>199.0</td>\n",
       "      <td>277.0</td>\n",
       "    </tr>\n",
       "    <tr>\n",
       "      <th>7</th>\n",
       "      <td>2</td>\n",
       "      <td>6478.080979</td>\n",
       "      <td>28.0</td>\n",
       "      <td>6.0</td>\n",
       "      <td>0.0</td>\n",
       "      <td>199.0</td>\n",
       "      <td>367.0</td>\n",
       "    </tr>\n",
       "    <tr>\n",
       "      <th>12</th>\n",
       "      <td>1</td>\n",
       "      <td>3577.151148</td>\n",
       "      <td>33.0</td>\n",
       "      <td>6.0</td>\n",
       "      <td>0.0</td>\n",
       "      <td>199.0</td>\n",
       "      <td>397.0</td>\n",
       "    </tr>\n",
       "    <tr>\n",
       "      <th>...</th>\n",
       "      <th>...</th>\n",
       "      <td>...</td>\n",
       "      <td>...</td>\n",
       "      <td>...</td>\n",
       "      <td>...</td>\n",
       "      <td>...</td>\n",
       "      <td>...</td>\n",
       "      <td>...</td>\n",
       "    </tr>\n",
       "    <tr>\n",
       "      <th rowspan=\"5\" valign=\"top\">12</th>\n",
       "      <th>1525</th>\n",
       "      <td>1</td>\n",
       "      <td>4597.854350</td>\n",
       "      <td>34.0</td>\n",
       "      <td>8.0</td>\n",
       "      <td>50.0</td>\n",
       "      <td>0.0</td>\n",
       "      <td>322.0</td>\n",
       "    </tr>\n",
       "    <tr>\n",
       "      <th>1526</th>\n",
       "      <td>1</td>\n",
       "      <td>3644.121544</td>\n",
       "      <td>23.0</td>\n",
       "      <td>8.0</td>\n",
       "      <td>50.0</td>\n",
       "      <td>0.0</td>\n",
       "      <td>234.0</td>\n",
       "    </tr>\n",
       "    <tr>\n",
       "      <th>1528</th>\n",
       "      <td>1</td>\n",
       "      <td>3998.569324</td>\n",
       "      <td>11.0</td>\n",
       "      <td>8.0</td>\n",
       "      <td>50.0</td>\n",
       "      <td>0.0</td>\n",
       "      <td>138.0</td>\n",
       "    </tr>\n",
       "    <tr>\n",
       "      <th>1532</th>\n",
       "      <td>2</td>\n",
       "      <td>6111.889853</td>\n",
       "      <td>41.0</td>\n",
       "      <td>8.0</td>\n",
       "      <td>50.0</td>\n",
       "      <td>0.0</td>\n",
       "      <td>428.0</td>\n",
       "    </tr>\n",
       "    <tr>\n",
       "      <th>1534</th>\n",
       "      <td>1</td>\n",
       "      <td>2371.711192</td>\n",
       "      <td>16.0</td>\n",
       "      <td>8.0</td>\n",
       "      <td>50.0</td>\n",
       "      <td>0.0</td>\n",
       "      <td>178.0</td>\n",
       "    </tr>\n",
       "  </tbody>\n",
       "</table>\n",
       "<p>11331 rows × 7 columns</p>\n",
       "</div>"
      ],
      "text/plain": [
       "               count     distance  duration  minute_price  start_ride_price  \\\n",
       "month user_id                                                                 \n",
       "1     1            2  7027.511294      42.0           6.0               0.0   \n",
       "      3            1  3061.777147      13.0           6.0               0.0   \n",
       "      5            1  3914.646990      13.0           6.0               0.0   \n",
       "      7            2  6478.080979      28.0           6.0               0.0   \n",
       "      12           1  3577.151148      33.0           6.0               0.0   \n",
       "...              ...          ...       ...           ...               ...   \n",
       "12    1525         1  4597.854350      34.0           8.0              50.0   \n",
       "      1526         1  3644.121544      23.0           8.0              50.0   \n",
       "      1528         1  3998.569324      11.0           8.0              50.0   \n",
       "      1532         2  6111.889853      41.0           8.0              50.0   \n",
       "      1534         1  2371.711192      16.0           8.0              50.0   \n",
       "\n",
       "               subscription_fee  month_revenue  \n",
       "month user_id                                   \n",
       "1     1                   199.0          451.0  \n",
       "      3                   199.0          277.0  \n",
       "      5                   199.0          277.0  \n",
       "      7                   199.0          367.0  \n",
       "      12                  199.0          397.0  \n",
       "...                         ...            ...  \n",
       "12    1525                  0.0          322.0  \n",
       "      1526                  0.0          234.0  \n",
       "      1528                  0.0          138.0  \n",
       "      1532                  0.0          428.0  \n",
       "      1534                  0.0          178.0  \n",
       "\n",
       "[11331 rows x 7 columns]"
      ]
     },
     "execution_count": 29,
     "metadata": {},
     "output_type": "execute_result"
    }
   ],
   "source": [
    "data_pivot['month_revenue'] = (\n",
    "    (data_pivot['start_ride_price'] * data_pivot['count']) \n",
    "    + (data_pivot['minute_price'] * data_pivot['duration']) \n",
    "    + data_pivot['subscription_fee']\n",
    ")\n",
    "data_pivot"
   ]
  },
  {
   "cell_type": "code",
   "execution_count": 30,
   "id": "5197d1b0",
   "metadata": {},
   "outputs": [
    {
     "data": {
      "text/plain": [
       "3853677.0"
      ]
     },
     "execution_count": 30,
     "metadata": {},
     "output_type": "execute_result"
    }
   ],
   "source": [
    "data_pivot['month_revenue'].sum()"
   ]
  },
  {
   "cell_type": "markdown",
   "id": "26123a22",
   "metadata": {},
   "source": [
    "**Вывод**\n",
    "\n",
    "В данном разделе создали новый датафрейм с помесячной выручкой, которую принес каждый пользователь. Суммарно выручка за год составила 3853677 р."
   ]
  },
  {
   "cell_type": "markdown",
   "id": "41545ac0",
   "metadata": {},
   "source": [
    "<a id=\"chapter6\"></a>\n",
    "\n",
    "###  Проверка гипотез"
   ]
  },
  {
   "cell_type": "markdown",
   "id": "bedebedd",
   "metadata": {},
   "source": [
    "**6.1 Тратят ли пользователи с подпиской больше времени на поездки?** \n",
    "\n",
    "Нулевая гипотеза: Пользователи с категориями ultra и free тратят одинаковое время на поездки\n",
    "\n",
    "Альтернативная гипотеза: Пользователи с категориями ultra тратят больше времени на поездки"
   ]
  },
  {
   "cell_type": "code",
   "execution_count": 33,
   "id": "902b9a28",
   "metadata": {},
   "outputs": [
    {
     "name": "stdout",
     "output_type": "stream",
     "text": [
      "p-значение: 1.2804098316645618e-34\n",
      "Отвергаем нулевую гипотезу\n"
     ]
    }
   ],
   "source": [
    "ultra = data_ultra['duration']\n",
    "free = data_free['duration']\n",
    "\n",
    "alpha = 0.05 \n",
    "\n",
    "results = st.ttest_ind(\n",
    "    ultra, \n",
    "    free,\n",
    "    alternative='greater')\n",
    "\n",
    "print('p-значение:', results.pvalue)\n",
    "\n",
    "if (results.pvalue < alpha):\n",
    "    print('Отвергаем нулевую гипотезу')\n",
    "else:\n",
    "    print('Не отвергаем нулевую гипотезу') "
   ]
  },
  {
   "cell_type": "markdown",
   "id": "ec6ccf53",
   "metadata": {},
   "source": [
    "Пользователи с подпиской тратят больше времени на поездки, поэтому они могут быть «выгоднее» для компании"
   ]
  },
  {
   "cell_type": "markdown",
   "id": "4f6acc94",
   "metadata": {},
   "source": [
    "**6.2 Расстояние одной поездки в 3130 метров — оптимальное с точки зрения износа самоката. Можно ли сказать, что среднее расстояние, которое проезжают пользователи с подпиской за одну поездку, не превышает 3130 метров?**\n",
    "\n",
    "Нулевая гипотеза: Среднее расстояние, которое проезжают пользователи с подпиской равно 3130 м.\n",
    "\n",
    "Альтернативная гипотеза: Среднее расстояние, которое проезжают пользователи с подпиской больше 3130 м."
   ]
  },
  {
   "cell_type": "code",
   "execution_count": 35,
   "id": "6d910936",
   "metadata": {},
   "outputs": [
    {
     "name": "stdout",
     "output_type": "stream",
     "text": [
      "0.08046311521502146\n",
      "Не удалось отвергнуть нулевую гипотезу\n"
     ]
    }
   ],
   "source": [
    "ultra_distance = data_ultra['distance']\n",
    "\n",
    "distance_one = 3130\n",
    "\n",
    "alpha = 0.05\n",
    "\n",
    "results = st.ttest_1samp(\n",
    "    ultra_distance, \n",
    "    distance_one,\n",
    "    alternative='less')\n",
    "    \n",
    "print(results.pvalue)\n",
    "\n",
    "if (results.pvalue < alpha):\n",
    "    print('Отвергаем нулевую гипотезу')\n",
    "else:\n",
    "    print('Не удалось отвергнуть нулевую гипотезу')"
   ]
  },
  {
   "cell_type": "markdown",
   "id": "ffc11c83",
   "metadata": {},
   "source": [
    "Мы не можем быть точно увереными в том, что пользователи с подпиской проезжают расстояние, не превышающее 3130 метров за одну поездку"
   ]
  },
  {
   "cell_type": "markdown",
   "id": "8f6a35c3",
   "metadata": {},
   "source": [
    "**6.3 Проверим гипотезу о том, будет ли помесячная выручка от пользователей с подпиской по месяцам выше, чем выручка от пользователей без подписки** \n",
    "\n",
    "Нулевая гипотеза: Одинаковая ли помесячная выручка у пользователей с категорией ultra и free\n",
    "\n",
    "Альтернативная гипотеза: Помесячная выручка по категории пользователей ultra больше чем по категории пользователей free"
   ]
  },
  {
   "cell_type": "code",
   "execution_count": 42,
   "id": "41e34d20",
   "metadata": {},
   "outputs": [
    {
     "name": "stdout",
     "output_type": "stream",
     "text": [
      "p-значение: 2.8130926188487286e-35\n",
      "Отвергаем нулевую гипотезу\n"
     ]
    }
   ],
   "source": [
    "ultra_month_revenue = data_pivot.loc[data_pivot['subscription_fee'] > 0, 'month_revenue']\n",
    "free_month_revenue = data_pivot.loc[data_pivot['subscription_fee'] == 0, 'month_revenue']\n",
    "\n",
    "alpha = 0.05 # уровень статистической значимости\n",
    "\n",
    "results = st.ttest_ind(\n",
    "    ultra_month_revenue, \n",
    "    free_month_revenue,\n",
    "    alternative='greater')\n",
    "\n",
    "print('p-значение:', results.pvalue)\n",
    "\n",
    "if (results.pvalue < alpha):\n",
    "    print('Отвергаем нулевую гипотезу')\n",
    "else:\n",
    "    print('Не отвергаем нулевую гипотезу') "
   ]
  },
  {
   "cell_type": "markdown",
   "id": "6c6b9ca3",
   "metadata": {},
   "source": [
    "Мы не можем утверждать, что помесячная выручка категории пользователей ultra превышает выручку с пользователей free"
   ]
  },
  {
   "cell_type": "markdown",
   "id": "1ac75c2c",
   "metadata": {},
   "source": [
    "**6.4 Представьте такую ситуацию: техническая команда сервиса обновила сервера, с которыми взаимодействует мобильное приложение. Она надеется, что из-за этого количество обращений в техподдержку значимо снизилось. Некоторый файл содержит для каждого пользователя данные о количестве обращений до обновления и после него. Какой тест вам понадобился бы для проверки этой гипотезы?**\n",
    "\n",
    "Нулевая гипотеза: Количество обращений после обновления сервера не изменилось\n",
    "\n",
    "Альтернативная гипотеза: Количество обращений в техподдержку после обновления сервера уменьшилось\n",
    "\n",
    "Будем использовать гипотезу о равенстве средних для зависимых (парных) выборок.\n",
    "Применим метод scipy.stats.ttest_rel()"
   ]
  },
  {
   "cell_type": "markdown",
   "id": "712dd9da",
   "metadata": {},
   "source": [
    "<a id=\"chapter7\"></a>\n",
    "###  Общий вывод\n",
    "\n",
    "**В данном проекте были выполнены следующие работы**\n",
    "\n",
    "*Изучена общая информация о данных*\n",
    "\n",
    "*Предобработка данных:* \n",
    "\n",
    "- изменили тип данных датафрейма rides столбца date\n",
    "- создали новый столбец с номером месяца на основе столбца date в таблице rides\n",
    "- удалены явные дубликаты\n",
    "\n",
    "*Исследовательский анализ данных:*\n",
    "\n",
    "- выявили, что количество пользователей в зависимости от городов примерно одинаковое. Больше пользователей находится в Пятигорске - 14.3%, а меньше всего пользователей в Москве - 11.0%\n",
    "- пользователей использующих подписку всего 45,6%, а без подписки 54.4%\n",
    "- возраст пользователей составил в среднем от 22 до 28 лет. Максимальный возраст 43 года, а минимальный 12 лет\n",
    "- в среднем расстояние поездки составляет от 2.5 км. до 3.8 км. Самая короткая поездка составила 0,85 м., а самая длинная 7,2 км.\n",
    "- самая короткая поездка составила 0.5 мин., а самая длинная 40 мин. В среднем продолжительность поездки составляет 17 мин.\n",
    "\n",
    "*Объединение данных*\n",
    "\n",
    "- объединили данные о пользователях, поездках и подписках в один датафрейм\n",
    "- создали ещё два датафрейма c данными о пользователях без подписки - free и с подпиской - ultra\n",
    "- визуализировали информацию о расстоянии и времени поездок для пользователей обеих категорий\n",
    "- выявили, что подписка влияет на расстояние поездок и на время пути\n",
    "\n",
    "*Подсчёт выручки*\n",
    "\n",
    "- создали датафрейм с агрегированными данными о поездках на основе датафрейма с объединёнными данными из шага 4\n",
    "- в этот же датафрейм добавили столбец с помесячной выручкой, которую принёс каждый пользователь\n",
    "- посчитали выручку за год, она составила 3853677 р.\n",
    "\n",
    "*Проверка гипотез*\n",
    "\n",
    "- пользователи с подпиской тратят больше времени на поездки, чем пользователи без подписки (Отвергли нулевую гипотезу)\n",
    "- среднее расстояние, которое проезжают пользователи с подпиской за одну поездку, не превышает 3130 метров (Не удалось отвергнуть нулевую гипотезу)\n",
    "- помесячная выручка от пользователей с подпиской по месяцам выше, чем выручка от пользователей без подписки (Отвергли нулевую гипотезу)\n",
    "- метод scipy.stats.ttest_rel() необходимый для проверки гипотезы о равенстве средних для зависимых (парных) выборок. "
   ]
  }
 ],
 "metadata": {
  "ExecuteTimeLog": [
   {
    "duration": 465,
    "start_time": "2024-05-11T10:34:48.040Z"
   },
   {
    "duration": 304,
    "start_time": "2024-05-11T10:37:53.541Z"
   },
   {
    "duration": 16,
    "start_time": "2024-05-11T10:38:35.642Z"
   },
   {
    "duration": 10,
    "start_time": "2024-05-11T10:39:07.040Z"
   },
   {
    "duration": 12,
    "start_time": "2024-05-11T10:39:19.594Z"
   },
   {
    "duration": 7,
    "start_time": "2024-05-11T10:39:35.156Z"
   },
   {
    "duration": 95,
    "start_time": "2024-05-11T10:40:15.703Z"
   },
   {
    "duration": 84,
    "start_time": "2024-05-11T10:41:09.385Z"
   },
   {
    "duration": 68,
    "start_time": "2024-05-11T10:41:22.960Z"
   },
   {
    "duration": 13,
    "start_time": "2024-05-11T10:41:34.175Z"
   },
   {
    "duration": 16,
    "start_time": "2024-05-11T10:41:45.870Z"
   },
   {
    "duration": 14,
    "start_time": "2024-05-11T10:42:00.189Z"
   },
   {
    "duration": 14,
    "start_time": "2024-05-11T10:42:17.795Z"
   },
   {
    "duration": 8,
    "start_time": "2024-05-11T10:43:20.592Z"
   },
   {
    "duration": 3,
    "start_time": "2024-05-11T10:43:31.666Z"
   },
   {
    "duration": 73,
    "start_time": "2024-05-11T10:45:52.430Z"
   },
   {
    "duration": 463,
    "start_time": "2024-05-11T10:45:58.679Z"
   },
   {
    "duration": 79,
    "start_time": "2024-05-11T10:45:59.144Z"
   },
   {
    "duration": 16,
    "start_time": "2024-05-11T10:45:59.224Z"
   },
   {
    "duration": 40,
    "start_time": "2024-05-11T10:45:59.241Z"
   },
   {
    "duration": 19,
    "start_time": "2024-05-11T10:45:59.286Z"
   },
   {
    "duration": 13,
    "start_time": "2024-05-11T10:45:59.307Z"
   },
   {
    "duration": 33,
    "start_time": "2024-05-11T10:45:59.322Z"
   },
   {
    "duration": 42,
    "start_time": "2024-05-11T10:45:59.357Z"
   },
   {
    "duration": 9,
    "start_time": "2024-05-11T10:46:16.137Z"
   },
   {
    "duration": 6,
    "start_time": "2024-05-11T10:46:24.419Z"
   },
   {
    "duration": 14,
    "start_time": "2024-05-11T10:46:33.524Z"
   },
   {
    "duration": 5,
    "start_time": "2024-05-11T10:53:51.863Z"
   },
   {
    "duration": 15,
    "start_time": "2024-05-11T10:54:04.162Z"
   },
   {
    "duration": 10,
    "start_time": "2024-05-11T10:58:52.223Z"
   },
   {
    "duration": 458,
    "start_time": "2024-05-11T10:59:44.760Z"
   },
   {
    "duration": 68,
    "start_time": "2024-05-11T10:59:45.220Z"
   },
   {
    "duration": 15,
    "start_time": "2024-05-11T10:59:45.290Z"
   },
   {
    "duration": 31,
    "start_time": "2024-05-11T10:59:45.307Z"
   },
   {
    "duration": 23,
    "start_time": "2024-05-11T10:59:45.340Z"
   },
   {
    "duration": 29,
    "start_time": "2024-05-11T10:59:45.365Z"
   },
   {
    "duration": 17,
    "start_time": "2024-05-11T10:59:45.396Z"
   },
   {
    "duration": 53,
    "start_time": "2024-05-11T10:59:45.415Z"
   },
   {
    "duration": 67,
    "start_time": "2024-05-11T10:59:45.470Z"
   },
   {
    "duration": 69,
    "start_time": "2024-05-11T10:59:45.538Z"
   },
   {
    "duration": 22,
    "start_time": "2024-05-11T10:59:45.608Z"
   },
   {
    "duration": 15,
    "start_time": "2024-05-11T10:59:45.632Z"
   },
   {
    "duration": 8,
    "start_time": "2024-05-11T10:59:57.766Z"
   },
   {
    "duration": 18,
    "start_time": "2024-05-11T11:03:20.626Z"
   },
   {
    "duration": 11,
    "start_time": "2024-05-11T11:14:33.196Z"
   },
   {
    "duration": 6,
    "start_time": "2024-05-11T11:21:37.195Z"
   },
   {
    "duration": 12,
    "start_time": "2024-05-11T11:21:59.717Z"
   },
   {
    "duration": 10,
    "start_time": "2024-05-11T11:26:28.862Z"
   },
   {
    "duration": 69,
    "start_time": "2024-05-11T11:27:23.538Z"
   },
   {
    "duration": 464,
    "start_time": "2024-05-11T11:46:59.493Z"
   },
   {
    "duration": 634,
    "start_time": "2024-05-11T11:47:05.432Z"
   },
   {
    "duration": 68,
    "start_time": "2024-05-11T11:47:06.069Z"
   },
   {
    "duration": 12,
    "start_time": "2024-05-11T11:47:06.139Z"
   },
   {
    "duration": 19,
    "start_time": "2024-05-11T11:47:06.154Z"
   },
   {
    "duration": 36,
    "start_time": "2024-05-11T11:47:06.176Z"
   },
   {
    "duration": 35,
    "start_time": "2024-05-11T11:47:06.214Z"
   },
   {
    "duration": 14,
    "start_time": "2024-05-11T11:47:06.251Z"
   },
   {
    "duration": 14,
    "start_time": "2024-05-11T11:47:06.267Z"
   },
   {
    "duration": 9,
    "start_time": "2024-05-11T11:47:06.282Z"
   },
   {
    "duration": 9,
    "start_time": "2024-05-11T11:47:06.293Z"
   },
   {
    "duration": 12,
    "start_time": "2024-05-11T11:47:06.304Z"
   },
   {
    "duration": 12,
    "start_time": "2024-05-11T11:47:06.317Z"
   },
   {
    "duration": 49,
    "start_time": "2024-05-11T11:47:06.331Z"
   },
   {
    "duration": 8,
    "start_time": "2024-05-11T11:48:23.122Z"
   },
   {
    "duration": 71,
    "start_time": "2024-05-11T11:54:39.108Z"
   },
   {
    "duration": 150,
    "start_time": "2024-05-11T11:54:50.959Z"
   },
   {
    "duration": 67,
    "start_time": "2024-05-11T11:55:24.329Z"
   },
   {
    "duration": 137,
    "start_time": "2024-05-11T11:55:31.387Z"
   },
   {
    "duration": 143,
    "start_time": "2024-05-11T11:55:38.158Z"
   },
   {
    "duration": 137,
    "start_time": "2024-05-11T11:56:51.121Z"
   },
   {
    "duration": 356,
    "start_time": "2024-05-11T11:57:27.590Z"
   },
   {
    "duration": 200,
    "start_time": "2024-05-11T11:57:32.805Z"
   },
   {
    "duration": 6,
    "start_time": "2024-05-11T12:04:22.747Z"
   },
   {
    "duration": 106,
    "start_time": "2024-05-11T12:04:53.469Z"
   },
   {
    "duration": 212,
    "start_time": "2024-05-11T12:08:45.220Z"
   },
   {
    "duration": 180,
    "start_time": "2024-05-11T12:09:01.906Z"
   },
   {
    "duration": 167,
    "start_time": "2024-05-11T12:10:01.497Z"
   },
   {
    "duration": 784,
    "start_time": "2024-05-11T12:14:28.531Z"
   },
   {
    "duration": 70,
    "start_time": "2024-05-11T12:14:29.317Z"
   },
   {
    "duration": 14,
    "start_time": "2024-05-11T12:14:29.389Z"
   },
   {
    "duration": 12,
    "start_time": "2024-05-11T12:14:29.405Z"
   },
   {
    "duration": 26,
    "start_time": "2024-05-11T12:14:29.420Z"
   },
   {
    "duration": 18,
    "start_time": "2024-05-11T12:14:29.449Z"
   },
   {
    "duration": 18,
    "start_time": "2024-05-11T12:14:29.469Z"
   },
   {
    "duration": 17,
    "start_time": "2024-05-11T12:14:29.490Z"
   },
   {
    "duration": 13,
    "start_time": "2024-05-11T12:14:29.509Z"
   },
   {
    "duration": 27,
    "start_time": "2024-05-11T12:14:29.523Z"
   },
   {
    "duration": 21,
    "start_time": "2024-05-11T12:14:29.552Z"
   },
   {
    "duration": 33,
    "start_time": "2024-05-11T12:14:29.575Z"
   },
   {
    "duration": 23,
    "start_time": "2024-05-11T12:14:29.610Z"
   },
   {
    "duration": 8,
    "start_time": "2024-05-11T12:14:29.635Z"
   },
   {
    "duration": 174,
    "start_time": "2024-05-11T12:14:29.645Z"
   },
   {
    "duration": 6,
    "start_time": "2024-05-11T12:14:29.821Z"
   },
   {
    "duration": 116,
    "start_time": "2024-05-11T12:14:29.829Z"
   },
   {
    "duration": 180,
    "start_time": "2024-05-11T12:14:29.947Z"
   },
   {
    "duration": 21073,
    "start_time": "2024-05-11T12:14:30.129Z"
   },
   {
    "duration": 246,
    "start_time": "2024-05-11T12:23:21.301Z"
   },
   {
    "duration": 155,
    "start_time": "2024-05-11T12:23:34.563Z"
   },
   {
    "duration": 151,
    "start_time": "2024-05-11T12:23:39.778Z"
   },
   {
    "duration": 187,
    "start_time": "2024-05-11T13:12:11.148Z"
   },
   {
    "duration": 549,
    "start_time": "2024-05-11T13:12:58.840Z"
   },
   {
    "duration": 296,
    "start_time": "2024-05-11T13:14:47.320Z"
   },
   {
    "duration": 279,
    "start_time": "2024-05-11T13:15:58.024Z"
   },
   {
    "duration": 281,
    "start_time": "2024-05-11T13:16:10.692Z"
   },
   {
    "duration": 264,
    "start_time": "2024-05-11T13:16:23.170Z"
   },
   {
    "duration": 256,
    "start_time": "2024-05-11T13:18:11.661Z"
   },
   {
    "duration": 352,
    "start_time": "2024-05-11T13:18:23.082Z"
   },
   {
    "duration": 277,
    "start_time": "2024-05-11T13:18:39.309Z"
   },
   {
    "duration": 279,
    "start_time": "2024-05-11T13:18:55.127Z"
   },
   {
    "duration": 137,
    "start_time": "2024-05-11T13:21:17.288Z"
   },
   {
    "duration": 137,
    "start_time": "2024-05-11T13:21:32.246Z"
   },
   {
    "duration": 11,
    "start_time": "2024-05-11T13:54:23.439Z"
   },
   {
    "duration": 18,
    "start_time": "2024-05-11T13:54:34.418Z"
   },
   {
    "duration": 25,
    "start_time": "2024-05-11T13:55:27.205Z"
   },
   {
    "duration": 9,
    "start_time": "2024-05-11T14:00:51.271Z"
   },
   {
    "duration": 7,
    "start_time": "2024-05-11T14:00:52.613Z"
   },
   {
    "duration": 20,
    "start_time": "2024-05-11T14:01:14.532Z"
   },
   {
    "duration": 15,
    "start_time": "2024-05-11T14:01:16.588Z"
   },
   {
    "duration": 65,
    "start_time": "2024-05-11T14:02:47.243Z"
   },
   {
    "duration": 264,
    "start_time": "2024-05-11T14:17:52.259Z"
   },
   {
    "duration": 379,
    "start_time": "2024-05-11T14:18:22.985Z"
   },
   {
    "duration": 272,
    "start_time": "2024-05-11T14:23:19.738Z"
   },
   {
    "duration": 296,
    "start_time": "2024-05-11T14:23:27.486Z"
   },
   {
    "duration": 286,
    "start_time": "2024-05-11T14:26:45.898Z"
   },
   {
    "duration": 275,
    "start_time": "2024-05-11T14:26:53.732Z"
   },
   {
    "duration": 4,
    "start_time": "2024-05-11T14:59:11.096Z"
   },
   {
    "duration": 656,
    "start_time": "2024-05-11T14:59:17.404Z"
   },
   {
    "duration": 69,
    "start_time": "2024-05-11T14:59:18.062Z"
   },
   {
    "duration": 12,
    "start_time": "2024-05-11T14:59:18.132Z"
   },
   {
    "duration": 23,
    "start_time": "2024-05-11T14:59:18.146Z"
   },
   {
    "duration": 10,
    "start_time": "2024-05-11T14:59:18.171Z"
   },
   {
    "duration": 32,
    "start_time": "2024-05-11T14:59:18.183Z"
   },
   {
    "duration": 8,
    "start_time": "2024-05-11T14:59:18.217Z"
   },
   {
    "duration": 16,
    "start_time": "2024-05-11T14:59:18.226Z"
   },
   {
    "duration": 14,
    "start_time": "2024-05-11T14:59:18.243Z"
   },
   {
    "duration": 10,
    "start_time": "2024-05-11T14:59:18.258Z"
   },
   {
    "duration": 10,
    "start_time": "2024-05-11T14:59:18.269Z"
   },
   {
    "duration": 13,
    "start_time": "2024-05-11T14:59:18.280Z"
   },
   {
    "duration": 7,
    "start_time": "2024-05-11T14:59:18.295Z"
   },
   {
    "duration": 6,
    "start_time": "2024-05-11T14:59:18.305Z"
   },
   {
    "duration": 171,
    "start_time": "2024-05-11T14:59:18.312Z"
   },
   {
    "duration": 6,
    "start_time": "2024-05-11T14:59:18.484Z"
   },
   {
    "duration": 118,
    "start_time": "2024-05-11T14:59:18.492Z"
   },
   {
    "duration": 186,
    "start_time": "2024-05-11T14:59:18.612Z"
   },
   {
    "duration": 324,
    "start_time": "2024-05-11T14:59:18.800Z"
   },
   {
    "duration": 271,
    "start_time": "2024-05-11T14:59:19.126Z"
   },
   {
    "duration": 25,
    "start_time": "2024-05-11T14:59:19.398Z"
   },
   {
    "duration": 17,
    "start_time": "2024-05-11T14:59:19.424Z"
   },
   {
    "duration": 38,
    "start_time": "2024-05-11T14:59:19.443Z"
   },
   {
    "duration": 286,
    "start_time": "2024-05-11T14:59:19.483Z"
   },
   {
    "duration": 280,
    "start_time": "2024-05-11T14:59:19.771Z"
   },
   {
    "duration": 275,
    "start_time": "2024-05-11T14:59:20.053Z"
   },
   {
    "duration": 273,
    "start_time": "2024-05-11T14:59:20.330Z"
   },
   {
    "duration": 110,
    "start_time": "2024-05-11T15:31:48.494Z"
   },
   {
    "duration": 1136,
    "start_time": "2024-05-11T15:32:28.661Z"
   },
   {
    "duration": 979,
    "start_time": "2024-05-11T15:32:38.386Z"
   },
   {
    "duration": 991,
    "start_time": "2024-05-11T15:34:41.409Z"
   },
   {
    "duration": 964,
    "start_time": "2024-05-11T15:35:12.105Z"
   },
   {
    "duration": 986,
    "start_time": "2024-05-11T15:36:07.639Z"
   },
   {
    "duration": 103,
    "start_time": "2024-05-11T15:36:33.408Z"
   },
   {
    "duration": 950,
    "start_time": "2024-05-11T15:36:43.151Z"
   },
   {
    "duration": 9,
    "start_time": "2024-05-11T15:37:21.100Z"
   },
   {
    "duration": 997,
    "start_time": "2024-05-11T15:37:29.984Z"
   },
   {
    "duration": 71,
    "start_time": "2024-05-11T15:39:12.218Z"
   },
   {
    "duration": 68,
    "start_time": "2024-05-11T15:39:49.840Z"
   },
   {
    "duration": 1097,
    "start_time": "2024-05-11T15:40:13.011Z"
   },
   {
    "duration": 30,
    "start_time": "2024-05-11T15:41:51.255Z"
   },
   {
    "duration": 906,
    "start_time": "2024-05-11T15:42:06.603Z"
   },
   {
    "duration": 992,
    "start_time": "2024-05-11T15:47:28.199Z"
   },
   {
    "duration": 969,
    "start_time": "2024-05-11T15:47:42.092Z"
   },
   {
    "duration": 949,
    "start_time": "2024-05-11T15:50:37.843Z"
   },
   {
    "duration": 1933,
    "start_time": "2024-05-11T15:54:16.639Z"
   },
   {
    "duration": 982,
    "start_time": "2024-05-11T15:55:08.935Z"
   },
   {
    "duration": 14,
    "start_time": "2024-05-11T16:17:31.415Z"
   },
   {
    "duration": 20,
    "start_time": "2024-05-11T16:18:01.137Z"
   },
   {
    "duration": 13,
    "start_time": "2024-05-11T16:18:09.673Z"
   },
   {
    "duration": 113,
    "start_time": "2024-05-11T16:19:27.772Z"
   },
   {
    "duration": 46,
    "start_time": "2024-05-11T16:23:26.181Z"
   },
   {
    "duration": 2596,
    "start_time": "2024-05-11T16:23:30.986Z"
   },
   {
    "duration": 46,
    "start_time": "2024-05-11T16:40:02.146Z"
   },
   {
    "duration": 72,
    "start_time": "2024-05-11T16:40:15.961Z"
   },
   {
    "duration": 79,
    "start_time": "2024-05-11T16:40:40.588Z"
   },
   {
    "duration": 56,
    "start_time": "2024-05-11T16:40:59.302Z"
   },
   {
    "duration": 255,
    "start_time": "2024-05-11T16:47:11.200Z"
   },
   {
    "duration": 3,
    "start_time": "2024-05-11T16:48:20.455Z"
   },
   {
    "duration": 5,
    "start_time": "2024-05-11T16:48:25.933Z"
   },
   {
    "duration": 19,
    "start_time": "2024-05-11T16:48:30.778Z"
   },
   {
    "duration": 17,
    "start_time": "2024-05-11T16:49:01.536Z"
   },
   {
    "duration": 83,
    "start_time": "2024-05-11T16:50:58.751Z"
   },
   {
    "duration": 53,
    "start_time": "2024-05-11T16:51:43.950Z"
   },
   {
    "duration": 55,
    "start_time": "2024-05-11T16:52:42.011Z"
   },
   {
    "duration": 56,
    "start_time": "2024-05-11T16:52:47.324Z"
   },
   {
    "duration": 54,
    "start_time": "2024-05-11T16:54:34.985Z"
   },
   {
    "duration": 62,
    "start_time": "2024-05-11T16:58:58.842Z"
   },
   {
    "duration": 1095,
    "start_time": "2024-05-11T16:59:44.796Z"
   },
   {
    "duration": 1110,
    "start_time": "2024-05-11T16:59:50.969Z"
   },
   {
    "duration": 54,
    "start_time": "2024-05-11T16:59:55.220Z"
   },
   {
    "duration": 62,
    "start_time": "2024-05-11T17:05:51.383Z"
   },
   {
    "duration": 62,
    "start_time": "2024-05-11T17:08:58.353Z"
   },
   {
    "duration": 22,
    "start_time": "2024-05-11T17:11:18.348Z"
   },
   {
    "duration": 7,
    "start_time": "2024-05-11T17:50:48.500Z"
   },
   {
    "duration": 1130,
    "start_time": "2024-05-11T18:17:58.902Z"
   },
   {
    "duration": 69,
    "start_time": "2024-05-11T18:18:00.034Z"
   },
   {
    "duration": 11,
    "start_time": "2024-05-11T18:18:00.105Z"
   },
   {
    "duration": 192,
    "start_time": "2024-05-11T18:18:00.118Z"
   },
   {
    "duration": 323,
    "start_time": "2024-05-11T18:18:00.313Z"
   },
   {
    "duration": 42,
    "start_time": "2024-05-11T18:18:00.638Z"
   },
   {
    "duration": 15,
    "start_time": "2024-05-11T18:18:00.682Z"
   },
   {
    "duration": 68,
    "start_time": "2024-05-11T18:18:00.699Z"
   },
   {
    "duration": 112,
    "start_time": "2024-05-11T18:18:00.768Z"
   },
   {
    "duration": 78,
    "start_time": "2024-05-11T18:18:00.881Z"
   },
   {
    "duration": 75,
    "start_time": "2024-05-11T18:18:00.960Z"
   },
   {
    "duration": 65,
    "start_time": "2024-05-11T18:18:01.037Z"
   },
   {
    "duration": 41,
    "start_time": "2024-05-11T18:18:01.104Z"
   },
   {
    "duration": 34,
    "start_time": "2024-05-11T18:18:01.148Z"
   },
   {
    "duration": 233,
    "start_time": "2024-05-11T18:18:01.184Z"
   },
   {
    "duration": 7,
    "start_time": "2024-05-11T18:18:01.419Z"
   },
   {
    "duration": 148,
    "start_time": "2024-05-11T18:18:01.428Z"
   },
   {
    "duration": 153,
    "start_time": "2024-05-11T18:18:01.579Z"
   },
   {
    "duration": 301,
    "start_time": "2024-05-11T18:18:01.734Z"
   },
   {
    "duration": 360,
    "start_time": "2024-05-11T18:18:02.037Z"
   },
   {
    "duration": 41,
    "start_time": "2024-05-11T18:18:02.399Z"
   },
   {
    "duration": 40,
    "start_time": "2024-05-11T18:18:02.443Z"
   },
   {
    "duration": 23,
    "start_time": "2024-05-11T18:18:02.486Z"
   },
   {
    "duration": 305,
    "start_time": "2024-05-11T18:18:02.511Z"
   },
   {
    "duration": 408,
    "start_time": "2024-05-11T18:18:02.818Z"
   },
   {
    "duration": 299,
    "start_time": "2024-05-11T18:18:03.228Z"
   },
   {
    "duration": 289,
    "start_time": "2024-05-11T18:18:03.529Z"
   },
   {
    "duration": 83,
    "start_time": "2024-05-11T18:18:03.820Z"
   },
   {
    "duration": 22,
    "start_time": "2024-05-11T18:18:03.904Z"
   },
   {
    "duration": 26,
    "start_time": "2024-05-11T18:18:03.928Z"
   },
   {
    "duration": 106,
    "start_time": "2024-05-11T18:22:23.707Z"
   },
   {
    "duration": 10,
    "start_time": "2024-05-11T18:23:03.689Z"
   },
   {
    "duration": 6,
    "start_time": "2024-05-11T18:23:30.033Z"
   },
   {
    "duration": 80,
    "start_time": "2024-05-11T18:34:02.645Z"
   },
   {
    "duration": 6,
    "start_time": "2024-05-11T18:40:52.985Z"
   },
   {
    "duration": 14,
    "start_time": "2024-05-11T19:12:47.048Z"
   },
   {
    "duration": 72,
    "start_time": "2024-05-11T19:14:20.843Z"
   },
   {
    "duration": 1201,
    "start_time": "2024-05-11T19:14:28.313Z"
   },
   {
    "duration": 10,
    "start_time": "2024-05-11T19:16:36.265Z"
   },
   {
    "duration": 15,
    "start_time": "2024-05-11T19:25:28.297Z"
   },
   {
    "duration": 12,
    "start_time": "2024-05-11T19:25:59.624Z"
   },
   {
    "duration": 7,
    "start_time": "2024-05-11T19:27:33.820Z"
   },
   {
    "duration": 3,
    "start_time": "2024-05-11T20:40:33.115Z"
   },
   {
    "duration": 16,
    "start_time": "2024-05-11T22:26:50.289Z"
   },
   {
    "duration": 13,
    "start_time": "2024-05-11T22:27:18.373Z"
   },
   {
    "duration": 17,
    "start_time": "2024-05-11T22:28:44.857Z"
   },
   {
    "duration": 15,
    "start_time": "2024-05-11T22:29:06.706Z"
   },
   {
    "duration": 9,
    "start_time": "2024-05-11T22:32:10.732Z"
   },
   {
    "duration": 21,
    "start_time": "2024-05-11T22:33:16.643Z"
   },
   {
    "duration": 23,
    "start_time": "2024-05-11T22:33:24.324Z"
   },
   {
    "duration": 65,
    "start_time": "2024-05-11T22:48:32.891Z"
   },
   {
    "duration": 65,
    "start_time": "2024-05-11T22:55:48.806Z"
   },
   {
    "duration": 61,
    "start_time": "2024-05-11T22:59:04.532Z"
   },
   {
    "duration": 1190,
    "start_time": "2024-05-12T10:06:39.540Z"
   },
   {
    "duration": 68,
    "start_time": "2024-05-12T10:06:40.734Z"
   },
   {
    "duration": 12,
    "start_time": "2024-05-12T10:06:40.805Z"
   },
   {
    "duration": 13,
    "start_time": "2024-05-12T10:06:40.819Z"
   },
   {
    "duration": 15,
    "start_time": "2024-05-12T10:06:40.835Z"
   },
   {
    "duration": 25,
    "start_time": "2024-05-12T10:06:40.852Z"
   },
   {
    "duration": 26,
    "start_time": "2024-05-12T10:06:40.879Z"
   },
   {
    "duration": 18,
    "start_time": "2024-05-12T10:06:40.906Z"
   },
   {
    "duration": 35,
    "start_time": "2024-05-12T10:06:40.926Z"
   },
   {
    "duration": 25,
    "start_time": "2024-05-12T10:06:40.963Z"
   },
   {
    "duration": 20,
    "start_time": "2024-05-12T10:06:40.990Z"
   },
   {
    "duration": 16,
    "start_time": "2024-05-12T10:06:41.011Z"
   },
   {
    "duration": 8,
    "start_time": "2024-05-12T10:06:41.029Z"
   },
   {
    "duration": 6,
    "start_time": "2024-05-12T10:06:41.039Z"
   },
   {
    "duration": 165,
    "start_time": "2024-05-12T10:06:41.046Z"
   },
   {
    "duration": 6,
    "start_time": "2024-05-12T10:06:41.213Z"
   },
   {
    "duration": 113,
    "start_time": "2024-05-12T10:06:41.221Z"
   },
   {
    "duration": 187,
    "start_time": "2024-05-12T10:06:41.335Z"
   },
   {
    "duration": 324,
    "start_time": "2024-05-12T10:06:41.524Z"
   },
   {
    "duration": 314,
    "start_time": "2024-05-12T10:06:41.850Z"
   },
   {
    "duration": 8,
    "start_time": "2024-05-12T10:06:42.166Z"
   }
  ],
  "kernelspec": {
   "display_name": "Python 3 (ipykernel)",
   "language": "python",
   "name": "python3"
  },
  "language_info": {
   "codemirror_mode": {
    "name": "ipython",
    "version": 3
   },
   "file_extension": ".py",
   "mimetype": "text/x-python",
   "name": "python",
   "nbconvert_exporter": "python",
   "pygments_lexer": "ipython3",
   "version": "3.12.4"
  },
  "toc": {
   "base_numbering": 1,
   "nav_menu": {},
   "number_sections": true,
   "sideBar": true,
   "skip_h1_title": true,
   "title_cell": "Содержание",
   "title_sidebar": "Contents",
   "toc_cell": true,
   "toc_position": {},
   "toc_section_display": true,
   "toc_window_display": true
  }
 },
 "nbformat": 4,
 "nbformat_minor": 5
}
