{
 "cells": [
  {
   "cell_type": "markdown",
   "metadata": {},
   "source": [
    "# Проект: Принятие решений в бизнесе\n",
    "\n",
    "**Контекст:** Я — аналитик крупного интернет-магазина. Вместе с отделом маркетинга подготовили список гипотез для увеличения выручки.\n",
    "**Задачи:** Приоритизируем гипотезы, запустим A/B-тест и проанализируем результаты.\n",
    "\n",
    "**Описание данных:**\n",
    "\n",
    "*Файл /datasets/hypothesis.csv*\n",
    "- Hypothesis — краткое описание гипотезы;\n",
    "- Reach — охват пользователей по 10-балльной шкале;\n",
    "- Impact — влияние на пользователей по 10-балльной шкале;\n",
    "- Confidence — уверенность в гипотезе по 10-балльной шкале;\n",
    "- Efforts — затраты ресурсов на проверку гипотезы по 10-балльной шкале.\n",
    "\n",
    "*Файл /datasets/orders.csv*\n",
    "- transactionId — идентификатор заказа;\n",
    "- visitorId — идентификатор пользователя, совершившего заказ;\n",
    "- date — дата, когда был совершён заказ;\n",
    "- revenue — выручка заказа;\n",
    "- group — группа A/B-теста, в которую попал заказ.\n",
    "\n",
    "*Файл /datasets/visitors.csv*\n",
    "- date — дата;\n",
    "- group — группа A/B-теста;\n",
    "- visitors — количество пользователей в указанную дату в указанной группе A/B-теста"
   ]
  },
  {
   "cell_type": "markdown",
   "metadata": {},
   "source": [
    "**Содержание:**\n",
    "1. [Загрузка данных и изучение общей информации](#chapter1)\n",
    "2. [Приоритизация гипотез](#chapter2)\n",
    "3. [Анализ A/B-теста](#chapter3)\n",
    "4. [Решение по результатам теста](#chapter4)"
   ]
  },
  {
   "cell_type": "code",
   "execution_count": 1,
   "metadata": {},
   "outputs": [],
   "source": [
    "import pandas as pd\n",
    "import datetime as dt \n",
    "import numpy as np \n",
    "import seaborn as sns #?\n",
    "import matplotlib.pyplot as plt\n",
    "import scipy.stats as stats \n",
    "pd.options.display.max_colwidth = 130 #расширяем вывод содержимого ячеек"
   ]
  },
  {
   "cell_type": "markdown",
   "metadata": {},
   "source": [
    "<a id=\"chapter1\"></a> \n",
    "\n",
    "###  Загрузка данных и подготовка их к анализу"
   ]
  },
  {
   "cell_type": "markdown",
   "metadata": {},
   "source": [
    "**1.1 Общая информация о данных датафрейма с гипотезами**"
   ]
  },
  {
   "cell_type": "code",
   "execution_count": 2,
   "metadata": {},
   "outputs": [],
   "source": [
    "hypothesis = pd.read_csv('/datasets/hypothesis.csv')\n",
    "\n",
    "def first_look (data):\n",
    "    print('---------Первые 5 строк-----------')\n",
    "    display(data.head())\n",
    "    print('---------Основная информация о датафрейме---------------\\n')\n",
    "    display(data.info())\n",
    "    print('---------Пропуски-----------\\n')\n",
    "    display(data.isna().sum())\n",
    "    print('\\n---------Явные дубликаты-----------\\n')\n",
    "    if data.duplicated().sum() > 0:\n",
    "        print('Явных дубликатов:', data.duplicated().sum())\n",
    "    else:\n",
    "        print('Явных дубликатов НЕТ')"
   ]
  },
  {
   "cell_type": "code",
   "execution_count": 3,
   "metadata": {},
   "outputs": [
    {
     "name": "stdout",
     "output_type": "stream",
     "text": [
      "---------Первые 5 строк-----------\n"
     ]
    },
    {
     "data": {
      "text/html": [
       "<div>\n",
       "<style scoped>\n",
       "    .dataframe tbody tr th:only-of-type {\n",
       "        vertical-align: middle;\n",
       "    }\n",
       "\n",
       "    .dataframe tbody tr th {\n",
       "        vertical-align: top;\n",
       "    }\n",
       "\n",
       "    .dataframe thead th {\n",
       "        text-align: right;\n",
       "    }\n",
       "</style>\n",
       "<table border=\"1\" class=\"dataframe\">\n",
       "  <thead>\n",
       "    <tr style=\"text-align: right;\">\n",
       "      <th></th>\n",
       "      <th>Hypothesis</th>\n",
       "      <th>Reach</th>\n",
       "      <th>Impact</th>\n",
       "      <th>Confidence</th>\n",
       "      <th>Efforts</th>\n",
       "    </tr>\n",
       "  </thead>\n",
       "  <tbody>\n",
       "    <tr>\n",
       "      <th>0</th>\n",
       "      <td>Добавить два новых канала привлечения трафика, что позволит привлекать на 30% больше пользователей</td>\n",
       "      <td>3</td>\n",
       "      <td>10</td>\n",
       "      <td>8</td>\n",
       "      <td>6</td>\n",
       "    </tr>\n",
       "    <tr>\n",
       "      <th>1</th>\n",
       "      <td>Запустить собственную службу доставки, что сократит срок доставки заказов</td>\n",
       "      <td>2</td>\n",
       "      <td>5</td>\n",
       "      <td>4</td>\n",
       "      <td>10</td>\n",
       "    </tr>\n",
       "    <tr>\n",
       "      <th>2</th>\n",
       "      <td>Добавить блоки рекомендаций товаров на сайт интернет магазина, чтобы повысить конверсию и средний чек заказа</td>\n",
       "      <td>8</td>\n",
       "      <td>3</td>\n",
       "      <td>7</td>\n",
       "      <td>3</td>\n",
       "    </tr>\n",
       "    <tr>\n",
       "      <th>3</th>\n",
       "      <td>Изменить структура категорий, что увеличит конверсию, т.к. пользователи быстрее найдут нужный товар</td>\n",
       "      <td>8</td>\n",
       "      <td>3</td>\n",
       "      <td>3</td>\n",
       "      <td>8</td>\n",
       "    </tr>\n",
       "    <tr>\n",
       "      <th>4</th>\n",
       "      <td>Изменить цвет фона главной страницы, чтобы увеличить вовлеченность пользователей</td>\n",
       "      <td>3</td>\n",
       "      <td>1</td>\n",
       "      <td>1</td>\n",
       "      <td>1</td>\n",
       "    </tr>\n",
       "  </tbody>\n",
       "</table>\n",
       "</div>"
      ],
      "text/plain": [
       "                                                                                                     Hypothesis  \\\n",
       "0            Добавить два новых канала привлечения трафика, что позволит привлекать на 30% больше пользователей   \n",
       "1                                     Запустить собственную службу доставки, что сократит срок доставки заказов   \n",
       "2  Добавить блоки рекомендаций товаров на сайт интернет магазина, чтобы повысить конверсию и средний чек заказа   \n",
       "3           Изменить структура категорий, что увеличит конверсию, т.к. пользователи быстрее найдут нужный товар   \n",
       "4                              Изменить цвет фона главной страницы, чтобы увеличить вовлеченность пользователей   \n",
       "\n",
       "   Reach  Impact  Confidence  Efforts  \n",
       "0      3      10           8        6  \n",
       "1      2       5           4       10  \n",
       "2      8       3           7        3  \n",
       "3      8       3           3        8  \n",
       "4      3       1           1        1  "
      ]
     },
     "metadata": {},
     "output_type": "display_data"
    },
    {
     "name": "stdout",
     "output_type": "stream",
     "text": [
      "---------Основная информация о датафрейме---------------\n",
      "\n",
      "<class 'pandas.core.frame.DataFrame'>\n",
      "RangeIndex: 9 entries, 0 to 8\n",
      "Data columns (total 5 columns):\n",
      " #   Column      Non-Null Count  Dtype \n",
      "---  ------      --------------  ----- \n",
      " 0   Hypothesis  9 non-null      object\n",
      " 1   Reach       9 non-null      int64 \n",
      " 2   Impact      9 non-null      int64 \n",
      " 3   Confidence  9 non-null      int64 \n",
      " 4   Efforts     9 non-null      int64 \n",
      "dtypes: int64(4), object(1)\n",
      "memory usage: 488.0+ bytes\n"
     ]
    },
    {
     "data": {
      "text/plain": [
       "None"
      ]
     },
     "metadata": {},
     "output_type": "display_data"
    },
    {
     "name": "stdout",
     "output_type": "stream",
     "text": [
      "---------Пропуски-----------\n",
      "\n"
     ]
    },
    {
     "data": {
      "text/plain": [
       "Hypothesis    0\n",
       "Reach         0\n",
       "Impact        0\n",
       "Confidence    0\n",
       "Efforts       0\n",
       "dtype: int64"
      ]
     },
     "metadata": {},
     "output_type": "display_data"
    },
    {
     "name": "stdout",
     "output_type": "stream",
     "text": [
      "\n",
      "---------Явные дубликаты-----------\n",
      "\n",
      "Явных дубликатов НЕТ\n"
     ]
    }
   ],
   "source": [
    "first_look (hypothesis)"
   ]
  },
  {
   "cell_type": "markdown",
   "metadata": {},
   "source": [
    "**1.2 Общая информация о данных датафрейма с заказами**"
   ]
  },
  {
   "cell_type": "code",
   "execution_count": 4,
   "metadata": {},
   "outputs": [
    {
     "name": "stdout",
     "output_type": "stream",
     "text": [
      "---------Первые 5 строк-----------\n"
     ]
    },
    {
     "data": {
      "text/html": [
       "<div>\n",
       "<style scoped>\n",
       "    .dataframe tbody tr th:only-of-type {\n",
       "        vertical-align: middle;\n",
       "    }\n",
       "\n",
       "    .dataframe tbody tr th {\n",
       "        vertical-align: top;\n",
       "    }\n",
       "\n",
       "    .dataframe thead th {\n",
       "        text-align: right;\n",
       "    }\n",
       "</style>\n",
       "<table border=\"1\" class=\"dataframe\">\n",
       "  <thead>\n",
       "    <tr style=\"text-align: right;\">\n",
       "      <th></th>\n",
       "      <th>transactionId</th>\n",
       "      <th>visitorId</th>\n",
       "      <th>date</th>\n",
       "      <th>revenue</th>\n",
       "      <th>group</th>\n",
       "    </tr>\n",
       "  </thead>\n",
       "  <tbody>\n",
       "    <tr>\n",
       "      <th>0</th>\n",
       "      <td>3667963787</td>\n",
       "      <td>3312258926</td>\n",
       "      <td>2019-08-15</td>\n",
       "      <td>1650</td>\n",
       "      <td>B</td>\n",
       "    </tr>\n",
       "    <tr>\n",
       "      <th>1</th>\n",
       "      <td>2804400009</td>\n",
       "      <td>3642806036</td>\n",
       "      <td>2019-08-15</td>\n",
       "      <td>730</td>\n",
       "      <td>B</td>\n",
       "    </tr>\n",
       "    <tr>\n",
       "      <th>2</th>\n",
       "      <td>2961555356</td>\n",
       "      <td>4069496402</td>\n",
       "      <td>2019-08-15</td>\n",
       "      <td>400</td>\n",
       "      <td>A</td>\n",
       "    </tr>\n",
       "    <tr>\n",
       "      <th>3</th>\n",
       "      <td>3797467345</td>\n",
       "      <td>1196621759</td>\n",
       "      <td>2019-08-15</td>\n",
       "      <td>9759</td>\n",
       "      <td>B</td>\n",
       "    </tr>\n",
       "    <tr>\n",
       "      <th>4</th>\n",
       "      <td>2282983706</td>\n",
       "      <td>2322279887</td>\n",
       "      <td>2019-08-15</td>\n",
       "      <td>2308</td>\n",
       "      <td>B</td>\n",
       "    </tr>\n",
       "  </tbody>\n",
       "</table>\n",
       "</div>"
      ],
      "text/plain": [
       "   transactionId   visitorId        date  revenue group\n",
       "0     3667963787  3312258926  2019-08-15     1650     B\n",
       "1     2804400009  3642806036  2019-08-15      730     B\n",
       "2     2961555356  4069496402  2019-08-15      400     A\n",
       "3     3797467345  1196621759  2019-08-15     9759     B\n",
       "4     2282983706  2322279887  2019-08-15     2308     B"
      ]
     },
     "metadata": {},
     "output_type": "display_data"
    },
    {
     "name": "stdout",
     "output_type": "stream",
     "text": [
      "---------Основная информация о датафрейме---------------\n",
      "\n",
      "<class 'pandas.core.frame.DataFrame'>\n",
      "RangeIndex: 1197 entries, 0 to 1196\n",
      "Data columns (total 5 columns):\n",
      " #   Column         Non-Null Count  Dtype \n",
      "---  ------         --------------  ----- \n",
      " 0   transactionId  1197 non-null   int64 \n",
      " 1   visitorId      1197 non-null   int64 \n",
      " 2   date           1197 non-null   object\n",
      " 3   revenue        1197 non-null   int64 \n",
      " 4   group          1197 non-null   object\n",
      "dtypes: int64(3), object(2)\n",
      "memory usage: 46.9+ KB\n"
     ]
    },
    {
     "data": {
      "text/plain": [
       "None"
      ]
     },
     "metadata": {},
     "output_type": "display_data"
    },
    {
     "name": "stdout",
     "output_type": "stream",
     "text": [
      "---------Пропуски-----------\n",
      "\n"
     ]
    },
    {
     "data": {
      "text/plain": [
       "transactionId    0\n",
       "visitorId        0\n",
       "date             0\n",
       "revenue          0\n",
       "group            0\n",
       "dtype: int64"
      ]
     },
     "metadata": {},
     "output_type": "display_data"
    },
    {
     "name": "stdout",
     "output_type": "stream",
     "text": [
      "\n",
      "---------Явные дубликаты-----------\n",
      "\n",
      "Явных дубликатов НЕТ\n"
     ]
    }
   ],
   "source": [
    "orders = pd.read_csv('/datasets/orders.csv')\n",
    "first_look (orders)"
   ]
  },
  {
   "cell_type": "markdown",
   "metadata": {},
   "source": [
    "**1.3 Общая информация о данных датафрейма с результатом А/В-теста**"
   ]
  },
  {
   "cell_type": "code",
   "execution_count": 5,
   "metadata": {},
   "outputs": [
    {
     "name": "stdout",
     "output_type": "stream",
     "text": [
      "---------Первые 5 строк-----------\n"
     ]
    },
    {
     "data": {
      "text/html": [
       "<div>\n",
       "<style scoped>\n",
       "    .dataframe tbody tr th:only-of-type {\n",
       "        vertical-align: middle;\n",
       "    }\n",
       "\n",
       "    .dataframe tbody tr th {\n",
       "        vertical-align: top;\n",
       "    }\n",
       "\n",
       "    .dataframe thead th {\n",
       "        text-align: right;\n",
       "    }\n",
       "</style>\n",
       "<table border=\"1\" class=\"dataframe\">\n",
       "  <thead>\n",
       "    <tr style=\"text-align: right;\">\n",
       "      <th></th>\n",
       "      <th>date</th>\n",
       "      <th>group</th>\n",
       "      <th>visitors</th>\n",
       "    </tr>\n",
       "  </thead>\n",
       "  <tbody>\n",
       "    <tr>\n",
       "      <th>0</th>\n",
       "      <td>2019-08-01</td>\n",
       "      <td>A</td>\n",
       "      <td>719</td>\n",
       "    </tr>\n",
       "    <tr>\n",
       "      <th>1</th>\n",
       "      <td>2019-08-02</td>\n",
       "      <td>A</td>\n",
       "      <td>619</td>\n",
       "    </tr>\n",
       "    <tr>\n",
       "      <th>2</th>\n",
       "      <td>2019-08-03</td>\n",
       "      <td>A</td>\n",
       "      <td>507</td>\n",
       "    </tr>\n",
       "    <tr>\n",
       "      <th>3</th>\n",
       "      <td>2019-08-04</td>\n",
       "      <td>A</td>\n",
       "      <td>717</td>\n",
       "    </tr>\n",
       "    <tr>\n",
       "      <th>4</th>\n",
       "      <td>2019-08-05</td>\n",
       "      <td>A</td>\n",
       "      <td>756</td>\n",
       "    </tr>\n",
       "  </tbody>\n",
       "</table>\n",
       "</div>"
      ],
      "text/plain": [
       "         date group  visitors\n",
       "0  2019-08-01     A       719\n",
       "1  2019-08-02     A       619\n",
       "2  2019-08-03     A       507\n",
       "3  2019-08-04     A       717\n",
       "4  2019-08-05     A       756"
      ]
     },
     "metadata": {},
     "output_type": "display_data"
    },
    {
     "name": "stdout",
     "output_type": "stream",
     "text": [
      "---------Основная информация о датафрейме---------------\n",
      "\n",
      "<class 'pandas.core.frame.DataFrame'>\n",
      "RangeIndex: 62 entries, 0 to 61\n",
      "Data columns (total 3 columns):\n",
      " #   Column    Non-Null Count  Dtype \n",
      "---  ------    --------------  ----- \n",
      " 0   date      62 non-null     object\n",
      " 1   group     62 non-null     object\n",
      " 2   visitors  62 non-null     int64 \n",
      "dtypes: int64(1), object(2)\n",
      "memory usage: 1.6+ KB\n"
     ]
    },
    {
     "data": {
      "text/plain": [
       "None"
      ]
     },
     "metadata": {},
     "output_type": "display_data"
    },
    {
     "name": "stdout",
     "output_type": "stream",
     "text": [
      "---------Пропуски-----------\n",
      "\n"
     ]
    },
    {
     "data": {
      "text/plain": [
       "date        0\n",
       "group       0\n",
       "visitors    0\n",
       "dtype: int64"
      ]
     },
     "metadata": {},
     "output_type": "display_data"
    },
    {
     "name": "stdout",
     "output_type": "stream",
     "text": [
      "\n",
      "---------Явные дубликаты-----------\n",
      "\n",
      "Явных дубликатов НЕТ\n"
     ]
    }
   ],
   "source": [
    "visitors = pd.read_csv('/datasets/visitors.csv')\n",
    "first_look (visitors)"
   ]
  },
  {
   "cell_type": "markdown",
   "metadata": {},
   "source": [
    "**Вывод**\n",
    "\n",
    "- необходимо привести названия столбцов к нижнему регистру;\n",
    "- в данных нет пропусков;\n",
    "- столбы с датами необходио привести к формату дат;\n",
    "- явных дубликатов нет."
   ]
  },
  {
   "cell_type": "markdown",
   "metadata": {},
   "source": [
    "**1.4 Изменим названия колонок**"
   ]
  },
  {
   "cell_type": "code",
   "execution_count": 6,
   "metadata": {},
   "outputs": [
    {
     "name": "stdout",
     "output_type": "stream",
     "text": [
      "<class 'pandas.core.frame.DataFrame'>\n",
      "RangeIndex: 9 entries, 0 to 8\n",
      "Data columns (total 5 columns):\n",
      " #   Column      Non-Null Count  Dtype \n",
      "---  ------      --------------  ----- \n",
      " 0   hypothesis  9 non-null      object\n",
      " 1   reach       9 non-null      int64 \n",
      " 2   impact      9 non-null      int64 \n",
      " 3   confidence  9 non-null      int64 \n",
      " 4   efforts     9 non-null      int64 \n",
      "dtypes: int64(4), object(1)\n",
      "memory usage: 488.0+ bytes\n"
     ]
    }
   ],
   "source": [
    "hypothesis.columns = hypothesis.columns.str.lower()\n",
    "orders.columns = orders.columns.str.lower()\n",
    "\n",
    "hypothesis.info()"
   ]
  },
  {
   "cell_type": "markdown",
   "metadata": {},
   "source": [
    "**1.5 Изменим типы данных**"
   ]
  },
  {
   "cell_type": "code",
   "execution_count": 7,
   "metadata": {},
   "outputs": [
    {
     "name": "stdout",
     "output_type": "stream",
     "text": [
      "<class 'pandas.core.frame.DataFrame'>\n",
      "RangeIndex: 1197 entries, 0 to 1196\n",
      "Data columns (total 5 columns):\n",
      " #   Column         Non-Null Count  Dtype         \n",
      "---  ------         --------------  -----         \n",
      " 0   transactionid  1197 non-null   int64         \n",
      " 1   visitorid      1197 non-null   int64         \n",
      " 2   date           1197 non-null   datetime64[ns]\n",
      " 3   revenue        1197 non-null   int64         \n",
      " 4   group          1197 non-null   object        \n",
      "dtypes: datetime64[ns](1), int64(3), object(1)\n",
      "memory usage: 46.9+ KB\n",
      "--------------------------------------\n",
      "\n",
      "<class 'pandas.core.frame.DataFrame'>\n",
      "RangeIndex: 62 entries, 0 to 61\n",
      "Data columns (total 3 columns):\n",
      " #   Column    Non-Null Count  Dtype         \n",
      "---  ------    --------------  -----         \n",
      " 0   date      62 non-null     datetime64[ns]\n",
      " 1   group     62 non-null     object        \n",
      " 2   visitors  62 non-null     int64         \n",
      "dtypes: datetime64[ns](1), int64(1), object(1)\n",
      "memory usage: 1.6+ KB\n"
     ]
    },
    {
     "data": {
      "text/plain": [
       "None"
      ]
     },
     "metadata": {},
     "output_type": "display_data"
    }
   ],
   "source": [
    "orders['date'] = pd.to_datetime(orders['date'])\n",
    "visitors['date'] = pd.to_datetime(visitors['date'])\n",
    "\n",
    "orders.info()\n",
    "print('--------------------------------------\\n')\n",
    "display(visitors.info())"
   ]
  },
  {
   "cell_type": "markdown",
   "metadata": {},
   "source": [
    "**Общий вывод**\n",
    "\n",
    "Данные из всех датафреймов проверенны. Дубликатов и пропусков не обнаруженно. Названия столбцов приведены к привычному формату. Проблем с содержанием в таблицах не обнаружено."
   ]
  },
  {
   "cell_type": "markdown",
   "metadata": {},
   "source": [
    "<a id=\"chapter2\"></a> \n",
    "\n",
    "###  Приоритизация гипотез"
   ]
  },
  {
   "cell_type": "markdown",
   "metadata": {},
   "source": [
    "**2.1 Посчитаем ICE для гипотез**"
   ]
  },
  {
   "cell_type": "code",
   "execution_count": 8,
   "metadata": {},
   "outputs": [
    {
     "data": {
      "text/html": [
       "<div>\n",
       "<style scoped>\n",
       "    .dataframe tbody tr th:only-of-type {\n",
       "        vertical-align: middle;\n",
       "    }\n",
       "\n",
       "    .dataframe tbody tr th {\n",
       "        vertical-align: top;\n",
       "    }\n",
       "\n",
       "    .dataframe thead th {\n",
       "        text-align: right;\n",
       "    }\n",
       "</style>\n",
       "<table border=\"1\" class=\"dataframe\">\n",
       "  <thead>\n",
       "    <tr style=\"text-align: right;\">\n",
       "      <th></th>\n",
       "      <th>hypothesis</th>\n",
       "      <th>reach</th>\n",
       "      <th>impact</th>\n",
       "      <th>confidence</th>\n",
       "      <th>efforts</th>\n",
       "      <th>ice</th>\n",
       "    </tr>\n",
       "  </thead>\n",
       "  <tbody>\n",
       "    <tr>\n",
       "      <th>8</th>\n",
       "      <td>Запустить акцию, дающую скидку на товар в день рождения</td>\n",
       "      <td>1</td>\n",
       "      <td>9</td>\n",
       "      <td>9</td>\n",
       "      <td>5</td>\n",
       "      <td>16.2</td>\n",
       "    </tr>\n",
       "    <tr>\n",
       "      <th>0</th>\n",
       "      <td>Добавить два новых канала привлечения трафика, что позволит привлекать на 30% больше пользователей</td>\n",
       "      <td>3</td>\n",
       "      <td>10</td>\n",
       "      <td>8</td>\n",
       "      <td>6</td>\n",
       "      <td>13.3</td>\n",
       "    </tr>\n",
       "    <tr>\n",
       "      <th>7</th>\n",
       "      <td>Добавить форму подписки на все основные страницы, чтобы собрать базу клиентов для email-рассылок</td>\n",
       "      <td>10</td>\n",
       "      <td>7</td>\n",
       "      <td>8</td>\n",
       "      <td>5</td>\n",
       "      <td>11.2</td>\n",
       "    </tr>\n",
       "    <tr>\n",
       "      <th>6</th>\n",
       "      <td>Показать на главной странице баннеры с актуальными акциями и распродажами, чтобы увеличить конверсию</td>\n",
       "      <td>5</td>\n",
       "      <td>3</td>\n",
       "      <td>8</td>\n",
       "      <td>3</td>\n",
       "      <td>8.0</td>\n",
       "    </tr>\n",
       "    <tr>\n",
       "      <th>2</th>\n",
       "      <td>Добавить блоки рекомендаций товаров на сайт интернет магазина, чтобы повысить конверсию и средний чек заказа</td>\n",
       "      <td>8</td>\n",
       "      <td>3</td>\n",
       "      <td>7</td>\n",
       "      <td>3</td>\n",
       "      <td>7.0</td>\n",
       "    </tr>\n",
       "    <tr>\n",
       "      <th>1</th>\n",
       "      <td>Запустить собственную службу доставки, что сократит срок доставки заказов</td>\n",
       "      <td>2</td>\n",
       "      <td>5</td>\n",
       "      <td>4</td>\n",
       "      <td>10</td>\n",
       "      <td>2.0</td>\n",
       "    </tr>\n",
       "    <tr>\n",
       "      <th>5</th>\n",
       "      <td>Добавить страницу отзывов клиентов о магазине, что позволит увеличить количество заказов</td>\n",
       "      <td>3</td>\n",
       "      <td>2</td>\n",
       "      <td>2</td>\n",
       "      <td>3</td>\n",
       "      <td>1.3</td>\n",
       "    </tr>\n",
       "    <tr>\n",
       "      <th>3</th>\n",
       "      <td>Изменить структура категорий, что увеличит конверсию, т.к. пользователи быстрее найдут нужный товар</td>\n",
       "      <td>8</td>\n",
       "      <td>3</td>\n",
       "      <td>3</td>\n",
       "      <td>8</td>\n",
       "      <td>1.1</td>\n",
       "    </tr>\n",
       "    <tr>\n",
       "      <th>4</th>\n",
       "      <td>Изменить цвет фона главной страницы, чтобы увеличить вовлеченность пользователей</td>\n",
       "      <td>3</td>\n",
       "      <td>1</td>\n",
       "      <td>1</td>\n",
       "      <td>1</td>\n",
       "      <td>1.0</td>\n",
       "    </tr>\n",
       "  </tbody>\n",
       "</table>\n",
       "</div>"
      ],
      "text/plain": [
       "                                                                                                     hypothesis  \\\n",
       "8                                                       Запустить акцию, дающую скидку на товар в день рождения   \n",
       "0            Добавить два новых канала привлечения трафика, что позволит привлекать на 30% больше пользователей   \n",
       "7              Добавить форму подписки на все основные страницы, чтобы собрать базу клиентов для email-рассылок   \n",
       "6          Показать на главной странице баннеры с актуальными акциями и распродажами, чтобы увеличить конверсию   \n",
       "2  Добавить блоки рекомендаций товаров на сайт интернет магазина, чтобы повысить конверсию и средний чек заказа   \n",
       "1                                     Запустить собственную службу доставки, что сократит срок доставки заказов   \n",
       "5                      Добавить страницу отзывов клиентов о магазине, что позволит увеличить количество заказов   \n",
       "3           Изменить структура категорий, что увеличит конверсию, т.к. пользователи быстрее найдут нужный товар   \n",
       "4                              Изменить цвет фона главной страницы, чтобы увеличить вовлеченность пользователей   \n",
       "\n",
       "   reach  impact  confidence  efforts   ice  \n",
       "8      1       9           9        5  16.2  \n",
       "0      3      10           8        6  13.3  \n",
       "7     10       7           8        5  11.2  \n",
       "6      5       3           8        3   8.0  \n",
       "2      8       3           7        3   7.0  \n",
       "1      2       5           4       10   2.0  \n",
       "5      3       2           2        3   1.3  \n",
       "3      8       3           3        8   1.1  \n",
       "4      3       1           1        1   1.0  "
      ]
     },
     "execution_count": 8,
     "metadata": {},
     "output_type": "execute_result"
    }
   ],
   "source": [
    "hypothesis['ice'] = round((hypothesis['impact'] * hypothesis['confidence']) / hypothesis['efforts'], 1)\n",
    "hypothesis.sort_values('ice', ascending=False)"
   ]
  },
  {
   "cell_type": "markdown",
   "metadata": {},
   "source": [
    "**Вывод**\n",
    "Наиболее перспективные гипотезы по ICE: \n",
    "1. Запустить акцию, дающую скидку на товар в день рождения;\n",
    "2. Добавить два новых канала привлечения трафика, что позволит привлекать на 30% больше пользователей;\n",
    "3. Добавить форму подписки на все основные страницы, чтобы собрать базу клиентов для email-рассылок.\t"
   ]
  },
  {
   "cell_type": "markdown",
   "metadata": {},
   "source": [
    "**2.2 Посчитаем RICE для гипотез**"
   ]
  },
  {
   "cell_type": "code",
   "execution_count": 9,
   "metadata": {},
   "outputs": [
    {
     "data": {
      "text/html": [
       "<div>\n",
       "<style scoped>\n",
       "    .dataframe tbody tr th:only-of-type {\n",
       "        vertical-align: middle;\n",
       "    }\n",
       "\n",
       "    .dataframe tbody tr th {\n",
       "        vertical-align: top;\n",
       "    }\n",
       "\n",
       "    .dataframe thead th {\n",
       "        text-align: right;\n",
       "    }\n",
       "</style>\n",
       "<table border=\"1\" class=\"dataframe\">\n",
       "  <thead>\n",
       "    <tr style=\"text-align: right;\">\n",
       "      <th></th>\n",
       "      <th>hypothesis</th>\n",
       "      <th>reach</th>\n",
       "      <th>impact</th>\n",
       "      <th>confidence</th>\n",
       "      <th>efforts</th>\n",
       "      <th>ice</th>\n",
       "      <th>rice</th>\n",
       "    </tr>\n",
       "  </thead>\n",
       "  <tbody>\n",
       "    <tr>\n",
       "      <th>7</th>\n",
       "      <td>Добавить форму подписки на все основные страницы, чтобы собрать базу клиентов для email-рассылок</td>\n",
       "      <td>10</td>\n",
       "      <td>7</td>\n",
       "      <td>8</td>\n",
       "      <td>5</td>\n",
       "      <td>11.2</td>\n",
       "      <td>112.0</td>\n",
       "    </tr>\n",
       "    <tr>\n",
       "      <th>2</th>\n",
       "      <td>Добавить блоки рекомендаций товаров на сайт интернет магазина, чтобы повысить конверсию и средний чек заказа</td>\n",
       "      <td>8</td>\n",
       "      <td>3</td>\n",
       "      <td>7</td>\n",
       "      <td>3</td>\n",
       "      <td>7.0</td>\n",
       "      <td>56.0</td>\n",
       "    </tr>\n",
       "    <tr>\n",
       "      <th>0</th>\n",
       "      <td>Добавить два новых канала привлечения трафика, что позволит привлекать на 30% больше пользователей</td>\n",
       "      <td>3</td>\n",
       "      <td>10</td>\n",
       "      <td>8</td>\n",
       "      <td>6</td>\n",
       "      <td>13.3</td>\n",
       "      <td>40.0</td>\n",
       "    </tr>\n",
       "    <tr>\n",
       "      <th>6</th>\n",
       "      <td>Показать на главной странице баннеры с актуальными акциями и распродажами, чтобы увеличить конверсию</td>\n",
       "      <td>5</td>\n",
       "      <td>3</td>\n",
       "      <td>8</td>\n",
       "      <td>3</td>\n",
       "      <td>8.0</td>\n",
       "      <td>40.0</td>\n",
       "    </tr>\n",
       "    <tr>\n",
       "      <th>8</th>\n",
       "      <td>Запустить акцию, дающую скидку на товар в день рождения</td>\n",
       "      <td>1</td>\n",
       "      <td>9</td>\n",
       "      <td>9</td>\n",
       "      <td>5</td>\n",
       "      <td>16.2</td>\n",
       "      <td>16.2</td>\n",
       "    </tr>\n",
       "    <tr>\n",
       "      <th>3</th>\n",
       "      <td>Изменить структура категорий, что увеличит конверсию, т.к. пользователи быстрее найдут нужный товар</td>\n",
       "      <td>8</td>\n",
       "      <td>3</td>\n",
       "      <td>3</td>\n",
       "      <td>8</td>\n",
       "      <td>1.1</td>\n",
       "      <td>9.0</td>\n",
       "    </tr>\n",
       "    <tr>\n",
       "      <th>1</th>\n",
       "      <td>Запустить собственную службу доставки, что сократит срок доставки заказов</td>\n",
       "      <td>2</td>\n",
       "      <td>5</td>\n",
       "      <td>4</td>\n",
       "      <td>10</td>\n",
       "      <td>2.0</td>\n",
       "      <td>4.0</td>\n",
       "    </tr>\n",
       "    <tr>\n",
       "      <th>5</th>\n",
       "      <td>Добавить страницу отзывов клиентов о магазине, что позволит увеличить количество заказов</td>\n",
       "      <td>3</td>\n",
       "      <td>2</td>\n",
       "      <td>2</td>\n",
       "      <td>3</td>\n",
       "      <td>1.3</td>\n",
       "      <td>4.0</td>\n",
       "    </tr>\n",
       "    <tr>\n",
       "      <th>4</th>\n",
       "      <td>Изменить цвет фона главной страницы, чтобы увеличить вовлеченность пользователей</td>\n",
       "      <td>3</td>\n",
       "      <td>1</td>\n",
       "      <td>1</td>\n",
       "      <td>1</td>\n",
       "      <td>1.0</td>\n",
       "      <td>3.0</td>\n",
       "    </tr>\n",
       "  </tbody>\n",
       "</table>\n",
       "</div>"
      ],
      "text/plain": [
       "                                                                                                     hypothesis  \\\n",
       "7              Добавить форму подписки на все основные страницы, чтобы собрать базу клиентов для email-рассылок   \n",
       "2  Добавить блоки рекомендаций товаров на сайт интернет магазина, чтобы повысить конверсию и средний чек заказа   \n",
       "0            Добавить два новых канала привлечения трафика, что позволит привлекать на 30% больше пользователей   \n",
       "6          Показать на главной странице баннеры с актуальными акциями и распродажами, чтобы увеличить конверсию   \n",
       "8                                                       Запустить акцию, дающую скидку на товар в день рождения   \n",
       "3           Изменить структура категорий, что увеличит конверсию, т.к. пользователи быстрее найдут нужный товар   \n",
       "1                                     Запустить собственную службу доставки, что сократит срок доставки заказов   \n",
       "5                      Добавить страницу отзывов клиентов о магазине, что позволит увеличить количество заказов   \n",
       "4                              Изменить цвет фона главной страницы, чтобы увеличить вовлеченность пользователей   \n",
       "\n",
       "   reach  impact  confidence  efforts   ice   rice  \n",
       "7     10       7           8        5  11.2  112.0  \n",
       "2      8       3           7        3   7.0   56.0  \n",
       "0      3      10           8        6  13.3   40.0  \n",
       "6      5       3           8        3   8.0   40.0  \n",
       "8      1       9           9        5  16.2   16.2  \n",
       "3      8       3           3        8   1.1    9.0  \n",
       "1      2       5           4       10   2.0    4.0  \n",
       "5      3       2           2        3   1.3    4.0  \n",
       "4      3       1           1        1   1.0    3.0  "
      ]
     },
     "execution_count": 9,
     "metadata": {},
     "output_type": "execute_result"
    }
   ],
   "source": [
    "hypothesis['rice'] = (hypothesis['reach'] * hypothesis['impact'] * hypothesis['confidence']) / hypothesis['efforts']\n",
    "hypothesis.sort_values('rice', ascending=False)"
   ]
  },
  {
   "cell_type": "markdown",
   "metadata": {},
   "source": [
    "**Вывод**\n",
    "Наиболее перспективные гипотезы по RICE: \n",
    "1. Добавить форму подписки на все основные страницы, чтобы собрать базу клиентов для email-рассылок;\n",
    "2. Добавить блоки рекомендаций товаров на сайт интернет магазина, чтобы повысить конверсию и средний чек заказа;\n",
    "3. Добавить два новых канала привлечения трафика, что позволит привлекать на 30% больше пользователей.\n"
   ]
  },
  {
   "cell_type": "markdown",
   "metadata": {},
   "source": [
    "**Общий вывод**\n",
    "\n",
    "При применении RICE вместо ICE изменилась приоритизация гипотез, в частности гипотезы:\n",
    "1. Добавить форму подписки на все основные страницы, чтобы собрать базу клиентов для email-рассылок;\n",
    "2. Добавить блоки рекомендаций товаров на сайт интернет магазина, чтобы повысить конверсию и средний чек заказа\t\n",
    "Так получилось, потому что параметр reach(скольких пользователей затронет изменение), соотвественно, равен 10 и 8, в то время как у других гипотез он меньше.\n",
    "\n",
    "Выбираем гипотезу для анализа А/В-теста:\n",
    "1. Добавить форму подписки на все основные страницы, чтобы собрать базу клиентов для email-рассылок.\t"
   ]
  },
  {
   "cell_type": "markdown",
   "metadata": {},
   "source": [
    "<a id=\"chapter3\"></a>\n",
    "\n",
    "###  Анализ A/B-теста"
   ]
  },
  {
   "cell_type": "markdown",
   "metadata": {},
   "source": [
    "**3.1 Предобработка данных перед анализом результатов А/В-теста**"
   ]
  },
  {
   "cell_type": "markdown",
   "metadata": {},
   "source": [
    "Проверим наличие пользователей, которые присутствуют одновременно и в группе А, и в группе Б"
   ]
  },
  {
   "cell_type": "code",
   "execution_count": 10,
   "metadata": {},
   "outputs": [
    {
     "data": {
      "text/plain": [
       "1197"
      ]
     },
     "execution_count": 10,
     "metadata": {},
     "output_type": "execute_result"
    }
   ],
   "source": [
    "orders_before = len(orders)\n",
    "orders_before"
   ]
  },
  {
   "cell_type": "code",
   "execution_count": 11,
   "metadata": {},
   "outputs": [
    {
     "name": "stdout",
     "output_type": "stream",
     "text": [
      "Количество пользователей, присутствующих в группах A и B: 58\n"
     ]
    }
   ],
   "source": [
    "# Получаем уникальные userid для группы A\n",
    "userid_A = orders['visitorid'].loc[orders['group'] == 'A'].unique()\n",
    "\n",
    "# Получаем уникальные userid для группы B\n",
    "userid_B = orders['visitorid'].loc[orders['group'] == 'B'].unique()\n",
    "\n",
    "# Преобразуем в множества для удобной работы\n",
    "set_A = set(userid_A)\n",
    "set_B = set(userid_B)\n",
    "\n",
    "# Находим пересечение\n",
    "intersection_users = set_A.intersection(set_B)\n",
    "\n",
    "# Подсчитываем количество пользователей в пересечении\n",
    "count_common_users = len(intersection_users)\n",
    "\n",
    "print(f'Количество пользователей, присутствующих в группах A и B: {count_common_users}')"
   ]
  },
  {
   "cell_type": "markdown",
   "metadata": {},
   "source": [
    "58 пользователей находятся одновременно в группе А и В. Если пользователь участвовал в обеих группах, то нельзя сказать, участие в какой из них повлияло на его поведение. Таких пользователей лучше исключить."
   ]
  },
  {
   "cell_type": "code",
   "execution_count": 12,
   "metadata": {},
   "outputs": [
    {
     "data": {
      "text/plain": [
       "1016"
      ]
     },
     "execution_count": 12,
     "metadata": {},
     "output_type": "execute_result"
    }
   ],
   "source": [
    "orders = orders[~orders['visitorid'].isin(intersection_users)]\n",
    "orders_after = len(orders)\n",
    "orders_after"
   ]
  },
  {
   "cell_type": "markdown",
   "metadata": {},
   "source": [
    "**3.2 Построим график кумулятивной выручки по группам**"
   ]
  },
  {
   "cell_type": "markdown",
   "metadata": {},
   "source": [
    "Собирем кумулятивные данные"
   ]
  },
  {
   "cell_type": "code",
   "execution_count": 13,
   "metadata": {},
   "outputs": [
    {
     "data": {
      "text/html": [
       "<div>\n",
       "<style scoped>\n",
       "    .dataframe tbody tr th:only-of-type {\n",
       "        vertical-align: middle;\n",
       "    }\n",
       "\n",
       "    .dataframe tbody tr th {\n",
       "        vertical-align: top;\n",
       "    }\n",
       "\n",
       "    .dataframe thead th {\n",
       "        text-align: right;\n",
       "    }\n",
       "</style>\n",
       "<table border=\"1\" class=\"dataframe\">\n",
       "  <thead>\n",
       "    <tr style=\"text-align: right;\">\n",
       "      <th></th>\n",
       "      <th>date</th>\n",
       "      <th>group</th>\n",
       "      <th>orders</th>\n",
       "      <th>buyers</th>\n",
       "      <th>revenue</th>\n",
       "      <th>visitors</th>\n",
       "    </tr>\n",
       "  </thead>\n",
       "  <tbody>\n",
       "    <tr>\n",
       "      <th>0</th>\n",
       "      <td>2019-08-01</td>\n",
       "      <td>A</td>\n",
       "      <td>23</td>\n",
       "      <td>19</td>\n",
       "      <td>142779</td>\n",
       "      <td>719</td>\n",
       "    </tr>\n",
       "    <tr>\n",
       "      <th>1</th>\n",
       "      <td>2019-08-01</td>\n",
       "      <td>B</td>\n",
       "      <td>17</td>\n",
       "      <td>17</td>\n",
       "      <td>59758</td>\n",
       "      <td>713</td>\n",
       "    </tr>\n",
       "    <tr>\n",
       "      <th>2</th>\n",
       "      <td>2019-08-02</td>\n",
       "      <td>A</td>\n",
       "      <td>42</td>\n",
       "      <td>36</td>\n",
       "      <td>234381</td>\n",
       "      <td>1338</td>\n",
       "    </tr>\n",
       "    <tr>\n",
       "      <th>3</th>\n",
       "      <td>2019-08-02</td>\n",
       "      <td>B</td>\n",
       "      <td>40</td>\n",
       "      <td>39</td>\n",
       "      <td>221801</td>\n",
       "      <td>1294</td>\n",
       "    </tr>\n",
       "    <tr>\n",
       "      <th>4</th>\n",
       "      <td>2019-08-03</td>\n",
       "      <td>A</td>\n",
       "      <td>66</td>\n",
       "      <td>60</td>\n",
       "      <td>346854</td>\n",
       "      <td>1845</td>\n",
       "    </tr>\n",
       "  </tbody>\n",
       "</table>\n",
       "</div>"
      ],
      "text/plain": [
       "        date group  orders  buyers  revenue  visitors\n",
       "0 2019-08-01     A      23      19   142779       719\n",
       "1 2019-08-01     B      17      17    59758       713\n",
       "2 2019-08-02     A      42      36   234381      1338\n",
       "3 2019-08-02     B      40      39   221801      1294\n",
       "4 2019-08-03     A      66      60   346854      1845"
      ]
     },
     "execution_count": 13,
     "metadata": {},
     "output_type": "execute_result"
    }
   ],
   "source": [
    "datesGroups = orders[['date','group']].drop_duplicates() \n",
    "ordersAggregated = datesGroups.apply(\n",
    "    lambda x: orders[\n",
    "        np.logical_and(\n",
    "            orders['date'] <= x['date'], orders['group'] == x['group']\n",
    "        )\n",
    "    ].agg(\n",
    "        {\n",
    "            'date': 'max',\n",
    "            'group': 'max',\n",
    "            'transactionid': 'nunique',\n",
    "            'visitorid': 'nunique',\n",
    "            'revenue': 'sum',\n",
    "        }\n",
    "    ),\n",
    "    axis=1,\n",
    ").sort_values(by=['date', 'group'])\n",
    "\n",
    "visitorsAggregated = datesGroups.apply(\n",
    "    lambda x: visitors[\n",
    "        np.logical_and(\n",
    "            visitors['date'] <= x['date'], visitors['group'] == x['group']\n",
    "        )\n",
    "    ].agg({'date': 'max', 'group': 'max', 'visitors': 'sum'}),\n",
    "    axis=1,\n",
    ").sort_values(by=['date', 'group'])\n",
    "\n",
    "cumulativeData = ordersAggregated.merge(\n",
    "    visitorsAggregated, left_on=['date', 'group'], right_on=['date', 'group']\n",
    ")\n",
    "cumulativeData.columns = [\n",
    "    'date',\n",
    "    'group',\n",
    "    'orders',\n",
    "    'buyers',\n",
    "    'revenue',\n",
    "    'visitors',\n",
    "]\n",
    "\n",
    "cumulativeData.head()"
   ]
  },
  {
   "cell_type": "code",
   "execution_count": 14,
   "metadata": {},
   "outputs": [
    {
     "data": {
      "image/png": "[encoded data removed]",
      "text/plain": [
       "<Figure size 1080x360 with 1 Axes>"
      ]
     },
     "metadata": {
      "needs_background": "light"
     },
     "output_type": "display_data"
    }
   ],
   "source": [
    "cumulativeRevenueA = cumulativeData[cumulativeData['group']=='A'][['date','revenue', 'orders']]\n",
    "\n",
    "# датафрейм с кумулятивным количеством заказов и кумулятивной выручкой по дням в группе B\n",
    "cumulativeRevenueB = cumulativeData[cumulativeData['group']=='B'][['date','revenue', 'orders']]\n",
    "\n",
    "plt.figure(figsize=(15, 5))\n",
    "# Строим график выручки группы А\n",
    "plt.plot(cumulativeRevenueA['date'], cumulativeRevenueA['revenue'], label='A')\n",
    "\n",
    "# Строим график выручки группы B\n",
    "plt.plot(cumulativeRevenueB['date'], cumulativeRevenueB['revenue'], label='B')\n",
    "\n",
    "plt.legend()\n",
    "plt.title('График кумулятивной выручки по группам')\n",
    "plt.ylabel('Объем кумулятивной выручки')\n",
    "plt.xlabel('Дата')\n",
    "plt.show()"
   ]
  },
  {
   "cell_type": "markdown",
   "metadata": {},
   "source": [
    "**Вывод:** Группа В лидирует весь тест. 18.08.2019 заметен резкий скачек группы Б, возможно это неисключенные выбросы."
   ]
  },
  {
   "cell_type": "markdown",
   "metadata": {},
   "source": [
    "**3.3 Построим график кумулятивного среднего чека по группам**"
   ]
  },
  {
   "cell_type": "code",
   "execution_count": 15,
   "metadata": {},
   "outputs": [
    {
     "data": {
      "image/png": "[encoded data removed]",
      "text/plain": [
       "<Figure size 1080x360 with 1 Axes>"
      ]
     },
     "metadata": {
      "needs_background": "light"
     },
     "output_type": "display_data"
    }
   ],
   "source": [
    "plt.figure(figsize=(15, 5))\n",
    "plt.plot(cumulativeRevenueA['date'], cumulativeRevenueA['revenue']/cumulativeRevenueA['orders'], label='A')\n",
    "plt.plot(cumulativeRevenueB['date'], cumulativeRevenueB['revenue']/cumulativeRevenueB['orders'], label='B')\n",
    "plt.legend() \n",
    "plt.title('График кумулятивного среднего чека по группам')\n",
    "plt.ylabel('Средний чек')\n",
    "plt.xlabel('Дата')\n",
    "plt.show()"
   ]
  },
  {
   "cell_type": "markdown",
   "metadata": {},
   "source": [
    "**Вывод:** Кумулятивное значение среднего чека колеблется до 18.08.2019, после резкий выброс (скорее всего попали крупные заказы) группы В. После 21.08.2019 график начал выравниваться. "
   ]
  },
  {
   "cell_type": "markdown",
   "metadata": {},
   "source": [
    "**3.4 Построим график относительного изменения кумулятивного среднего чека группы B к группе A**"
   ]
  },
  {
   "cell_type": "code",
   "execution_count": 16,
   "metadata": {},
   "outputs": [
    {
     "data": {
      "image/png": "[encoded data removed]",
      "text/plain": [
       "<Figure size 1080x360 with 1 Axes>"
      ]
     },
     "metadata": {
      "needs_background": "light"
     },
     "output_type": "display_data"
    }
   ],
   "source": [
    "mergedCumulativeRevenue = cumulativeRevenueA.merge(cumulativeRevenueB, left_on='date', right_on='date', how='left', suffixes=['A', 'B'])\n",
    "plt.figure(figsize=(15, 5))\n",
    "# cтроим отношение средних чеков\n",
    "plt.plot(mergedCumulativeRevenue['date'], (mergedCumulativeRevenue['revenueB']/mergedCumulativeRevenue['ordersB'])/(mergedCumulativeRevenue['revenueA']/mergedCumulativeRevenue['ordersA'])-1)\n",
    "\n",
    "# добавляем ось X\n",
    "plt.axhline(y=0, color='black', linestyle='--') \n",
    "\n",
    "plt.title('График относительного изменения кумулятивного среднего чека группы B к группе A')\n",
    "plt.ylabel('Отношение кумулятивного среднего чека группы B к группе A')\n",
    "plt.xlabel('Дата')\n",
    "plt.show()"
   ]
  },
  {
   "cell_type": "markdown",
   "metadata": {},
   "source": [
    "**Вывод:** Результаты теста значительно менялись в несколько дат. Средний чек пользователей группы В существенно превышает аналогичный показатель группы А. Видимо, тогда были совершены аномальные заказы."
   ]
  },
  {
   "cell_type": "markdown",
   "metadata": {},
   "source": [
    "**3.5 Построим график кумулятивного среднего количества заказов на посетителя по группам**"
   ]
  },
  {
   "cell_type": "code",
   "execution_count": 17,
   "metadata": {},
   "outputs": [
    {
     "data": {
      "image/png": "[encoded data removed]",
      "text/plain": [
       "<Figure size 1080x360 with 1 Axes>"
      ]
     },
     "metadata": {
      "needs_background": "light"
     },
     "output_type": "display_data"
    }
   ],
   "source": [
    "cumulativeData['conversion'] = cumulativeData['orders']/cumulativeData['visitors']\n",
    "\n",
    "# отделяем данные по группе A\n",
    "cumulativeDataA = cumulativeData[cumulativeData['group']=='A']\n",
    "\n",
    "# отделяем данные по группе B\n",
    "cumulativeDataB = cumulativeData[cumulativeData['group']=='B']\n",
    "plt.figure(figsize=(15, 5))\n",
    "plt.plot(cumulativeDataA['date'], cumulativeDataA['conversion'], label='A')\n",
    "plt.plot(cumulativeDataB['date'], cumulativeDataB['conversion'], label='B')\n",
    "# задаем масштаб осей\n",
    "plt.axis([dt.datetime(2019, 8, 1), dt.datetime(2019, 9, 1), 0, 0.05])\n",
    "plt.legend() \n",
    "plt.title('График кумулятивного среднего количества заказов на посетителя по группам')\n",
    "plt.ylabel('Средний количество заказов')\n",
    "plt.xlabel('Дата')\n",
    "plt.show()"
   ]
  },
  {
   "cell_type": "markdown",
   "metadata": {},
   "source": [
    "**Вывод:** В начале теста группа А имела большее кумулятивное среднее количество заказов, но постепенно группа В стала лидировать, и график зафиксировался в районе 2-4%."
   ]
  },
  {
   "cell_type": "markdown",
   "metadata": {},
   "source": [
    "**3.6 Построим график относительного изменения кумулятивного среднего количества заказов на посетителя группы B к группе A**"
   ]
  },
  {
   "cell_type": "code",
   "execution_count": 18,
   "metadata": {},
   "outputs": [
    {
     "data": {
      "image/png": "[encoded data removed]",
      "text/plain": [
       "<Figure size 1080x360 with 1 Axes>"
      ]
     },
     "metadata": {
      "needs_background": "light"
     },
     "output_type": "display_data"
    }
   ],
   "source": [
    "mergedCumulativeConversions = cumulativeDataA[['date','conversion']].merge(cumulativeDataB[['date','conversion']], left_on='date', right_on='date', how='left', suffixes=['A', 'B'])\n",
    "\n",
    "plt.figure(figsize=(15, 5))\n",
    "plt.plot(mergedCumulativeConversions['date'], mergedCumulativeConversions['conversionB']/mergedCumulativeConversions['conversionA']-1, label=\"Относительный прирост кумулятивного среднего количества заказов на посетителя группы B относительно группы A\")\n",
    "plt.axhline(y=0, color='black', linestyle='--')\n",
    "plt.axhline(y=0.2, color='grey', linestyle='--')\n",
    "plt.legend() \n",
    "plt.title('График относительного изменения кумулятивного среднего количества заказов на посетителя группы B к группе A')\n",
    "plt.ylabel('Отношение среднего количества заказов на посетителя В к А')\n",
    "plt.xlabel('Дата')\n",
    "plt.axis([dt.datetime(2019, 8, 1), dt.datetime(2019, 9, 1), -0.2, 0.3])\n",
    "plt.show()"
   ]
  },
  {
   "cell_type": "markdown",
   "metadata": {},
   "source": [
    "**Вывод:** Почти с самого начала группа В лидирует и привышает группу А примерно на 15% (также был скачек чуть больше 20%)."
   ]
  },
  {
   "cell_type": "markdown",
   "metadata": {},
   "source": [
    "**3.7 Построим точечный график количества заказов по пользователям**"
   ]
  },
  {
   "cell_type": "code",
   "execution_count": 19,
   "metadata": {},
   "outputs": [
    {
     "data": {
      "image/png": "[encoded data removed]",
      "text/plain": [
       "<Figure size 1080x360 with 1 Axes>"
      ]
     },
     "metadata": {
      "needs_background": "light"
     },
     "output_type": "display_data"
    }
   ],
   "source": [
    "ordersByUsers = (\n",
    "    orders.groupby('visitorid', as_index=False)\n",
    "    .agg({'transactionid': 'nunique'})\n",
    ")\n",
    "ordersByUsers.columns = ['visitorid', 'transactionid']\n",
    "\n",
    "x_values = pd.Series(range(0, len(ordersByUsers)))\n",
    "plt.figure(figsize=(15, 5))\n",
    "plt.scatter(x_values, ordersByUsers['transactionid'])\n",
    "plt.title('Точечный график количества заказов по пользователям')\n",
    "plt.ylabel('Количество заказов')\n",
    "plt.xlabel('Пользователи')\n",
    "plt.show()"
   ]
  },
  {
   "cell_type": "markdown",
   "metadata": {},
   "source": [
    "**Вывод:** По графику видно, что в среднем один пользователь делал один заказ."
   ]
  },
  {
   "cell_type": "markdown",
   "metadata": {},
   "source": [
    "**3.8 Посчитаем 95-й и 99-й перцентили количества заказов на пользователя**"
   ]
  },
  {
   "cell_type": "code",
   "execution_count": 20,
   "metadata": {},
   "outputs": [
    {
     "data": {
      "text/plain": [
       "array([1., 2.])"
      ]
     },
     "execution_count": 20,
     "metadata": {},
     "output_type": "execute_result"
    }
   ],
   "source": [
    "np.percentile(ordersByUsers['transactionid'], [95, 99])"
   ]
  },
  {
   "cell_type": "markdown",
   "metadata": {},
   "source": [
    "**Вывод:** Не более 5% пользователей совершали более 2 заказов. И не более 1% пользователей - больше 2 заказов."
   ]
  },
  {
   "cell_type": "markdown",
   "metadata": {},
   "source": [
    "**3.9 Построим точечный график стоимостей заказов**"
   ]
  },
  {
   "cell_type": "code",
   "execution_count": 21,
   "metadata": {},
   "outputs": [
    {
     "data": {
      "image/png": "[encoded data removed]",
      "text/plain": [
       "<Figure size 1080x360 with 1 Axes>"
      ]
     },
     "metadata": {
      "needs_background": "light"
     },
     "output_type": "display_data"
    }
   ],
   "source": [
    "x_values = pd.Series(range(0, len(orders['revenue'])))\n",
    "plt.figure(figsize=(15, 5))\n",
    "plt.scatter(x_values, orders['revenue'])\n",
    "plt.title('Точечный график стоимостей заказов по пользователям')\n",
    "plt.ylabel('Стоимость заказа')\n",
    "plt.xlabel('Пользователи')\n",
    "plt.show()"
   ]
  },
  {
   "cell_type": "markdown",
   "metadata": {},
   "source": [
    "**Вывод:** Заказов стоимостью более 20000 рублей очень мало. На графике видно два резко выбивающихся выброса."
   ]
  },
  {
   "cell_type": "markdown",
   "metadata": {},
   "source": [
    "**Рассмотрим данный график без выбросов**"
   ]
  },
  {
   "cell_type": "code",
   "execution_count": 22,
   "metadata": {},
   "outputs": [
    {
     "data": {
      "image/png": "[encoded data removed]",
      "text/plain": [
       "<Figure size 1080x360 with 1 Axes>"
      ]
     },
     "metadata": {
      "needs_background": "light"
     },
     "output_type": "display_data"
    },
    {
     "data": {
      "text/plain": [
       "count      944.000000\n",
       "mean      4616.976695\n",
       "std       4940.818940\n",
       "min         50.000000\n",
       "25%       1100.000000\n",
       "50%       2600.000000\n",
       "75%       6252.500000\n",
       "max      19990.000000\n",
       "Name: revenue, dtype: float64"
      ]
     },
     "execution_count": 22,
     "metadata": {},
     "output_type": "execute_result"
    }
   ],
   "source": [
    "user_max_revenue = orders[orders['revenue'] < 20000]\n",
    "x_values = pd.Series(range(0, len(user_max_revenue)))\n",
    "plt.figure(figsize=(15, 5))\n",
    "plt.scatter(x_values, user_max_revenue['revenue'])\n",
    "plt.title('Точечный график стоимостей заказов по пользователям')\n",
    "plt.ylabel('Стоимость заказа')\n",
    "plt.xlabel('Пользователи')\n",
    "plt.show()\n",
    "user_max_revenue['revenue'].describe()"
   ]
  },
  {
   "cell_type": "markdown",
   "metadata": {},
   "source": [
    "**Вывод:** Основная масса заказов находится в диапазоне от 1100 руб. до 6252 руб."
   ]
  },
  {
   "cell_type": "markdown",
   "metadata": {},
   "source": [
    "**3.10 Посчитаем 95-й и 99-й перцентили стоимости заказов**"
   ]
  },
  {
   "cell_type": "code",
   "execution_count": 23,
   "metadata": {},
   "outputs": [
    {
     "data": {
      "text/plain": [
       "array([26785., 53904.])"
      ]
     },
     "execution_count": 23,
     "metadata": {},
     "output_type": "execute_result"
    }
   ],
   "source": [
    "np.percentile(orders['revenue'], [95, 99])"
   ]
  },
  {
   "cell_type": "markdown",
   "metadata": {},
   "source": [
    "**Вывод:** Не более 5% пользователей совершали заказы на сумму 26785. И не более 1% пользователей - 53904."
   ]
  },
  {
   "cell_type": "markdown",
   "metadata": {},
   "source": [
    "**3.11 Посчитаем статистическую значимость различий в среднем количестве заказов на посетителя между группами по «сырым» данным**\n",
    "\n",
    "**Сформулируем гипотезы** \n",
    "\n",
    "*Нулевая:* различий в среднем количестве заказов между группами нет.\n",
    "\n",
    "*Альтернативная:* различия в среднем между группами есть."
   ]
  },
  {
   "cell_type": "code",
   "execution_count": 24,
   "metadata": {},
   "outputs": [],
   "source": [
    "visitorsADaily = visitors[visitors['group'] == 'A'][['date', 'visitors']]\n",
    "visitorsADaily.columns = ['date', 'visitorsPerDateA']\n",
    "\n",
    "visitorsACummulative = visitorsADaily.apply(\n",
    "    lambda x: visitorsADaily[visitorsADaily['date'] <= x['date']].agg(\n",
    "        {'date': 'max', 'visitorsPerDateA': 'sum'}\n",
    "    ),\n",
    "    axis=1,\n",
    ")\n",
    "visitorsACummulative.columns = ['date', 'visitorsCummulativeA']\n",
    "\n",
    "visitorsBDaily = visitors[visitors['group'] == 'B'][['date', 'visitors']]\n",
    "visitorsBDaily.columns = ['date', 'visitorsPerDateB']\n",
    "\n",
    "visitorsBCummulative = visitorsBDaily.apply(\n",
    "    lambda x: visitorsBDaily[visitorsBDaily['date'] <= x['date']].agg(\n",
    "        {'date': 'max', 'visitorsPerDateB': 'sum'}\n",
    "    ),\n",
    "    axis=1,\n",
    ")\n",
    "visitorsBCummulative.columns = ['date', 'visitorsCummulativeB']\n",
    "\n",
    "ordersADaily = (\n",
    "    orders[orders['group'] == 'A'][['date', 'transactionid', 'visitorid', 'revenue']]\n",
    "    .groupby('date', as_index=False)\n",
    "    .agg({'transactionid': pd.Series.nunique, 'revenue': 'sum'})\n",
    ")\n",
    "ordersADaily.columns = ['date', 'ordersPerDateA', 'revenuePerDateA']\n",
    "\n",
    "ordersACummulative = ordersADaily.apply(\n",
    "    lambda x: ordersADaily[ordersADaily['date'] <= x['date']].agg(\n",
    "        {'date': 'max', 'ordersPerDateA': 'sum', 'revenuePerDateA': 'sum'}\n",
    "    ),\n",
    "    axis=1,\n",
    ").sort_values(by=['date'])\n",
    "ordersACummulative.columns = [\n",
    "    'date',\n",
    "    'ordersCummulativeA',\n",
    "    'revenueCummulativeA',\n",
    "]\n",
    "\n",
    "ordersBDaily = (\n",
    "    orders[orders['group'] == 'B'][['date', 'transactionid', 'visitorid', 'revenue']]\n",
    "    .groupby('date', as_index=False)\n",
    "    .agg({'transactionid': pd.Series.nunique, 'revenue': 'sum'})\n",
    ")\n",
    "ordersBDaily.columns = ['date', 'ordersPerDateB', 'revenuePerDateB']\n",
    "\n",
    "ordersBCummulative = ordersBDaily.apply(\n",
    "    lambda x: ordersBDaily[ordersBDaily['date'] <= x['date']].agg(\n",
    "        {'date': 'max', 'ordersPerDateB': 'sum', 'revenuePerDateB': 'sum'}\n",
    "    ),\n",
    "    axis=1,\n",
    ").sort_values(by=['date'])\n",
    "ordersBCummulative.columns = [\n",
    "    'date',\n",
    "    'ordersCummulativeB',\n",
    "    'revenueCummulativeB',\n",
    "]\n",
    "\n",
    "data = (\n",
    "    ordersADaily.merge(\n",
    "        ordersBDaily, left_on='date', right_on='date', how='left'\n",
    "    )\n",
    "    .merge(ordersACummulative, left_on='date', right_on='date', how='left')\n",
    "    .merge(ordersBCummulative, left_on='date', right_on='date', how='left')\n",
    "    .merge(visitorsADaily, left_on='date', right_on='date', how='left')\n",
    "    .merge(visitorsBDaily, left_on='date', right_on='date', how='left')\n",
    "    .merge(visitorsACummulative, left_on='date', right_on='date', how='left')\n",
    "    .merge(visitorsBCummulative, left_on='date', right_on='date', how='left')\n",
    ")\n",
    "\n",
    "ordersByUsersA = (\n",
    "    orders[orders['group'] == 'A']\n",
    "    .groupby('visitorid', as_index=False)\n",
    "    .agg({'transactionid': pd.Series.nunique})\n",
    ")\n",
    "ordersByUsersA.columns = ['userId', 'orders']\n",
    "\n",
    "ordersByUsersB = (\n",
    "    orders[orders['group'] == 'B']\n",
    "    .groupby('visitorid', as_index=False)\n",
    "    .agg({'transactionid': pd.Series.nunique})\n",
    ")\n",
    "ordersByUsersB.columns = ['userId', 'orders']\n",
    "\n",
    "sampleA = pd.concat(\n",
    "    [\n",
    "        ordersByUsersA['orders'],\n",
    "        pd.Series(\n",
    "            0,\n",
    "            index=np.arange(\n",
    "                data['visitorsPerDateA'].sum() - len(ordersByUsersA['orders'])\n",
    "            ),\n",
    "            name='orders',\n",
    "        ),\n",
    "    ],\n",
    "    axis=0,\n",
    ")\n",
    "\n",
    "sampleB = pd.concat(\n",
    "    [\n",
    "        ordersByUsersB['orders'],\n",
    "        pd.Series(\n",
    "            0,\n",
    "            index=np.arange(\n",
    "                data['visitorsPerDateB'].sum() - len(ordersByUsersB['orders'])\n",
    "            ),\n",
    "            name='orders',\n",
    "        ),\n",
    "    ],\n",
    "    axis=0,\n",
    ")"
   ]
  },
  {
   "cell_type": "code",
   "execution_count": 25,
   "metadata": {},
   "outputs": [
    {
     "name": "stdout",
     "output_type": "stream",
     "text": [
      "0.01102\n"
     ]
    }
   ],
   "source": [
    "print(\"{0:.5f}\".format(stats.mannwhitneyu(sampleA, sampleB)[1]))"
   ]
  },
  {
   "cell_type": "markdown",
   "metadata": {},
   "source": [
    "**Вывод:** P-value = 0.01102 начительно меньше 0.05, поэтому нулевую гипотезу отвергаем (различий в среднем количестве заказов между группами нет).  Анализ \"сырых данных\" сообщает,что в среднем количестве заказов между группами есть статистически значимые различия. "
   ]
  },
  {
   "cell_type": "code",
   "execution_count": 26,
   "metadata": {},
   "outputs": [
    {
     "name": "stdout",
     "output_type": "stream",
     "text": [
      "0.160\n"
     ]
    }
   ],
   "source": [
    "print(\"{0:.3f}\".format(sampleB.mean() / sampleA.mean() - 1))"
   ]
  },
  {
   "cell_type": "markdown",
   "metadata": {},
   "source": [
    "**Вывод:** Относительный прирост среднего группы В к конверсии группы А равен 16%."
   ]
  },
  {
   "cell_type": "markdown",
   "metadata": {},
   "source": [
    "**3.12 Посчитаем статистическую значимость различий в среднем чеке заказа между группами по «сырым» данным**"
   ]
  },
  {
   "cell_type": "code",
   "execution_count": 27,
   "metadata": {},
   "outputs": [
    {
     "name": "stdout",
     "output_type": "stream",
     "text": [
      "0.829\n"
     ]
    }
   ],
   "source": [
    "print('{0:.3f}'.format(stats.mannwhitneyu(orders[orders['group']=='A']['revenue'], orders[orders['group']=='B']['revenue'])[1]))"
   ]
  },
  {
   "cell_type": "markdown",
   "metadata": {},
   "source": [
    "**Вывод:** P-value = 0.829 начительно больше 0.05 - статистических значимых отличий в среднем чеке между группами нет."
   ]
  },
  {
   "cell_type": "code",
   "execution_count": 28,
   "metadata": {},
   "outputs": [
    {
     "name": "stdout",
     "output_type": "stream",
     "text": [
      "0.287\n"
     ]
    }
   ],
   "source": [
    "print('{0:.3f}'.format(orders[orders['group']=='B']['revenue'].mean()/orders[orders['group']=='A']['revenue'].mean()-1))"
   ]
  },
  {
   "cell_type": "markdown",
   "metadata": {},
   "source": [
    "**Вывод:** Относительное различие среднего чека между сегментами - 28.7%"
   ]
  },
  {
   "cell_type": "markdown",
   "metadata": {},
   "source": [
    "**3. 13 Посчитаем статистическую значимость различий в среднем количестве заказов на посетителя между группами по «очищенным» данным**"
   ]
  },
  {
   "cell_type": "code",
   "execution_count": 29,
   "metadata": {},
   "outputs": [
    {
     "name": "stdout",
     "output_type": "stream",
     "text": [
      "16\n"
     ]
    }
   ],
   "source": [
    "usersWithManyOrders = pd.concat(\n",
    "    [\n",
    "        ordersByUsersA[ordersByUsersA['orders'] > np.percentile(ordersByUsers['transactionid'], [95, 99])[1]]['userId'],\n",
    "        ordersByUsersB[ordersByUsersB['orders'] > np.percentile(ordersByUsers['transactionid'], [95, 99])[1]]['userId'],\n",
    "    ],\n",
    "    axis=0,\n",
    ")\n",
    "usersWithExpensiveOrders = orders[orders['revenue'] > np.percentile(orders['revenue'], [95, 99])[1]]['visitorid']\n",
    "abnormalUsers = (\n",
    "    pd.concat([usersWithManyOrders, usersWithExpensiveOrders], axis=0)\n",
    "    .drop_duplicates()\n",
    "    .sort_values()\n",
    ")\n",
    "print(abnormalUsers.shape[0]) "
   ]
  },
  {
   "cell_type": "markdown",
   "metadata": {},
   "source": [
    "Всего 16 аномальных пользователей. \n",
    "Узнаем, как их действия повлияли на результаты теста. Посчитаем статистическую значимость различий в среднем количестве заказов между группами теста по очищенным данным. Сначала подготовим выборки количества заказов по пользователям по группам теста."
   ]
  },
  {
   "cell_type": "code",
   "execution_count": 30,
   "metadata": {},
   "outputs": [
    {
     "name": "stdout",
     "output_type": "stream",
     "text": [
      "0.00702\n",
      "0.189\n"
     ]
    }
   ],
   "source": [
    "sampleAFiltered = pd.concat(\n",
    "    [\n",
    "        ordersByUsersA[\n",
    "            np.logical_not(ordersByUsersA['userId'].isin(abnormalUsers))\n",
    "        ]['orders'],\n",
    "        pd.Series(\n",
    "            0,\n",
    "            index=np.arange(\n",
    "                data['visitorsPerDateA'].sum() - len(ordersByUsersA['orders'])\n",
    "            ),\n",
    "            name='orders',\n",
    "        ),\n",
    "    ],\n",
    "    axis=0,\n",
    ")\n",
    "\n",
    "sampleBFiltered = pd.concat(\n",
    "    [\n",
    "        ordersByUsersB[\n",
    "            np.logical_not(ordersByUsersB['userId'].isin(abnormalUsers))\n",
    "        ]['orders'],\n",
    "        pd.Series(\n",
    "            0,\n",
    "            index=np.arange(\n",
    "                data['visitorsPerDateB'].sum() - len(ordersByUsersB['orders'])\n",
    "            ),\n",
    "            name='orders',\n",
    "        ),\n",
    "    ],\n",
    "    axis=0,\n",
    ")\n",
    "print('{0:.5f}'.format(stats.mannwhitneyu(sampleAFiltered, sampleBFiltered)[1]))\n",
    "print('{0:.3f}'.format(sampleBFiltered.mean()/sampleAFiltered.mean()-1))"
   ]
  },
  {
   "cell_type": "markdown",
   "metadata": {},
   "source": [
    "**Вывод:** Результаты по среднему количеству заказов практически не изменились. P-value = 0.007 по прежнему меньше 0.05. Количество заказов на пользователя в группе В на 18.9% превышает аналогичный показатель группы А (по очищенным данным)."
   ]
  },
  {
   "cell_type": "markdown",
   "metadata": {},
   "source": [
    "**3.14 Посчитаем статистическую значимость различий в среднем чеке заказа между группами по «очищенным» данным**"
   ]
  },
  {
   "cell_type": "code",
   "execution_count": 31,
   "metadata": {},
   "outputs": [
    {
     "name": "stdout",
     "output_type": "stream",
     "text": [
      "0.788\n",
      "0.033\n"
     ]
    }
   ],
   "source": [
    "print(\n",
    "    '{0:.3f}'.format(\n",
    "        stats.mannwhitneyu(\n",
    "            orders[\n",
    "                np.logical_and(\n",
    "                    orders['group'] == 'A',\n",
    "                    np.logical_not(orders['visitorid'].isin(abnormalUsers)),\n",
    "                )\n",
    "            ]['revenue'],\n",
    "            orders[\n",
    "                np.logical_and(\n",
    "                    orders['group'] == 'B',\n",
    "                    np.logical_not(orders['visitorid'].isin(abnormalUsers)),\n",
    "                )\n",
    "            ]['revenue'],\n",
    "        )[1]\n",
    "    )\n",
    ")\n",
    "\n",
    "print(\n",
    "    \"{0:.3f}\".format(\n",
    "        orders[\n",
    "            np.logical_and(\n",
    "                orders['group'] == 'A',\n",
    "                np.logical_not(orders['visitorid'].isin(abnormalUsers)),\n",
    "            )\n",
    "        ]['revenue'].mean()\n",
    "        / orders[\n",
    "            np.logical_and(\n",
    "                orders['group'] == 'B',\n",
    "                np.logical_not(orders['visitorid'].isin(abnormalUsers)),\n",
    "            )\n",
    "        ]['revenue'].mean()\n",
    "        - 1\n",
    "    )\n",
    ")"
   ]
  },
  {
   "cell_type": "markdown",
   "metadata": {},
   "source": [
    "**Вывод:** Аналогично и по выводу о различиях в среднем чеке - первоначальный вывод сохраняется. P-value = 0.788 и значительно больше 0.05. Значит, причин отвергать нулевую гипотезу и считать, что в среднем чеке есть различия, нет. Различия в среднем чеке между группами не превышают 3% (по очищенным данным)."
   ]
  },
  {
   "cell_type": "markdown",
   "metadata": {},
   "source": [
    "<a id=\"chapter4\"></a>\n",
    "\n",
    "###  Решение по результатам теста\n",
    "\n",
    "Остановить тест и зафиксировать победу группы В. Сравнение двух групп показало, что в группе В количество заказов в расчете на одного пользователя первышает аналогичный показатель группы А. В то же время, средний чек по группам одинаков. Таким образом, можно зафиксировать победу группы В."
   ]
  }
 ],
 "metadata": {
  "ExecuteTimeLog": [
   {
    "duration": 1350,
    "start_time": "2024-09-27T10:18:01.275Z"
   },
   {
    "duration": 86,
    "start_time": "2024-09-27T11:02:01.921Z"
   },
   {
    "duration": 32,
    "start_time": "2024-09-27T11:07:48.719Z"
   },
   {
    "duration": 28,
    "start_time": "2024-09-27T11:08:32.975Z"
   },
   {
    "duration": 29,
    "start_time": "2024-09-27T11:09:10.513Z"
   },
   {
    "duration": 22,
    "start_time": "2024-09-27T11:09:12.410Z"
   },
   {
    "duration": 24,
    "start_time": "2024-09-27T11:09:39.329Z"
   },
   {
    "duration": 12,
    "start_time": "2024-09-27T11:42:08.536Z"
   },
   {
    "duration": 3,
    "start_time": "2024-09-27T12:10:18.261Z"
   },
   {
    "duration": 13,
    "start_time": "2024-09-27T12:10:32.049Z"
   },
   {
    "duration": 61,
    "start_time": "2024-09-27T12:13:51.057Z"
   },
   {
    "duration": 57,
    "start_time": "2024-09-27T16:21:17.574Z"
   },
   {
    "duration": 1374,
    "start_time": "2024-09-27T16:21:23.280Z"
   },
   {
    "duration": 77,
    "start_time": "2024-09-27T16:21:24.656Z"
   },
   {
    "duration": 26,
    "start_time": "2024-09-27T16:21:24.735Z"
   },
   {
    "duration": 120,
    "start_time": "2024-09-27T16:21:24.763Z"
   },
   {
    "duration": 9,
    "start_time": "2024-09-27T16:21:24.885Z"
   },
   {
    "duration": 21,
    "start_time": "2024-09-27T16:21:24.896Z"
   },
   {
    "duration": 103,
    "start_time": "2024-09-27T16:23:44.785Z"
   },
   {
    "duration": 20,
    "start_time": "2024-09-27T16:29:23.042Z"
   },
   {
    "duration": 26,
    "start_time": "2024-09-27T16:39:00.193Z"
   },
   {
    "duration": 71,
    "start_time": "2024-09-27T16:39:21.071Z"
   },
   {
    "duration": 31,
    "start_time": "2024-09-27T16:39:26.427Z"
   },
   {
    "duration": 28,
    "start_time": "2024-09-27T16:39:56.074Z"
   },
   {
    "duration": 34,
    "start_time": "2024-09-27T16:40:02.618Z"
   },
   {
    "duration": 25,
    "start_time": "2024-09-27T16:40:08.557Z"
   },
   {
    "duration": 1146,
    "start_time": "2024-09-27T16:48:40.466Z"
   },
   {
    "duration": 30,
    "start_time": "2024-09-27T16:48:41.614Z"
   },
   {
    "duration": 25,
    "start_time": "2024-09-27T16:48:41.646Z"
   },
   {
    "duration": 65,
    "start_time": "2024-09-27T16:48:41.672Z"
   },
   {
    "duration": 32,
    "start_time": "2024-09-27T16:48:41.739Z"
   },
   {
    "duration": 9,
    "start_time": "2024-09-27T16:48:41.772Z"
   },
   {
    "duration": 27,
    "start_time": "2024-09-27T16:48:41.782Z"
   },
   {
    "duration": 12,
    "start_time": "2024-09-27T16:48:41.810Z"
   },
   {
    "duration": 30,
    "start_time": "2024-09-27T16:48:41.824Z"
   },
   {
    "duration": 14,
    "start_time": "2024-09-27T17:26:04.852Z"
   },
   {
    "duration": 13,
    "start_time": "2024-09-27T17:26:10.767Z"
   },
   {
    "duration": 15,
    "start_time": "2024-09-27T17:26:18.754Z"
   },
   {
    "duration": 14,
    "start_time": "2024-09-27T17:26:26.500Z"
   },
   {
    "duration": 13,
    "start_time": "2024-09-27T17:27:09.336Z"
   },
   {
    "duration": 105,
    "start_time": "2024-09-27T17:54:34.448Z"
   },
   {
    "duration": 14,
    "start_time": "2024-09-27T17:54:56.525Z"
   },
   {
    "duration": 17,
    "start_time": "2024-09-27T17:57:27.532Z"
   },
   {
    "duration": 1192,
    "start_time": "2024-09-27T17:57:36.927Z"
   },
   {
    "duration": 30,
    "start_time": "2024-09-27T17:57:38.121Z"
   },
   {
    "duration": 26,
    "start_time": "2024-09-27T17:57:38.153Z"
   },
   {
    "duration": 58,
    "start_time": "2024-09-27T17:57:38.181Z"
   },
   {
    "duration": 36,
    "start_time": "2024-09-27T17:57:38.241Z"
   },
   {
    "duration": 14,
    "start_time": "2024-09-27T17:57:38.279Z"
   },
   {
    "duration": 27,
    "start_time": "2024-09-27T17:57:38.295Z"
   },
   {
    "duration": 40,
    "start_time": "2024-09-27T17:57:38.324Z"
   },
   {
    "duration": 13,
    "start_time": "2024-09-27T17:57:38.365Z"
   },
   {
    "duration": 9,
    "start_time": "2024-09-27T17:57:38.380Z"
   },
   {
    "duration": 8,
    "start_time": "2024-09-27T18:29:33.903Z"
   },
   {
    "duration": 10,
    "start_time": "2024-09-27T18:29:42.207Z"
   },
   {
    "duration": 53,
    "start_time": "2024-09-30T11:31:11.654Z"
   },
   {
    "duration": 1308,
    "start_time": "2024-09-30T11:31:15.324Z"
   },
   {
    "duration": 76,
    "start_time": "2024-09-30T11:31:16.634Z"
   },
   {
    "duration": 54,
    "start_time": "2024-09-30T11:31:16.713Z"
   },
   {
    "duration": 140,
    "start_time": "2024-09-30T11:31:16.768Z"
   },
   {
    "duration": 88,
    "start_time": "2024-09-30T11:31:16.910Z"
   },
   {
    "duration": 11,
    "start_time": "2024-09-30T11:31:17.000Z"
   },
   {
    "duration": 28,
    "start_time": "2024-09-30T11:31:17.012Z"
   },
   {
    "duration": 13,
    "start_time": "2024-09-30T11:31:17.042Z"
   },
   {
    "duration": 12,
    "start_time": "2024-09-30T11:31:17.058Z"
   },
   {
    "duration": 39,
    "start_time": "2024-09-30T11:31:17.072Z"
   },
   {
    "duration": 125,
    "start_time": "2024-09-30T11:31:17.113Z"
   },
   {
    "duration": 27,
    "start_time": "2024-09-30T11:31:44.380Z"
   },
   {
    "duration": 23,
    "start_time": "2024-09-30T11:33:20.513Z"
   },
   {
    "duration": 9,
    "start_time": "2024-09-30T11:33:42.006Z"
   },
   {
    "duration": 90,
    "start_time": "2024-09-30T11:33:45.291Z"
   },
   {
    "duration": 14,
    "start_time": "2024-09-30T11:33:50.875Z"
   },
   {
    "duration": 22,
    "start_time": "2024-09-30T11:34:04.928Z"
   },
   {
    "duration": 21,
    "start_time": "2024-09-30T11:35:21.976Z"
   },
   {
    "duration": 21,
    "start_time": "2024-09-30T11:35:35.648Z"
   },
   {
    "duration": 22,
    "start_time": "2024-09-30T11:35:59.591Z"
   },
   {
    "duration": 18,
    "start_time": "2024-09-30T11:37:31.677Z"
   },
   {
    "duration": 17,
    "start_time": "2024-09-30T11:37:34.075Z"
   },
   {
    "duration": 31,
    "start_time": "2024-09-30T11:37:40.350Z"
   },
   {
    "duration": 9,
    "start_time": "2024-09-30T11:39:24.783Z"
   },
   {
    "duration": 1177,
    "start_time": "2024-09-30T11:39:48.502Z"
   },
   {
    "duration": 29,
    "start_time": "2024-09-30T11:39:49.681Z"
   },
   {
    "duration": 37,
    "start_time": "2024-09-30T11:39:49.712Z"
   },
   {
    "duration": 55,
    "start_time": "2024-09-30T11:39:49.751Z"
   },
   {
    "duration": 32,
    "start_time": "2024-09-30T11:39:49.808Z"
   },
   {
    "duration": 11,
    "start_time": "2024-09-30T11:39:49.841Z"
   },
   {
    "duration": 37,
    "start_time": "2024-09-30T11:39:49.853Z"
   },
   {
    "duration": 16,
    "start_time": "2024-09-30T11:39:49.891Z"
   },
   {
    "duration": 16,
    "start_time": "2024-09-30T11:39:49.909Z"
   },
   {
    "duration": 13,
    "start_time": "2024-09-30T11:39:49.927Z"
   },
   {
    "duration": 113,
    "start_time": "2024-09-30T11:39:49.942Z"
   },
   {
    "duration": 0,
    "start_time": "2024-09-30T11:39:50.056Z"
   },
   {
    "duration": 36,
    "start_time": "2024-09-30T11:40:07.225Z"
   },
   {
    "duration": 27,
    "start_time": "2024-09-30T11:40:27.940Z"
   },
   {
    "duration": 39,
    "start_time": "2024-09-30T11:40:31.890Z"
   },
   {
    "duration": 133,
    "start_time": "2024-09-30T11:40:34.213Z"
   },
   {
    "duration": 10,
    "start_time": "2024-09-30T11:42:29.334Z"
   },
   {
    "duration": 34,
    "start_time": "2024-09-30T12:09:30.141Z"
   },
   {
    "duration": 34,
    "start_time": "2024-09-30T12:10:15.495Z"
   },
   {
    "duration": 289,
    "start_time": "2024-09-30T12:12:33.255Z"
   },
   {
    "duration": 277,
    "start_time": "2024-09-30T12:12:54.312Z"
   },
   {
    "duration": 278,
    "start_time": "2024-09-30T12:13:05.712Z"
   },
   {
    "duration": 286,
    "start_time": "2024-09-30T12:14:05.097Z"
   },
   {
    "duration": 25,
    "start_time": "2024-09-30T12:24:32.504Z"
   },
   {
    "duration": 24,
    "start_time": "2024-09-30T12:25:24.200Z"
   },
   {
    "duration": 294,
    "start_time": "2024-09-30T12:25:34.815Z"
   },
   {
    "duration": 243,
    "start_time": "2024-09-30T12:26:20.518Z"
   },
   {
    "duration": 194,
    "start_time": "2024-09-30T12:28:24.977Z"
   },
   {
    "duration": 193,
    "start_time": "2024-09-30T12:28:32.126Z"
   },
   {
    "duration": 210,
    "start_time": "2024-09-30T12:29:44.769Z"
   },
   {
    "duration": 194,
    "start_time": "2024-09-30T12:35:05.067Z"
   },
   {
    "duration": 199,
    "start_time": "2024-09-30T12:35:59.941Z"
   },
   {
    "duration": 280,
    "start_time": "2024-09-30T12:36:22.949Z"
   },
   {
    "duration": 298,
    "start_time": "2024-09-30T12:55:20.464Z"
   },
   {
    "duration": 298,
    "start_time": "2024-09-30T12:55:42.703Z"
   },
   {
    "duration": 315,
    "start_time": "2024-09-30T12:55:57.672Z"
   },
   {
    "duration": 298,
    "start_time": "2024-09-30T12:56:10.615Z"
   },
   {
    "duration": 272,
    "start_time": "2024-09-30T12:58:19.250Z"
   },
   {
    "duration": 201,
    "start_time": "2024-09-30T13:04:15.318Z"
   },
   {
    "duration": 252,
    "start_time": "2024-09-30T13:05:34.507Z"
   },
   {
    "duration": 218,
    "start_time": "2024-09-30T13:09:55.752Z"
   },
   {
    "duration": 337,
    "start_time": "2024-09-30T13:14:08.900Z"
   },
   {
    "duration": 376,
    "start_time": "2024-09-30T13:15:30.829Z"
   },
   {
    "duration": 352,
    "start_time": "2024-09-30T13:15:36.844Z"
   },
   {
    "duration": 432,
    "start_time": "2024-09-30T13:15:44.133Z"
   },
   {
    "duration": 414,
    "start_time": "2024-09-30T13:16:40.797Z"
   },
   {
    "duration": 371,
    "start_time": "2024-09-30T13:17:01.291Z"
   },
   {
    "duration": 367,
    "start_time": "2024-09-30T13:19:07.622Z"
   },
   {
    "duration": 1178,
    "start_time": "2024-09-30T13:19:28.458Z"
   },
   {
    "duration": 29,
    "start_time": "2024-09-30T13:19:29.638Z"
   },
   {
    "duration": 25,
    "start_time": "2024-09-30T13:19:29.669Z"
   },
   {
    "duration": 62,
    "start_time": "2024-09-30T13:19:29.696Z"
   },
   {
    "duration": 35,
    "start_time": "2024-09-30T13:19:29.760Z"
   },
   {
    "duration": 11,
    "start_time": "2024-09-30T13:19:29.797Z"
   },
   {
    "duration": 30,
    "start_time": "2024-09-30T13:19:29.809Z"
   },
   {
    "duration": 13,
    "start_time": "2024-09-30T13:19:29.840Z"
   },
   {
    "duration": 14,
    "start_time": "2024-09-30T13:19:29.854Z"
   },
   {
    "duration": 119,
    "start_time": "2024-09-30T13:19:29.871Z"
   },
   {
    "duration": 0,
    "start_time": "2024-09-30T13:19:29.992Z"
   },
   {
    "duration": 0,
    "start_time": "2024-09-30T13:19:29.993Z"
   },
   {
    "duration": 0,
    "start_time": "2024-09-30T13:19:29.994Z"
   },
   {
    "duration": 0,
    "start_time": "2024-09-30T13:19:29.995Z"
   },
   {
    "duration": 0,
    "start_time": "2024-09-30T13:19:30.005Z"
   },
   {
    "duration": 15,
    "start_time": "2024-09-30T13:39:01.961Z"
   },
   {
    "duration": 1209,
    "start_time": "2024-09-30T13:39:24.992Z"
   },
   {
    "duration": 29,
    "start_time": "2024-09-30T13:39:26.203Z"
   },
   {
    "duration": 25,
    "start_time": "2024-09-30T13:39:26.234Z"
   },
   {
    "duration": 60,
    "start_time": "2024-09-30T13:39:26.261Z"
   },
   {
    "duration": 33,
    "start_time": "2024-09-30T13:39:26.323Z"
   },
   {
    "duration": 11,
    "start_time": "2024-09-30T13:39:26.357Z"
   },
   {
    "duration": 52,
    "start_time": "2024-09-30T13:39:26.369Z"
   },
   {
    "duration": 16,
    "start_time": "2024-09-30T13:39:26.424Z"
   },
   {
    "duration": 13,
    "start_time": "2024-09-30T13:39:26.442Z"
   },
   {
    "duration": 133,
    "start_time": "2024-09-30T13:39:26.457Z"
   },
   {
    "duration": 0,
    "start_time": "2024-09-30T13:39:26.592Z"
   },
   {
    "duration": 0,
    "start_time": "2024-09-30T13:39:26.593Z"
   },
   {
    "duration": 0,
    "start_time": "2024-09-30T13:39:26.594Z"
   },
   {
    "duration": 0,
    "start_time": "2024-09-30T13:39:26.605Z"
   },
   {
    "duration": 0,
    "start_time": "2024-09-30T13:39:26.606Z"
   },
   {
    "duration": 327,
    "start_time": "2024-09-30T13:41:05.842Z"
   },
   {
    "duration": 1233,
    "start_time": "2024-09-30T13:41:10.186Z"
   },
   {
    "duration": 29,
    "start_time": "2024-09-30T13:41:11.421Z"
   },
   {
    "duration": 39,
    "start_time": "2024-09-30T13:41:11.452Z"
   },
   {
    "duration": 59,
    "start_time": "2024-09-30T13:41:11.493Z"
   },
   {
    "duration": 33,
    "start_time": "2024-09-30T13:41:11.555Z"
   },
   {
    "duration": 11,
    "start_time": "2024-09-30T13:41:11.589Z"
   },
   {
    "duration": 32,
    "start_time": "2024-09-30T13:41:11.602Z"
   },
   {
    "duration": 12,
    "start_time": "2024-09-30T13:41:11.636Z"
   },
   {
    "duration": 19,
    "start_time": "2024-09-30T13:41:11.650Z"
   },
   {
    "duration": 308,
    "start_time": "2024-09-30T13:41:11.670Z"
   },
   {
    "duration": 316,
    "start_time": "2024-09-30T13:41:11.980Z"
   },
   {
    "duration": 224,
    "start_time": "2024-09-30T13:41:12.297Z"
   },
   {
    "duration": 346,
    "start_time": "2024-09-30T13:41:12.522Z"
   },
   {
    "duration": 234,
    "start_time": "2024-09-30T13:41:12.871Z"
   },
   {
    "duration": 380,
    "start_time": "2024-09-30T13:41:13.106Z"
   },
   {
    "duration": 382,
    "start_time": "2024-09-30T13:44:35.017Z"
   },
   {
    "duration": 387,
    "start_time": "2024-09-30T13:44:47.183Z"
   },
   {
    "duration": 339,
    "start_time": "2024-09-30T13:45:09.458Z"
   },
   {
    "duration": 411,
    "start_time": "2024-09-30T13:45:17.060Z"
   },
   {
    "duration": 116,
    "start_time": "2024-09-30T13:56:47.654Z"
   },
   {
    "duration": 1137,
    "start_time": "2024-09-30T14:02:25.834Z"
   },
   {
    "duration": 144,
    "start_time": "2024-09-30T14:04:18.148Z"
   },
   {
    "duration": 148,
    "start_time": "2024-09-30T14:04:28.563Z"
   },
   {
    "duration": 156,
    "start_time": "2024-09-30T14:05:29.732Z"
   },
   {
    "duration": 1365,
    "start_time": "2024-09-30T14:06:23.948Z"
   },
   {
    "duration": 7,
    "start_time": "2024-09-30T14:07:21.290Z"
   },
   {
    "duration": 10,
    "start_time": "2024-09-30T14:11:41.285Z"
   },
   {
    "duration": 7,
    "start_time": "2024-09-30T14:12:38.221Z"
   },
   {
    "duration": 6,
    "start_time": "2024-09-30T14:12:39.674Z"
   },
   {
    "duration": 1135,
    "start_time": "2024-09-30T14:15:21.148Z"
   },
   {
    "duration": 29,
    "start_time": "2024-09-30T14:15:22.285Z"
   },
   {
    "duration": 27,
    "start_time": "2024-09-30T14:15:22.316Z"
   },
   {
    "duration": 57,
    "start_time": "2024-09-30T14:15:22.345Z"
   },
   {
    "duration": 32,
    "start_time": "2024-09-30T14:15:22.405Z"
   },
   {
    "duration": 10,
    "start_time": "2024-09-30T14:15:22.438Z"
   },
   {
    "duration": 25,
    "start_time": "2024-09-30T14:15:22.450Z"
   },
   {
    "duration": 31,
    "start_time": "2024-09-30T14:15:22.477Z"
   },
   {
    "duration": 12,
    "start_time": "2024-09-30T14:15:22.510Z"
   },
   {
    "duration": 7,
    "start_time": "2024-09-30T14:15:22.523Z"
   },
   {
    "duration": 15,
    "start_time": "2024-09-30T14:15:22.531Z"
   },
   {
    "duration": 329,
    "start_time": "2024-09-30T14:15:22.547Z"
   },
   {
    "duration": 322,
    "start_time": "2024-09-30T14:15:22.877Z"
   },
   {
    "duration": 282,
    "start_time": "2024-09-30T14:15:23.201Z"
   },
   {
    "duration": 352,
    "start_time": "2024-09-30T14:15:23.485Z"
   },
   {
    "duration": 259,
    "start_time": "2024-09-30T14:15:23.839Z"
   },
   {
    "duration": 352,
    "start_time": "2024-09-30T14:15:24.099Z"
   },
   {
    "duration": 175,
    "start_time": "2024-09-30T14:15:24.452Z"
   },
   {
    "duration": 4,
    "start_time": "2024-09-30T14:16:12.058Z"
   },
   {
    "duration": 6,
    "start_time": "2024-09-30T14:17:35.833Z"
   },
   {
    "duration": 70,
    "start_time": "2024-09-30T14:17:51.738Z"
   },
   {
    "duration": 9,
    "start_time": "2024-09-30T14:18:36.940Z"
   },
   {
    "duration": 1195,
    "start_time": "2024-09-30T14:19:07.498Z"
   },
   {
    "duration": 29,
    "start_time": "2024-09-30T14:19:08.696Z"
   },
   {
    "duration": 82,
    "start_time": "2024-09-30T14:19:08.727Z"
   },
   {
    "duration": 61,
    "start_time": "2024-09-30T14:19:08.811Z"
   },
   {
    "duration": 40,
    "start_time": "2024-09-30T14:19:08.875Z"
   },
   {
    "duration": 14,
    "start_time": "2024-09-30T14:19:08.917Z"
   },
   {
    "duration": 27,
    "start_time": "2024-09-30T14:19:08.933Z"
   },
   {
    "duration": 50,
    "start_time": "2024-09-30T14:19:08.962Z"
   },
   {
    "duration": 19,
    "start_time": "2024-09-30T14:19:09.014Z"
   },
   {
    "duration": 10,
    "start_time": "2024-09-30T14:19:09.034Z"
   },
   {
    "duration": 7,
    "start_time": "2024-09-30T14:19:09.046Z"
   },
   {
    "duration": 321,
    "start_time": "2024-09-30T14:19:09.054Z"
   },
   {
    "duration": 303,
    "start_time": "2024-09-30T14:19:09.377Z"
   },
   {
    "duration": 225,
    "start_time": "2024-09-30T14:19:09.682Z"
   },
   {
    "duration": 338,
    "start_time": "2024-09-30T14:19:09.909Z"
   },
   {
    "duration": 233,
    "start_time": "2024-09-30T14:19:10.248Z"
   },
   {
    "duration": 397,
    "start_time": "2024-09-30T14:19:10.483Z"
   },
   {
    "duration": 185,
    "start_time": "2024-09-30T14:19:10.882Z"
   },
   {
    "duration": 6,
    "start_time": "2024-09-30T14:19:38.742Z"
   },
   {
    "duration": 6,
    "start_time": "2024-09-30T14:22:10.465Z"
   },
   {
    "duration": 1210,
    "start_time": "2024-09-30T14:24:50.062Z"
   },
   {
    "duration": 29,
    "start_time": "2024-09-30T14:24:51.274Z"
   },
   {
    "duration": 28,
    "start_time": "2024-09-30T14:24:51.305Z"
   },
   {
    "duration": 59,
    "start_time": "2024-09-30T14:24:51.335Z"
   },
   {
    "duration": 32,
    "start_time": "2024-09-30T14:24:51.397Z"
   },
   {
    "duration": 10,
    "start_time": "2024-09-30T14:24:51.430Z"
   },
   {
    "duration": 42,
    "start_time": "2024-09-30T14:24:51.442Z"
   },
   {
    "duration": 33,
    "start_time": "2024-09-30T14:24:51.486Z"
   },
   {
    "duration": 13,
    "start_time": "2024-09-30T14:24:51.522Z"
   },
   {
    "duration": 21,
    "start_time": "2024-09-30T14:24:51.537Z"
   },
   {
    "duration": 23,
    "start_time": "2024-09-30T14:24:51.559Z"
   },
   {
    "duration": 296,
    "start_time": "2024-09-30T14:24:51.584Z"
   },
   {
    "duration": 306,
    "start_time": "2024-09-30T14:24:51.881Z"
   },
   {
    "duration": 235,
    "start_time": "2024-09-30T14:24:52.189Z"
   },
   {
    "duration": 320,
    "start_time": "2024-09-30T14:24:52.425Z"
   },
   {
    "duration": 236,
    "start_time": "2024-09-30T14:24:52.746Z"
   },
   {
    "duration": 367,
    "start_time": "2024-09-30T14:24:52.983Z"
   },
   {
    "duration": 162,
    "start_time": "2024-09-30T14:24:53.351Z"
   },
   {
    "duration": 5,
    "start_time": "2024-09-30T14:27:45.922Z"
   },
   {
    "duration": 7,
    "start_time": "2024-09-30T14:28:17.126Z"
   },
   {
    "duration": 4,
    "start_time": "2024-09-30T14:28:19.062Z"
   },
   {
    "duration": 5,
    "start_time": "2024-09-30T14:28:20.916Z"
   },
   {
    "duration": 5,
    "start_time": "2024-09-30T14:32:41.328Z"
   },
   {
    "duration": 6,
    "start_time": "2024-09-30T14:33:37.592Z"
   },
   {
    "duration": 7,
    "start_time": "2024-09-30T14:35:19.541Z"
   },
   {
    "duration": 1180,
    "start_time": "2024-09-30T14:35:36.932Z"
   },
   {
    "duration": 30,
    "start_time": "2024-09-30T14:35:38.115Z"
   },
   {
    "duration": 27,
    "start_time": "2024-09-30T14:35:38.146Z"
   },
   {
    "duration": 61,
    "start_time": "2024-09-30T14:35:38.175Z"
   },
   {
    "duration": 34,
    "start_time": "2024-09-30T14:35:38.238Z"
   },
   {
    "duration": 12,
    "start_time": "2024-09-30T14:35:38.274Z"
   },
   {
    "duration": 41,
    "start_time": "2024-09-30T14:35:38.288Z"
   },
   {
    "duration": 16,
    "start_time": "2024-09-30T14:35:38.330Z"
   },
   {
    "duration": 13,
    "start_time": "2024-09-30T14:35:38.348Z"
   },
   {
    "duration": 16,
    "start_time": "2024-09-30T14:35:38.363Z"
   },
   {
    "duration": 29,
    "start_time": "2024-09-30T14:35:38.381Z"
   },
   {
    "duration": 344,
    "start_time": "2024-09-30T14:35:38.412Z"
   },
   {
    "duration": 327,
    "start_time": "2024-09-30T14:35:38.758Z"
   },
   {
    "duration": 241,
    "start_time": "2024-09-30T14:35:39.088Z"
   },
   {
    "duration": 316,
    "start_time": "2024-09-30T14:35:39.331Z"
   },
   {
    "duration": 229,
    "start_time": "2024-09-30T14:35:39.648Z"
   },
   {
    "duration": 403,
    "start_time": "2024-09-30T14:35:39.879Z"
   },
   {
    "duration": 181,
    "start_time": "2024-09-30T14:35:40.284Z"
   },
   {
    "duration": 6,
    "start_time": "2024-09-30T14:36:34.471Z"
   },
   {
    "duration": 9,
    "start_time": "2024-09-30T14:37:08.447Z"
   },
   {
    "duration": 1253,
    "start_time": "2024-09-30T14:37:19.698Z"
   },
   {
    "duration": 30,
    "start_time": "2024-09-30T14:37:20.953Z"
   },
   {
    "duration": 29,
    "start_time": "2024-09-30T14:37:20.987Z"
   },
   {
    "duration": 61,
    "start_time": "2024-09-30T14:37:21.018Z"
   },
   {
    "duration": 35,
    "start_time": "2024-09-30T14:37:21.080Z"
   },
   {
    "duration": 11,
    "start_time": "2024-09-30T14:37:21.117Z"
   },
   {
    "duration": 30,
    "start_time": "2024-09-30T14:37:21.129Z"
   },
   {
    "duration": 16,
    "start_time": "2024-09-30T14:37:21.160Z"
   },
   {
    "duration": 31,
    "start_time": "2024-09-30T14:37:21.178Z"
   },
   {
    "duration": 58,
    "start_time": "2024-09-30T14:37:21.211Z"
   },
   {
    "duration": 81,
    "start_time": "2024-09-30T14:37:21.271Z"
   },
   {
    "duration": 319,
    "start_time": "2024-09-30T14:37:21.353Z"
   },
   {
    "duration": 317,
    "start_time": "2024-09-30T14:37:21.675Z"
   },
   {
    "duration": 237,
    "start_time": "2024-09-30T14:37:21.994Z"
   },
   {
    "duration": 310,
    "start_time": "2024-09-30T14:37:22.237Z"
   },
   {
    "duration": 233,
    "start_time": "2024-09-30T14:37:22.549Z"
   },
   {
    "duration": 394,
    "start_time": "2024-09-30T14:37:22.784Z"
   },
   {
    "duration": 181,
    "start_time": "2024-09-30T14:37:23.180Z"
   },
   {
    "duration": 4,
    "start_time": "2024-09-30T14:40:31.397Z"
   },
   {
    "duration": 7,
    "start_time": "2024-09-30T14:40:43.339Z"
   },
   {
    "duration": 6,
    "start_time": "2024-09-30T14:41:05.435Z"
   },
   {
    "duration": 1269,
    "start_time": "2024-09-30T14:41:12.767Z"
   },
   {
    "duration": 29,
    "start_time": "2024-09-30T14:41:14.038Z"
   },
   {
    "duration": 26,
    "start_time": "2024-09-30T14:41:14.069Z"
   },
   {
    "duration": 57,
    "start_time": "2024-09-30T14:41:14.096Z"
   },
   {
    "duration": 35,
    "start_time": "2024-09-30T14:41:14.155Z"
   },
   {
    "duration": 12,
    "start_time": "2024-09-30T14:41:14.192Z"
   },
   {
    "duration": 34,
    "start_time": "2024-09-30T14:41:14.206Z"
   },
   {
    "duration": 20,
    "start_time": "2024-09-30T14:41:14.242Z"
   },
   {
    "duration": 14,
    "start_time": "2024-09-30T14:41:14.264Z"
   },
   {
    "duration": 12,
    "start_time": "2024-09-30T14:41:14.279Z"
   },
   {
    "duration": 115,
    "start_time": "2024-09-30T14:41:14.293Z"
   },
   {
    "duration": 0,
    "start_time": "2024-09-30T14:41:14.410Z"
   },
   {
    "duration": 0,
    "start_time": "2024-09-30T14:41:14.411Z"
   },
   {
    "duration": 0,
    "start_time": "2024-09-30T14:41:14.412Z"
   },
   {
    "duration": 1,
    "start_time": "2024-09-30T14:41:14.413Z"
   },
   {
    "duration": 0,
    "start_time": "2024-09-30T14:41:14.414Z"
   },
   {
    "duration": 0,
    "start_time": "2024-09-30T14:41:14.416Z"
   },
   {
    "duration": 0,
    "start_time": "2024-09-30T14:41:14.416Z"
   },
   {
    "duration": 12,
    "start_time": "2024-09-30T14:42:26.576Z"
   },
   {
    "duration": 7,
    "start_time": "2024-09-30T14:43:22.230Z"
   },
   {
    "duration": 9,
    "start_time": "2024-09-30T14:44:04.352Z"
   },
   {
    "duration": 6,
    "start_time": "2024-09-30T14:44:42.966Z"
   },
   {
    "duration": 4,
    "start_time": "2024-09-30T14:46:48.028Z"
   },
   {
    "duration": 1329,
    "start_time": "2024-09-30T14:47:43.297Z"
   },
   {
    "duration": 29,
    "start_time": "2024-09-30T14:47:44.628Z"
   },
   {
    "duration": 27,
    "start_time": "2024-09-30T14:47:44.658Z"
   },
   {
    "duration": 58,
    "start_time": "2024-09-30T14:47:44.687Z"
   },
   {
    "duration": 42,
    "start_time": "2024-09-30T14:47:44.747Z"
   },
   {
    "duration": 18,
    "start_time": "2024-09-30T14:47:44.791Z"
   },
   {
    "duration": 85,
    "start_time": "2024-09-30T14:47:44.811Z"
   },
   {
    "duration": 14,
    "start_time": "2024-09-30T14:47:44.898Z"
   },
   {
    "duration": 14,
    "start_time": "2024-09-30T14:47:44.914Z"
   },
   {
    "duration": 9,
    "start_time": "2024-09-30T14:47:44.930Z"
   },
   {
    "duration": 15,
    "start_time": "2024-09-30T14:47:44.942Z"
   },
   {
    "duration": 23,
    "start_time": "2024-09-30T14:47:44.959Z"
   },
   {
    "duration": 326,
    "start_time": "2024-09-30T14:47:44.984Z"
   },
   {
    "duration": 336,
    "start_time": "2024-09-30T14:47:45.312Z"
   },
   {
    "duration": 241,
    "start_time": "2024-09-30T14:47:45.650Z"
   },
   {
    "duration": 355,
    "start_time": "2024-09-30T14:47:45.893Z"
   },
   {
    "duration": 239,
    "start_time": "2024-09-30T14:47:46.250Z"
   },
   {
    "duration": 394,
    "start_time": "2024-09-30T14:47:46.491Z"
   },
   {
    "duration": 194,
    "start_time": "2024-09-30T14:47:46.887Z"
   },
   {
    "duration": 1243,
    "start_time": "2024-09-30T14:48:05.387Z"
   },
   {
    "duration": 29,
    "start_time": "2024-09-30T14:48:06.632Z"
   },
   {
    "duration": 26,
    "start_time": "2024-09-30T14:48:06.663Z"
   },
   {
    "duration": 58,
    "start_time": "2024-09-30T14:48:06.690Z"
   },
   {
    "duration": 34,
    "start_time": "2024-09-30T14:48:06.750Z"
   },
   {
    "duration": 11,
    "start_time": "2024-09-30T14:48:06.786Z"
   },
   {
    "duration": 96,
    "start_time": "2024-09-30T14:48:06.799Z"
   },
   {
    "duration": 28,
    "start_time": "2024-09-30T14:48:06.897Z"
   },
   {
    "duration": 22,
    "start_time": "2024-09-30T14:48:06.927Z"
   },
   {
    "duration": 46,
    "start_time": "2024-09-30T14:48:06.951Z"
   },
   {
    "duration": 10,
    "start_time": "2024-09-30T14:48:06.999Z"
   },
   {
    "duration": 6,
    "start_time": "2024-09-30T14:48:07.010Z"
   },
   {
    "duration": 320,
    "start_time": "2024-09-30T14:48:07.018Z"
   },
   {
    "duration": 335,
    "start_time": "2024-09-30T14:48:07.340Z"
   },
   {
    "duration": 248,
    "start_time": "2024-09-30T14:48:07.677Z"
   },
   {
    "duration": 318,
    "start_time": "2024-09-30T14:48:07.927Z"
   },
   {
    "duration": 229,
    "start_time": "2024-09-30T14:48:08.247Z"
   },
   {
    "duration": 382,
    "start_time": "2024-09-30T14:48:08.478Z"
   },
   {
    "duration": 191,
    "start_time": "2024-09-30T14:48:08.862Z"
   },
   {
    "duration": 1304,
    "start_time": "2024-09-30T14:57:21.204Z"
   },
   {
    "duration": 5,
    "start_time": "2024-09-30T14:57:53.177Z"
   },
   {
    "duration": 165,
    "start_time": "2024-09-30T15:02:37.886Z"
   },
   {
    "duration": 155,
    "start_time": "2024-09-30T15:06:57.083Z"
   },
   {
    "duration": 5,
    "start_time": "2024-09-30T15:15:52.146Z"
   },
   {
    "duration": 215,
    "start_time": "2024-09-30T16:34:33.802Z"
   },
   {
    "duration": 105,
    "start_time": "2024-09-30T16:37:56.681Z"
   },
   {
    "duration": 161,
    "start_time": "2024-09-30T16:38:37.418Z"
   },
   {
    "duration": 319,
    "start_time": "2024-09-30T16:44:18.340Z"
   },
   {
    "duration": 26,
    "start_time": "2024-09-30T16:45:43.124Z"
   },
   {
    "duration": 6,
    "start_time": "2024-09-30T16:45:44.278Z"
   },
   {
    "duration": 8,
    "start_time": "2024-09-30T16:55:34.120Z"
   },
   {
    "duration": 7,
    "start_time": "2024-09-30T16:59:36.536Z"
   },
   {
    "duration": 1056,
    "start_time": "2024-09-30T17:11:01.688Z"
   },
   {
    "duration": 986,
    "start_time": "2024-09-30T17:12:18.257Z"
   },
   {
    "duration": 1012,
    "start_time": "2024-09-30T17:17:25.745Z"
   },
   {
    "duration": 7,
    "start_time": "2024-09-30T17:17:50.596Z"
   },
   {
    "duration": 10,
    "start_time": "2024-09-30T17:18:23.290Z"
   },
   {
    "duration": 9,
    "start_time": "2024-09-30T17:25:24.059Z"
   },
   {
    "duration": 25,
    "start_time": "2024-09-30T17:25:32.011Z"
   },
   {
    "duration": 31,
    "start_time": "2024-09-30T17:28:13.403Z"
   },
   {
    "duration": 1256,
    "start_time": "2024-09-30T17:32:25.420Z"
   },
   {
    "duration": 14,
    "start_time": "2024-09-30T17:34:52.159Z"
   },
   {
    "duration": 15,
    "start_time": "2024-09-30T17:35:44.777Z"
   },
   {
    "duration": 1129,
    "start_time": "2024-09-30T18:06:28.858Z"
   },
   {
    "duration": 30,
    "start_time": "2024-09-30T18:06:29.989Z"
   },
   {
    "duration": 80,
    "start_time": "2024-09-30T18:06:30.020Z"
   },
   {
    "duration": 71,
    "start_time": "2024-09-30T18:06:30.102Z"
   },
   {
    "duration": 35,
    "start_time": "2024-09-30T18:06:30.175Z"
   },
   {
    "duration": 60,
    "start_time": "2024-09-30T18:06:30.212Z"
   },
   {
    "duration": 54,
    "start_time": "2024-09-30T18:06:30.274Z"
   },
   {
    "duration": 39,
    "start_time": "2024-09-30T18:06:30.330Z"
   },
   {
    "duration": 48,
    "start_time": "2024-09-30T18:06:30.371Z"
   },
   {
    "duration": 36,
    "start_time": "2024-09-30T18:06:30.421Z"
   },
   {
    "duration": 39,
    "start_time": "2024-09-30T18:06:30.458Z"
   },
   {
    "duration": 55,
    "start_time": "2024-09-30T18:06:30.499Z"
   },
   {
    "duration": 346,
    "start_time": "2024-09-30T18:06:30.556Z"
   },
   {
    "duration": 322,
    "start_time": "2024-09-30T18:06:30.905Z"
   },
   {
    "duration": 233,
    "start_time": "2024-09-30T18:06:31.229Z"
   },
   {
    "duration": 308,
    "start_time": "2024-09-30T18:06:31.464Z"
   },
   {
    "duration": 235,
    "start_time": "2024-09-30T18:06:31.774Z"
   },
   {
    "duration": 373,
    "start_time": "2024-09-30T18:06:32.011Z"
   },
   {
    "duration": 177,
    "start_time": "2024-09-30T18:06:32.386Z"
   },
   {
    "duration": 4,
    "start_time": "2024-09-30T18:06:32.565Z"
   },
   {
    "duration": 187,
    "start_time": "2024-09-30T18:06:32.571Z"
   },
   {
    "duration": 4,
    "start_time": "2024-09-30T18:06:32.760Z"
   },
   {
    "duration": 375,
    "start_time": "2024-09-30T18:06:32.766Z"
   },
   {
    "duration": 26,
    "start_time": "2024-09-30T18:06:33.142Z"
   },
   {
    "duration": 41,
    "start_time": "2024-09-30T18:06:33.169Z"
   },
   {
    "duration": 41,
    "start_time": "2024-09-30T18:06:33.212Z"
   },
   {
    "duration": 17,
    "start_time": "2024-09-30T18:06:33.255Z"
   },
   {
    "duration": 33,
    "start_time": "2024-09-30T18:06:33.274Z"
   },
   {
    "duration": 92,
    "start_time": "2024-09-30T18:06:33.308Z"
   },
   {
    "duration": 27,
    "start_time": "2024-09-30T18:06:33.402Z"
   },
   {
    "duration": 1351,
    "start_time": "2024-10-01T12:48:02.846Z"
   },
   {
    "duration": 76,
    "start_time": "2024-10-01T12:48:04.199Z"
   },
   {
    "duration": 24,
    "start_time": "2024-10-01T12:48:04.276Z"
   },
   {
    "duration": 134,
    "start_time": "2024-10-01T12:48:04.302Z"
   },
   {
    "duration": 88,
    "start_time": "2024-10-01T12:48:04.438Z"
   },
   {
    "duration": 10,
    "start_time": "2024-10-01T12:48:04.528Z"
   },
   {
    "duration": 115,
    "start_time": "2024-10-01T12:48:04.539Z"
   },
   {
    "duration": 12,
    "start_time": "2024-10-01T12:48:04.655Z"
   },
   {
    "duration": 13,
    "start_time": "2024-10-01T12:48:04.669Z"
   },
   {
    "duration": 79,
    "start_time": "2024-10-01T12:48:04.684Z"
   },
   {
    "duration": 15,
    "start_time": "2024-10-01T12:48:04.765Z"
   },
   {
    "duration": 46,
    "start_time": "2024-10-01T12:48:04.782Z"
   },
   {
    "duration": 294,
    "start_time": "2024-10-01T12:48:04.830Z"
   },
   {
    "duration": 298,
    "start_time": "2024-10-01T12:48:05.128Z"
   },
   {
    "duration": 238,
    "start_time": "2024-10-01T12:48:05.427Z"
   },
   {
    "duration": 338,
    "start_time": "2024-10-01T12:48:05.667Z"
   },
   {
    "duration": 217,
    "start_time": "2024-10-01T12:48:06.007Z"
   },
   {
    "duration": 376,
    "start_time": "2024-10-01T12:48:06.226Z"
   },
   {
    "duration": 181,
    "start_time": "2024-10-01T12:48:06.605Z"
   },
   {
    "duration": 6,
    "start_time": "2024-10-01T12:48:06.787Z"
   },
   {
    "duration": 188,
    "start_time": "2024-10-01T12:48:06.795Z"
   },
   {
    "duration": 5,
    "start_time": "2024-10-01T12:48:06.984Z"
   },
   {
    "duration": 378,
    "start_time": "2024-10-01T12:48:06.991Z"
   },
   {
    "duration": 25,
    "start_time": "2024-10-01T12:48:07.370Z"
   },
   {
    "duration": 3,
    "start_time": "2024-10-01T12:48:07.397Z"
   },
   {
    "duration": 30,
    "start_time": "2024-10-01T12:48:07.402Z"
   },
   {
    "duration": 8,
    "start_time": "2024-10-01T12:48:07.433Z"
   },
   {
    "duration": 9,
    "start_time": "2024-10-01T12:48:07.443Z"
   },
   {
    "duration": 44,
    "start_time": "2024-10-01T12:48:07.453Z"
   },
   {
    "duration": 39,
    "start_time": "2024-10-01T12:48:07.499Z"
   },
   {
    "duration": 1483,
    "start_time": "2024-10-01T14:48:31.079Z"
   },
   {
    "duration": 78,
    "start_time": "2024-10-01T14:48:32.565Z"
   },
   {
    "duration": 41,
    "start_time": "2024-10-01T14:48:32.645Z"
   },
   {
    "duration": 113,
    "start_time": "2024-10-01T14:48:32.688Z"
   },
   {
    "duration": 91,
    "start_time": "2024-10-01T14:48:32.803Z"
   },
   {
    "duration": 13,
    "start_time": "2024-10-01T14:48:32.896Z"
   },
   {
    "duration": 53,
    "start_time": "2024-10-01T14:48:32.911Z"
   },
   {
    "duration": 25,
    "start_time": "2024-10-01T14:48:32.966Z"
   },
   {
    "duration": 46,
    "start_time": "2024-10-01T14:48:32.992Z"
   },
   {
    "duration": 20,
    "start_time": "2024-10-01T14:48:33.041Z"
   },
   {
    "duration": 19,
    "start_time": "2024-10-01T14:48:33.063Z"
   },
   {
    "duration": 28,
    "start_time": "2024-10-01T14:48:33.084Z"
   },
   {
    "duration": 324,
    "start_time": "2024-10-01T14:48:33.114Z"
   },
   {
    "duration": 319,
    "start_time": "2024-10-01T14:48:33.439Z"
   },
   {
    "duration": 228,
    "start_time": "2024-10-01T14:48:33.760Z"
   },
   {
    "duration": 341,
    "start_time": "2024-10-01T14:48:33.990Z"
   },
   {
    "duration": 257,
    "start_time": "2024-10-01T14:48:34.333Z"
   },
   {
    "duration": 343,
    "start_time": "2024-10-01T14:48:34.592Z"
   },
   {
    "duration": 186,
    "start_time": "2024-10-01T14:48:34.937Z"
   },
   {
    "duration": 5,
    "start_time": "2024-10-01T14:48:35.125Z"
   },
   {
    "duration": 194,
    "start_time": "2024-10-01T14:48:35.132Z"
   },
   {
    "duration": 5,
    "start_time": "2024-10-01T14:48:35.328Z"
   },
   {
    "duration": 369,
    "start_time": "2024-10-01T14:48:35.335Z"
   },
   {
    "duration": 27,
    "start_time": "2024-10-01T14:48:35.705Z"
   },
   {
    "duration": 24,
    "start_time": "2024-10-01T14:48:35.734Z"
   },
   {
    "duration": 34,
    "start_time": "2024-10-01T14:48:35.760Z"
   },
   {
    "duration": 48,
    "start_time": "2024-10-01T14:48:35.796Z"
   },
   {
    "duration": 27,
    "start_time": "2024-10-01T14:48:35.848Z"
   },
   {
    "duration": 73,
    "start_time": "2024-10-01T14:48:35.877Z"
   },
   {
    "duration": 15,
    "start_time": "2024-10-01T14:48:35.952Z"
   },
   {
    "duration": 4,
    "start_time": "2024-10-01T15:05:05.038Z"
   },
   {
    "duration": 919,
    "start_time": "2024-10-01T15:06:05.078Z"
   },
   {
    "duration": 7,
    "start_time": "2024-10-01T15:06:42.332Z"
   },
   {
    "duration": 166,
    "start_time": "2024-10-01T15:09:58.023Z"
   },
   {
    "duration": 268,
    "start_time": "2024-10-01T15:11:16.032Z"
   },
   {
    "duration": 220,
    "start_time": "2024-10-01T15:12:14.475Z"
   },
   {
    "duration": 1259,
    "start_time": "2024-10-01T15:16:32.417Z"
   },
   {
    "duration": 30,
    "start_time": "2024-10-01T15:16:33.678Z"
   },
   {
    "duration": 30,
    "start_time": "2024-10-01T15:16:33.710Z"
   },
   {
    "duration": 65,
    "start_time": "2024-10-01T15:16:33.742Z"
   },
   {
    "duration": 35,
    "start_time": "2024-10-01T15:16:33.808Z"
   },
   {
    "duration": 17,
    "start_time": "2024-10-01T15:16:33.845Z"
   },
   {
    "duration": 42,
    "start_time": "2024-10-01T15:16:33.863Z"
   },
   {
    "duration": 40,
    "start_time": "2024-10-01T15:16:33.907Z"
   },
   {
    "duration": 13,
    "start_time": "2024-10-01T15:16:33.949Z"
   },
   {
    "duration": 8,
    "start_time": "2024-10-01T15:16:33.965Z"
   },
   {
    "duration": 14,
    "start_time": "2024-10-01T15:16:33.974Z"
   },
   {
    "duration": 34,
    "start_time": "2024-10-01T15:16:33.989Z"
   },
   {
    "duration": 324,
    "start_time": "2024-10-01T15:16:34.025Z"
   },
   {
    "duration": 328,
    "start_time": "2024-10-01T15:16:34.350Z"
   },
   {
    "duration": 254,
    "start_time": "2024-10-01T15:16:34.680Z"
   },
   {
    "duration": 376,
    "start_time": "2024-10-01T15:16:34.936Z"
   },
   {
    "duration": 238,
    "start_time": "2024-10-01T15:16:35.313Z"
   },
   {
    "duration": 388,
    "start_time": "2024-10-01T15:16:35.555Z"
   },
   {
    "duration": 190,
    "start_time": "2024-10-01T15:16:35.944Z"
   },
   {
    "duration": 7,
    "start_time": "2024-10-01T15:16:36.137Z"
   },
   {
    "duration": 182,
    "start_time": "2024-10-01T15:16:36.156Z"
   },
   {
    "duration": 205,
    "start_time": "2024-10-01T15:16:36.340Z"
   },
   {
    "duration": 9,
    "start_time": "2024-10-01T15:16:36.547Z"
   },
   {
    "duration": 485,
    "start_time": "2024-10-01T15:16:36.559Z"
   },
   {
    "duration": 30,
    "start_time": "2024-10-01T15:16:37.046Z"
   },
   {
    "duration": 5,
    "start_time": "2024-10-01T15:16:37.077Z"
   },
   {
    "duration": 11,
    "start_time": "2024-10-01T15:16:37.083Z"
   },
   {
    "duration": 7,
    "start_time": "2024-10-01T15:16:37.097Z"
   },
   {
    "duration": 27,
    "start_time": "2024-10-01T15:16:37.105Z"
   },
   {
    "duration": 66,
    "start_time": "2024-10-01T15:16:37.134Z"
   },
   {
    "duration": 21,
    "start_time": "2024-10-01T15:16:37.202Z"
   },
   {
    "duration": 216,
    "start_time": "2024-10-01T15:17:56.775Z"
   },
   {
    "duration": 189,
    "start_time": "2024-10-01T15:18:22.014Z"
   },
   {
    "duration": 1287,
    "start_time": "2024-10-01T15:21:02.047Z"
   },
   {
    "duration": 33,
    "start_time": "2024-10-01T15:21:03.336Z"
   },
   {
    "duration": 36,
    "start_time": "2024-10-01T15:21:03.371Z"
   },
   {
    "duration": 137,
    "start_time": "2024-10-01T15:21:03.409Z"
   },
   {
    "duration": 36,
    "start_time": "2024-10-01T15:21:03.549Z"
   },
   {
    "duration": 72,
    "start_time": "2024-10-01T15:21:03.587Z"
   },
   {
    "duration": 57,
    "start_time": "2024-10-01T15:21:03.660Z"
   },
   {
    "duration": 49,
    "start_time": "2024-10-01T15:21:03.719Z"
   },
   {
    "duration": 22,
    "start_time": "2024-10-01T15:21:03.770Z"
   },
   {
    "duration": 34,
    "start_time": "2024-10-01T15:21:03.794Z"
   },
   {
    "duration": 31,
    "start_time": "2024-10-01T15:21:03.830Z"
   },
   {
    "duration": 81,
    "start_time": "2024-10-01T15:21:03.863Z"
   },
   {
    "duration": 348,
    "start_time": "2024-10-01T15:21:03.945Z"
   },
   {
    "duration": 325,
    "start_time": "2024-10-01T15:21:04.296Z"
   },
   {
    "duration": 235,
    "start_time": "2024-10-01T15:21:04.622Z"
   },
   {
    "duration": 344,
    "start_time": "2024-10-01T15:21:04.859Z"
   },
   {
    "duration": 259,
    "start_time": "2024-10-01T15:21:05.205Z"
   },
   {
    "duration": 361,
    "start_time": "2024-10-01T15:21:05.466Z"
   },
   {
    "duration": 185,
    "start_time": "2024-10-01T15:21:05.829Z"
   },
   {
    "duration": 5,
    "start_time": "2024-10-01T15:21:06.016Z"
   },
   {
    "duration": 180,
    "start_time": "2024-10-01T15:21:06.023Z"
   },
   {
    "duration": 202,
    "start_time": "2024-10-01T15:21:06.204Z"
   },
   {
    "duration": 5,
    "start_time": "2024-10-01T15:21:06.407Z"
   },
   {
    "duration": 453,
    "start_time": "2024-10-01T15:21:06.414Z"
   },
   {
    "duration": 26,
    "start_time": "2024-10-01T15:21:06.869Z"
   },
   {
    "duration": 24,
    "start_time": "2024-10-01T15:21:06.897Z"
   },
   {
    "duration": 12,
    "start_time": "2024-10-01T15:21:06.923Z"
   },
   {
    "duration": 23,
    "start_time": "2024-10-01T15:21:06.937Z"
   },
   {
    "duration": 79,
    "start_time": "2024-10-01T15:21:06.962Z"
   },
   {
    "duration": 77,
    "start_time": "2024-10-01T15:21:07.043Z"
   },
   {
    "duration": 20,
    "start_time": "2024-10-01T15:21:07.122Z"
   }
  ],
  "kernelspec": {
   "display_name": "Python 3 (ipykernel)",
   "language": "python",
   "name": "python3"
  },
  "language_info": {
   "codemirror_mode": {
    "name": "ipython",
    "version": 3
   },
   "file_extension": ".py",
   "mimetype": "text/x-python",
   "name": "python",
   "nbconvert_exporter": "python",
   "pygments_lexer": "ipython3",
   "version": "3.12.4"
  },
  "toc": {
   "base_numbering": 1,
   "nav_menu": {},
   "number_sections": true,
   "sideBar": true,
   "skip_h1_title": true,
   "title_cell": "Table of Contents",
   "title_sidebar": "Contents",
   "toc_cell": false,
   "toc_position": {},
   "toc_section_display": true,
   "toc_window_display": false
  }
 },
 "nbformat": 4,
 "nbformat_minor": 4
}
