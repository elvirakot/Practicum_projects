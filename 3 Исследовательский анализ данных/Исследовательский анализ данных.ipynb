{
 "cells": [
  {
   "cell_type": "markdown",
   "metadata": {
    "id": "-VFbjcb3Awb7"
   },
   "source": [
    "# Проект: Исследовательский анализ данных\n",
    "\n",
    "**Контекст:** Архив объявлений о продаже квартир в Санкт-Петербурге и соседних населённых пунктах за несколько лет. По каждой квартире на продажу доступны два вида данных. Первые вписаны пользователем, вторые — получены автоматически на основе картографических данных. Например, расстояние до центра, аэропорта и других объектов — эти данные автоматически получены из геосервисов. Количество парков и водоёмов также заполняется без участия пользователя.\n",
    "\n",
    "**Задачи:** Определим рыночную стоимость объектов недвижимости. Для этого проведем исследовательский анализ данных и установим параметры, влияющие на цену объектов. Это позволит построить автоматизированную систему: она отследит аномалии и мошенническую деятельность.\n",
    "\n",
    "**Описание данных:**\n",
    "- airports_nearest — расстояние до ближайшего аэропорта в метрах (м);\n",
    "- balcony — число балконов;\n",
    "- ceiling_height — высота потолков (м);\n",
    "- cityCenters_nearest — расстояние до центра города (м);\n",
    "- days_exposition — сколько дней было размещено объявление (от публикации до снятия);\n",
    "- first_day_exposition — дата публикации;\n",
    "- floor — этаж;\n",
    "- floors_total — всего этажей в доме;\n",
    "- is_apartment — апартаменты (булев тип);\n",
    "- kitchen_area — площадь кухни в квадратных метрах (м²);\n",
    "- last_price — цена на момент снятия с публикации;\n",
    "- living_area — жилая площадь в квадратных метрах (м²);\n",
    "- locality_name — название населённого пункта;\n",
    "- open_plan — свободная планировка (булев тип);\n",
    "- parks_around3000 — число парков в радиусе 3 км;\n",
    "- parks_nearest — расстояние до ближайшего парка (м);\n",
    "- ponds_around3000 — число водоёмов в радиусе 3 км;\n",
    "- ponds_nearest — расстояние до ближайшего водоёма (м);\n",
    "- rooms — число комнат;\n",
    "- studio — квартира-студия (булев тип);\n",
    "- total_area — общая площадь квартиры в квадратных метрах (м²);\n",
    "- total_images — число фотографий квартиры в объявлении;"
   ]
  },
  {
   "cell_type": "markdown",
   "metadata": {},
   "source": [
    "**Содержание:**\n",
    "1. [Загрузка данных и изучение общей информации](#chapter1)\n",
    "2. [Предобработка данных](#chapter2)\n",
    "3. [Добавим в таблицу новые столбцы](#chapter3)\n",
    "4. [Проведем исследовательский анализ данных](#chapter4)\n",
    "5. [Общий вывод](#chapter5)"
   ]
  },
  {
   "cell_type": "markdown",
   "metadata": {
    "id": "aeFLH07FAwb9"
   },
   "source": [
    "<a id=\"chapter1\"></a> \n",
    "###  Загрузка данных и изучение общей информации"
   ]
  },
  {
   "cell_type": "code",
   "execution_count": 1,
   "metadata": {},
   "outputs": [],
   "source": [
    "import pandas as pd\n",
    "import matplotlib.pyplot as plt"
   ]
  },
  {
   "cell_type": "markdown",
   "metadata": {},
   "source": [
    "**1.1 Посмотрим основную информацию о датафрейме**"
   ]
  },
  {
   "cell_type": "code",
   "execution_count": 2,
   "metadata": {
    "id": "7MZxY65pAwb9",
    "scrolled": true
   },
   "outputs": [
    {
     "name": "stdout",
     "output_type": "stream",
     "text": [
      "<class 'pandas.core.frame.DataFrame'>\n",
      "RangeIndex: 23699 entries, 0 to 23698\n",
      "Data columns (total 22 columns):\n",
      " #   Column                Non-Null Count  Dtype  \n",
      "---  ------                --------------  -----  \n",
      " 0   total_images          23699 non-null  int64  \n",
      " 1   last_price            23699 non-null  float64\n",
      " 2   total_area            23699 non-null  float64\n",
      " 3   first_day_exposition  23699 non-null  object \n",
      " 4   rooms                 23699 non-null  int64  \n",
      " 5   ceiling_height        14504 non-null  float64\n",
      " 6   floors_total          23613 non-null  float64\n",
      " 7   living_area           21796 non-null  float64\n",
      " 8   floor                 23699 non-null  int64  \n",
      " 9   is_apartment          2775 non-null   object \n",
      " 10  studio                23699 non-null  bool   \n",
      " 11  open_plan             23699 non-null  bool   \n",
      " 12  kitchen_area          21421 non-null  float64\n",
      " 13  balcony               12180 non-null  float64\n",
      " 14  locality_name         23650 non-null  object \n",
      " 15  airports_nearest      18157 non-null  float64\n",
      " 16  cityCenters_nearest   18180 non-null  float64\n",
      " 17  parks_around3000      18181 non-null  float64\n",
      " 18  parks_nearest         8079 non-null   float64\n",
      " 19  ponds_around3000      18181 non-null  float64\n",
      " 20  ponds_nearest         9110 non-null   float64\n",
      " 21  days_exposition       20518 non-null  float64\n",
      "dtypes: bool(2), float64(14), int64(3), object(3)\n",
      "memory usage: 3.7+ MB\n"
     ]
    }
   ],
   "source": [
    "data = pd.read_csv('/datasets/real_estate_data.csv', sep='\\t')\n",
    "data.info()"
   ]
  },
  {
   "cell_type": "markdown",
   "metadata": {},
   "source": [
    "**1.2 Посмотрим первые 10 строк**"
   ]
  },
  {
   "cell_type": "code",
   "execution_count": 3,
   "metadata": {},
   "outputs": [
    {
     "data": {
      "text/html": [
       "<div>\n",
       "<style scoped>\n",
       "    .dataframe tbody tr th:only-of-type {\n",
       "        vertical-align: middle;\n",
       "    }\n",
       "\n",
       "    .dataframe tbody tr th {\n",
       "        vertical-align: top;\n",
       "    }\n",
       "\n",
       "    .dataframe thead th {\n",
       "        text-align: right;\n",
       "    }\n",
       "</style>\n",
       "<table border=\"1\" class=\"dataframe\">\n",
       "  <thead>\n",
       "    <tr style=\"text-align: right;\">\n",
       "      <th></th>\n",
       "      <th>total_images</th>\n",
       "      <th>last_price</th>\n",
       "      <th>total_area</th>\n",
       "      <th>first_day_exposition</th>\n",
       "      <th>rooms</th>\n",
       "      <th>ceiling_height</th>\n",
       "      <th>floors_total</th>\n",
       "      <th>living_area</th>\n",
       "      <th>floor</th>\n",
       "      <th>is_apartment</th>\n",
       "      <th>...</th>\n",
       "      <th>kitchen_area</th>\n",
       "      <th>balcony</th>\n",
       "      <th>locality_name</th>\n",
       "      <th>airports_nearest</th>\n",
       "      <th>cityCenters_nearest</th>\n",
       "      <th>parks_around3000</th>\n",
       "      <th>parks_nearest</th>\n",
       "      <th>ponds_around3000</th>\n",
       "      <th>ponds_nearest</th>\n",
       "      <th>days_exposition</th>\n",
       "    </tr>\n",
       "  </thead>\n",
       "  <tbody>\n",
       "    <tr>\n",
       "      <th>0</th>\n",
       "      <td>20</td>\n",
       "      <td>13000000.0</td>\n",
       "      <td>108.00</td>\n",
       "      <td>2019-03-07T00:00:00</td>\n",
       "      <td>3</td>\n",
       "      <td>2.70</td>\n",
       "      <td>16.0</td>\n",
       "      <td>51.00</td>\n",
       "      <td>8</td>\n",
       "      <td>NaN</td>\n",
       "      <td>...</td>\n",
       "      <td>25.00</td>\n",
       "      <td>NaN</td>\n",
       "      <td>Санкт-Петербург</td>\n",
       "      <td>18863.0</td>\n",
       "      <td>16028.0</td>\n",
       "      <td>1.0</td>\n",
       "      <td>482.0</td>\n",
       "      <td>2.0</td>\n",
       "      <td>755.0</td>\n",
       "      <td>NaN</td>\n",
       "    </tr>\n",
       "    <tr>\n",
       "      <th>1</th>\n",
       "      <td>7</td>\n",
       "      <td>3350000.0</td>\n",
       "      <td>40.40</td>\n",
       "      <td>2018-12-04T00:00:00</td>\n",
       "      <td>1</td>\n",
       "      <td>NaN</td>\n",
       "      <td>11.0</td>\n",
       "      <td>18.60</td>\n",
       "      <td>1</td>\n",
       "      <td>NaN</td>\n",
       "      <td>...</td>\n",
       "      <td>11.00</td>\n",
       "      <td>2.0</td>\n",
       "      <td>посёлок Шушары</td>\n",
       "      <td>12817.0</td>\n",
       "      <td>18603.0</td>\n",
       "      <td>0.0</td>\n",
       "      <td>NaN</td>\n",
       "      <td>0.0</td>\n",
       "      <td>NaN</td>\n",
       "      <td>81.0</td>\n",
       "    </tr>\n",
       "    <tr>\n",
       "      <th>2</th>\n",
       "      <td>10</td>\n",
       "      <td>5196000.0</td>\n",
       "      <td>56.00</td>\n",
       "      <td>2015-08-20T00:00:00</td>\n",
       "      <td>2</td>\n",
       "      <td>NaN</td>\n",
       "      <td>5.0</td>\n",
       "      <td>34.30</td>\n",
       "      <td>4</td>\n",
       "      <td>NaN</td>\n",
       "      <td>...</td>\n",
       "      <td>8.30</td>\n",
       "      <td>0.0</td>\n",
       "      <td>Санкт-Петербург</td>\n",
       "      <td>21741.0</td>\n",
       "      <td>13933.0</td>\n",
       "      <td>1.0</td>\n",
       "      <td>90.0</td>\n",
       "      <td>2.0</td>\n",
       "      <td>574.0</td>\n",
       "      <td>558.0</td>\n",
       "    </tr>\n",
       "    <tr>\n",
       "      <th>3</th>\n",
       "      <td>0</td>\n",
       "      <td>64900000.0</td>\n",
       "      <td>159.00</td>\n",
       "      <td>2015-07-24T00:00:00</td>\n",
       "      <td>3</td>\n",
       "      <td>NaN</td>\n",
       "      <td>14.0</td>\n",
       "      <td>NaN</td>\n",
       "      <td>9</td>\n",
       "      <td>NaN</td>\n",
       "      <td>...</td>\n",
       "      <td>NaN</td>\n",
       "      <td>0.0</td>\n",
       "      <td>Санкт-Петербург</td>\n",
       "      <td>28098.0</td>\n",
       "      <td>6800.0</td>\n",
       "      <td>2.0</td>\n",
       "      <td>84.0</td>\n",
       "      <td>3.0</td>\n",
       "      <td>234.0</td>\n",
       "      <td>424.0</td>\n",
       "    </tr>\n",
       "    <tr>\n",
       "      <th>4</th>\n",
       "      <td>2</td>\n",
       "      <td>10000000.0</td>\n",
       "      <td>100.00</td>\n",
       "      <td>2018-06-19T00:00:00</td>\n",
       "      <td>2</td>\n",
       "      <td>3.03</td>\n",
       "      <td>14.0</td>\n",
       "      <td>32.00</td>\n",
       "      <td>13</td>\n",
       "      <td>NaN</td>\n",
       "      <td>...</td>\n",
       "      <td>41.00</td>\n",
       "      <td>NaN</td>\n",
       "      <td>Санкт-Петербург</td>\n",
       "      <td>31856.0</td>\n",
       "      <td>8098.0</td>\n",
       "      <td>2.0</td>\n",
       "      <td>112.0</td>\n",
       "      <td>1.0</td>\n",
       "      <td>48.0</td>\n",
       "      <td>121.0</td>\n",
       "    </tr>\n",
       "    <tr>\n",
       "      <th>5</th>\n",
       "      <td>10</td>\n",
       "      <td>2890000.0</td>\n",
       "      <td>30.40</td>\n",
       "      <td>2018-09-10T00:00:00</td>\n",
       "      <td>1</td>\n",
       "      <td>NaN</td>\n",
       "      <td>12.0</td>\n",
       "      <td>14.40</td>\n",
       "      <td>5</td>\n",
       "      <td>NaN</td>\n",
       "      <td>...</td>\n",
       "      <td>9.10</td>\n",
       "      <td>NaN</td>\n",
       "      <td>городской посёлок Янино-1</td>\n",
       "      <td>NaN</td>\n",
       "      <td>NaN</td>\n",
       "      <td>NaN</td>\n",
       "      <td>NaN</td>\n",
       "      <td>NaN</td>\n",
       "      <td>NaN</td>\n",
       "      <td>55.0</td>\n",
       "    </tr>\n",
       "    <tr>\n",
       "      <th>6</th>\n",
       "      <td>6</td>\n",
       "      <td>3700000.0</td>\n",
       "      <td>37.30</td>\n",
       "      <td>2017-11-02T00:00:00</td>\n",
       "      <td>1</td>\n",
       "      <td>NaN</td>\n",
       "      <td>26.0</td>\n",
       "      <td>10.60</td>\n",
       "      <td>6</td>\n",
       "      <td>NaN</td>\n",
       "      <td>...</td>\n",
       "      <td>14.40</td>\n",
       "      <td>1.0</td>\n",
       "      <td>посёлок Парголово</td>\n",
       "      <td>52996.0</td>\n",
       "      <td>19143.0</td>\n",
       "      <td>0.0</td>\n",
       "      <td>NaN</td>\n",
       "      <td>0.0</td>\n",
       "      <td>NaN</td>\n",
       "      <td>155.0</td>\n",
       "    </tr>\n",
       "    <tr>\n",
       "      <th>7</th>\n",
       "      <td>5</td>\n",
       "      <td>7915000.0</td>\n",
       "      <td>71.60</td>\n",
       "      <td>2019-04-18T00:00:00</td>\n",
       "      <td>2</td>\n",
       "      <td>NaN</td>\n",
       "      <td>24.0</td>\n",
       "      <td>NaN</td>\n",
       "      <td>22</td>\n",
       "      <td>NaN</td>\n",
       "      <td>...</td>\n",
       "      <td>18.90</td>\n",
       "      <td>2.0</td>\n",
       "      <td>Санкт-Петербург</td>\n",
       "      <td>23982.0</td>\n",
       "      <td>11634.0</td>\n",
       "      <td>0.0</td>\n",
       "      <td>NaN</td>\n",
       "      <td>0.0</td>\n",
       "      <td>NaN</td>\n",
       "      <td>NaN</td>\n",
       "    </tr>\n",
       "    <tr>\n",
       "      <th>8</th>\n",
       "      <td>20</td>\n",
       "      <td>2900000.0</td>\n",
       "      <td>33.16</td>\n",
       "      <td>2018-05-23T00:00:00</td>\n",
       "      <td>1</td>\n",
       "      <td>NaN</td>\n",
       "      <td>27.0</td>\n",
       "      <td>15.43</td>\n",
       "      <td>26</td>\n",
       "      <td>NaN</td>\n",
       "      <td>...</td>\n",
       "      <td>8.81</td>\n",
       "      <td>NaN</td>\n",
       "      <td>посёлок Мурино</td>\n",
       "      <td>NaN</td>\n",
       "      <td>NaN</td>\n",
       "      <td>NaN</td>\n",
       "      <td>NaN</td>\n",
       "      <td>NaN</td>\n",
       "      <td>NaN</td>\n",
       "      <td>189.0</td>\n",
       "    </tr>\n",
       "    <tr>\n",
       "      <th>9</th>\n",
       "      <td>18</td>\n",
       "      <td>5400000.0</td>\n",
       "      <td>61.00</td>\n",
       "      <td>2017-02-26T00:00:00</td>\n",
       "      <td>3</td>\n",
       "      <td>2.50</td>\n",
       "      <td>9.0</td>\n",
       "      <td>43.60</td>\n",
       "      <td>7</td>\n",
       "      <td>NaN</td>\n",
       "      <td>...</td>\n",
       "      <td>6.50</td>\n",
       "      <td>2.0</td>\n",
       "      <td>Санкт-Петербург</td>\n",
       "      <td>50898.0</td>\n",
       "      <td>15008.0</td>\n",
       "      <td>0.0</td>\n",
       "      <td>NaN</td>\n",
       "      <td>0.0</td>\n",
       "      <td>NaN</td>\n",
       "      <td>289.0</td>\n",
       "    </tr>\n",
       "  </tbody>\n",
       "</table>\n",
       "<p>10 rows × 22 columns</p>\n",
       "</div>"
      ],
      "text/plain": [
       "   total_images  last_price  total_area first_day_exposition  rooms  \\\n",
       "0            20  13000000.0      108.00  2019-03-07T00:00:00      3   \n",
       "1             7   3350000.0       40.40  2018-12-04T00:00:00      1   \n",
       "2            10   5196000.0       56.00  2015-08-20T00:00:00      2   \n",
       "3             0  64900000.0      159.00  2015-07-24T00:00:00      3   \n",
       "4             2  10000000.0      100.00  2018-06-19T00:00:00      2   \n",
       "5            10   2890000.0       30.40  2018-09-10T00:00:00      1   \n",
       "6             6   3700000.0       37.30  2017-11-02T00:00:00      1   \n",
       "7             5   7915000.0       71.60  2019-04-18T00:00:00      2   \n",
       "8            20   2900000.0       33.16  2018-05-23T00:00:00      1   \n",
       "9            18   5400000.0       61.00  2017-02-26T00:00:00      3   \n",
       "\n",
       "   ceiling_height  floors_total  living_area  floor is_apartment  ...  \\\n",
       "0            2.70          16.0        51.00      8          NaN  ...   \n",
       "1             NaN          11.0        18.60      1          NaN  ...   \n",
       "2             NaN           5.0        34.30      4          NaN  ...   \n",
       "3             NaN          14.0          NaN      9          NaN  ...   \n",
       "4            3.03          14.0        32.00     13          NaN  ...   \n",
       "5             NaN          12.0        14.40      5          NaN  ...   \n",
       "6             NaN          26.0        10.60      6          NaN  ...   \n",
       "7             NaN          24.0          NaN     22          NaN  ...   \n",
       "8             NaN          27.0        15.43     26          NaN  ...   \n",
       "9            2.50           9.0        43.60      7          NaN  ...   \n",
       "\n",
       "   kitchen_area  balcony              locality_name  airports_nearest  \\\n",
       "0         25.00      NaN            Санкт-Петербург           18863.0   \n",
       "1         11.00      2.0             посёлок Шушары           12817.0   \n",
       "2          8.30      0.0            Санкт-Петербург           21741.0   \n",
       "3           NaN      0.0            Санкт-Петербург           28098.0   \n",
       "4         41.00      NaN            Санкт-Петербург           31856.0   \n",
       "5          9.10      NaN  городской посёлок Янино-1               NaN   \n",
       "6         14.40      1.0          посёлок Парголово           52996.0   \n",
       "7         18.90      2.0            Санкт-Петербург           23982.0   \n",
       "8          8.81      NaN             посёлок Мурино               NaN   \n",
       "9          6.50      2.0            Санкт-Петербург           50898.0   \n",
       "\n",
       "  cityCenters_nearest  parks_around3000  parks_nearest  ponds_around3000  \\\n",
       "0             16028.0               1.0          482.0               2.0   \n",
       "1             18603.0               0.0            NaN               0.0   \n",
       "2             13933.0               1.0           90.0               2.0   \n",
       "3              6800.0               2.0           84.0               3.0   \n",
       "4              8098.0               2.0          112.0               1.0   \n",
       "5                 NaN               NaN            NaN               NaN   \n",
       "6             19143.0               0.0            NaN               0.0   \n",
       "7             11634.0               0.0            NaN               0.0   \n",
       "8                 NaN               NaN            NaN               NaN   \n",
       "9             15008.0               0.0            NaN               0.0   \n",
       "\n",
       "   ponds_nearest  days_exposition  \n",
       "0          755.0              NaN  \n",
       "1            NaN             81.0  \n",
       "2          574.0            558.0  \n",
       "3          234.0            424.0  \n",
       "4           48.0            121.0  \n",
       "5            NaN             55.0  \n",
       "6            NaN            155.0  \n",
       "7            NaN              NaN  \n",
       "8            NaN            189.0  \n",
       "9            NaN            289.0  \n",
       "\n",
       "[10 rows x 22 columns]"
      ]
     },
     "execution_count": 3,
     "metadata": {},
     "output_type": "execute_result"
    }
   ],
   "source": [
    "data.head(10)"
   ]
  },
  {
   "cell_type": "markdown",
   "metadata": {},
   "source": [
    "**1.3 Построим гистограммы для всех числовых столбцов таблицы**"
   ]
  },
  {
   "cell_type": "code",
   "execution_count": 4,
   "metadata": {},
   "outputs": [
    {
     "data": {
      "text/plain": [
       "array([[<AxesSubplot:title={'center':'total_images'}>,\n",
       "        <AxesSubplot:title={'center':'last_price'}>,\n",
       "        <AxesSubplot:title={'center':'total_area'}>,\n",
       "        <AxesSubplot:title={'center':'rooms'}>],\n",
       "       [<AxesSubplot:title={'center':'ceiling_height'}>,\n",
       "        <AxesSubplot:title={'center':'floors_total'}>,\n",
       "        <AxesSubplot:title={'center':'living_area'}>,\n",
       "        <AxesSubplot:title={'center':'floor'}>],\n",
       "       [<AxesSubplot:title={'center':'kitchen_area'}>,\n",
       "        <AxesSubplot:title={'center':'balcony'}>,\n",
       "        <AxesSubplot:title={'center':'airports_nearest'}>,\n",
       "        <AxesSubplot:title={'center':'cityCenters_nearest'}>],\n",
       "       [<AxesSubplot:title={'center':'parks_around3000'}>,\n",
       "        <AxesSubplot:title={'center':'parks_nearest'}>,\n",
       "        <AxesSubplot:title={'center':'ponds_around3000'}>,\n",
       "        <AxesSubplot:title={'center':'ponds_nearest'}>],\n",
       "       [<AxesSubplot:title={'center':'days_exposition'}>, <AxesSubplot:>,\n",
       "        <AxesSubplot:>, <AxesSubplot:>]], dtype=object)"
      ]
     },
     "execution_count": 4,
     "metadata": {},
     "output_type": "execute_result"
    },
    {
     "data": {
      "image/png": "[encoded data removed]",
      "text/plain": [
       "<Figure size 1080x1440 with 20 Axes>"
      ]
     },
     "metadata": {
      "needs_background": "light"
     },
     "output_type": "display_data"
    }
   ],
   "source": [
    "data.hist(figsize=(15, 20))"
   ]
  },
  {
   "cell_type": "markdown",
   "metadata": {},
   "source": [
    "**1.4 Проверим явные дубликаты**"
   ]
  },
  {
   "cell_type": "code",
   "execution_count": 5,
   "metadata": {},
   "outputs": [
    {
     "data": {
      "text/plain": [
       "0"
      ]
     },
     "execution_count": 5,
     "metadata": {},
     "output_type": "execute_result"
    }
   ],
   "source": [
    "data.duplicated().sum()"
   ]
  },
  {
   "cell_type": "markdown",
   "metadata": {},
   "source": [
    "**Вывод**\n",
    "\n",
    "В данных имеются пропуски, а также некорректные типы данных. \n",
    "По гистограммам видно, что в данных есть аномальные значение.\n",
    "Явных дубликатов нет."
   ]
  },
  {
   "cell_type": "markdown",
   "metadata": {
    "id": "-O5NtivEAwb9"
   },
   "source": [
    "<a id=\"chapter2\"></a> \n",
    "###  Предобработка данных"
   ]
  },
  {
   "cell_type": "markdown",
   "metadata": {},
   "source": [
    "**2.1 Переименнуем название столбца cityCenters_nearest**"
   ]
  },
  {
   "cell_type": "code",
   "execution_count": 6,
   "metadata": {},
   "outputs": [],
   "source": [
    "data = data.rename(columns = {'cityCenters_nearest':'city_centers_nearest'})"
   ]
  },
  {
   "cell_type": "markdown",
   "metadata": {},
   "source": [
    "**2.2 Изменим тип столбца first_day_exposition на удобный тип для даты**"
   ]
  },
  {
   "cell_type": "code",
   "execution_count": 7,
   "metadata": {},
   "outputs": [],
   "source": [
    "data['first_day_exposition'] = pd.to_datetime(data['first_day_exposition'], format='%Y-%m-%dT%H:%M:%S') #изменяем тип для корректной работы кода"
   ]
  },
  {
   "cell_type": "markdown",
   "metadata": {},
   "source": [
    "**2.3 Проверим в каких столбцах есть пропуски**"
   ]
  },
  {
   "cell_type": "code",
   "execution_count": 8,
   "metadata": {
    "id": "7v3vAeTuAwb-"
   },
   "outputs": [
    {
     "data": {
      "text/plain": [
       "total_images                0\n",
       "last_price                  0\n",
       "total_area                  0\n",
       "first_day_exposition        0\n",
       "rooms                       0\n",
       "ceiling_height           9195\n",
       "floors_total               86\n",
       "living_area              1903\n",
       "floor                       0\n",
       "is_apartment            20924\n",
       "studio                      0\n",
       "open_plan                   0\n",
       "kitchen_area             2278\n",
       "balcony                 11519\n",
       "locality_name              49\n",
       "airports_nearest         5542\n",
       "city_centers_nearest     5519\n",
       "parks_around3000         5518\n",
       "parks_nearest           15620\n",
       "ponds_around3000         5518\n",
       "ponds_nearest           14589\n",
       "days_exposition          3181\n",
       "dtype: int64"
      ]
     },
     "execution_count": 8,
     "metadata": {},
     "output_type": "execute_result"
    }
   ],
   "source": [
    "data.isna().sum()"
   ]
  },
  {
   "cell_type": "markdown",
   "metadata": {},
   "source": [
    "**2.4 Заменим пропуски на медианное значение в столбце ceiling_height**"
   ]
  },
  {
   "cell_type": "code",
   "execution_count": 9,
   "metadata": {},
   "outputs": [],
   "source": [
    "data['ceiling_height'] = data['ceiling_height'].fillna(data['ceiling_height'].median())"
   ]
  },
  {
   "cell_type": "markdown",
   "metadata": {},
   "source": [
    "**2.5 Заполним пропуски в is_apartment**"
   ]
  },
  {
   "cell_type": "markdown",
   "metadata": {},
   "source": [
    "Заполняем пропуски и изменяем тип данных на булевое значение"
   ]
  },
  {
   "cell_type": "code",
   "execution_count": 10,
   "metadata": {},
   "outputs": [
    {
     "data": {
      "text/plain": [
       "False    2725\n",
       "True       50\n",
       "Name: is_apartment, dtype: int64"
      ]
     },
     "execution_count": 10,
     "metadata": {},
     "output_type": "execute_result"
    }
   ],
   "source": [
    "data['is_apartment'].value_counts() "
   ]
  },
  {
   "cell_type": "code",
   "execution_count": 11,
   "metadata": {},
   "outputs": [],
   "source": [
    "data['is_apartment'] = data['is_apartment'].fillna(False)\n",
    "data['is_apartment'] = data['is_apartment'].astype(bool) #булевое значение меняет соотношение аппартаментов и обычных квартир"
   ]
  },
  {
   "cell_type": "code",
   "execution_count": 12,
   "metadata": {},
   "outputs": [
    {
     "data": {
      "text/plain": [
       "False    23649\n",
       "True        50\n",
       "Name: is_apartment, dtype: int64"
      ]
     },
     "execution_count": 12,
     "metadata": {},
     "output_type": "execute_result"
    }
   ],
   "source": [
    "data['is_apartment'].value_counts()"
   ]
  },
  {
   "cell_type": "code",
   "execution_count": 13,
   "metadata": {},
   "outputs": [
    {
     "data": {
      "text/plain": [
       "0.0021097936621798387"
      ]
     },
     "execution_count": 13,
     "metadata": {},
     "output_type": "execute_result"
    }
   ],
   "source": [
    "data['is_apartment'].mean()"
   ]
  },
  {
   "cell_type": "markdown",
   "metadata": {},
   "source": [
    "**2.6 Уберем пропуски в столбце balcony**"
   ]
  },
  {
   "cell_type": "code",
   "execution_count": 18,
   "metadata": {},
   "outputs": [],
   "source": [
    "data['balcony'] = data['balcony'].fillna(0) #скорее всего балконов просто нет"
   ]
  },
  {
   "cell_type": "markdown",
   "metadata": {},
   "source": [
    "**2.7 Устраним неявные дубликаты в locality_name**"
   ]
  },
  {
   "cell_type": "code",
   "execution_count": 19,
   "metadata": {},
   "outputs": [
    {
     "data": {
      "text/plain": [
       "array(['Бокситогорск', 'Волосово', 'Волхов', 'Всеволожск', 'Выборг',\n",
       "       'Высоцк', 'Гатчина', 'Зеленогорск', 'Ивангород', 'Каменногорск',\n",
       "       'Кингисепп', 'Кириши', 'Кировск', 'Колпино', 'Коммунар',\n",
       "       'Красное Село', 'Кронштадт', 'Кудрово', 'Лодейное Поле',\n",
       "       'Ломоносов', 'Луга', 'Любань', 'Мурино', 'Никольское',\n",
       "       'Новая Ладога', 'Отрадное', 'Павловск', 'Петергоф', 'Пикалёво',\n",
       "       'Подпорожье', 'Приморск', 'Приозерск', 'Пушкин', 'Санкт-Петербург',\n",
       "       'Светогорск', 'Сертолово', 'Сестрорецк', 'Сланцы', 'Сосновый Бор',\n",
       "       'Сясьстрой', 'Тихвин', 'Тосно', 'Шлиссельбург',\n",
       "       'городской поселок Большая Ижора', 'городской поселок Янино-1',\n",
       "       'городской посёлок Будогощь', 'городской посёлок Виллози',\n",
       "       'городской посёлок Лесогорский', 'городской посёлок Мга',\n",
       "       'городской посёлок Назия', 'городской посёлок Новоселье',\n",
       "       'городской посёлок Павлово', 'городской посёлок Рощино',\n",
       "       'городской посёлок Свирьстрой', 'городской посёлок Советский',\n",
       "       'городской посёлок Фёдоровское', 'городской посёлок Янино-1',\n",
       "       'деревня Агалатово', 'деревня Аро', 'деревня Батово',\n",
       "       'деревня Бегуницы', 'деревня Белогорка', 'деревня Большая Вруда',\n",
       "       'деревня Большая Пустомержа', 'деревня Большие Колпаны',\n",
       "       'деревня Большое Рейзино', 'деревня Большой Сабск', 'деревня Бор',\n",
       "       'деревня Борисова Грива', 'деревня Ваганово', 'деревня Вартемяги',\n",
       "       'деревня Вахнова Кара', 'деревня Выскатка', 'деревня Гарболово',\n",
       "       'деревня Глинка', 'деревня Горбунки', 'деревня Гостилицы',\n",
       "       'деревня Заклинье', 'деревня Заневка', 'деревня Зимитицы',\n",
       "       'деревня Извара', 'деревня Иссад', 'деревня Калитино',\n",
       "       'деревня Кальтино', 'деревня Камышовка', 'деревня Каськово',\n",
       "       'деревня Келози', 'деревня Кипень', 'деревня Кисельня',\n",
       "       'деревня Колтуши', 'деревня Коркино', 'деревня Котлы',\n",
       "       'деревня Кривко', 'деревня Кудрово', 'деревня Кузьмолово',\n",
       "       'деревня Курковицы', 'деревня Куровицы', 'деревня Куттузи',\n",
       "       'деревня Лаврики', 'деревня Лаголово', 'деревня Лампово',\n",
       "       'деревня Лесколово', 'деревня Лопухинка', 'деревня Лупполово',\n",
       "       'деревня Малая Романовка', 'деревня Малое Верево',\n",
       "       'деревня Малое Карлино', 'деревня Малые Колпаны',\n",
       "       'деревня Мануйлово', 'деревня Меньково', 'деревня Мины',\n",
       "       'деревня Мистолово', 'деревня Ненимяки', 'деревня Нижние Осельки',\n",
       "       'деревня Нижняя', 'деревня Низино', 'деревня Новое Девяткино',\n",
       "       'деревня Новолисино', 'деревня Нурма', 'деревня Оржицы',\n",
       "       'деревня Парицы', 'деревня Пельгора', 'деревня Пеники',\n",
       "       'деревня Пижма', 'деревня Пикколово', 'деревня Пудомяги',\n",
       "       'деревня Пустынка', 'деревня Пчева', 'деревня Рабитицы',\n",
       "       'деревня Разбегаево', 'деревня Раздолье', 'деревня Разметелево',\n",
       "       'деревня Рапполово', 'деревня Реброво', 'деревня Русско',\n",
       "       'деревня Сижно', 'деревня Снегирёвка', 'деревня Старая',\n",
       "       'деревня Старая Пустошь', 'деревня Старое Хинколово',\n",
       "       'деревня Старополье', 'деревня Старосиверская',\n",
       "       'деревня Старые Бегуницы', 'деревня Суоранда',\n",
       "       'деревня Сяськелево', 'деревня Тарасово', 'деревня Терпилицы',\n",
       "       'деревня Тихковицы', 'деревня Тойворово', 'деревня Торосово',\n",
       "       'деревня Торошковичи', 'деревня Трубников Бор',\n",
       "       'деревня Фалилеево', 'деревня Фёдоровское', 'деревня Хапо-Ое',\n",
       "       'деревня Хязельки', 'деревня Чудской Бор', 'деревня Шпаньково',\n",
       "       'деревня Щеглово', 'деревня Юкки', 'деревня Ялгино',\n",
       "       'деревня Яльгелево', 'деревня Ям-Тесово',\n",
       "       'коттеджный поселок Кивеннапа Север', 'коттеджный поселок Счастье',\n",
       "       'коттеджный посёлок Лесное', 'поселок Аннино', 'поселок Барышево',\n",
       "       'поселок Бугры', 'поселок Возрождение', 'поселок Войсковицы',\n",
       "       'поселок Володарское', 'поселок Гаврилово', 'поселок Гарболово',\n",
       "       'поселок Гладкое', 'поселок Глажево', 'поселок Глебычево',\n",
       "       'поселок Гончарово', 'поселок Громово', 'поселок Дружноселье',\n",
       "       'поселок Елизаветино', 'поселок Жилгородок', 'поселок Жилпосёлок',\n",
       "       'поселок Житково', 'поселок Заводской', 'поселок Запорожское',\n",
       "       'поселок Зимитицы', 'поселок Ильичёво', 'поселок Калитино',\n",
       "       'поселок Каложицы', 'поселок Кингисеппский', 'поселок Кирпичное',\n",
       "       'поселок Кобралово', 'поселок Кобринское', 'поселок Коммунары',\n",
       "       'поселок Коробицыно', 'поселок Котельский',\n",
       "       'поселок Красная Долина', 'поселок Красносельское',\n",
       "       'поселок Лесное', 'поселок Лисий Нос', 'поселок Лукаши',\n",
       "       'поселок Любань', 'поселок Мельниково', 'поселок Мичуринское',\n",
       "       'поселок Молодцово', 'поселок Мурино', 'поселок Новый Свет',\n",
       "       'поселок Новый Учхоз', 'поселок Оредеж',\n",
       "       'поселок Пансионат Зелёный Бор', 'поселок Первомайское',\n",
       "       'поселок Перово', 'поселок Петровское', 'поселок Победа',\n",
       "       'поселок Поляны', 'поселок Почап', 'поселок Починок',\n",
       "       'поселок Пушное', 'поселок Пчевжа', 'поселок Рабитицы',\n",
       "       'поселок Романовка', 'поселок Ромашки', 'поселок Рябово',\n",
       "       'поселок Севастьяново', 'поселок Селезнёво', 'поселок Сельцо',\n",
       "       'поселок Семиозерье', 'поселок Семрино', 'поселок Серебрянский',\n",
       "       'поселок Совхозный', 'поселок Старая Малукса',\n",
       "       'поселок Стеклянный', 'поселок Сумино', 'поселок Суходолье',\n",
       "       'поселок Тельмана', 'поселок Терволово', 'поселок Торковичи',\n",
       "       'поселок Тёсово-4', 'поселок Углово', 'поселок Усть-Луга',\n",
       "       'поселок Ушаки', 'поселок Цвелодубово', 'поселок Цвылёво',\n",
       "       'поселок городского типа Большая Ижора',\n",
       "       'поселок городского типа Вырица',\n",
       "       'поселок городского типа Дружная Горка',\n",
       "       'поселок городского типа Дубровка',\n",
       "       'поселок городского типа Ефимовский',\n",
       "       'поселок городского типа Кондратьево',\n",
       "       'поселок городского типа Красный Бор',\n",
       "       'поселок городского типа Кузьмоловский',\n",
       "       'поселок городского типа Лебяжье',\n",
       "       'поселок городского типа Лесогорский',\n",
       "       'поселок городского типа Назия',\n",
       "       'поселок городского типа Никольский',\n",
       "       'поселок городского типа Приладожский',\n",
       "       'поселок городского типа Рахья', 'поселок городского типа Рощино',\n",
       "       'поселок городского типа Рябово',\n",
       "       'поселок городского типа Синявино',\n",
       "       'поселок городского типа Советский',\n",
       "       'поселок городского типа Токсово',\n",
       "       'поселок городского типа Форносово',\n",
       "       'поселок городского типа имени Свердлова',\n",
       "       'поселок станции Вещево', 'поселок станции Корнево',\n",
       "       'поселок станции Лужайка', 'поселок станции Приветнинское',\n",
       "       'посёлок Александровская', 'посёлок Алексеевка', 'посёлок Аннино',\n",
       "       'посёлок Белоостров', 'посёлок Бугры', 'посёлок Возрождение',\n",
       "       'посёлок Войскорово', 'посёлок Высокоключевой',\n",
       "       'посёлок Гаврилово', 'посёлок Дзержинского', 'посёлок Жилгородок',\n",
       "       'посёлок Ильичёво', 'посёлок Кикерино', 'посёлок Кобралово',\n",
       "       'посёлок Коробицыно', 'посёлок Левашово', 'посёлок Ленинское',\n",
       "       'посёлок Лисий Нос', 'посёлок Мельниково', 'посёлок Металлострой',\n",
       "       'посёлок Мичуринское', 'посёлок Молодёжное', 'посёлок Мурино',\n",
       "       'посёлок Мыза-Ивановка', 'посёлок Новогорелово',\n",
       "       'посёлок Новый Свет', 'посёлок Пансионат Зелёный Бор',\n",
       "       'посёлок Парголово', 'посёлок Перово', 'посёлок Песочный',\n",
       "       'посёлок Петро-Славянка', 'посёлок Петровское',\n",
       "       'посёлок Платформа 69-й километр', 'посёлок Плодовое',\n",
       "       'посёлок Плоское', 'посёлок Победа', 'посёлок Поляны',\n",
       "       'посёлок Понтонный', 'посёлок Пригородный', 'посёлок Пудость',\n",
       "       'посёлок Репино', 'посёлок Ропша', 'посёлок Сапёрное',\n",
       "       'посёлок Сапёрный', 'посёлок Сосново', 'посёлок Старая Малукса',\n",
       "       'посёлок Стеклянный', 'посёлок Стрельна', 'посёлок Суйда',\n",
       "       'посёлок Сумино', 'посёлок Тельмана', 'посёлок Терволово',\n",
       "       'посёлок Торфяное', 'посёлок Усть-Ижора', 'посёлок Усть-Луга',\n",
       "       'посёлок Форт Красная Горка', 'посёлок Шугозеро', 'посёлок Шушары',\n",
       "       'посёлок Щеглово', 'посёлок городского типа Важины',\n",
       "       'посёлок городского типа Вознесенье',\n",
       "       'посёлок городского типа Вырица',\n",
       "       'посёлок городского типа Красный Бор',\n",
       "       'посёлок городского типа Кузнечное',\n",
       "       'посёлок городского типа Кузьмоловский',\n",
       "       'посёлок городского типа Лебяжье', 'посёлок городского типа Мга',\n",
       "       'посёлок городского типа Павлово',\n",
       "       'посёлок городского типа Рощино', 'посёлок городского типа Рябово',\n",
       "       'посёлок городского типа Сиверский',\n",
       "       'посёлок городского типа Тайцы', 'посёлок городского типа Токсово',\n",
       "       'посёлок городского типа Ульяновка',\n",
       "       'посёлок городского типа Форносово',\n",
       "       'посёлок городского типа имени Морозова',\n",
       "       'посёлок городского типа имени Свердлова',\n",
       "       'посёлок при железнодорожной станции Вещево',\n",
       "       'посёлок при железнодорожной станции Приветнинское',\n",
       "       'посёлок станции Громово', 'посёлок станции Свирь',\n",
       "       'садоводческое некоммерческое товарищество Лесная Поляна',\n",
       "       'садовое товарищество Новая Ропша',\n",
       "       'садовое товарищество Приладожский', 'садовое товарищество Рахья',\n",
       "       'садовое товарищество Садко', 'село Копорье', 'село Никольское',\n",
       "       'село Павлово', 'село Паша', 'село Путилово', 'село Рождествено',\n",
       "       'село Русско-Высоцкое', 'село Старая Ладога', 'село Шум', nan],\n",
       "      dtype=object)"
      ]
     },
     "execution_count": 19,
     "metadata": {},
     "output_type": "execute_result"
    }
   ],
   "source": [
    "data['locality_name'].sort_values().unique()"
   ]
  },
  {
   "cell_type": "code",
   "execution_count": 20,
   "metadata": {},
   "outputs": [
    {
     "data": {
      "text/plain": [
       "365"
      ]
     },
     "execution_count": 20,
     "metadata": {},
     "output_type": "execute_result"
    }
   ],
   "source": [
    "len(data['locality_name'].sort_values().unique())"
   ]
  },
  {
   "cell_type": "markdown",
   "metadata": {},
   "source": [
    "Всего уникальнх строк 365, и видны явные дубликаты, удалим их "
   ]
  },
  {
   "cell_type": "code",
   "execution_count": 21,
   "metadata": {},
   "outputs": [],
   "source": [
    "data['locality_name'] = (\n",
    "    data['locality_name']\n",
    "    .str.replace('ё', 'е')\n",
    "    .replace(['городской поселок', 'поселок городского типа',], 'поселок', regex=True)\n",
    ") "
   ]
  },
  {
   "cell_type": "code",
   "execution_count": 22,
   "metadata": {},
   "outputs": [
    {
     "data": {
      "text/plain": [
       "array(['Бокситогорск', 'Волосово', 'Волхов', 'Всеволожск', 'Выборг',\n",
       "       'Высоцк', 'Гатчина', 'Зеленогорск', 'Ивангород', 'Каменногорск',\n",
       "       'Кингисепп', 'Кириши', 'Кировск', 'Колпино', 'Коммунар',\n",
       "       'Красное Село', 'Кронштадт', 'Кудрово', 'Лодейное Поле',\n",
       "       'Ломоносов', 'Луга', 'Любань', 'Мурино', 'Никольское',\n",
       "       'Новая Ладога', 'Отрадное', 'Павловск', 'Петергоф', 'Пикалево',\n",
       "       'Подпорожье', 'Приморск', 'Приозерск', 'Пушкин', 'Санкт-Петербург',\n",
       "       'Светогорск', 'Сертолово', 'Сестрорецк', 'Сланцы', 'Сосновый Бор',\n",
       "       'Сясьстрой', 'Тихвин', 'Тосно', 'Шлиссельбург',\n",
       "       'деревня Агалатово', 'деревня Аро', 'деревня Батово',\n",
       "       'деревня Бегуницы', 'деревня Белогорка', 'деревня Большая Вруда',\n",
       "       'деревня Большая Пустомержа', 'деревня Большие Колпаны',\n",
       "       'деревня Большое Рейзино', 'деревня Большой Сабск', 'деревня Бор',\n",
       "       'деревня Борисова Грива', 'деревня Ваганово', 'деревня Вартемяги',\n",
       "       'деревня Вахнова Кара', 'деревня Выскатка', 'деревня Гарболово',\n",
       "       'деревня Глинка', 'деревня Горбунки', 'деревня Гостилицы',\n",
       "       'деревня Заклинье', 'деревня Заневка', 'деревня Зимитицы',\n",
       "       'деревня Извара', 'деревня Иссад', 'деревня Калитино',\n",
       "       'деревня Кальтино', 'деревня Камышовка', 'деревня Каськово',\n",
       "       'деревня Келози', 'деревня Кипень', 'деревня Кисельня',\n",
       "       'деревня Колтуши', 'деревня Коркино', 'деревня Котлы',\n",
       "       'деревня Кривко', 'деревня Кудрово', 'деревня Кузьмолово',\n",
       "       'деревня Курковицы', 'деревня Куровицы', 'деревня Куттузи',\n",
       "       'деревня Лаврики', 'деревня Лаголово', 'деревня Лампово',\n",
       "       'деревня Лесколово', 'деревня Лопухинка', 'деревня Лупполово',\n",
       "       'деревня Малая Романовка', 'деревня Малое Верево',\n",
       "       'деревня Малое Карлино', 'деревня Малые Колпаны',\n",
       "       'деревня Мануйлово', 'деревня Меньково', 'деревня Мины',\n",
       "       'деревня Мистолово', 'деревня Ненимяки', 'деревня Нижние Осельки',\n",
       "       'деревня Нижняя', 'деревня Низино', 'деревня Новое Девяткино',\n",
       "       'деревня Новолисино', 'деревня Нурма', 'деревня Оржицы',\n",
       "       'деревня Парицы', 'деревня Пельгора', 'деревня Пеники',\n",
       "       'деревня Пижма', 'деревня Пикколово', 'деревня Пудомяги',\n",
       "       'деревня Пустынка', 'деревня Пчева', 'деревня Рабитицы',\n",
       "       'деревня Разбегаево', 'деревня Раздолье', 'деревня Разметелево',\n",
       "       'деревня Рапполово', 'деревня Реброво', 'деревня Русско',\n",
       "       'деревня Сижно', 'деревня Снегиревка', 'деревня Старая',\n",
       "       'деревня Старая Пустошь', 'деревня Старое Хинколово',\n",
       "       'деревня Старополье', 'деревня Старосиверская',\n",
       "       'деревня Старые Бегуницы', 'деревня Суоранда',\n",
       "       'деревня Сяськелево', 'деревня Тарасово', 'деревня Терпилицы',\n",
       "       'деревня Тихковицы', 'деревня Тойворово', 'деревня Торосово',\n",
       "       'деревня Торошковичи', 'деревня Трубников Бор',\n",
       "       'деревня Фалилеево', 'деревня Федоровское', 'деревня Хапо-Ое',\n",
       "       'деревня Хязельки', 'деревня Чудской Бор', 'деревня Шпаньково',\n",
       "       'деревня Щеглово', 'деревня Юкки', 'деревня Ялгино',\n",
       "       'деревня Яльгелево', 'деревня Ям-Тесово',\n",
       "       'коттеджный поселок Кивеннапа Север', 'коттеджный поселок Лесное',\n",
       "       'коттеджный поселок Счастье', 'поселок Александровская',\n",
       "       'поселок Алексеевка', 'поселок Аннино', 'поселок Барышево',\n",
       "       'поселок Белоостров', 'поселок Большая Ижора', 'поселок Бугры',\n",
       "       'поселок Будогощь', 'поселок Важины', 'поселок Виллози',\n",
       "       'поселок Вознесенье', 'поселок Возрождение', 'поселок Войсковицы',\n",
       "       'поселок Войскорово', 'поселок Володарское', 'поселок Вырица',\n",
       "       'поселок Высокоключевой', 'поселок Гаврилово', 'поселок Гарболово',\n",
       "       'поселок Гладкое', 'поселок Глажево', 'поселок Глебычево',\n",
       "       'поселок Гончарово', 'поселок Громово', 'поселок Дзержинского',\n",
       "       'поселок Дружная Горка', 'поселок Дружноселье', 'поселок Дубровка',\n",
       "       'поселок Елизаветино', 'поселок Ефимовский', 'поселок Жилгородок',\n",
       "       'поселок Жилпоселок', 'поселок Житково', 'поселок Заводской',\n",
       "       'поселок Запорожское', 'поселок Зимитицы', 'поселок Ильичево',\n",
       "       'поселок Калитино', 'поселок Каложицы', 'поселок Кикерино',\n",
       "       'поселок Кингисеппский', 'поселок Кирпичное', 'поселок Кобралово',\n",
       "       'поселок Кобринское', 'поселок Коммунары', 'поселок Кондратьево',\n",
       "       'поселок Коробицыно', 'поселок Котельский',\n",
       "       'поселок Красная Долина', 'поселок Красносельское',\n",
       "       'поселок Красный Бор', 'поселок Кузнечное',\n",
       "       'поселок Кузьмоловский', 'поселок Лебяжье', 'поселок Левашово',\n",
       "       'поселок Ленинское', 'поселок Лесное', 'поселок Лесогорский',\n",
       "       'поселок Лисий Нос', 'поселок Лукаши', 'поселок Любань',\n",
       "       'поселок Мга', 'поселок Мельниково', 'поселок Металлострой',\n",
       "       'поселок Мичуринское', 'поселок Молодежное', 'поселок Молодцово',\n",
       "       'поселок Мурино', 'поселок Мыза-Ивановка', 'поселок Назия',\n",
       "       'поселок Никольский', 'поселок Новогорелово', 'поселок Новоселье',\n",
       "       'поселок Новый Свет', 'поселок Новый Учхоз', 'поселок Оредеж',\n",
       "       'поселок Павлово', 'поселок Пансионат Зеленый Бор',\n",
       "       'поселок Парголово', 'поселок Первомайское', 'поселок Перово',\n",
       "       'поселок Песочный', 'поселок Петро-Славянка', 'поселок Петровское',\n",
       "       'поселок Платформа 69-й километр', 'поселок Плодовое',\n",
       "       'поселок Плоское', 'поселок Победа', 'поселок Поляны',\n",
       "       'поселок Понтонный', 'поселок Почап', 'поселок Починок',\n",
       "       'поселок Пригородный', 'поселок Приладожский', 'поселок Пудость',\n",
       "       'поселок Пушное', 'поселок Пчевжа', 'поселок Рабитицы',\n",
       "       'поселок Рахья', 'поселок Репино', 'поселок Романовка',\n",
       "       'поселок Ромашки', 'поселок Ропша', 'поселок Рощино',\n",
       "       'поселок Рябово', 'поселок Саперное', 'поселок Саперный',\n",
       "       'поселок Свирьстрой', 'поселок Севастьяново', 'поселок Селезнево',\n",
       "       'поселок Сельцо', 'поселок Семиозерье', 'поселок Семрино',\n",
       "       'поселок Серебрянский', 'поселок Сиверский', 'поселок Синявино',\n",
       "       'поселок Советский', 'поселок Совхозный', 'поселок Сосново',\n",
       "       'поселок Старая Малукса', 'поселок Стеклянный', 'поселок Стрельна',\n",
       "       'поселок Суйда', 'поселок Сумино', 'поселок Суходолье',\n",
       "       'поселок Тайцы', 'поселок Тельмана', 'поселок Терволово',\n",
       "       'поселок Тесово-4', 'поселок Токсово', 'поселок Торковичи',\n",
       "       'поселок Торфяное', 'поселок Углово', 'поселок Ульяновка',\n",
       "       'поселок Усть-Ижора', 'поселок Усть-Луга', 'поселок Ушаки',\n",
       "       'поселок Федоровское', 'поселок Форносово',\n",
       "       'поселок Форт Красная Горка', 'поселок Цвелодубово',\n",
       "       'поселок Цвылево', 'поселок Шугозеро', 'поселок Шушары',\n",
       "       'поселок Щеглово', 'поселок Янино-1', 'поселок имени Морозова',\n",
       "       'поселок имени Свердлова',\n",
       "       'поселок при железнодорожной станции Вещево',\n",
       "       'поселок при железнодорожной станции Приветнинское',\n",
       "       'поселок станции Вещево', 'поселок станции Громово',\n",
       "       'поселок станции Корнево', 'поселок станции Лужайка',\n",
       "       'поселок станции Приветнинское', 'поселок станции Свирь',\n",
       "       'садоводческое некоммерческое товарищество Лесная Поляна',\n",
       "       'садовое товарищество Новая Ропша',\n",
       "       'садовое товарищество Приладожский', 'садовое товарищество Рахья',\n",
       "       'садовое товарищество Садко', 'село Копорье', 'село Никольское',\n",
       "       'село Павлово', 'село Паша', 'село Путилово', 'село Рождествено',\n",
       "       'село Русско-Высоцкое', 'село Старая Ладога', 'село Шум', nan],\n",
       "      dtype=object)"
      ]
     },
     "execution_count": 22,
     "metadata": {},
     "output_type": "execute_result"
    }
   ],
   "source": [
    "data['locality_name'].sort_values().unique()"
   ]
  },
  {
   "cell_type": "code",
   "execution_count": 23,
   "metadata": {},
   "outputs": [
    {
     "data": {
      "text/plain": [
       "323"
      ]
     },
     "execution_count": 23,
     "metadata": {},
     "output_type": "execute_result"
    }
   ],
   "source": [
    "len(data['locality_name'].sort_values().unique())"
   ]
  },
  {
   "cell_type": "markdown",
   "metadata": {},
   "source": [
    "В данном столбце всего 49 пропусков, считаю что их можно удалить"
   ]
  },
  {
   "cell_type": "markdown",
   "metadata": {},
   "source": [
    "**2.8 Удалим пропуски в locality_name**"
   ]
  },
  {
   "cell_type": "code",
   "execution_count": 24,
   "metadata": {},
   "outputs": [],
   "source": [
    "data = data.dropna(subset=['locality_name']).reset_index(drop=True)"
   ]
  },
  {
   "cell_type": "markdown",
   "metadata": {},
   "source": [
    "**2.9 Проверим еще раз пропуски в таблице**"
   ]
  },
  {
   "cell_type": "code",
   "execution_count": 25,
   "metadata": {},
   "outputs": [
    {
     "data": {
      "text/plain": [
       "total_images                0\n",
       "last_price                  0\n",
       "total_area                  0\n",
       "first_day_exposition        0\n",
       "rooms                       0\n",
       "ceiling_height              0\n",
       "floors_total               85\n",
       "living_area              1898\n",
       "floor                       0\n",
       "is_apartment                0\n",
       "studio                      0\n",
       "open_plan                   0\n",
       "kitchen_area             2269\n",
       "balcony                     0\n",
       "locality_name               0\n",
       "airports_nearest         5534\n",
       "city_centers_nearest     5511\n",
       "parks_around3000         5510\n",
       "parks_nearest           15586\n",
       "ponds_around3000         5510\n",
       "ponds_nearest           14565\n",
       "days_exposition          3180\n",
       "dtype: int64"
      ]
     },
     "execution_count": 25,
     "metadata": {},
     "output_type": "execute_result"
    }
   ],
   "source": [
    "data.isna().sum() \n",
    "#пропуски в floors_total и living_area решила оставить, на мой взгляд заполнять медианными значениями не очень хорошая идея"
   ]
  },
  {
   "cell_type": "markdown",
   "metadata": {},
   "source": [
    "**Выводы**\n",
    "\n",
    "В данном разделе была выполнена предобработка данных, заполнены пропуски, а некоторые удалены, также были изменены некоторые типы данных \n",
    "\n",
    "Причины пропусков:\n",
    "\n",
    "- Человеческий фактор\n",
    "- Некоторые поля в анкете не были обязательными\n",
    "- В полученных данных на основе картографии не были учтены, что в ближайшей местности возможно слишком далеко расположен аэропорт или парк\n",
    "- Проблемы могли возникнуть на этапе загрузки и на этапе выгрузки данных\n",
    "- Неправильный запрос, объединение таблиц также может быть причиной\n",
    "\n"
   ]
  },
  {
   "cell_type": "markdown",
   "metadata": {
    "id": "QCcvyY6YAwb-"
   },
   "source": [
    "<a id=\"chapter3\"></a> \n",
    "\n",
    "### Добавим в таблицу новые столбцы"
   ]
  },
  {
   "cell_type": "markdown",
   "metadata": {},
   "source": [
    "**3.1 Посчитаем и добавим столбец стоимость квадратного метра**"
   ]
  },
  {
   "cell_type": "code",
   "execution_count": 26,
   "metadata": {
    "id": "Z8eJek3IAwb-"
   },
   "outputs": [],
   "source": [
    "data['square_meter'] = (data['last_price'] / data['total_area']).round(2) #считаем стоимость квадратного метра"
   ]
  },
  {
   "cell_type": "markdown",
   "metadata": {},
   "source": [
    "**3.2 Добавим столбец для определения дня недели**"
   ]
  },
  {
   "cell_type": "code",
   "execution_count": 27,
   "metadata": {},
   "outputs": [],
   "source": [
    "data['weekday'] = data['first_day_exposition'].dt.weekday "
   ]
  },
  {
   "cell_type": "markdown",
   "metadata": {},
   "source": [
    "**3.2 Добавм столбец для определения месяца публикации**"
   ]
  },
  {
   "cell_type": "code",
   "execution_count": 28,
   "metadata": {},
   "outputs": [],
   "source": [
    "data['month'] = data['first_day_exposition'].dt.month "
   ]
  },
  {
   "cell_type": "markdown",
   "metadata": {},
   "source": [
    "**3.3 Добавим столбец для определения года публикации**"
   ]
  },
  {
   "cell_type": "code",
   "execution_count": 29,
   "metadata": {},
   "outputs": [],
   "source": [
    "data['year'] = data['first_day_exposition'].dt.year  "
   ]
  },
  {
   "cell_type": "markdown",
   "metadata": {},
   "source": [
    "**3.4 Добавим тип этажа квартиры**"
   ]
  },
  {
   "cell_type": "code",
   "execution_count": 30,
   "metadata": {},
   "outputs": [],
   "source": [
    "def floors(row):                      #определили функцию для категоризации floors (тип этажа квартиры)\n",
    "    floor_one = row['floor']\n",
    "    floor_last = row['floors_total']\n",
    "    \n",
    "    if floor_one == 1:\n",
    "        return 'первый'\n",
    "    \n",
    "    if floor_one == floor_last:\n",
    "        return 'последний'\n",
    "    \n",
    "    return 'другой'\n",
    "    \n",
    "data['type_floor'] = data.apply(floors, axis=1) #добавляем котегоризацию в таблицу"
   ]
  },
  {
   "cell_type": "markdown",
   "metadata": {},
   "source": [
    "**3.5 Добавим столбец с растоянием до центра города в километрах**"
   ]
  },
  {
   "cell_type": "code",
   "execution_count": 31,
   "metadata": {},
   "outputs": [],
   "source": [
    "data['distance_city_center'] = (data['city_centers_nearest'] / 1000).round(0) #переведем расстояние из центра города в км"
   ]
  },
  {
   "cell_type": "markdown",
   "metadata": {},
   "source": [
    "**3.6 Проверяем добавленные столбцы**"
   ]
  },
  {
   "cell_type": "code",
   "execution_count": 32,
   "metadata": {},
   "outputs": [
    {
     "data": {
      "text/html": [
       "<div>\n",
       "<style scoped>\n",
       "    .dataframe tbody tr th:only-of-type {\n",
       "        vertical-align: middle;\n",
       "    }\n",
       "\n",
       "    .dataframe tbody tr th {\n",
       "        vertical-align: top;\n",
       "    }\n",
       "\n",
       "    .dataframe thead th {\n",
       "        text-align: right;\n",
       "    }\n",
       "</style>\n",
       "<table border=\"1\" class=\"dataframe\">\n",
       "  <thead>\n",
       "    <tr style=\"text-align: right;\">\n",
       "      <th></th>\n",
       "      <th>total_images</th>\n",
       "      <th>last_price</th>\n",
       "      <th>total_area</th>\n",
       "      <th>first_day_exposition</th>\n",
       "      <th>rooms</th>\n",
       "      <th>ceiling_height</th>\n",
       "      <th>floors_total</th>\n",
       "      <th>living_area</th>\n",
       "      <th>floor</th>\n",
       "      <th>is_apartment</th>\n",
       "      <th>...</th>\n",
       "      <th>parks_nearest</th>\n",
       "      <th>ponds_around3000</th>\n",
       "      <th>ponds_nearest</th>\n",
       "      <th>days_exposition</th>\n",
       "      <th>square_meter</th>\n",
       "      <th>weekday</th>\n",
       "      <th>month</th>\n",
       "      <th>year</th>\n",
       "      <th>type_floor</th>\n",
       "      <th>distance_city_center</th>\n",
       "    </tr>\n",
       "  </thead>\n",
       "  <tbody>\n",
       "    <tr>\n",
       "      <th>0</th>\n",
       "      <td>20</td>\n",
       "      <td>13000000.0</td>\n",
       "      <td>108.0</td>\n",
       "      <td>2019-03-07</td>\n",
       "      <td>3</td>\n",
       "      <td>2.70</td>\n",
       "      <td>16.0</td>\n",
       "      <td>51.0</td>\n",
       "      <td>8</td>\n",
       "      <td>False</td>\n",
       "      <td>...</td>\n",
       "      <td>482.0</td>\n",
       "      <td>2.0</td>\n",
       "      <td>755.0</td>\n",
       "      <td>NaN</td>\n",
       "      <td>120370.37</td>\n",
       "      <td>3</td>\n",
       "      <td>3</td>\n",
       "      <td>2019</td>\n",
       "      <td>другой</td>\n",
       "      <td>16.0</td>\n",
       "    </tr>\n",
       "    <tr>\n",
       "      <th>1</th>\n",
       "      <td>7</td>\n",
       "      <td>3350000.0</td>\n",
       "      <td>40.4</td>\n",
       "      <td>2018-12-04</td>\n",
       "      <td>1</td>\n",
       "      <td>2.65</td>\n",
       "      <td>11.0</td>\n",
       "      <td>18.6</td>\n",
       "      <td>1</td>\n",
       "      <td>False</td>\n",
       "      <td>...</td>\n",
       "      <td>NaN</td>\n",
       "      <td>0.0</td>\n",
       "      <td>NaN</td>\n",
       "      <td>81.0</td>\n",
       "      <td>82920.79</td>\n",
       "      <td>1</td>\n",
       "      <td>12</td>\n",
       "      <td>2018</td>\n",
       "      <td>первый</td>\n",
       "      <td>19.0</td>\n",
       "    </tr>\n",
       "    <tr>\n",
       "      <th>2</th>\n",
       "      <td>10</td>\n",
       "      <td>5196000.0</td>\n",
       "      <td>56.0</td>\n",
       "      <td>2015-08-20</td>\n",
       "      <td>2</td>\n",
       "      <td>2.65</td>\n",
       "      <td>5.0</td>\n",
       "      <td>34.3</td>\n",
       "      <td>4</td>\n",
       "      <td>False</td>\n",
       "      <td>...</td>\n",
       "      <td>90.0</td>\n",
       "      <td>2.0</td>\n",
       "      <td>574.0</td>\n",
       "      <td>558.0</td>\n",
       "      <td>92785.71</td>\n",
       "      <td>3</td>\n",
       "      <td>8</td>\n",
       "      <td>2015</td>\n",
       "      <td>другой</td>\n",
       "      <td>14.0</td>\n",
       "    </tr>\n",
       "    <tr>\n",
       "      <th>3</th>\n",
       "      <td>0</td>\n",
       "      <td>64900000.0</td>\n",
       "      <td>159.0</td>\n",
       "      <td>2015-07-24</td>\n",
       "      <td>3</td>\n",
       "      <td>2.65</td>\n",
       "      <td>14.0</td>\n",
       "      <td>NaN</td>\n",
       "      <td>9</td>\n",
       "      <td>False</td>\n",
       "      <td>...</td>\n",
       "      <td>84.0</td>\n",
       "      <td>3.0</td>\n",
       "      <td>234.0</td>\n",
       "      <td>424.0</td>\n",
       "      <td>408176.10</td>\n",
       "      <td>4</td>\n",
       "      <td>7</td>\n",
       "      <td>2015</td>\n",
       "      <td>другой</td>\n",
       "      <td>7.0</td>\n",
       "    </tr>\n",
       "    <tr>\n",
       "      <th>4</th>\n",
       "      <td>2</td>\n",
       "      <td>10000000.0</td>\n",
       "      <td>100.0</td>\n",
       "      <td>2018-06-19</td>\n",
       "      <td>2</td>\n",
       "      <td>3.03</td>\n",
       "      <td>14.0</td>\n",
       "      <td>32.0</td>\n",
       "      <td>13</td>\n",
       "      <td>False</td>\n",
       "      <td>...</td>\n",
       "      <td>112.0</td>\n",
       "      <td>1.0</td>\n",
       "      <td>48.0</td>\n",
       "      <td>121.0</td>\n",
       "      <td>100000.00</td>\n",
       "      <td>1</td>\n",
       "      <td>6</td>\n",
       "      <td>2018</td>\n",
       "      <td>другой</td>\n",
       "      <td>8.0</td>\n",
       "    </tr>\n",
       "  </tbody>\n",
       "</table>\n",
       "<p>5 rows × 28 columns</p>\n",
       "</div>"
      ],
      "text/plain": [
       "   total_images  last_price  total_area first_day_exposition  rooms  \\\n",
       "0            20  13000000.0       108.0           2019-03-07      3   \n",
       "1             7   3350000.0        40.4           2018-12-04      1   \n",
       "2            10   5196000.0        56.0           2015-08-20      2   \n",
       "3             0  64900000.0       159.0           2015-07-24      3   \n",
       "4             2  10000000.0       100.0           2018-06-19      2   \n",
       "\n",
       "   ceiling_height  floors_total  living_area  floor  is_apartment  ...  \\\n",
       "0            2.70          16.0         51.0      8         False  ...   \n",
       "1            2.65          11.0         18.6      1         False  ...   \n",
       "2            2.65           5.0         34.3      4         False  ...   \n",
       "3            2.65          14.0          NaN      9         False  ...   \n",
       "4            3.03          14.0         32.0     13         False  ...   \n",
       "\n",
       "   parks_nearest  ponds_around3000  ponds_nearest  days_exposition  \\\n",
       "0          482.0               2.0          755.0              NaN   \n",
       "1            NaN               0.0            NaN             81.0   \n",
       "2           90.0               2.0          574.0            558.0   \n",
       "3           84.0               3.0          234.0            424.0   \n",
       "4          112.0               1.0           48.0            121.0   \n",
       "\n",
       "  square_meter  weekday  month  year  type_floor  distance_city_center  \n",
       "0    120370.37        3      3  2019      другой                  16.0  \n",
       "1     82920.79        1     12  2018      первый                  19.0  \n",
       "2     92785.71        3      8  2015      другой                  14.0  \n",
       "3    408176.10        4      7  2015      другой                   7.0  \n",
       "4    100000.00        1      6  2018      другой                   8.0  \n",
       "\n",
       "[5 rows x 28 columns]"
      ]
     },
     "execution_count": 32,
     "metadata": {},
     "output_type": "execute_result"
    }
   ],
   "source": [
    "data.head() "
   ]
  },
  {
   "cell_type": "markdown",
   "metadata": {},
   "source": [
    "**Выводы**\n",
    "\n",
    "В данном разделе были добавлены новые столбцы для проведения исследовательского анализа данных"
   ]
  },
  {
   "cell_type": "markdown",
   "metadata": {
    "id": "pPyxrKWTAwb-"
   },
   "source": [
    "<a id=\"chapter4\"></a> \n",
    "\n",
    "###  Проведем исследовательский анализ данных"
   ]
  },
  {
   "cell_type": "markdown",
   "metadata": {},
   "source": [
    "**4.1 Изучим некоторые параметры** "
   ]
  },
  {
   "cell_type": "code",
   "execution_count": 33,
   "metadata": {},
   "outputs": [],
   "source": [
    "data = data.query('((living_area<100) | (living_area.isna())) & ((city_centers_nearest<55000) | (city_centers_nearest.isna())) & ((floors_total<30) | (floors_total.isna())) & ((parks_nearest < 1500) | (parks_nearest.isna()))')"
   ]
  },
  {
   "cell_type": "code",
   "execution_count": 34,
   "metadata": {},
   "outputs": [
    {
     "data": {
      "text/plain": [
       "count    23070.000000\n",
       "mean        57.680000\n",
       "std         27.129819\n",
       "min         12.000000\n",
       "25%         40.000000\n",
       "50%         51.300000\n",
       "75%         68.000000\n",
       "max        631.000000\n",
       "Name: total_area, dtype: float64"
      ]
     },
     "execution_count": 34,
     "metadata": {},
     "output_type": "execute_result"
    },
    {
     "data": {
      "image/png": "[encoded data removed]",
      "text/plain": [
       "<Figure size 432x288 with 1 Axes>"
      ]
     },
     "metadata": {
      "needs_background": "light"
     },
     "output_type": "display_data"
    }
   ],
   "source": [
    "data['total_area'].round(0).hist(bins=50, range=(12,70))\n",
    "plt.title('Соотношение количества квартир от общей площади')\n",
    "plt.xlabel('Метры квадратные')\n",
    "plt.ylabel('Количество квартир')\n",
    "data['total_area'].describe()"
   ]
  },
  {
   "cell_type": "markdown",
   "metadata": {},
   "source": [
    "Стандартное отклонение велико, что свидетельствует об анамалиях и выбросах. Также среднее значение больше чем медиана,значит в распределении данных есть длинный хвост. Выберем те значения которые находятся в диапазоне от 12 до 70 метров квадратных. Средняя площадь квартиры составляет 52 квадратных метра"
   ]
  },
  {
   "cell_type": "code",
   "execution_count": 35,
   "metadata": {
    "id": "V2f0D3kLAwb-"
   },
   "outputs": [
    {
     "data": {
      "text/plain": [
       "count    21189.000000\n",
       "mean        32.575471\n",
       "std         15.739007\n",
       "min          2.000000\n",
       "25%         18.500000\n",
       "50%         30.000000\n",
       "75%         42.000000\n",
       "max         99.900000\n",
       "Name: living_area, dtype: float64"
      ]
     },
     "execution_count": 35,
     "metadata": {},
     "output_type": "execute_result"
    },
    {
     "data": {
      "image/png": "[encoded data removed]",
      "text/plain": [
       "<Figure size 432x288 with 1 Axes>"
      ]
     },
     "metadata": {
      "needs_background": "light"
     },
     "output_type": "display_data"
    }
   ],
   "source": [
    "data['living_area'].hist(bins=100, range=(12,42))\n",
    "plt.title('Соотношение количества квартир от жилой площади')\n",
    "plt.xlabel('Метры квадратные')\n",
    "plt.ylabel('Количество квартир')\n",
    "data['living_area'].describe()"
   ]
  },
  {
   "cell_type": "markdown",
   "metadata": {},
   "source": [
    "Минимальная жилая площадь составляет 2 метра квадратных, не очень похоже на правду. Возьмем начало диапазона такой же как и в столбце total_area "
   ]
  },
  {
   "cell_type": "code",
   "execution_count": 36,
   "metadata": {},
   "outputs": [
    {
     "data": {
      "text/plain": [
       "count    20839.000000\n",
       "mean        10.316574\n",
       "std          5.358809\n",
       "min          1.300000\n",
       "25%          7.000000\n",
       "50%          9.000000\n",
       "75%         11.705000\n",
       "max         93.200000\n",
       "Name: kitchen_area, dtype: float64"
      ]
     },
     "execution_count": 36,
     "metadata": {},
     "output_type": "execute_result"
    },
    {
     "data": {
      "image/png": "[encoded data removed]",
      "text/plain": [
       "<Figure size 432x288 with 1 Axes>"
      ]
     },
     "metadata": {
      "needs_background": "light"
     },
     "output_type": "display_data"
    }
   ],
   "source": [
    "data['kitchen_area'].hist(bins=12, range=(0,12))\n",
    "plt.title('Соотношение количества квартир от площади кухни')\n",
    "plt.xlabel('Метры квадратные')\n",
    "plt.ylabel('Количество квартир')\n",
    "data['kitchen_area'].describe()"
   ]
  },
  {
   "cell_type": "markdown",
   "metadata": {},
   "source": [
    "В среднем площадь кухни составляет 9 метров квадратных"
   ]
  },
  {
   "cell_type": "code",
   "execution_count": 37,
   "metadata": {},
   "outputs": [
    {
     "data": {
      "text/plain": [
       "count    2.307000e+04\n",
       "mean     5.950118e+06\n",
       "std      6.526372e+06\n",
       "min      1.219000e+04\n",
       "25%      3.400000e+06\n",
       "50%      4.600000e+06\n",
       "75%      6.599000e+06\n",
       "max      3.300000e+08\n",
       "Name: last_price, dtype: float64"
      ]
     },
     "execution_count": 37,
     "metadata": {},
     "output_type": "execute_result"
    },
    {
     "data": {
      "image/png": "[encoded data removed]",
      "text/plain": [
       "<Figure size 432x288 with 1 Axes>"
      ]
     },
     "metadata": {
      "needs_background": "light"
     },
     "output_type": "display_data"
    }
   ],
   "source": [
    "data['last_price'].hist(bins=100, range=(1.219000e+04,8.00000e+06))\n",
    "plt.title('Соотношение количества квартир от стоимости')\n",
    "plt.xlabel('Стоимость квартиры в млн. руб.')\n",
    "plt.ylabel('Количество квартир')\n",
    "data['last_price'].describe()"
   ]
  },
  {
   "cell_type": "markdown",
   "metadata": {},
   "source": [
    "Наиболее часто стоимость квартир находится в диапазоне от 3,5 до 4,5 млн. руб."
   ]
  },
  {
   "cell_type": "code",
   "execution_count": 38,
   "metadata": {},
   "outputs": [
    {
     "data": {
      "text/plain": [
       "count    23070.000000\n",
       "mean         2.016255\n",
       "std          0.966537\n",
       "min          0.000000\n",
       "25%          1.000000\n",
       "50%          2.000000\n",
       "75%          3.000000\n",
       "max          9.000000\n",
       "Name: rooms, dtype: float64"
      ]
     },
     "execution_count": 38,
     "metadata": {},
     "output_type": "execute_result"
    },
    {
     "data": {
      "image/png": "[encoded data removed]",
      "text/plain": [
       "<Figure size 432x288 with 1 Axes>"
      ]
     },
     "metadata": {
      "needs_background": "light"
     },
     "output_type": "display_data"
    }
   ],
   "source": [
    "data['rooms'].hist(bins=10, range=(0, 10))\n",
    "plt.title('Соотношение количества квартир от количетсва комнат')\n",
    "plt.xlabel('Количество комнат')\n",
    "plt.ylabel('Количество квартир')\n",
    "data['rooms'].describe()"
   ]
  },
  {
   "cell_type": "markdown",
   "metadata": {},
   "source": [
    "Больше всего предложений на рынке однокомнатных квартир"
   ]
  },
  {
   "cell_type": "code",
   "execution_count": 39,
   "metadata": {},
   "outputs": [
    {
     "data": {
      "text/plain": [
       "count    23070.000000\n",
       "mean         2.716857\n",
       "std          0.985174\n",
       "min          1.000000\n",
       "25%          2.600000\n",
       "50%          2.650000\n",
       "75%          2.700000\n",
       "max        100.000000\n",
       "Name: ceiling_height, dtype: float64"
      ]
     },
     "execution_count": 39,
     "metadata": {},
     "output_type": "execute_result"
    },
    {
     "data": {
      "image/png": "[encoded data removed]",
      "text/plain": [
       "<Figure size 432x288 with 1 Axes>"
      ]
     },
     "metadata": {
      "needs_background": "light"
     },
     "output_type": "display_data"
    }
   ],
   "source": [
    "data['ceiling_height'].hist(bins=10, range=(2, 5))\n",
    "plt.title('Соотношение количества квартир от высоты потолков')\n",
    "plt.xlabel('Высота, м')\n",
    "plt.ylabel('Количество квартир')\n",
    "data['ceiling_height'].describe()"
   ]
  },
  {
   "cell_type": "markdown",
   "metadata": {},
   "source": [
    "Квартиры с высотой потолков 2.65 м. лидируют на рынке"
   ]
  },
  {
   "cell_type": "code",
   "execution_count": 40,
   "metadata": {},
   "outputs": [
    {
     "data": {
      "text/plain": [
       "count      23070\n",
       "unique         3\n",
       "top       другой\n",
       "freq       16985\n",
       "Name: type_floor, dtype: object"
      ]
     },
     "execution_count": 40,
     "metadata": {},
     "output_type": "execute_result"
    },
    {
     "data": {
      "image/png": "[encoded data removed]",
      "text/plain": [
       "<Figure size 432x288 with 1 Axes>"
      ]
     },
     "metadata": {
      "needs_background": "light"
     },
     "output_type": "display_data"
    }
   ],
   "source": [
    "data['type_floor'].hist(bins=10, range=(0, 3))\n",
    "plt.title('Соотношение количества квартир от типа этажа квартиры')\n",
    "plt.xlabel('Тип этажа квартиры')\n",
    "plt.ylabel('Количество квартир')\n",
    "data['type_floor'].describe()"
   ]
  },
  {
   "cell_type": "markdown",
   "metadata": {},
   "source": [
    "Больше всего предложений на рынке квартир, находящихся на любых этажах кроме первого и последнего"
   ]
  },
  {
   "cell_type": "code",
   "execution_count": 41,
   "metadata": {},
   "outputs": [
    {
     "data": {
      "text/plain": [
       "count    22988.000000\n",
       "mean        10.717679\n",
       "std          6.556578\n",
       "min          1.000000\n",
       "25%          5.000000\n",
       "50%          9.000000\n",
       "75%         16.000000\n",
       "max         29.000000\n",
       "Name: floors_total, dtype: float64"
      ]
     },
     "execution_count": 41,
     "metadata": {},
     "output_type": "execute_result"
    },
    {
     "data": {
      "image/png": "[encoded data removed]",
      "text/plain": [
       "<Figure size 432x288 with 1 Axes>"
      ]
     },
     "metadata": {
      "needs_background": "light"
     },
     "output_type": "display_data"
    }
   ],
   "source": [
    "data['floors_total'].hist(bins=30, range=(0, 30)) #максимальное кол-во этажей может быть 30\n",
    "plt.title('Соотношение количества квартир от количества этажей в здании')\n",
    "plt.xlabel('Количество этажей')\n",
    "plt.ylabel('Количество квартир')\n",
    "data['floors_total'].describe()"
   ]
  },
  {
   "cell_type": "markdown",
   "metadata": {},
   "source": [
    "Большее число квартир продаются в пяти этажных зданиях"
   ]
  },
  {
   "cell_type": "code",
   "execution_count": 42,
   "metadata": {},
   "outputs": [
    {
     "data": {
      "text/plain": [
       "count    17567.000000\n",
       "mean     14333.290943\n",
       "std       8486.623377\n",
       "min        208.000000\n",
       "25%       9570.000000\n",
       "50%      13222.000000\n",
       "75%      16333.000000\n",
       "max      54926.000000\n",
       "Name: city_centers_nearest, dtype: float64"
      ]
     },
     "execution_count": 42,
     "metadata": {},
     "output_type": "execute_result"
    },
    {
     "data": {
      "image/png": "[encoded data removed]",
      "text/plain": [
       "<Figure size 432x288 with 1 Axes>"
      ]
     },
     "metadata": {
      "needs_background": "light"
     },
     "output_type": "display_data"
    }
   ],
   "source": [
    "data['city_centers_nearest'].hist(bins=200, range=(181, 65968)) \n",
    "plt.title('Соотношение количества квартир от расстояния до центра города')\n",
    "plt.xlabel('Расстояние, м')\n",
    "plt.ylabel('Количество квартир')\n",
    "data['city_centers_nearest'].describe()"
   ]
  },
  {
   "cell_type": "markdown",
   "metadata": {},
   "source": [
    "Большее число квартир продаются на расстоянии от 12000 до 18000 метров до центра города, а также на 5000 метров. После 40000 метров начинается спад предложений"
   ]
  },
  {
   "cell_type": "code",
   "execution_count": 43,
   "metadata": {},
   "outputs": [
    {
     "data": {
      "text/plain": [
       "count    7638.000000\n",
       "mean      456.613642\n",
       "std       242.232003\n",
       "min         1.000000\n",
       "25%       284.000000\n",
       "50%       447.000000\n",
       "75%       602.000000\n",
       "max      1499.000000\n",
       "Name: parks_nearest, dtype: float64"
      ]
     },
     "execution_count": 43,
     "metadata": {},
     "output_type": "execute_result"
    },
    {
     "data": {
      "image/png": "[encoded data removed]",
      "text/plain": [
       "<Figure size 432x288 with 1 Axes>"
      ]
     },
     "metadata": {
      "needs_background": "light"
     },
     "output_type": "display_data"
    }
   ],
   "source": [
    "data['parks_nearest'].hist(bins=100, range=(30, 1000)) \n",
    "plt.title('Соотношение количества квартир от расстояния до ближайшего парка')\n",
    "plt.xlabel('Расстояние, м')\n",
    "plt.ylabel('Количество квартир')\n",
    "data['parks_nearest'].describe()"
   ]
  },
  {
   "cell_type": "markdown",
   "metadata": {},
   "source": [
    "Сильной зависмости от количества предложений от расстояния до ближайшего парка нет. Но можно предположить, что в среднем расстояние до ближайшего парка составляет от 200 до 600 метров."
   ]
  },
  {
   "cell_type": "markdown",
   "metadata": {},
   "source": [
    "**4.2 Изучим, как быстро продавались квартиры**"
   ]
  },
  {
   "cell_type": "code",
   "execution_count": 44,
   "metadata": {},
   "outputs": [
    {
     "data": {
      "text/plain": [
       "count    20013.000000\n",
       "mean       178.130965\n",
       "std        216.906562\n",
       "min          1.000000\n",
       "25%         44.000000\n",
       "50%         94.000000\n",
       "75%        227.000000\n",
       "max       1580.000000\n",
       "Name: days_exposition, dtype: float64"
      ]
     },
     "execution_count": 44,
     "metadata": {},
     "output_type": "execute_result"
    },
    {
     "data": {
      "image/png": "[encoded data removed]",
      "text/plain": [
       "<Figure size 432x288 with 1 Axes>"
      ]
     },
     "metadata": {
      "needs_background": "light"
     },
     "output_type": "display_data"
    }
   ],
   "source": [
    "data['days_exposition'].hist(bins=100, range=(0, 1000)) #Отбросим значение больше 1000, так как этих данных не очень много\n",
    "plt.title('Соотношение количества квартир от количества дней публикации')\n",
    "plt.xlabel('Количество дней')\n",
    "plt.ylabel('Количество квартир')\n",
    "data['days_exposition'].describe()"
   ]
  },
  {
   "cell_type": "markdown",
   "metadata": {},
   "source": [
    "В среднем продажа квартир составляет 95 дней.\n",
    "Быстрыми продажами можно считать менее 45 дней, долгими более 231 дня"
   ]
  },
  {
   "cell_type": "markdown",
   "metadata": {},
   "source": [
    "**4.3 Определим факторы влияющие на стоимость квартиры**"
   ]
  },
  {
   "cell_type": "code",
   "execution_count": 45,
   "metadata": {},
   "outputs": [
    {
     "data": {
      "text/plain": [
       "(0.0, 100000000.0)"
      ]
     },
     "execution_count": 45,
     "metadata": {},
     "output_type": "execute_result"
    },
    {
     "data": {
      "image/png": "[encoded data removed]",
      "text/plain": [
       "<Figure size 432x288 with 1 Axes>"
      ]
     },
     "metadata": {
      "needs_background": "light"
     },
     "output_type": "display_data"
    }
   ],
   "source": [
    "data.plot(x='total_area', y ='last_price', kind ='scatter', alpha = 0.7)\n",
    "\n",
    "plt.title('Зависимость цены от общей площади')\n",
    "plt.xlabel('Площадь метры квадратные')\n",
    "plt.ylabel('Цена, млн.руб.')\n",
    "plt.ylim(0, 100000000)\n"
   ]
  },
  {
   "cell_type": "markdown",
   "metadata": {},
   "source": [
    "Видна явная зависимость цены от общей площади"
   ]
  },
  {
   "cell_type": "code",
   "execution_count": 46,
   "metadata": {},
   "outputs": [
    {
     "data": {
      "text/plain": [
       "(0.0, 100000000.0)"
      ]
     },
     "execution_count": 46,
     "metadata": {},
     "output_type": "execute_result"
    },
    {
     "data": {
      "image/png": "[encoded data removed]",
      "text/plain": [
       "<Figure size 432x288 with 1 Axes>"
      ]
     },
     "metadata": {
      "needs_background": "light"
     },
     "output_type": "display_data"
    }
   ],
   "source": [
    "data.plot(x='living_area', y ='last_price', kind ='scatter', alpha = 0.7)\n",
    "\n",
    "plt.title('Зависимость цены от жилой площади')\n",
    "plt.xlabel('Площадь метры квадратные')\n",
    "plt.ylabel('Цена, млн.руб.')\n",
    "plt.ylim(0, 100000000)"
   ]
  },
  {
   "cell_type": "markdown",
   "metadata": {},
   "source": [
    "Также видна явная зависимость цены от жилой площади"
   ]
  },
  {
   "cell_type": "code",
   "execution_count": 47,
   "metadata": {},
   "outputs": [
    {
     "data": {
      "text/plain": [
       "(0.0, 100000000.0)"
      ]
     },
     "execution_count": 47,
     "metadata": {},
     "output_type": "execute_result"
    },
    {
     "data": {
      "image/png": "[encoded data removed]",
      "text/plain": [
       "<Figure size 432x288 with 1 Axes>"
      ]
     },
     "metadata": {
      "needs_background": "light"
     },
     "output_type": "display_data"
    }
   ],
   "source": [
    "data.plot(x='kitchen_area', y ='last_price', kind ='scatter', alpha = 0.7)\n",
    "\n",
    "plt.title('Зависимость цены от площади кухни')\n",
    "plt.xlabel('Площадь метры квадратные')\n",
    "plt.ylabel('Цена, млн.руб.')\n",
    "plt.ylim(0, 100000000)"
   ]
  },
  {
   "cell_type": "markdown",
   "metadata": {},
   "source": [
    "Также видна зависимость цены от площади кухни"
   ]
  },
  {
   "cell_type": "code",
   "execution_count": 48,
   "metadata": {},
   "outputs": [
    {
     "data": {
      "text/plain": [
       "(0.0, 100000000.0)"
      ]
     },
     "execution_count": 48,
     "metadata": {},
     "output_type": "execute_result"
    },
    {
     "data": {
      "image/png": "[encoded data removed]",
      "text/plain": [
       "<Figure size 432x288 with 1 Axes>"
      ]
     },
     "metadata": {
      "needs_background": "light"
     },
     "output_type": "display_data"
    }
   ],
   "source": [
    "data.plot(x='rooms', y ='last_price', kind ='scatter', alpha = 0.7)\n",
    "\n",
    "plt.title('Зависимость цены от количества комнат')\n",
    "plt.xlabel('Количество комнат')\n",
    "plt.ylabel('Цена, млн.руб.')\n",
    "plt.ylim(0, 100000000)"
   ]
  },
  {
   "cell_type": "markdown",
   "metadata": {},
   "source": [
    "До 3-х комнатных квартир цена растет, а от 3-х и до 5-и комнатных квартир цена примерно одинаковая"
   ]
  },
  {
   "cell_type": "code",
   "execution_count": 49,
   "metadata": {},
   "outputs": [
    {
     "data": {
      "text/plain": [
       "(0.0, 100000000.0)"
      ]
     },
     "execution_count": 49,
     "metadata": {},
     "output_type": "execute_result"
    },
    {
     "data": {
      "image/png": "[encoded data removed]",
      "text/plain": [
       "<Figure size 432x288 with 1 Axes>"
      ]
     },
     "metadata": {
      "needs_background": "light"
     },
     "output_type": "display_data"
    }
   ],
   "source": [
    "data.plot(x='type_floor', y ='last_price', kind ='scatter', alpha = 0.7)\n",
    "\n",
    "plt.title('Зависимость цены от типа этажа')\n",
    "plt.xlabel('Тип этажа')\n",
    "plt.ylabel('Цена, млн.руб.')\n",
    "plt.ylim(0, 100000000)"
   ]
  },
  {
   "cell_type": "markdown",
   "metadata": {},
   "source": [
    "Квартиры на последних этажах стоят дороже"
   ]
  },
  {
   "cell_type": "code",
   "execution_count": 50,
   "metadata": {},
   "outputs": [
    {
     "data": {
      "text/plain": [
       "(0.0, 100000000.0)"
      ]
     },
     "execution_count": 50,
     "metadata": {},
     "output_type": "execute_result"
    },
    {
     "data": {
      "image/png": "[encoded data removed]",
      "text/plain": [
       "<Figure size 432x288 with 1 Axes>"
      ]
     },
     "metadata": {
      "needs_background": "light"
     },
     "output_type": "display_data"
    }
   ],
   "source": [
    "data.plot(x='weekday', y ='last_price', kind ='scatter', alpha = 0.7)\n",
    "\n",
    "plt.title('Зависимость цены от дня недели')\n",
    "plt.xlabel('День недели')\n",
    "plt.ylabel('Цена, млн.руб.')\n",
    "plt.ylim(0, 100000000)"
   ]
  },
  {
   "cell_type": "markdown",
   "metadata": {},
   "source": [
    "Зависимость стоимости квартир от дня недели отсутствует"
   ]
  },
  {
   "cell_type": "code",
   "execution_count": 51,
   "metadata": {},
   "outputs": [
    {
     "data": {
      "text/plain": [
       "(0.0, 100000000.0)"
      ]
     },
     "execution_count": 51,
     "metadata": {},
     "output_type": "execute_result"
    },
    {
     "data": {
      "image/png": "[encoded data removed]",
      "text/plain": [
       "<Figure size 432x288 with 1 Axes>"
      ]
     },
     "metadata": {
      "needs_background": "light"
     },
     "output_type": "display_data"
    }
   ],
   "source": [
    "data.plot(x='month', y ='last_price', kind ='scatter', alpha = 0.7)\n",
    "\n",
    "plt.title('Зависимость цены от месяца')\n",
    "plt.xlabel('Месяц')\n",
    "plt.ylabel('Цена, млн.руб.')\n",
    "plt.ylim(0, 100000000)"
   ]
  },
  {
   "cell_type": "markdown",
   "metadata": {},
   "source": [
    "Зависимость стоимости квартир от месяца отсутствует"
   ]
  },
  {
   "cell_type": "code",
   "execution_count": 52,
   "metadata": {},
   "outputs": [
    {
     "data": {
      "text/plain": [
       "(0.0, 100000000.0)"
      ]
     },
     "execution_count": 52,
     "metadata": {},
     "output_type": "execute_result"
    },
    {
     "data": {
      "image/png": "[encoded data removed]",
      "text/plain": [
       "<Figure size 432x288 with 1 Axes>"
      ]
     },
     "metadata": {
      "needs_background": "light"
     },
     "output_type": "display_data"
    }
   ],
   "source": [
    "data.plot(x='year', y ='last_price', kind ='scatter', alpha = 0.7)\n",
    "\n",
    "plt.title('Зависимость цены от года')\n",
    "plt.xlabel('Год')\n",
    "plt.ylabel('Цена, млн.руб.')\n",
    "plt.ylim(0, 100000000)"
   ]
  },
  {
   "cell_type": "markdown",
   "metadata": {},
   "source": [
    "До 2017 года цена росла, но после 2017 начала снижаться, возможно это связано с тем, что с 2014 года началось снижение ключевой ставки, люди начали брать ипотеки. А с 2017 года спрос скорее всего просто упал "
   ]
  },
  {
   "cell_type": "markdown",
   "metadata": {},
   "source": [
    "**4.4 Посчитайтаем среднюю цену одного квадратного метра в 10 населённых пунктах с наибольшим числом объявлений**"
   ]
  },
  {
   "cell_type": "code",
   "execution_count": 53,
   "metadata": {},
   "outputs": [
    {
     "data": {
      "text/html": [
       "<div>\n",
       "<style scoped>\n",
       "    .dataframe tbody tr th:only-of-type {\n",
       "        vertical-align: middle;\n",
       "    }\n",
       "\n",
       "    .dataframe tbody tr th {\n",
       "        vertical-align: top;\n",
       "    }\n",
       "\n",
       "    .dataframe thead th {\n",
       "        text-align: right;\n",
       "    }\n",
       "</style>\n",
       "<table border=\"1\" class=\"dataframe\">\n",
       "  <thead>\n",
       "    <tr style=\"text-align: right;\">\n",
       "      <th></th>\n",
       "      <th>count</th>\n",
       "      <th>price_square_meter</th>\n",
       "    </tr>\n",
       "    <tr>\n",
       "      <th>locality_name</th>\n",
       "      <th></th>\n",
       "      <th></th>\n",
       "    </tr>\n",
       "  </thead>\n",
       "  <tbody>\n",
       "    <tr>\n",
       "      <th>Санкт-Петербург</th>\n",
       "      <td>15184</td>\n",
       "      <td>113174.61</td>\n",
       "    </tr>\n",
       "    <tr>\n",
       "      <th>поселок Мурино</th>\n",
       "      <td>556</td>\n",
       "      <td>85681.76</td>\n",
       "    </tr>\n",
       "    <tr>\n",
       "      <th>поселок Шушары</th>\n",
       "      <td>440</td>\n",
       "      <td>78677.36</td>\n",
       "    </tr>\n",
       "    <tr>\n",
       "      <th>Всеволожск</th>\n",
       "      <td>398</td>\n",
       "      <td>68654.47</td>\n",
       "    </tr>\n",
       "    <tr>\n",
       "      <th>Пушкин</th>\n",
       "      <td>364</td>\n",
       "      <td>102965.76</td>\n",
       "    </tr>\n",
       "    <tr>\n",
       "      <th>Колпино</th>\n",
       "      <td>332</td>\n",
       "      <td>75300.38</td>\n",
       "    </tr>\n",
       "    <tr>\n",
       "      <th>поселок Парголово</th>\n",
       "      <td>327</td>\n",
       "      <td>90175.91</td>\n",
       "    </tr>\n",
       "    <tr>\n",
       "      <th>Гатчина</th>\n",
       "      <td>306</td>\n",
       "      <td>68797.70</td>\n",
       "    </tr>\n",
       "    <tr>\n",
       "      <th>деревня Кудрово</th>\n",
       "      <td>299</td>\n",
       "      <td>92473.55</td>\n",
       "    </tr>\n",
       "    <tr>\n",
       "      <th>Выборг</th>\n",
       "      <td>235</td>\n",
       "      <td>57997.55</td>\n",
       "    </tr>\n",
       "  </tbody>\n",
       "</table>\n",
       "</div>"
      ],
      "text/plain": [
       "                   count  price_square_meter\n",
       "locality_name                               \n",
       "Санкт-Петербург    15184           113174.61\n",
       "поселок Мурино       556            85681.76\n",
       "поселок Шушары       440            78677.36\n",
       "Всеволожск           398            68654.47\n",
       "Пушкин               364           102965.76\n",
       "Колпино              332            75300.38\n",
       "поселок Парголово    327            90175.91\n",
       "Гатчина              306            68797.70\n",
       "деревня Кудрово      299            92473.55\n",
       "Выборг               235            57997.55"
      ]
     },
     "execution_count": 53,
     "metadata": {},
     "output_type": "execute_result"
    }
   ],
   "source": [
    "price_square_meter = data.pivot_table(index='locality_name', values='last_price', aggfunc='count') #считаем кол-во объявлений\n",
    "\n",
    "price_square_meter.columns = ['count'] #переименовываем столбец(избавимся от мультииндекса)\n",
    "\n",
    "price_square_meter = price_square_meter.sort_values(by='count', ascending=False).head(10) #сохраняем новую таблицу с сортировкой\n",
    "\n",
    "price_square_meter['price_square_meter'] = data.pivot_table(index='locality_name', values='square_meter').round(2) #добавляем новый столбец cо средней ценой квадратного метра\n",
    "\n",
    "price_square_meter.sort_values(by='price_square_meter', ascending=False)#cортируем\n",
    "\n",
    "price_square_meter"
   ]
  },
  {
   "cell_type": "markdown",
   "metadata": {},
   "source": [
    "4.4.1 Выделим населённый пункт с самой высокой стоимостью квадратного метра"
   ]
  },
  {
   "cell_type": "code",
   "execution_count": 54,
   "metadata": {},
   "outputs": [
    {
     "data": {
      "text/html": [
       "<div>\n",
       "<style scoped>\n",
       "    .dataframe tbody tr th:only-of-type {\n",
       "        vertical-align: middle;\n",
       "    }\n",
       "\n",
       "    .dataframe tbody tr th {\n",
       "        vertical-align: top;\n",
       "    }\n",
       "\n",
       "    .dataframe thead th {\n",
       "        text-align: right;\n",
       "    }\n",
       "</style>\n",
       "<table border=\"1\" class=\"dataframe\">\n",
       "  <thead>\n",
       "    <tr style=\"text-align: right;\">\n",
       "      <th></th>\n",
       "      <th>count</th>\n",
       "      <th>price_square_meter</th>\n",
       "    </tr>\n",
       "    <tr>\n",
       "      <th>locality_name</th>\n",
       "      <th></th>\n",
       "      <th></th>\n",
       "    </tr>\n",
       "  </thead>\n",
       "  <tbody>\n",
       "    <tr>\n",
       "      <th>Санкт-Петербург</th>\n",
       "      <td>15184</td>\n",
       "      <td>113174.61</td>\n",
       "    </tr>\n",
       "  </tbody>\n",
       "</table>\n",
       "</div>"
      ],
      "text/plain": [
       "                 count  price_square_meter\n",
       "locality_name                             \n",
       "Санкт-Петербург  15184           113174.61"
      ]
     },
     "execution_count": 54,
     "metadata": {},
     "output_type": "execute_result"
    }
   ],
   "source": [
    "price_square_meter[price_square_meter['price_square_meter'] == price_square_meter['price_square_meter'].max()]"
   ]
  },
  {
   "cell_type": "markdown",
   "metadata": {},
   "source": [
    "4.4.2 Выделим населённый пункт с самой низкой стоимостью квадратного метра"
   ]
  },
  {
   "cell_type": "code",
   "execution_count": 55,
   "metadata": {},
   "outputs": [
    {
     "data": {
      "text/html": [
       "<div>\n",
       "<style scoped>\n",
       "    .dataframe tbody tr th:only-of-type {\n",
       "        vertical-align: middle;\n",
       "    }\n",
       "\n",
       "    .dataframe tbody tr th {\n",
       "        vertical-align: top;\n",
       "    }\n",
       "\n",
       "    .dataframe thead th {\n",
       "        text-align: right;\n",
       "    }\n",
       "</style>\n",
       "<table border=\"1\" class=\"dataframe\">\n",
       "  <thead>\n",
       "    <tr style=\"text-align: right;\">\n",
       "      <th></th>\n",
       "      <th>count</th>\n",
       "      <th>price_square_meter</th>\n",
       "    </tr>\n",
       "    <tr>\n",
       "      <th>locality_name</th>\n",
       "      <th></th>\n",
       "      <th></th>\n",
       "    </tr>\n",
       "  </thead>\n",
       "  <tbody>\n",
       "    <tr>\n",
       "      <th>Выборг</th>\n",
       "      <td>235</td>\n",
       "      <td>57997.55</td>\n",
       "    </tr>\n",
       "  </tbody>\n",
       "</table>\n",
       "</div>"
      ],
      "text/plain": [
       "               count  price_square_meter\n",
       "locality_name                           \n",
       "Выборг           235            57997.55"
      ]
     },
     "execution_count": 55,
     "metadata": {},
     "output_type": "execute_result"
    }
   ],
   "source": [
    "price_square_meter[price_square_meter['price_square_meter'] == price_square_meter['price_square_meter'].min()]"
   ]
  },
  {
   "cell_type": "markdown",
   "metadata": {},
   "source": [
    "Наибольшая средняя цена одного квадратного метра с наибольшим числом объявлений является Санкт-Петербург. А населённый пункт с самой низкой стоимостью квадратного метра является деревня Выборг"
   ]
  },
  {
   "cell_type": "markdown",
   "metadata": {},
   "source": [
    "**4.5 Определим как стоимость объектов зависит от расстояния до центра Санкт-Петербурга**"
   ]
  },
  {
   "cell_type": "code",
   "execution_count": 56,
   "metadata": {},
   "outputs": [
    {
     "data": {
      "text/plain": [
       "Text(0, 0.5, 'Цена млн. руб.')"
      ]
     },
     "execution_count": 56,
     "metadata": {},
     "output_type": "execute_result"
    },
    {
     "data": {
      "image/png": "[encoded data removed]",
      "text/plain": [
       "<Figure size 432x288 with 1 Axes>"
      ]
     },
     "metadata": {
      "needs_background": "light"
     },
     "output_type": "display_data"
    }
   ],
   "source": [
    "(data\n",
    "    .query('locality_name == \"Санкт-Петербург\"')\n",
    "    .pivot_table(index='distance_city_center', values='last_price')\n",
    "    .plot(grid=True, style='o-')\n",
    ")\n",
    "plt.title('Взаимосвязь цены от расстояния до центра Санкт-Петербурга')\n",
    "plt.xlabel('Расстояние от центра города (километр)')\n",
    "plt.ylabel('Цена млн. руб.')"
   ]
  },
  {
   "cell_type": "code",
   "execution_count": 57,
   "metadata": {},
   "outputs": [
    {
     "data": {
      "text/html": [
       "<div>\n",
       "<style scoped>\n",
       "    .dataframe tbody tr th:only-of-type {\n",
       "        vertical-align: middle;\n",
       "    }\n",
       "\n",
       "    .dataframe tbody tr th {\n",
       "        vertical-align: top;\n",
       "    }\n",
       "\n",
       "    .dataframe thead th {\n",
       "        text-align: right;\n",
       "    }\n",
       "</style>\n",
       "<table border=\"1\" class=\"dataframe\">\n",
       "  <thead>\n",
       "    <tr style=\"text-align: right;\">\n",
       "      <th></th>\n",
       "      <th>last_price</th>\n",
       "    </tr>\n",
       "    <tr>\n",
       "      <th>distance_city_center</th>\n",
       "      <th></th>\n",
       "    </tr>\n",
       "  </thead>\n",
       "  <tbody>\n",
       "    <tr>\n",
       "      <th>0.0</th>\n",
       "      <td>2.652396e+07</td>\n",
       "    </tr>\n",
       "    <tr>\n",
       "      <th>1.0</th>\n",
       "      <td>1.542421e+07</td>\n",
       "    </tr>\n",
       "    <tr>\n",
       "      <th>2.0</th>\n",
       "      <td>1.325729e+07</td>\n",
       "    </tr>\n",
       "    <tr>\n",
       "      <th>3.0</th>\n",
       "      <td>9.720667e+06</td>\n",
       "    </tr>\n",
       "    <tr>\n",
       "      <th>4.0</th>\n",
       "      <td>1.076107e+07</td>\n",
       "    </tr>\n",
       "    <tr>\n",
       "      <th>5.0</th>\n",
       "      <td>1.178982e+07</td>\n",
       "    </tr>\n",
       "    <tr>\n",
       "      <th>6.0</th>\n",
       "      <td>1.253757e+07</td>\n",
       "    </tr>\n",
       "    <tr>\n",
       "      <th>7.0</th>\n",
       "      <td>1.351233e+07</td>\n",
       "    </tr>\n",
       "    <tr>\n",
       "      <th>8.0</th>\n",
       "      <td>8.828446e+06</td>\n",
       "    </tr>\n",
       "    <tr>\n",
       "      <th>9.0</th>\n",
       "      <td>6.602450e+06</td>\n",
       "    </tr>\n",
       "    <tr>\n",
       "      <th>10.0</th>\n",
       "      <td>6.350189e+06</td>\n",
       "    </tr>\n",
       "    <tr>\n",
       "      <th>11.0</th>\n",
       "      <td>5.970986e+06</td>\n",
       "    </tr>\n",
       "    <tr>\n",
       "      <th>12.0</th>\n",
       "      <td>5.758532e+06</td>\n",
       "    </tr>\n",
       "    <tr>\n",
       "      <th>13.0</th>\n",
       "      <td>6.032707e+06</td>\n",
       "    </tr>\n",
       "    <tr>\n",
       "      <th>14.0</th>\n",
       "      <td>5.625293e+06</td>\n",
       "    </tr>\n",
       "    <tr>\n",
       "      <th>15.0</th>\n",
       "      <td>5.815423e+06</td>\n",
       "    </tr>\n",
       "    <tr>\n",
       "      <th>16.0</th>\n",
       "      <td>5.352065e+06</td>\n",
       "    </tr>\n",
       "    <tr>\n",
       "      <th>17.0</th>\n",
       "      <td>5.169759e+06</td>\n",
       "    </tr>\n",
       "    <tr>\n",
       "      <th>18.0</th>\n",
       "      <td>4.808676e+06</td>\n",
       "    </tr>\n",
       "    <tr>\n",
       "      <th>19.0</th>\n",
       "      <td>5.037675e+06</td>\n",
       "    </tr>\n",
       "    <tr>\n",
       "      <th>20.0</th>\n",
       "      <td>4.611579e+06</td>\n",
       "    </tr>\n",
       "    <tr>\n",
       "      <th>21.0</th>\n",
       "      <td>5.493469e+06</td>\n",
       "    </tr>\n",
       "    <tr>\n",
       "      <th>22.0</th>\n",
       "      <td>5.367840e+06</td>\n",
       "    </tr>\n",
       "    <tr>\n",
       "      <th>23.0</th>\n",
       "      <td>4.689843e+06</td>\n",
       "    </tr>\n",
       "    <tr>\n",
       "      <th>24.0</th>\n",
       "      <td>3.854430e+06</td>\n",
       "    </tr>\n",
       "    <tr>\n",
       "      <th>25.0</th>\n",
       "      <td>4.052840e+06</td>\n",
       "    </tr>\n",
       "    <tr>\n",
       "      <th>26.0</th>\n",
       "      <td>3.973013e+06</td>\n",
       "    </tr>\n",
       "    <tr>\n",
       "      <th>27.0</th>\n",
       "      <td>8.300000e+06</td>\n",
       "    </tr>\n",
       "    <tr>\n",
       "      <th>28.0</th>\n",
       "      <td>5.026429e+06</td>\n",
       "    </tr>\n",
       "    <tr>\n",
       "      <th>29.0</th>\n",
       "      <td>4.236667e+06</td>\n",
       "    </tr>\n",
       "  </tbody>\n",
       "</table>\n",
       "</div>"
      ],
      "text/plain": [
       "                        last_price\n",
       "distance_city_center              \n",
       "0.0                   2.652396e+07\n",
       "1.0                   1.542421e+07\n",
       "2.0                   1.325729e+07\n",
       "3.0                   9.720667e+06\n",
       "4.0                   1.076107e+07\n",
       "5.0                   1.178982e+07\n",
       "6.0                   1.253757e+07\n",
       "7.0                   1.351233e+07\n",
       "8.0                   8.828446e+06\n",
       "9.0                   6.602450e+06\n",
       "10.0                  6.350189e+06\n",
       "11.0                  5.970986e+06\n",
       "12.0                  5.758532e+06\n",
       "13.0                  6.032707e+06\n",
       "14.0                  5.625293e+06\n",
       "15.0                  5.815423e+06\n",
       "16.0                  5.352065e+06\n",
       "17.0                  5.169759e+06\n",
       "18.0                  4.808676e+06\n",
       "19.0                  5.037675e+06\n",
       "20.0                  4.611579e+06\n",
       "21.0                  5.493469e+06\n",
       "22.0                  5.367840e+06\n",
       "23.0                  4.689843e+06\n",
       "24.0                  3.854430e+06\n",
       "25.0                  4.052840e+06\n",
       "26.0                  3.973013e+06\n",
       "27.0                  8.300000e+06\n",
       "28.0                  5.026429e+06\n",
       "29.0                  4.236667e+06"
      ]
     },
     "execution_count": 57,
     "metadata": {},
     "output_type": "execute_result"
    }
   ],
   "source": [
    "(data\n",
    "    .query('locality_name == \"Санкт-Петербург\"')\n",
    "    .pivot_table(index='distance_city_center', values='last_price')\n",
    ")"
   ]
  },
  {
   "cell_type": "markdown",
   "metadata": {},
   "source": [
    "На графике очень хорошо видна зависимость цены от расстояния до центра Санкт-Петербурга. Также есть скачек цены в 27 км от центра, возможно это \"премиум\" район"
   ]
  },
  {
   "cell_type": "markdown",
   "metadata": {
    "id": "h7VpzkIDAwb-"
   },
   "source": [
    "<a id=\"chapter5\"></a> \n",
    "\n",
    "###  Общий вывод"
   ]
  },
  {
   "cell_type": "markdown",
   "metadata": {
    "id": "3H4lnp_KAwb-"
   },
   "source": [
    "**В данном исследовании объявлений о продаже квартир были выполнены следующие работы**\n",
    "\n",
    "*Предобработка данных:* \n",
    "\n",
    "- изучена общая информация о данных\n",
    "- удалены и заполнены пропуски\n",
    "- изменены типы данных\n",
    "- удалены неявные дубликаты\n",
    "\n",
    "*Добавлены новые столбцы в таблицу:*\n",
    "\n",
    "- square_meter - цена квадратного метра объекта с точностью до двух знаков после запятой\n",
    "- weekday - день недели публикации объявления (0 — понедельник, 1 — вторник и так далее)\n",
    "- month - месяц публикации объявления\n",
    "- year - год публикации объявления\n",
    "- type_floor - тип этажа квартиры\n",
    "- distance_city_center - расстояние до центра города в целых километрах\n",
    "\n",
    "*Исследовательский анализ данных:*\n",
    "\n",
    "1. Изучены параметры объектов и построены отдельные гистограммы, для определения среднестатистической квартиры:\n",
    "\n",
    "- общая площадь: 52 квадратных метра \n",
    "- жилая площадь: 30 квадратных метров\n",
    "- площадь кухни: 9 квадратных метров\n",
    "- цена объекта: от 3,5 до 4,5 млн.руб.\n",
    "- количество комнат: 1 или 2\n",
    "- высота потолков:2,65 м.\n",
    "- тип этажа квартиры: любой этаж кроме последнего и первого\n",
    "- общее количество этажей в доме: 5\n",
    "- расстояние до центра города: от 12 до 18 км. либо 5 км.\n",
    "- расстояние до ближайшего парка: от 200 до 600 м.\n",
    "\n",
    "2. Рассмотрели в какой срок продавались квартиры\n",
    "\n",
    "В среднем продажа квартир составляет 95 дней. Быстрыми продажами можно считать менее 45 дней, долгими более 231 дня.\n",
    "\n",
    "3. Определили факторы влияющие на стоимость объекта, а также построили графики зависимостей\n",
    "\n",
    "На стоимость квартиры влияют:\n",
    "\n",
    "- общая площадь: чем больше площадь, тем выше цена квартиры\n",
    "- жилая площадь: чем больше площадь, тем дороже квартира\n",
    "- площадь кухни: чем больше кухня, тем выше стоимость квартиры\n",
    "- количество комнат: чем больше комнат, тем выше цена квартиры\n",
    "- этаж квартиры: квартиры на последних этажах стоят дороже\n",
    "\n",
    "4. Посчитали среднюю цену одного квадратного метра в 10 населённых пунктах с наибольшим числом объявлений \n",
    "\n",
    "Наибольшая средняя цена одного квадратного метра с наибольшим числом объявлений является Санкт-Петербург. Затем идет поселок Мурино, это видимо связано с тем что район очень хорошо благоустроен, а заними идут все остальные ближлежайшие районы Санкт-Петербурга. А населённый пункт с самой низкой стоимостью квадратного метра является деревня Выборг\n",
    "\n",
    "5. Определили стоимость квартир на разном удалении от центра Санкт-Петербурга\n",
    "\n",
    "Наибольшая стоимость квартир составила в близи центра Санкт-Петербурга, по удалению от него стоимость квартир снижается \n",
    "\n",
    "\n",
    "\n"
   ]
  }
 ],
 "metadata": {
  "ExecuteTimeLog": [
   {
    "duration": 667,
    "start_time": "2024-04-24T09:09:12.664Z"
   },
   {
    "duration": 108,
    "start_time": "2024-04-24T09:10:59.437Z"
   },
   {
    "duration": 2534,
    "start_time": "2024-04-24T10:29:16.382Z"
   },
   {
    "duration": 47,
    "start_time": "2024-04-24T10:44:06.354Z"
   },
   {
    "duration": 63,
    "start_time": "2024-04-24T10:44:13.279Z"
   },
   {
    "duration": 47,
    "start_time": "2024-04-24T10:44:55.397Z"
   },
   {
    "duration": 50,
    "start_time": "2024-04-24T10:44:57.909Z"
   },
   {
    "duration": 27,
    "start_time": "2024-04-24T10:46:34.288Z"
   },
   {
    "duration": 35,
    "start_time": "2024-04-24T11:59:58.458Z"
   },
   {
    "duration": 11,
    "start_time": "2024-04-24T12:07:50.046Z"
   },
   {
    "duration": 10,
    "start_time": "2024-04-24T13:15:32.222Z"
   },
   {
    "duration": 7,
    "start_time": "2024-04-24T13:19:58.194Z"
   },
   {
    "duration": 7,
    "start_time": "2024-04-24T13:20:39.129Z"
   },
   {
    "duration": 10,
    "start_time": "2024-04-24T13:25:43.709Z"
   },
   {
    "duration": 8,
    "start_time": "2024-04-24T14:40:46.652Z"
   },
   {
    "duration": 5,
    "start_time": "2024-04-24T14:42:06.289Z"
   },
   {
    "duration": 5,
    "start_time": "2024-04-24T14:42:21.698Z"
   },
   {
    "duration": 5,
    "start_time": "2024-04-24T14:42:40.316Z"
   },
   {
    "duration": 75,
    "start_time": "2024-04-24T16:02:58.398Z"
   },
   {
    "duration": 48,
    "start_time": "2024-04-24T16:03:14.208Z"
   },
   {
    "duration": 7,
    "start_time": "2024-04-24T16:12:00.069Z"
   },
   {
    "duration": 8,
    "start_time": "2024-04-24T16:12:26.578Z"
   },
   {
    "duration": 8,
    "start_time": "2024-04-24T16:14:54.804Z"
   },
   {
    "duration": 12,
    "start_time": "2024-04-24T16:17:14.012Z"
   },
   {
    "duration": 11,
    "start_time": "2024-04-24T16:17:28.691Z"
   },
   {
    "duration": 49,
    "start_time": "2024-04-24T16:17:53.280Z"
   },
   {
    "duration": 7,
    "start_time": "2024-04-24T16:18:23.705Z"
   },
   {
    "duration": 45,
    "start_time": "2024-04-24T16:18:28.221Z"
   },
   {
    "duration": 49,
    "start_time": "2024-04-24T16:18:32.227Z"
   },
   {
    "duration": 56,
    "start_time": "2024-04-24T16:18:38.369Z"
   },
   {
    "duration": 8,
    "start_time": "2024-04-24T16:21:26.031Z"
   },
   {
    "duration": 6,
    "start_time": "2024-04-24T16:29:27.064Z"
   },
   {
    "duration": 10,
    "start_time": "2024-04-24T16:32:40.332Z"
   },
   {
    "duration": 6,
    "start_time": "2024-04-24T16:33:01.954Z"
   },
   {
    "duration": 6,
    "start_time": "2024-04-24T16:33:07.965Z"
   },
   {
    "duration": 5,
    "start_time": "2024-04-24T16:34:11.151Z"
   },
   {
    "duration": 5,
    "start_time": "2024-04-24T16:37:13.860Z"
   },
   {
    "duration": 6,
    "start_time": "2024-04-24T16:37:20.807Z"
   },
   {
    "duration": 6,
    "start_time": "2024-04-24T16:38:24.530Z"
   },
   {
    "duration": 5,
    "start_time": "2024-04-24T16:39:08.624Z"
   },
   {
    "duration": 6,
    "start_time": "2024-04-24T16:39:17.579Z"
   },
   {
    "duration": 4,
    "start_time": "2024-04-24T16:39:31.375Z"
   },
   {
    "duration": 6,
    "start_time": "2024-04-24T16:39:34.488Z"
   },
   {
    "duration": 11,
    "start_time": "2024-04-24T17:25:47.167Z"
   },
   {
    "duration": 8,
    "start_time": "2024-04-24T18:37:27.378Z"
   },
   {
    "duration": 9,
    "start_time": "2024-04-24T18:56:23.412Z"
   },
   {
    "duration": 4,
    "start_time": "2024-04-24T18:56:34.140Z"
   },
   {
    "duration": 6,
    "start_time": "2024-04-24T18:56:39.487Z"
   },
   {
    "duration": 10,
    "start_time": "2024-04-24T18:56:55.519Z"
   },
   {
    "duration": 5,
    "start_time": "2024-04-24T18:58:32.924Z"
   },
   {
    "duration": 5,
    "start_time": "2024-04-24T18:58:46.952Z"
   },
   {
    "duration": 9,
    "start_time": "2024-04-24T19:14:32.792Z"
   },
   {
    "duration": 9,
    "start_time": "2024-04-24T19:14:56.186Z"
   },
   {
    "duration": 113,
    "start_time": "2024-04-24T19:18:07.237Z"
   },
   {
    "duration": 16,
    "start_time": "2024-04-24T19:18:50.036Z"
   },
   {
    "duration": 16,
    "start_time": "2024-04-24T19:18:58.500Z"
   },
   {
    "duration": 437,
    "start_time": "2024-04-24T19:21:27.362Z"
   },
   {
    "duration": 120,
    "start_time": "2024-04-24T19:21:27.800Z"
   },
   {
    "duration": 39,
    "start_time": "2024-04-24T19:21:27.922Z"
   },
   {
    "duration": 2321,
    "start_time": "2024-04-24T19:21:27.963Z"
   },
   {
    "duration": 27,
    "start_time": "2024-04-24T19:21:30.287Z"
   },
   {
    "duration": 128,
    "start_time": "2024-04-24T19:21:30.315Z"
   },
   {
    "duration": 45,
    "start_time": "2024-04-24T19:21:30.445Z"
   },
   {
    "duration": 38,
    "start_time": "2024-04-24T19:21:30.491Z"
   },
   {
    "duration": 43,
    "start_time": "2024-04-24T19:21:30.531Z"
   },
   {
    "duration": 32,
    "start_time": "2024-04-24T19:21:30.576Z"
   },
   {
    "duration": 36,
    "start_time": "2024-04-24T19:21:30.610Z"
   },
   {
    "duration": 24,
    "start_time": "2024-04-24T19:21:30.648Z"
   },
   {
    "duration": 70,
    "start_time": "2024-04-24T19:21:30.673Z"
   },
   {
    "duration": 785,
    "start_time": "2024-04-24T19:21:30.745Z"
   },
   {
    "duration": 0,
    "start_time": "2024-04-24T19:21:31.531Z"
   },
   {
    "duration": 14,
    "start_time": "2024-04-24T19:23:05.204Z"
   },
   {
    "duration": 26,
    "start_time": "2024-04-24T19:23:27.104Z"
   },
   {
    "duration": 13,
    "start_time": "2024-04-24T19:23:44.059Z"
   },
   {
    "duration": 15,
    "start_time": "2024-04-24T19:24:15.693Z"
   },
   {
    "duration": 12,
    "start_time": "2024-04-24T19:25:52.612Z"
   },
   {
    "duration": 7,
    "start_time": "2024-04-24T19:44:58.819Z"
   },
   {
    "duration": 7,
    "start_time": "2024-04-24T19:45:34.136Z"
   },
   {
    "duration": 6,
    "start_time": "2024-04-24T19:45:45.973Z"
   },
   {
    "duration": 5,
    "start_time": "2024-04-24T19:46:02.154Z"
   },
   {
    "duration": 9,
    "start_time": "2024-04-24T19:46:33.128Z"
   },
   {
    "duration": 5,
    "start_time": "2024-04-24T19:46:33.384Z"
   },
   {
    "duration": 5,
    "start_time": "2024-04-24T19:48:09.420Z"
   },
   {
    "duration": 5,
    "start_time": "2024-04-24T19:48:34.972Z"
   },
   {
    "duration": 8,
    "start_time": "2024-04-24T19:52:21.583Z"
   },
   {
    "duration": 11,
    "start_time": "2024-04-24T20:11:06.774Z"
   },
   {
    "duration": 4,
    "start_time": "2024-04-24T20:33:59.134Z"
   },
   {
    "duration": 9,
    "start_time": "2024-04-24T20:34:16.014Z"
   },
   {
    "duration": 4,
    "start_time": "2024-04-24T20:35:44.177Z"
   },
   {
    "duration": 55,
    "start_time": "2024-04-25T07:54:27.725Z"
   },
   {
    "duration": 8,
    "start_time": "2024-04-25T07:54:42.717Z"
   },
   {
    "duration": 9,
    "start_time": "2024-04-25T07:57:13.603Z"
   },
   {
    "duration": 6,
    "start_time": "2024-04-25T07:57:26.631Z"
   },
   {
    "duration": 452,
    "start_time": "2024-04-25T07:57:37.049Z"
   },
   {
    "duration": 308,
    "start_time": "2024-04-25T07:57:37.503Z"
   },
   {
    "duration": 37,
    "start_time": "2024-04-25T07:57:37.813Z"
   },
   {
    "duration": 2570,
    "start_time": "2024-04-25T07:57:37.852Z"
   },
   {
    "duration": 31,
    "start_time": "2024-04-25T07:57:40.424Z"
   },
   {
    "duration": 50,
    "start_time": "2024-04-25T07:57:40.457Z"
   },
   {
    "duration": 9,
    "start_time": "2024-04-25T07:57:40.508Z"
   },
   {
    "duration": 22,
    "start_time": "2024-04-25T07:57:40.518Z"
   },
   {
    "duration": 5,
    "start_time": "2024-04-25T07:57:40.541Z"
   },
   {
    "duration": 6,
    "start_time": "2024-04-25T07:57:40.547Z"
   },
   {
    "duration": 10,
    "start_time": "2024-04-25T07:57:40.554Z"
   },
   {
    "duration": 15,
    "start_time": "2024-04-25T07:57:40.565Z"
   },
   {
    "duration": 6,
    "start_time": "2024-04-25T07:57:40.582Z"
   },
   {
    "duration": 17,
    "start_time": "2024-04-25T07:57:40.590Z"
   },
   {
    "duration": 13,
    "start_time": "2024-04-25T07:57:40.609Z"
   },
   {
    "duration": 22,
    "start_time": "2024-04-25T08:19:12.212Z"
   },
   {
    "duration": 19,
    "start_time": "2024-04-25T08:34:42.381Z"
   },
   {
    "duration": 13,
    "start_time": "2024-04-25T08:35:22.203Z"
   },
   {
    "duration": 20,
    "start_time": "2024-04-25T08:35:30.594Z"
   },
   {
    "duration": 22,
    "start_time": "2024-04-25T08:35:55.901Z"
   },
   {
    "duration": 26,
    "start_time": "2024-04-25T08:42:53.594Z"
   },
   {
    "duration": 34,
    "start_time": "2024-04-25T08:42:59.246Z"
   },
   {
    "duration": 90,
    "start_time": "2024-04-25T08:43:31.026Z"
   },
   {
    "duration": 24,
    "start_time": "2024-04-25T08:43:54.146Z"
   },
   {
    "duration": 58,
    "start_time": "2024-04-25T08:49:46.170Z"
   },
   {
    "duration": 23,
    "start_time": "2024-04-25T08:49:48.271Z"
   },
   {
    "duration": 20,
    "start_time": "2024-04-25T08:50:13.451Z"
   },
   {
    "duration": 86,
    "start_time": "2024-04-25T09:23:42.116Z"
   },
   {
    "duration": 20,
    "start_time": "2024-04-25T09:32:04.866Z"
   },
   {
    "duration": 62,
    "start_time": "2024-04-25T09:34:29.091Z"
   },
   {
    "duration": 10,
    "start_time": "2024-04-25T09:34:34.335Z"
   },
   {
    "duration": 7,
    "start_time": "2024-04-25T10:00:05.286Z"
   },
   {
    "duration": 66,
    "start_time": "2024-04-25T10:00:52.589Z"
   },
   {
    "duration": 22,
    "start_time": "2024-04-25T10:03:40.727Z"
   },
   {
    "duration": 52,
    "start_time": "2024-04-25T10:04:06.792Z"
   },
   {
    "duration": 51,
    "start_time": "2024-04-25T10:25:07.812Z"
   },
   {
    "duration": 11,
    "start_time": "2024-04-25T10:25:13.200Z"
   },
   {
    "duration": 445,
    "start_time": "2024-04-25T10:28:58.783Z"
   },
   {
    "duration": 137,
    "start_time": "2024-04-25T10:28:59.230Z"
   },
   {
    "duration": 50,
    "start_time": "2024-04-25T10:28:59.369Z"
   },
   {
    "duration": 2497,
    "start_time": "2024-04-25T10:28:59.421Z"
   },
   {
    "duration": 29,
    "start_time": "2024-04-25T10:29:01.921Z"
   },
   {
    "duration": 67,
    "start_time": "2024-04-25T10:29:01.951Z"
   },
   {
    "duration": 9,
    "start_time": "2024-04-25T10:29:02.019Z"
   },
   {
    "duration": 63,
    "start_time": "2024-04-25T10:29:02.030Z"
   },
   {
    "duration": 14,
    "start_time": "2024-04-25T10:29:02.095Z"
   },
   {
    "duration": 33,
    "start_time": "2024-04-25T10:29:02.111Z"
   },
   {
    "duration": 14,
    "start_time": "2024-04-25T10:29:02.145Z"
   },
   {
    "duration": 33,
    "start_time": "2024-04-25T10:29:02.160Z"
   },
   {
    "duration": 4,
    "start_time": "2024-04-25T10:29:02.195Z"
   },
   {
    "duration": 16,
    "start_time": "2024-04-25T10:29:02.202Z"
   },
   {
    "duration": 40,
    "start_time": "2024-04-25T10:29:02.220Z"
   },
   {
    "duration": 38,
    "start_time": "2024-04-25T10:29:02.262Z"
   },
   {
    "duration": 56,
    "start_time": "2024-04-25T10:29:02.302Z"
   },
   {
    "duration": 89,
    "start_time": "2024-04-25T10:29:02.360Z"
   },
   {
    "duration": 53,
    "start_time": "2024-04-25T10:29:02.451Z"
   },
   {
    "duration": 65,
    "start_time": "2024-04-25T10:29:02.505Z"
   },
   {
    "duration": 17,
    "start_time": "2024-04-25T10:29:02.572Z"
   },
   {
    "duration": 53,
    "start_time": "2024-04-25T10:29:24.858Z"
   },
   {
    "duration": 9,
    "start_time": "2024-04-25T10:29:28.801Z"
   },
   {
    "duration": 84,
    "start_time": "2024-04-25T10:29:47.177Z"
   },
   {
    "duration": 49,
    "start_time": "2024-04-25T10:29:51.607Z"
   },
   {
    "duration": 104,
    "start_time": "2024-04-25T10:34:09.728Z"
   },
   {
    "duration": 8,
    "start_time": "2024-04-25T10:34:23.650Z"
   },
   {
    "duration": 517,
    "start_time": "2024-04-25T10:34:50.491Z"
   },
   {
    "duration": 173,
    "start_time": "2024-04-25T10:34:55.470Z"
   },
   {
    "duration": 128,
    "start_time": "2024-04-25T10:35:03.373Z"
   },
   {
    "duration": 9,
    "start_time": "2024-04-25T10:35:06.104Z"
   },
   {
    "duration": 17,
    "start_time": "2024-04-25T10:35:27.913Z"
   },
   {
    "duration": 140,
    "start_time": "2024-04-25T10:35:36.961Z"
   },
   {
    "duration": 8,
    "start_time": "2024-04-25T10:35:41.814Z"
   },
   {
    "duration": 9,
    "start_time": "2024-04-25T10:35:57.826Z"
   },
   {
    "duration": 9,
    "start_time": "2024-04-25T10:36:12.416Z"
   },
   {
    "duration": 24,
    "start_time": "2024-04-25T10:39:20.565Z"
   },
   {
    "duration": 450,
    "start_time": "2024-04-25T10:40:06.556Z"
   },
   {
    "duration": 132,
    "start_time": "2024-04-25T10:40:07.009Z"
   },
   {
    "duration": 51,
    "start_time": "2024-04-25T10:40:07.143Z"
   },
   {
    "duration": 2530,
    "start_time": "2024-04-25T10:40:07.196Z"
   },
   {
    "duration": 28,
    "start_time": "2024-04-25T10:40:09.729Z"
   },
   {
    "duration": 67,
    "start_time": "2024-04-25T10:40:09.759Z"
   },
   {
    "duration": 9,
    "start_time": "2024-04-25T10:40:09.828Z"
   },
   {
    "duration": 49,
    "start_time": "2024-04-25T10:40:09.839Z"
   },
   {
    "duration": 41,
    "start_time": "2024-04-25T10:40:09.890Z"
   },
   {
    "duration": 15,
    "start_time": "2024-04-25T10:40:09.933Z"
   },
   {
    "duration": 33,
    "start_time": "2024-04-25T10:40:09.949Z"
   },
   {
    "duration": 15,
    "start_time": "2024-04-25T10:40:09.985Z"
   },
   {
    "duration": 32,
    "start_time": "2024-04-25T10:40:10.002Z"
   },
   {
    "duration": 28,
    "start_time": "2024-04-25T10:40:10.037Z"
   },
   {
    "duration": 41,
    "start_time": "2024-04-25T10:40:10.066Z"
   },
   {
    "duration": 38,
    "start_time": "2024-04-25T10:40:10.109Z"
   },
   {
    "duration": 82,
    "start_time": "2024-04-25T10:40:10.148Z"
   },
   {
    "duration": 22,
    "start_time": "2024-04-25T10:40:10.231Z"
   },
   {
    "duration": 65,
    "start_time": "2024-04-25T10:40:10.255Z"
   },
   {
    "duration": 22,
    "start_time": "2024-04-25T10:40:10.322Z"
   },
   {
    "duration": 14,
    "start_time": "2024-04-25T10:40:10.346Z"
   },
   {
    "duration": 15,
    "start_time": "2024-04-25T11:39:19.499Z"
   },
   {
    "duration": 9,
    "start_time": "2024-04-25T11:39:44.303Z"
   },
   {
    "duration": 71,
    "start_time": "2024-04-25T11:42:52.314Z"
   },
   {
    "duration": 5,
    "start_time": "2024-04-25T11:45:42.572Z"
   },
   {
    "duration": 38,
    "start_time": "2024-04-25T11:45:56.119Z"
   },
   {
    "duration": 8,
    "start_time": "2024-04-25T11:46:48.031Z"
   },
   {
    "duration": 27,
    "start_time": "2024-04-25T11:46:53.283Z"
   },
   {
    "duration": 84,
    "start_time": "2024-04-25T11:48:10.874Z"
   },
   {
    "duration": 135,
    "start_time": "2024-04-25T11:51:09.378Z"
   },
   {
    "duration": 65,
    "start_time": "2024-04-25T11:51:26.664Z"
   },
   {
    "duration": 4,
    "start_time": "2024-04-25T11:57:39.931Z"
   },
   {
    "duration": 39,
    "start_time": "2024-04-25T11:57:46.156Z"
   },
   {
    "duration": 8,
    "start_time": "2024-04-25T12:05:45.206Z"
   },
   {
    "duration": 28,
    "start_time": "2024-04-25T12:05:55.315Z"
   },
   {
    "duration": 5,
    "start_time": "2024-04-25T12:07:59.841Z"
   },
   {
    "duration": 8,
    "start_time": "2024-04-25T12:08:00.968Z"
   },
   {
    "duration": 37,
    "start_time": "2024-04-25T12:08:04.208Z"
   },
   {
    "duration": 27,
    "start_time": "2024-04-25T12:08:26.847Z"
   },
   {
    "duration": 77,
    "start_time": "2024-04-25T12:10:09.374Z"
   },
   {
    "duration": 7,
    "start_time": "2024-04-25T12:10:21.747Z"
   },
   {
    "duration": 6,
    "start_time": "2024-04-25T12:10:52.830Z"
   },
   {
    "duration": 6,
    "start_time": "2024-04-25T12:12:57.422Z"
   },
   {
    "duration": 9,
    "start_time": "2024-04-25T12:15:06.533Z"
   },
   {
    "duration": 3,
    "start_time": "2024-04-25T12:27:39.544Z"
   },
   {
    "duration": 12,
    "start_time": "2024-04-25T12:28:01.529Z"
   },
   {
    "duration": 4,
    "start_time": "2024-04-25T12:30:38.074Z"
   },
   {
    "duration": 10,
    "start_time": "2024-04-25T12:30:39.748Z"
   },
   {
    "duration": 4,
    "start_time": "2024-04-25T12:33:46.138Z"
   },
   {
    "duration": 11,
    "start_time": "2024-04-25T12:33:47.161Z"
   },
   {
    "duration": 10,
    "start_time": "2024-04-25T12:33:49.168Z"
   },
   {
    "duration": 3,
    "start_time": "2024-04-25T12:44:08.468Z"
   },
   {
    "duration": 12,
    "start_time": "2024-04-25T12:44:10.003Z"
   },
   {
    "duration": 3,
    "start_time": "2024-04-25T12:44:22.257Z"
   },
   {
    "duration": 10,
    "start_time": "2024-04-25T12:44:23.746Z"
   },
   {
    "duration": 98,
    "start_time": "2024-04-25T12:44:53.005Z"
   },
   {
    "duration": 10,
    "start_time": "2024-04-25T12:44:54.873Z"
   },
   {
    "duration": 4,
    "start_time": "2024-04-25T12:44:57.333Z"
   },
   {
    "duration": 12,
    "start_time": "2024-04-25T12:45:00.336Z"
   },
   {
    "duration": 9,
    "start_time": "2024-04-25T12:45:59.579Z"
   },
   {
    "duration": 10,
    "start_time": "2024-04-25T12:46:01.564Z"
   },
   {
    "duration": 374,
    "start_time": "2024-04-25T12:46:13.015Z"
   },
   {
    "duration": 12,
    "start_time": "2024-04-25T12:46:14.346Z"
   },
   {
    "duration": 373,
    "start_time": "2024-04-25T13:00:43.115Z"
   },
   {
    "duration": 10,
    "start_time": "2024-04-25T13:00:44.035Z"
   },
   {
    "duration": 21,
    "start_time": "2024-04-25T13:00:52.229Z"
   },
   {
    "duration": 14,
    "start_time": "2024-04-25T13:01:31.743Z"
   },
   {
    "duration": 9,
    "start_time": "2024-04-25T13:02:17.511Z"
   },
   {
    "duration": 471,
    "start_time": "2024-04-25T13:06:42.482Z"
   },
   {
    "duration": 15,
    "start_time": "2024-04-25T13:06:45.084Z"
   },
   {
    "duration": 10,
    "start_time": "2024-04-25T13:06:49.662Z"
   },
   {
    "duration": 1085,
    "start_time": "2024-04-25T13:08:34.541Z"
   },
   {
    "duration": 8,
    "start_time": "2024-04-25T13:08:51.027Z"
   },
   {
    "duration": 26,
    "start_time": "2024-04-25T13:09:12.993Z"
   },
   {
    "duration": 1166,
    "start_time": "2024-04-25T13:32:56.900Z"
   },
   {
    "duration": 474,
    "start_time": "2024-04-25T13:34:15.279Z"
   },
   {
    "duration": 121,
    "start_time": "2024-04-25T13:34:15.755Z"
   },
   {
    "duration": 36,
    "start_time": "2024-04-25T13:34:15.878Z"
   },
   {
    "duration": 2450,
    "start_time": "2024-04-25T13:34:15.915Z"
   },
   {
    "duration": 29,
    "start_time": "2024-04-25T13:34:18.369Z"
   },
   {
    "duration": 76,
    "start_time": "2024-04-25T13:34:18.400Z"
   },
   {
    "duration": 9,
    "start_time": "2024-04-25T13:34:18.478Z"
   },
   {
    "duration": 29,
    "start_time": "2024-04-25T13:34:18.488Z"
   },
   {
    "duration": 18,
    "start_time": "2024-04-25T13:34:18.518Z"
   },
   {
    "duration": 27,
    "start_time": "2024-04-25T13:34:18.537Z"
   },
   {
    "duration": 22,
    "start_time": "2024-04-25T13:34:18.566Z"
   },
   {
    "duration": 62,
    "start_time": "2024-04-25T13:34:18.590Z"
   },
   {
    "duration": 22,
    "start_time": "2024-04-25T13:34:18.655Z"
   },
   {
    "duration": 12,
    "start_time": "2024-04-25T13:34:18.680Z"
   },
   {
    "duration": 37,
    "start_time": "2024-04-25T13:34:18.693Z"
   },
   {
    "duration": 39,
    "start_time": "2024-04-25T13:34:18.732Z"
   },
   {
    "duration": 65,
    "start_time": "2024-04-25T13:34:18.773Z"
   },
   {
    "duration": 22,
    "start_time": "2024-04-25T13:34:18.840Z"
   },
   {
    "duration": 43,
    "start_time": "2024-04-25T13:34:18.863Z"
   },
   {
    "duration": 29,
    "start_time": "2024-04-25T13:34:18.907Z"
   },
   {
    "duration": 26,
    "start_time": "2024-04-25T13:34:18.938Z"
   },
   {
    "duration": 53,
    "start_time": "2024-04-25T13:34:18.966Z"
   },
   {
    "duration": 16,
    "start_time": "2024-04-25T13:34:19.021Z"
   },
   {
    "duration": 16,
    "start_time": "2024-04-25T13:34:19.039Z"
   },
   {
    "duration": 15,
    "start_time": "2024-04-25T13:34:19.057Z"
   },
   {
    "duration": 90,
    "start_time": "2024-04-25T13:34:19.074Z"
   },
   {
    "duration": 0,
    "start_time": "2024-04-25T13:34:19.173Z"
   },
   {
    "duration": 5,
    "start_time": "2024-04-25T13:35:25.273Z"
   },
   {
    "duration": 451,
    "start_time": "2024-04-25T13:35:32.761Z"
   },
   {
    "duration": 123,
    "start_time": "2024-04-25T13:35:33.214Z"
   },
   {
    "duration": 38,
    "start_time": "2024-04-25T13:35:33.339Z"
   },
   {
    "duration": 2451,
    "start_time": "2024-04-25T13:35:33.379Z"
   },
   {
    "duration": 28,
    "start_time": "2024-04-25T13:35:35.831Z"
   },
   {
    "duration": 18,
    "start_time": "2024-04-25T13:35:35.861Z"
   },
   {
    "duration": 82,
    "start_time": "2024-04-25T13:35:35.880Z"
   },
   {
    "duration": 59,
    "start_time": "2024-04-25T13:35:35.964Z"
   },
   {
    "duration": 43,
    "start_time": "2024-04-25T13:35:36.025Z"
   },
   {
    "duration": 34,
    "start_time": "2024-04-25T13:35:36.070Z"
   },
   {
    "duration": 34,
    "start_time": "2024-04-25T13:35:36.106Z"
   },
   {
    "duration": 66,
    "start_time": "2024-04-25T13:35:36.141Z"
   },
   {
    "duration": 20,
    "start_time": "2024-04-25T13:35:36.209Z"
   },
   {
    "duration": 58,
    "start_time": "2024-04-25T13:35:36.231Z"
   },
   {
    "duration": 71,
    "start_time": "2024-04-25T13:35:36.291Z"
   },
   {
    "duration": 68,
    "start_time": "2024-04-25T13:35:36.364Z"
   },
   {
    "duration": 79,
    "start_time": "2024-04-25T13:35:36.434Z"
   },
   {
    "duration": 23,
    "start_time": "2024-04-25T13:35:36.515Z"
   },
   {
    "duration": 36,
    "start_time": "2024-04-25T13:35:36.540Z"
   },
   {
    "duration": 35,
    "start_time": "2024-04-25T13:35:36.578Z"
   },
   {
    "duration": 30,
    "start_time": "2024-04-25T13:35:36.615Z"
   },
   {
    "duration": 54,
    "start_time": "2024-04-25T13:35:36.647Z"
   },
   {
    "duration": 75,
    "start_time": "2024-04-25T13:35:36.703Z"
   },
   {
    "duration": 63,
    "start_time": "2024-04-25T13:35:36.779Z"
   },
   {
    "duration": 67,
    "start_time": "2024-04-25T13:35:36.843Z"
   },
   {
    "duration": 114,
    "start_time": "2024-04-25T13:35:36.913Z"
   },
   {
    "duration": 0,
    "start_time": "2024-04-25T13:35:37.030Z"
   },
   {
    "duration": 385,
    "start_time": "2024-04-25T13:37:20.855Z"
   },
   {
    "duration": 5,
    "start_time": "2024-04-25T13:38:14.394Z"
   },
   {
    "duration": 27,
    "start_time": "2024-04-25T13:38:36.608Z"
   },
   {
    "duration": 98,
    "start_time": "2024-04-25T14:40:48.350Z"
   },
   {
    "duration": 142,
    "start_time": "2024-04-25T14:40:54.156Z"
   },
   {
    "duration": 267,
    "start_time": "2024-04-25T14:51:31.149Z"
   },
   {
    "duration": 230,
    "start_time": "2024-04-25T14:51:45.803Z"
   },
   {
    "duration": 1554,
    "start_time": "2024-04-25T14:51:56.680Z"
   },
   {
    "duration": 122,
    "start_time": "2024-04-25T14:52:07.619Z"
   },
   {
    "duration": 243,
    "start_time": "2024-04-25T14:52:18.982Z"
   },
   {
    "duration": 246,
    "start_time": "2024-04-25T14:53:21.908Z"
   },
   {
    "duration": 258,
    "start_time": "2024-04-25T14:53:29.426Z"
   },
   {
    "duration": 647,
    "start_time": "2024-04-25T14:53:51.172Z"
   },
   {
    "duration": 1534,
    "start_time": "2024-04-25T14:54:08.517Z"
   },
   {
    "duration": 1625,
    "start_time": "2024-04-25T14:54:20.624Z"
   },
   {
    "duration": 1193,
    "start_time": "2024-04-25T14:54:33.705Z"
   },
   {
    "duration": 477,
    "start_time": "2024-04-25T14:54:40.706Z"
   },
   {
    "duration": 6,
    "start_time": "2024-04-25T15:07:43.614Z"
   },
   {
    "duration": 4,
    "start_time": "2024-04-25T15:08:09.648Z"
   },
   {
    "duration": 273,
    "start_time": "2024-04-25T15:08:21.118Z"
   },
   {
    "duration": 264,
    "start_time": "2024-04-25T15:08:46.699Z"
   },
   {
    "duration": 293,
    "start_time": "2024-04-25T15:08:54.167Z"
   },
   {
    "duration": 274,
    "start_time": "2024-04-25T15:08:58.726Z"
   },
   {
    "duration": 280,
    "start_time": "2024-04-25T15:09:35.307Z"
   },
   {
    "duration": 5,
    "start_time": "2024-04-25T15:09:59.891Z"
   },
   {
    "duration": 277,
    "start_time": "2024-04-25T15:10:28.270Z"
   },
   {
    "duration": 268,
    "start_time": "2024-04-25T15:10:50.652Z"
   },
   {
    "duration": 275,
    "start_time": "2024-04-25T15:11:28.708Z"
   },
   {
    "duration": 268,
    "start_time": "2024-04-25T15:11:45.674Z"
   },
   {
    "duration": 282,
    "start_time": "2024-04-25T15:12:56.148Z"
   },
   {
    "duration": 694,
    "start_time": "2024-04-25T15:13:25.643Z"
   },
   {
    "duration": 277,
    "start_time": "2024-04-25T15:13:43.743Z"
   },
   {
    "duration": 184,
    "start_time": "2024-04-25T15:13:49.671Z"
   },
   {
    "duration": 159,
    "start_time": "2024-04-25T15:13:57.795Z"
   },
   {
    "duration": 190,
    "start_time": "2024-04-25T15:14:03.001Z"
   },
   {
    "duration": 231,
    "start_time": "2024-04-25T15:14:06.685Z"
   },
   {
    "duration": 236,
    "start_time": "2024-04-25T15:15:14.594Z"
   },
   {
    "duration": 240,
    "start_time": "2024-04-25T15:15:18.525Z"
   },
   {
    "duration": 232,
    "start_time": "2024-04-25T15:15:35.272Z"
   },
   {
    "duration": 409,
    "start_time": "2024-04-25T15:16:05.999Z"
   },
   {
    "duration": 121,
    "start_time": "2024-04-25T15:16:06.411Z"
   },
   {
    "duration": 42,
    "start_time": "2024-04-25T15:16:06.533Z"
   },
   {
    "duration": 2397,
    "start_time": "2024-04-25T15:16:06.576Z"
   },
   {
    "duration": 27,
    "start_time": "2024-04-25T15:16:08.976Z"
   },
   {
    "duration": 3,
    "start_time": "2024-04-25T15:16:09.005Z"
   },
   {
    "duration": 33,
    "start_time": "2024-04-25T15:16:09.010Z"
   },
   {
    "duration": 11,
    "start_time": "2024-04-25T15:16:09.045Z"
   },
   {
    "duration": 4,
    "start_time": "2024-04-25T15:16:09.058Z"
   },
   {
    "duration": 7,
    "start_time": "2024-04-25T15:16:09.073Z"
   },
   {
    "duration": 18,
    "start_time": "2024-04-25T15:16:09.081Z"
   },
   {
    "duration": 14,
    "start_time": "2024-04-25T15:16:09.100Z"
   },
   {
    "duration": 5,
    "start_time": "2024-04-25T15:16:09.115Z"
   },
   {
    "duration": 43,
    "start_time": "2024-04-25T15:16:09.123Z"
   },
   {
    "duration": 29,
    "start_time": "2024-04-25T15:16:09.168Z"
   },
   {
    "duration": 35,
    "start_time": "2024-04-25T15:16:09.198Z"
   },
   {
    "duration": 81,
    "start_time": "2024-04-25T15:16:09.235Z"
   },
   {
    "duration": 20,
    "start_time": "2024-04-25T15:16:09.318Z"
   },
   {
    "duration": 20,
    "start_time": "2024-04-25T15:16:09.340Z"
   },
   {
    "duration": 12,
    "start_time": "2024-04-25T15:16:09.373Z"
   },
   {
    "duration": 34,
    "start_time": "2024-04-25T15:16:09.387Z"
   },
   {
    "duration": 10,
    "start_time": "2024-04-25T15:16:09.422Z"
   },
   {
    "duration": 28,
    "start_time": "2024-04-25T15:16:09.433Z"
   },
   {
    "duration": 8,
    "start_time": "2024-04-25T15:16:09.463Z"
   },
   {
    "duration": 13,
    "start_time": "2024-04-25T15:16:09.472Z"
   },
   {
    "duration": 369,
    "start_time": "2024-04-25T15:16:09.487Z"
   },
   {
    "duration": 4,
    "start_time": "2024-04-25T15:16:09.858Z"
   },
   {
    "duration": 57,
    "start_time": "2024-04-25T15:16:09.864Z"
   },
   {
    "duration": 289,
    "start_time": "2024-04-25T15:16:09.923Z"
   },
   {
    "duration": 485,
    "start_time": "2024-04-25T15:16:10.214Z"
   },
   {
    "duration": 245,
    "start_time": "2024-04-25T15:16:10.701Z"
   },
   {
    "duration": 1532,
    "start_time": "2024-04-25T15:16:10.948Z"
   },
   {
    "duration": 1545,
    "start_time": "2024-04-25T15:16:32.006Z"
   },
   {
    "duration": 1579,
    "start_time": "2024-04-25T15:16:45.819Z"
   },
   {
    "duration": 281,
    "start_time": "2024-04-25T16:29:53.176Z"
   },
   {
    "duration": 326,
    "start_time": "2024-04-25T16:30:08.174Z"
   },
   {
    "duration": 250,
    "start_time": "2024-04-25T16:30:17.326Z"
   },
   {
    "duration": 693,
    "start_time": "2024-04-25T17:15:07.642Z"
   },
   {
    "duration": 120,
    "start_time": "2024-04-25T17:15:08.337Z"
   },
   {
    "duration": 34,
    "start_time": "2024-04-25T17:15:08.458Z"
   },
   {
    "duration": 2250,
    "start_time": "2024-04-25T17:15:08.495Z"
   },
   {
    "duration": 26,
    "start_time": "2024-04-25T17:15:10.748Z"
   },
   {
    "duration": 4,
    "start_time": "2024-04-25T17:15:10.775Z"
   },
   {
    "duration": 22,
    "start_time": "2024-04-25T17:15:10.780Z"
   },
   {
    "duration": 27,
    "start_time": "2024-04-25T17:15:10.804Z"
   },
   {
    "duration": 4,
    "start_time": "2024-04-25T17:15:10.833Z"
   },
   {
    "duration": 34,
    "start_time": "2024-04-25T17:15:10.839Z"
   },
   {
    "duration": 6,
    "start_time": "2024-04-25T17:15:10.875Z"
   },
   {
    "duration": 14,
    "start_time": "2024-04-25T17:15:10.882Z"
   },
   {
    "duration": 3,
    "start_time": "2024-04-25T17:15:10.897Z"
   },
   {
    "duration": 7,
    "start_time": "2024-04-25T17:15:10.903Z"
   },
   {
    "duration": 40,
    "start_time": "2024-04-25T17:15:10.911Z"
   },
   {
    "duration": 20,
    "start_time": "2024-04-25T17:15:10.952Z"
   },
   {
    "duration": 56,
    "start_time": "2024-04-25T17:15:10.974Z"
   },
   {
    "duration": 22,
    "start_time": "2024-04-25T17:15:11.032Z"
   },
   {
    "duration": 37,
    "start_time": "2024-04-25T17:15:11.056Z"
   },
   {
    "duration": 12,
    "start_time": "2024-04-25T17:15:11.095Z"
   },
   {
    "duration": 9,
    "start_time": "2024-04-25T17:15:11.109Z"
   },
   {
    "duration": 18,
    "start_time": "2024-04-25T17:15:11.120Z"
   },
   {
    "duration": 9,
    "start_time": "2024-04-25T17:15:11.139Z"
   },
   {
    "duration": 23,
    "start_time": "2024-04-25T17:15:11.150Z"
   },
   {
    "duration": 30,
    "start_time": "2024-04-25T17:15:11.175Z"
   },
   {
    "duration": 363,
    "start_time": "2024-04-25T17:15:11.207Z"
   },
   {
    "duration": 6,
    "start_time": "2024-04-25T17:15:11.572Z"
   },
   {
    "duration": 37,
    "start_time": "2024-04-25T17:15:11.580Z"
   },
   {
    "duration": 213,
    "start_time": "2024-04-25T17:15:11.619Z"
   },
   {
    "duration": 0,
    "start_time": "2024-04-25T17:15:11.834Z"
   },
   {
    "duration": 0,
    "start_time": "2024-04-25T17:15:11.835Z"
   },
   {
    "duration": 0,
    "start_time": "2024-04-25T17:15:11.837Z"
   },
   {
    "duration": 125,
    "start_time": "2024-04-25T17:15:36.723Z"
   },
   {
    "duration": 125,
    "start_time": "2024-04-25T17:17:49.890Z"
   },
   {
    "duration": 198,
    "start_time": "2024-04-25T17:18:28.922Z"
   },
   {
    "duration": 125,
    "start_time": "2024-04-25T17:18:39.712Z"
   },
   {
    "duration": 124,
    "start_time": "2024-04-25T17:18:47.717Z"
   },
   {
    "duration": 68,
    "start_time": "2024-04-25T17:21:41.500Z"
   },
   {
    "duration": 65,
    "start_time": "2024-04-25T17:21:55.668Z"
   },
   {
    "duration": 154,
    "start_time": "2024-04-25T17:23:09.903Z"
   },
   {
    "duration": 83,
    "start_time": "2024-04-25T17:23:54.056Z"
   },
   {
    "duration": 71,
    "start_time": "2024-04-25T17:24:04.692Z"
   },
   {
    "duration": 70,
    "start_time": "2024-04-25T17:24:26.373Z"
   },
   {
    "duration": 77,
    "start_time": "2024-04-25T17:24:32.873Z"
   },
   {
    "duration": 97,
    "start_time": "2024-04-25T17:24:44.469Z"
   },
   {
    "duration": 152,
    "start_time": "2024-04-25T17:24:58.098Z"
   },
   {
    "duration": 72,
    "start_time": "2024-04-25T17:25:02.735Z"
   },
   {
    "duration": 64,
    "start_time": "2024-04-25T17:25:29.387Z"
   },
   {
    "duration": 272,
    "start_time": "2024-04-25T17:33:09.918Z"
   },
   {
    "duration": 263,
    "start_time": "2024-04-25T17:52:18.138Z"
   },
   {
    "duration": 260,
    "start_time": "2024-04-25T17:52:26.568Z"
   },
   {
    "duration": 351,
    "start_time": "2024-04-25T17:52:36.561Z"
   },
   {
    "duration": 264,
    "start_time": "2024-04-25T17:53:05.029Z"
   },
   {
    "duration": 121,
    "start_time": "2024-04-25T17:53:29.936Z"
   },
   {
    "duration": 266,
    "start_time": "2024-04-25T17:53:38.296Z"
   },
   {
    "duration": 271,
    "start_time": "2024-04-25T18:02:09.830Z"
   },
   {
    "duration": 255,
    "start_time": "2024-04-25T18:03:07.862Z"
   },
   {
    "duration": 4,
    "start_time": "2024-04-25T18:03:35.218Z"
   },
   {
    "duration": 405,
    "start_time": "2024-04-25T18:03:42.565Z"
   },
   {
    "duration": 277,
    "start_time": "2024-04-25T18:04:20.165Z"
   },
   {
    "duration": 264,
    "start_time": "2024-04-25T18:04:28.506Z"
   },
   {
    "duration": 275,
    "start_time": "2024-04-25T18:04:34.672Z"
   },
   {
    "duration": 272,
    "start_time": "2024-04-25T18:04:47.208Z"
   },
   {
    "duration": 8,
    "start_time": "2024-04-25T18:07:34.791Z"
   },
   {
    "duration": 395,
    "start_time": "2024-04-25T18:12:18.327Z"
   },
   {
    "duration": 284,
    "start_time": "2024-04-25T18:12:30.961Z"
   },
   {
    "duration": 262,
    "start_time": "2024-04-25T18:12:53.706Z"
   },
   {
    "duration": 275,
    "start_time": "2024-04-25T18:13:02.887Z"
   },
   {
    "duration": 283,
    "start_time": "2024-04-25T18:13:41.676Z"
   },
   {
    "duration": 293,
    "start_time": "2024-04-25T18:13:54.239Z"
   },
   {
    "duration": 427,
    "start_time": "2024-04-25T18:14:10.087Z"
   },
   {
    "duration": 263,
    "start_time": "2024-04-25T18:14:47.586Z"
   },
   {
    "duration": 269,
    "start_time": "2024-04-25T18:14:59.815Z"
   },
   {
    "duration": 269,
    "start_time": "2024-04-25T18:25:56.892Z"
   },
   {
    "duration": 259,
    "start_time": "2024-04-25T18:26:01.367Z"
   },
   {
    "duration": 403,
    "start_time": "2024-04-25T18:26:30.689Z"
   },
   {
    "duration": 262,
    "start_time": "2024-04-25T18:26:41.387Z"
   },
   {
    "duration": 267,
    "start_time": "2024-04-25T18:26:53.069Z"
   },
   {
    "duration": 267,
    "start_time": "2024-04-25T18:29:09.395Z"
   },
   {
    "duration": 259,
    "start_time": "2024-04-25T18:30:00.659Z"
   },
   {
    "duration": 268,
    "start_time": "2024-04-25T18:30:09.856Z"
   },
   {
    "duration": 409,
    "start_time": "2024-04-25T18:30:29.873Z"
   },
   {
    "duration": 264,
    "start_time": "2024-04-25T18:32:29.624Z"
   },
   {
    "duration": 150,
    "start_time": "2024-04-25T18:35:27.711Z"
   },
   {
    "duration": 178,
    "start_time": "2024-04-25T18:35:35.758Z"
   },
   {
    "duration": 158,
    "start_time": "2024-04-25T18:35:50.331Z"
   },
   {
    "duration": 168,
    "start_time": "2024-04-25T18:36:18.865Z"
   },
   {
    "duration": 151,
    "start_time": "2024-04-25T18:36:34.670Z"
   },
   {
    "duration": 166,
    "start_time": "2024-04-25T18:41:47.286Z"
   },
   {
    "duration": 66,
    "start_time": "2024-04-25T18:43:53.544Z"
   },
   {
    "duration": 154,
    "start_time": "2024-04-25T18:45:06.022Z"
   },
   {
    "duration": 263,
    "start_time": "2024-04-25T18:45:27.340Z"
   },
   {
    "duration": 430,
    "start_time": "2024-04-25T18:46:14.018Z"
   },
   {
    "duration": 279,
    "start_time": "2024-04-25T18:46:25.411Z"
   },
   {
    "duration": 279,
    "start_time": "2024-04-25T18:47:11.158Z"
   },
   {
    "duration": 171,
    "start_time": "2024-04-25T18:47:27.967Z"
   },
   {
    "duration": 302,
    "start_time": "2024-04-25T18:48:21.578Z"
   },
   {
    "duration": 8,
    "start_time": "2024-04-25T18:50:19.229Z"
   },
   {
    "duration": 255,
    "start_time": "2024-04-25T18:50:37.037Z"
   },
   {
    "duration": 475,
    "start_time": "2024-04-25T18:51:34.721Z"
   },
   {
    "duration": 253,
    "start_time": "2024-04-25T18:52:57.551Z"
   },
   {
    "duration": 263,
    "start_time": "2024-04-25T18:53:04.877Z"
   },
   {
    "duration": 302,
    "start_time": "2024-04-25T18:53:16.207Z"
   },
   {
    "duration": 271,
    "start_time": "2024-04-25T18:53:29.710Z"
   },
   {
    "duration": 428,
    "start_time": "2024-04-25T18:53:36.455Z"
   },
   {
    "duration": 309,
    "start_time": "2024-04-25T18:54:04.622Z"
   },
   {
    "duration": 284,
    "start_time": "2024-04-25T18:54:08.935Z"
   },
   {
    "duration": 171,
    "start_time": "2024-04-25T19:04:47.294Z"
   },
   {
    "duration": 192,
    "start_time": "2024-04-25T19:05:02.110Z"
   },
   {
    "duration": 174,
    "start_time": "2024-04-25T19:06:13.325Z"
   },
   {
    "duration": 192,
    "start_time": "2024-04-25T19:06:20.230Z"
   },
   {
    "duration": 183,
    "start_time": "2024-04-25T19:06:24.747Z"
   },
   {
    "duration": 175,
    "start_time": "2024-04-25T19:06:45.769Z"
   },
   {
    "duration": 168,
    "start_time": "2024-04-25T19:06:57.798Z"
   },
   {
    "duration": 156,
    "start_time": "2024-04-25T19:07:08.698Z"
   },
   {
    "duration": 203,
    "start_time": "2024-04-25T19:07:29.551Z"
   },
   {
    "duration": 364,
    "start_time": "2024-04-25T19:07:35.148Z"
   },
   {
    "duration": 177,
    "start_time": "2024-04-25T19:07:42.061Z"
   },
   {
    "duration": 196,
    "start_time": "2024-04-25T19:08:05.706Z"
   },
   {
    "duration": 176,
    "start_time": "2024-04-25T19:08:17.070Z"
   },
   {
    "duration": 165,
    "start_time": "2024-04-25T19:09:04.818Z"
   },
   {
    "duration": 158,
    "start_time": "2024-04-25T19:09:59.857Z"
   },
   {
    "duration": 160,
    "start_time": "2024-04-25T19:10:33.739Z"
   },
   {
    "duration": 221,
    "start_time": "2024-04-25T19:13:02.068Z"
   },
   {
    "duration": 5,
    "start_time": "2024-04-25T19:14:44.348Z"
   },
   {
    "duration": 57,
    "start_time": "2024-04-26T07:33:52.426Z"
   },
   {
    "duration": 6,
    "start_time": "2024-04-26T07:34:36.903Z"
   },
   {
    "duration": 5,
    "start_time": "2024-04-26T07:36:24.771Z"
   },
   {
    "duration": 7,
    "start_time": "2024-04-26T07:40:36.548Z"
   },
   {
    "duration": 1676,
    "start_time": "2024-04-26T07:40:48.393Z"
   },
   {
    "duration": 248,
    "start_time": "2024-04-26T07:40:50.071Z"
   },
   {
    "duration": 35,
    "start_time": "2024-04-26T07:40:50.321Z"
   },
   {
    "duration": 2024,
    "start_time": "2024-04-26T07:40:50.358Z"
   },
   {
    "duration": 24,
    "start_time": "2024-04-26T07:40:52.385Z"
   },
   {
    "duration": 16,
    "start_time": "2024-04-26T07:40:52.410Z"
   },
   {
    "duration": 37,
    "start_time": "2024-04-26T07:40:52.428Z"
   },
   {
    "duration": 18,
    "start_time": "2024-04-26T07:40:52.467Z"
   },
   {
    "duration": 14,
    "start_time": "2024-04-26T07:40:52.487Z"
   },
   {
    "duration": 23,
    "start_time": "2024-04-26T07:40:52.503Z"
   },
   {
    "duration": 39,
    "start_time": "2024-04-26T07:40:52.528Z"
   },
   {
    "duration": 33,
    "start_time": "2024-04-26T07:40:52.569Z"
   },
   {
    "duration": 18,
    "start_time": "2024-04-26T07:40:52.604Z"
   },
   {
    "duration": 34,
    "start_time": "2024-04-26T07:40:52.624Z"
   },
   {
    "duration": 44,
    "start_time": "2024-04-26T07:40:52.659Z"
   },
   {
    "duration": 20,
    "start_time": "2024-04-26T07:40:52.705Z"
   },
   {
    "duration": 70,
    "start_time": "2024-04-26T07:40:52.726Z"
   },
   {
    "duration": 19,
    "start_time": "2024-04-26T07:40:52.798Z"
   },
   {
    "duration": 50,
    "start_time": "2024-04-26T07:40:52.819Z"
   },
   {
    "duration": 11,
    "start_time": "2024-04-26T07:40:52.871Z"
   },
   {
    "duration": 41,
    "start_time": "2024-04-26T07:40:52.884Z"
   },
   {
    "duration": 45,
    "start_time": "2024-04-26T07:40:52.927Z"
   },
   {
    "duration": 21,
    "start_time": "2024-04-26T07:40:52.974Z"
   },
   {
    "duration": 53,
    "start_time": "2024-04-26T07:40:52.997Z"
   },
   {
    "duration": 27,
    "start_time": "2024-04-26T07:40:53.052Z"
   },
   {
    "duration": 366,
    "start_time": "2024-04-26T07:40:53.081Z"
   },
   {
    "duration": 12,
    "start_time": "2024-04-26T07:40:53.449Z"
   },
   {
    "duration": 69,
    "start_time": "2024-04-26T07:40:53.463Z"
   },
   {
    "duration": 283,
    "start_time": "2024-04-26T07:40:53.534Z"
   },
   {
    "duration": 336,
    "start_time": "2024-04-26T07:40:53.819Z"
   },
   {
    "duration": 159,
    "start_time": "2024-04-26T07:40:54.156Z"
   },
   {
    "duration": 273,
    "start_time": "2024-04-26T07:40:54.317Z"
   },
   {
    "duration": 165,
    "start_time": "2024-04-26T07:40:54.591Z"
   },
   {
    "duration": 169,
    "start_time": "2024-04-26T07:40:54.761Z"
   },
   {
    "duration": 81,
    "start_time": "2024-04-26T07:40:54.932Z"
   },
   {
    "duration": 0,
    "start_time": "2024-04-26T07:40:55.015Z"
   },
   {
    "duration": 0,
    "start_time": "2024-04-26T07:40:55.017Z"
   },
   {
    "duration": 8,
    "start_time": "2024-04-26T07:41:11.192Z"
   },
   {
    "duration": 41,
    "start_time": "2024-04-26T07:43:40.356Z"
   },
   {
    "duration": 17,
    "start_time": "2024-04-26T07:44:22.247Z"
   },
   {
    "duration": 47,
    "start_time": "2024-04-26T07:44:58.530Z"
   },
   {
    "duration": 15,
    "start_time": "2024-04-26T07:45:27.337Z"
   },
   {
    "duration": 36,
    "start_time": "2024-04-26T07:45:37.400Z"
   },
   {
    "duration": 38,
    "start_time": "2024-04-26T07:46:44.271Z"
   },
   {
    "duration": 26,
    "start_time": "2024-04-26T07:47:06.040Z"
   },
   {
    "duration": 8,
    "start_time": "2024-04-26T07:47:34.651Z"
   },
   {
    "duration": 39,
    "start_time": "2024-04-26T07:47:44.565Z"
   },
   {
    "duration": 28,
    "start_time": "2024-04-26T07:49:05.902Z"
   },
   {
    "duration": 40,
    "start_time": "2024-04-26T07:51:48.630Z"
   },
   {
    "duration": 58,
    "start_time": "2024-04-26T08:18:35.131Z"
   },
   {
    "duration": 53,
    "start_time": "2024-04-26T08:18:45.401Z"
   },
   {
    "duration": 10,
    "start_time": "2024-04-26T08:18:53.247Z"
   },
   {
    "duration": 169,
    "start_time": "2024-04-26T08:19:18.169Z"
   },
   {
    "duration": 159,
    "start_time": "2024-04-26T08:19:36.090Z"
   },
   {
    "duration": 158,
    "start_time": "2024-04-26T08:20:32.192Z"
   },
   {
    "duration": 155,
    "start_time": "2024-04-26T08:20:47.079Z"
   },
   {
    "duration": 157,
    "start_time": "2024-04-26T08:20:51.344Z"
   },
   {
    "duration": 272,
    "start_time": "2024-04-26T08:21:08.315Z"
   },
   {
    "duration": 158,
    "start_time": "2024-04-26T08:21:13.667Z"
   },
   {
    "duration": 202,
    "start_time": "2024-04-26T08:21:20.688Z"
   },
   {
    "duration": 181,
    "start_time": "2024-04-26T08:24:25.027Z"
   },
   {
    "duration": 175,
    "start_time": "2024-04-26T08:29:48.626Z"
   },
   {
    "duration": 166,
    "start_time": "2024-04-26T08:31:50.879Z"
   },
   {
    "duration": 182,
    "start_time": "2024-04-26T08:32:08.804Z"
   },
   {
    "duration": 141,
    "start_time": "2024-04-26T08:34:10.144Z"
   },
   {
    "duration": 139,
    "start_time": "2024-04-26T08:34:19.163Z"
   },
   {
    "duration": 144,
    "start_time": "2024-04-26T08:34:28.264Z"
   },
   {
    "duration": 354,
    "start_time": "2024-04-26T08:37:08.006Z"
   },
   {
    "duration": 246,
    "start_time": "2024-04-26T08:37:18.471Z"
   },
   {
    "duration": 163,
    "start_time": "2024-04-26T08:37:30.736Z"
   },
   {
    "duration": 286,
    "start_time": "2024-04-26T08:37:37.362Z"
   },
   {
    "duration": 159,
    "start_time": "2024-04-26T08:37:45.513Z"
   },
   {
    "duration": 180,
    "start_time": "2024-04-26T08:37:51.651Z"
   },
   {
    "duration": 154,
    "start_time": "2024-04-26T08:38:08.025Z"
   },
   {
    "duration": 159,
    "start_time": "2024-04-26T08:40:15.139Z"
   },
   {
    "duration": 164,
    "start_time": "2024-04-26T08:40:23.382Z"
   },
   {
    "duration": 264,
    "start_time": "2024-04-26T08:42:10.791Z"
   },
   {
    "duration": 164,
    "start_time": "2024-04-26T08:42:22.483Z"
   },
   {
    "duration": 42,
    "start_time": "2024-04-26T08:43:56.726Z"
   },
   {
    "duration": 50,
    "start_time": "2024-04-26T08:44:12.335Z"
   },
   {
    "duration": 29,
    "start_time": "2024-04-26T08:44:27.346Z"
   },
   {
    "duration": 46,
    "start_time": "2024-04-26T08:44:47.832Z"
   },
   {
    "duration": 178,
    "start_time": "2024-04-26T08:48:04.314Z"
   },
   {
    "duration": 194,
    "start_time": "2024-04-26T08:51:21.344Z"
   },
   {
    "duration": 156,
    "start_time": "2024-04-26T08:51:25.344Z"
   },
   {
    "duration": 181,
    "start_time": "2024-04-26T09:06:10.176Z"
   },
   {
    "duration": 182,
    "start_time": "2024-04-26T09:06:23.345Z"
   },
   {
    "duration": 188,
    "start_time": "2024-04-26T09:06:46.561Z"
   },
   {
    "duration": 282,
    "start_time": "2024-04-26T09:06:55.630Z"
   },
   {
    "duration": 508,
    "start_time": "2024-04-26T09:21:21.341Z"
   },
   {
    "duration": 249,
    "start_time": "2024-04-26T09:21:37.946Z"
   },
   {
    "duration": 330,
    "start_time": "2024-04-26T09:21:44.701Z"
   },
   {
    "duration": 7,
    "start_time": "2024-04-26T09:23:31.473Z"
   },
   {
    "duration": 37,
    "start_time": "2024-04-26T09:23:39.084Z"
   },
   {
    "duration": 38,
    "start_time": "2024-04-26T09:23:55.712Z"
   },
   {
    "duration": 47,
    "start_time": "2024-04-26T09:23:59.837Z"
   },
   {
    "duration": 38,
    "start_time": "2024-04-26T09:24:11.738Z"
   },
   {
    "duration": 383,
    "start_time": "2024-04-26T09:25:50.021Z"
   },
   {
    "duration": 522,
    "start_time": "2024-04-26T09:30:25.282Z"
   },
   {
    "duration": 247,
    "start_time": "2024-04-26T09:30:57.385Z"
   },
   {
    "duration": 265,
    "start_time": "2024-04-26T09:33:19.358Z"
   },
   {
    "duration": 295,
    "start_time": "2024-04-26T09:33:23.920Z"
   },
   {
    "duration": 264,
    "start_time": "2024-04-26T09:33:29.286Z"
   },
   {
    "duration": 367,
    "start_time": "2024-04-26T09:33:44.818Z"
   },
   {
    "duration": 260,
    "start_time": "2024-04-26T09:38:43.726Z"
   },
   {
    "duration": 44,
    "start_time": "2024-04-26T09:40:49.363Z"
   },
   {
    "duration": 268,
    "start_time": "2024-04-26T10:27:24.900Z"
   },
   {
    "duration": 257,
    "start_time": "2024-04-26T10:27:48.778Z"
   },
   {
    "duration": 272,
    "start_time": "2024-04-26T10:28:04.752Z"
   },
   {
    "duration": 613,
    "start_time": "2024-04-26T10:28:10.373Z"
   },
   {
    "duration": 503,
    "start_time": "2024-04-26T10:41:43.019Z"
   },
   {
    "duration": 516,
    "start_time": "2024-04-26T10:42:07.466Z"
   },
   {
    "duration": 382,
    "start_time": "2024-04-26T10:42:17.036Z"
   },
   {
    "duration": 261,
    "start_time": "2024-04-26T10:42:23.954Z"
   },
   {
    "duration": 197,
    "start_time": "2024-04-26T11:53:51.910Z"
   },
   {
    "duration": 16146,
    "start_time": "2024-04-26T11:54:08.730Z"
   },
   {
    "duration": 642,
    "start_time": "2024-04-26T11:54:31.009Z"
   },
   {
    "duration": 117,
    "start_time": "2024-04-26T11:54:31.653Z"
   },
   {
    "duration": 41,
    "start_time": "2024-04-26T11:54:31.772Z"
   },
   {
    "duration": 2368,
    "start_time": "2024-04-26T11:54:31.815Z"
   },
   {
    "duration": 29,
    "start_time": "2024-04-26T11:54:34.186Z"
   },
   {
    "duration": 5,
    "start_time": "2024-04-26T11:54:34.217Z"
   },
   {
    "duration": 17,
    "start_time": "2024-04-26T11:54:34.224Z"
   },
   {
    "duration": 10,
    "start_time": "2024-04-26T11:54:34.243Z"
   },
   {
    "duration": 5,
    "start_time": "2024-04-26T11:54:34.260Z"
   },
   {
    "duration": 8,
    "start_time": "2024-04-26T11:54:34.267Z"
   },
   {
    "duration": 5,
    "start_time": "2024-04-26T11:54:34.277Z"
   },
   {
    "duration": 11,
    "start_time": "2024-04-26T11:54:34.284Z"
   },
   {
    "duration": 4,
    "start_time": "2024-04-26T11:54:34.297Z"
   },
   {
    "duration": 8,
    "start_time": "2024-04-26T11:54:34.304Z"
   },
   {
    "duration": 66,
    "start_time": "2024-04-26T11:54:34.313Z"
   },
   {
    "duration": 30,
    "start_time": "2024-04-26T11:54:34.381Z"
   },
   {
    "duration": 71,
    "start_time": "2024-04-26T11:54:34.413Z"
   },
   {
    "duration": 21,
    "start_time": "2024-04-26T11:54:34.485Z"
   },
   {
    "duration": 30,
    "start_time": "2024-04-26T11:54:34.508Z"
   },
   {
    "duration": 34,
    "start_time": "2024-04-26T11:54:34.539Z"
   },
   {
    "duration": 16,
    "start_time": "2024-04-26T11:54:34.574Z"
   },
   {
    "duration": 19,
    "start_time": "2024-04-26T11:54:34.591Z"
   },
   {
    "duration": 21,
    "start_time": "2024-04-26T11:54:34.611Z"
   },
   {
    "duration": 7,
    "start_time": "2024-04-26T11:54:34.634Z"
   },
   {
    "duration": 7,
    "start_time": "2024-04-26T11:54:34.643Z"
   },
   {
    "duration": 345,
    "start_time": "2024-04-26T11:54:34.651Z"
   },
   {
    "duration": 5,
    "start_time": "2024-04-26T11:54:34.998Z"
   },
   {
    "duration": 37,
    "start_time": "2024-04-26T11:54:35.005Z"
   },
   {
    "duration": 291,
    "start_time": "2024-04-26T11:54:35.044Z"
   },
   {
    "duration": 391,
    "start_time": "2024-04-26T11:54:35.340Z"
   },
   {
    "duration": 196,
    "start_time": "2024-04-26T11:54:35.733Z"
   },
   {
    "duration": 333,
    "start_time": "2024-04-26T11:54:35.930Z"
   },
   {
    "duration": 180,
    "start_time": "2024-04-26T11:54:36.265Z"
   },
   {
    "duration": 197,
    "start_time": "2024-04-26T11:54:36.448Z"
   },
   {
    "duration": 168,
    "start_time": "2024-04-26T11:54:36.648Z"
   },
   {
    "duration": 207,
    "start_time": "2024-04-26T11:54:36.818Z"
   },
   {
    "duration": 476,
    "start_time": "2024-04-26T11:54:37.027Z"
   },
   {
    "duration": 430,
    "start_time": "2024-04-26T11:54:37.506Z"
   },
   {
    "duration": 287,
    "start_time": "2024-04-26T11:54:37.938Z"
   },
   {
    "duration": 16115,
    "start_time": "2024-04-26T11:54:38.227Z"
   },
   {
    "duration": 66,
    "start_time": "2024-04-26T12:06:05.163Z"
   },
   {
    "duration": 249,
    "start_time": "2024-04-26T12:06:43.838Z"
   },
   {
    "duration": 310,
    "start_time": "2024-04-26T12:07:19.446Z"
   },
   {
    "duration": 345,
    "start_time": "2024-04-26T12:08:09.846Z"
   },
   {
    "duration": 248,
    "start_time": "2024-04-26T12:11:26.235Z"
   },
   {
    "duration": 467,
    "start_time": "2024-04-26T12:11:31.506Z"
   },
   {
    "duration": 267,
    "start_time": "2024-04-26T12:11:43.449Z"
   },
   {
    "duration": 169,
    "start_time": "2024-04-26T12:11:51.606Z"
   },
   {
    "duration": 244,
    "start_time": "2024-04-26T12:12:12.185Z"
   },
   {
    "duration": 403,
    "start_time": "2024-04-26T12:12:27.103Z"
   },
   {
    "duration": 412,
    "start_time": "2024-04-26T12:17:39.362Z"
   },
   {
    "duration": 554,
    "start_time": "2024-04-26T12:19:16.250Z"
   },
   {
    "duration": 47,
    "start_time": "2024-04-26T12:19:52.356Z"
   },
   {
    "duration": 402,
    "start_time": "2024-04-26T12:19:58.242Z"
   },
   {
    "duration": 407,
    "start_time": "2024-04-26T12:20:13.621Z"
   },
   {
    "duration": 396,
    "start_time": "2024-04-26T12:24:19.634Z"
   },
   {
    "duration": 406,
    "start_time": "2024-04-26T12:24:36.391Z"
   },
   {
    "duration": 302,
    "start_time": "2024-04-26T12:30:50.824Z"
   },
   {
    "duration": 291,
    "start_time": "2024-04-26T12:31:10.770Z"
   },
   {
    "duration": 400,
    "start_time": "2024-04-26T12:31:35.212Z"
   },
   {
    "duration": 274,
    "start_time": "2024-04-26T12:31:47.839Z"
   },
   {
    "duration": 168,
    "start_time": "2024-04-26T12:32:03.259Z"
   },
   {
    "duration": 173,
    "start_time": "2024-04-26T12:32:57.238Z"
   },
   {
    "duration": 11,
    "start_time": "2024-04-26T12:33:16.796Z"
   },
   {
    "duration": 194,
    "start_time": "2024-04-26T12:33:28.223Z"
   },
   {
    "duration": 157,
    "start_time": "2024-04-26T12:33:44.817Z"
   },
   {
    "duration": 177,
    "start_time": "2024-04-26T12:33:56.521Z"
   },
   {
    "duration": 383,
    "start_time": "2024-04-26T12:34:13.533Z"
   },
   {
    "duration": 281,
    "start_time": "2024-04-26T12:34:25.479Z"
   },
   {
    "duration": 42,
    "start_time": "2024-04-26T12:37:12.475Z"
   },
   {
    "duration": 53,
    "start_time": "2024-04-26T12:37:33.898Z"
   },
   {
    "duration": 33,
    "start_time": "2024-04-26T12:37:43.857Z"
   },
   {
    "duration": 267,
    "start_time": "2024-04-26T12:37:58.845Z"
   },
   {
    "duration": 278,
    "start_time": "2024-04-26T12:40:19.711Z"
   },
   {
    "duration": 832,
    "start_time": "2024-04-26T12:44:16.252Z"
   },
   {
    "duration": 8,
    "start_time": "2024-04-26T12:44:24.090Z"
   },
   {
    "duration": 8,
    "start_time": "2024-04-26T12:54:54.410Z"
   },
   {
    "duration": 172,
    "start_time": "2024-04-26T12:54:59.013Z"
   },
   {
    "duration": 398,
    "start_time": "2024-04-26T12:55:27.609Z"
   },
   {
    "duration": 567,
    "start_time": "2024-04-26T12:56:16.968Z"
   },
   {
    "duration": 381,
    "start_time": "2024-04-26T12:57:00.363Z"
   },
   {
    "duration": 370,
    "start_time": "2024-04-26T12:57:44.840Z"
   },
   {
    "duration": 417,
    "start_time": "2024-04-26T12:58:04.580Z"
   },
   {
    "duration": 179,
    "start_time": "2024-04-26T12:58:35.275Z"
   },
   {
    "duration": 161,
    "start_time": "2024-04-26T12:59:34.476Z"
   },
   {
    "duration": 127,
    "start_time": "2024-04-26T13:00:08.420Z"
   },
   {
    "duration": 406,
    "start_time": "2024-04-26T13:01:00.755Z"
   },
   {
    "duration": 174,
    "start_time": "2024-04-26T13:01:14.244Z"
   },
   {
    "duration": 171,
    "start_time": "2024-04-26T13:01:22.929Z"
   },
   {
    "duration": 135,
    "start_time": "2024-04-26T13:01:36.538Z"
   },
   {
    "duration": 172,
    "start_time": "2024-04-26T13:02:00.737Z"
   },
   {
    "duration": 1341,
    "start_time": "2024-04-26T13:06:46.555Z"
   },
   {
    "duration": 459,
    "start_time": "2024-04-26T13:08:12.585Z"
   },
   {
    "duration": 169,
    "start_time": "2024-04-26T13:08:20.364Z"
   },
   {
    "duration": 2,
    "start_time": "2024-04-26T13:08:35.585Z"
   },
   {
    "duration": 692,
    "start_time": "2024-04-26T13:08:40.584Z"
   },
   {
    "duration": 131,
    "start_time": "2024-04-26T13:08:41.278Z"
   },
   {
    "duration": 34,
    "start_time": "2024-04-26T13:08:41.411Z"
   },
   {
    "duration": 2020,
    "start_time": "2024-04-26T13:08:41.446Z"
   },
   {
    "duration": 25,
    "start_time": "2024-04-26T13:08:43.469Z"
   },
   {
    "duration": 4,
    "start_time": "2024-04-26T13:08:43.496Z"
   },
   {
    "duration": 50,
    "start_time": "2024-04-26T13:08:43.501Z"
   },
   {
    "duration": 16,
    "start_time": "2024-04-26T13:08:43.553Z"
   },
   {
    "duration": 6,
    "start_time": "2024-04-26T13:08:43.571Z"
   },
   {
    "duration": 7,
    "start_time": "2024-04-26T13:08:43.578Z"
   },
   {
    "duration": 14,
    "start_time": "2024-04-26T13:08:43.587Z"
   },
   {
    "duration": 9,
    "start_time": "2024-04-26T13:08:43.603Z"
   },
   {
    "duration": 18,
    "start_time": "2024-04-26T13:08:43.614Z"
   },
   {
    "duration": 21,
    "start_time": "2024-04-26T13:08:43.635Z"
   },
   {
    "duration": 22,
    "start_time": "2024-04-26T13:08:43.658Z"
   },
   {
    "duration": 31,
    "start_time": "2024-04-26T13:08:43.681Z"
   },
   {
    "duration": 58,
    "start_time": "2024-04-26T13:08:43.714Z"
   },
   {
    "duration": 21,
    "start_time": "2024-04-26T13:08:43.773Z"
   },
   {
    "duration": 18,
    "start_time": "2024-04-26T13:08:43.796Z"
   },
   {
    "duration": 12,
    "start_time": "2024-04-26T13:08:43.816Z"
   },
   {
    "duration": 40,
    "start_time": "2024-04-26T13:08:43.830Z"
   },
   {
    "duration": 6,
    "start_time": "2024-04-26T13:08:43.872Z"
   },
   {
    "duration": 14,
    "start_time": "2024-04-26T13:08:43.880Z"
   },
   {
    "duration": 6,
    "start_time": "2024-04-26T13:08:43.896Z"
   },
   {
    "duration": 6,
    "start_time": "2024-04-26T13:08:43.904Z"
   },
   {
    "duration": 364,
    "start_time": "2024-04-26T13:08:43.911Z"
   },
   {
    "duration": 4,
    "start_time": "2024-04-26T13:08:44.277Z"
   },
   {
    "duration": 40,
    "start_time": "2024-04-26T13:08:44.283Z"
   },
   {
    "duration": 302,
    "start_time": "2024-04-26T13:08:44.325Z"
   },
   {
    "duration": 334,
    "start_time": "2024-04-26T13:08:44.628Z"
   },
   {
    "duration": 179,
    "start_time": "2024-04-26T13:08:44.964Z"
   },
   {
    "duration": 272,
    "start_time": "2024-04-26T13:08:45.145Z"
   },
   {
    "duration": 165,
    "start_time": "2024-04-26T13:08:45.418Z"
   },
   {
    "duration": 188,
    "start_time": "2024-04-26T13:08:45.585Z"
   },
   {
    "duration": 180,
    "start_time": "2024-04-26T13:08:45.775Z"
   },
   {
    "duration": 265,
    "start_time": "2024-04-26T13:08:45.960Z"
   },
   {
    "duration": 408,
    "start_time": "2024-04-26T13:08:46.227Z"
   },
   {
    "duration": 383,
    "start_time": "2024-04-26T13:08:46.637Z"
   },
   {
    "duration": 308,
    "start_time": "2024-04-26T13:08:47.023Z"
   },
   {
    "duration": 400,
    "start_time": "2024-04-26T13:08:47.333Z"
   },
   {
    "duration": 194,
    "start_time": "2024-04-26T13:08:47.739Z"
   },
   {
    "duration": 49,
    "start_time": "2024-04-26T13:08:47.935Z"
   },
   {
    "duration": 7241,
    "start_time": "2024-04-26T13:09:18.821Z"
   },
   {
    "duration": 96,
    "start_time": "2024-04-26T13:10:16.600Z"
   },
   {
    "duration": 7887,
    "start_time": "2024-04-26T13:10:48.017Z"
   },
   {
    "duration": 62,
    "start_time": "2024-04-26T13:14:57.032Z"
   },
   {
    "duration": 730,
    "start_time": "2024-04-26T13:15:06.889Z"
   },
   {
    "duration": 281,
    "start_time": "2024-04-26T13:15:07.621Z"
   },
   {
    "duration": 40,
    "start_time": "2024-04-26T13:15:07.905Z"
   },
   {
    "duration": 2407,
    "start_time": "2024-04-26T13:15:07.947Z"
   },
   {
    "duration": 35,
    "start_time": "2024-04-26T13:15:10.357Z"
   },
   {
    "duration": 4,
    "start_time": "2024-04-26T13:15:10.393Z"
   },
   {
    "duration": 10,
    "start_time": "2024-04-26T13:15:10.399Z"
   },
   {
    "duration": 15,
    "start_time": "2024-04-26T13:15:10.411Z"
   },
   {
    "duration": 7,
    "start_time": "2024-04-26T13:15:10.427Z"
   },
   {
    "duration": 10,
    "start_time": "2024-04-26T13:15:10.461Z"
   },
   {
    "duration": 10,
    "start_time": "2024-04-26T13:15:10.473Z"
   },
   {
    "duration": 15,
    "start_time": "2024-04-26T13:15:10.485Z"
   },
   {
    "duration": 18,
    "start_time": "2024-04-26T13:15:10.502Z"
   },
   {
    "duration": 5,
    "start_time": "2024-04-26T13:15:10.524Z"
   },
   {
    "duration": 31,
    "start_time": "2024-04-26T13:15:10.531Z"
   },
   {
    "duration": 29,
    "start_time": "2024-04-26T13:15:10.564Z"
   },
   {
    "duration": 77,
    "start_time": "2024-04-26T13:15:10.595Z"
   },
   {
    "duration": 21,
    "start_time": "2024-04-26T13:15:10.676Z"
   },
   {
    "duration": 21,
    "start_time": "2024-04-26T13:15:10.699Z"
   },
   {
    "duration": 12,
    "start_time": "2024-04-26T13:15:10.722Z"
   },
   {
    "duration": 15,
    "start_time": "2024-04-26T13:15:10.762Z"
   },
   {
    "duration": 6,
    "start_time": "2024-04-26T13:15:10.779Z"
   },
   {
    "duration": 10,
    "start_time": "2024-04-26T13:15:10.787Z"
   },
   {
    "duration": 6,
    "start_time": "2024-04-26T13:15:10.799Z"
   },
   {
    "duration": 6,
    "start_time": "2024-04-26T13:15:10.807Z"
   },
   {
    "duration": 453,
    "start_time": "2024-04-26T13:15:10.815Z"
   },
   {
    "duration": 6,
    "start_time": "2024-04-26T13:15:11.270Z"
   },
   {
    "duration": 50,
    "start_time": "2024-04-26T13:15:11.278Z"
   },
   {
    "duration": 327,
    "start_time": "2024-04-26T13:15:11.330Z"
   },
   {
    "duration": 392,
    "start_time": "2024-04-26T13:15:11.658Z"
   },
   {
    "duration": 191,
    "start_time": "2024-04-26T13:15:12.051Z"
   },
   {
    "duration": 322,
    "start_time": "2024-04-26T13:15:12.243Z"
   },
   {
    "duration": 208,
    "start_time": "2024-04-26T13:15:12.568Z"
   },
   {
    "duration": 228,
    "start_time": "2024-04-26T13:15:12.779Z"
   },
   {
    "duration": 213,
    "start_time": "2024-04-26T13:15:13.009Z"
   },
   {
    "duration": 214,
    "start_time": "2024-04-26T13:15:13.224Z"
   },
   {
    "duration": 448,
    "start_time": "2024-04-26T13:15:13.440Z"
   },
   {
    "duration": 435,
    "start_time": "2024-04-26T13:15:13.890Z"
   },
   {
    "duration": 309,
    "start_time": "2024-04-26T13:15:14.327Z"
   },
   {
    "duration": 485,
    "start_time": "2024-04-26T13:15:14.638Z"
   },
   {
    "duration": 195,
    "start_time": "2024-04-26T13:15:15.126Z"
   },
   {
    "duration": 48,
    "start_time": "2024-04-26T13:15:15.323Z"
   },
   {
    "duration": 169,
    "start_time": "2024-04-26T13:16:06.884Z"
   },
   {
    "duration": 174,
    "start_time": "2024-04-26T13:16:59.232Z"
   },
   {
    "duration": 173,
    "start_time": "2024-04-26T13:17:25.184Z"
   },
   {
    "duration": 309,
    "start_time": "2024-04-26T13:17:47.411Z"
   },
   {
    "duration": 320,
    "start_time": "2024-04-26T13:17:53.473Z"
   },
   {
    "duration": 238,
    "start_time": "2024-04-26T13:32:34.239Z"
   },
   {
    "duration": 48,
    "start_time": "2024-04-26T13:34:52.691Z"
   },
   {
    "duration": 214,
    "start_time": "2024-04-26T13:36:15.474Z"
   },
   {
    "duration": 211,
    "start_time": "2024-04-26T13:36:30.445Z"
   },
   {
    "duration": 194,
    "start_time": "2024-04-26T13:36:59.880Z"
   },
   {
    "duration": 210,
    "start_time": "2024-04-26T13:40:29.402Z"
   },
   {
    "duration": 191,
    "start_time": "2024-04-26T13:41:07.378Z"
   },
   {
    "duration": 247,
    "start_time": "2024-04-26T13:42:02.421Z"
   },
   {
    "duration": 207,
    "start_time": "2024-04-26T13:43:12.007Z"
   },
   {
    "duration": 729,
    "start_time": "2024-04-26T13:49:51.166Z"
   },
   {
    "duration": 135,
    "start_time": "2024-04-26T13:49:51.898Z"
   },
   {
    "duration": 48,
    "start_time": "2024-04-26T13:49:52.035Z"
   },
   {
    "duration": 2360,
    "start_time": "2024-04-26T13:49:52.086Z"
   },
   {
    "duration": 43,
    "start_time": "2024-04-26T13:49:54.448Z"
   },
   {
    "duration": 4,
    "start_time": "2024-04-26T13:49:54.493Z"
   },
   {
    "duration": 12,
    "start_time": "2024-04-26T13:49:54.499Z"
   },
   {
    "duration": 13,
    "start_time": "2024-04-26T13:49:54.513Z"
   },
   {
    "duration": 6,
    "start_time": "2024-04-26T13:49:54.528Z"
   },
   {
    "duration": 30,
    "start_time": "2024-04-26T13:49:54.537Z"
   },
   {
    "duration": 22,
    "start_time": "2024-04-26T13:49:54.569Z"
   },
   {
    "duration": 10,
    "start_time": "2024-04-26T13:49:54.593Z"
   },
   {
    "duration": 4,
    "start_time": "2024-04-26T13:49:54.605Z"
   },
   {
    "duration": 6,
    "start_time": "2024-04-26T13:49:54.610Z"
   },
   {
    "duration": 24,
    "start_time": "2024-04-26T13:49:54.617Z"
   },
   {
    "duration": 51,
    "start_time": "2024-04-26T13:49:54.643Z"
   },
   {
    "duration": 57,
    "start_time": "2024-04-26T13:49:54.695Z"
   },
   {
    "duration": 48,
    "start_time": "2024-04-26T13:49:54.754Z"
   },
   {
    "duration": 21,
    "start_time": "2024-04-26T13:49:54.804Z"
   },
   {
    "duration": 11,
    "start_time": "2024-04-26T13:49:54.827Z"
   },
   {
    "duration": 24,
    "start_time": "2024-04-26T13:49:54.840Z"
   },
   {
    "duration": 12,
    "start_time": "2024-04-26T13:49:54.869Z"
   },
   {
    "duration": 7,
    "start_time": "2024-04-26T13:49:54.887Z"
   },
   {
    "duration": 11,
    "start_time": "2024-04-26T13:49:54.895Z"
   },
   {
    "duration": 5,
    "start_time": "2024-04-26T13:49:54.908Z"
   },
   {
    "duration": 395,
    "start_time": "2024-04-26T13:49:54.915Z"
   },
   {
    "duration": 5,
    "start_time": "2024-04-26T13:49:55.311Z"
   },
   {
    "duration": 24,
    "start_time": "2024-04-26T13:49:55.320Z"
   },
   {
    "duration": 332,
    "start_time": "2024-04-26T13:49:55.345Z"
   },
   {
    "duration": 395,
    "start_time": "2024-04-26T13:49:55.679Z"
   },
   {
    "duration": 216,
    "start_time": "2024-04-26T13:49:56.077Z"
   },
   {
    "duration": 343,
    "start_time": "2024-04-26T13:49:56.295Z"
   },
   {
    "duration": 188,
    "start_time": "2024-04-26T13:49:56.640Z"
   },
   {
    "duration": 198,
    "start_time": "2024-04-26T13:49:56.830Z"
   },
   {
    "duration": 198,
    "start_time": "2024-04-26T13:49:57.030Z"
   },
   {
    "duration": 212,
    "start_time": "2024-04-26T13:49:57.230Z"
   },
   {
    "duration": 478,
    "start_time": "2024-04-26T13:49:57.444Z"
   },
   {
    "duration": 464,
    "start_time": "2024-04-26T13:49:57.924Z"
   },
   {
    "duration": 309,
    "start_time": "2024-04-26T13:49:58.390Z"
   },
   {
    "duration": 217,
    "start_time": "2024-04-26T13:49:58.701Z"
   },
   {
    "duration": 237,
    "start_time": "2024-04-26T13:49:58.921Z"
   },
   {
    "duration": 54,
    "start_time": "2024-04-26T13:49:59.160Z"
   },
   {
    "duration": 207,
    "start_time": "2024-04-26T13:51:35.874Z"
   },
   {
    "duration": 49,
    "start_time": "2024-04-26T13:52:39.504Z"
   },
   {
    "duration": 211,
    "start_time": "2024-04-26T13:53:07.884Z"
   },
   {
    "duration": 216,
    "start_time": "2024-04-26T13:57:35.289Z"
   },
   {
    "duration": 188,
    "start_time": "2024-04-26T13:57:53.041Z"
   },
   {
    "duration": 59,
    "start_time": "2024-04-26T13:59:07.488Z"
   },
   {
    "duration": 220,
    "start_time": "2024-04-26T14:02:39.772Z"
   },
   {
    "duration": 11,
    "start_time": "2024-04-26T14:03:10.986Z"
   },
   {
    "duration": 12,
    "start_time": "2024-04-26T14:03:42.544Z"
   },
   {
    "duration": 14,
    "start_time": "2024-04-26T14:04:41.255Z"
   },
   {
    "duration": 15,
    "start_time": "2024-04-26T14:05:42.315Z"
   },
   {
    "duration": 657,
    "start_time": "2024-04-26T14:07:42.727Z"
   },
   {
    "duration": 118,
    "start_time": "2024-04-26T14:07:43.387Z"
   },
   {
    "duration": 37,
    "start_time": "2024-04-26T14:07:43.507Z"
   },
   {
    "duration": 1967,
    "start_time": "2024-04-26T14:07:43.547Z"
   },
   {
    "duration": 24,
    "start_time": "2024-04-26T14:07:45.516Z"
   },
   {
    "duration": 4,
    "start_time": "2024-04-26T14:07:45.541Z"
   },
   {
    "duration": 18,
    "start_time": "2024-04-26T14:07:45.546Z"
   },
   {
    "duration": 35,
    "start_time": "2024-04-26T14:07:45.566Z"
   },
   {
    "duration": 5,
    "start_time": "2024-04-26T14:07:45.603Z"
   },
   {
    "duration": 26,
    "start_time": "2024-04-26T14:07:45.610Z"
   },
   {
    "duration": 10,
    "start_time": "2024-04-26T14:07:45.638Z"
   },
   {
    "duration": 14,
    "start_time": "2024-04-26T14:07:45.649Z"
   },
   {
    "duration": 8,
    "start_time": "2024-04-26T14:07:45.665Z"
   },
   {
    "duration": 24,
    "start_time": "2024-04-26T14:07:45.674Z"
   },
   {
    "duration": 22,
    "start_time": "2024-04-26T14:07:45.699Z"
   },
   {
    "duration": 20,
    "start_time": "2024-04-26T14:07:45.723Z"
   },
   {
    "duration": 61,
    "start_time": "2024-04-26T14:07:45.745Z"
   },
   {
    "duration": 23,
    "start_time": "2024-04-26T14:07:45.808Z"
   },
   {
    "duration": 36,
    "start_time": "2024-04-26T14:07:45.832Z"
   },
   {
    "duration": 29,
    "start_time": "2024-04-26T14:07:45.869Z"
   },
   {
    "duration": 8,
    "start_time": "2024-04-26T14:07:45.900Z"
   },
   {
    "duration": 5,
    "start_time": "2024-04-26T14:07:45.910Z"
   },
   {
    "duration": 11,
    "start_time": "2024-04-26T14:07:45.916Z"
   },
   {
    "duration": 11,
    "start_time": "2024-04-26T14:07:45.928Z"
   },
   {
    "duration": 6,
    "start_time": "2024-04-26T14:07:45.940Z"
   },
   {
    "duration": 386,
    "start_time": "2024-04-26T14:07:45.948Z"
   },
   {
    "duration": 5,
    "start_time": "2024-04-26T14:07:46.335Z"
   },
   {
    "duration": 40,
    "start_time": "2024-04-26T14:07:46.343Z"
   },
   {
    "duration": 264,
    "start_time": "2024-04-26T14:07:46.384Z"
   },
   {
    "duration": 363,
    "start_time": "2024-04-26T14:07:46.649Z"
   },
   {
    "duration": 186,
    "start_time": "2024-04-26T14:07:47.015Z"
   },
   {
    "duration": 283,
    "start_time": "2024-04-26T14:07:47.203Z"
   },
   {
    "duration": 177,
    "start_time": "2024-04-26T14:07:47.488Z"
   },
   {
    "duration": 193,
    "start_time": "2024-04-26T14:07:47.667Z"
   },
   {
    "duration": 162,
    "start_time": "2024-04-26T14:07:47.862Z"
   },
   {
    "duration": 197,
    "start_time": "2024-04-26T14:07:48.025Z"
   },
   {
    "duration": 405,
    "start_time": "2024-04-26T14:07:48.224Z"
   },
   {
    "duration": 399,
    "start_time": "2024-04-26T14:07:48.631Z"
   },
   {
    "duration": 289,
    "start_time": "2024-04-26T14:07:49.032Z"
   },
   {
    "duration": 219,
    "start_time": "2024-04-26T14:07:49.323Z"
   },
   {
    "duration": 207,
    "start_time": "2024-04-26T14:07:49.544Z"
   },
   {
    "duration": 216,
    "start_time": "2024-04-26T14:07:49.754Z"
   },
   {
    "duration": 227,
    "start_time": "2024-04-26T14:07:49.972Z"
   },
   {
    "duration": 197,
    "start_time": "2024-04-26T14:07:50.201Z"
   },
   {
    "duration": 647,
    "start_time": "2024-04-26T14:12:14.182Z"
   },
   {
    "duration": 112,
    "start_time": "2024-04-26T14:12:14.831Z"
   },
   {
    "duration": 36,
    "start_time": "2024-04-26T14:12:14.944Z"
   },
   {
    "duration": 2004,
    "start_time": "2024-04-26T14:12:14.982Z"
   },
   {
    "duration": 30,
    "start_time": "2024-04-26T14:12:16.988Z"
   },
   {
    "duration": 5,
    "start_time": "2024-04-26T14:12:17.019Z"
   },
   {
    "duration": 12,
    "start_time": "2024-04-26T14:12:17.026Z"
   },
   {
    "duration": 16,
    "start_time": "2024-04-26T14:12:17.039Z"
   },
   {
    "duration": 5,
    "start_time": "2024-04-26T14:12:17.056Z"
   },
   {
    "duration": 8,
    "start_time": "2024-04-26T14:12:17.063Z"
   },
   {
    "duration": 13,
    "start_time": "2024-04-26T14:12:17.072Z"
   },
   {
    "duration": 16,
    "start_time": "2024-04-26T14:12:17.087Z"
   },
   {
    "duration": 4,
    "start_time": "2024-04-26T14:12:17.105Z"
   },
   {
    "duration": 18,
    "start_time": "2024-04-26T14:12:17.113Z"
   },
   {
    "duration": 34,
    "start_time": "2024-04-26T14:12:17.132Z"
   },
   {
    "duration": 18,
    "start_time": "2024-04-26T14:12:17.169Z"
   },
   {
    "duration": 52,
    "start_time": "2024-04-26T14:12:17.188Z"
   },
   {
    "duration": 35,
    "start_time": "2024-04-26T14:12:17.242Z"
   },
   {
    "duration": 19,
    "start_time": "2024-04-26T14:12:17.278Z"
   },
   {
    "duration": 11,
    "start_time": "2024-04-26T14:12:17.299Z"
   },
   {
    "duration": 7,
    "start_time": "2024-04-26T14:12:17.311Z"
   },
   {
    "duration": 4,
    "start_time": "2024-04-26T14:12:17.320Z"
   },
   {
    "duration": 36,
    "start_time": "2024-04-26T14:12:17.325Z"
   },
   {
    "duration": 6,
    "start_time": "2024-04-26T14:12:17.362Z"
   },
   {
    "duration": 7,
    "start_time": "2024-04-26T14:12:17.369Z"
   },
   {
    "duration": 348,
    "start_time": "2024-04-26T14:12:17.378Z"
   },
   {
    "duration": 5,
    "start_time": "2024-04-26T14:12:17.727Z"
   },
   {
    "duration": 36,
    "start_time": "2024-04-26T14:12:17.733Z"
   },
   {
    "duration": 298,
    "start_time": "2024-04-26T14:12:17.770Z"
   },
   {
    "duration": 337,
    "start_time": "2024-04-26T14:12:18.069Z"
   },
   {
    "duration": 165,
    "start_time": "2024-04-26T14:12:18.408Z"
   },
   {
    "duration": 288,
    "start_time": "2024-04-26T14:12:18.575Z"
   },
   {
    "duration": 165,
    "start_time": "2024-04-26T14:12:18.864Z"
   },
   {
    "duration": 179,
    "start_time": "2024-04-26T14:12:19.030Z"
   },
   {
    "duration": 176,
    "start_time": "2024-04-26T14:12:19.211Z"
   },
   {
    "duration": 209,
    "start_time": "2024-04-26T14:12:19.389Z"
   },
   {
    "duration": 386,
    "start_time": "2024-04-26T14:12:19.600Z"
   },
   {
    "duration": 374,
    "start_time": "2024-04-26T14:12:19.988Z"
   },
   {
    "duration": 281,
    "start_time": "2024-04-26T14:12:20.365Z"
   },
   {
    "duration": 202,
    "start_time": "2024-04-26T14:12:20.649Z"
   },
   {
    "duration": 211,
    "start_time": "2024-04-26T14:12:20.860Z"
   },
   {
    "duration": 215,
    "start_time": "2024-04-26T14:12:21.073Z"
   },
   {
    "duration": 206,
    "start_time": "2024-04-26T14:12:21.290Z"
   },
   {
    "duration": 185,
    "start_time": "2024-04-26T14:12:21.498Z"
   },
   {
    "duration": 217,
    "start_time": "2024-04-26T14:12:21.685Z"
   },
   {
    "duration": 5,
    "start_time": "2024-04-26T14:12:21.903Z"
   },
   {
    "duration": 180,
    "start_time": "2024-04-26T14:12:46.775Z"
   },
   {
    "duration": 268,
    "start_time": "2024-04-26T14:12:47.279Z"
   },
   {
    "duration": 194,
    "start_time": "2024-04-26T14:13:23.924Z"
   },
   {
    "duration": 179,
    "start_time": "2024-04-26T14:13:34.133Z"
   },
   {
    "duration": 68,
    "start_time": "2024-04-26T14:14:48.244Z"
   },
   {
    "duration": 10,
    "start_time": "2024-04-26T14:41:31.383Z"
   },
   {
    "duration": 6,
    "start_time": "2024-04-26T14:41:53.367Z"
   },
   {
    "duration": 78,
    "start_time": "2024-04-26T14:42:09.885Z"
   },
   {
    "duration": 8,
    "start_time": "2024-04-26T14:42:11.721Z"
   },
   {
    "duration": 8,
    "start_time": "2024-04-26T14:43:25.022Z"
   },
   {
    "duration": 17,
    "start_time": "2024-04-26T14:53:29.684Z"
   },
   {
    "duration": 14,
    "start_time": "2024-04-26T14:54:11.730Z"
   },
   {
    "duration": 17,
    "start_time": "2024-04-26T14:54:32.062Z"
   },
   {
    "duration": 16,
    "start_time": "2024-04-26T14:56:15.097Z"
   },
   {
    "duration": 11,
    "start_time": "2024-04-26T15:00:02.049Z"
   },
   {
    "duration": 9,
    "start_time": "2024-04-26T15:08:15.021Z"
   },
   {
    "duration": 21,
    "start_time": "2024-04-26T15:08:44.420Z"
   },
   {
    "duration": 19,
    "start_time": "2024-04-26T15:09:37.475Z"
   },
   {
    "duration": 20,
    "start_time": "2024-04-26T15:12:00.381Z"
   },
   {
    "duration": 16,
    "start_time": "2024-04-26T15:12:21.995Z"
   },
   {
    "duration": 14,
    "start_time": "2024-04-26T15:13:03.759Z"
   },
   {
    "duration": 13,
    "start_time": "2024-04-26T15:13:13.686Z"
   },
   {
    "duration": 16,
    "start_time": "2024-04-26T15:13:21.097Z"
   },
   {
    "duration": 17,
    "start_time": "2024-04-26T15:15:43.082Z"
   },
   {
    "duration": 25,
    "start_time": "2024-04-26T15:17:20.725Z"
   },
   {
    "duration": 28,
    "start_time": "2024-04-26T15:18:42.846Z"
   },
   {
    "duration": 26,
    "start_time": "2024-04-26T15:19:08.914Z"
   },
   {
    "duration": 27,
    "start_time": "2024-04-26T15:19:25.300Z"
   },
   {
    "duration": 26,
    "start_time": "2024-04-26T15:19:29.675Z"
   },
   {
    "duration": 26,
    "start_time": "2024-04-26T15:22:14.278Z"
   },
   {
    "duration": 28,
    "start_time": "2024-04-26T15:23:24.303Z"
   },
   {
    "duration": 27,
    "start_time": "2024-04-26T15:23:41.853Z"
   },
   {
    "duration": 4,
    "start_time": "2024-04-26T15:23:43.797Z"
   },
   {
    "duration": 4,
    "start_time": "2024-04-26T15:23:44.898Z"
   },
   {
    "duration": 694,
    "start_time": "2024-04-26T15:24:14.543Z"
   },
   {
    "duration": 16,
    "start_time": "2024-04-26T15:25:12.915Z"
   },
   {
    "duration": 7,
    "start_time": "2024-04-26T15:25:25.610Z"
   },
   {
    "duration": 36,
    "start_time": "2024-04-26T15:25:57.991Z"
   },
   {
    "duration": 8,
    "start_time": "2024-04-26T15:26:01.357Z"
   },
   {
    "duration": 8,
    "start_time": "2024-04-26T15:26:03.119Z"
   },
   {
    "duration": 17,
    "start_time": "2024-04-26T15:27:15.635Z"
   },
   {
    "duration": 27,
    "start_time": "2024-04-26T15:27:19.994Z"
   },
   {
    "duration": 33,
    "start_time": "2024-04-26T15:27:24.274Z"
   },
   {
    "duration": 28,
    "start_time": "2024-04-26T15:27:30.254Z"
   },
   {
    "duration": 29,
    "start_time": "2024-04-26T15:27:35.603Z"
   },
   {
    "duration": 9,
    "start_time": "2024-04-26T15:29:26.161Z"
   },
   {
    "duration": 27,
    "start_time": "2024-04-26T15:30:55.955Z"
   },
   {
    "duration": 9,
    "start_time": "2024-04-26T15:51:37.925Z"
   },
   {
    "duration": 42,
    "start_time": "2024-04-26T15:56:01.960Z"
   },
   {
    "duration": 18,
    "start_time": "2024-04-26T15:56:32.620Z"
   },
   {
    "duration": 658,
    "start_time": "2024-04-26T15:57:21.325Z"
   },
   {
    "duration": 120,
    "start_time": "2024-04-26T15:57:21.985Z"
   },
   {
    "duration": 33,
    "start_time": "2024-04-26T15:57:22.107Z"
   },
   {
    "duration": 2052,
    "start_time": "2024-04-26T15:57:22.142Z"
   },
   {
    "duration": 39,
    "start_time": "2024-04-26T15:57:24.196Z"
   },
   {
    "duration": 4,
    "start_time": "2024-04-26T15:57:24.240Z"
   },
   {
    "duration": 71,
    "start_time": "2024-04-26T15:57:24.246Z"
   },
   {
    "duration": 39,
    "start_time": "2024-04-26T15:57:24.319Z"
   },
   {
    "duration": 17,
    "start_time": "2024-04-26T15:57:24.360Z"
   },
   {
    "duration": 22,
    "start_time": "2024-04-26T15:57:24.380Z"
   },
   {
    "duration": 21,
    "start_time": "2024-04-26T15:57:24.404Z"
   },
   {
    "duration": 38,
    "start_time": "2024-04-26T15:57:24.427Z"
   },
   {
    "duration": 12,
    "start_time": "2024-04-26T15:57:24.467Z"
   },
   {
    "duration": 12,
    "start_time": "2024-04-26T15:57:24.481Z"
   },
   {
    "duration": 60,
    "start_time": "2024-04-26T15:57:24.495Z"
   },
   {
    "duration": 29,
    "start_time": "2024-04-26T15:57:24.556Z"
   },
   {
    "duration": 58,
    "start_time": "2024-04-26T15:57:24.587Z"
   },
   {
    "duration": 33,
    "start_time": "2024-04-26T15:57:24.646Z"
   },
   {
    "duration": 20,
    "start_time": "2024-04-26T15:57:24.681Z"
   },
   {
    "duration": 31,
    "start_time": "2024-04-26T15:57:24.702Z"
   },
   {
    "duration": 26,
    "start_time": "2024-04-26T15:57:24.736Z"
   },
   {
    "duration": 15,
    "start_time": "2024-04-26T15:57:24.763Z"
   },
   {
    "duration": 21,
    "start_time": "2024-04-26T15:57:24.779Z"
   },
   {
    "duration": 24,
    "start_time": "2024-04-26T15:57:24.802Z"
   },
   {
    "duration": 29,
    "start_time": "2024-04-26T15:57:24.828Z"
   },
   {
    "duration": 349,
    "start_time": "2024-04-26T15:57:24.859Z"
   },
   {
    "duration": 5,
    "start_time": "2024-04-26T15:57:25.209Z"
   },
   {
    "duration": 47,
    "start_time": "2024-04-26T15:57:25.217Z"
   },
   {
    "duration": 293,
    "start_time": "2024-04-26T15:57:25.265Z"
   },
   {
    "duration": 353,
    "start_time": "2024-04-26T15:57:25.559Z"
   },
   {
    "duration": 179,
    "start_time": "2024-04-26T15:57:25.913Z"
   },
   {
    "duration": 331,
    "start_time": "2024-04-26T15:57:26.094Z"
   },
   {
    "duration": 173,
    "start_time": "2024-04-26T15:57:26.427Z"
   },
   {
    "duration": 196,
    "start_time": "2024-04-26T15:57:26.602Z"
   },
   {
    "duration": 165,
    "start_time": "2024-04-26T15:57:26.800Z"
   },
   {
    "duration": 277,
    "start_time": "2024-04-26T15:57:26.967Z"
   },
   {
    "duration": 422,
    "start_time": "2024-04-26T15:57:27.245Z"
   },
   {
    "duration": 451,
    "start_time": "2024-04-26T15:57:27.669Z"
   },
   {
    "duration": 290,
    "start_time": "2024-04-26T15:57:28.122Z"
   },
   {
    "duration": 191,
    "start_time": "2024-04-26T15:57:28.414Z"
   },
   {
    "duration": 235,
    "start_time": "2024-04-26T15:57:28.606Z"
   },
   {
    "duration": 199,
    "start_time": "2024-04-26T15:57:28.843Z"
   },
   {
    "duration": 229,
    "start_time": "2024-04-26T15:57:29.043Z"
   },
   {
    "duration": 239,
    "start_time": "2024-04-26T15:57:29.274Z"
   },
   {
    "duration": 234,
    "start_time": "2024-04-26T15:57:29.515Z"
   },
   {
    "duration": 237,
    "start_time": "2024-04-26T15:57:29.752Z"
   },
   {
    "duration": 305,
    "start_time": "2024-04-26T15:57:29.991Z"
   },
   {
    "duration": 29,
    "start_time": "2024-04-26T15:57:30.298Z"
   },
   {
    "duration": 51,
    "start_time": "2024-04-26T15:57:30.329Z"
   },
   {
    "duration": 90,
    "start_time": "2024-04-26T15:57:30.382Z"
   },
   {
    "duration": 129,
    "start_time": "2024-04-26T15:57:30.474Z"
   },
   {
    "duration": 23,
    "start_time": "2024-04-26T15:58:26.335Z"
   },
   {
    "duration": 17,
    "start_time": "2024-04-26T15:58:46.257Z"
   },
   {
    "duration": 8,
    "start_time": "2024-04-26T15:59:56.106Z"
   },
   {
    "duration": 7,
    "start_time": "2024-04-26T16:00:03.699Z"
   },
   {
    "duration": 42,
    "start_time": "2024-04-26T16:00:15.328Z"
   },
   {
    "duration": 160,
    "start_time": "2024-04-26T16:00:51.469Z"
   },
   {
    "duration": 181,
    "start_time": "2024-04-26T16:00:59.962Z"
   },
   {
    "duration": 216,
    "start_time": "2024-04-26T16:01:26.162Z"
   },
   {
    "duration": 18,
    "start_time": "2024-04-26T16:07:30.535Z"
   },
   {
    "duration": 14,
    "start_time": "2024-04-26T16:08:04.172Z"
   },
   {
    "duration": 14,
    "start_time": "2024-04-26T16:09:13.125Z"
   },
   {
    "duration": 13,
    "start_time": "2024-04-26T16:09:24.094Z"
   },
   {
    "duration": 46,
    "start_time": "2024-04-26T16:09:56.415Z"
   },
   {
    "duration": 14,
    "start_time": "2024-04-26T16:11:12.784Z"
   },
   {
    "duration": 18,
    "start_time": "2024-04-26T16:11:24.531Z"
   },
   {
    "duration": 19,
    "start_time": "2024-04-26T16:11:42.554Z"
   },
   {
    "duration": 17,
    "start_time": "2024-04-26T16:11:54.196Z"
   },
   {
    "duration": 19,
    "start_time": "2024-04-26T16:12:16.798Z"
   },
   {
    "duration": 12,
    "start_time": "2024-04-26T16:14:50.716Z"
   },
   {
    "duration": 45,
    "start_time": "2024-04-26T16:15:03.127Z"
   },
   {
    "duration": 58,
    "start_time": "2024-04-26T16:15:07.674Z"
   },
   {
    "duration": 13,
    "start_time": "2024-04-26T16:15:34.570Z"
   },
   {
    "duration": 12,
    "start_time": "2024-04-26T16:15:46.970Z"
   },
   {
    "duration": 13,
    "start_time": "2024-04-26T16:16:37.426Z"
   },
   {
    "duration": 13,
    "start_time": "2024-04-26T16:17:10.852Z"
   },
   {
    "duration": 14,
    "start_time": "2024-04-26T16:17:26.182Z"
   },
   {
    "duration": 20,
    "start_time": "2024-04-26T16:17:49.520Z"
   },
   {
    "duration": 647,
    "start_time": "2024-04-26T17:14:09.042Z"
   },
   {
    "duration": 111,
    "start_time": "2024-04-26T17:14:09.691Z"
   },
   {
    "duration": 31,
    "start_time": "2024-04-26T17:14:09.803Z"
   },
   {
    "duration": 1919,
    "start_time": "2024-04-26T17:14:09.835Z"
   },
   {
    "duration": 25,
    "start_time": "2024-04-26T17:14:11.756Z"
   },
   {
    "duration": 5,
    "start_time": "2024-04-26T17:14:11.782Z"
   },
   {
    "duration": 9,
    "start_time": "2024-04-26T17:14:11.788Z"
   },
   {
    "duration": 9,
    "start_time": "2024-04-26T17:14:11.798Z"
   },
   {
    "duration": 5,
    "start_time": "2024-04-26T17:14:11.809Z"
   },
   {
    "duration": 6,
    "start_time": "2024-04-26T17:14:11.817Z"
   },
   {
    "duration": 39,
    "start_time": "2024-04-26T17:14:11.824Z"
   },
   {
    "duration": 8,
    "start_time": "2024-04-26T17:14:11.864Z"
   },
   {
    "duration": 3,
    "start_time": "2024-04-26T17:14:11.874Z"
   },
   {
    "duration": 4,
    "start_time": "2024-04-26T17:14:11.879Z"
   },
   {
    "duration": 21,
    "start_time": "2024-04-26T17:14:11.884Z"
   },
   {
    "duration": 18,
    "start_time": "2024-04-26T17:14:11.908Z"
   },
   {
    "duration": 55,
    "start_time": "2024-04-26T17:14:11.962Z"
   },
   {
    "duration": 20,
    "start_time": "2024-04-26T17:14:12.019Z"
   },
   {
    "duration": 35,
    "start_time": "2024-04-26T17:14:12.041Z"
   },
   {
    "duration": 11,
    "start_time": "2024-04-26T17:14:12.077Z"
   },
   {
    "duration": 7,
    "start_time": "2024-04-26T17:14:12.090Z"
   },
   {
    "duration": 4,
    "start_time": "2024-04-26T17:14:12.099Z"
   },
   {
    "duration": 18,
    "start_time": "2024-04-26T17:14:12.105Z"
   },
   {
    "duration": 13,
    "start_time": "2024-04-26T17:14:12.125Z"
   },
   {
    "duration": 6,
    "start_time": "2024-04-26T17:14:12.160Z"
   },
   {
    "duration": 375,
    "start_time": "2024-04-26T17:14:12.168Z"
   },
   {
    "duration": 4,
    "start_time": "2024-04-26T17:14:12.544Z"
   },
   {
    "duration": 23,
    "start_time": "2024-04-26T17:14:12.560Z"
   },
   {
    "duration": 271,
    "start_time": "2024-04-26T17:14:12.584Z"
   },
   {
    "duration": 332,
    "start_time": "2024-04-26T17:14:12.857Z"
   },
   {
    "duration": 172,
    "start_time": "2024-04-26T17:14:13.191Z"
   },
   {
    "duration": 303,
    "start_time": "2024-04-26T17:14:13.365Z"
   },
   {
    "duration": 178,
    "start_time": "2024-04-26T17:14:13.669Z"
   },
   {
    "duration": 213,
    "start_time": "2024-04-26T17:14:13.849Z"
   },
   {
    "duration": 147,
    "start_time": "2024-04-26T17:14:14.064Z"
   },
   {
    "duration": 187,
    "start_time": "2024-04-26T17:14:14.213Z"
   },
   {
    "duration": 374,
    "start_time": "2024-04-26T17:14:14.402Z"
   },
   {
    "duration": 366,
    "start_time": "2024-04-26T17:14:14.778Z"
   },
   {
    "duration": 283,
    "start_time": "2024-04-26T17:14:15.146Z"
   },
   {
    "duration": 208,
    "start_time": "2024-04-26T17:14:15.431Z"
   },
   {
    "duration": 211,
    "start_time": "2024-04-26T17:14:15.641Z"
   },
   {
    "duration": 188,
    "start_time": "2024-04-26T17:14:15.853Z"
   },
   {
    "duration": 202,
    "start_time": "2024-04-26T17:14:16.043Z"
   },
   {
    "duration": 174,
    "start_time": "2024-04-26T17:14:16.246Z"
   },
   {
    "duration": 185,
    "start_time": "2024-04-26T17:14:16.421Z"
   },
   {
    "duration": 180,
    "start_time": "2024-04-26T17:14:16.607Z"
   },
   {
    "duration": 282,
    "start_time": "2024-04-26T17:14:16.789Z"
   },
   {
    "duration": 41,
    "start_time": "2024-04-26T17:14:17.074Z"
   },
   {
    "duration": 11,
    "start_time": "2024-04-26T17:14:17.118Z"
   },
   {
    "duration": 33,
    "start_time": "2024-04-26T17:14:17.131Z"
   },
   {
    "duration": 187,
    "start_time": "2024-04-26T17:14:17.166Z"
   },
   {
    "duration": 23,
    "start_time": "2024-04-26T17:14:17.355Z"
   },
   {
    "duration": 49,
    "start_time": "2024-04-26T17:20:44.711Z"
   },
   {
    "duration": 38,
    "start_time": "2024-04-26T17:20:49.955Z"
   },
   {
    "duration": 579,
    "start_time": "2024-04-27T05:50:49.266Z"
   },
   {
    "duration": 94,
    "start_time": "2024-04-27T05:50:52.685Z"
   },
   {
    "duration": 26,
    "start_time": "2024-04-27T05:50:55.249Z"
   },
   {
    "duration": 1509,
    "start_time": "2024-04-27T05:50:58.208Z"
   },
   {
    "duration": 21,
    "start_time": "2024-04-27T05:51:26.292Z"
   },
   {
    "duration": 4,
    "start_time": "2024-04-27T05:51:29.370Z"
   },
   {
    "duration": 8,
    "start_time": "2024-04-27T05:51:35.293Z"
   },
   {
    "duration": 7,
    "start_time": "2024-04-27T05:51:36.745Z"
   },
   {
    "duration": 4,
    "start_time": "2024-04-27T05:51:39.581Z"
   },
   {
    "duration": 5,
    "start_time": "2024-04-27T05:51:46.641Z"
   },
   {
    "duration": 3,
    "start_time": "2024-04-27T05:52:15.109Z"
   },
   {
    "duration": 4,
    "start_time": "2024-04-27T05:52:20.269Z"
   },
   {
    "duration": 2,
    "start_time": "2024-04-27T05:53:42.398Z"
   },
   {
    "duration": 13,
    "start_time": "2024-04-27T05:58:05.901Z"
   },
   {
    "duration": 13,
    "start_time": "2024-04-27T05:58:15.537Z"
   },
   {
    "duration": 31,
    "start_time": "2024-04-27T05:58:21.746Z"
   },
   {
    "duration": 28,
    "start_time": "2024-04-27T05:58:56.232Z"
   },
   {
    "duration": 38,
    "start_time": "2024-04-27T05:59:15.058Z"
   },
   {
    "duration": 5,
    "start_time": "2024-04-27T05:59:40.856Z"
   },
   {
    "duration": 8,
    "start_time": "2024-04-27T05:59:57.944Z"
   },
   {
    "duration": 6,
    "start_time": "2024-04-27T06:00:09.206Z"
   },
   {
    "duration": 2,
    "start_time": "2024-04-27T06:00:18.937Z"
   },
   {
    "duration": 105,
    "start_time": "2024-04-27T06:00:18.941Z"
   },
   {
    "duration": 23,
    "start_time": "2024-04-27T06:00:19.049Z"
   },
   {
    "duration": 1584,
    "start_time": "2024-04-27T06:00:19.073Z"
   },
   {
    "duration": 17,
    "start_time": "2024-04-27T06:00:20.659Z"
   },
   {
    "duration": 18,
    "start_time": "2024-04-27T06:00:20.677Z"
   },
   {
    "duration": 34,
    "start_time": "2024-04-27T06:00:20.696Z"
   },
   {
    "duration": 15,
    "start_time": "2024-04-27T06:00:20.731Z"
   },
   {
    "duration": 36,
    "start_time": "2024-04-27T06:00:20.748Z"
   },
   {
    "duration": 30,
    "start_time": "2024-04-27T06:00:20.785Z"
   },
   {
    "duration": 19,
    "start_time": "2024-04-27T06:00:20.817Z"
   },
   {
    "duration": 26,
    "start_time": "2024-04-27T06:00:20.838Z"
   },
   {
    "duration": 7,
    "start_time": "2024-04-27T06:00:22.999Z"
   },
   {
    "duration": 7,
    "start_time": "2024-04-27T06:00:26.242Z"
   },
   {
    "duration": 6,
    "start_time": "2024-04-27T06:01:53.466Z"
   },
   {
    "duration": 6,
    "start_time": "2024-04-27T06:01:56.762Z"
   },
   {
    "duration": 3,
    "start_time": "2024-04-27T06:02:34.856Z"
   },
   {
    "duration": 15,
    "start_time": "2024-04-27T06:02:39.388Z"
   },
   {
    "duration": 15,
    "start_time": "2024-04-27T06:02:42.085Z"
   },
   {
    "duration": 43,
    "start_time": "2024-04-27T06:02:42.909Z"
   },
   {
    "duration": 15,
    "start_time": "2024-04-27T06:02:43.830Z"
   },
   {
    "duration": 14,
    "start_time": "2024-04-27T06:02:45.893Z"
   },
   {
    "duration": 8,
    "start_time": "2024-04-27T06:02:47.865Z"
   },
   {
    "duration": 7,
    "start_time": "2024-04-27T06:02:49.002Z"
   },
   {
    "duration": 3,
    "start_time": "2024-04-27T06:03:18.484Z"
   },
   {
    "duration": 5,
    "start_time": "2024-04-27T06:03:19.178Z"
   },
   {
    "duration": 4,
    "start_time": "2024-04-27T06:03:19.856Z"
   },
   {
    "duration": 4,
    "start_time": "2024-04-27T06:03:20.484Z"
   },
   {
    "duration": 307,
    "start_time": "2024-04-27T06:03:54.896Z"
   },
   {
    "duration": 5,
    "start_time": "2024-04-27T06:04:08.703Z"
   },
   {
    "duration": 12,
    "start_time": "2024-04-27T06:04:43.555Z"
   },
   {
    "duration": 46,
    "start_time": "2024-04-27T06:04:52.880Z"
   },
   {
    "duration": 4,
    "start_time": "2024-04-27T06:05:18.548Z"
   },
   {
    "duration": 18,
    "start_time": "2024-04-27T06:05:31.747Z"
   },
   {
    "duration": 69,
    "start_time": "2024-04-27T06:09:55.593Z"
   },
   {
    "duration": 21,
    "start_time": "2024-04-27T06:13:03.744Z"
   },
   {
    "duration": 62,
    "start_time": "2024-04-27T09:00:32.130Z"
   },
   {
    "duration": 6,
    "start_time": "2024-04-27T09:00:47.445Z"
   },
   {
    "duration": 820,
    "start_time": "2024-04-27T09:00:56.546Z"
   },
   {
    "duration": 245,
    "start_time": "2024-04-27T09:00:57.368Z"
   },
   {
    "duration": 32,
    "start_time": "2024-04-27T09:00:57.615Z"
   },
   {
    "duration": 2035,
    "start_time": "2024-04-27T09:00:57.649Z"
   },
   {
    "duration": 25,
    "start_time": "2024-04-27T09:00:59.686Z"
   },
   {
    "duration": 5,
    "start_time": "2024-04-27T09:00:59.713Z"
   },
   {
    "duration": 10,
    "start_time": "2024-04-27T09:00:59.719Z"
   },
   {
    "duration": 10,
    "start_time": "2024-04-27T09:00:59.730Z"
   },
   {
    "duration": 5,
    "start_time": "2024-04-27T09:00:59.742Z"
   },
   {
    "duration": 7,
    "start_time": "2024-04-27T09:00:59.783Z"
   },
   {
    "duration": 8,
    "start_time": "2024-04-27T09:00:59.792Z"
   },
   {
    "duration": 3,
    "start_time": "2024-04-27T09:00:59.802Z"
   },
   {
    "duration": 6,
    "start_time": "2024-04-27T09:00:59.806Z"
   },
   {
    "duration": 7,
    "start_time": "2024-04-27T09:00:59.813Z"
   },
   {
    "duration": 5,
    "start_time": "2024-04-27T09:00:59.822Z"
   },
   {
    "duration": 5,
    "start_time": "2024-04-27T09:00:59.828Z"
   },
   {
    "duration": 63,
    "start_time": "2024-04-27T09:00:59.835Z"
   },
   {
    "duration": 26,
    "start_time": "2024-04-27T09:00:59.900Z"
   },
   {
    "duration": 105,
    "start_time": "2024-04-27T09:00:59.928Z"
   },
   {
    "duration": 20,
    "start_time": "2024-04-27T09:01:00.035Z"
   },
   {
    "duration": 47,
    "start_time": "2024-04-27T09:01:00.057Z"
   },
   {
    "duration": 50,
    "start_time": "2024-04-27T09:01:00.105Z"
   },
   {
    "duration": 43,
    "start_time": "2024-04-27T09:01:00.157Z"
   },
   {
    "duration": 64,
    "start_time": "2024-04-27T09:01:00.202Z"
   },
   {
    "duration": 88,
    "start_time": "2024-04-27T09:01:00.268Z"
   },
   {
    "duration": 52,
    "start_time": "2024-04-27T09:01:00.358Z"
   },
   {
    "duration": 43,
    "start_time": "2024-04-27T09:01:00.411Z"
   },
   {
    "duration": 384,
    "start_time": "2024-04-27T09:01:00.457Z"
   },
   {
    "duration": 5,
    "start_time": "2024-04-27T09:01:00.842Z"
   },
   {
    "duration": 104,
    "start_time": "2024-04-27T09:01:00.848Z"
   },
   {
    "duration": 278,
    "start_time": "2024-04-27T09:01:00.954Z"
   },
   {
    "duration": 364,
    "start_time": "2024-04-27T09:01:01.234Z"
   },
   {
    "duration": 171,
    "start_time": "2024-04-27T09:01:01.600Z"
   },
   {
    "duration": 301,
    "start_time": "2024-04-27T09:01:01.773Z"
   },
   {
    "duration": 164,
    "start_time": "2024-04-27T09:01:02.081Z"
   },
   {
    "duration": 186,
    "start_time": "2024-04-27T09:01:02.247Z"
   },
   {
    "duration": 177,
    "start_time": "2024-04-27T09:01:02.435Z"
   },
   {
    "duration": 203,
    "start_time": "2024-04-27T09:01:02.614Z"
   },
   {
    "duration": 454,
    "start_time": "2024-04-27T09:01:02.818Z"
   },
   {
    "duration": 391,
    "start_time": "2024-04-27T09:01:03.274Z"
   },
   {
    "duration": 280,
    "start_time": "2024-04-27T09:01:03.666Z"
   },
   {
    "duration": 196,
    "start_time": "2024-04-27T09:01:03.948Z"
   },
   {
    "duration": 214,
    "start_time": "2024-04-27T09:01:04.145Z"
   },
   {
    "duration": 202,
    "start_time": "2024-04-27T09:01:04.361Z"
   },
   {
    "duration": 206,
    "start_time": "2024-04-27T09:01:04.564Z"
   },
   {
    "duration": 192,
    "start_time": "2024-04-27T09:01:04.772Z"
   },
   {
    "duration": 197,
    "start_time": "2024-04-27T09:01:04.965Z"
   },
   {
    "duration": 190,
    "start_time": "2024-04-27T09:01:05.164Z"
   },
   {
    "duration": 272,
    "start_time": "2024-04-27T09:01:05.356Z"
   },
   {
    "duration": 27,
    "start_time": "2024-04-27T09:01:05.630Z"
   },
   {
    "duration": 7,
    "start_time": "2024-04-27T09:01:05.658Z"
   },
   {
    "duration": 8,
    "start_time": "2024-04-27T09:01:05.681Z"
   },
   {
    "duration": 184,
    "start_time": "2024-04-27T09:01:05.691Z"
   },
   {
    "duration": 24,
    "start_time": "2024-04-27T09:01:05.877Z"
   },
   {
    "duration": 7,
    "start_time": "2024-04-27T09:01:25.864Z"
   },
   {
    "duration": 5,
    "start_time": "2024-04-27T09:01:27.704Z"
   },
   {
    "duration": 6,
    "start_time": "2024-04-27T09:01:31.832Z"
   },
   {
    "duration": 3,
    "start_time": "2024-04-27T09:01:34.317Z"
   },
   {
    "duration": 8,
    "start_time": "2024-04-27T09:01:35.158Z"
   },
   {
    "duration": 4,
    "start_time": "2024-04-27T09:03:28.659Z"
   },
   {
    "duration": 5,
    "start_time": "2024-04-27T09:03:29.338Z"
   },
   {
    "duration": 6,
    "start_time": "2024-04-27T09:03:40.817Z"
   },
   {
    "duration": 6,
    "start_time": "2024-04-27T09:06:45.798Z"
   },
   {
    "duration": 6,
    "start_time": "2024-04-27T09:06:48.505Z"
   },
   {
    "duration": 608,
    "start_time": "2024-04-27T09:07:27.731Z"
   },
   {
    "duration": 118,
    "start_time": "2024-04-27T09:07:28.341Z"
   },
   {
    "duration": 43,
    "start_time": "2024-04-27T09:07:28.460Z"
   },
   {
    "duration": 2148,
    "start_time": "2024-04-27T09:07:28.504Z"
   },
   {
    "duration": 26,
    "start_time": "2024-04-27T09:07:30.655Z"
   },
   {
    "duration": 31,
    "start_time": "2024-04-27T09:07:30.695Z"
   },
   {
    "duration": 90,
    "start_time": "2024-04-27T09:07:30.728Z"
   },
   {
    "duration": 71,
    "start_time": "2024-04-27T09:07:30.820Z"
   },
   {
    "duration": 31,
    "start_time": "2024-04-27T09:07:30.892Z"
   },
   {
    "duration": 33,
    "start_time": "2024-04-27T09:07:30.925Z"
   },
   {
    "duration": 69,
    "start_time": "2024-04-27T09:07:30.959Z"
   },
   {
    "duration": 32,
    "start_time": "2024-04-27T09:07:31.029Z"
   },
   {
    "duration": 58,
    "start_time": "2024-04-27T09:07:31.062Z"
   },
   {
    "duration": 67,
    "start_time": "2024-04-27T09:07:31.124Z"
   },
   {
    "duration": 39,
    "start_time": "2024-04-27T09:07:31.194Z"
   },
   {
    "duration": 78,
    "start_time": "2024-04-27T09:07:31.234Z"
   },
   {
    "duration": 22,
    "start_time": "2024-04-27T09:07:31.313Z"
   },
   {
    "duration": 69,
    "start_time": "2024-04-27T09:07:31.337Z"
   },
   {
    "duration": 26,
    "start_time": "2024-04-27T09:07:31.408Z"
   },
   {
    "duration": 33,
    "start_time": "2024-04-27T09:07:31.436Z"
   },
   {
    "duration": 8,
    "start_time": "2024-04-27T09:07:31.471Z"
   },
   {
    "duration": 29,
    "start_time": "2024-04-27T09:07:31.482Z"
   },
   {
    "duration": 18,
    "start_time": "2024-04-27T09:07:31.513Z"
   },
   {
    "duration": 11,
    "start_time": "2024-04-27T09:07:31.532Z"
   },
   {
    "duration": 414,
    "start_time": "2024-04-27T09:07:31.545Z"
   },
   {
    "duration": 5,
    "start_time": "2024-04-27T09:07:31.961Z"
   },
   {
    "duration": 50,
    "start_time": "2024-04-27T09:07:31.967Z"
   },
   {
    "duration": 295,
    "start_time": "2024-04-27T09:07:32.019Z"
   },
   {
    "duration": 404,
    "start_time": "2024-04-27T09:07:32.315Z"
   },
   {
    "duration": 208,
    "start_time": "2024-04-27T09:07:32.721Z"
   },
   {
    "duration": 367,
    "start_time": "2024-04-27T09:07:32.932Z"
   },
   {
    "duration": 170,
    "start_time": "2024-04-27T09:07:33.300Z"
   },
   {
    "duration": 192,
    "start_time": "2024-04-27T09:07:33.472Z"
   },
   {
    "duration": 189,
    "start_time": "2024-04-27T09:07:33.666Z"
   },
   {
    "duration": 222,
    "start_time": "2024-04-27T09:07:33.856Z"
   },
   {
    "duration": 442,
    "start_time": "2024-04-27T09:07:34.083Z"
   },
   {
    "duration": 423,
    "start_time": "2024-04-27T09:07:34.527Z"
   },
   {
    "duration": 301,
    "start_time": "2024-04-27T09:07:34.951Z"
   },
   {
    "duration": 203,
    "start_time": "2024-04-27T09:07:35.254Z"
   },
   {
    "duration": 235,
    "start_time": "2024-04-27T09:07:35.459Z"
   },
   {
    "duration": 229,
    "start_time": "2024-04-27T09:07:35.699Z"
   },
   {
    "duration": 275,
    "start_time": "2024-04-27T09:07:35.930Z"
   },
   {
    "duration": 198,
    "start_time": "2024-04-27T09:07:36.207Z"
   },
   {
    "duration": 213,
    "start_time": "2024-04-27T09:07:36.407Z"
   },
   {
    "duration": 213,
    "start_time": "2024-04-27T09:07:36.621Z"
   },
   {
    "duration": 293,
    "start_time": "2024-04-27T09:07:36.836Z"
   },
   {
    "duration": 26,
    "start_time": "2024-04-27T09:07:37.131Z"
   },
   {
    "duration": 7,
    "start_time": "2024-04-27T09:07:37.158Z"
   },
   {
    "duration": 23,
    "start_time": "2024-04-27T09:07:37.167Z"
   },
   {
    "duration": 220,
    "start_time": "2024-04-27T09:07:37.192Z"
   },
   {
    "duration": 31,
    "start_time": "2024-04-27T09:07:37.414Z"
   },
   {
    "duration": 84,
    "start_time": "2024-04-27T09:08:17.767Z"
   },
   {
    "duration": 11,
    "start_time": "2024-04-27T09:08:38.145Z"
   },
   {
    "duration": 648,
    "start_time": "2024-04-27T09:08:56.885Z"
   },
   {
    "duration": 115,
    "start_time": "2024-04-27T09:08:57.535Z"
   },
   {
    "duration": 35,
    "start_time": "2024-04-27T09:08:57.652Z"
   },
   {
    "duration": 2084,
    "start_time": "2024-04-27T09:08:57.689Z"
   },
   {
    "duration": 25,
    "start_time": "2024-04-27T09:08:59.775Z"
   },
   {
    "duration": 4,
    "start_time": "2024-04-27T09:08:59.802Z"
   },
   {
    "duration": 12,
    "start_time": "2024-04-27T09:08:59.808Z"
   },
   {
    "duration": 19,
    "start_time": "2024-04-27T09:08:59.821Z"
   },
   {
    "duration": 5,
    "start_time": "2024-04-27T09:08:59.841Z"
   },
   {
    "duration": 12,
    "start_time": "2024-04-27T09:08:59.847Z"
   },
   {
    "duration": 89,
    "start_time": "2024-04-27T09:08:59.861Z"
   },
   {
    "duration": 0,
    "start_time": "2024-04-27T09:08:59.953Z"
   },
   {
    "duration": 0,
    "start_time": "2024-04-27T09:08:59.954Z"
   },
   {
    "duration": 0,
    "start_time": "2024-04-27T09:08:59.955Z"
   },
   {
    "duration": 0,
    "start_time": "2024-04-27T09:08:59.957Z"
   },
   {
    "duration": 0,
    "start_time": "2024-04-27T09:08:59.958Z"
   },
   {
    "duration": 0,
    "start_time": "2024-04-27T09:08:59.959Z"
   },
   {
    "duration": 0,
    "start_time": "2024-04-27T09:08:59.960Z"
   },
   {
    "duration": 0,
    "start_time": "2024-04-27T09:08:59.961Z"
   },
   {
    "duration": 0,
    "start_time": "2024-04-27T09:08:59.963Z"
   },
   {
    "duration": 0,
    "start_time": "2024-04-27T09:08:59.982Z"
   },
   {
    "duration": 0,
    "start_time": "2024-04-27T09:08:59.983Z"
   },
   {
    "duration": 0,
    "start_time": "2024-04-27T09:08:59.985Z"
   },
   {
    "duration": 0,
    "start_time": "2024-04-27T09:08:59.986Z"
   },
   {
    "duration": 0,
    "start_time": "2024-04-27T09:08:59.987Z"
   },
   {
    "duration": 0,
    "start_time": "2024-04-27T09:08:59.988Z"
   },
   {
    "duration": 0,
    "start_time": "2024-04-27T09:08:59.989Z"
   },
   {
    "duration": 0,
    "start_time": "2024-04-27T09:08:59.990Z"
   },
   {
    "duration": 0,
    "start_time": "2024-04-27T09:08:59.992Z"
   },
   {
    "duration": 0,
    "start_time": "2024-04-27T09:08:59.993Z"
   },
   {
    "duration": 0,
    "start_time": "2024-04-27T09:08:59.994Z"
   },
   {
    "duration": 0,
    "start_time": "2024-04-27T09:08:59.995Z"
   },
   {
    "duration": 0,
    "start_time": "2024-04-27T09:08:59.996Z"
   },
   {
    "duration": 0,
    "start_time": "2024-04-27T09:08:59.997Z"
   },
   {
    "duration": 0,
    "start_time": "2024-04-27T09:08:59.998Z"
   },
   {
    "duration": 0,
    "start_time": "2024-04-27T09:08:59.999Z"
   },
   {
    "duration": 0,
    "start_time": "2024-04-27T09:09:00.000Z"
   },
   {
    "duration": 0,
    "start_time": "2024-04-27T09:09:00.001Z"
   },
   {
    "duration": 0,
    "start_time": "2024-04-27T09:09:00.002Z"
   },
   {
    "duration": 0,
    "start_time": "2024-04-27T09:09:00.003Z"
   },
   {
    "duration": 0,
    "start_time": "2024-04-27T09:09:00.004Z"
   },
   {
    "duration": 0,
    "start_time": "2024-04-27T09:09:00.005Z"
   },
   {
    "duration": 0,
    "start_time": "2024-04-27T09:09:00.006Z"
   },
   {
    "duration": 0,
    "start_time": "2024-04-27T09:09:00.008Z"
   },
   {
    "duration": 0,
    "start_time": "2024-04-27T09:09:00.009Z"
   },
   {
    "duration": 0,
    "start_time": "2024-04-27T09:09:00.010Z"
   },
   {
    "duration": 0,
    "start_time": "2024-04-27T09:09:00.011Z"
   },
   {
    "duration": 0,
    "start_time": "2024-04-27T09:09:00.012Z"
   },
   {
    "duration": 0,
    "start_time": "2024-04-27T09:09:00.013Z"
   },
   {
    "duration": 0,
    "start_time": "2024-04-27T09:09:00.014Z"
   },
   {
    "duration": 0,
    "start_time": "2024-04-27T09:09:00.015Z"
   },
   {
    "duration": 0,
    "start_time": "2024-04-27T09:09:00.016Z"
   },
   {
    "duration": 0,
    "start_time": "2024-04-27T09:09:00.017Z"
   },
   {
    "duration": 4,
    "start_time": "2024-04-27T09:09:12.333Z"
   },
   {
    "duration": 6,
    "start_time": "2024-04-27T09:09:18.865Z"
   },
   {
    "duration": 630,
    "start_time": "2024-04-27T09:09:34.993Z"
   },
   {
    "duration": 115,
    "start_time": "2024-04-27T09:09:35.625Z"
   },
   {
    "duration": 41,
    "start_time": "2024-04-27T09:09:35.742Z"
   },
   {
    "duration": 2044,
    "start_time": "2024-04-27T09:09:35.785Z"
   },
   {
    "duration": 25,
    "start_time": "2024-04-27T09:09:37.831Z"
   },
   {
    "duration": 3,
    "start_time": "2024-04-27T09:09:37.858Z"
   },
   {
    "duration": 12,
    "start_time": "2024-04-27T09:09:37.863Z"
   },
   {
    "duration": 11,
    "start_time": "2024-04-27T09:09:37.882Z"
   },
   {
    "duration": 5,
    "start_time": "2024-04-27T09:09:37.895Z"
   },
   {
    "duration": 9,
    "start_time": "2024-04-27T09:09:37.903Z"
   },
   {
    "duration": 20,
    "start_time": "2024-04-27T09:09:37.914Z"
   },
   {
    "duration": 13,
    "start_time": "2024-04-27T09:09:37.936Z"
   },
   {
    "duration": 32,
    "start_time": "2024-04-27T09:09:37.951Z"
   },
   {
    "duration": 32,
    "start_time": "2024-04-27T09:09:37.985Z"
   },
   {
    "duration": 18,
    "start_time": "2024-04-27T09:09:38.019Z"
   },
   {
    "duration": 32,
    "start_time": "2024-04-27T09:09:38.038Z"
   },
   {
    "duration": 19,
    "start_time": "2024-04-27T09:09:38.071Z"
   },
   {
    "duration": 53,
    "start_time": "2024-04-27T09:09:38.092Z"
   },
   {
    "duration": 20,
    "start_time": "2024-04-27T09:09:38.147Z"
   },
   {
    "duration": 30,
    "start_time": "2024-04-27T09:09:38.168Z"
   },
   {
    "duration": 12,
    "start_time": "2024-04-27T09:09:38.199Z"
   },
   {
    "duration": 8,
    "start_time": "2024-04-27T09:09:38.213Z"
   },
   {
    "duration": 4,
    "start_time": "2024-04-27T09:09:38.222Z"
   },
   {
    "duration": 9,
    "start_time": "2024-04-27T09:09:38.227Z"
   },
   {
    "duration": 13,
    "start_time": "2024-04-27T09:09:38.237Z"
   },
   {
    "duration": 32,
    "start_time": "2024-04-27T09:09:38.251Z"
   },
   {
    "duration": 356,
    "start_time": "2024-04-27T09:09:38.285Z"
   },
   {
    "duration": 4,
    "start_time": "2024-04-27T09:09:38.644Z"
   },
   {
    "duration": 33,
    "start_time": "2024-04-27T09:09:38.650Z"
   },
   {
    "duration": 277,
    "start_time": "2024-04-27T09:09:38.684Z"
   },
   {
    "duration": 369,
    "start_time": "2024-04-27T09:09:38.963Z"
   },
   {
    "duration": 187,
    "start_time": "2024-04-27T09:09:39.333Z"
   },
   {
    "duration": 300,
    "start_time": "2024-04-27T09:09:39.521Z"
   },
   {
    "duration": 169,
    "start_time": "2024-04-27T09:09:39.822Z"
   },
   {
    "duration": 189,
    "start_time": "2024-04-27T09:09:39.993Z"
   },
   {
    "duration": 161,
    "start_time": "2024-04-27T09:09:40.183Z"
   },
   {
    "duration": 190,
    "start_time": "2024-04-27T09:09:40.346Z"
   },
   {
    "duration": 401,
    "start_time": "2024-04-27T09:09:40.537Z"
   },
   {
    "duration": 387,
    "start_time": "2024-04-27T09:09:40.940Z"
   },
   {
    "duration": 273,
    "start_time": "2024-04-27T09:09:41.329Z"
   },
   {
    "duration": 188,
    "start_time": "2024-04-27T09:09:41.603Z"
   },
   {
    "duration": 211,
    "start_time": "2024-04-27T09:09:41.793Z"
   },
   {
    "duration": 198,
    "start_time": "2024-04-27T09:09:42.005Z"
   },
   {
    "duration": 216,
    "start_time": "2024-04-27T09:09:42.205Z"
   },
   {
    "duration": 192,
    "start_time": "2024-04-27T09:09:42.423Z"
   },
   {
    "duration": 207,
    "start_time": "2024-04-27T09:09:42.617Z"
   },
   {
    "duration": 196,
    "start_time": "2024-04-27T09:09:42.826Z"
   },
   {
    "duration": 293,
    "start_time": "2024-04-27T09:09:43.024Z"
   },
   {
    "duration": 28,
    "start_time": "2024-04-27T09:09:43.319Z"
   },
   {
    "duration": 7,
    "start_time": "2024-04-27T09:09:43.350Z"
   },
   {
    "duration": 11,
    "start_time": "2024-04-27T09:09:43.381Z"
   },
   {
    "duration": 186,
    "start_time": "2024-04-27T09:09:43.393Z"
   },
   {
    "duration": 22,
    "start_time": "2024-04-27T09:09:43.581Z"
   },
   {
    "duration": 83,
    "start_time": "2024-04-27T09:14:05.815Z"
   },
   {
    "duration": 5,
    "start_time": "2024-04-27T09:14:12.609Z"
   },
   {
    "duration": 10,
    "start_time": "2024-04-27T09:16:19.950Z"
   },
   {
    "duration": 7,
    "start_time": "2024-04-27T09:17:25.196Z"
   },
   {
    "duration": 6,
    "start_time": "2024-04-27T09:18:46.632Z"
   },
   {
    "duration": 6,
    "start_time": "2024-04-27T09:20:43.923Z"
   },
   {
    "duration": 5,
    "start_time": "2024-04-27T09:20:57.353Z"
   },
   {
    "duration": 636,
    "start_time": "2024-04-27T09:21:39.011Z"
   },
   {
    "duration": 116,
    "start_time": "2024-04-27T09:21:39.649Z"
   },
   {
    "duration": 39,
    "start_time": "2024-04-27T09:21:39.767Z"
   },
   {
    "duration": 2076,
    "start_time": "2024-04-27T09:21:39.808Z"
   },
   {
    "duration": 26,
    "start_time": "2024-04-27T09:21:41.887Z"
   },
   {
    "duration": 4,
    "start_time": "2024-04-27T09:21:41.914Z"
   },
   {
    "duration": 27,
    "start_time": "2024-04-27T09:21:41.920Z"
   },
   {
    "duration": 49,
    "start_time": "2024-04-27T09:21:41.949Z"
   },
   {
    "duration": 14,
    "start_time": "2024-04-27T09:21:42.000Z"
   },
   {
    "duration": 19,
    "start_time": "2024-04-27T09:21:42.016Z"
   },
   {
    "duration": 16,
    "start_time": "2024-04-27T09:21:42.037Z"
   },
   {
    "duration": 15,
    "start_time": "2024-04-27T09:21:42.054Z"
   },
   {
    "duration": 11,
    "start_time": "2024-04-27T09:21:42.071Z"
   },
   {
    "duration": 10,
    "start_time": "2024-04-27T09:21:42.086Z"
   },
   {
    "duration": 13,
    "start_time": "2024-04-27T09:21:42.097Z"
   },
   {
    "duration": 24,
    "start_time": "2024-04-27T09:21:42.112Z"
   },
   {
    "duration": 9,
    "start_time": "2024-04-27T09:21:42.138Z"
   },
   {
    "duration": 39,
    "start_time": "2024-04-27T09:21:42.148Z"
   },
   {
    "duration": 19,
    "start_time": "2024-04-27T09:21:42.188Z"
   },
   {
    "duration": 86,
    "start_time": "2024-04-27T09:21:42.209Z"
   },
   {
    "duration": 20,
    "start_time": "2024-04-27T09:21:42.297Z"
   },
   {
    "duration": 19,
    "start_time": "2024-04-27T09:21:42.319Z"
   },
   {
    "duration": 10,
    "start_time": "2024-04-27T09:21:42.340Z"
   },
   {
    "duration": 34,
    "start_time": "2024-04-27T09:21:42.352Z"
   },
   {
    "duration": 4,
    "start_time": "2024-04-27T09:21:42.388Z"
   },
   {
    "duration": 27,
    "start_time": "2024-04-27T09:21:42.394Z"
   },
   {
    "duration": 10,
    "start_time": "2024-04-27T09:21:42.423Z"
   },
   {
    "duration": 15,
    "start_time": "2024-04-27T09:21:42.435Z"
   },
   {
    "duration": 358,
    "start_time": "2024-04-27T09:21:42.452Z"
   },
   {
    "duration": 4,
    "start_time": "2024-04-27T09:21:42.812Z"
   },
   {
    "duration": 25,
    "start_time": "2024-04-27T09:21:42.817Z"
   },
   {
    "duration": 315,
    "start_time": "2024-04-27T09:21:42.844Z"
   },
   {
    "duration": 351,
    "start_time": "2024-04-27T09:21:43.160Z"
   },
   {
    "duration": 177,
    "start_time": "2024-04-27T09:21:43.513Z"
   },
   {
    "duration": 316,
    "start_time": "2024-04-27T09:21:43.691Z"
   },
   {
    "duration": 180,
    "start_time": "2024-04-27T09:21:44.009Z"
   },
   {
    "duration": 184,
    "start_time": "2024-04-27T09:21:44.191Z"
   },
   {
    "duration": 167,
    "start_time": "2024-04-27T09:21:44.376Z"
   },
   {
    "duration": 196,
    "start_time": "2024-04-27T09:21:44.544Z"
   },
   {
    "duration": 412,
    "start_time": "2024-04-27T09:21:44.741Z"
   },
   {
    "duration": 403,
    "start_time": "2024-04-27T09:21:45.157Z"
   },
   {
    "duration": 279,
    "start_time": "2024-04-27T09:21:45.562Z"
   },
   {
    "duration": 212,
    "start_time": "2024-04-27T09:21:45.843Z"
   },
   {
    "duration": 206,
    "start_time": "2024-04-27T09:21:46.057Z"
   },
   {
    "duration": 198,
    "start_time": "2024-04-27T09:21:46.264Z"
   },
   {
    "duration": 208,
    "start_time": "2024-04-27T09:21:46.464Z"
   },
   {
    "duration": 196,
    "start_time": "2024-04-27T09:21:46.674Z"
   },
   {
    "duration": 204,
    "start_time": "2024-04-27T09:21:46.872Z"
   },
   {
    "duration": 200,
    "start_time": "2024-04-27T09:21:47.077Z"
   },
   {
    "duration": 280,
    "start_time": "2024-04-27T09:21:47.278Z"
   },
   {
    "duration": 38,
    "start_time": "2024-04-27T09:21:47.560Z"
   },
   {
    "duration": 8,
    "start_time": "2024-04-27T09:21:47.599Z"
   },
   {
    "duration": 9,
    "start_time": "2024-04-27T09:21:47.608Z"
   },
   {
    "duration": 188,
    "start_time": "2024-04-27T09:21:47.619Z"
   },
   {
    "duration": 20,
    "start_time": "2024-04-27T09:21:47.809Z"
   },
   {
    "duration": 698,
    "start_time": "2024-04-27T09:27:57.681Z"
   },
   {
    "duration": 117,
    "start_time": "2024-04-27T09:27:58.381Z"
   },
   {
    "duration": 34,
    "start_time": "2024-04-27T09:27:58.500Z"
   },
   {
    "duration": 2072,
    "start_time": "2024-04-27T09:27:58.536Z"
   },
   {
    "duration": 27,
    "start_time": "2024-04-27T09:28:00.610Z"
   },
   {
    "duration": 56,
    "start_time": "2024-04-27T09:28:00.638Z"
   },
   {
    "duration": 46,
    "start_time": "2024-04-27T09:28:00.695Z"
   },
   {
    "duration": 51,
    "start_time": "2024-04-27T09:28:00.742Z"
   },
   {
    "duration": 36,
    "start_time": "2024-04-27T09:28:00.795Z"
   },
   {
    "duration": 26,
    "start_time": "2024-04-27T09:28:00.834Z"
   },
   {
    "duration": 46,
    "start_time": "2024-04-27T09:28:00.862Z"
   },
   {
    "duration": 46,
    "start_time": "2024-04-27T09:28:00.909Z"
   },
   {
    "duration": 32,
    "start_time": "2024-04-27T09:28:00.956Z"
   },
   {
    "duration": 40,
    "start_time": "2024-04-27T09:28:00.990Z"
   },
   {
    "duration": 29,
    "start_time": "2024-04-27T09:28:01.032Z"
   },
   {
    "duration": 97,
    "start_time": "2024-04-27T09:28:01.062Z"
   },
   {
    "duration": 0,
    "start_time": "2024-04-27T09:28:01.161Z"
   },
   {
    "duration": 0,
    "start_time": "2024-04-27T09:28:01.162Z"
   },
   {
    "duration": 0,
    "start_time": "2024-04-27T09:28:01.164Z"
   },
   {
    "duration": 0,
    "start_time": "2024-04-27T09:28:01.165Z"
   },
   {
    "duration": 0,
    "start_time": "2024-04-27T09:28:01.166Z"
   },
   {
    "duration": 0,
    "start_time": "2024-04-27T09:28:01.167Z"
   },
   {
    "duration": 0,
    "start_time": "2024-04-27T09:28:01.168Z"
   },
   {
    "duration": 0,
    "start_time": "2024-04-27T09:28:01.169Z"
   },
   {
    "duration": 0,
    "start_time": "2024-04-27T09:28:01.170Z"
   },
   {
    "duration": 0,
    "start_time": "2024-04-27T09:28:01.171Z"
   },
   {
    "duration": 0,
    "start_time": "2024-04-27T09:28:01.181Z"
   },
   {
    "duration": 0,
    "start_time": "2024-04-27T09:28:01.183Z"
   },
   {
    "duration": 0,
    "start_time": "2024-04-27T09:28:01.184Z"
   },
   {
    "duration": 0,
    "start_time": "2024-04-27T09:28:01.185Z"
   },
   {
    "duration": 0,
    "start_time": "2024-04-27T09:28:01.186Z"
   },
   {
    "duration": 0,
    "start_time": "2024-04-27T09:28:01.187Z"
   },
   {
    "duration": 0,
    "start_time": "2024-04-27T09:28:01.188Z"
   },
   {
    "duration": 0,
    "start_time": "2024-04-27T09:28:01.189Z"
   },
   {
    "duration": 0,
    "start_time": "2024-04-27T09:28:01.190Z"
   },
   {
    "duration": 0,
    "start_time": "2024-04-27T09:28:01.191Z"
   },
   {
    "duration": 0,
    "start_time": "2024-04-27T09:28:01.192Z"
   },
   {
    "duration": 0,
    "start_time": "2024-04-27T09:28:01.193Z"
   },
   {
    "duration": 0,
    "start_time": "2024-04-27T09:28:01.194Z"
   },
   {
    "duration": 0,
    "start_time": "2024-04-27T09:28:01.195Z"
   },
   {
    "duration": 0,
    "start_time": "2024-04-27T09:28:01.196Z"
   },
   {
    "duration": 0,
    "start_time": "2024-04-27T09:28:01.197Z"
   },
   {
    "duration": 0,
    "start_time": "2024-04-27T09:28:01.198Z"
   },
   {
    "duration": 0,
    "start_time": "2024-04-27T09:28:01.199Z"
   },
   {
    "duration": 0,
    "start_time": "2024-04-27T09:28:01.200Z"
   },
   {
    "duration": 0,
    "start_time": "2024-04-27T09:28:01.201Z"
   },
   {
    "duration": 0,
    "start_time": "2024-04-27T09:28:01.203Z"
   },
   {
    "duration": 0,
    "start_time": "2024-04-27T09:28:01.204Z"
   },
   {
    "duration": 0,
    "start_time": "2024-04-27T09:28:01.206Z"
   },
   {
    "duration": 0,
    "start_time": "2024-04-27T09:28:01.207Z"
   },
   {
    "duration": 0,
    "start_time": "2024-04-27T09:28:01.209Z"
   },
   {
    "duration": 0,
    "start_time": "2024-04-27T09:28:01.210Z"
   },
   {
    "duration": 0,
    "start_time": "2024-04-27T09:28:01.211Z"
   },
   {
    "duration": 0,
    "start_time": "2024-04-27T09:28:01.213Z"
   },
   {
    "duration": 0,
    "start_time": "2024-04-27T09:28:01.214Z"
   },
   {
    "duration": 0,
    "start_time": "2024-04-27T09:28:01.215Z"
   },
   {
    "duration": 39,
    "start_time": "2024-04-27T09:29:08.943Z"
   },
   {
    "duration": 6,
    "start_time": "2024-04-27T09:29:31.283Z"
   },
   {
    "duration": 6,
    "start_time": "2024-04-27T09:30:22.379Z"
   },
   {
    "duration": 636,
    "start_time": "2024-04-27T09:30:28.505Z"
   },
   {
    "duration": 116,
    "start_time": "2024-04-27T09:30:29.143Z"
   },
   {
    "duration": 36,
    "start_time": "2024-04-27T09:30:29.260Z"
   },
   {
    "duration": 2036,
    "start_time": "2024-04-27T09:30:29.297Z"
   },
   {
    "duration": 26,
    "start_time": "2024-04-27T09:30:31.335Z"
   },
   {
    "duration": 38,
    "start_time": "2024-04-27T09:30:31.363Z"
   },
   {
    "duration": 39,
    "start_time": "2024-04-27T09:30:31.403Z"
   },
   {
    "duration": 46,
    "start_time": "2024-04-27T09:30:31.444Z"
   },
   {
    "duration": 37,
    "start_time": "2024-04-27T09:30:31.491Z"
   },
   {
    "duration": 57,
    "start_time": "2024-04-27T09:30:31.530Z"
   },
   {
    "duration": 34,
    "start_time": "2024-04-27T09:30:31.588Z"
   },
   {
    "duration": 28,
    "start_time": "2024-04-27T09:30:31.624Z"
   },
   {
    "duration": 11,
    "start_time": "2024-04-27T09:30:31.653Z"
   },
   {
    "duration": 32,
    "start_time": "2024-04-27T09:30:31.666Z"
   },
   {
    "duration": 15,
    "start_time": "2024-04-27T09:30:31.699Z"
   },
   {
    "duration": 13,
    "start_time": "2024-04-27T09:30:31.716Z"
   },
   {
    "duration": 10,
    "start_time": "2024-04-27T09:30:31.731Z"
   },
   {
    "duration": 80,
    "start_time": "2024-04-27T09:30:31.742Z"
   },
   {
    "duration": 0,
    "start_time": "2024-04-27T09:30:31.825Z"
   },
   {
    "duration": 0,
    "start_time": "2024-04-27T09:30:31.826Z"
   },
   {
    "duration": 0,
    "start_time": "2024-04-27T09:30:31.828Z"
   },
   {
    "duration": 1,
    "start_time": "2024-04-27T09:30:31.829Z"
   },
   {
    "duration": 0,
    "start_time": "2024-04-27T09:30:31.831Z"
   },
   {
    "duration": 0,
    "start_time": "2024-04-27T09:30:31.832Z"
   },
   {
    "duration": 0,
    "start_time": "2024-04-27T09:30:31.833Z"
   },
   {
    "duration": 0,
    "start_time": "2024-04-27T09:30:31.835Z"
   },
   {
    "duration": 0,
    "start_time": "2024-04-27T09:30:31.836Z"
   },
   {
    "duration": 0,
    "start_time": "2024-04-27T09:30:31.837Z"
   },
   {
    "duration": 0,
    "start_time": "2024-04-27T09:30:31.839Z"
   },
   {
    "duration": 0,
    "start_time": "2024-04-27T09:30:31.840Z"
   },
   {
    "duration": 0,
    "start_time": "2024-04-27T09:30:31.841Z"
   },
   {
    "duration": 0,
    "start_time": "2024-04-27T09:30:31.842Z"
   },
   {
    "duration": 0,
    "start_time": "2024-04-27T09:30:31.844Z"
   },
   {
    "duration": 0,
    "start_time": "2024-04-27T09:30:31.845Z"
   },
   {
    "duration": 0,
    "start_time": "2024-04-27T09:30:31.846Z"
   },
   {
    "duration": 0,
    "start_time": "2024-04-27T09:30:31.848Z"
   },
   {
    "duration": 0,
    "start_time": "2024-04-27T09:30:31.882Z"
   },
   {
    "duration": 0,
    "start_time": "2024-04-27T09:30:31.884Z"
   },
   {
    "duration": 0,
    "start_time": "2024-04-27T09:30:31.885Z"
   },
   {
    "duration": 0,
    "start_time": "2024-04-27T09:30:31.887Z"
   },
   {
    "duration": 0,
    "start_time": "2024-04-27T09:30:31.888Z"
   },
   {
    "duration": 0,
    "start_time": "2024-04-27T09:30:31.890Z"
   },
   {
    "duration": 0,
    "start_time": "2024-04-27T09:30:31.891Z"
   },
   {
    "duration": 0,
    "start_time": "2024-04-27T09:30:31.892Z"
   },
   {
    "duration": 0,
    "start_time": "2024-04-27T09:30:31.894Z"
   },
   {
    "duration": 0,
    "start_time": "2024-04-27T09:30:31.895Z"
   },
   {
    "duration": 0,
    "start_time": "2024-04-27T09:30:31.896Z"
   },
   {
    "duration": 0,
    "start_time": "2024-04-27T09:30:31.898Z"
   },
   {
    "duration": 0,
    "start_time": "2024-04-27T09:30:31.899Z"
   },
   {
    "duration": 0,
    "start_time": "2024-04-27T09:30:31.900Z"
   },
   {
    "duration": 0,
    "start_time": "2024-04-27T09:30:31.902Z"
   },
   {
    "duration": 0,
    "start_time": "2024-04-27T09:30:31.903Z"
   },
   {
    "duration": 0,
    "start_time": "2024-04-27T09:30:31.904Z"
   },
   {
    "duration": 0,
    "start_time": "2024-04-27T09:30:31.905Z"
   },
   {
    "duration": 0,
    "start_time": "2024-04-27T09:30:31.906Z"
   },
   {
    "duration": 0,
    "start_time": "2024-04-27T09:30:31.907Z"
   },
   {
    "duration": 0,
    "start_time": "2024-04-27T09:30:31.908Z"
   },
   {
    "duration": 0,
    "start_time": "2024-04-27T09:30:31.909Z"
   },
   {
    "duration": 9,
    "start_time": "2024-04-27T09:36:43.360Z"
   },
   {
    "duration": 640,
    "start_time": "2024-04-27T09:38:53.400Z"
   },
   {
    "duration": 116,
    "start_time": "2024-04-27T09:38:54.042Z"
   },
   {
    "duration": 41,
    "start_time": "2024-04-27T09:38:54.160Z"
   },
   {
    "duration": 2193,
    "start_time": "2024-04-27T09:38:54.203Z"
   },
   {
    "duration": 26,
    "start_time": "2024-04-27T09:38:56.398Z"
   },
   {
    "duration": 3,
    "start_time": "2024-04-27T09:38:56.426Z"
   },
   {
    "duration": 9,
    "start_time": "2024-04-27T09:38:56.431Z"
   },
   {
    "duration": 12,
    "start_time": "2024-04-27T09:38:56.442Z"
   },
   {
    "duration": 4,
    "start_time": "2024-04-27T09:38:56.455Z"
   },
   {
    "duration": 6,
    "start_time": "2024-04-27T09:38:56.461Z"
   },
   {
    "duration": 7,
    "start_time": "2024-04-27T09:38:56.482Z"
   },
   {
    "duration": 20,
    "start_time": "2024-04-27T09:38:56.491Z"
   },
   {
    "duration": 21,
    "start_time": "2024-04-27T09:38:56.512Z"
   },
   {
    "duration": 11,
    "start_time": "2024-04-27T09:38:56.536Z"
   },
   {
    "duration": 11,
    "start_time": "2024-04-27T09:38:56.549Z"
   },
   {
    "duration": 20,
    "start_time": "2024-04-27T09:38:56.562Z"
   },
   {
    "duration": 10,
    "start_time": "2024-04-27T09:38:56.583Z"
   },
   {
    "duration": 20,
    "start_time": "2024-04-27T09:38:56.595Z"
   },
   {
    "duration": 19,
    "start_time": "2024-04-27T09:38:56.616Z"
   },
   {
    "duration": 72,
    "start_time": "2024-04-27T09:38:56.637Z"
   },
   {
    "duration": 22,
    "start_time": "2024-04-27T09:38:56.710Z"
   },
   {
    "duration": 19,
    "start_time": "2024-04-27T09:38:56.734Z"
   },
   {
    "duration": 28,
    "start_time": "2024-04-27T09:38:56.754Z"
   },
   {
    "duration": 9,
    "start_time": "2024-04-27T09:38:56.783Z"
   },
   {
    "duration": 5,
    "start_time": "2024-04-27T09:38:56.793Z"
   },
   {
    "duration": 7,
    "start_time": "2024-04-27T09:38:56.800Z"
   },
   {
    "duration": 6,
    "start_time": "2024-04-27T09:38:56.808Z"
   },
   {
    "duration": 6,
    "start_time": "2024-04-27T09:38:56.815Z"
   },
   {
    "duration": 373,
    "start_time": "2024-04-27T09:38:56.822Z"
   },
   {
    "duration": 5,
    "start_time": "2024-04-27T09:38:57.197Z"
   },
   {
    "duration": 40,
    "start_time": "2024-04-27T09:38:57.203Z"
   },
   {
    "duration": 309,
    "start_time": "2024-04-27T09:38:57.244Z"
   },
   {
    "duration": 366,
    "start_time": "2024-04-27T09:38:57.555Z"
   },
   {
    "duration": 172,
    "start_time": "2024-04-27T09:38:57.922Z"
   },
   {
    "duration": 288,
    "start_time": "2024-04-27T09:38:58.096Z"
   },
   {
    "duration": 172,
    "start_time": "2024-04-27T09:38:58.385Z"
   },
   {
    "duration": 195,
    "start_time": "2024-04-27T09:38:58.559Z"
   },
   {
    "duration": 174,
    "start_time": "2024-04-27T09:38:58.756Z"
   },
   {
    "duration": 212,
    "start_time": "2024-04-27T09:38:58.931Z"
   },
   {
    "duration": 407,
    "start_time": "2024-04-27T09:38:59.145Z"
   },
   {
    "duration": 379,
    "start_time": "2024-04-27T09:38:59.556Z"
   },
   {
    "duration": 322,
    "start_time": "2024-04-27T09:38:59.937Z"
   },
   {
    "duration": 212,
    "start_time": "2024-04-27T09:39:00.261Z"
   },
   {
    "duration": 226,
    "start_time": "2024-04-27T09:39:00.479Z"
   },
   {
    "duration": 208,
    "start_time": "2024-04-27T09:39:00.707Z"
   },
   {
    "duration": 211,
    "start_time": "2024-04-27T09:39:00.917Z"
   },
   {
    "duration": 186,
    "start_time": "2024-04-27T09:39:01.130Z"
   },
   {
    "duration": 198,
    "start_time": "2024-04-27T09:39:01.318Z"
   },
   {
    "duration": 199,
    "start_time": "2024-04-27T09:39:01.517Z"
   },
   {
    "duration": 307,
    "start_time": "2024-04-27T09:39:01.718Z"
   },
   {
    "duration": 27,
    "start_time": "2024-04-27T09:39:02.027Z"
   },
   {
    "duration": 7,
    "start_time": "2024-04-27T09:39:02.056Z"
   },
   {
    "duration": 8,
    "start_time": "2024-04-27T09:39:02.083Z"
   },
   {
    "duration": 201,
    "start_time": "2024-04-27T09:39:02.093Z"
   },
   {
    "duration": 21,
    "start_time": "2024-04-27T09:39:02.296Z"
   },
   {
    "duration": 62,
    "start_time": "2024-04-27T09:44:06.766Z"
   },
   {
    "duration": 677,
    "start_time": "2024-04-27T09:47:19.868Z"
   },
   {
    "duration": 125,
    "start_time": "2024-04-27T09:47:20.547Z"
   },
   {
    "duration": 36,
    "start_time": "2024-04-27T09:47:20.674Z"
   },
   {
    "duration": 2112,
    "start_time": "2024-04-27T09:47:20.712Z"
   },
   {
    "duration": 28,
    "start_time": "2024-04-27T09:47:22.827Z"
   },
   {
    "duration": 3,
    "start_time": "2024-04-27T09:47:22.857Z"
   },
   {
    "duration": 9,
    "start_time": "2024-04-27T09:47:22.862Z"
   },
   {
    "duration": 13,
    "start_time": "2024-04-27T09:47:22.873Z"
   },
   {
    "duration": 13,
    "start_time": "2024-04-27T09:47:22.887Z"
   },
   {
    "duration": 14,
    "start_time": "2024-04-27T09:47:22.902Z"
   },
   {
    "duration": 23,
    "start_time": "2024-04-27T09:47:22.917Z"
   },
   {
    "duration": 8,
    "start_time": "2024-04-27T09:47:22.941Z"
   },
   {
    "duration": 5,
    "start_time": "2024-04-27T09:47:22.951Z"
   },
   {
    "duration": 7,
    "start_time": "2024-04-27T09:47:22.959Z"
   },
   {
    "duration": 24,
    "start_time": "2024-04-27T09:47:22.968Z"
   },
   {
    "duration": 7,
    "start_time": "2024-04-27T09:47:22.994Z"
   },
   {
    "duration": 15,
    "start_time": "2024-04-27T09:47:23.003Z"
   },
   {
    "duration": 47,
    "start_time": "2024-04-27T09:47:23.020Z"
   },
   {
    "duration": 21,
    "start_time": "2024-04-27T09:47:23.069Z"
   },
   {
    "duration": 77,
    "start_time": "2024-04-27T09:47:23.092Z"
   },
   {
    "duration": 29,
    "start_time": "2024-04-27T09:47:23.171Z"
   },
   {
    "duration": 29,
    "start_time": "2024-04-27T09:47:23.201Z"
   },
   {
    "duration": 26,
    "start_time": "2024-04-27T09:47:23.232Z"
   },
   {
    "duration": 23,
    "start_time": "2024-04-27T09:47:23.260Z"
   },
   {
    "duration": 6,
    "start_time": "2024-04-27T09:47:23.285Z"
   },
   {
    "duration": 8,
    "start_time": "2024-04-27T09:47:23.292Z"
   },
   {
    "duration": 10,
    "start_time": "2024-04-27T09:47:23.301Z"
   },
   {
    "duration": 8,
    "start_time": "2024-04-27T09:47:23.312Z"
   },
   {
    "duration": 319,
    "start_time": "2024-04-27T09:47:23.321Z"
   },
   {
    "duration": 5,
    "start_time": "2024-04-27T09:47:23.641Z"
   },
   {
    "duration": 43,
    "start_time": "2024-04-27T09:47:23.648Z"
   },
   {
    "duration": 332,
    "start_time": "2024-04-27T09:47:23.692Z"
   },
   {
    "duration": 356,
    "start_time": "2024-04-27T09:47:24.026Z"
   },
   {
    "duration": 173,
    "start_time": "2024-04-27T09:47:24.383Z"
   },
   {
    "duration": 288,
    "start_time": "2024-04-27T09:47:24.558Z"
   },
   {
    "duration": 183,
    "start_time": "2024-04-27T09:47:24.847Z"
   },
   {
    "duration": 195,
    "start_time": "2024-04-27T09:47:25.032Z"
   },
   {
    "duration": 170,
    "start_time": "2024-04-27T09:47:25.229Z"
   },
   {
    "duration": 190,
    "start_time": "2024-04-27T09:47:25.401Z"
   },
   {
    "duration": 416,
    "start_time": "2024-04-27T09:47:25.592Z"
   },
   {
    "duration": 382,
    "start_time": "2024-04-27T09:47:26.013Z"
   },
   {
    "duration": 289,
    "start_time": "2024-04-27T09:47:26.397Z"
   },
   {
    "duration": 210,
    "start_time": "2024-04-27T09:47:26.689Z"
   },
   {
    "duration": 223,
    "start_time": "2024-04-27T09:47:26.901Z"
   },
   {
    "duration": 193,
    "start_time": "2024-04-27T09:47:27.125Z"
   },
   {
    "duration": 208,
    "start_time": "2024-04-27T09:47:27.320Z"
   },
   {
    "duration": 179,
    "start_time": "2024-04-27T09:47:27.530Z"
   },
   {
    "duration": 210,
    "start_time": "2024-04-27T09:47:27.711Z"
   },
   {
    "duration": 202,
    "start_time": "2024-04-27T09:47:27.923Z"
   },
   {
    "duration": 294,
    "start_time": "2024-04-27T09:47:28.127Z"
   },
   {
    "duration": 30,
    "start_time": "2024-04-27T09:47:28.423Z"
   },
   {
    "duration": 9,
    "start_time": "2024-04-27T09:47:28.454Z"
   },
   {
    "duration": 8,
    "start_time": "2024-04-27T09:47:28.482Z"
   },
   {
    "duration": 196,
    "start_time": "2024-04-27T09:47:28.493Z"
   },
   {
    "duration": 20,
    "start_time": "2024-04-27T09:47:28.691Z"
   },
   {
    "duration": 115,
    "start_time": "2024-04-27T09:48:06.619Z"
   },
   {
    "duration": 42,
    "start_time": "2024-04-27T09:49:15.032Z"
   },
   {
    "duration": 3,
    "start_time": "2024-04-27T09:53:02.740Z"
   },
   {
    "duration": 34,
    "start_time": "2024-04-27T10:20:34.577Z"
   },
   {
    "duration": 10,
    "start_time": "2024-04-27T11:17:36.230Z"
   },
   {
    "duration": 5,
    "start_time": "2024-04-27T11:18:46.528Z"
   },
   {
    "duration": 7,
    "start_time": "2024-04-27T11:19:44.260Z"
   },
   {
    "duration": 7,
    "start_time": "2024-04-27T11:20:32.171Z"
   },
   {
    "duration": 8,
    "start_time": "2024-04-27T11:20:46.758Z"
   },
   {
    "duration": 282,
    "start_time": "2024-04-27T11:21:09.096Z"
   },
   {
    "duration": 7,
    "start_time": "2024-04-27T11:21:45.427Z"
   },
   {
    "duration": 515,
    "start_time": "2024-04-27T11:22:17.157Z"
   },
   {
    "duration": 290,
    "start_time": "2024-04-27T11:22:21.537Z"
   },
   {
    "duration": 210,
    "start_time": "2024-04-27T11:22:25.414Z"
   },
   {
    "duration": 302,
    "start_time": "2024-04-27T11:22:49.538Z"
   },
   {
    "duration": 268,
    "start_time": "2024-04-27T11:23:03.961Z"
   },
   {
    "duration": 281,
    "start_time": "2024-04-27T11:24:43.821Z"
   },
   {
    "duration": 293,
    "start_time": "2024-04-27T11:24:49.866Z"
   },
   {
    "duration": 207,
    "start_time": "2024-04-27T11:24:55.032Z"
   },
   {
    "duration": 79,
    "start_time": "2024-04-27T11:26:25.569Z"
   },
   {
    "duration": 8,
    "start_time": "2024-04-27T11:26:41.304Z"
   },
   {
    "duration": 8,
    "start_time": "2024-04-27T11:26:51.794Z"
   },
   {
    "duration": 8,
    "start_time": "2024-04-27T11:27:34.960Z"
   },
   {
    "duration": 8,
    "start_time": "2024-04-27T11:27:41.747Z"
   },
   {
    "duration": 28,
    "start_time": "2024-04-27T11:32:27.508Z"
   },
   {
    "duration": 272,
    "start_time": "2024-04-27T11:32:45.735Z"
   },
   {
    "duration": 468,
    "start_time": "2024-04-27T11:33:11.099Z"
   },
   {
    "duration": 330,
    "start_time": "2024-04-27T11:33:40.500Z"
   },
   {
    "duration": 250,
    "start_time": "2024-04-27T11:33:46.369Z"
   },
   {
    "duration": 260,
    "start_time": "2024-04-27T11:34:03.956Z"
   },
   {
    "duration": 671,
    "start_time": "2024-04-27T11:34:21.597Z"
   },
   {
    "duration": 117,
    "start_time": "2024-04-27T11:34:22.270Z"
   },
   {
    "duration": 35,
    "start_time": "2024-04-27T11:34:22.389Z"
   },
   {
    "duration": 2086,
    "start_time": "2024-04-27T11:34:22.426Z"
   },
   {
    "duration": 24,
    "start_time": "2024-04-27T11:34:24.515Z"
   },
   {
    "duration": 3,
    "start_time": "2024-04-27T11:34:24.541Z"
   },
   {
    "duration": 8,
    "start_time": "2024-04-27T11:34:24.546Z"
   },
   {
    "duration": 9,
    "start_time": "2024-04-27T11:34:24.556Z"
   },
   {
    "duration": 16,
    "start_time": "2024-04-27T11:34:24.566Z"
   },
   {
    "duration": 7,
    "start_time": "2024-04-27T11:34:24.583Z"
   },
   {
    "duration": 7,
    "start_time": "2024-04-27T11:34:24.592Z"
   },
   {
    "duration": 7,
    "start_time": "2024-04-27T11:34:24.600Z"
   },
   {
    "duration": 3,
    "start_time": "2024-04-27T11:34:24.609Z"
   },
   {
    "duration": 19,
    "start_time": "2024-04-27T11:34:24.615Z"
   },
   {
    "duration": 10,
    "start_time": "2024-04-27T11:34:24.636Z"
   },
   {
    "duration": 11,
    "start_time": "2024-04-27T11:34:24.647Z"
   },
   {
    "duration": 3,
    "start_time": "2024-04-27T11:34:24.681Z"
   },
   {
    "duration": 5,
    "start_time": "2024-04-27T11:34:24.685Z"
   },
   {
    "duration": 33,
    "start_time": "2024-04-27T11:34:24.691Z"
   },
   {
    "duration": 18,
    "start_time": "2024-04-27T11:34:24.726Z"
   },
   {
    "duration": 70,
    "start_time": "2024-04-27T11:34:24.746Z"
   },
   {
    "duration": 21,
    "start_time": "2024-04-27T11:34:24.817Z"
   },
   {
    "duration": 30,
    "start_time": "2024-04-27T11:34:24.839Z"
   },
   {
    "duration": 19,
    "start_time": "2024-04-27T11:34:24.871Z"
   },
   {
    "duration": 11,
    "start_time": "2024-04-27T11:34:24.892Z"
   },
   {
    "duration": 4,
    "start_time": "2024-04-27T11:34:24.904Z"
   },
   {
    "duration": 7,
    "start_time": "2024-04-27T11:34:24.909Z"
   },
   {
    "duration": 6,
    "start_time": "2024-04-27T11:34:24.917Z"
   },
   {
    "duration": 6,
    "start_time": "2024-04-27T11:34:24.924Z"
   },
   {
    "duration": 327,
    "start_time": "2024-04-27T11:34:24.931Z"
   },
   {
    "duration": 4,
    "start_time": "2024-04-27T11:34:25.260Z"
   },
   {
    "duration": 39,
    "start_time": "2024-04-27T11:34:25.266Z"
   },
   {
    "duration": 222,
    "start_time": "2024-04-27T11:34:25.307Z"
   },
   {
    "duration": 358,
    "start_time": "2024-04-27T11:34:25.530Z"
   },
   {
    "duration": 172,
    "start_time": "2024-04-27T11:34:25.890Z"
   },
   {
    "duration": 282,
    "start_time": "2024-04-27T11:34:26.064Z"
   },
   {
    "duration": 168,
    "start_time": "2024-04-27T11:34:26.347Z"
   },
   {
    "duration": 185,
    "start_time": "2024-04-27T11:34:26.517Z"
   },
   {
    "duration": 169,
    "start_time": "2024-04-27T11:34:26.704Z"
   },
   {
    "duration": 205,
    "start_time": "2024-04-27T11:34:26.875Z"
   },
   {
    "duration": 420,
    "start_time": "2024-04-27T11:34:27.085Z"
   },
   {
    "duration": 386,
    "start_time": "2024-04-27T11:34:27.507Z"
   },
   {
    "duration": 282,
    "start_time": "2024-04-27T11:34:27.895Z"
   },
   {
    "duration": 196,
    "start_time": "2024-04-27T11:34:28.182Z"
   },
   {
    "duration": 223,
    "start_time": "2024-04-27T11:34:28.382Z"
   },
   {
    "duration": 203,
    "start_time": "2024-04-27T11:34:28.607Z"
   },
   {
    "duration": 215,
    "start_time": "2024-04-27T11:34:28.812Z"
   },
   {
    "duration": 179,
    "start_time": "2024-04-27T11:34:29.028Z"
   },
   {
    "duration": 197,
    "start_time": "2024-04-27T11:34:29.209Z"
   },
   {
    "duration": 192,
    "start_time": "2024-04-27T11:34:29.407Z"
   },
   {
    "duration": 284,
    "start_time": "2024-04-27T11:34:29.601Z"
   },
   {
    "duration": 35,
    "start_time": "2024-04-27T11:34:29.887Z"
   },
   {
    "duration": 9,
    "start_time": "2024-04-27T11:34:29.924Z"
   },
   {
    "duration": 12,
    "start_time": "2024-04-27T11:34:29.934Z"
   },
   {
    "duration": 194,
    "start_time": "2024-04-27T11:34:29.947Z"
   },
   {
    "duration": 19,
    "start_time": "2024-04-27T11:34:30.143Z"
   },
   {
    "duration": 174,
    "start_time": "2024-04-27T11:54:04.167Z"
   },
   {
    "duration": 45,
    "start_time": "2024-04-27T13:08:12.544Z"
   },
   {
    "duration": 1960,
    "start_time": "2024-04-27T13:09:21.916Z"
   },
   {
    "duration": 73,
    "start_time": "2024-04-27T13:09:51.385Z"
   },
   {
    "duration": 56,
    "start_time": "2024-04-27T13:09:59.515Z"
   },
   {
    "duration": 828,
    "start_time": "2024-04-27T13:10:03.059Z"
   },
   {
    "duration": 116,
    "start_time": "2024-04-27T13:10:03.889Z"
   },
   {
    "duration": 35,
    "start_time": "2024-04-27T13:10:04.006Z"
   },
   {
    "duration": 2057,
    "start_time": "2024-04-27T13:10:04.043Z"
   },
   {
    "duration": 25,
    "start_time": "2024-04-27T13:10:06.102Z"
   },
   {
    "duration": 4,
    "start_time": "2024-04-27T13:10:06.128Z"
   },
   {
    "duration": 8,
    "start_time": "2024-04-27T13:10:06.134Z"
   },
   {
    "duration": 16,
    "start_time": "2024-04-27T13:10:06.143Z"
   },
   {
    "duration": 5,
    "start_time": "2024-04-27T13:10:06.160Z"
   },
   {
    "duration": 16,
    "start_time": "2024-04-27T13:10:06.167Z"
   },
   {
    "duration": 6,
    "start_time": "2024-04-27T13:10:06.184Z"
   },
   {
    "duration": 11,
    "start_time": "2024-04-27T13:10:06.192Z"
   },
   {
    "duration": 6,
    "start_time": "2024-04-27T13:10:06.204Z"
   },
   {
    "duration": 14,
    "start_time": "2024-04-27T13:10:06.211Z"
   },
   {
    "duration": 9,
    "start_time": "2024-04-27T13:10:06.227Z"
   },
   {
    "duration": 2,
    "start_time": "2024-04-27T13:10:06.238Z"
   },
   {
    "duration": 3,
    "start_time": "2024-04-27T13:10:06.241Z"
   },
   {
    "duration": 4,
    "start_time": "2024-04-27T13:10:06.245Z"
   },
   {
    "duration": 49,
    "start_time": "2024-04-27T13:10:06.250Z"
   },
   {
    "duration": 19,
    "start_time": "2024-04-27T13:10:06.301Z"
   },
   {
    "duration": 80,
    "start_time": "2024-04-27T13:10:06.322Z"
   },
   {
    "duration": 22,
    "start_time": "2024-04-27T13:10:06.404Z"
   },
   {
    "duration": 19,
    "start_time": "2024-04-27T13:10:06.427Z"
   },
   {
    "duration": 11,
    "start_time": "2024-04-27T13:10:06.448Z"
   },
   {
    "duration": 29,
    "start_time": "2024-04-27T13:10:06.460Z"
   },
   {
    "duration": 5,
    "start_time": "2024-04-27T13:10:06.490Z"
   },
   {
    "duration": 17,
    "start_time": "2024-04-27T13:10:06.496Z"
   },
   {
    "duration": 20,
    "start_time": "2024-04-27T13:10:06.516Z"
   },
   {
    "duration": 5,
    "start_time": "2024-04-27T13:10:06.538Z"
   },
   {
    "duration": 341,
    "start_time": "2024-04-27T13:10:06.545Z"
   },
   {
    "duration": 4,
    "start_time": "2024-04-27T13:10:06.888Z"
   },
   {
    "duration": 29,
    "start_time": "2024-04-27T13:10:06.893Z"
   },
   {
    "duration": 219,
    "start_time": "2024-04-27T13:10:06.923Z"
   },
   {
    "duration": 331,
    "start_time": "2024-04-27T13:10:07.143Z"
   },
   {
    "duration": 169,
    "start_time": "2024-04-27T13:10:07.475Z"
   },
   {
    "duration": 296,
    "start_time": "2024-04-27T13:10:07.646Z"
   },
   {
    "duration": 193,
    "start_time": "2024-04-27T13:10:07.945Z"
   },
   {
    "duration": 53,
    "start_time": "2024-04-27T13:10:08.140Z"
   },
   {
    "duration": 0,
    "start_time": "2024-04-27T13:10:08.195Z"
   },
   {
    "duration": 0,
    "start_time": "2024-04-27T13:10:08.196Z"
   },
   {
    "duration": 0,
    "start_time": "2024-04-27T13:10:08.198Z"
   },
   {
    "duration": 0,
    "start_time": "2024-04-27T13:10:08.199Z"
   },
   {
    "duration": 0,
    "start_time": "2024-04-27T13:10:08.200Z"
   },
   {
    "duration": 0,
    "start_time": "2024-04-27T13:10:08.201Z"
   },
   {
    "duration": 0,
    "start_time": "2024-04-27T13:10:08.202Z"
   },
   {
    "duration": 0,
    "start_time": "2024-04-27T13:10:08.203Z"
   },
   {
    "duration": 0,
    "start_time": "2024-04-27T13:10:08.204Z"
   },
   {
    "duration": 0,
    "start_time": "2024-04-27T13:10:08.205Z"
   },
   {
    "duration": 0,
    "start_time": "2024-04-27T13:10:08.206Z"
   },
   {
    "duration": 0,
    "start_time": "2024-04-27T13:10:08.208Z"
   },
   {
    "duration": 0,
    "start_time": "2024-04-27T13:10:08.208Z"
   },
   {
    "duration": 0,
    "start_time": "2024-04-27T13:10:08.210Z"
   },
   {
    "duration": 0,
    "start_time": "2024-04-27T13:10:08.210Z"
   },
   {
    "duration": 0,
    "start_time": "2024-04-27T13:10:08.212Z"
   },
   {
    "duration": 0,
    "start_time": "2024-04-27T13:10:08.213Z"
   },
   {
    "duration": 0,
    "start_time": "2024-04-27T13:10:08.214Z"
   },
   {
    "duration": 183,
    "start_time": "2024-04-27T13:10:26.362Z"
   },
   {
    "duration": 669,
    "start_time": "2024-04-27T13:10:31.630Z"
   },
   {
    "duration": 114,
    "start_time": "2024-04-27T13:10:32.301Z"
   },
   {
    "duration": 45,
    "start_time": "2024-04-27T13:10:32.417Z"
   },
   {
    "duration": 2090,
    "start_time": "2024-04-27T13:10:32.466Z"
   },
   {
    "duration": 26,
    "start_time": "2024-04-27T13:10:34.558Z"
   },
   {
    "duration": 3,
    "start_time": "2024-04-27T13:10:34.586Z"
   },
   {
    "duration": 9,
    "start_time": "2024-04-27T13:10:34.591Z"
   },
   {
    "duration": 10,
    "start_time": "2024-04-27T13:10:34.602Z"
   },
   {
    "duration": 5,
    "start_time": "2024-04-27T13:10:34.613Z"
   },
   {
    "duration": 7,
    "start_time": "2024-04-27T13:10:34.619Z"
   },
   {
    "duration": 7,
    "start_time": "2024-04-27T13:10:34.627Z"
   },
   {
    "duration": 13,
    "start_time": "2024-04-27T13:10:34.635Z"
   },
   {
    "duration": 5,
    "start_time": "2024-04-27T13:10:34.681Z"
   },
   {
    "duration": 8,
    "start_time": "2024-04-27T13:10:34.689Z"
   },
   {
    "duration": 9,
    "start_time": "2024-04-27T13:10:34.699Z"
   },
   {
    "duration": 2,
    "start_time": "2024-04-27T13:10:34.710Z"
   },
   {
    "duration": 4,
    "start_time": "2024-04-27T13:10:34.713Z"
   },
   {
    "duration": 4,
    "start_time": "2024-04-27T13:10:34.718Z"
   },
   {
    "duration": 35,
    "start_time": "2024-04-27T13:10:34.723Z"
   },
   {
    "duration": 41,
    "start_time": "2024-04-27T13:10:34.760Z"
   },
   {
    "duration": 54,
    "start_time": "2024-04-27T13:10:34.802Z"
   },
   {
    "duration": 34,
    "start_time": "2024-04-27T13:10:34.858Z"
   },
   {
    "duration": 19,
    "start_time": "2024-04-27T13:10:34.894Z"
   },
   {
    "duration": 10,
    "start_time": "2024-04-27T13:10:34.915Z"
   },
   {
    "duration": 7,
    "start_time": "2024-04-27T13:10:34.927Z"
   },
   {
    "duration": 7,
    "start_time": "2024-04-27T13:10:34.936Z"
   },
   {
    "duration": 6,
    "start_time": "2024-04-27T13:10:34.944Z"
   },
   {
    "duration": 32,
    "start_time": "2024-04-27T13:10:34.951Z"
   },
   {
    "duration": 5,
    "start_time": "2024-04-27T13:10:34.985Z"
   },
   {
    "duration": 318,
    "start_time": "2024-04-27T13:10:34.992Z"
   },
   {
    "duration": 4,
    "start_time": "2024-04-27T13:10:35.311Z"
   },
   {
    "duration": 34,
    "start_time": "2024-04-27T13:10:35.317Z"
   },
   {
    "duration": 226,
    "start_time": "2024-04-27T13:10:35.352Z"
   },
   {
    "duration": 356,
    "start_time": "2024-04-27T13:10:35.580Z"
   },
   {
    "duration": 167,
    "start_time": "2024-04-27T13:10:35.938Z"
   },
   {
    "duration": 287,
    "start_time": "2024-04-27T13:10:36.107Z"
   },
   {
    "duration": 169,
    "start_time": "2024-04-27T13:10:36.396Z"
   },
   {
    "duration": 180,
    "start_time": "2024-04-27T13:10:36.567Z"
   },
   {
    "duration": 158,
    "start_time": "2024-04-27T13:10:36.748Z"
   },
   {
    "duration": 200,
    "start_time": "2024-04-27T13:10:36.908Z"
   },
   {
    "duration": 432,
    "start_time": "2024-04-27T13:10:37.113Z"
   },
   {
    "duration": 386,
    "start_time": "2024-04-27T13:10:37.548Z"
   },
   {
    "duration": 278,
    "start_time": "2024-04-27T13:10:37.935Z"
   },
   {
    "duration": 200,
    "start_time": "2024-04-27T13:10:38.214Z"
   },
   {
    "duration": 222,
    "start_time": "2024-04-27T13:10:38.416Z"
   },
   {
    "duration": 204,
    "start_time": "2024-04-27T13:10:38.640Z"
   },
   {
    "duration": 216,
    "start_time": "2024-04-27T13:10:38.846Z"
   },
   {
    "duration": 182,
    "start_time": "2024-04-27T13:10:39.064Z"
   },
   {
    "duration": 190,
    "start_time": "2024-04-27T13:10:39.248Z"
   },
   {
    "duration": 191,
    "start_time": "2024-04-27T13:10:39.440Z"
   },
   {
    "duration": 289,
    "start_time": "2024-04-27T13:10:39.633Z"
   },
   {
    "duration": 36,
    "start_time": "2024-04-27T13:10:39.923Z"
   },
   {
    "duration": 24,
    "start_time": "2024-04-27T13:10:39.960Z"
   },
   {
    "duration": 46,
    "start_time": "2024-04-27T13:10:39.985Z"
   },
   {
    "duration": 188,
    "start_time": "2024-04-27T13:10:40.032Z"
   },
   {
    "duration": 20,
    "start_time": "2024-04-27T13:10:40.222Z"
   },
   {
    "duration": 636,
    "start_time": "2024-04-27T13:31:39.701Z"
   },
   {
    "duration": 117,
    "start_time": "2024-04-27T13:31:40.339Z"
   },
   {
    "duration": 38,
    "start_time": "2024-04-27T13:31:40.458Z"
   },
   {
    "duration": 2139,
    "start_time": "2024-04-27T13:31:40.497Z"
   },
   {
    "duration": 26,
    "start_time": "2024-04-27T13:31:42.638Z"
   },
   {
    "duration": 4,
    "start_time": "2024-04-27T13:31:42.665Z"
   },
   {
    "duration": 11,
    "start_time": "2024-04-27T13:31:42.670Z"
   },
   {
    "duration": 9,
    "start_time": "2024-04-27T13:31:42.682Z"
   },
   {
    "duration": 5,
    "start_time": "2024-04-27T13:31:42.692Z"
   },
   {
    "duration": 7,
    "start_time": "2024-04-27T13:31:42.698Z"
   },
   {
    "duration": 6,
    "start_time": "2024-04-27T13:31:42.706Z"
   },
   {
    "duration": 6,
    "start_time": "2024-04-27T13:31:42.714Z"
   },
   {
    "duration": 4,
    "start_time": "2024-04-27T13:31:42.721Z"
   },
   {
    "duration": 10,
    "start_time": "2024-04-27T13:31:42.728Z"
   },
   {
    "duration": 43,
    "start_time": "2024-04-27T13:31:42.740Z"
   },
   {
    "duration": 2,
    "start_time": "2024-04-27T13:31:42.785Z"
   },
   {
    "duration": 3,
    "start_time": "2024-04-27T13:31:42.789Z"
   },
   {
    "duration": 4,
    "start_time": "2024-04-27T13:31:42.794Z"
   },
   {
    "duration": 41,
    "start_time": "2024-04-27T13:31:42.799Z"
   },
   {
    "duration": 17,
    "start_time": "2024-04-27T13:31:42.842Z"
   },
   {
    "duration": 54,
    "start_time": "2024-04-27T13:31:42.861Z"
   },
   {
    "duration": 20,
    "start_time": "2024-04-27T13:31:42.916Z"
   },
   {
    "duration": 18,
    "start_time": "2024-04-27T13:31:42.937Z"
   },
   {
    "duration": 33,
    "start_time": "2024-04-27T13:31:42.956Z"
   },
   {
    "duration": 9,
    "start_time": "2024-04-27T13:31:42.990Z"
   },
   {
    "duration": 5,
    "start_time": "2024-04-27T13:31:43.000Z"
   },
   {
    "duration": 7,
    "start_time": "2024-04-27T13:31:43.006Z"
   },
   {
    "duration": 6,
    "start_time": "2024-04-27T13:31:43.014Z"
   },
   {
    "duration": 5,
    "start_time": "2024-04-27T13:31:43.021Z"
   },
   {
    "duration": 335,
    "start_time": "2024-04-27T13:31:43.028Z"
   },
   {
    "duration": 5,
    "start_time": "2024-04-27T13:31:43.364Z"
   },
   {
    "duration": 33,
    "start_time": "2024-04-27T13:31:43.370Z"
   },
   {
    "duration": 16,
    "start_time": "2024-04-27T13:31:43.405Z"
   },
   {
    "duration": 229,
    "start_time": "2024-04-27T13:31:43.423Z"
   },
   {
    "duration": 352,
    "start_time": "2024-04-27T13:31:43.654Z"
   },
   {
    "duration": 181,
    "start_time": "2024-04-27T13:31:44.009Z"
   },
   {
    "duration": 290,
    "start_time": "2024-04-27T13:31:44.192Z"
   },
   {
    "duration": 169,
    "start_time": "2024-04-27T13:31:44.483Z"
   },
   {
    "duration": 179,
    "start_time": "2024-04-27T13:31:44.653Z"
   },
   {
    "duration": 169,
    "start_time": "2024-04-27T13:31:44.834Z"
   },
   {
    "duration": 210,
    "start_time": "2024-04-27T13:31:45.007Z"
   },
   {
    "duration": 402,
    "start_time": "2024-04-27T13:31:45.219Z"
   },
   {
    "duration": 402,
    "start_time": "2024-04-27T13:31:45.623Z"
   },
   {
    "duration": 274,
    "start_time": "2024-04-27T13:31:46.026Z"
   },
   {
    "duration": 208,
    "start_time": "2024-04-27T13:31:46.302Z"
   },
   {
    "duration": 197,
    "start_time": "2024-04-27T13:31:46.512Z"
   },
   {
    "duration": 202,
    "start_time": "2024-04-27T13:31:46.710Z"
   },
   {
    "duration": 191,
    "start_time": "2024-04-27T13:31:46.914Z"
   },
   {
    "duration": 185,
    "start_time": "2024-04-27T13:31:47.107Z"
   },
   {
    "duration": 193,
    "start_time": "2024-04-27T13:31:47.294Z"
   },
   {
    "duration": 196,
    "start_time": "2024-04-27T13:31:47.489Z"
   },
   {
    "duration": 278,
    "start_time": "2024-04-27T13:31:47.687Z"
   },
   {
    "duration": 38,
    "start_time": "2024-04-27T13:31:47.966Z"
   },
   {
    "duration": 9,
    "start_time": "2024-04-27T13:31:48.006Z"
   },
   {
    "duration": 16,
    "start_time": "2024-04-27T13:31:48.016Z"
   },
   {
    "duration": 186,
    "start_time": "2024-04-27T13:31:48.033Z"
   },
   {
    "duration": 20,
    "start_time": "2024-04-27T13:31:48.220Z"
   },
   {
    "duration": 58,
    "start_time": "2024-04-27T14:09:32.432Z"
   },
   {
    "duration": 686,
    "start_time": "2024-04-27T14:09:37.026Z"
   },
   {
    "duration": 118,
    "start_time": "2024-04-27T14:09:37.714Z"
   },
   {
    "duration": 41,
    "start_time": "2024-04-27T14:09:37.834Z"
   },
   {
    "duration": 1965,
    "start_time": "2024-04-27T14:09:37.876Z"
   },
   {
    "duration": 25,
    "start_time": "2024-04-27T14:09:39.843Z"
   },
   {
    "duration": 18,
    "start_time": "2024-04-27T14:09:39.870Z"
   },
   {
    "duration": 67,
    "start_time": "2024-04-27T14:09:39.890Z"
   },
   {
    "duration": 60,
    "start_time": "2024-04-27T14:09:39.958Z"
   },
   {
    "duration": 36,
    "start_time": "2024-04-27T14:09:40.019Z"
   },
   {
    "duration": 43,
    "start_time": "2024-04-27T14:09:40.057Z"
   },
   {
    "duration": 18,
    "start_time": "2024-04-27T14:09:40.102Z"
   },
   {
    "duration": 26,
    "start_time": "2024-04-27T14:09:40.121Z"
   },
   {
    "duration": 23,
    "start_time": "2024-04-27T14:09:40.149Z"
   },
   {
    "duration": 24,
    "start_time": "2024-04-27T14:09:40.175Z"
   },
   {
    "duration": 25,
    "start_time": "2024-04-27T14:09:40.200Z"
   },
   {
    "duration": 8,
    "start_time": "2024-04-27T14:09:40.227Z"
   },
   {
    "duration": 28,
    "start_time": "2024-04-27T14:09:40.237Z"
   },
   {
    "duration": 19,
    "start_time": "2024-04-27T14:09:40.267Z"
   },
   {
    "duration": 63,
    "start_time": "2024-04-27T14:09:40.288Z"
   },
   {
    "duration": 24,
    "start_time": "2024-04-27T14:09:40.353Z"
   },
   {
    "duration": 62,
    "start_time": "2024-04-27T14:09:40.378Z"
   },
   {
    "duration": 20,
    "start_time": "2024-04-27T14:09:40.442Z"
   },
   {
    "duration": 19,
    "start_time": "2024-04-27T14:09:40.463Z"
   },
   {
    "duration": 11,
    "start_time": "2024-04-27T14:09:40.483Z"
   },
   {
    "duration": 34,
    "start_time": "2024-04-27T14:09:40.496Z"
   },
   {
    "duration": 5,
    "start_time": "2024-04-27T14:09:40.531Z"
   },
   {
    "duration": 19,
    "start_time": "2024-04-27T14:09:40.537Z"
   },
   {
    "duration": 9,
    "start_time": "2024-04-27T14:09:40.558Z"
   },
   {
    "duration": 6,
    "start_time": "2024-04-27T14:09:40.569Z"
   },
   {
    "duration": 346,
    "start_time": "2024-04-27T14:09:40.577Z"
   },
   {
    "duration": 5,
    "start_time": "2024-04-27T14:09:40.924Z"
   },
   {
    "duration": 49,
    "start_time": "2024-04-27T14:09:40.931Z"
   },
   {
    "duration": 17,
    "start_time": "2024-04-27T14:09:40.981Z"
   },
   {
    "duration": 223,
    "start_time": "2024-04-27T14:09:40.999Z"
   },
   {
    "duration": 340,
    "start_time": "2024-04-27T14:09:41.224Z"
   },
   {
    "duration": 171,
    "start_time": "2024-04-27T14:09:41.566Z"
   },
   {
    "duration": 284,
    "start_time": "2024-04-27T14:09:41.738Z"
   },
   {
    "duration": 175,
    "start_time": "2024-04-27T14:09:42.023Z"
   },
   {
    "duration": 177,
    "start_time": "2024-04-27T14:09:42.200Z"
   },
   {
    "duration": 173,
    "start_time": "2024-04-27T14:09:42.378Z"
   },
   {
    "duration": 217,
    "start_time": "2024-04-27T14:09:42.555Z"
   },
   {
    "duration": 393,
    "start_time": "2024-04-27T14:09:42.774Z"
   },
   {
    "duration": 378,
    "start_time": "2024-04-27T14:09:43.169Z"
   },
   {
    "duration": 281,
    "start_time": "2024-04-27T14:09:43.549Z"
   },
   {
    "duration": 4,
    "start_time": "2024-04-27T14:09:44.976Z"
   },
   {
    "duration": 90,
    "start_time": "2024-04-27T14:10:23.048Z"
   },
   {
    "duration": 49,
    "start_time": "2024-04-27T15:28:36.617Z"
   },
   {
    "duration": 8,
    "start_time": "2024-04-27T15:28:53.235Z"
   },
   {
    "duration": 841,
    "start_time": "2024-04-27T15:29:06.697Z"
   },
   {
    "duration": 300,
    "start_time": "2024-04-27T15:29:07.540Z"
   },
   {
    "duration": 33,
    "start_time": "2024-04-27T15:29:07.842Z"
   },
   {
    "duration": 1963,
    "start_time": "2024-04-27T15:29:07.877Z"
   },
   {
    "duration": 33,
    "start_time": "2024-04-27T15:29:09.842Z"
   },
   {
    "duration": 4,
    "start_time": "2024-04-27T15:29:09.876Z"
   },
   {
    "duration": 10,
    "start_time": "2024-04-27T15:29:09.881Z"
   },
   {
    "duration": 10,
    "start_time": "2024-04-27T15:29:09.893Z"
   },
   {
    "duration": 5,
    "start_time": "2024-04-27T15:29:09.905Z"
   },
   {
    "duration": 7,
    "start_time": "2024-04-27T15:29:09.913Z"
   },
   {
    "duration": 8,
    "start_time": "2024-04-27T15:29:09.922Z"
   },
   {
    "duration": 30,
    "start_time": "2024-04-27T15:29:09.932Z"
   },
   {
    "duration": 19,
    "start_time": "2024-04-27T15:29:09.963Z"
   },
   {
    "duration": 22,
    "start_time": "2024-04-27T15:29:09.984Z"
   },
   {
    "duration": 37,
    "start_time": "2024-04-27T15:29:10.008Z"
   },
   {
    "duration": 33,
    "start_time": "2024-04-27T15:29:10.047Z"
   },
   {
    "duration": 10,
    "start_time": "2024-04-27T15:29:10.083Z"
   },
   {
    "duration": 34,
    "start_time": "2024-04-27T15:29:10.094Z"
   },
   {
    "duration": 29,
    "start_time": "2024-04-27T15:29:10.130Z"
   },
   {
    "duration": 18,
    "start_time": "2024-04-27T15:29:10.161Z"
   },
   {
    "duration": 62,
    "start_time": "2024-04-27T15:29:10.181Z"
   },
   {
    "duration": 20,
    "start_time": "2024-04-27T15:29:10.245Z"
   },
   {
    "duration": 32,
    "start_time": "2024-04-27T15:29:10.267Z"
   },
   {
    "duration": 12,
    "start_time": "2024-04-27T15:29:10.300Z"
   },
   {
    "duration": 25,
    "start_time": "2024-04-27T15:29:10.313Z"
   },
   {
    "duration": 5,
    "start_time": "2024-04-27T15:29:10.340Z"
   },
   {
    "duration": 15,
    "start_time": "2024-04-27T15:29:10.347Z"
   },
   {
    "duration": 6,
    "start_time": "2024-04-27T15:29:10.367Z"
   },
   {
    "duration": 19,
    "start_time": "2024-04-27T15:29:10.374Z"
   },
   {
    "duration": 299,
    "start_time": "2024-04-27T15:29:10.395Z"
   },
   {
    "duration": 5,
    "start_time": "2024-04-27T15:29:10.695Z"
   },
   {
    "duration": 53,
    "start_time": "2024-04-27T15:29:10.702Z"
   },
   {
    "duration": 16,
    "start_time": "2024-04-27T15:29:10.757Z"
   },
   {
    "duration": 200,
    "start_time": "2024-04-27T15:29:10.774Z"
   },
   {
    "duration": 348,
    "start_time": "2024-04-27T15:29:10.975Z"
   },
   {
    "duration": 182,
    "start_time": "2024-04-27T15:29:11.325Z"
   },
   {
    "duration": 285,
    "start_time": "2024-04-27T15:29:11.508Z"
   },
   {
    "duration": 174,
    "start_time": "2024-04-27T15:29:11.795Z"
   },
   {
    "duration": 177,
    "start_time": "2024-04-27T15:29:11.970Z"
   },
   {
    "duration": 162,
    "start_time": "2024-04-27T15:29:12.148Z"
   },
   {
    "duration": 189,
    "start_time": "2024-04-27T15:29:12.312Z"
   },
   {
    "duration": 410,
    "start_time": "2024-04-27T15:29:12.503Z"
   },
   {
    "duration": 392,
    "start_time": "2024-04-27T15:29:12.914Z"
   },
   {
    "duration": 283,
    "start_time": "2024-04-27T15:29:13.308Z"
   },
   {
    "duration": 206,
    "start_time": "2024-04-27T15:29:13.593Z"
   },
   {
    "duration": 202,
    "start_time": "2024-04-27T15:29:13.800Z"
   },
   {
    "duration": 205,
    "start_time": "2024-04-27T15:29:14.004Z"
   },
   {
    "duration": 196,
    "start_time": "2024-04-27T15:29:14.211Z"
   },
   {
    "duration": 184,
    "start_time": "2024-04-27T15:29:14.409Z"
   },
   {
    "duration": 206,
    "start_time": "2024-04-27T15:29:14.594Z"
   },
   {
    "duration": 189,
    "start_time": "2024-04-27T15:29:14.802Z"
   },
   {
    "duration": 288,
    "start_time": "2024-04-27T15:29:14.993Z"
   },
   {
    "duration": 38,
    "start_time": "2024-04-27T15:29:15.282Z"
   },
   {
    "duration": 24,
    "start_time": "2024-04-27T15:29:15.321Z"
   },
   {
    "duration": 41,
    "start_time": "2024-04-27T15:29:15.346Z"
   },
   {
    "duration": 205,
    "start_time": "2024-04-27T15:29:15.389Z"
   },
   {
    "duration": 22,
    "start_time": "2024-04-27T15:29:15.596Z"
   },
   {
    "duration": 31,
    "start_time": "2024-04-27T15:33:55.127Z"
   },
   {
    "duration": 33,
    "start_time": "2024-04-27T15:34:14.680Z"
   },
   {
    "duration": 9,
    "start_time": "2024-04-27T15:34:17.472Z"
   },
   {
    "duration": 614,
    "start_time": "2024-04-27T15:34:26.945Z"
   },
   {
    "duration": 115,
    "start_time": "2024-04-27T15:34:27.561Z"
   },
   {
    "duration": 36,
    "start_time": "2024-04-27T15:34:27.678Z"
   },
   {
    "duration": 2059,
    "start_time": "2024-04-27T15:34:27.717Z"
   },
   {
    "duration": 28,
    "start_time": "2024-04-27T15:34:29.777Z"
   },
   {
    "duration": 4,
    "start_time": "2024-04-27T15:34:29.806Z"
   },
   {
    "duration": 16,
    "start_time": "2024-04-27T15:34:29.812Z"
   },
   {
    "duration": 13,
    "start_time": "2024-04-27T15:34:29.829Z"
   },
   {
    "duration": 16,
    "start_time": "2024-04-27T15:34:29.843Z"
   },
   {
    "duration": 20,
    "start_time": "2024-04-27T15:34:29.862Z"
   },
   {
    "duration": 14,
    "start_time": "2024-04-27T15:34:29.884Z"
   },
   {
    "duration": 22,
    "start_time": "2024-04-27T15:34:29.900Z"
   },
   {
    "duration": 30,
    "start_time": "2024-04-27T15:34:29.924Z"
   },
   {
    "duration": 34,
    "start_time": "2024-04-27T15:34:29.956Z"
   },
   {
    "duration": 13,
    "start_time": "2024-04-27T15:34:29.993Z"
   },
   {
    "duration": 38,
    "start_time": "2024-04-27T15:34:30.008Z"
   },
   {
    "duration": 122,
    "start_time": "2024-04-27T15:34:30.047Z"
   },
   {
    "duration": 86,
    "start_time": "2024-04-27T15:34:30.171Z"
   },
   {
    "duration": 179,
    "start_time": "2024-04-27T15:34:30.259Z"
   },
   {
    "duration": 93,
    "start_time": "2024-04-27T15:34:30.440Z"
   },
   {
    "duration": 160,
    "start_time": "2024-04-27T15:34:30.535Z"
   },
   {
    "duration": 20,
    "start_time": "2024-04-27T15:34:30.697Z"
   },
   {
    "duration": 46,
    "start_time": "2024-04-27T15:34:30.718Z"
   },
   {
    "duration": 42,
    "start_time": "2024-04-27T15:34:30.766Z"
   },
   {
    "duration": 39,
    "start_time": "2024-04-27T15:34:30.810Z"
   },
   {
    "duration": 30,
    "start_time": "2024-04-27T15:34:30.850Z"
   },
   {
    "duration": 45,
    "start_time": "2024-04-27T15:34:30.882Z"
   },
   {
    "duration": 35,
    "start_time": "2024-04-27T15:34:30.931Z"
   },
   {
    "duration": 33,
    "start_time": "2024-04-27T15:34:30.968Z"
   },
   {
    "duration": 337,
    "start_time": "2024-04-27T15:34:31.003Z"
   },
   {
    "duration": 4,
    "start_time": "2024-04-27T15:34:31.342Z"
   },
   {
    "duration": 340,
    "start_time": "2024-04-27T15:34:31.348Z"
   },
   {
    "duration": 186,
    "start_time": "2024-04-27T15:34:31.690Z"
   },
   {
    "duration": 577,
    "start_time": "2024-04-27T15:34:31.878Z"
   },
   {
    "duration": 337,
    "start_time": "2024-04-27T15:34:32.457Z"
   },
   {
    "duration": 367,
    "start_time": "2024-04-27T15:34:32.796Z"
   },
   {
    "duration": 304,
    "start_time": "2024-04-27T15:34:33.165Z"
   },
   {
    "duration": 182,
    "start_time": "2024-04-27T15:34:33.471Z"
   },
   {
    "duration": 184,
    "start_time": "2024-04-27T15:34:33.655Z"
   },
   {
    "duration": 171,
    "start_time": "2024-04-27T15:34:33.840Z"
   },
   {
    "duration": 202,
    "start_time": "2024-04-27T15:34:34.013Z"
   },
   {
    "duration": 409,
    "start_time": "2024-04-27T15:34:34.217Z"
   },
   {
    "duration": 393,
    "start_time": "2024-04-27T15:34:34.628Z"
   },
   {
    "duration": 283,
    "start_time": "2024-04-27T15:34:35.022Z"
   },
   {
    "duration": 207,
    "start_time": "2024-04-27T15:34:35.307Z"
   },
   {
    "duration": 197,
    "start_time": "2024-04-27T15:34:35.515Z"
   },
   {
    "duration": 199,
    "start_time": "2024-04-27T15:34:35.714Z"
   },
   {
    "duration": 222,
    "start_time": "2024-04-27T15:34:35.915Z"
   },
   {
    "duration": 171,
    "start_time": "2024-04-27T15:34:36.139Z"
   },
   {
    "duration": 214,
    "start_time": "2024-04-27T15:34:36.312Z"
   },
   {
    "duration": 189,
    "start_time": "2024-04-27T15:34:36.528Z"
   },
   {
    "duration": 275,
    "start_time": "2024-04-27T15:34:36.718Z"
   },
   {
    "duration": 100,
    "start_time": "2024-04-27T15:34:36.994Z"
   },
   {
    "duration": 0,
    "start_time": "2024-04-27T15:34:37.096Z"
   },
   {
    "duration": 0,
    "start_time": "2024-04-27T15:34:37.097Z"
   },
   {
    "duration": 0,
    "start_time": "2024-04-27T15:34:37.098Z"
   },
   {
    "duration": 0,
    "start_time": "2024-04-27T15:34:37.099Z"
   },
   {
    "duration": 27,
    "start_time": "2024-04-27T15:35:08.794Z"
   },
   {
    "duration": 12,
    "start_time": "2024-04-27T15:35:29.985Z"
   },
   {
    "duration": 12,
    "start_time": "2024-04-27T15:35:32.405Z"
   },
   {
    "duration": 18,
    "start_time": "2024-04-27T15:35:40.831Z"
   },
   {
    "duration": 28,
    "start_time": "2024-04-27T15:35:46.321Z"
   },
   {
    "duration": 29,
    "start_time": "2024-04-27T15:36:14.625Z"
   },
   {
    "duration": 31,
    "start_time": "2024-04-27T15:36:24.230Z"
   },
   {
    "duration": 38,
    "start_time": "2024-04-27T16:58:48.557Z"
   },
   {
    "duration": 53,
    "start_time": "2024-04-27T17:00:02.001Z"
   },
   {
    "duration": 26,
    "start_time": "2024-04-27T17:00:29.088Z"
   },
   {
    "duration": 30,
    "start_time": "2024-04-27T17:01:21.885Z"
   },
   {
    "duration": 24,
    "start_time": "2024-04-27T17:02:07.344Z"
   },
   {
    "duration": 30,
    "start_time": "2024-04-27T17:02:16.009Z"
   },
   {
    "duration": 8,
    "start_time": "2024-04-27T17:13:39.820Z"
   },
   {
    "duration": 9,
    "start_time": "2024-04-27T17:13:41.902Z"
   },
   {
    "duration": 35,
    "start_time": "2024-04-27T17:15:25.649Z"
   },
   {
    "duration": 32,
    "start_time": "2024-04-27T17:15:58.202Z"
   },
   {
    "duration": 27,
    "start_time": "2024-04-27T17:16:27.683Z"
   },
   {
    "duration": 31,
    "start_time": "2024-04-27T17:17:06.210Z"
   },
   {
    "duration": 37,
    "start_time": "2024-04-27T17:17:26.408Z"
   },
   {
    "duration": 28,
    "start_time": "2024-04-27T17:17:28.124Z"
   },
   {
    "duration": 656,
    "start_time": "2024-04-27T17:17:51.196Z"
   },
   {
    "duration": 118,
    "start_time": "2024-04-27T17:17:51.854Z"
   },
   {
    "duration": 33,
    "start_time": "2024-04-27T17:17:51.974Z"
   },
   {
    "duration": 1980,
    "start_time": "2024-04-27T17:17:52.008Z"
   },
   {
    "duration": 25,
    "start_time": "2024-04-27T17:17:53.990Z"
   },
   {
    "duration": 16,
    "start_time": "2024-04-27T17:17:54.017Z"
   },
   {
    "duration": 74,
    "start_time": "2024-04-27T17:17:54.035Z"
   },
   {
    "duration": 35,
    "start_time": "2024-04-27T17:17:54.111Z"
   },
   {
    "duration": 51,
    "start_time": "2024-04-27T17:17:54.148Z"
   },
   {
    "duration": 8,
    "start_time": "2024-04-27T17:17:54.201Z"
   },
   {
    "duration": 28,
    "start_time": "2024-04-27T17:17:54.210Z"
   },
   {
    "duration": 34,
    "start_time": "2024-04-27T17:17:54.239Z"
   },
   {
    "duration": 16,
    "start_time": "2024-04-27T17:17:54.275Z"
   },
   {
    "duration": 65,
    "start_time": "2024-04-27T17:17:54.294Z"
   },
   {
    "duration": 46,
    "start_time": "2024-04-27T17:17:54.361Z"
   },
   {
    "duration": 2,
    "start_time": "2024-04-27T17:17:54.409Z"
   },
   {
    "duration": 31,
    "start_time": "2024-04-27T17:17:54.413Z"
   },
   {
    "duration": 9,
    "start_time": "2024-04-27T17:17:54.447Z"
   },
   {
    "duration": 25,
    "start_time": "2024-04-27T17:17:54.459Z"
   },
   {
    "duration": 28,
    "start_time": "2024-04-27T17:17:54.486Z"
   },
   {
    "duration": 64,
    "start_time": "2024-04-27T17:17:54.516Z"
   },
   {
    "duration": 20,
    "start_time": "2024-04-27T17:17:54.582Z"
   },
   {
    "duration": 20,
    "start_time": "2024-04-27T17:17:54.603Z"
   },
   {
    "duration": 10,
    "start_time": "2024-04-27T17:17:54.625Z"
   },
   {
    "duration": 11,
    "start_time": "2024-04-27T17:17:54.637Z"
   },
   {
    "duration": 4,
    "start_time": "2024-04-27T17:17:54.650Z"
   },
   {
    "duration": 7,
    "start_time": "2024-04-27T17:17:54.656Z"
   },
   {
    "duration": 32,
    "start_time": "2024-04-27T17:17:54.664Z"
   },
   {
    "duration": 6,
    "start_time": "2024-04-27T17:17:54.697Z"
   },
   {
    "duration": 293,
    "start_time": "2024-04-27T17:17:54.705Z"
   },
   {
    "duration": 5,
    "start_time": "2024-04-27T17:17:55.000Z"
   },
   {
    "duration": 51,
    "start_time": "2024-04-27T17:17:55.006Z"
   },
   {
    "duration": 40,
    "start_time": "2024-04-27T17:17:55.059Z"
   },
   {
    "duration": 247,
    "start_time": "2024-04-27T17:17:55.101Z"
   },
   {
    "duration": 340,
    "start_time": "2024-04-27T17:17:55.350Z"
   },
   {
    "duration": 168,
    "start_time": "2024-04-27T17:17:55.692Z"
   },
   {
    "duration": 313,
    "start_time": "2024-04-27T17:17:55.861Z"
   },
   {
    "duration": 178,
    "start_time": "2024-04-27T17:17:56.176Z"
   },
   {
    "duration": 175,
    "start_time": "2024-04-27T17:17:56.356Z"
   },
   {
    "duration": 160,
    "start_time": "2024-04-27T17:17:56.533Z"
   },
   {
    "duration": 194,
    "start_time": "2024-04-27T17:17:56.697Z"
   },
   {
    "duration": 395,
    "start_time": "2024-04-27T17:17:56.893Z"
   },
   {
    "duration": 422,
    "start_time": "2024-04-27T17:17:57.289Z"
   },
   {
    "duration": 285,
    "start_time": "2024-04-27T17:17:57.712Z"
   },
   {
    "duration": 209,
    "start_time": "2024-04-27T17:17:57.999Z"
   },
   {
    "duration": 199,
    "start_time": "2024-04-27T17:17:58.209Z"
   },
   {
    "duration": 195,
    "start_time": "2024-04-27T17:17:58.410Z"
   },
   {
    "duration": 187,
    "start_time": "2024-04-27T17:17:58.607Z"
   },
   {
    "duration": 187,
    "start_time": "2024-04-27T17:17:58.795Z"
   },
   {
    "duration": 195,
    "start_time": "2024-04-27T17:17:58.984Z"
   },
   {
    "duration": 185,
    "start_time": "2024-04-27T17:17:59.181Z"
   },
   {
    "duration": 283,
    "start_time": "2024-04-27T17:17:59.368Z"
   },
   {
    "duration": 27,
    "start_time": "2024-04-27T17:17:59.652Z"
   },
   {
    "duration": 29,
    "start_time": "2024-04-27T17:17:59.691Z"
   },
   {
    "duration": 7,
    "start_time": "2024-04-27T17:17:59.722Z"
   },
   {
    "duration": 18,
    "start_time": "2024-04-27T17:17:59.730Z"
   },
   {
    "duration": 231,
    "start_time": "2024-04-27T17:17:59.750Z"
   },
   {
    "duration": 26,
    "start_time": "2024-04-27T17:17:59.983Z"
   },
   {
    "duration": 11,
    "start_time": "2024-04-27T17:19:08.395Z"
   },
   {
    "duration": 9,
    "start_time": "2024-04-27T17:19:53.678Z"
   },
   {
    "duration": 1405,
    "start_time": "2024-04-27T17:20:31.169Z"
   },
   {
    "duration": 12,
    "start_time": "2024-04-27T17:20:42.964Z"
   },
   {
    "duration": 12,
    "start_time": "2024-04-27T17:22:26.378Z"
   },
   {
    "duration": 12,
    "start_time": "2024-04-27T17:32:00.432Z"
   },
   {
    "duration": 11,
    "start_time": "2024-04-27T17:32:24.038Z"
   },
   {
    "duration": 26,
    "start_time": "2024-04-27T17:42:01.020Z"
   },
   {
    "duration": 32,
    "start_time": "2024-04-27T17:42:16.720Z"
   },
   {
    "duration": 30,
    "start_time": "2024-04-27T17:43:14.452Z"
   },
   {
    "duration": 740,
    "start_time": "2024-04-27T17:43:55.401Z"
   },
   {
    "duration": 119,
    "start_time": "2024-04-27T17:43:56.143Z"
   },
   {
    "duration": 38,
    "start_time": "2024-04-27T17:43:56.263Z"
   },
   {
    "duration": 2118,
    "start_time": "2024-04-27T17:43:56.302Z"
   },
   {
    "duration": 26,
    "start_time": "2024-04-27T17:43:58.422Z"
   },
   {
    "duration": 5,
    "start_time": "2024-04-27T17:43:58.449Z"
   },
   {
    "duration": 26,
    "start_time": "2024-04-27T17:43:58.455Z"
   },
   {
    "duration": 31,
    "start_time": "2024-04-27T17:43:58.483Z"
   },
   {
    "duration": 63,
    "start_time": "2024-04-27T17:43:58.516Z"
   },
   {
    "duration": 34,
    "start_time": "2024-04-27T17:43:58.582Z"
   },
   {
    "duration": 64,
    "start_time": "2024-04-27T17:43:58.618Z"
   },
   {
    "duration": 76,
    "start_time": "2024-04-27T17:43:58.684Z"
   },
   {
    "duration": 38,
    "start_time": "2024-04-27T17:43:58.761Z"
   },
   {
    "duration": 32,
    "start_time": "2024-04-27T17:43:58.801Z"
   },
   {
    "duration": 26,
    "start_time": "2024-04-27T17:43:58.835Z"
   },
   {
    "duration": 51,
    "start_time": "2024-04-27T17:43:58.863Z"
   },
   {
    "duration": 44,
    "start_time": "2024-04-27T17:43:58.915Z"
   },
   {
    "duration": 56,
    "start_time": "2024-04-27T17:43:58.961Z"
   },
   {
    "duration": 54,
    "start_time": "2024-04-27T17:43:59.019Z"
   },
   {
    "duration": 24,
    "start_time": "2024-04-27T17:43:59.075Z"
   },
   {
    "duration": 62,
    "start_time": "2024-04-27T17:43:59.101Z"
   },
   {
    "duration": 22,
    "start_time": "2024-04-27T17:43:59.164Z"
   },
   {
    "duration": 126,
    "start_time": "2024-04-27T17:43:59.187Z"
   },
   {
    "duration": 25,
    "start_time": "2024-04-27T17:43:59.315Z"
   },
   {
    "duration": 29,
    "start_time": "2024-04-27T17:43:59.341Z"
   },
   {
    "duration": 21,
    "start_time": "2024-04-27T17:43:59.372Z"
   },
   {
    "duration": 36,
    "start_time": "2024-04-27T17:43:59.394Z"
   },
   {
    "duration": 16,
    "start_time": "2024-04-27T17:43:59.435Z"
   },
   {
    "duration": 21,
    "start_time": "2024-04-27T17:43:59.453Z"
   },
   {
    "duration": 307,
    "start_time": "2024-04-27T17:43:59.476Z"
   },
   {
    "duration": 7,
    "start_time": "2024-04-27T17:43:59.784Z"
   },
   {
    "duration": 51,
    "start_time": "2024-04-27T17:43:59.794Z"
   },
   {
    "duration": 19,
    "start_time": "2024-04-27T17:43:59.847Z"
   },
   {
    "duration": 240,
    "start_time": "2024-04-27T17:43:59.868Z"
   },
   {
    "duration": 348,
    "start_time": "2024-04-27T17:44:00.110Z"
   },
   {
    "duration": 168,
    "start_time": "2024-04-27T17:44:00.459Z"
   },
   {
    "duration": 282,
    "start_time": "2024-04-27T17:44:00.629Z"
   },
   {
    "duration": 168,
    "start_time": "2024-04-27T17:44:00.913Z"
   },
   {
    "duration": 214,
    "start_time": "2024-04-27T17:44:01.083Z"
   },
   {
    "duration": 180,
    "start_time": "2024-04-27T17:44:01.299Z"
   },
   {
    "duration": 196,
    "start_time": "2024-04-27T17:44:01.481Z"
   },
   {
    "duration": 412,
    "start_time": "2024-04-27T17:44:01.678Z"
   },
   {
    "duration": 395,
    "start_time": "2024-04-27T17:44:02.092Z"
   },
   {
    "duration": 285,
    "start_time": "2024-04-27T17:44:02.490Z"
   },
   {
    "duration": 209,
    "start_time": "2024-04-27T17:44:02.776Z"
   },
   {
    "duration": 205,
    "start_time": "2024-04-27T17:44:02.987Z"
   },
   {
    "duration": 194,
    "start_time": "2024-04-27T17:44:03.195Z"
   },
   {
    "duration": 189,
    "start_time": "2024-04-27T17:44:03.391Z"
   },
   {
    "duration": 189,
    "start_time": "2024-04-27T17:44:03.582Z"
   },
   {
    "duration": 214,
    "start_time": "2024-04-27T17:44:03.773Z"
   },
   {
    "duration": 203,
    "start_time": "2024-04-27T17:44:03.992Z"
   },
   {
    "duration": 284,
    "start_time": "2024-04-27T17:44:04.196Z"
   },
   {
    "duration": 36,
    "start_time": "2024-04-27T17:44:04.481Z"
   },
   {
    "duration": 6,
    "start_time": "2024-04-27T17:44:04.518Z"
   },
   {
    "duration": 16,
    "start_time": "2024-04-27T17:44:04.527Z"
   },
   {
    "duration": 11,
    "start_time": "2024-04-27T17:44:04.545Z"
   },
   {
    "duration": 182,
    "start_time": "2024-04-27T17:44:04.557Z"
   },
   {
    "duration": 20,
    "start_time": "2024-04-27T17:44:04.741Z"
   },
   {
    "duration": 29,
    "start_time": "2024-04-27T17:44:16.408Z"
   },
   {
    "duration": 73,
    "start_time": "2024-04-27T17:53:49.218Z"
   },
   {
    "duration": 7,
    "start_time": "2024-04-27T17:53:55.308Z"
   },
   {
    "duration": 13,
    "start_time": "2024-04-27T17:54:45.316Z"
   },
   {
    "duration": 9,
    "start_time": "2024-04-27T17:55:17.741Z"
   },
   {
    "duration": 26,
    "start_time": "2024-04-27T18:08:41.033Z"
   },
   {
    "duration": 33,
    "start_time": "2024-04-27T18:09:08.032Z"
   },
   {
    "duration": 38,
    "start_time": "2024-04-27T18:09:27.583Z"
   },
   {
    "duration": 10,
    "start_time": "2024-04-27T18:09:47.811Z"
   },
   {
    "duration": 11,
    "start_time": "2024-04-27T18:12:29.457Z"
   },
   {
    "duration": 18,
    "start_time": "2024-04-27T18:12:36.063Z"
   },
   {
    "duration": 16,
    "start_time": "2024-04-27T18:14:00.856Z"
   },
   {
    "duration": 36,
    "start_time": "2024-04-27T18:34:34.195Z"
   },
   {
    "duration": 11,
    "start_time": "2024-04-27T18:35:30.068Z"
   },
   {
    "duration": 46,
    "start_time": "2024-04-27T19:48:02.613Z"
   },
   {
    "duration": 10,
    "start_time": "2024-04-27T19:48:43.926Z"
   },
   {
    "duration": 29,
    "start_time": "2024-04-27T19:54:04.075Z"
   },
   {
    "duration": 8,
    "start_time": "2024-04-27T19:55:19.731Z"
   },
   {
    "duration": 48,
    "start_time": "2024-04-27T20:09:27.191Z"
   },
   {
    "duration": 9,
    "start_time": "2024-04-27T20:10:08.941Z"
   },
   {
    "duration": 10,
    "start_time": "2024-04-27T20:10:17.641Z"
   },
   {
    "duration": 23,
    "start_time": "2024-04-27T20:14:52.233Z"
   },
   {
    "duration": 23,
    "start_time": "2024-04-27T20:16:02.228Z"
   },
   {
    "duration": 18,
    "start_time": "2024-04-27T20:18:00.875Z"
   },
   {
    "duration": 14,
    "start_time": "2024-04-27T20:18:16.566Z"
   },
   {
    "duration": 17,
    "start_time": "2024-04-27T20:18:37.709Z"
   },
   {
    "duration": 18,
    "start_time": "2024-04-27T20:19:16.651Z"
   },
   {
    "duration": 8,
    "start_time": "2024-04-27T20:20:51.536Z"
   },
   {
    "duration": 9,
    "start_time": "2024-04-27T20:21:36.629Z"
   },
   {
    "duration": 12,
    "start_time": "2024-04-27T20:32:44.106Z"
   },
   {
    "duration": 9,
    "start_time": "2024-04-27T20:34:27.448Z"
   },
   {
    "duration": 29,
    "start_time": "2024-04-27T20:41:34.917Z"
   },
   {
    "duration": 45,
    "start_time": "2024-04-27T20:41:46.492Z"
   },
   {
    "duration": 45,
    "start_time": "2024-04-27T20:46:07.074Z"
   },
   {
    "duration": 44,
    "start_time": "2024-04-27T20:46:29.445Z"
   },
   {
    "duration": 42,
    "start_time": "2024-04-27T20:47:24.074Z"
   },
   {
    "duration": 44,
    "start_time": "2024-04-27T20:47:53.044Z"
   },
   {
    "duration": 47,
    "start_time": "2024-04-27T20:48:10.520Z"
   },
   {
    "duration": 49,
    "start_time": "2024-04-27T20:48:26.643Z"
   },
   {
    "duration": 49,
    "start_time": "2024-04-27T21:22:07.855Z"
   },
   {
    "duration": 48,
    "start_time": "2024-04-27T21:22:31.545Z"
   },
   {
    "duration": 609,
    "start_time": "2024-04-27T21:23:15.323Z"
   },
   {
    "duration": 127,
    "start_time": "2024-04-27T21:23:15.934Z"
   },
   {
    "duration": 37,
    "start_time": "2024-04-27T21:23:16.063Z"
   },
   {
    "duration": 1943,
    "start_time": "2024-04-27T21:23:16.102Z"
   },
   {
    "duration": 25,
    "start_time": "2024-04-27T21:23:18.046Z"
   },
   {
    "duration": 20,
    "start_time": "2024-04-27T21:23:18.073Z"
   },
   {
    "duration": 8,
    "start_time": "2024-04-27T21:23:18.095Z"
   },
   {
    "duration": 9,
    "start_time": "2024-04-27T21:23:18.105Z"
   },
   {
    "duration": 5,
    "start_time": "2024-04-27T21:23:18.116Z"
   },
   {
    "duration": 7,
    "start_time": "2024-04-27T21:23:18.124Z"
   },
   {
    "duration": 8,
    "start_time": "2024-04-27T21:23:18.132Z"
   },
   {
    "duration": 57,
    "start_time": "2024-04-27T21:23:18.142Z"
   },
   {
    "duration": 4,
    "start_time": "2024-04-27T21:23:18.201Z"
   },
   {
    "duration": 8,
    "start_time": "2024-04-27T21:23:18.207Z"
   },
   {
    "duration": 10,
    "start_time": "2024-04-27T21:23:18.217Z"
   },
   {
    "duration": 3,
    "start_time": "2024-04-27T21:23:18.229Z"
   },
   {
    "duration": 4,
    "start_time": "2024-04-27T21:23:18.234Z"
   },
   {
    "duration": 52,
    "start_time": "2024-04-27T21:23:18.240Z"
   },
   {
    "duration": 24,
    "start_time": "2024-04-27T21:23:18.294Z"
   },
   {
    "duration": 22,
    "start_time": "2024-04-27T21:23:18.320Z"
   },
   {
    "duration": 93,
    "start_time": "2024-04-27T21:23:18.344Z"
   },
   {
    "duration": 23,
    "start_time": "2024-04-27T21:23:18.438Z"
   },
   {
    "duration": 38,
    "start_time": "2024-04-27T21:23:18.463Z"
   },
   {
    "duration": 13,
    "start_time": "2024-04-27T21:23:18.503Z"
   },
   {
    "duration": 10,
    "start_time": "2024-04-27T21:23:18.517Z"
   },
   {
    "duration": 5,
    "start_time": "2024-04-27T21:23:18.529Z"
   },
   {
    "duration": 56,
    "start_time": "2024-04-27T21:23:18.537Z"
   },
   {
    "duration": 6,
    "start_time": "2024-04-27T21:23:18.598Z"
   },
   {
    "duration": 7,
    "start_time": "2024-04-27T21:23:18.606Z"
   },
   {
    "duration": 323,
    "start_time": "2024-04-27T21:23:18.614Z"
   },
   {
    "duration": 5,
    "start_time": "2024-04-27T21:23:18.938Z"
   },
   {
    "duration": 35,
    "start_time": "2024-04-27T21:23:18.945Z"
   },
   {
    "duration": 25,
    "start_time": "2024-04-27T21:23:18.982Z"
   },
   {
    "duration": 236,
    "start_time": "2024-04-27T21:23:19.009Z"
   },
   {
    "duration": 339,
    "start_time": "2024-04-27T21:23:19.247Z"
   },
   {
    "duration": 179,
    "start_time": "2024-04-27T21:23:19.588Z"
   },
   {
    "duration": 331,
    "start_time": "2024-04-27T21:23:19.769Z"
   },
   {
    "duration": 162,
    "start_time": "2024-04-27T21:23:20.102Z"
   },
   {
    "duration": 181,
    "start_time": "2024-04-27T21:23:20.266Z"
   },
   {
    "duration": 176,
    "start_time": "2024-04-27T21:23:20.449Z"
   },
   {
    "duration": 187,
    "start_time": "2024-04-27T21:23:20.627Z"
   },
   {
    "duration": 398,
    "start_time": "2024-04-27T21:23:20.816Z"
   },
   {
    "duration": 375,
    "start_time": "2024-04-27T21:23:21.216Z"
   },
   {
    "duration": 273,
    "start_time": "2024-04-27T21:23:21.593Z"
   },
   {
    "duration": 218,
    "start_time": "2024-04-27T21:23:21.868Z"
   },
   {
    "duration": 205,
    "start_time": "2024-04-27T21:23:22.088Z"
   },
   {
    "duration": 197,
    "start_time": "2024-04-27T21:23:22.295Z"
   },
   {
    "duration": 189,
    "start_time": "2024-04-27T21:23:22.494Z"
   },
   {
    "duration": 189,
    "start_time": "2024-04-27T21:23:22.685Z"
   },
   {
    "duration": 196,
    "start_time": "2024-04-27T21:23:22.877Z"
   },
   {
    "duration": 200,
    "start_time": "2024-04-27T21:23:23.075Z"
   },
   {
    "duration": 285,
    "start_time": "2024-04-27T21:23:23.277Z"
   },
   {
    "duration": 63,
    "start_time": "2024-04-27T21:23:23.564Z"
   },
   {
    "duration": 33,
    "start_time": "2024-04-27T21:23:23.630Z"
   },
   {
    "duration": 26,
    "start_time": "2024-04-27T21:23:23.665Z"
   },
   {
    "duration": 172,
    "start_time": "2024-04-27T21:23:23.694Z"
   },
   {
    "duration": 35,
    "start_time": "2024-04-27T21:23:23.868Z"
   },
   {
    "duration": 45,
    "start_time": "2024-04-27T21:23:38.714Z"
   },
   {
    "duration": 48,
    "start_time": "2024-04-27T21:23:45.409Z"
   },
   {
    "duration": 28,
    "start_time": "2024-04-27T22:06:25.341Z"
   },
   {
    "duration": 55,
    "start_time": "2024-04-27T22:06:34.001Z"
   },
   {
    "duration": 5,
    "start_time": "2024-04-27T22:11:37.475Z"
   },
   {
    "duration": 11,
    "start_time": "2024-04-27T22:12:23.677Z"
   },
   {
    "duration": 12,
    "start_time": "2024-04-27T22:13:08.832Z"
   },
   {
    "duration": 30,
    "start_time": "2024-04-27T22:17:18.769Z"
   },
   {
    "duration": 25,
    "start_time": "2024-04-27T22:17:25.458Z"
   },
   {
    "duration": 4,
    "start_time": "2024-04-27T22:18:13.937Z"
   },
   {
    "duration": 7,
    "start_time": "2024-04-27T22:20:46.682Z"
   },
   {
    "duration": 8,
    "start_time": "2024-04-27T22:21:01.077Z"
   },
   {
    "duration": 94,
    "start_time": "2024-04-27T22:22:53.631Z"
   },
   {
    "duration": 865,
    "start_time": "2024-04-27T22:25:33.297Z"
   },
   {
    "duration": 122,
    "start_time": "2024-04-27T22:25:34.164Z"
   },
   {
    "duration": 35,
    "start_time": "2024-04-27T22:25:34.288Z"
   },
   {
    "duration": 1927,
    "start_time": "2024-04-27T22:25:34.325Z"
   },
   {
    "duration": 26,
    "start_time": "2024-04-27T22:25:36.254Z"
   },
   {
    "duration": 9,
    "start_time": "2024-04-27T22:25:36.282Z"
   },
   {
    "duration": 9,
    "start_time": "2024-04-27T22:25:36.293Z"
   },
   {
    "duration": 19,
    "start_time": "2024-04-27T22:25:36.303Z"
   },
   {
    "duration": 5,
    "start_time": "2024-04-27T22:25:36.324Z"
   },
   {
    "duration": 17,
    "start_time": "2024-04-27T22:25:36.330Z"
   },
   {
    "duration": 16,
    "start_time": "2024-04-27T22:25:36.348Z"
   },
   {
    "duration": 10,
    "start_time": "2024-04-27T22:25:36.365Z"
   },
   {
    "duration": 15,
    "start_time": "2024-04-27T22:25:36.377Z"
   },
   {
    "duration": 8,
    "start_time": "2024-04-27T22:25:36.395Z"
   },
   {
    "duration": 10,
    "start_time": "2024-04-27T22:25:36.405Z"
   },
   {
    "duration": 2,
    "start_time": "2024-04-27T22:25:36.416Z"
   },
   {
    "duration": 4,
    "start_time": "2024-04-27T22:25:36.420Z"
   },
   {
    "duration": 5,
    "start_time": "2024-04-27T22:25:36.425Z"
   },
   {
    "duration": 28,
    "start_time": "2024-04-27T22:25:36.431Z"
   },
   {
    "duration": 18,
    "start_time": "2024-04-27T22:25:36.491Z"
   },
   {
    "duration": 49,
    "start_time": "2024-04-27T22:25:36.510Z"
   },
   {
    "duration": 40,
    "start_time": "2024-04-27T22:25:36.560Z"
   },
   {
    "duration": 18,
    "start_time": "2024-04-27T22:25:36.601Z"
   },
   {
    "duration": 25,
    "start_time": "2024-04-27T22:25:36.620Z"
   },
   {
    "duration": 7,
    "start_time": "2024-04-27T22:25:36.647Z"
   },
   {
    "duration": 4,
    "start_time": "2024-04-27T22:25:36.655Z"
   },
   {
    "duration": 6,
    "start_time": "2024-04-27T22:25:36.661Z"
   },
   {
    "duration": 25,
    "start_time": "2024-04-27T22:25:36.669Z"
   },
   {
    "duration": 6,
    "start_time": "2024-04-27T22:25:36.696Z"
   },
   {
    "duration": 313,
    "start_time": "2024-04-27T22:25:36.704Z"
   },
   {
    "duration": 4,
    "start_time": "2024-04-27T22:25:37.018Z"
   },
   {
    "duration": 29,
    "start_time": "2024-04-27T22:25:37.023Z"
   },
   {
    "duration": 17,
    "start_time": "2024-04-27T22:25:37.053Z"
   },
   {
    "duration": 212,
    "start_time": "2024-04-27T22:25:37.071Z"
   },
   {
    "duration": 328,
    "start_time": "2024-04-27T22:25:37.284Z"
   },
   {
    "duration": 171,
    "start_time": "2024-04-27T22:25:37.613Z"
   },
   {
    "duration": 279,
    "start_time": "2024-04-27T22:25:37.786Z"
   },
   {
    "duration": 178,
    "start_time": "2024-04-27T22:25:38.067Z"
   },
   {
    "duration": 189,
    "start_time": "2024-04-27T22:25:38.247Z"
   },
   {
    "duration": 162,
    "start_time": "2024-04-27T22:25:38.438Z"
   },
   {
    "duration": 188,
    "start_time": "2024-04-27T22:25:38.606Z"
   },
   {
    "duration": 380,
    "start_time": "2024-04-27T22:25:38.796Z"
   },
   {
    "duration": 371,
    "start_time": "2024-04-27T22:25:39.178Z"
   },
   {
    "duration": 297,
    "start_time": "2024-04-27T22:25:39.551Z"
   },
   {
    "duration": 226,
    "start_time": "2024-04-27T22:25:39.850Z"
   },
   {
    "duration": 192,
    "start_time": "2024-04-27T22:25:40.077Z"
   },
   {
    "duration": 185,
    "start_time": "2024-04-27T22:25:40.270Z"
   },
   {
    "duration": 179,
    "start_time": "2024-04-27T22:25:40.457Z"
   },
   {
    "duration": 166,
    "start_time": "2024-04-27T22:25:40.638Z"
   },
   {
    "duration": 192,
    "start_time": "2024-04-27T22:25:40.805Z"
   },
   {
    "duration": 195,
    "start_time": "2024-04-27T22:25:40.999Z"
   },
   {
    "duration": 302,
    "start_time": "2024-04-27T22:25:41.195Z"
   },
   {
    "duration": 25,
    "start_time": "2024-04-27T22:25:41.498Z"
   },
   {
    "duration": 41,
    "start_time": "2024-04-27T22:25:41.524Z"
   },
   {
    "duration": 25,
    "start_time": "2024-04-27T22:25:41.567Z"
   },
   {
    "duration": 172,
    "start_time": "2024-04-27T22:25:41.593Z"
   },
   {
    "duration": 18,
    "start_time": "2024-04-27T22:25:41.767Z"
   },
   {
    "duration": 717,
    "start_time": "2024-05-13T14:58:15.593Z"
   },
   {
    "duration": 238,
    "start_time": "2024-05-13T14:58:16.312Z"
   },
   {
    "duration": 32,
    "start_time": "2024-05-13T14:58:16.552Z"
   },
   {
    "duration": 1968,
    "start_time": "2024-05-13T14:58:16.586Z"
   },
   {
    "duration": 31,
    "start_time": "2024-05-13T14:58:18.556Z"
   },
   {
    "duration": 8,
    "start_time": "2024-05-13T14:58:18.588Z"
   },
   {
    "duration": 22,
    "start_time": "2024-05-13T14:58:18.597Z"
   },
   {
    "duration": 57,
    "start_time": "2024-05-13T14:58:18.620Z"
   },
   {
    "duration": 14,
    "start_time": "2024-05-13T14:58:18.678Z"
   },
   {
    "duration": 41,
    "start_time": "2024-05-13T14:58:18.694Z"
   },
   {
    "duration": 34,
    "start_time": "2024-05-13T14:58:18.737Z"
   },
   {
    "duration": 29,
    "start_time": "2024-05-13T14:58:18.773Z"
   },
   {
    "duration": 27,
    "start_time": "2024-05-13T14:58:18.803Z"
   },
   {
    "duration": 26,
    "start_time": "2024-05-13T14:58:18.831Z"
   },
   {
    "duration": 19,
    "start_time": "2024-05-13T14:58:18.858Z"
   },
   {
    "duration": 6,
    "start_time": "2024-05-13T14:58:18.878Z"
   },
   {
    "duration": 8,
    "start_time": "2024-05-13T14:58:18.885Z"
   },
   {
    "duration": 12,
    "start_time": "2024-05-13T14:58:18.894Z"
   },
   {
    "duration": 23,
    "start_time": "2024-05-13T14:58:18.908Z"
   },
   {
    "duration": 30,
    "start_time": "2024-05-13T14:58:18.933Z"
   },
   {
    "duration": 48,
    "start_time": "2024-05-13T14:58:18.965Z"
   },
   {
    "duration": 19,
    "start_time": "2024-05-13T14:58:19.014Z"
   },
   {
    "duration": 26,
    "start_time": "2024-05-13T14:58:19.034Z"
   },
   {
    "duration": 24,
    "start_time": "2024-05-13T14:58:19.061Z"
   },
   {
    "duration": 18,
    "start_time": "2024-05-13T14:58:19.086Z"
   },
   {
    "duration": 28,
    "start_time": "2024-05-13T14:58:19.105Z"
   },
   {
    "duration": 28,
    "start_time": "2024-05-13T14:58:19.134Z"
   },
   {
    "duration": 21,
    "start_time": "2024-05-13T14:58:19.166Z"
   },
   {
    "duration": 24,
    "start_time": "2024-05-13T14:58:19.188Z"
   },
   {
    "duration": 266,
    "start_time": "2024-05-13T14:58:19.213Z"
   },
   {
    "duration": 5,
    "start_time": "2024-05-13T14:58:19.480Z"
   },
   {
    "duration": 42,
    "start_time": "2024-05-13T14:58:19.486Z"
   },
   {
    "duration": 15,
    "start_time": "2024-05-13T14:58:19.529Z"
   },
   {
    "duration": 209,
    "start_time": "2024-05-13T14:58:19.546Z"
   },
   {
    "duration": 327,
    "start_time": "2024-05-13T14:58:19.757Z"
   },
   {
    "duration": 150,
    "start_time": "2024-05-13T14:58:20.086Z"
   },
   {
    "duration": 260,
    "start_time": "2024-05-13T14:58:20.244Z"
   },
   {
    "duration": 154,
    "start_time": "2024-05-13T14:58:20.506Z"
   },
   {
    "duration": 163,
    "start_time": "2024-05-13T14:58:20.661Z"
   },
   {
    "duration": 149,
    "start_time": "2024-05-13T14:58:20.825Z"
   },
   {
    "duration": 183,
    "start_time": "2024-05-13T14:58:20.975Z"
   },
   {
    "duration": 392,
    "start_time": "2024-05-13T14:58:21.160Z"
   },
   {
    "duration": 349,
    "start_time": "2024-05-13T14:58:21.562Z"
   },
   {
    "duration": 277,
    "start_time": "2024-05-13T14:58:21.912Z"
   },
   {
    "duration": 194,
    "start_time": "2024-05-13T14:58:22.191Z"
   },
   {
    "duration": 194,
    "start_time": "2024-05-13T14:58:22.387Z"
   },
   {
    "duration": 189,
    "start_time": "2024-05-13T14:58:22.583Z"
   },
   {
    "duration": 194,
    "start_time": "2024-05-13T14:58:22.774Z"
   },
   {
    "duration": 171,
    "start_time": "2024-05-13T14:58:22.969Z"
   },
   {
    "duration": 177,
    "start_time": "2024-05-13T14:58:23.145Z"
   },
   {
    "duration": 187,
    "start_time": "2024-05-13T14:58:23.324Z"
   },
   {
    "duration": 253,
    "start_time": "2024-05-13T14:58:23.513Z"
   },
   {
    "duration": 25,
    "start_time": "2024-05-13T14:58:23.767Z"
   },
   {
    "duration": 6,
    "start_time": "2024-05-13T14:58:23.793Z"
   },
   {
    "duration": 37,
    "start_time": "2024-05-13T14:58:23.801Z"
   },
   {
    "duration": 174,
    "start_time": "2024-05-13T14:58:23.839Z"
   },
   {
    "duration": 18,
    "start_time": "2024-05-13T14:58:24.014Z"
   },
   {
    "duration": 12,
    "start_time": "2024-05-13T14:58:40.830Z"
   },
   {
    "duration": 783,
    "start_time": "2024-12-07T15:17:10.387Z"
   },
   {
    "duration": 171,
    "start_time": "2024-12-07T15:17:11.172Z"
   },
   {
    "duration": 32,
    "start_time": "2024-12-07T15:17:11.345Z"
   },
   {
    "duration": 1888,
    "start_time": "2024-12-07T15:17:11.378Z"
   },
   {
    "duration": 23,
    "start_time": "2024-12-07T15:17:13.268Z"
   },
   {
    "duration": 4,
    "start_time": "2024-12-07T15:17:13.292Z"
   },
   {
    "duration": 12,
    "start_time": "2024-12-07T15:17:13.297Z"
   },
   {
    "duration": 8,
    "start_time": "2024-12-07T15:17:13.310Z"
   },
   {
    "duration": 5,
    "start_time": "2024-12-07T15:17:13.320Z"
   },
   {
    "duration": 18,
    "start_time": "2024-12-07T15:17:13.328Z"
   },
   {
    "duration": 23,
    "start_time": "2024-12-07T15:17:13.348Z"
   },
   {
    "duration": 9,
    "start_time": "2024-12-07T15:17:13.373Z"
   },
   {
    "duration": 4,
    "start_time": "2024-12-07T15:17:13.383Z"
   },
   {
    "duration": 8,
    "start_time": "2024-12-07T15:17:13.388Z"
   },
   {
    "duration": 26,
    "start_time": "2024-12-07T15:17:13.397Z"
   },
   {
    "duration": 62,
    "start_time": "2024-12-07T15:17:13.425Z"
   },
   {
    "duration": 6,
    "start_time": "2024-12-07T15:17:13.489Z"
   },
   {
    "duration": 8,
    "start_time": "2024-12-07T15:17:13.497Z"
   },
   {
    "duration": 30,
    "start_time": "2024-12-07T15:17:13.506Z"
   },
   {
    "duration": 18,
    "start_time": "2024-12-07T15:17:13.537Z"
   },
   {
    "duration": 118,
    "start_time": "2024-12-07T15:17:13.557Z"
   },
   {
    "duration": 19,
    "start_time": "2024-12-07T15:17:13.677Z"
   },
   {
    "duration": 22,
    "start_time": "2024-12-07T15:17:13.698Z"
   },
   {
    "duration": 11,
    "start_time": "2024-12-07T15:17:13.722Z"
   },
   {
    "duration": 10,
    "start_time": "2024-12-07T15:17:13.735Z"
   },
   {
    "duration": 26,
    "start_time": "2024-12-07T15:17:13.746Z"
   },
   {
    "duration": 6,
    "start_time": "2024-12-07T15:17:13.773Z"
   },
   {
    "duration": 22,
    "start_time": "2024-12-07T15:17:13.782Z"
   },
   {
    "duration": 5,
    "start_time": "2024-12-07T15:17:13.806Z"
   },
   {
    "duration": 274,
    "start_time": "2024-12-07T15:17:13.813Z"
   },
   {
    "duration": 4,
    "start_time": "2024-12-07T15:17:14.089Z"
   },
   {
    "duration": 31,
    "start_time": "2024-12-07T15:17:14.094Z"
   },
   {
    "duration": 32,
    "start_time": "2024-12-07T15:17:14.126Z"
   },
   {
    "duration": 279,
    "start_time": "2024-12-07T15:17:14.159Z"
   },
   {
    "duration": 331,
    "start_time": "2024-12-07T15:17:14.440Z"
   },
   {
    "duration": 171,
    "start_time": "2024-12-07T15:17:14.773Z"
   },
   {
    "duration": 270,
    "start_time": "2024-12-07T15:17:14.946Z"
   },
   {
    "duration": 167,
    "start_time": "2024-12-07T15:17:15.218Z"
   },
   {
    "duration": 171,
    "start_time": "2024-12-07T15:17:15.386Z"
   },
   {
    "duration": 162,
    "start_time": "2024-12-07T15:17:15.559Z"
   },
   {
    "duration": 183,
    "start_time": "2024-12-07T15:17:15.723Z"
   },
   {
    "duration": 365,
    "start_time": "2024-12-07T15:17:15.908Z"
   },
   {
    "duration": 359,
    "start_time": "2024-12-07T15:17:16.274Z"
   },
   {
    "duration": 270,
    "start_time": "2024-12-07T15:17:16.634Z"
   },
   {
    "duration": 187,
    "start_time": "2024-12-07T15:17:16.905Z"
   },
   {
    "duration": 188,
    "start_time": "2024-12-07T15:17:17.093Z"
   },
   {
    "duration": 181,
    "start_time": "2024-12-07T15:17:17.282Z"
   },
   {
    "duration": 176,
    "start_time": "2024-12-07T15:17:17.468Z"
   },
   {
    "duration": 174,
    "start_time": "2024-12-07T15:17:17.645Z"
   },
   {
    "duration": 191,
    "start_time": "2024-12-07T15:17:17.820Z"
   },
   {
    "duration": 177,
    "start_time": "2024-12-07T15:17:18.013Z"
   },
   {
    "duration": 260,
    "start_time": "2024-12-07T15:17:18.192Z"
   },
   {
    "duration": 33,
    "start_time": "2024-12-07T15:17:18.453Z"
   },
   {
    "duration": 7,
    "start_time": "2024-12-07T15:17:18.487Z"
   },
   {
    "duration": 28,
    "start_time": "2024-12-07T15:17:18.496Z"
   },
   {
    "duration": 162,
    "start_time": "2024-12-07T15:17:18.525Z"
   },
   {
    "duration": 19,
    "start_time": "2024-12-07T15:17:18.688Z"
   }
  ],
  "colab": {
   "provenance": []
  },
  "kernelspec": {
   "display_name": "Python 3 (ipykernel)",
   "language": "python",
   "name": "python3"
  },
  "language_info": {
   "codemirror_mode": {
    "name": "ipython",
    "version": 3
   },
   "file_extension": ".py",
   "mimetype": "text/x-python",
   "name": "python",
   "nbconvert_exporter": "python",
   "pygments_lexer": "ipython3",
   "version": "3.12.4"
  },
  "toc": {
   "base_numbering": 1,
   "nav_menu": {},
   "number_sections": true,
   "sideBar": true,
   "skip_h1_title": true,
   "title_cell": "Содержание",
   "title_sidebar": "Contents",
   "toc_cell": true,
   "toc_position": {
    "height": "calc(100% - 180px)",
    "left": "10px",
    "top": "150px",
    "width": "165px"
   },
   "toc_section_display": true,
   "toc_window_display": true
  }
 },
 "nbformat": 4,
 "nbformat_minor": 4
}
